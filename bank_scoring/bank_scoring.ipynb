{
 "cells": [
  {
   "cell_type": "markdown",
   "metadata": {
    "toc": true
   },
   "source": [
    "<h1>Содержание<span class=\"tocSkip\"></span></h1>\n",
    "<div class=\"toc\"><ul class=\"toc-item\"><li><span><a href=\"#Подготовка-данных\" data-toc-modified-id=\"Подготовка-данных-1\"><span class=\"toc-item-num\">1&nbsp;&nbsp;</span>Подготовка данных</a></span><ul class=\"toc-item\"><li><span><a href=\"#Обзор-данных\" data-toc-modified-id=\"Обзор-данных-1.1\"><span class=\"toc-item-num\">1.1&nbsp;&nbsp;</span>Обзор данных</a></span></li><li><span><a href=\"#Работа-с-пропусками\" data-toc-modified-id=\"Работа-с-пропусками-1.2\"><span class=\"toc-item-num\">1.2&nbsp;&nbsp;</span>Работа с пропусками</a></span></li><li><span><a href=\"#Разбиение-на-выборки\" data-toc-modified-id=\"Разбиение-на-выборки-1.3\"><span class=\"toc-item-num\">1.3&nbsp;&nbsp;</span>Разбиение на выборки</a></span></li></ul></li><li><span><a href=\"#Исследование-задачи\" data-toc-modified-id=\"Исследование-задачи-2\"><span class=\"toc-item-num\">2&nbsp;&nbsp;</span>Исследование задачи</a></span><ul class=\"toc-item\"><li><span><a href=\"#Решающее-дерево\" data-toc-modified-id=\"Решающее-дерево-2.1\"><span class=\"toc-item-num\">2.1&nbsp;&nbsp;</span>Решающее дерево</a></span></li><li><span><a href=\"#Случайный-лес\" data-toc-modified-id=\"Случайный-лес-2.2\"><span class=\"toc-item-num\">2.2&nbsp;&nbsp;</span>Случайный лес</a></span></li><li><span><a href=\"#Логистическая-регрессия\" data-toc-modified-id=\"Логистическая-регрессия-2.3\"><span class=\"toc-item-num\">2.3&nbsp;&nbsp;</span>Логистическая регрессия</a></span></li><li><span><a href=\"#LGBMClassifier\" data-toc-modified-id=\"LGBMClassifier-2.4\"><span class=\"toc-item-num\">2.4&nbsp;&nbsp;</span>LGBMClassifier</a></span></li><li><span><a href=\"#Заключение\" data-toc-modified-id=\"Заключение-2.5\"><span class=\"toc-item-num\">2.5&nbsp;&nbsp;</span>Заключение</a></span></li></ul></li><li><span><a href=\"#Борьба-с-дисбалансом\" data-toc-modified-id=\"Борьба-с-дисбалансом-3\"><span class=\"toc-item-num\">3&nbsp;&nbsp;</span>Борьба с дисбалансом</a></span><ul class=\"toc-item\"><li><span><a href=\"#Взвешивание-классов\" data-toc-modified-id=\"Взвешивание-классов-3.1\"><span class=\"toc-item-num\">3.1&nbsp;&nbsp;</span>Взвешивание классов</a></span><ul class=\"toc-item\"><li><span><a href=\"#Решающее-дерево\" data-toc-modified-id=\"Решающее-дерево-3.1.1\"><span class=\"toc-item-num\">3.1.1&nbsp;&nbsp;</span>Решающее дерево</a></span></li><li><span><a href=\"#Случайный-лес\" data-toc-modified-id=\"Случайный-лес-3.1.2\"><span class=\"toc-item-num\">3.1.2&nbsp;&nbsp;</span>Случайный лес</a></span></li><li><span><a href=\"#Логистическая-регрессия\" data-toc-modified-id=\"Логистическая-регрессия-3.1.3\"><span class=\"toc-item-num\">3.1.3&nbsp;&nbsp;</span>Логистическая регрессия</a></span></li><li><span><a href=\"#LGBMClassifier\" data-toc-modified-id=\"LGBMClassifier-3.1.4\"><span class=\"toc-item-num\">3.1.4&nbsp;&nbsp;</span>LGBMClassifier</a></span></li></ul></li><li><span><a href=\"#Увеличение-выборки\" data-toc-modified-id=\"Увеличение-выборки-3.2\"><span class=\"toc-item-num\">3.2&nbsp;&nbsp;</span>Увеличение выборки</a></span><ul class=\"toc-item\"><li><span><a href=\"#Решающее-дерево\" data-toc-modified-id=\"Решающее-дерево-3.2.1\"><span class=\"toc-item-num\">3.2.1&nbsp;&nbsp;</span>Решающее дерево</a></span></li><li><span><a href=\"#Случайный-лес\" data-toc-modified-id=\"Случайный-лес-3.2.2\"><span class=\"toc-item-num\">3.2.2&nbsp;&nbsp;</span>Случайный лес</a></span></li><li><span><a href=\"#Логистическая-регрессия\" data-toc-modified-id=\"Логистическая-регрессия-3.2.3\"><span class=\"toc-item-num\">3.2.3&nbsp;&nbsp;</span>Логистическая регрессия</a></span></li><li><span><a href=\"#LGBMClassifier\" data-toc-modified-id=\"LGBMClassifier-3.2.4\"><span class=\"toc-item-num\">3.2.4&nbsp;&nbsp;</span>LGBMClassifier</a></span></li></ul></li><li><span><a href=\"#Уменьшение-выборки\" data-toc-modified-id=\"Уменьшение-выборки-3.3\"><span class=\"toc-item-num\">3.3&nbsp;&nbsp;</span>Уменьшение выборки</a></span><ul class=\"toc-item\"><li><span><a href=\"#Решающее-дерево\" data-toc-modified-id=\"Решающее-дерево-3.3.1\"><span class=\"toc-item-num\">3.3.1&nbsp;&nbsp;</span>Решающее дерево</a></span></li><li><span><a href=\"#Случайный-лес\" data-toc-modified-id=\"Случайный-лес-3.3.2\"><span class=\"toc-item-num\">3.3.2&nbsp;&nbsp;</span>Случайный лес</a></span></li><li><span><a href=\"#Логистическая-регрессия\" data-toc-modified-id=\"Логистическая-регрессия-3.3.3\"><span class=\"toc-item-num\">3.3.3&nbsp;&nbsp;</span>Логистическая регрессия</a></span></li><li><span><a href=\"#LGBMClassifier\" data-toc-modified-id=\"LGBMClassifier-3.3.4\"><span class=\"toc-item-num\">3.3.4&nbsp;&nbsp;</span>LGBMClassifier</a></span></li></ul></li><li><span><a href=\"#Заключение\" data-toc-modified-id=\"Заключение-3.4\"><span class=\"toc-item-num\">3.4&nbsp;&nbsp;</span>Заключение</a></span></li></ul></li><li><span><a href=\"#Тестирование-модели\" data-toc-modified-id=\"Тестирование-модели-4\"><span class=\"toc-item-num\">4&nbsp;&nbsp;</span>Тестирование модели</a></span></li><li><span><a href=\"#Результаты\" data-toc-modified-id=\"Результаты-5\"><span class=\"toc-item-num\">5&nbsp;&nbsp;</span>Результаты</a></span></li></ul></div>"
   ]
  },
  {
   "cell_type": "markdown",
   "metadata": {},
   "source": [
    "# Отток клиентов"
   ]
  },
  {
   "cell_type": "markdown",
   "metadata": {},
   "source": [
    "**Цель**:\n",
    "\n",
    "Создать и обучить модель на исторических данных со значением F1-меры не менее 0.59, предсказывающую уход клиента из банка в ближайшее время.  \n",
    "\n",
    "**План проекта**:\n",
    "\n",
    " 1. Ознакомление с данными.\n",
    " 2. Подготовка данных:\n",
    "      - предобработка данных,\n",
    "      - определение значимых признаков,\n",
    "      - кодирование категориальных признаков,\n",
    "      - масштабирование численных признаков,\n",
    "      - деление данных на обучающую и тестовую выборки.\n",
    " 3. Исследование баланса классов.\n",
    " 4. Поиск и обучение моделей на дисбалансных данных.\n",
    " 5. Поиск и обучение моделей на данных сбалансированных:\n",
    "      - взвешиванием классов,\n",
    "      - увеличением выборки,\n",
    "      - уменьшением выборки.\n",
    " 7. Отбор моделей      \n",
    " 6. Изучение на тестовой выборке метрик лучшей модели:\n",
    "      - F1-мера, precision, recall, accuracy,\n",
    "      - Если F1 на тестовых данных < 0.59 - доработка модели\n",
    "      - ROC-кривая, AUC ROC \n",
    "      "
   ]
  },
  {
   "cell_type": "markdown",
   "metadata": {},
   "source": [
    "## Подготовка данных"
   ]
  },
  {
   "cell_type": "markdown",
   "metadata": {},
   "source": [
    "### Обзор данных"
   ]
  },
  {
   "cell_type": "code",
   "execution_count": 1,
   "metadata": {},
   "outputs": [],
   "source": [
    "!pip install lightgbm -q"
   ]
  },
  {
   "cell_type": "code",
   "execution_count": 2,
   "metadata": {},
   "outputs": [],
   "source": [
    "!pip install catboost -q"
   ]
  },
  {
   "cell_type": "code",
   "execution_count": 3,
   "metadata": {},
   "outputs": [],
   "source": [
    "!pip install imblearn -q"
   ]
  },
  {
   "cell_type": "code",
   "execution_count": 4,
   "metadata": {},
   "outputs": [],
   "source": [
    "# импорт необходимых библиотек\n",
    "import warnings \n",
    "import pandas as pd\n",
    "import numpy as np\n",
    "import matplotlib.pyplot as plt\n",
    "from sklearn.model_selection import train_test_split, GridSearchCV\n",
    "from sklearn.pipeline import make_pipeline\n",
    "from sklearn.compose import ColumnTransformer\n",
    "from sklearn.preprocessing import StandardScaler\n",
    "from sklearn.preprocessing import OrdinalEncoder\n",
    "from sklearn.preprocessing import OneHotEncoder\n",
    "from sklearn.tree import DecisionTreeClassifier\n",
    "from sklearn.ensemble import RandomForestClassifier\n",
    "from sklearn.linear_model import LogisticRegression\n",
    "from sklearn.metrics import (f1_score, accuracy_score, recall_score, \n",
    "                             precision_score, roc_curve, roc_auc_score)\n",
    "from sklearn.utils import shuffle\n",
    "from lightgbm import LGBMClassifier\n",
    "from catboost import CatBoostClassifier\n",
    "from imblearn.over_sampling import SMOTE\n",
    "from imblearn.under_sampling import RandomUnderSampler\n",
    "from imblearn.pipeline import make_pipeline"
   ]
  },
  {
   "cell_type": "code",
   "execution_count": 5,
   "metadata": {},
   "outputs": [],
   "source": [
    "# убираем предупреждения\n",
    "warnings.filterwarnings('ignore')"
   ]
  },
  {
   "cell_type": "markdown",
   "metadata": {},
   "source": [
    "Посмотрим на имеющиеся данные и общую информацию о них:"
   ]
  },
  {
   "cell_type": "code",
   "execution_count": 6,
   "metadata": {
    "scrolled": true
   },
   "outputs": [
    {
     "data": {
      "text/html": [
       "<div>\n",
       "<style scoped>\n",
       "    .dataframe tbody tr th:only-of-type {\n",
       "        vertical-align: middle;\n",
       "    }\n",
       "\n",
       "    .dataframe tbody tr th {\n",
       "        vertical-align: top;\n",
       "    }\n",
       "\n",
       "    .dataframe thead th {\n",
       "        text-align: right;\n",
       "    }\n",
       "</style>\n",
       "<table border=\"1\" class=\"dataframe\">\n",
       "  <thead>\n",
       "    <tr style=\"text-align: right;\">\n",
       "      <th></th>\n",
       "      <th>RowNumber</th>\n",
       "      <th>CustomerId</th>\n",
       "      <th>Surname</th>\n",
       "      <th>CreditScore</th>\n",
       "      <th>Geography</th>\n",
       "      <th>Gender</th>\n",
       "      <th>Age</th>\n",
       "      <th>Tenure</th>\n",
       "      <th>Balance</th>\n",
       "      <th>NumOfProducts</th>\n",
       "      <th>HasCrCard</th>\n",
       "      <th>IsActiveMember</th>\n",
       "      <th>EstimatedSalary</th>\n",
       "      <th>Exited</th>\n",
       "    </tr>\n",
       "  </thead>\n",
       "  <tbody>\n",
       "    <tr>\n",
       "      <th>0</th>\n",
       "      <td>1</td>\n",
       "      <td>15634602</td>\n",
       "      <td>Hargrave</td>\n",
       "      <td>619</td>\n",
       "      <td>France</td>\n",
       "      <td>Female</td>\n",
       "      <td>42</td>\n",
       "      <td>2.0</td>\n",
       "      <td>0.00</td>\n",
       "      <td>1</td>\n",
       "      <td>1</td>\n",
       "      <td>1</td>\n",
       "      <td>101348.88</td>\n",
       "      <td>1</td>\n",
       "    </tr>\n",
       "    <tr>\n",
       "      <th>1</th>\n",
       "      <td>2</td>\n",
       "      <td>15647311</td>\n",
       "      <td>Hill</td>\n",
       "      <td>608</td>\n",
       "      <td>Spain</td>\n",
       "      <td>Female</td>\n",
       "      <td>41</td>\n",
       "      <td>1.0</td>\n",
       "      <td>83807.86</td>\n",
       "      <td>1</td>\n",
       "      <td>0</td>\n",
       "      <td>1</td>\n",
       "      <td>112542.58</td>\n",
       "      <td>0</td>\n",
       "    </tr>\n",
       "    <tr>\n",
       "      <th>2</th>\n",
       "      <td>3</td>\n",
       "      <td>15619304</td>\n",
       "      <td>Onio</td>\n",
       "      <td>502</td>\n",
       "      <td>France</td>\n",
       "      <td>Female</td>\n",
       "      <td>42</td>\n",
       "      <td>8.0</td>\n",
       "      <td>159660.80</td>\n",
       "      <td>3</td>\n",
       "      <td>1</td>\n",
       "      <td>0</td>\n",
       "      <td>113931.57</td>\n",
       "      <td>1</td>\n",
       "    </tr>\n",
       "    <tr>\n",
       "      <th>3</th>\n",
       "      <td>4</td>\n",
       "      <td>15701354</td>\n",
       "      <td>Boni</td>\n",
       "      <td>699</td>\n",
       "      <td>France</td>\n",
       "      <td>Female</td>\n",
       "      <td>39</td>\n",
       "      <td>1.0</td>\n",
       "      <td>0.00</td>\n",
       "      <td>2</td>\n",
       "      <td>0</td>\n",
       "      <td>0</td>\n",
       "      <td>93826.63</td>\n",
       "      <td>0</td>\n",
       "    </tr>\n",
       "    <tr>\n",
       "      <th>4</th>\n",
       "      <td>5</td>\n",
       "      <td>15737888</td>\n",
       "      <td>Mitchell</td>\n",
       "      <td>850</td>\n",
       "      <td>Spain</td>\n",
       "      <td>Female</td>\n",
       "      <td>43</td>\n",
       "      <td>2.0</td>\n",
       "      <td>125510.82</td>\n",
       "      <td>1</td>\n",
       "      <td>1</td>\n",
       "      <td>1</td>\n",
       "      <td>79084.10</td>\n",
       "      <td>0</td>\n",
       "    </tr>\n",
       "    <tr>\n",
       "      <th>5</th>\n",
       "      <td>6</td>\n",
       "      <td>15574012</td>\n",
       "      <td>Chu</td>\n",
       "      <td>645</td>\n",
       "      <td>Spain</td>\n",
       "      <td>Male</td>\n",
       "      <td>44</td>\n",
       "      <td>8.0</td>\n",
       "      <td>113755.78</td>\n",
       "      <td>2</td>\n",
       "      <td>1</td>\n",
       "      <td>0</td>\n",
       "      <td>149756.71</td>\n",
       "      <td>1</td>\n",
       "    </tr>\n",
       "    <tr>\n",
       "      <th>6</th>\n",
       "      <td>7</td>\n",
       "      <td>15592531</td>\n",
       "      <td>Bartlett</td>\n",
       "      <td>822</td>\n",
       "      <td>France</td>\n",
       "      <td>Male</td>\n",
       "      <td>50</td>\n",
       "      <td>7.0</td>\n",
       "      <td>0.00</td>\n",
       "      <td>2</td>\n",
       "      <td>1</td>\n",
       "      <td>1</td>\n",
       "      <td>10062.80</td>\n",
       "      <td>0</td>\n",
       "    </tr>\n",
       "    <tr>\n",
       "      <th>7</th>\n",
       "      <td>8</td>\n",
       "      <td>15656148</td>\n",
       "      <td>Obinna</td>\n",
       "      <td>376</td>\n",
       "      <td>Germany</td>\n",
       "      <td>Female</td>\n",
       "      <td>29</td>\n",
       "      <td>4.0</td>\n",
       "      <td>115046.74</td>\n",
       "      <td>4</td>\n",
       "      <td>1</td>\n",
       "      <td>0</td>\n",
       "      <td>119346.88</td>\n",
       "      <td>1</td>\n",
       "    </tr>\n",
       "    <tr>\n",
       "      <th>8</th>\n",
       "      <td>9</td>\n",
       "      <td>15792365</td>\n",
       "      <td>He</td>\n",
       "      <td>501</td>\n",
       "      <td>France</td>\n",
       "      <td>Male</td>\n",
       "      <td>44</td>\n",
       "      <td>4.0</td>\n",
       "      <td>142051.07</td>\n",
       "      <td>2</td>\n",
       "      <td>0</td>\n",
       "      <td>1</td>\n",
       "      <td>74940.50</td>\n",
       "      <td>0</td>\n",
       "    </tr>\n",
       "    <tr>\n",
       "      <th>9</th>\n",
       "      <td>10</td>\n",
       "      <td>15592389</td>\n",
       "      <td>H?</td>\n",
       "      <td>684</td>\n",
       "      <td>France</td>\n",
       "      <td>Male</td>\n",
       "      <td>27</td>\n",
       "      <td>2.0</td>\n",
       "      <td>134603.88</td>\n",
       "      <td>1</td>\n",
       "      <td>1</td>\n",
       "      <td>1</td>\n",
       "      <td>71725.73</td>\n",
       "      <td>0</td>\n",
       "    </tr>\n",
       "  </tbody>\n",
       "</table>\n",
       "</div>"
      ],
      "text/plain": [
       "   RowNumber  CustomerId   Surname  CreditScore Geography  Gender  Age  \\\n",
       "0          1    15634602  Hargrave          619    France  Female   42   \n",
       "1          2    15647311      Hill          608     Spain  Female   41   \n",
       "2          3    15619304      Onio          502    France  Female   42   \n",
       "3          4    15701354      Boni          699    France  Female   39   \n",
       "4          5    15737888  Mitchell          850     Spain  Female   43   \n",
       "5          6    15574012       Chu          645     Spain    Male   44   \n",
       "6          7    15592531  Bartlett          822    France    Male   50   \n",
       "7          8    15656148    Obinna          376   Germany  Female   29   \n",
       "8          9    15792365        He          501    France    Male   44   \n",
       "9         10    15592389        H?          684    France    Male   27   \n",
       "\n",
       "   Tenure    Balance  NumOfProducts  HasCrCard  IsActiveMember  \\\n",
       "0     2.0       0.00              1          1               1   \n",
       "1     1.0   83807.86              1          0               1   \n",
       "2     8.0  159660.80              3          1               0   \n",
       "3     1.0       0.00              2          0               0   \n",
       "4     2.0  125510.82              1          1               1   \n",
       "5     8.0  113755.78              2          1               0   \n",
       "6     7.0       0.00              2          1               1   \n",
       "7     4.0  115046.74              4          1               0   \n",
       "8     4.0  142051.07              2          0               1   \n",
       "9     2.0  134603.88              1          1               1   \n",
       "\n",
       "   EstimatedSalary  Exited  \n",
       "0        101348.88       1  \n",
       "1        112542.58       0  \n",
       "2        113931.57       1  \n",
       "3         93826.63       0  \n",
       "4         79084.10       0  \n",
       "5        149756.71       1  \n",
       "6         10062.80       0  \n",
       "7        119346.88       1  \n",
       "8         74940.50       0  \n",
       "9         71725.73       0  "
      ]
     },
     "execution_count": 6,
     "metadata": {},
     "output_type": "execute_result"
    }
   ],
   "source": [
    "try:\n",
    "    df = pd.read_csv('Churn.csv')\n",
    "    \n",
    "except:\n",
    "    df = pd.read_csv('/datasets/Churn.csv')\n",
    "    \n",
    "df.head(10)"
   ]
  },
  {
   "cell_type": "code",
   "execution_count": 7,
   "metadata": {},
   "outputs": [
    {
     "name": "stdout",
     "output_type": "stream",
     "text": [
      "<class 'pandas.core.frame.DataFrame'>\n",
      "RangeIndex: 10000 entries, 0 to 9999\n",
      "Data columns (total 14 columns):\n",
      " #   Column           Non-Null Count  Dtype  \n",
      "---  ------           --------------  -----  \n",
      " 0   RowNumber        10000 non-null  int64  \n",
      " 1   CustomerId       10000 non-null  int64  \n",
      " 2   Surname          10000 non-null  object \n",
      " 3   CreditScore      10000 non-null  int64  \n",
      " 4   Geography        10000 non-null  object \n",
      " 5   Gender           10000 non-null  object \n",
      " 6   Age              10000 non-null  int64  \n",
      " 7   Tenure           9091 non-null   float64\n",
      " 8   Balance          10000 non-null  float64\n",
      " 9   NumOfProducts    10000 non-null  int64  \n",
      " 10  HasCrCard        10000 non-null  int64  \n",
      " 11  IsActiveMember   10000 non-null  int64  \n",
      " 12  EstimatedSalary  10000 non-null  float64\n",
      " 13  Exited           10000 non-null  int64  \n",
      "dtypes: float64(3), int64(8), object(3)\n",
      "memory usage: 1.1+ MB\n"
     ]
    }
   ],
   "source": [
    "df.info() "
   ]
  },
  {
   "cell_type": "markdown",
   "metadata": {},
   "source": [
    "**Столбцы *'RowNumber', 'CustomerId'* и *'Surname'* не представляют интереса для обучения модели**, поскольку уникальны для каждого клиента, а данные в столбцах ***'Geography'* и *'Gender'* необходимо закодировать**. Помимо этого **необходимо разобраться с пропусками в столбце *'Tenure'***. "
   ]
  },
  {
   "cell_type": "markdown",
   "metadata": {},
   "source": [
    "### Работа с пропусками"
   ]
  },
  {
   "cell_type": "markdown",
   "metadata": {},
   "source": [
    "Посмотрим поближе **на значения в столбце *'Tenure'* и их распределение**:"
   ]
  },
  {
   "cell_type": "code",
   "execution_count": 8,
   "metadata": {},
   "outputs": [
    {
     "data": {
      "text/plain": [
       "0.0     382\n",
       "10.0    446\n",
       "6.0     881\n",
       "9.0     882\n",
       "4.0     885\n",
       "NaN     909\n",
       "7.0     925\n",
       "5.0     927\n",
       "3.0     928\n",
       "8.0     933\n",
       "2.0     950\n",
       "1.0     952\n",
       "Name: Tenure, dtype: int64"
      ]
     },
     "execution_count": 8,
     "metadata": {},
     "output_type": "execute_result"
    }
   ],
   "source": [
    "df['Tenure'].value_counts(ascending=True, dropna=False)"
   ]
  },
  {
   "cell_type": "markdown",
   "metadata": {},
   "source": [
    "**Значения** в данном столбце **распределены довольно равномерно**. Чтобы не исказить данное распределение, **пропуски заполним случайным числом**. После заполнения пропусков **также сменим тип данных столбца на целочисленный**:"
   ]
  },
  {
   "cell_type": "code",
   "execution_count": 9,
   "metadata": {},
   "outputs": [],
   "source": [
    "df.loc[df['Tenure'].isna(), 'Tenure'] = 20 \n",
    "df['Tenure'] = df['Tenure'].astype(int)"
   ]
  },
  {
   "cell_type": "markdown",
   "metadata": {},
   "source": [
    "Поскольку для дальнейшей работы **столбцы 'RowNumber', 'CustomerId' и 'Surname'** интереса не представляют, **удалим** их. Также с помощью прямого кодирования **переведём категориальные переменные в численные** для корректной работы моделей:"
   ]
  },
  {
   "cell_type": "code",
   "execution_count": 10,
   "metadata": {
    "scrolled": true
   },
   "outputs": [],
   "source": [
    "df = df.drop(['RowNumber', 'CustomerId', 'Surname'], axis=1)  "
   ]
  },
  {
   "cell_type": "markdown",
   "metadata": {},
   "source": [
    "### Разбиение на выборки"
   ]
  },
  {
   "cell_type": "markdown",
   "metadata": {},
   "source": [
    "Для обучения и последующей оценки качества моделей **разделим данные на обучающую и тестовую выборки** в отношении 3 : 1. **Валидационная выборка не требуется**, так как будем использовать **кросс-валидацию**."
   ]
  },
  {
   "cell_type": "code",
   "execution_count": 11,
   "metadata": {},
   "outputs": [
    {
     "name": "stdout",
     "output_type": "stream",
     "text": [
      "7500 / 2500 / 7500 / 2500\n"
     ]
    }
   ],
   "source": [
    "# делим данные на обучающую (75%) и тестовую (25%) выборки: \n",
    "f_train, f_test, t_train, t_test = train_test_split(df.drop('Exited', axis=1), df['Exited'], stratify=df['Exited'],\n",
    "                                                    test_size=0.25, random_state=42)\n",
    "\n",
    "#проверка корректности разбиения\n",
    "print(f_train.shape[0], '/', f_test.shape[0], '/', t_train.shape[0], '/', t_test.shape[0])"
   ]
  },
  {
   "cell_type": "markdown",
   "metadata": {},
   "source": [
    "Для корректной работы моделей также **необходима предварительная подготовка численных и категориальных данных**. Поскольку обучение будем проводить с помощью кросс-валидации **для избежания утечки данных далее будем использовать конвеерную обработку**. Подготовим списки с численными и категориальными данными:    "
   ]
  },
  {
   "cell_type": "code",
   "execution_count": 12,
   "metadata": {},
   "outputs": [],
   "source": [
    "# списки столбцов с численными и категориальными переменными\n",
    "numeric = f_train.select_dtypes(include=['int64', 'float64']).columns.tolist()\n",
    "category = f_train.select_dtypes(include=['object']).columns.tolist()"
   ]
  },
  {
   "cell_type": "markdown",
   "metadata": {},
   "source": [
    "## Исследование задачи"
   ]
  },
  {
   "cell_type": "markdown",
   "metadata": {},
   "source": [
    "Нам **необходимо решить задачу бинарной классификации** - уйдёт клиент банка или нет (*'Exited'*). Посмотрим, **как распределены значения целевого признака**:"
   ]
  },
  {
   "cell_type": "code",
   "execution_count": 13,
   "metadata": {},
   "outputs": [
    {
     "data": {
      "text/plain": [
       "Exited\n",
       "0    7963\n",
       "1    2037\n",
       "Name: Exited, dtype: int64"
      ]
     },
     "execution_count": 13,
     "metadata": {},
     "output_type": "execute_result"
    }
   ],
   "source": [
    "df.groupby('Exited')['Exited'].count()"
   ]
  },
  {
   "cell_type": "markdown",
   "metadata": {},
   "source": [
    "**Есть дисбаланс классов** - объектов положительного класса почти в 4 раза меньше. Для начала **посмотрим**, как с задачей справятся **модели решающего дерева, случайного леса, логистической регрессии, а также модели с градиентным бустингом при дисбалансе**."
   ]
  },
  {
   "cell_type": "markdown",
   "metadata": {},
   "source": [
    "**Подбирать лучшие модели будем с помощью кросс-валидации**. **В качестве основного критерия качества будем использовать значение F1-меры** на тестовой выборке.  "
   ]
  },
  {
   "cell_type": "markdown",
   "metadata": {},
   "source": [
    "**Для удобства последующего сравнения метрик различных моделей, будем сохранять их** в списки: "
   ]
  },
  {
   "cell_type": "code",
   "execution_count": 14,
   "metadata": {},
   "outputs": [],
   "source": [
    "# списки метрик, полученных кросс-валидацией \n",
    "f1_cv_list = []            \n",
    "precision_cv_list = []     \n",
    "recall_cv_list = []        \n",
    "accuracy_cv_list = []      \n",
    "roc_auc_cv_list = []      "
   ]
  },
  {
   "cell_type": "code",
   "execution_count": 15,
   "metadata": {},
   "outputs": [],
   "source": [
    "def model_scoring(model):\n",
    "    \n",
    "# Сохраняет в заранее подготовленные списки F1-меру, точность, полноту, \n",
    "# долю правильных ответов и AUC ROC для лучшей модели, полученной кросс-валидацией.\n",
    "# Также выводит их на экран.\n",
    "    \n",
    "    f1 = model.best_score_\n",
    "    precision = model.cv_results_['mean_test_precision'][model.best_index_]\n",
    "    recall = model.cv_results_['mean_test_recall'][model.best_index_]\n",
    "    accuracy = model.cv_results_['mean_test_accuracy'][model.best_index_]\n",
    "    roc_auc = model.cv_results_['mean_test_roc_auc'][model.best_index_]\n",
    "    \n",
    "    f1_cv_list.append(f1)\n",
    "    precision_cv_list.append(precision)\n",
    "    recall_cv_list.append(recall)\n",
    "    accuracy_cv_list.append(accuracy)\n",
    "    roc_auc_cv_list.append(roc_auc)\n",
    "      \n",
    "    return display(f'F1-мера: {f1:.4f}', f'Precision: {precision:.4f}', \n",
    "                   f'Recall: {recall:.4f}', f'Accuracy: {accuracy:.4f}', \n",
    "                   f'ROC AUC: {roc_auc:.4f}')"
   ]
  },
  {
   "cell_type": "markdown",
   "metadata": {},
   "source": [
    "### Решающее дерево"
   ]
  },
  {
   "cell_type": "code",
   "execution_count": 16,
   "metadata": {},
   "outputs": [],
   "source": [
    "# создание pipeline для DecisionTreeClassifier\n",
    "pipe_tree_imb = make_pipeline(ColumnTransformer([('num', StandardScaler(), numeric), \n",
    "                                                 ('cat', OrdinalEncoder(), category)]),\n",
    "                              DecisionTreeClassifier(random_state=42))\n",
    "\n",
    "# сетка параметров для GridSearchCV\n",
    "param_grid_tree_imb = {'decisiontreeclassifier__max_depth' : [3, 4, 5, 6, 7, 8, 9, 10]}     "
   ]
  },
  {
   "cell_type": "code",
   "execution_count": 17,
   "metadata": {},
   "outputs": [
    {
     "name": "stdout",
     "output_type": "stream",
     "text": [
      "CPU times: total: 3.53 s\n",
      "Wall time: 3.55 s\n"
     ]
    },
    {
     "data": {
      "text/html": [
       "<style>#sk-container-id-1 {color: black;background-color: white;}#sk-container-id-1 pre{padding: 0;}#sk-container-id-1 div.sk-toggleable {background-color: white;}#sk-container-id-1 label.sk-toggleable__label {cursor: pointer;display: block;width: 100%;margin-bottom: 0;padding: 0.3em;box-sizing: border-box;text-align: center;}#sk-container-id-1 label.sk-toggleable__label-arrow:before {content: \"▸\";float: left;margin-right: 0.25em;color: #696969;}#sk-container-id-1 label.sk-toggleable__label-arrow:hover:before {color: black;}#sk-container-id-1 div.sk-estimator:hover label.sk-toggleable__label-arrow:before {color: black;}#sk-container-id-1 div.sk-toggleable__content {max-height: 0;max-width: 0;overflow: hidden;text-align: left;background-color: #f0f8ff;}#sk-container-id-1 div.sk-toggleable__content pre {margin: 0.2em;color: black;border-radius: 0.25em;background-color: #f0f8ff;}#sk-container-id-1 input.sk-toggleable__control:checked~div.sk-toggleable__content {max-height: 200px;max-width: 100%;overflow: auto;}#sk-container-id-1 input.sk-toggleable__control:checked~label.sk-toggleable__label-arrow:before {content: \"▾\";}#sk-container-id-1 div.sk-estimator input.sk-toggleable__control:checked~label.sk-toggleable__label {background-color: #d4ebff;}#sk-container-id-1 div.sk-label input.sk-toggleable__control:checked~label.sk-toggleable__label {background-color: #d4ebff;}#sk-container-id-1 input.sk-hidden--visually {border: 0;clip: rect(1px 1px 1px 1px);clip: rect(1px, 1px, 1px, 1px);height: 1px;margin: -1px;overflow: hidden;padding: 0;position: absolute;width: 1px;}#sk-container-id-1 div.sk-estimator {font-family: monospace;background-color: #f0f8ff;border: 1px dotted black;border-radius: 0.25em;box-sizing: border-box;margin-bottom: 0.5em;}#sk-container-id-1 div.sk-estimator:hover {background-color: #d4ebff;}#sk-container-id-1 div.sk-parallel-item::after {content: \"\";width: 100%;border-bottom: 1px solid gray;flex-grow: 1;}#sk-container-id-1 div.sk-label:hover label.sk-toggleable__label {background-color: #d4ebff;}#sk-container-id-1 div.sk-serial::before {content: \"\";position: absolute;border-left: 1px solid gray;box-sizing: border-box;top: 0;bottom: 0;left: 50%;z-index: 0;}#sk-container-id-1 div.sk-serial {display: flex;flex-direction: column;align-items: center;background-color: white;padding-right: 0.2em;padding-left: 0.2em;position: relative;}#sk-container-id-1 div.sk-item {position: relative;z-index: 1;}#sk-container-id-1 div.sk-parallel {display: flex;align-items: stretch;justify-content: center;background-color: white;position: relative;}#sk-container-id-1 div.sk-item::before, #sk-container-id-1 div.sk-parallel-item::before {content: \"\";position: absolute;border-left: 1px solid gray;box-sizing: border-box;top: 0;bottom: 0;left: 50%;z-index: -1;}#sk-container-id-1 div.sk-parallel-item {display: flex;flex-direction: column;z-index: 1;position: relative;background-color: white;}#sk-container-id-1 div.sk-parallel-item:first-child::after {align-self: flex-end;width: 50%;}#sk-container-id-1 div.sk-parallel-item:last-child::after {align-self: flex-start;width: 50%;}#sk-container-id-1 div.sk-parallel-item:only-child::after {width: 0;}#sk-container-id-1 div.sk-dashed-wrapped {border: 1px dashed gray;margin: 0 0.4em 0.5em 0.4em;box-sizing: border-box;padding-bottom: 0.4em;background-color: white;}#sk-container-id-1 div.sk-label label {font-family: monospace;font-weight: bold;display: inline-block;line-height: 1.2em;}#sk-container-id-1 div.sk-label-container {text-align: center;}#sk-container-id-1 div.sk-container {/* jupyter's `normalize.less` sets `[hidden] { display: none; }` but bootstrap.min.css set `[hidden] { display: none !important; }` so we also need the `!important` here to be able to override the default hidden behavior on the sphinx rendered scikit-learn.org. See: https://github.com/scikit-learn/scikit-learn/issues/21755 */display: inline-block !important;position: relative;}#sk-container-id-1 div.sk-text-repr-fallback {display: none;}</style><div id=\"sk-container-id-1\" class=\"sk-top-container\"><div class=\"sk-text-repr-fallback\"><pre>Pipeline(steps=[(&#x27;columntransformer&#x27;,\n",
       "                 ColumnTransformer(transformers=[(&#x27;num&#x27;, StandardScaler(),\n",
       "                                                  [&#x27;CreditScore&#x27;, &#x27;Age&#x27;,\n",
       "                                                   &#x27;Balance&#x27;, &#x27;NumOfProducts&#x27;,\n",
       "                                                   &#x27;HasCrCard&#x27;,\n",
       "                                                   &#x27;IsActiveMember&#x27;,\n",
       "                                                   &#x27;EstimatedSalary&#x27;]),\n",
       "                                                 (&#x27;cat&#x27;, OrdinalEncoder(),\n",
       "                                                  [&#x27;Geography&#x27;, &#x27;Gender&#x27;])])),\n",
       "                (&#x27;decisiontreeclassifier&#x27;,\n",
       "                 DecisionTreeClassifier(max_depth=10, random_state=42))])</pre><b>In a Jupyter environment, please rerun this cell to show the HTML representation or trust the notebook. <br />On GitHub, the HTML representation is unable to render, please try loading this page with nbviewer.org.</b></div><div class=\"sk-container\" hidden><div class=\"sk-item sk-dashed-wrapped\"><div class=\"sk-label-container\"><div class=\"sk-label sk-toggleable\"><input class=\"sk-toggleable__control sk-hidden--visually\" id=\"sk-estimator-id-1\" type=\"checkbox\" ><label for=\"sk-estimator-id-1\" class=\"sk-toggleable__label sk-toggleable__label-arrow\">Pipeline</label><div class=\"sk-toggleable__content\"><pre>Pipeline(steps=[(&#x27;columntransformer&#x27;,\n",
       "                 ColumnTransformer(transformers=[(&#x27;num&#x27;, StandardScaler(),\n",
       "                                                  [&#x27;CreditScore&#x27;, &#x27;Age&#x27;,\n",
       "                                                   &#x27;Balance&#x27;, &#x27;NumOfProducts&#x27;,\n",
       "                                                   &#x27;HasCrCard&#x27;,\n",
       "                                                   &#x27;IsActiveMember&#x27;,\n",
       "                                                   &#x27;EstimatedSalary&#x27;]),\n",
       "                                                 (&#x27;cat&#x27;, OrdinalEncoder(),\n",
       "                                                  [&#x27;Geography&#x27;, &#x27;Gender&#x27;])])),\n",
       "                (&#x27;decisiontreeclassifier&#x27;,\n",
       "                 DecisionTreeClassifier(max_depth=10, random_state=42))])</pre></div></div></div><div class=\"sk-serial\"><div class=\"sk-item sk-dashed-wrapped\"><div class=\"sk-label-container\"><div class=\"sk-label sk-toggleable\"><input class=\"sk-toggleable__control sk-hidden--visually\" id=\"sk-estimator-id-2\" type=\"checkbox\" ><label for=\"sk-estimator-id-2\" class=\"sk-toggleable__label sk-toggleable__label-arrow\">columntransformer: ColumnTransformer</label><div class=\"sk-toggleable__content\"><pre>ColumnTransformer(transformers=[(&#x27;num&#x27;, StandardScaler(),\n",
       "                                 [&#x27;CreditScore&#x27;, &#x27;Age&#x27;, &#x27;Balance&#x27;,\n",
       "                                  &#x27;NumOfProducts&#x27;, &#x27;HasCrCard&#x27;,\n",
       "                                  &#x27;IsActiveMember&#x27;, &#x27;EstimatedSalary&#x27;]),\n",
       "                                (&#x27;cat&#x27;, OrdinalEncoder(),\n",
       "                                 [&#x27;Geography&#x27;, &#x27;Gender&#x27;])])</pre></div></div></div><div class=\"sk-parallel\"><div class=\"sk-parallel-item\"><div class=\"sk-item\"><div class=\"sk-label-container\"><div class=\"sk-label sk-toggleable\"><input class=\"sk-toggleable__control sk-hidden--visually\" id=\"sk-estimator-id-3\" type=\"checkbox\" ><label for=\"sk-estimator-id-3\" class=\"sk-toggleable__label sk-toggleable__label-arrow\">num</label><div class=\"sk-toggleable__content\"><pre>[&#x27;CreditScore&#x27;, &#x27;Age&#x27;, &#x27;Balance&#x27;, &#x27;NumOfProducts&#x27;, &#x27;HasCrCard&#x27;, &#x27;IsActiveMember&#x27;, &#x27;EstimatedSalary&#x27;]</pre></div></div></div><div class=\"sk-serial\"><div class=\"sk-item\"><div class=\"sk-estimator sk-toggleable\"><input class=\"sk-toggleable__control sk-hidden--visually\" id=\"sk-estimator-id-4\" type=\"checkbox\" ><label for=\"sk-estimator-id-4\" class=\"sk-toggleable__label sk-toggleable__label-arrow\">StandardScaler</label><div class=\"sk-toggleable__content\"><pre>StandardScaler()</pre></div></div></div></div></div></div><div class=\"sk-parallel-item\"><div class=\"sk-item\"><div class=\"sk-label-container\"><div class=\"sk-label sk-toggleable\"><input class=\"sk-toggleable__control sk-hidden--visually\" id=\"sk-estimator-id-5\" type=\"checkbox\" ><label for=\"sk-estimator-id-5\" class=\"sk-toggleable__label sk-toggleable__label-arrow\">cat</label><div class=\"sk-toggleable__content\"><pre>[&#x27;Geography&#x27;, &#x27;Gender&#x27;]</pre></div></div></div><div class=\"sk-serial\"><div class=\"sk-item\"><div class=\"sk-estimator sk-toggleable\"><input class=\"sk-toggleable__control sk-hidden--visually\" id=\"sk-estimator-id-6\" type=\"checkbox\" ><label for=\"sk-estimator-id-6\" class=\"sk-toggleable__label sk-toggleable__label-arrow\">OrdinalEncoder</label><div class=\"sk-toggleable__content\"><pre>OrdinalEncoder()</pre></div></div></div></div></div></div></div></div><div class=\"sk-item\"><div class=\"sk-estimator sk-toggleable\"><input class=\"sk-toggleable__control sk-hidden--visually\" id=\"sk-estimator-id-7\" type=\"checkbox\" ><label for=\"sk-estimator-id-7\" class=\"sk-toggleable__label sk-toggleable__label-arrow\">DecisionTreeClassifier</label><div class=\"sk-toggleable__content\"><pre>DecisionTreeClassifier(max_depth=10, random_state=42)</pre></div></div></div></div></div></div></div>"
      ],
      "text/plain": [
       "Pipeline(steps=[('columntransformer',\n",
       "                 ColumnTransformer(transformers=[('num', StandardScaler(),\n",
       "                                                  ['CreditScore', 'Age',\n",
       "                                                   'Balance', 'NumOfProducts',\n",
       "                                                   'HasCrCard',\n",
       "                                                   'IsActiveMember',\n",
       "                                                   'EstimatedSalary']),\n",
       "                                                 ('cat', OrdinalEncoder(),\n",
       "                                                  ['Geography', 'Gender'])])),\n",
       "                ('decisiontreeclassifier',\n",
       "                 DecisionTreeClassifier(max_depth=10, random_state=42))])"
      ]
     },
     "execution_count": 17,
     "metadata": {},
     "output_type": "execute_result"
    }
   ],
   "source": [
    "%%time\n",
    "\n",
    "# подбор лучших гиперпараметров модели кросс-валидацией\n",
    "GSCV_tree_imb = GridSearchCV(pipe_tree_imb, param_grid_tree_imb, cv=5, \n",
    "                             scoring=['f1', 'precision', 'recall', 'accuracy', 'roc_auc'],\n",
    "                             refit='f1')\n",
    "\n",
    "# обучение и вывод лучшей модели\n",
    "GSCV_tree_imb.fit(f_train, t_train) \n",
    "GSCV_tree_imb.best_estimator_ "
   ]
  },
  {
   "cell_type": "code",
   "execution_count": 18,
   "metadata": {},
   "outputs": [
    {
     "data": {
      "text/plain": [
       "'F1-мера: 0.5171'"
      ]
     },
     "metadata": {},
     "output_type": "display_data"
    },
    {
     "data": {
      "text/plain": [
       "'Precision: 0.6071'"
      ]
     },
     "metadata": {},
     "output_type": "display_data"
    },
    {
     "data": {
      "text/plain": [
       "'Recall: 0.4516'"
      ]
     },
     "metadata": {},
     "output_type": "display_data"
    },
    {
     "data": {
      "text/plain": [
       "'Accuracy: 0.8281'"
      ]
     },
     "metadata": {},
     "output_type": "display_data"
    },
    {
     "data": {
      "text/plain": [
       "'ROC AUC: 0.7629'"
      ]
     },
     "metadata": {},
     "output_type": "display_data"
    }
   ],
   "source": [
    "# метрики, полученные кросс-валидацией для лучшей модели\n",
    "model_scoring(GSCV_tree_imb) "
   ]
  },
  {
   "cell_type": "markdown",
   "metadata": {},
   "source": [
    "###  Случайный лес"
   ]
  },
  {
   "cell_type": "code",
   "execution_count": 19,
   "metadata": {},
   "outputs": [],
   "source": [
    "# создание pipeline для RandomForestClassifier\n",
    "pipe_forest_imb = make_pipeline(ColumnTransformer([('num', StandardScaler(), numeric), \n",
    "                                                   ('cat', OrdinalEncoder(), category)]),\n",
    "                                RandomForestClassifier(random_state=42))\n",
    "\n",
    "# сетка параметров для GridSearchCV\n",
    "param_grid_forest_imb = {'randomforestclassifier__max_depth' : [5, 7, 10, 15, 20],\n",
    "                         'randomforestclassifier__n_estimators' : [50, 100, 150]}     "
   ]
  },
  {
   "cell_type": "code",
   "execution_count": 20,
   "metadata": {},
   "outputs": [
    {
     "name": "stdout",
     "output_type": "stream",
     "text": [
      "CPU times: total: 2min 36s\n",
      "Wall time: 2min 36s\n"
     ]
    },
    {
     "data": {
      "text/html": [
       "<style>#sk-container-id-2 {color: black;background-color: white;}#sk-container-id-2 pre{padding: 0;}#sk-container-id-2 div.sk-toggleable {background-color: white;}#sk-container-id-2 label.sk-toggleable__label {cursor: pointer;display: block;width: 100%;margin-bottom: 0;padding: 0.3em;box-sizing: border-box;text-align: center;}#sk-container-id-2 label.sk-toggleable__label-arrow:before {content: \"▸\";float: left;margin-right: 0.25em;color: #696969;}#sk-container-id-2 label.sk-toggleable__label-arrow:hover:before {color: black;}#sk-container-id-2 div.sk-estimator:hover label.sk-toggleable__label-arrow:before {color: black;}#sk-container-id-2 div.sk-toggleable__content {max-height: 0;max-width: 0;overflow: hidden;text-align: left;background-color: #f0f8ff;}#sk-container-id-2 div.sk-toggleable__content pre {margin: 0.2em;color: black;border-radius: 0.25em;background-color: #f0f8ff;}#sk-container-id-2 input.sk-toggleable__control:checked~div.sk-toggleable__content {max-height: 200px;max-width: 100%;overflow: auto;}#sk-container-id-2 input.sk-toggleable__control:checked~label.sk-toggleable__label-arrow:before {content: \"▾\";}#sk-container-id-2 div.sk-estimator input.sk-toggleable__control:checked~label.sk-toggleable__label {background-color: #d4ebff;}#sk-container-id-2 div.sk-label input.sk-toggleable__control:checked~label.sk-toggleable__label {background-color: #d4ebff;}#sk-container-id-2 input.sk-hidden--visually {border: 0;clip: rect(1px 1px 1px 1px);clip: rect(1px, 1px, 1px, 1px);height: 1px;margin: -1px;overflow: hidden;padding: 0;position: absolute;width: 1px;}#sk-container-id-2 div.sk-estimator {font-family: monospace;background-color: #f0f8ff;border: 1px dotted black;border-radius: 0.25em;box-sizing: border-box;margin-bottom: 0.5em;}#sk-container-id-2 div.sk-estimator:hover {background-color: #d4ebff;}#sk-container-id-2 div.sk-parallel-item::after {content: \"\";width: 100%;border-bottom: 1px solid gray;flex-grow: 1;}#sk-container-id-2 div.sk-label:hover label.sk-toggleable__label {background-color: #d4ebff;}#sk-container-id-2 div.sk-serial::before {content: \"\";position: absolute;border-left: 1px solid gray;box-sizing: border-box;top: 0;bottom: 0;left: 50%;z-index: 0;}#sk-container-id-2 div.sk-serial {display: flex;flex-direction: column;align-items: center;background-color: white;padding-right: 0.2em;padding-left: 0.2em;position: relative;}#sk-container-id-2 div.sk-item {position: relative;z-index: 1;}#sk-container-id-2 div.sk-parallel {display: flex;align-items: stretch;justify-content: center;background-color: white;position: relative;}#sk-container-id-2 div.sk-item::before, #sk-container-id-2 div.sk-parallel-item::before {content: \"\";position: absolute;border-left: 1px solid gray;box-sizing: border-box;top: 0;bottom: 0;left: 50%;z-index: -1;}#sk-container-id-2 div.sk-parallel-item {display: flex;flex-direction: column;z-index: 1;position: relative;background-color: white;}#sk-container-id-2 div.sk-parallel-item:first-child::after {align-self: flex-end;width: 50%;}#sk-container-id-2 div.sk-parallel-item:last-child::after {align-self: flex-start;width: 50%;}#sk-container-id-2 div.sk-parallel-item:only-child::after {width: 0;}#sk-container-id-2 div.sk-dashed-wrapped {border: 1px dashed gray;margin: 0 0.4em 0.5em 0.4em;box-sizing: border-box;padding-bottom: 0.4em;background-color: white;}#sk-container-id-2 div.sk-label label {font-family: monospace;font-weight: bold;display: inline-block;line-height: 1.2em;}#sk-container-id-2 div.sk-label-container {text-align: center;}#sk-container-id-2 div.sk-container {/* jupyter's `normalize.less` sets `[hidden] { display: none; }` but bootstrap.min.css set `[hidden] { display: none !important; }` so we also need the `!important` here to be able to override the default hidden behavior on the sphinx rendered scikit-learn.org. See: https://github.com/scikit-learn/scikit-learn/issues/21755 */display: inline-block !important;position: relative;}#sk-container-id-2 div.sk-text-repr-fallback {display: none;}</style><div id=\"sk-container-id-2\" class=\"sk-top-container\"><div class=\"sk-text-repr-fallback\"><pre>Pipeline(steps=[(&#x27;columntransformer&#x27;,\n",
       "                 ColumnTransformer(transformers=[(&#x27;num&#x27;, StandardScaler(),\n",
       "                                                  [&#x27;CreditScore&#x27;, &#x27;Age&#x27;,\n",
       "                                                   &#x27;Balance&#x27;, &#x27;NumOfProducts&#x27;,\n",
       "                                                   &#x27;HasCrCard&#x27;,\n",
       "                                                   &#x27;IsActiveMember&#x27;,\n",
       "                                                   &#x27;EstimatedSalary&#x27;]),\n",
       "                                                 (&#x27;cat&#x27;, OrdinalEncoder(),\n",
       "                                                  [&#x27;Geography&#x27;, &#x27;Gender&#x27;])])),\n",
       "                (&#x27;randomforestclassifier&#x27;,\n",
       "                 RandomForestClassifier(max_depth=15, random_state=42))])</pre><b>In a Jupyter environment, please rerun this cell to show the HTML representation or trust the notebook. <br />On GitHub, the HTML representation is unable to render, please try loading this page with nbviewer.org.</b></div><div class=\"sk-container\" hidden><div class=\"sk-item sk-dashed-wrapped\"><div class=\"sk-label-container\"><div class=\"sk-label sk-toggleable\"><input class=\"sk-toggleable__control sk-hidden--visually\" id=\"sk-estimator-id-8\" type=\"checkbox\" ><label for=\"sk-estimator-id-8\" class=\"sk-toggleable__label sk-toggleable__label-arrow\">Pipeline</label><div class=\"sk-toggleable__content\"><pre>Pipeline(steps=[(&#x27;columntransformer&#x27;,\n",
       "                 ColumnTransformer(transformers=[(&#x27;num&#x27;, StandardScaler(),\n",
       "                                                  [&#x27;CreditScore&#x27;, &#x27;Age&#x27;,\n",
       "                                                   &#x27;Balance&#x27;, &#x27;NumOfProducts&#x27;,\n",
       "                                                   &#x27;HasCrCard&#x27;,\n",
       "                                                   &#x27;IsActiveMember&#x27;,\n",
       "                                                   &#x27;EstimatedSalary&#x27;]),\n",
       "                                                 (&#x27;cat&#x27;, OrdinalEncoder(),\n",
       "                                                  [&#x27;Geography&#x27;, &#x27;Gender&#x27;])])),\n",
       "                (&#x27;randomforestclassifier&#x27;,\n",
       "                 RandomForestClassifier(max_depth=15, random_state=42))])</pre></div></div></div><div class=\"sk-serial\"><div class=\"sk-item sk-dashed-wrapped\"><div class=\"sk-label-container\"><div class=\"sk-label sk-toggleable\"><input class=\"sk-toggleable__control sk-hidden--visually\" id=\"sk-estimator-id-9\" type=\"checkbox\" ><label for=\"sk-estimator-id-9\" class=\"sk-toggleable__label sk-toggleable__label-arrow\">columntransformer: ColumnTransformer</label><div class=\"sk-toggleable__content\"><pre>ColumnTransformer(transformers=[(&#x27;num&#x27;, StandardScaler(),\n",
       "                                 [&#x27;CreditScore&#x27;, &#x27;Age&#x27;, &#x27;Balance&#x27;,\n",
       "                                  &#x27;NumOfProducts&#x27;, &#x27;HasCrCard&#x27;,\n",
       "                                  &#x27;IsActiveMember&#x27;, &#x27;EstimatedSalary&#x27;]),\n",
       "                                (&#x27;cat&#x27;, OrdinalEncoder(),\n",
       "                                 [&#x27;Geography&#x27;, &#x27;Gender&#x27;])])</pre></div></div></div><div class=\"sk-parallel\"><div class=\"sk-parallel-item\"><div class=\"sk-item\"><div class=\"sk-label-container\"><div class=\"sk-label sk-toggleable\"><input class=\"sk-toggleable__control sk-hidden--visually\" id=\"sk-estimator-id-10\" type=\"checkbox\" ><label for=\"sk-estimator-id-10\" class=\"sk-toggleable__label sk-toggleable__label-arrow\">num</label><div class=\"sk-toggleable__content\"><pre>[&#x27;CreditScore&#x27;, &#x27;Age&#x27;, &#x27;Balance&#x27;, &#x27;NumOfProducts&#x27;, &#x27;HasCrCard&#x27;, &#x27;IsActiveMember&#x27;, &#x27;EstimatedSalary&#x27;]</pre></div></div></div><div class=\"sk-serial\"><div class=\"sk-item\"><div class=\"sk-estimator sk-toggleable\"><input class=\"sk-toggleable__control sk-hidden--visually\" id=\"sk-estimator-id-11\" type=\"checkbox\" ><label for=\"sk-estimator-id-11\" class=\"sk-toggleable__label sk-toggleable__label-arrow\">StandardScaler</label><div class=\"sk-toggleable__content\"><pre>StandardScaler()</pre></div></div></div></div></div></div><div class=\"sk-parallel-item\"><div class=\"sk-item\"><div class=\"sk-label-container\"><div class=\"sk-label sk-toggleable\"><input class=\"sk-toggleable__control sk-hidden--visually\" id=\"sk-estimator-id-12\" type=\"checkbox\" ><label for=\"sk-estimator-id-12\" class=\"sk-toggleable__label sk-toggleable__label-arrow\">cat</label><div class=\"sk-toggleable__content\"><pre>[&#x27;Geography&#x27;, &#x27;Gender&#x27;]</pre></div></div></div><div class=\"sk-serial\"><div class=\"sk-item\"><div class=\"sk-estimator sk-toggleable\"><input class=\"sk-toggleable__control sk-hidden--visually\" id=\"sk-estimator-id-13\" type=\"checkbox\" ><label for=\"sk-estimator-id-13\" class=\"sk-toggleable__label sk-toggleable__label-arrow\">OrdinalEncoder</label><div class=\"sk-toggleable__content\"><pre>OrdinalEncoder()</pre></div></div></div></div></div></div></div></div><div class=\"sk-item\"><div class=\"sk-estimator sk-toggleable\"><input class=\"sk-toggleable__control sk-hidden--visually\" id=\"sk-estimator-id-14\" type=\"checkbox\" ><label for=\"sk-estimator-id-14\" class=\"sk-toggleable__label sk-toggleable__label-arrow\">RandomForestClassifier</label><div class=\"sk-toggleable__content\"><pre>RandomForestClassifier(max_depth=15, random_state=42)</pre></div></div></div></div></div></div></div>"
      ],
      "text/plain": [
       "Pipeline(steps=[('columntransformer',\n",
       "                 ColumnTransformer(transformers=[('num', StandardScaler(),\n",
       "                                                  ['CreditScore', 'Age',\n",
       "                                                   'Balance', 'NumOfProducts',\n",
       "                                                   'HasCrCard',\n",
       "                                                   'IsActiveMember',\n",
       "                                                   'EstimatedSalary']),\n",
       "                                                 ('cat', OrdinalEncoder(),\n",
       "                                                  ['Geography', 'Gender'])])),\n",
       "                ('randomforestclassifier',\n",
       "                 RandomForestClassifier(max_depth=15, random_state=42))])"
      ]
     },
     "execution_count": 20,
     "metadata": {},
     "output_type": "execute_result"
    }
   ],
   "source": [
    "%%time\n",
    "\n",
    "# подбор лучших гиперпараметров модели кросс-валидацией\n",
    "GSCV_forest_imb = GridSearchCV(pipe_forest_imb, param_grid_forest_imb, cv=5, \n",
    "                               scoring=['f1', 'precision', 'recall', 'accuracy', 'roc_auc'],\n",
    "                               refit='f1')\n",
    "\n",
    "# обучение и вывод лучшей модели\n",
    "GSCV_forest_imb.fit(f_train, t_train) \n",
    "GSCV_forest_imb.best_estimator_ "
   ]
  },
  {
   "cell_type": "code",
   "execution_count": 21,
   "metadata": {},
   "outputs": [
    {
     "data": {
      "text/plain": [
       "'F1-мера: 0.5628'"
      ]
     },
     "metadata": {},
     "output_type": "display_data"
    },
    {
     "data": {
      "text/plain": [
       "'Precision: 0.7507'"
      ]
     },
     "metadata": {},
     "output_type": "display_data"
    },
    {
     "data": {
      "text/plain": [
       "'Recall: 0.4516'"
      ]
     },
     "metadata": {},
     "output_type": "display_data"
    },
    {
     "data": {
      "text/plain": [
       "'Accuracy: 0.8573'"
      ]
     },
     "metadata": {},
     "output_type": "display_data"
    },
    {
     "data": {
      "text/plain": [
       "'ROC AUC: 0.8463'"
      ]
     },
     "metadata": {},
     "output_type": "display_data"
    }
   ],
   "source": [
    "# метрики, полученные кросс-валидацией для лучшей модели\n",
    "model_scoring(GSCV_forest_imb) "
   ]
  },
  {
   "cell_type": "markdown",
   "metadata": {},
   "source": [
    "### Логистическая регрессия"
   ]
  },
  {
   "cell_type": "code",
   "execution_count": 22,
   "metadata": {},
   "outputs": [],
   "source": [
    "# создание pipeline для LogisticRegression\n",
    "pipe_log_ress_imb = make_pipeline(ColumnTransformer([('num', StandardScaler(), numeric), \n",
    "                                                     ('cat', OneHotEncoder(drop='first'), category)]),\n",
    "                                  LogisticRegression(random_state=42))\n",
    "\n",
    "# сетка параметров для GridSearchCV\n",
    "param_grid_log_ress_imb = {'logisticregression__max_iter' : [100, 150, 200, 300],\n",
    "                           'logisticregression__solver' : ['liblinear', 'lbfgs']}     "
   ]
  },
  {
   "cell_type": "code",
   "execution_count": 23,
   "metadata": {},
   "outputs": [
    {
     "name": "stdout",
     "output_type": "stream",
     "text": [
      "CPU times: total: 3.62 s\n",
      "Wall time: 3.64 s\n"
     ]
    },
    {
     "data": {
      "text/html": [
       "<style>#sk-container-id-3 {color: black;background-color: white;}#sk-container-id-3 pre{padding: 0;}#sk-container-id-3 div.sk-toggleable {background-color: white;}#sk-container-id-3 label.sk-toggleable__label {cursor: pointer;display: block;width: 100%;margin-bottom: 0;padding: 0.3em;box-sizing: border-box;text-align: center;}#sk-container-id-3 label.sk-toggleable__label-arrow:before {content: \"▸\";float: left;margin-right: 0.25em;color: #696969;}#sk-container-id-3 label.sk-toggleable__label-arrow:hover:before {color: black;}#sk-container-id-3 div.sk-estimator:hover label.sk-toggleable__label-arrow:before {color: black;}#sk-container-id-3 div.sk-toggleable__content {max-height: 0;max-width: 0;overflow: hidden;text-align: left;background-color: #f0f8ff;}#sk-container-id-3 div.sk-toggleable__content pre {margin: 0.2em;color: black;border-radius: 0.25em;background-color: #f0f8ff;}#sk-container-id-3 input.sk-toggleable__control:checked~div.sk-toggleable__content {max-height: 200px;max-width: 100%;overflow: auto;}#sk-container-id-3 input.sk-toggleable__control:checked~label.sk-toggleable__label-arrow:before {content: \"▾\";}#sk-container-id-3 div.sk-estimator input.sk-toggleable__control:checked~label.sk-toggleable__label {background-color: #d4ebff;}#sk-container-id-3 div.sk-label input.sk-toggleable__control:checked~label.sk-toggleable__label {background-color: #d4ebff;}#sk-container-id-3 input.sk-hidden--visually {border: 0;clip: rect(1px 1px 1px 1px);clip: rect(1px, 1px, 1px, 1px);height: 1px;margin: -1px;overflow: hidden;padding: 0;position: absolute;width: 1px;}#sk-container-id-3 div.sk-estimator {font-family: monospace;background-color: #f0f8ff;border: 1px dotted black;border-radius: 0.25em;box-sizing: border-box;margin-bottom: 0.5em;}#sk-container-id-3 div.sk-estimator:hover {background-color: #d4ebff;}#sk-container-id-3 div.sk-parallel-item::after {content: \"\";width: 100%;border-bottom: 1px solid gray;flex-grow: 1;}#sk-container-id-3 div.sk-label:hover label.sk-toggleable__label {background-color: #d4ebff;}#sk-container-id-3 div.sk-serial::before {content: \"\";position: absolute;border-left: 1px solid gray;box-sizing: border-box;top: 0;bottom: 0;left: 50%;z-index: 0;}#sk-container-id-3 div.sk-serial {display: flex;flex-direction: column;align-items: center;background-color: white;padding-right: 0.2em;padding-left: 0.2em;position: relative;}#sk-container-id-3 div.sk-item {position: relative;z-index: 1;}#sk-container-id-3 div.sk-parallel {display: flex;align-items: stretch;justify-content: center;background-color: white;position: relative;}#sk-container-id-3 div.sk-item::before, #sk-container-id-3 div.sk-parallel-item::before {content: \"\";position: absolute;border-left: 1px solid gray;box-sizing: border-box;top: 0;bottom: 0;left: 50%;z-index: -1;}#sk-container-id-3 div.sk-parallel-item {display: flex;flex-direction: column;z-index: 1;position: relative;background-color: white;}#sk-container-id-3 div.sk-parallel-item:first-child::after {align-self: flex-end;width: 50%;}#sk-container-id-3 div.sk-parallel-item:last-child::after {align-self: flex-start;width: 50%;}#sk-container-id-3 div.sk-parallel-item:only-child::after {width: 0;}#sk-container-id-3 div.sk-dashed-wrapped {border: 1px dashed gray;margin: 0 0.4em 0.5em 0.4em;box-sizing: border-box;padding-bottom: 0.4em;background-color: white;}#sk-container-id-3 div.sk-label label {font-family: monospace;font-weight: bold;display: inline-block;line-height: 1.2em;}#sk-container-id-3 div.sk-label-container {text-align: center;}#sk-container-id-3 div.sk-container {/* jupyter's `normalize.less` sets `[hidden] { display: none; }` but bootstrap.min.css set `[hidden] { display: none !important; }` so we also need the `!important` here to be able to override the default hidden behavior on the sphinx rendered scikit-learn.org. See: https://github.com/scikit-learn/scikit-learn/issues/21755 */display: inline-block !important;position: relative;}#sk-container-id-3 div.sk-text-repr-fallback {display: none;}</style><div id=\"sk-container-id-3\" class=\"sk-top-container\"><div class=\"sk-text-repr-fallback\"><pre>Pipeline(steps=[(&#x27;columntransformer&#x27;,\n",
       "                 ColumnTransformer(transformers=[(&#x27;num&#x27;, StandardScaler(),\n",
       "                                                  [&#x27;CreditScore&#x27;, &#x27;Age&#x27;,\n",
       "                                                   &#x27;Balance&#x27;, &#x27;NumOfProducts&#x27;,\n",
       "                                                   &#x27;HasCrCard&#x27;,\n",
       "                                                   &#x27;IsActiveMember&#x27;,\n",
       "                                                   &#x27;EstimatedSalary&#x27;]),\n",
       "                                                 (&#x27;cat&#x27;,\n",
       "                                                  OneHotEncoder(drop=&#x27;first&#x27;),\n",
       "                                                  [&#x27;Geography&#x27;, &#x27;Gender&#x27;])])),\n",
       "                (&#x27;logisticregression&#x27;,\n",
       "                 LogisticRegression(random_state=42, solver=&#x27;liblinear&#x27;))])</pre><b>In a Jupyter environment, please rerun this cell to show the HTML representation or trust the notebook. <br />On GitHub, the HTML representation is unable to render, please try loading this page with nbviewer.org.</b></div><div class=\"sk-container\" hidden><div class=\"sk-item sk-dashed-wrapped\"><div class=\"sk-label-container\"><div class=\"sk-label sk-toggleable\"><input class=\"sk-toggleable__control sk-hidden--visually\" id=\"sk-estimator-id-15\" type=\"checkbox\" ><label for=\"sk-estimator-id-15\" class=\"sk-toggleable__label sk-toggleable__label-arrow\">Pipeline</label><div class=\"sk-toggleable__content\"><pre>Pipeline(steps=[(&#x27;columntransformer&#x27;,\n",
       "                 ColumnTransformer(transformers=[(&#x27;num&#x27;, StandardScaler(),\n",
       "                                                  [&#x27;CreditScore&#x27;, &#x27;Age&#x27;,\n",
       "                                                   &#x27;Balance&#x27;, &#x27;NumOfProducts&#x27;,\n",
       "                                                   &#x27;HasCrCard&#x27;,\n",
       "                                                   &#x27;IsActiveMember&#x27;,\n",
       "                                                   &#x27;EstimatedSalary&#x27;]),\n",
       "                                                 (&#x27;cat&#x27;,\n",
       "                                                  OneHotEncoder(drop=&#x27;first&#x27;),\n",
       "                                                  [&#x27;Geography&#x27;, &#x27;Gender&#x27;])])),\n",
       "                (&#x27;logisticregression&#x27;,\n",
       "                 LogisticRegression(random_state=42, solver=&#x27;liblinear&#x27;))])</pre></div></div></div><div class=\"sk-serial\"><div class=\"sk-item sk-dashed-wrapped\"><div class=\"sk-label-container\"><div class=\"sk-label sk-toggleable\"><input class=\"sk-toggleable__control sk-hidden--visually\" id=\"sk-estimator-id-16\" type=\"checkbox\" ><label for=\"sk-estimator-id-16\" class=\"sk-toggleable__label sk-toggleable__label-arrow\">columntransformer: ColumnTransformer</label><div class=\"sk-toggleable__content\"><pre>ColumnTransformer(transformers=[(&#x27;num&#x27;, StandardScaler(),\n",
       "                                 [&#x27;CreditScore&#x27;, &#x27;Age&#x27;, &#x27;Balance&#x27;,\n",
       "                                  &#x27;NumOfProducts&#x27;, &#x27;HasCrCard&#x27;,\n",
       "                                  &#x27;IsActiveMember&#x27;, &#x27;EstimatedSalary&#x27;]),\n",
       "                                (&#x27;cat&#x27;, OneHotEncoder(drop=&#x27;first&#x27;),\n",
       "                                 [&#x27;Geography&#x27;, &#x27;Gender&#x27;])])</pre></div></div></div><div class=\"sk-parallel\"><div class=\"sk-parallel-item\"><div class=\"sk-item\"><div class=\"sk-label-container\"><div class=\"sk-label sk-toggleable\"><input class=\"sk-toggleable__control sk-hidden--visually\" id=\"sk-estimator-id-17\" type=\"checkbox\" ><label for=\"sk-estimator-id-17\" class=\"sk-toggleable__label sk-toggleable__label-arrow\">num</label><div class=\"sk-toggleable__content\"><pre>[&#x27;CreditScore&#x27;, &#x27;Age&#x27;, &#x27;Balance&#x27;, &#x27;NumOfProducts&#x27;, &#x27;HasCrCard&#x27;, &#x27;IsActiveMember&#x27;, &#x27;EstimatedSalary&#x27;]</pre></div></div></div><div class=\"sk-serial\"><div class=\"sk-item\"><div class=\"sk-estimator sk-toggleable\"><input class=\"sk-toggleable__control sk-hidden--visually\" id=\"sk-estimator-id-18\" type=\"checkbox\" ><label for=\"sk-estimator-id-18\" class=\"sk-toggleable__label sk-toggleable__label-arrow\">StandardScaler</label><div class=\"sk-toggleable__content\"><pre>StandardScaler()</pre></div></div></div></div></div></div><div class=\"sk-parallel-item\"><div class=\"sk-item\"><div class=\"sk-label-container\"><div class=\"sk-label sk-toggleable\"><input class=\"sk-toggleable__control sk-hidden--visually\" id=\"sk-estimator-id-19\" type=\"checkbox\" ><label for=\"sk-estimator-id-19\" class=\"sk-toggleable__label sk-toggleable__label-arrow\">cat</label><div class=\"sk-toggleable__content\"><pre>[&#x27;Geography&#x27;, &#x27;Gender&#x27;]</pre></div></div></div><div class=\"sk-serial\"><div class=\"sk-item\"><div class=\"sk-estimator sk-toggleable\"><input class=\"sk-toggleable__control sk-hidden--visually\" id=\"sk-estimator-id-20\" type=\"checkbox\" ><label for=\"sk-estimator-id-20\" class=\"sk-toggleable__label sk-toggleable__label-arrow\">OneHotEncoder</label><div class=\"sk-toggleable__content\"><pre>OneHotEncoder(drop=&#x27;first&#x27;)</pre></div></div></div></div></div></div></div></div><div class=\"sk-item\"><div class=\"sk-estimator sk-toggleable\"><input class=\"sk-toggleable__control sk-hidden--visually\" id=\"sk-estimator-id-21\" type=\"checkbox\" ><label for=\"sk-estimator-id-21\" class=\"sk-toggleable__label sk-toggleable__label-arrow\">LogisticRegression</label><div class=\"sk-toggleable__content\"><pre>LogisticRegression(random_state=42, solver=&#x27;liblinear&#x27;)</pre></div></div></div></div></div></div></div>"
      ],
      "text/plain": [
       "Pipeline(steps=[('columntransformer',\n",
       "                 ColumnTransformer(transformers=[('num', StandardScaler(),\n",
       "                                                  ['CreditScore', 'Age',\n",
       "                                                   'Balance', 'NumOfProducts',\n",
       "                                                   'HasCrCard',\n",
       "                                                   'IsActiveMember',\n",
       "                                                   'EstimatedSalary']),\n",
       "                                                 ('cat',\n",
       "                                                  OneHotEncoder(drop='first'),\n",
       "                                                  ['Geography', 'Gender'])])),\n",
       "                ('logisticregression',\n",
       "                 LogisticRegression(random_state=42, solver='liblinear'))])"
      ]
     },
     "execution_count": 23,
     "metadata": {},
     "output_type": "execute_result"
    }
   ],
   "source": [
    "%%time\n",
    "\n",
    "# подбор лучших гиперпараметров модели кросс-валидацией\n",
    "GSCV_log_ress_imb = GridSearchCV(pipe_log_ress_imb, param_grid_log_ress_imb, cv=5, \n",
    "                                 scoring=['f1', 'precision', 'recall', 'accuracy', 'roc_auc'],\n",
    "                                 refit='f1')\n",
    "\n",
    "# обучение и вывод лучшей модели\n",
    "GSCV_log_ress_imb.fit(f_train, t_train) \n",
    "GSCV_log_ress_imb.best_estimator_ "
   ]
  },
  {
   "cell_type": "code",
   "execution_count": 24,
   "metadata": {
    "scrolled": true
   },
   "outputs": [
    {
     "data": {
      "text/plain": [
       "'F1-мера: 0.3123'"
      ]
     },
     "metadata": {},
     "output_type": "display_data"
    },
    {
     "data": {
      "text/plain": [
       "'Precision: 0.6047'"
      ]
     },
     "metadata": {},
     "output_type": "display_data"
    },
    {
     "data": {
      "text/plain": [
       "'Recall: 0.2114'"
      ]
     },
     "metadata": {},
     "output_type": "display_data"
    },
    {
     "data": {
      "text/plain": [
       "'Accuracy: 0.8112'"
      ]
     },
     "metadata": {},
     "output_type": "display_data"
    },
    {
     "data": {
      "text/plain": [
       "'ROC AUC: 0.7582'"
      ]
     },
     "metadata": {},
     "output_type": "display_data"
    }
   ],
   "source": [
    "# метрики, полученные кросс-валидацией для лучшей модели\n",
    "model_scoring(GSCV_log_ress_imb) "
   ]
  },
  {
   "cell_type": "markdown",
   "metadata": {},
   "source": [
    "### LGBMClassifier"
   ]
  },
  {
   "cell_type": "code",
   "execution_count": 25,
   "metadata": {},
   "outputs": [],
   "source": [
    "# создание pipeline для LGBMClassifier\n",
    "pipe_lgbm_imb = make_pipeline(ColumnTransformer([('num', StandardScaler(), numeric), \n",
    "                                                 ('cat', OrdinalEncoder(), category)]),\n",
    "                              LGBMClassifier(random_state=42))\n",
    "\n",
    "# сетка параметров для GridSearchCV\n",
    "param_grid_lgbm_imb = {'lgbmclassifier__n_estimators' : [100, 150, 300, 500],\n",
    "                       'lgbmclassifier__max_depth' : [10, 15, 20, 30]}     "
   ]
  },
  {
   "cell_type": "code",
   "execution_count": 26,
   "metadata": {},
   "outputs": [
    {
     "name": "stdout",
     "output_type": "stream",
     "text": [
      "CPU times: total: 7min 11s\n",
      "Wall time: 1min 1s\n"
     ]
    },
    {
     "data": {
      "text/html": [
       "<style>#sk-container-id-4 {color: black;background-color: white;}#sk-container-id-4 pre{padding: 0;}#sk-container-id-4 div.sk-toggleable {background-color: white;}#sk-container-id-4 label.sk-toggleable__label {cursor: pointer;display: block;width: 100%;margin-bottom: 0;padding: 0.3em;box-sizing: border-box;text-align: center;}#sk-container-id-4 label.sk-toggleable__label-arrow:before {content: \"▸\";float: left;margin-right: 0.25em;color: #696969;}#sk-container-id-4 label.sk-toggleable__label-arrow:hover:before {color: black;}#sk-container-id-4 div.sk-estimator:hover label.sk-toggleable__label-arrow:before {color: black;}#sk-container-id-4 div.sk-toggleable__content {max-height: 0;max-width: 0;overflow: hidden;text-align: left;background-color: #f0f8ff;}#sk-container-id-4 div.sk-toggleable__content pre {margin: 0.2em;color: black;border-radius: 0.25em;background-color: #f0f8ff;}#sk-container-id-4 input.sk-toggleable__control:checked~div.sk-toggleable__content {max-height: 200px;max-width: 100%;overflow: auto;}#sk-container-id-4 input.sk-toggleable__control:checked~label.sk-toggleable__label-arrow:before {content: \"▾\";}#sk-container-id-4 div.sk-estimator input.sk-toggleable__control:checked~label.sk-toggleable__label {background-color: #d4ebff;}#sk-container-id-4 div.sk-label input.sk-toggleable__control:checked~label.sk-toggleable__label {background-color: #d4ebff;}#sk-container-id-4 input.sk-hidden--visually {border: 0;clip: rect(1px 1px 1px 1px);clip: rect(1px, 1px, 1px, 1px);height: 1px;margin: -1px;overflow: hidden;padding: 0;position: absolute;width: 1px;}#sk-container-id-4 div.sk-estimator {font-family: monospace;background-color: #f0f8ff;border: 1px dotted black;border-radius: 0.25em;box-sizing: border-box;margin-bottom: 0.5em;}#sk-container-id-4 div.sk-estimator:hover {background-color: #d4ebff;}#sk-container-id-4 div.sk-parallel-item::after {content: \"\";width: 100%;border-bottom: 1px solid gray;flex-grow: 1;}#sk-container-id-4 div.sk-label:hover label.sk-toggleable__label {background-color: #d4ebff;}#sk-container-id-4 div.sk-serial::before {content: \"\";position: absolute;border-left: 1px solid gray;box-sizing: border-box;top: 0;bottom: 0;left: 50%;z-index: 0;}#sk-container-id-4 div.sk-serial {display: flex;flex-direction: column;align-items: center;background-color: white;padding-right: 0.2em;padding-left: 0.2em;position: relative;}#sk-container-id-4 div.sk-item {position: relative;z-index: 1;}#sk-container-id-4 div.sk-parallel {display: flex;align-items: stretch;justify-content: center;background-color: white;position: relative;}#sk-container-id-4 div.sk-item::before, #sk-container-id-4 div.sk-parallel-item::before {content: \"\";position: absolute;border-left: 1px solid gray;box-sizing: border-box;top: 0;bottom: 0;left: 50%;z-index: -1;}#sk-container-id-4 div.sk-parallel-item {display: flex;flex-direction: column;z-index: 1;position: relative;background-color: white;}#sk-container-id-4 div.sk-parallel-item:first-child::after {align-self: flex-end;width: 50%;}#sk-container-id-4 div.sk-parallel-item:last-child::after {align-self: flex-start;width: 50%;}#sk-container-id-4 div.sk-parallel-item:only-child::after {width: 0;}#sk-container-id-4 div.sk-dashed-wrapped {border: 1px dashed gray;margin: 0 0.4em 0.5em 0.4em;box-sizing: border-box;padding-bottom: 0.4em;background-color: white;}#sk-container-id-4 div.sk-label label {font-family: monospace;font-weight: bold;display: inline-block;line-height: 1.2em;}#sk-container-id-4 div.sk-label-container {text-align: center;}#sk-container-id-4 div.sk-container {/* jupyter's `normalize.less` sets `[hidden] { display: none; }` but bootstrap.min.css set `[hidden] { display: none !important; }` so we also need the `!important` here to be able to override the default hidden behavior on the sphinx rendered scikit-learn.org. See: https://github.com/scikit-learn/scikit-learn/issues/21755 */display: inline-block !important;position: relative;}#sk-container-id-4 div.sk-text-repr-fallback {display: none;}</style><div id=\"sk-container-id-4\" class=\"sk-top-container\"><div class=\"sk-text-repr-fallback\"><pre>Pipeline(steps=[(&#x27;columntransformer&#x27;,\n",
       "                 ColumnTransformer(transformers=[(&#x27;num&#x27;, StandardScaler(),\n",
       "                                                  [&#x27;CreditScore&#x27;, &#x27;Age&#x27;,\n",
       "                                                   &#x27;Balance&#x27;, &#x27;NumOfProducts&#x27;,\n",
       "                                                   &#x27;HasCrCard&#x27;,\n",
       "                                                   &#x27;IsActiveMember&#x27;,\n",
       "                                                   &#x27;EstimatedSalary&#x27;]),\n",
       "                                                 (&#x27;cat&#x27;, OrdinalEncoder(),\n",
       "                                                  [&#x27;Geography&#x27;, &#x27;Gender&#x27;])])),\n",
       "                (&#x27;lgbmclassifier&#x27;,\n",
       "                 LGBMClassifier(max_depth=20, random_state=42))])</pre><b>In a Jupyter environment, please rerun this cell to show the HTML representation or trust the notebook. <br />On GitHub, the HTML representation is unable to render, please try loading this page with nbviewer.org.</b></div><div class=\"sk-container\" hidden><div class=\"sk-item sk-dashed-wrapped\"><div class=\"sk-label-container\"><div class=\"sk-label sk-toggleable\"><input class=\"sk-toggleable__control sk-hidden--visually\" id=\"sk-estimator-id-22\" type=\"checkbox\" ><label for=\"sk-estimator-id-22\" class=\"sk-toggleable__label sk-toggleable__label-arrow\">Pipeline</label><div class=\"sk-toggleable__content\"><pre>Pipeline(steps=[(&#x27;columntransformer&#x27;,\n",
       "                 ColumnTransformer(transformers=[(&#x27;num&#x27;, StandardScaler(),\n",
       "                                                  [&#x27;CreditScore&#x27;, &#x27;Age&#x27;,\n",
       "                                                   &#x27;Balance&#x27;, &#x27;NumOfProducts&#x27;,\n",
       "                                                   &#x27;HasCrCard&#x27;,\n",
       "                                                   &#x27;IsActiveMember&#x27;,\n",
       "                                                   &#x27;EstimatedSalary&#x27;]),\n",
       "                                                 (&#x27;cat&#x27;, OrdinalEncoder(),\n",
       "                                                  [&#x27;Geography&#x27;, &#x27;Gender&#x27;])])),\n",
       "                (&#x27;lgbmclassifier&#x27;,\n",
       "                 LGBMClassifier(max_depth=20, random_state=42))])</pre></div></div></div><div class=\"sk-serial\"><div class=\"sk-item sk-dashed-wrapped\"><div class=\"sk-label-container\"><div class=\"sk-label sk-toggleable\"><input class=\"sk-toggleable__control sk-hidden--visually\" id=\"sk-estimator-id-23\" type=\"checkbox\" ><label for=\"sk-estimator-id-23\" class=\"sk-toggleable__label sk-toggleable__label-arrow\">columntransformer: ColumnTransformer</label><div class=\"sk-toggleable__content\"><pre>ColumnTransformer(transformers=[(&#x27;num&#x27;, StandardScaler(),\n",
       "                                 [&#x27;CreditScore&#x27;, &#x27;Age&#x27;, &#x27;Balance&#x27;,\n",
       "                                  &#x27;NumOfProducts&#x27;, &#x27;HasCrCard&#x27;,\n",
       "                                  &#x27;IsActiveMember&#x27;, &#x27;EstimatedSalary&#x27;]),\n",
       "                                (&#x27;cat&#x27;, OrdinalEncoder(),\n",
       "                                 [&#x27;Geography&#x27;, &#x27;Gender&#x27;])])</pre></div></div></div><div class=\"sk-parallel\"><div class=\"sk-parallel-item\"><div class=\"sk-item\"><div class=\"sk-label-container\"><div class=\"sk-label sk-toggleable\"><input class=\"sk-toggleable__control sk-hidden--visually\" id=\"sk-estimator-id-24\" type=\"checkbox\" ><label for=\"sk-estimator-id-24\" class=\"sk-toggleable__label sk-toggleable__label-arrow\">num</label><div class=\"sk-toggleable__content\"><pre>[&#x27;CreditScore&#x27;, &#x27;Age&#x27;, &#x27;Balance&#x27;, &#x27;NumOfProducts&#x27;, &#x27;HasCrCard&#x27;, &#x27;IsActiveMember&#x27;, &#x27;EstimatedSalary&#x27;]</pre></div></div></div><div class=\"sk-serial\"><div class=\"sk-item\"><div class=\"sk-estimator sk-toggleable\"><input class=\"sk-toggleable__control sk-hidden--visually\" id=\"sk-estimator-id-25\" type=\"checkbox\" ><label for=\"sk-estimator-id-25\" class=\"sk-toggleable__label sk-toggleable__label-arrow\">StandardScaler</label><div class=\"sk-toggleable__content\"><pre>StandardScaler()</pre></div></div></div></div></div></div><div class=\"sk-parallel-item\"><div class=\"sk-item\"><div class=\"sk-label-container\"><div class=\"sk-label sk-toggleable\"><input class=\"sk-toggleable__control sk-hidden--visually\" id=\"sk-estimator-id-26\" type=\"checkbox\" ><label for=\"sk-estimator-id-26\" class=\"sk-toggleable__label sk-toggleable__label-arrow\">cat</label><div class=\"sk-toggleable__content\"><pre>[&#x27;Geography&#x27;, &#x27;Gender&#x27;]</pre></div></div></div><div class=\"sk-serial\"><div class=\"sk-item\"><div class=\"sk-estimator sk-toggleable\"><input class=\"sk-toggleable__control sk-hidden--visually\" id=\"sk-estimator-id-27\" type=\"checkbox\" ><label for=\"sk-estimator-id-27\" class=\"sk-toggleable__label sk-toggleable__label-arrow\">OrdinalEncoder</label><div class=\"sk-toggleable__content\"><pre>OrdinalEncoder()</pre></div></div></div></div></div></div></div></div><div class=\"sk-item\"><div class=\"sk-estimator sk-toggleable\"><input class=\"sk-toggleable__control sk-hidden--visually\" id=\"sk-estimator-id-28\" type=\"checkbox\" ><label for=\"sk-estimator-id-28\" class=\"sk-toggleable__label sk-toggleable__label-arrow\">LGBMClassifier</label><div class=\"sk-toggleable__content\"><pre>LGBMClassifier(max_depth=20, random_state=42)</pre></div></div></div></div></div></div></div>"
      ],
      "text/plain": [
       "Pipeline(steps=[('columntransformer',\n",
       "                 ColumnTransformer(transformers=[('num', StandardScaler(),\n",
       "                                                  ['CreditScore', 'Age',\n",
       "                                                   'Balance', 'NumOfProducts',\n",
       "                                                   'HasCrCard',\n",
       "                                                   'IsActiveMember',\n",
       "                                                   'EstimatedSalary']),\n",
       "                                                 ('cat', OrdinalEncoder(),\n",
       "                                                  ['Geography', 'Gender'])])),\n",
       "                ('lgbmclassifier',\n",
       "                 LGBMClassifier(max_depth=20, random_state=42))])"
      ]
     },
     "execution_count": 26,
     "metadata": {},
     "output_type": "execute_result"
    }
   ],
   "source": [
    "%%time\n",
    "\n",
    "# подбор лучших гиперпараметров модели кросс-валидацией\n",
    "GSCV_lgbm_imb = GridSearchCV(pipe_lgbm_imb, param_grid_lgbm_imb, cv=5, \n",
    "                             scoring=['f1', 'precision', 'recall', 'accuracy', 'roc_auc'],\n",
    "                             refit='f1')\n",
    "\n",
    "# обучение и вывод лучшей модели\n",
    "GSCV_lgbm_imb.fit(f_train, t_train) \n",
    "GSCV_lgbm_imb.best_estimator_ "
   ]
  },
  {
   "cell_type": "code",
   "execution_count": 27,
   "metadata": {
    "scrolled": true
   },
   "outputs": [
    {
     "data": {
      "text/plain": [
       "'F1-мера: 0.5766'"
      ]
     },
     "metadata": {},
     "output_type": "display_data"
    },
    {
     "data": {
      "text/plain": [
       "'Precision: 0.7177'"
      ]
     },
     "metadata": {},
     "output_type": "display_data"
    },
    {
     "data": {
      "text/plain": [
       "'Recall: 0.4837'"
      ]
     },
     "metadata": {},
     "output_type": "display_data"
    },
    {
     "data": {
      "text/plain": [
       "'Accuracy: 0.8557'"
      ]
     },
     "metadata": {},
     "output_type": "display_data"
    },
    {
     "data": {
      "text/plain": [
       "'ROC AUC: 0.8530'"
      ]
     },
     "metadata": {},
     "output_type": "display_data"
    }
   ],
   "source": [
    "# метрики, полученные кросс-валидацией для лучшей модели\n",
    "model_scoring(GSCV_lgbm_imb) "
   ]
  },
  {
   "cell_type": "markdown",
   "metadata": {},
   "source": [
    "### Заключение"
   ]
  },
  {
   "cell_type": "markdown",
   "metadata": {},
   "source": [
    "**Лучше всего** себя показали **случайного леса** (*F1-мера = 0.5628*) и бустинговая модель - **LGBM** (*F1-мера = 0.5766*). В то же время **логистическая ресгрессия показывает очень низкое значение *F1-меры = 0.3123***, в первую очередь за счёт очень маленького охвата (*Recall = 0.2114*). Также примечательно, что **для всех моделей точность заметно выше охвата**. Тем не менее, **целевого значения F1-меры на несбалансированных данных достичь не удалось**."
   ]
  },
  {
   "cell_type": "markdown",
   "metadata": {},
   "source": [
    "## Борьба с дисбалансом"
   ]
  },
  {
   "cell_type": "markdown",
   "metadata": {},
   "source": [
    "**Дисбаланс классов может мешать эффективному обучению модели**. Для борьбы с дисбалансом **воспользуемся** тремя подходами: **взвешиванием классов, увеличением и уменьшением выборки**. Последние два также попробуем сочетать со взвешиванием классов."
   ]
  },
  {
   "cell_type": "markdown",
   "metadata": {},
   "source": [
    "### Взвешивание классов"
   ]
  },
  {
   "cell_type": "markdown",
   "metadata": {},
   "source": [
    "#### Решающее дерево"
   ]
  },
  {
   "cell_type": "code",
   "execution_count": 28,
   "metadata": {},
   "outputs": [],
   "source": [
    "# создание pipeline для DecisionTreeClassifier\n",
    "pipe_tree_b = make_pipeline(ColumnTransformer([('num', StandardScaler(), numeric), \n",
    "                                               ('cat', OrdinalEncoder(), category)]),\n",
    "                            DecisionTreeClassifier(random_state=42, class_weight='balanced'))\n",
    "\n",
    "# сетка параметров для GridSearchCV\n",
    "param_grid_tree_b = {'decisiontreeclassifier__max_depth' : [3, 4, 5, 6, 7, 8, 9, 10]}     "
   ]
  },
  {
   "cell_type": "code",
   "execution_count": 29,
   "metadata": {},
   "outputs": [
    {
     "name": "stdout",
     "output_type": "stream",
     "text": [
      "CPU times: total: 4.39 s\n",
      "Wall time: 4.39 s\n"
     ]
    },
    {
     "data": {
      "text/html": [
       "<style>#sk-container-id-5 {color: black;background-color: white;}#sk-container-id-5 pre{padding: 0;}#sk-container-id-5 div.sk-toggleable {background-color: white;}#sk-container-id-5 label.sk-toggleable__label {cursor: pointer;display: block;width: 100%;margin-bottom: 0;padding: 0.3em;box-sizing: border-box;text-align: center;}#sk-container-id-5 label.sk-toggleable__label-arrow:before {content: \"▸\";float: left;margin-right: 0.25em;color: #696969;}#sk-container-id-5 label.sk-toggleable__label-arrow:hover:before {color: black;}#sk-container-id-5 div.sk-estimator:hover label.sk-toggleable__label-arrow:before {color: black;}#sk-container-id-5 div.sk-toggleable__content {max-height: 0;max-width: 0;overflow: hidden;text-align: left;background-color: #f0f8ff;}#sk-container-id-5 div.sk-toggleable__content pre {margin: 0.2em;color: black;border-radius: 0.25em;background-color: #f0f8ff;}#sk-container-id-5 input.sk-toggleable__control:checked~div.sk-toggleable__content {max-height: 200px;max-width: 100%;overflow: auto;}#sk-container-id-5 input.sk-toggleable__control:checked~label.sk-toggleable__label-arrow:before {content: \"▾\";}#sk-container-id-5 div.sk-estimator input.sk-toggleable__control:checked~label.sk-toggleable__label {background-color: #d4ebff;}#sk-container-id-5 div.sk-label input.sk-toggleable__control:checked~label.sk-toggleable__label {background-color: #d4ebff;}#sk-container-id-5 input.sk-hidden--visually {border: 0;clip: rect(1px 1px 1px 1px);clip: rect(1px, 1px, 1px, 1px);height: 1px;margin: -1px;overflow: hidden;padding: 0;position: absolute;width: 1px;}#sk-container-id-5 div.sk-estimator {font-family: monospace;background-color: #f0f8ff;border: 1px dotted black;border-radius: 0.25em;box-sizing: border-box;margin-bottom: 0.5em;}#sk-container-id-5 div.sk-estimator:hover {background-color: #d4ebff;}#sk-container-id-5 div.sk-parallel-item::after {content: \"\";width: 100%;border-bottom: 1px solid gray;flex-grow: 1;}#sk-container-id-5 div.sk-label:hover label.sk-toggleable__label {background-color: #d4ebff;}#sk-container-id-5 div.sk-serial::before {content: \"\";position: absolute;border-left: 1px solid gray;box-sizing: border-box;top: 0;bottom: 0;left: 50%;z-index: 0;}#sk-container-id-5 div.sk-serial {display: flex;flex-direction: column;align-items: center;background-color: white;padding-right: 0.2em;padding-left: 0.2em;position: relative;}#sk-container-id-5 div.sk-item {position: relative;z-index: 1;}#sk-container-id-5 div.sk-parallel {display: flex;align-items: stretch;justify-content: center;background-color: white;position: relative;}#sk-container-id-5 div.sk-item::before, #sk-container-id-5 div.sk-parallel-item::before {content: \"\";position: absolute;border-left: 1px solid gray;box-sizing: border-box;top: 0;bottom: 0;left: 50%;z-index: -1;}#sk-container-id-5 div.sk-parallel-item {display: flex;flex-direction: column;z-index: 1;position: relative;background-color: white;}#sk-container-id-5 div.sk-parallel-item:first-child::after {align-self: flex-end;width: 50%;}#sk-container-id-5 div.sk-parallel-item:last-child::after {align-self: flex-start;width: 50%;}#sk-container-id-5 div.sk-parallel-item:only-child::after {width: 0;}#sk-container-id-5 div.sk-dashed-wrapped {border: 1px dashed gray;margin: 0 0.4em 0.5em 0.4em;box-sizing: border-box;padding-bottom: 0.4em;background-color: white;}#sk-container-id-5 div.sk-label label {font-family: monospace;font-weight: bold;display: inline-block;line-height: 1.2em;}#sk-container-id-5 div.sk-label-container {text-align: center;}#sk-container-id-5 div.sk-container {/* jupyter's `normalize.less` sets `[hidden] { display: none; }` but bootstrap.min.css set `[hidden] { display: none !important; }` so we also need the `!important` here to be able to override the default hidden behavior on the sphinx rendered scikit-learn.org. See: https://github.com/scikit-learn/scikit-learn/issues/21755 */display: inline-block !important;position: relative;}#sk-container-id-5 div.sk-text-repr-fallback {display: none;}</style><div id=\"sk-container-id-5\" class=\"sk-top-container\"><div class=\"sk-text-repr-fallback\"><pre>Pipeline(steps=[(&#x27;columntransformer&#x27;,\n",
       "                 ColumnTransformer(transformers=[(&#x27;num&#x27;, StandardScaler(),\n",
       "                                                  [&#x27;CreditScore&#x27;, &#x27;Age&#x27;,\n",
       "                                                   &#x27;Balance&#x27;, &#x27;NumOfProducts&#x27;,\n",
       "                                                   &#x27;HasCrCard&#x27;,\n",
       "                                                   &#x27;IsActiveMember&#x27;,\n",
       "                                                   &#x27;EstimatedSalary&#x27;]),\n",
       "                                                 (&#x27;cat&#x27;, OrdinalEncoder(),\n",
       "                                                  [&#x27;Geography&#x27;, &#x27;Gender&#x27;])])),\n",
       "                (&#x27;decisiontreeclassifier&#x27;,\n",
       "                 DecisionTreeClassifier(class_weight=&#x27;balanced&#x27;, max_depth=5,\n",
       "                                        random_state=42))])</pre><b>In a Jupyter environment, please rerun this cell to show the HTML representation or trust the notebook. <br />On GitHub, the HTML representation is unable to render, please try loading this page with nbviewer.org.</b></div><div class=\"sk-container\" hidden><div class=\"sk-item sk-dashed-wrapped\"><div class=\"sk-label-container\"><div class=\"sk-label sk-toggleable\"><input class=\"sk-toggleable__control sk-hidden--visually\" id=\"sk-estimator-id-29\" type=\"checkbox\" ><label for=\"sk-estimator-id-29\" class=\"sk-toggleable__label sk-toggleable__label-arrow\">Pipeline</label><div class=\"sk-toggleable__content\"><pre>Pipeline(steps=[(&#x27;columntransformer&#x27;,\n",
       "                 ColumnTransformer(transformers=[(&#x27;num&#x27;, StandardScaler(),\n",
       "                                                  [&#x27;CreditScore&#x27;, &#x27;Age&#x27;,\n",
       "                                                   &#x27;Balance&#x27;, &#x27;NumOfProducts&#x27;,\n",
       "                                                   &#x27;HasCrCard&#x27;,\n",
       "                                                   &#x27;IsActiveMember&#x27;,\n",
       "                                                   &#x27;EstimatedSalary&#x27;]),\n",
       "                                                 (&#x27;cat&#x27;, OrdinalEncoder(),\n",
       "                                                  [&#x27;Geography&#x27;, &#x27;Gender&#x27;])])),\n",
       "                (&#x27;decisiontreeclassifier&#x27;,\n",
       "                 DecisionTreeClassifier(class_weight=&#x27;balanced&#x27;, max_depth=5,\n",
       "                                        random_state=42))])</pre></div></div></div><div class=\"sk-serial\"><div class=\"sk-item sk-dashed-wrapped\"><div class=\"sk-label-container\"><div class=\"sk-label sk-toggleable\"><input class=\"sk-toggleable__control sk-hidden--visually\" id=\"sk-estimator-id-30\" type=\"checkbox\" ><label for=\"sk-estimator-id-30\" class=\"sk-toggleable__label sk-toggleable__label-arrow\">columntransformer: ColumnTransformer</label><div class=\"sk-toggleable__content\"><pre>ColumnTransformer(transformers=[(&#x27;num&#x27;, StandardScaler(),\n",
       "                                 [&#x27;CreditScore&#x27;, &#x27;Age&#x27;, &#x27;Balance&#x27;,\n",
       "                                  &#x27;NumOfProducts&#x27;, &#x27;HasCrCard&#x27;,\n",
       "                                  &#x27;IsActiveMember&#x27;, &#x27;EstimatedSalary&#x27;]),\n",
       "                                (&#x27;cat&#x27;, OrdinalEncoder(),\n",
       "                                 [&#x27;Geography&#x27;, &#x27;Gender&#x27;])])</pre></div></div></div><div class=\"sk-parallel\"><div class=\"sk-parallel-item\"><div class=\"sk-item\"><div class=\"sk-label-container\"><div class=\"sk-label sk-toggleable\"><input class=\"sk-toggleable__control sk-hidden--visually\" id=\"sk-estimator-id-31\" type=\"checkbox\" ><label for=\"sk-estimator-id-31\" class=\"sk-toggleable__label sk-toggleable__label-arrow\">num</label><div class=\"sk-toggleable__content\"><pre>[&#x27;CreditScore&#x27;, &#x27;Age&#x27;, &#x27;Balance&#x27;, &#x27;NumOfProducts&#x27;, &#x27;HasCrCard&#x27;, &#x27;IsActiveMember&#x27;, &#x27;EstimatedSalary&#x27;]</pre></div></div></div><div class=\"sk-serial\"><div class=\"sk-item\"><div class=\"sk-estimator sk-toggleable\"><input class=\"sk-toggleable__control sk-hidden--visually\" id=\"sk-estimator-id-32\" type=\"checkbox\" ><label for=\"sk-estimator-id-32\" class=\"sk-toggleable__label sk-toggleable__label-arrow\">StandardScaler</label><div class=\"sk-toggleable__content\"><pre>StandardScaler()</pre></div></div></div></div></div></div><div class=\"sk-parallel-item\"><div class=\"sk-item\"><div class=\"sk-label-container\"><div class=\"sk-label sk-toggleable\"><input class=\"sk-toggleable__control sk-hidden--visually\" id=\"sk-estimator-id-33\" type=\"checkbox\" ><label for=\"sk-estimator-id-33\" class=\"sk-toggleable__label sk-toggleable__label-arrow\">cat</label><div class=\"sk-toggleable__content\"><pre>[&#x27;Geography&#x27;, &#x27;Gender&#x27;]</pre></div></div></div><div class=\"sk-serial\"><div class=\"sk-item\"><div class=\"sk-estimator sk-toggleable\"><input class=\"sk-toggleable__control sk-hidden--visually\" id=\"sk-estimator-id-34\" type=\"checkbox\" ><label for=\"sk-estimator-id-34\" class=\"sk-toggleable__label sk-toggleable__label-arrow\">OrdinalEncoder</label><div class=\"sk-toggleable__content\"><pre>OrdinalEncoder()</pre></div></div></div></div></div></div></div></div><div class=\"sk-item\"><div class=\"sk-estimator sk-toggleable\"><input class=\"sk-toggleable__control sk-hidden--visually\" id=\"sk-estimator-id-35\" type=\"checkbox\" ><label for=\"sk-estimator-id-35\" class=\"sk-toggleable__label sk-toggleable__label-arrow\">DecisionTreeClassifier</label><div class=\"sk-toggleable__content\"><pre>DecisionTreeClassifier(class_weight=&#x27;balanced&#x27;, max_depth=5, random_state=42)</pre></div></div></div></div></div></div></div>"
      ],
      "text/plain": [
       "Pipeline(steps=[('columntransformer',\n",
       "                 ColumnTransformer(transformers=[('num', StandardScaler(),\n",
       "                                                  ['CreditScore', 'Age',\n",
       "                                                   'Balance', 'NumOfProducts',\n",
       "                                                   'HasCrCard',\n",
       "                                                   'IsActiveMember',\n",
       "                                                   'EstimatedSalary']),\n",
       "                                                 ('cat', OrdinalEncoder(),\n",
       "                                                  ['Geography', 'Gender'])])),\n",
       "                ('decisiontreeclassifier',\n",
       "                 DecisionTreeClassifier(class_weight='balanced', max_depth=5,\n",
       "                                        random_state=42))])"
      ]
     },
     "execution_count": 29,
     "metadata": {},
     "output_type": "execute_result"
    }
   ],
   "source": [
    "%%time\n",
    "\n",
    "# подбор лучших гиперпараметров модели кросс-валидацией\n",
    "GSCV_tree_b = GridSearchCV(pipe_tree_b, param_grid_tree_b, cv=5, \n",
    "                             scoring=['f1', 'precision', 'recall', 'accuracy', 'roc_auc'],\n",
    "                             refit='f1')\n",
    "\n",
    "# обучение и вывод лучшей модели\n",
    "GSCV_tree_b.fit(f_train, t_train) \n",
    "GSCV_tree_b.best_estimator_ "
   ]
  },
  {
   "cell_type": "code",
   "execution_count": 30,
   "metadata": {
    "scrolled": false
   },
   "outputs": [
    {
     "data": {
      "text/plain": [
       "'F1-мера: 0.5567'"
      ]
     },
     "metadata": {},
     "output_type": "display_data"
    },
    {
     "data": {
      "text/plain": [
       "'Precision: 0.4689'"
      ]
     },
     "metadata": {},
     "output_type": "display_data"
    },
    {
     "data": {
      "text/plain": [
       "'Recall: 0.6956'"
      ]
     },
     "metadata": {},
     "output_type": "display_data"
    },
    {
     "data": {
      "text/plain": [
       "'Accuracy: 0.7737'"
      ]
     },
     "metadata": {},
     "output_type": "display_data"
    },
    {
     "data": {
      "text/plain": [
       "'ROC AUC: 0.8190'"
      ]
     },
     "metadata": {},
     "output_type": "display_data"
    }
   ],
   "source": [
    "# метрики, полученные кросс-валидацией для лучшей модели\n",
    "model_scoring(GSCV_tree_b) "
   ]
  },
  {
   "cell_type": "markdown",
   "metadata": {},
   "source": [
    "#### Случайный лес"
   ]
  },
  {
   "cell_type": "code",
   "execution_count": 31,
   "metadata": {},
   "outputs": [],
   "source": [
    "# создание pipeline для RandomForestClassifier\n",
    "pipe_forest_b = make_pipeline(ColumnTransformer([('num', StandardScaler(), numeric), \n",
    "                                                 ('cat', OrdinalEncoder(), category)]),\n",
    "                              RandomForestClassifier(random_state=42, class_weight='balanced'))\n",
    "\n",
    "# сетка параметров для GridSearchCV\n",
    "param_grid_forest_b = {'randomforestclassifier__max_depth' : [5, 7, 10, 15, 20],\n",
    "                       'randomforestclassifier__n_estimators' : [50, 100, 150]}     "
   ]
  },
  {
   "cell_type": "code",
   "execution_count": 32,
   "metadata": {},
   "outputs": [
    {
     "name": "stdout",
     "output_type": "stream",
     "text": [
      "CPU times: total: 2min 30s\n",
      "Wall time: 2min 30s\n"
     ]
    },
    {
     "data": {
      "text/html": [
       "<style>#sk-container-id-6 {color: black;background-color: white;}#sk-container-id-6 pre{padding: 0;}#sk-container-id-6 div.sk-toggleable {background-color: white;}#sk-container-id-6 label.sk-toggleable__label {cursor: pointer;display: block;width: 100%;margin-bottom: 0;padding: 0.3em;box-sizing: border-box;text-align: center;}#sk-container-id-6 label.sk-toggleable__label-arrow:before {content: \"▸\";float: left;margin-right: 0.25em;color: #696969;}#sk-container-id-6 label.sk-toggleable__label-arrow:hover:before {color: black;}#sk-container-id-6 div.sk-estimator:hover label.sk-toggleable__label-arrow:before {color: black;}#sk-container-id-6 div.sk-toggleable__content {max-height: 0;max-width: 0;overflow: hidden;text-align: left;background-color: #f0f8ff;}#sk-container-id-6 div.sk-toggleable__content pre {margin: 0.2em;color: black;border-radius: 0.25em;background-color: #f0f8ff;}#sk-container-id-6 input.sk-toggleable__control:checked~div.sk-toggleable__content {max-height: 200px;max-width: 100%;overflow: auto;}#sk-container-id-6 input.sk-toggleable__control:checked~label.sk-toggleable__label-arrow:before {content: \"▾\";}#sk-container-id-6 div.sk-estimator input.sk-toggleable__control:checked~label.sk-toggleable__label {background-color: #d4ebff;}#sk-container-id-6 div.sk-label input.sk-toggleable__control:checked~label.sk-toggleable__label {background-color: #d4ebff;}#sk-container-id-6 input.sk-hidden--visually {border: 0;clip: rect(1px 1px 1px 1px);clip: rect(1px, 1px, 1px, 1px);height: 1px;margin: -1px;overflow: hidden;padding: 0;position: absolute;width: 1px;}#sk-container-id-6 div.sk-estimator {font-family: monospace;background-color: #f0f8ff;border: 1px dotted black;border-radius: 0.25em;box-sizing: border-box;margin-bottom: 0.5em;}#sk-container-id-6 div.sk-estimator:hover {background-color: #d4ebff;}#sk-container-id-6 div.sk-parallel-item::after {content: \"\";width: 100%;border-bottom: 1px solid gray;flex-grow: 1;}#sk-container-id-6 div.sk-label:hover label.sk-toggleable__label {background-color: #d4ebff;}#sk-container-id-6 div.sk-serial::before {content: \"\";position: absolute;border-left: 1px solid gray;box-sizing: border-box;top: 0;bottom: 0;left: 50%;z-index: 0;}#sk-container-id-6 div.sk-serial {display: flex;flex-direction: column;align-items: center;background-color: white;padding-right: 0.2em;padding-left: 0.2em;position: relative;}#sk-container-id-6 div.sk-item {position: relative;z-index: 1;}#sk-container-id-6 div.sk-parallel {display: flex;align-items: stretch;justify-content: center;background-color: white;position: relative;}#sk-container-id-6 div.sk-item::before, #sk-container-id-6 div.sk-parallel-item::before {content: \"\";position: absolute;border-left: 1px solid gray;box-sizing: border-box;top: 0;bottom: 0;left: 50%;z-index: -1;}#sk-container-id-6 div.sk-parallel-item {display: flex;flex-direction: column;z-index: 1;position: relative;background-color: white;}#sk-container-id-6 div.sk-parallel-item:first-child::after {align-self: flex-end;width: 50%;}#sk-container-id-6 div.sk-parallel-item:last-child::after {align-self: flex-start;width: 50%;}#sk-container-id-6 div.sk-parallel-item:only-child::after {width: 0;}#sk-container-id-6 div.sk-dashed-wrapped {border: 1px dashed gray;margin: 0 0.4em 0.5em 0.4em;box-sizing: border-box;padding-bottom: 0.4em;background-color: white;}#sk-container-id-6 div.sk-label label {font-family: monospace;font-weight: bold;display: inline-block;line-height: 1.2em;}#sk-container-id-6 div.sk-label-container {text-align: center;}#sk-container-id-6 div.sk-container {/* jupyter's `normalize.less` sets `[hidden] { display: none; }` but bootstrap.min.css set `[hidden] { display: none !important; }` so we also need the `!important` here to be able to override the default hidden behavior on the sphinx rendered scikit-learn.org. See: https://github.com/scikit-learn/scikit-learn/issues/21755 */display: inline-block !important;position: relative;}#sk-container-id-6 div.sk-text-repr-fallback {display: none;}</style><div id=\"sk-container-id-6\" class=\"sk-top-container\"><div class=\"sk-text-repr-fallback\"><pre>Pipeline(steps=[(&#x27;columntransformer&#x27;,\n",
       "                 ColumnTransformer(transformers=[(&#x27;num&#x27;, StandardScaler(),\n",
       "                                                  [&#x27;CreditScore&#x27;, &#x27;Age&#x27;,\n",
       "                                                   &#x27;Balance&#x27;, &#x27;NumOfProducts&#x27;,\n",
       "                                                   &#x27;HasCrCard&#x27;,\n",
       "                                                   &#x27;IsActiveMember&#x27;,\n",
       "                                                   &#x27;EstimatedSalary&#x27;]),\n",
       "                                                 (&#x27;cat&#x27;, OrdinalEncoder(),\n",
       "                                                  [&#x27;Geography&#x27;, &#x27;Gender&#x27;])])),\n",
       "                (&#x27;randomforestclassifier&#x27;,\n",
       "                 RandomForestClassifier(class_weight=&#x27;balanced&#x27;, max_depth=10,\n",
       "                                        n_estimators=150, random_state=42))])</pre><b>In a Jupyter environment, please rerun this cell to show the HTML representation or trust the notebook. <br />On GitHub, the HTML representation is unable to render, please try loading this page with nbviewer.org.</b></div><div class=\"sk-container\" hidden><div class=\"sk-item sk-dashed-wrapped\"><div class=\"sk-label-container\"><div class=\"sk-label sk-toggleable\"><input class=\"sk-toggleable__control sk-hidden--visually\" id=\"sk-estimator-id-36\" type=\"checkbox\" ><label for=\"sk-estimator-id-36\" class=\"sk-toggleable__label sk-toggleable__label-arrow\">Pipeline</label><div class=\"sk-toggleable__content\"><pre>Pipeline(steps=[(&#x27;columntransformer&#x27;,\n",
       "                 ColumnTransformer(transformers=[(&#x27;num&#x27;, StandardScaler(),\n",
       "                                                  [&#x27;CreditScore&#x27;, &#x27;Age&#x27;,\n",
       "                                                   &#x27;Balance&#x27;, &#x27;NumOfProducts&#x27;,\n",
       "                                                   &#x27;HasCrCard&#x27;,\n",
       "                                                   &#x27;IsActiveMember&#x27;,\n",
       "                                                   &#x27;EstimatedSalary&#x27;]),\n",
       "                                                 (&#x27;cat&#x27;, OrdinalEncoder(),\n",
       "                                                  [&#x27;Geography&#x27;, &#x27;Gender&#x27;])])),\n",
       "                (&#x27;randomforestclassifier&#x27;,\n",
       "                 RandomForestClassifier(class_weight=&#x27;balanced&#x27;, max_depth=10,\n",
       "                                        n_estimators=150, random_state=42))])</pre></div></div></div><div class=\"sk-serial\"><div class=\"sk-item sk-dashed-wrapped\"><div class=\"sk-label-container\"><div class=\"sk-label sk-toggleable\"><input class=\"sk-toggleable__control sk-hidden--visually\" id=\"sk-estimator-id-37\" type=\"checkbox\" ><label for=\"sk-estimator-id-37\" class=\"sk-toggleable__label sk-toggleable__label-arrow\">columntransformer: ColumnTransformer</label><div class=\"sk-toggleable__content\"><pre>ColumnTransformer(transformers=[(&#x27;num&#x27;, StandardScaler(),\n",
       "                                 [&#x27;CreditScore&#x27;, &#x27;Age&#x27;, &#x27;Balance&#x27;,\n",
       "                                  &#x27;NumOfProducts&#x27;, &#x27;HasCrCard&#x27;,\n",
       "                                  &#x27;IsActiveMember&#x27;, &#x27;EstimatedSalary&#x27;]),\n",
       "                                (&#x27;cat&#x27;, OrdinalEncoder(),\n",
       "                                 [&#x27;Geography&#x27;, &#x27;Gender&#x27;])])</pre></div></div></div><div class=\"sk-parallel\"><div class=\"sk-parallel-item\"><div class=\"sk-item\"><div class=\"sk-label-container\"><div class=\"sk-label sk-toggleable\"><input class=\"sk-toggleable__control sk-hidden--visually\" id=\"sk-estimator-id-38\" type=\"checkbox\" ><label for=\"sk-estimator-id-38\" class=\"sk-toggleable__label sk-toggleable__label-arrow\">num</label><div class=\"sk-toggleable__content\"><pre>[&#x27;CreditScore&#x27;, &#x27;Age&#x27;, &#x27;Balance&#x27;, &#x27;NumOfProducts&#x27;, &#x27;HasCrCard&#x27;, &#x27;IsActiveMember&#x27;, &#x27;EstimatedSalary&#x27;]</pre></div></div></div><div class=\"sk-serial\"><div class=\"sk-item\"><div class=\"sk-estimator sk-toggleable\"><input class=\"sk-toggleable__control sk-hidden--visually\" id=\"sk-estimator-id-39\" type=\"checkbox\" ><label for=\"sk-estimator-id-39\" class=\"sk-toggleable__label sk-toggleable__label-arrow\">StandardScaler</label><div class=\"sk-toggleable__content\"><pre>StandardScaler()</pre></div></div></div></div></div></div><div class=\"sk-parallel-item\"><div class=\"sk-item\"><div class=\"sk-label-container\"><div class=\"sk-label sk-toggleable\"><input class=\"sk-toggleable__control sk-hidden--visually\" id=\"sk-estimator-id-40\" type=\"checkbox\" ><label for=\"sk-estimator-id-40\" class=\"sk-toggleable__label sk-toggleable__label-arrow\">cat</label><div class=\"sk-toggleable__content\"><pre>[&#x27;Geography&#x27;, &#x27;Gender&#x27;]</pre></div></div></div><div class=\"sk-serial\"><div class=\"sk-item\"><div class=\"sk-estimator sk-toggleable\"><input class=\"sk-toggleable__control sk-hidden--visually\" id=\"sk-estimator-id-41\" type=\"checkbox\" ><label for=\"sk-estimator-id-41\" class=\"sk-toggleable__label sk-toggleable__label-arrow\">OrdinalEncoder</label><div class=\"sk-toggleable__content\"><pre>OrdinalEncoder()</pre></div></div></div></div></div></div></div></div><div class=\"sk-item\"><div class=\"sk-estimator sk-toggleable\"><input class=\"sk-toggleable__control sk-hidden--visually\" id=\"sk-estimator-id-42\" type=\"checkbox\" ><label for=\"sk-estimator-id-42\" class=\"sk-toggleable__label sk-toggleable__label-arrow\">RandomForestClassifier</label><div class=\"sk-toggleable__content\"><pre>RandomForestClassifier(class_weight=&#x27;balanced&#x27;, max_depth=10, n_estimators=150,\n",
       "                       random_state=42)</pre></div></div></div></div></div></div></div>"
      ],
      "text/plain": [
       "Pipeline(steps=[('columntransformer',\n",
       "                 ColumnTransformer(transformers=[('num', StandardScaler(),\n",
       "                                                  ['CreditScore', 'Age',\n",
       "                                                   'Balance', 'NumOfProducts',\n",
       "                                                   'HasCrCard',\n",
       "                                                   'IsActiveMember',\n",
       "                                                   'EstimatedSalary']),\n",
       "                                                 ('cat', OrdinalEncoder(),\n",
       "                                                  ['Geography', 'Gender'])])),\n",
       "                ('randomforestclassifier',\n",
       "                 RandomForestClassifier(class_weight='balanced', max_depth=10,\n",
       "                                        n_estimators=150, random_state=42))])"
      ]
     },
     "execution_count": 32,
     "metadata": {},
     "output_type": "execute_result"
    }
   ],
   "source": [
    "%%time\n",
    "\n",
    "# подбор лучших гиперпараметров модели кросс-валидацией\n",
    "GSCV_forest_b = GridSearchCV(pipe_forest_b, param_grid_forest_b, cv=5, \n",
    "                             scoring=['f1', 'precision', 'recall', 'accuracy', 'roc_auc'],\n",
    "                             refit='f1')\n",
    "\n",
    "# обучение и вывод лучшей модели\n",
    "GSCV_forest_b.fit(f_train, t_train) \n",
    "GSCV_forest_b.best_estimator_ "
   ]
  },
  {
   "cell_type": "code",
   "execution_count": 33,
   "metadata": {
    "scrolled": true
   },
   "outputs": [
    {
     "data": {
      "text/plain": [
       "'F1-мера: 0.6055'"
      ]
     },
     "metadata": {},
     "output_type": "display_data"
    },
    {
     "data": {
      "text/plain": [
       "'Precision: 0.6020'"
      ]
     },
     "metadata": {},
     "output_type": "display_data"
    },
    {
     "data": {
      "text/plain": [
       "'Recall: 0.6099'"
      ]
     },
     "metadata": {},
     "output_type": "display_data"
    },
    {
     "data": {
      "text/plain": [
       "'Accuracy: 0.8381'"
      ]
     },
     "metadata": {},
     "output_type": "display_data"
    },
    {
     "data": {
      "text/plain": [
       "'ROC AUC: 0.8556'"
      ]
     },
     "metadata": {},
     "output_type": "display_data"
    }
   ],
   "source": [
    "# метрики, полученные кросс-валидацией для лучшей модели\n",
    "model_scoring(GSCV_forest_b) "
   ]
  },
  {
   "cell_type": "markdown",
   "metadata": {},
   "source": [
    "#### Логистическая регрессия"
   ]
  },
  {
   "cell_type": "code",
   "execution_count": 34,
   "metadata": {},
   "outputs": [],
   "source": [
    "# создание pipeline для LogisticRegression\n",
    "pipe_log_ress_b = make_pipeline(ColumnTransformer([('num', StandardScaler(), numeric), \n",
    "                                                   ('cat', OneHotEncoder(drop='first'), category)]),\n",
    "                                LogisticRegression(random_state=42, class_weight='balanced'))\n",
    "\n",
    "# сетка параметров для GridSearchCV\n",
    "param_grid_log_ress_b = {'logisticregression__max_iter' : [100, 150, 200, 300],\n",
    "                         'logisticregression__solver' : ['liblinear', 'lbfgs']}     "
   ]
  },
  {
   "cell_type": "code",
   "execution_count": 35,
   "metadata": {},
   "outputs": [
    {
     "name": "stdout",
     "output_type": "stream",
     "text": [
      "CPU times: total: 3.88 s\n",
      "Wall time: 3.89 s\n"
     ]
    },
    {
     "data": {
      "text/html": [
       "<style>#sk-container-id-7 {color: black;background-color: white;}#sk-container-id-7 pre{padding: 0;}#sk-container-id-7 div.sk-toggleable {background-color: white;}#sk-container-id-7 label.sk-toggleable__label {cursor: pointer;display: block;width: 100%;margin-bottom: 0;padding: 0.3em;box-sizing: border-box;text-align: center;}#sk-container-id-7 label.sk-toggleable__label-arrow:before {content: \"▸\";float: left;margin-right: 0.25em;color: #696969;}#sk-container-id-7 label.sk-toggleable__label-arrow:hover:before {color: black;}#sk-container-id-7 div.sk-estimator:hover label.sk-toggleable__label-arrow:before {color: black;}#sk-container-id-7 div.sk-toggleable__content {max-height: 0;max-width: 0;overflow: hidden;text-align: left;background-color: #f0f8ff;}#sk-container-id-7 div.sk-toggleable__content pre {margin: 0.2em;color: black;border-radius: 0.25em;background-color: #f0f8ff;}#sk-container-id-7 input.sk-toggleable__control:checked~div.sk-toggleable__content {max-height: 200px;max-width: 100%;overflow: auto;}#sk-container-id-7 input.sk-toggleable__control:checked~label.sk-toggleable__label-arrow:before {content: \"▾\";}#sk-container-id-7 div.sk-estimator input.sk-toggleable__control:checked~label.sk-toggleable__label {background-color: #d4ebff;}#sk-container-id-7 div.sk-label input.sk-toggleable__control:checked~label.sk-toggleable__label {background-color: #d4ebff;}#sk-container-id-7 input.sk-hidden--visually {border: 0;clip: rect(1px 1px 1px 1px);clip: rect(1px, 1px, 1px, 1px);height: 1px;margin: -1px;overflow: hidden;padding: 0;position: absolute;width: 1px;}#sk-container-id-7 div.sk-estimator {font-family: monospace;background-color: #f0f8ff;border: 1px dotted black;border-radius: 0.25em;box-sizing: border-box;margin-bottom: 0.5em;}#sk-container-id-7 div.sk-estimator:hover {background-color: #d4ebff;}#sk-container-id-7 div.sk-parallel-item::after {content: \"\";width: 100%;border-bottom: 1px solid gray;flex-grow: 1;}#sk-container-id-7 div.sk-label:hover label.sk-toggleable__label {background-color: #d4ebff;}#sk-container-id-7 div.sk-serial::before {content: \"\";position: absolute;border-left: 1px solid gray;box-sizing: border-box;top: 0;bottom: 0;left: 50%;z-index: 0;}#sk-container-id-7 div.sk-serial {display: flex;flex-direction: column;align-items: center;background-color: white;padding-right: 0.2em;padding-left: 0.2em;position: relative;}#sk-container-id-7 div.sk-item {position: relative;z-index: 1;}#sk-container-id-7 div.sk-parallel {display: flex;align-items: stretch;justify-content: center;background-color: white;position: relative;}#sk-container-id-7 div.sk-item::before, #sk-container-id-7 div.sk-parallel-item::before {content: \"\";position: absolute;border-left: 1px solid gray;box-sizing: border-box;top: 0;bottom: 0;left: 50%;z-index: -1;}#sk-container-id-7 div.sk-parallel-item {display: flex;flex-direction: column;z-index: 1;position: relative;background-color: white;}#sk-container-id-7 div.sk-parallel-item:first-child::after {align-self: flex-end;width: 50%;}#sk-container-id-7 div.sk-parallel-item:last-child::after {align-self: flex-start;width: 50%;}#sk-container-id-7 div.sk-parallel-item:only-child::after {width: 0;}#sk-container-id-7 div.sk-dashed-wrapped {border: 1px dashed gray;margin: 0 0.4em 0.5em 0.4em;box-sizing: border-box;padding-bottom: 0.4em;background-color: white;}#sk-container-id-7 div.sk-label label {font-family: monospace;font-weight: bold;display: inline-block;line-height: 1.2em;}#sk-container-id-7 div.sk-label-container {text-align: center;}#sk-container-id-7 div.sk-container {/* jupyter's `normalize.less` sets `[hidden] { display: none; }` but bootstrap.min.css set `[hidden] { display: none !important; }` so we also need the `!important` here to be able to override the default hidden behavior on the sphinx rendered scikit-learn.org. See: https://github.com/scikit-learn/scikit-learn/issues/21755 */display: inline-block !important;position: relative;}#sk-container-id-7 div.sk-text-repr-fallback {display: none;}</style><div id=\"sk-container-id-7\" class=\"sk-top-container\"><div class=\"sk-text-repr-fallback\"><pre>Pipeline(steps=[(&#x27;columntransformer&#x27;,\n",
       "                 ColumnTransformer(transformers=[(&#x27;num&#x27;, StandardScaler(),\n",
       "                                                  [&#x27;CreditScore&#x27;, &#x27;Age&#x27;,\n",
       "                                                   &#x27;Balance&#x27;, &#x27;NumOfProducts&#x27;,\n",
       "                                                   &#x27;HasCrCard&#x27;,\n",
       "                                                   &#x27;IsActiveMember&#x27;,\n",
       "                                                   &#x27;EstimatedSalary&#x27;]),\n",
       "                                                 (&#x27;cat&#x27;,\n",
       "                                                  OneHotEncoder(drop=&#x27;first&#x27;),\n",
       "                                                  [&#x27;Geography&#x27;, &#x27;Gender&#x27;])])),\n",
       "                (&#x27;logisticregression&#x27;,\n",
       "                 LogisticRegression(class_weight=&#x27;balanced&#x27;, random_state=42))])</pre><b>In a Jupyter environment, please rerun this cell to show the HTML representation or trust the notebook. <br />On GitHub, the HTML representation is unable to render, please try loading this page with nbviewer.org.</b></div><div class=\"sk-container\" hidden><div class=\"sk-item sk-dashed-wrapped\"><div class=\"sk-label-container\"><div class=\"sk-label sk-toggleable\"><input class=\"sk-toggleable__control sk-hidden--visually\" id=\"sk-estimator-id-43\" type=\"checkbox\" ><label for=\"sk-estimator-id-43\" class=\"sk-toggleable__label sk-toggleable__label-arrow\">Pipeline</label><div class=\"sk-toggleable__content\"><pre>Pipeline(steps=[(&#x27;columntransformer&#x27;,\n",
       "                 ColumnTransformer(transformers=[(&#x27;num&#x27;, StandardScaler(),\n",
       "                                                  [&#x27;CreditScore&#x27;, &#x27;Age&#x27;,\n",
       "                                                   &#x27;Balance&#x27;, &#x27;NumOfProducts&#x27;,\n",
       "                                                   &#x27;HasCrCard&#x27;,\n",
       "                                                   &#x27;IsActiveMember&#x27;,\n",
       "                                                   &#x27;EstimatedSalary&#x27;]),\n",
       "                                                 (&#x27;cat&#x27;,\n",
       "                                                  OneHotEncoder(drop=&#x27;first&#x27;),\n",
       "                                                  [&#x27;Geography&#x27;, &#x27;Gender&#x27;])])),\n",
       "                (&#x27;logisticregression&#x27;,\n",
       "                 LogisticRegression(class_weight=&#x27;balanced&#x27;, random_state=42))])</pre></div></div></div><div class=\"sk-serial\"><div class=\"sk-item sk-dashed-wrapped\"><div class=\"sk-label-container\"><div class=\"sk-label sk-toggleable\"><input class=\"sk-toggleable__control sk-hidden--visually\" id=\"sk-estimator-id-44\" type=\"checkbox\" ><label for=\"sk-estimator-id-44\" class=\"sk-toggleable__label sk-toggleable__label-arrow\">columntransformer: ColumnTransformer</label><div class=\"sk-toggleable__content\"><pre>ColumnTransformer(transformers=[(&#x27;num&#x27;, StandardScaler(),\n",
       "                                 [&#x27;CreditScore&#x27;, &#x27;Age&#x27;, &#x27;Balance&#x27;,\n",
       "                                  &#x27;NumOfProducts&#x27;, &#x27;HasCrCard&#x27;,\n",
       "                                  &#x27;IsActiveMember&#x27;, &#x27;EstimatedSalary&#x27;]),\n",
       "                                (&#x27;cat&#x27;, OneHotEncoder(drop=&#x27;first&#x27;),\n",
       "                                 [&#x27;Geography&#x27;, &#x27;Gender&#x27;])])</pre></div></div></div><div class=\"sk-parallel\"><div class=\"sk-parallel-item\"><div class=\"sk-item\"><div class=\"sk-label-container\"><div class=\"sk-label sk-toggleable\"><input class=\"sk-toggleable__control sk-hidden--visually\" id=\"sk-estimator-id-45\" type=\"checkbox\" ><label for=\"sk-estimator-id-45\" class=\"sk-toggleable__label sk-toggleable__label-arrow\">num</label><div class=\"sk-toggleable__content\"><pre>[&#x27;CreditScore&#x27;, &#x27;Age&#x27;, &#x27;Balance&#x27;, &#x27;NumOfProducts&#x27;, &#x27;HasCrCard&#x27;, &#x27;IsActiveMember&#x27;, &#x27;EstimatedSalary&#x27;]</pre></div></div></div><div class=\"sk-serial\"><div class=\"sk-item\"><div class=\"sk-estimator sk-toggleable\"><input class=\"sk-toggleable__control sk-hidden--visually\" id=\"sk-estimator-id-46\" type=\"checkbox\" ><label for=\"sk-estimator-id-46\" class=\"sk-toggleable__label sk-toggleable__label-arrow\">StandardScaler</label><div class=\"sk-toggleable__content\"><pre>StandardScaler()</pre></div></div></div></div></div></div><div class=\"sk-parallel-item\"><div class=\"sk-item\"><div class=\"sk-label-container\"><div class=\"sk-label sk-toggleable\"><input class=\"sk-toggleable__control sk-hidden--visually\" id=\"sk-estimator-id-47\" type=\"checkbox\" ><label for=\"sk-estimator-id-47\" class=\"sk-toggleable__label sk-toggleable__label-arrow\">cat</label><div class=\"sk-toggleable__content\"><pre>[&#x27;Geography&#x27;, &#x27;Gender&#x27;]</pre></div></div></div><div class=\"sk-serial\"><div class=\"sk-item\"><div class=\"sk-estimator sk-toggleable\"><input class=\"sk-toggleable__control sk-hidden--visually\" id=\"sk-estimator-id-48\" type=\"checkbox\" ><label for=\"sk-estimator-id-48\" class=\"sk-toggleable__label sk-toggleable__label-arrow\">OneHotEncoder</label><div class=\"sk-toggleable__content\"><pre>OneHotEncoder(drop=&#x27;first&#x27;)</pre></div></div></div></div></div></div></div></div><div class=\"sk-item\"><div class=\"sk-estimator sk-toggleable\"><input class=\"sk-toggleable__control sk-hidden--visually\" id=\"sk-estimator-id-49\" type=\"checkbox\" ><label for=\"sk-estimator-id-49\" class=\"sk-toggleable__label sk-toggleable__label-arrow\">LogisticRegression</label><div class=\"sk-toggleable__content\"><pre>LogisticRegression(class_weight=&#x27;balanced&#x27;, random_state=42)</pre></div></div></div></div></div></div></div>"
      ],
      "text/plain": [
       "Pipeline(steps=[('columntransformer',\n",
       "                 ColumnTransformer(transformers=[('num', StandardScaler(),\n",
       "                                                  ['CreditScore', 'Age',\n",
       "                                                   'Balance', 'NumOfProducts',\n",
       "                                                   'HasCrCard',\n",
       "                                                   'IsActiveMember',\n",
       "                                                   'EstimatedSalary']),\n",
       "                                                 ('cat',\n",
       "                                                  OneHotEncoder(drop='first'),\n",
       "                                                  ['Geography', 'Gender'])])),\n",
       "                ('logisticregression',\n",
       "                 LogisticRegression(class_weight='balanced', random_state=42))])"
      ]
     },
     "execution_count": 35,
     "metadata": {},
     "output_type": "execute_result"
    }
   ],
   "source": [
    "%%time\n",
    "\n",
    "# подбор лучших гиперпараметров модели кросс-валидацией\n",
    "GSCV_log_ress_b = GridSearchCV(pipe_log_ress_b, param_grid_log_ress_b, cv=5, \n",
    "                               scoring=['f1', 'precision', 'recall', 'accuracy', 'roc_auc'],\n",
    "                               refit='f1')\n",
    "\n",
    "# обучение и вывод лучшей модели\n",
    "GSCV_log_ress_b.fit(f_train, t_train) \n",
    "GSCV_log_ress_b.best_estimator_ "
   ]
  },
  {
   "cell_type": "code",
   "execution_count": 36,
   "metadata": {
    "scrolled": true
   },
   "outputs": [
    {
     "data": {
      "text/plain": [
       "'F1-мера: 0.4832'"
      ]
     },
     "metadata": {},
     "output_type": "display_data"
    },
    {
     "data": {
      "text/plain": [
       "'Precision: 0.3751'"
      ]
     },
     "metadata": {},
     "output_type": "display_data"
    },
    {
     "data": {
      "text/plain": [
       "'Recall: 0.6793'"
      ]
     },
     "metadata": {},
     "output_type": "display_data"
    },
    {
     "data": {
      "text/plain": [
       "'Accuracy: 0.7039'"
      ]
     },
     "metadata": {},
     "output_type": "display_data"
    },
    {
     "data": {
      "text/plain": [
       "'ROC AUC: 0.7614'"
      ]
     },
     "metadata": {},
     "output_type": "display_data"
    }
   ],
   "source": [
    "# метрики, полученные кросс-валидацией для лучшей модели\n",
    "model_scoring(GSCV_log_ress_b) "
   ]
  },
  {
   "cell_type": "markdown",
   "metadata": {},
   "source": [
    "#### LGBMClassifier"
   ]
  },
  {
   "cell_type": "code",
   "execution_count": 37,
   "metadata": {},
   "outputs": [],
   "source": [
    "# создание pipeline для LGBMClassifier\n",
    "pipe_lgbm_b = make_pipeline(ColumnTransformer([('num', StandardScaler(), numeric), \n",
    "                                               ('cat', OrdinalEncoder(), category)]),\n",
    "                            LGBMClassifier(random_state=42, class_weight='balanced'))\n",
    "\n",
    "# сетка параметров для GridSearchCV\n",
    "param_grid_lgbm_b = {'lgbmclassifier__n_estimators' : [100, 150, 300, 500],\n",
    "                     'lgbmclassifier__max_depth' : [10, 15, 20, 30]}     "
   ]
  },
  {
   "cell_type": "code",
   "execution_count": 38,
   "metadata": {},
   "outputs": [
    {
     "name": "stdout",
     "output_type": "stream",
     "text": [
      "CPU times: total: 7min 19s\n",
      "Wall time: 1min 8s\n"
     ]
    },
    {
     "data": {
      "text/html": [
       "<style>#sk-container-id-8 {color: black;background-color: white;}#sk-container-id-8 pre{padding: 0;}#sk-container-id-8 div.sk-toggleable {background-color: white;}#sk-container-id-8 label.sk-toggleable__label {cursor: pointer;display: block;width: 100%;margin-bottom: 0;padding: 0.3em;box-sizing: border-box;text-align: center;}#sk-container-id-8 label.sk-toggleable__label-arrow:before {content: \"▸\";float: left;margin-right: 0.25em;color: #696969;}#sk-container-id-8 label.sk-toggleable__label-arrow:hover:before {color: black;}#sk-container-id-8 div.sk-estimator:hover label.sk-toggleable__label-arrow:before {color: black;}#sk-container-id-8 div.sk-toggleable__content {max-height: 0;max-width: 0;overflow: hidden;text-align: left;background-color: #f0f8ff;}#sk-container-id-8 div.sk-toggleable__content pre {margin: 0.2em;color: black;border-radius: 0.25em;background-color: #f0f8ff;}#sk-container-id-8 input.sk-toggleable__control:checked~div.sk-toggleable__content {max-height: 200px;max-width: 100%;overflow: auto;}#sk-container-id-8 input.sk-toggleable__control:checked~label.sk-toggleable__label-arrow:before {content: \"▾\";}#sk-container-id-8 div.sk-estimator input.sk-toggleable__control:checked~label.sk-toggleable__label {background-color: #d4ebff;}#sk-container-id-8 div.sk-label input.sk-toggleable__control:checked~label.sk-toggleable__label {background-color: #d4ebff;}#sk-container-id-8 input.sk-hidden--visually {border: 0;clip: rect(1px 1px 1px 1px);clip: rect(1px, 1px, 1px, 1px);height: 1px;margin: -1px;overflow: hidden;padding: 0;position: absolute;width: 1px;}#sk-container-id-8 div.sk-estimator {font-family: monospace;background-color: #f0f8ff;border: 1px dotted black;border-radius: 0.25em;box-sizing: border-box;margin-bottom: 0.5em;}#sk-container-id-8 div.sk-estimator:hover {background-color: #d4ebff;}#sk-container-id-8 div.sk-parallel-item::after {content: \"\";width: 100%;border-bottom: 1px solid gray;flex-grow: 1;}#sk-container-id-8 div.sk-label:hover label.sk-toggleable__label {background-color: #d4ebff;}#sk-container-id-8 div.sk-serial::before {content: \"\";position: absolute;border-left: 1px solid gray;box-sizing: border-box;top: 0;bottom: 0;left: 50%;z-index: 0;}#sk-container-id-8 div.sk-serial {display: flex;flex-direction: column;align-items: center;background-color: white;padding-right: 0.2em;padding-left: 0.2em;position: relative;}#sk-container-id-8 div.sk-item {position: relative;z-index: 1;}#sk-container-id-8 div.sk-parallel {display: flex;align-items: stretch;justify-content: center;background-color: white;position: relative;}#sk-container-id-8 div.sk-item::before, #sk-container-id-8 div.sk-parallel-item::before {content: \"\";position: absolute;border-left: 1px solid gray;box-sizing: border-box;top: 0;bottom: 0;left: 50%;z-index: -1;}#sk-container-id-8 div.sk-parallel-item {display: flex;flex-direction: column;z-index: 1;position: relative;background-color: white;}#sk-container-id-8 div.sk-parallel-item:first-child::after {align-self: flex-end;width: 50%;}#sk-container-id-8 div.sk-parallel-item:last-child::after {align-self: flex-start;width: 50%;}#sk-container-id-8 div.sk-parallel-item:only-child::after {width: 0;}#sk-container-id-8 div.sk-dashed-wrapped {border: 1px dashed gray;margin: 0 0.4em 0.5em 0.4em;box-sizing: border-box;padding-bottom: 0.4em;background-color: white;}#sk-container-id-8 div.sk-label label {font-family: monospace;font-weight: bold;display: inline-block;line-height: 1.2em;}#sk-container-id-8 div.sk-label-container {text-align: center;}#sk-container-id-8 div.sk-container {/* jupyter's `normalize.less` sets `[hidden] { display: none; }` but bootstrap.min.css set `[hidden] { display: none !important; }` so we also need the `!important` here to be able to override the default hidden behavior on the sphinx rendered scikit-learn.org. See: https://github.com/scikit-learn/scikit-learn/issues/21755 */display: inline-block !important;position: relative;}#sk-container-id-8 div.sk-text-repr-fallback {display: none;}</style><div id=\"sk-container-id-8\" class=\"sk-top-container\"><div class=\"sk-text-repr-fallback\"><pre>Pipeline(steps=[(&#x27;columntransformer&#x27;,\n",
       "                 ColumnTransformer(transformers=[(&#x27;num&#x27;, StandardScaler(),\n",
       "                                                  [&#x27;CreditScore&#x27;, &#x27;Age&#x27;,\n",
       "                                                   &#x27;Balance&#x27;, &#x27;NumOfProducts&#x27;,\n",
       "                                                   &#x27;HasCrCard&#x27;,\n",
       "                                                   &#x27;IsActiveMember&#x27;,\n",
       "                                                   &#x27;EstimatedSalary&#x27;]),\n",
       "                                                 (&#x27;cat&#x27;, OrdinalEncoder(),\n",
       "                                                  [&#x27;Geography&#x27;, &#x27;Gender&#x27;])])),\n",
       "                (&#x27;lgbmclassifier&#x27;,\n",
       "                 LGBMClassifier(class_weight=&#x27;balanced&#x27;, max_depth=10,\n",
       "                                random_state=42))])</pre><b>In a Jupyter environment, please rerun this cell to show the HTML representation or trust the notebook. <br />On GitHub, the HTML representation is unable to render, please try loading this page with nbviewer.org.</b></div><div class=\"sk-container\" hidden><div class=\"sk-item sk-dashed-wrapped\"><div class=\"sk-label-container\"><div class=\"sk-label sk-toggleable\"><input class=\"sk-toggleable__control sk-hidden--visually\" id=\"sk-estimator-id-50\" type=\"checkbox\" ><label for=\"sk-estimator-id-50\" class=\"sk-toggleable__label sk-toggleable__label-arrow\">Pipeline</label><div class=\"sk-toggleable__content\"><pre>Pipeline(steps=[(&#x27;columntransformer&#x27;,\n",
       "                 ColumnTransformer(transformers=[(&#x27;num&#x27;, StandardScaler(),\n",
       "                                                  [&#x27;CreditScore&#x27;, &#x27;Age&#x27;,\n",
       "                                                   &#x27;Balance&#x27;, &#x27;NumOfProducts&#x27;,\n",
       "                                                   &#x27;HasCrCard&#x27;,\n",
       "                                                   &#x27;IsActiveMember&#x27;,\n",
       "                                                   &#x27;EstimatedSalary&#x27;]),\n",
       "                                                 (&#x27;cat&#x27;, OrdinalEncoder(),\n",
       "                                                  [&#x27;Geography&#x27;, &#x27;Gender&#x27;])])),\n",
       "                (&#x27;lgbmclassifier&#x27;,\n",
       "                 LGBMClassifier(class_weight=&#x27;balanced&#x27;, max_depth=10,\n",
       "                                random_state=42))])</pre></div></div></div><div class=\"sk-serial\"><div class=\"sk-item sk-dashed-wrapped\"><div class=\"sk-label-container\"><div class=\"sk-label sk-toggleable\"><input class=\"sk-toggleable__control sk-hidden--visually\" id=\"sk-estimator-id-51\" type=\"checkbox\" ><label for=\"sk-estimator-id-51\" class=\"sk-toggleable__label sk-toggleable__label-arrow\">columntransformer: ColumnTransformer</label><div class=\"sk-toggleable__content\"><pre>ColumnTransformer(transformers=[(&#x27;num&#x27;, StandardScaler(),\n",
       "                                 [&#x27;CreditScore&#x27;, &#x27;Age&#x27;, &#x27;Balance&#x27;,\n",
       "                                  &#x27;NumOfProducts&#x27;, &#x27;HasCrCard&#x27;,\n",
       "                                  &#x27;IsActiveMember&#x27;, &#x27;EstimatedSalary&#x27;]),\n",
       "                                (&#x27;cat&#x27;, OrdinalEncoder(),\n",
       "                                 [&#x27;Geography&#x27;, &#x27;Gender&#x27;])])</pre></div></div></div><div class=\"sk-parallel\"><div class=\"sk-parallel-item\"><div class=\"sk-item\"><div class=\"sk-label-container\"><div class=\"sk-label sk-toggleable\"><input class=\"sk-toggleable__control sk-hidden--visually\" id=\"sk-estimator-id-52\" type=\"checkbox\" ><label for=\"sk-estimator-id-52\" class=\"sk-toggleable__label sk-toggleable__label-arrow\">num</label><div class=\"sk-toggleable__content\"><pre>[&#x27;CreditScore&#x27;, &#x27;Age&#x27;, &#x27;Balance&#x27;, &#x27;NumOfProducts&#x27;, &#x27;HasCrCard&#x27;, &#x27;IsActiveMember&#x27;, &#x27;EstimatedSalary&#x27;]</pre></div></div></div><div class=\"sk-serial\"><div class=\"sk-item\"><div class=\"sk-estimator sk-toggleable\"><input class=\"sk-toggleable__control sk-hidden--visually\" id=\"sk-estimator-id-53\" type=\"checkbox\" ><label for=\"sk-estimator-id-53\" class=\"sk-toggleable__label sk-toggleable__label-arrow\">StandardScaler</label><div class=\"sk-toggleable__content\"><pre>StandardScaler()</pre></div></div></div></div></div></div><div class=\"sk-parallel-item\"><div class=\"sk-item\"><div class=\"sk-label-container\"><div class=\"sk-label sk-toggleable\"><input class=\"sk-toggleable__control sk-hidden--visually\" id=\"sk-estimator-id-54\" type=\"checkbox\" ><label for=\"sk-estimator-id-54\" class=\"sk-toggleable__label sk-toggleable__label-arrow\">cat</label><div class=\"sk-toggleable__content\"><pre>[&#x27;Geography&#x27;, &#x27;Gender&#x27;]</pre></div></div></div><div class=\"sk-serial\"><div class=\"sk-item\"><div class=\"sk-estimator sk-toggleable\"><input class=\"sk-toggleable__control sk-hidden--visually\" id=\"sk-estimator-id-55\" type=\"checkbox\" ><label for=\"sk-estimator-id-55\" class=\"sk-toggleable__label sk-toggleable__label-arrow\">OrdinalEncoder</label><div class=\"sk-toggleable__content\"><pre>OrdinalEncoder()</pre></div></div></div></div></div></div></div></div><div class=\"sk-item\"><div class=\"sk-estimator sk-toggleable\"><input class=\"sk-toggleable__control sk-hidden--visually\" id=\"sk-estimator-id-56\" type=\"checkbox\" ><label for=\"sk-estimator-id-56\" class=\"sk-toggleable__label sk-toggleable__label-arrow\">LGBMClassifier</label><div class=\"sk-toggleable__content\"><pre>LGBMClassifier(class_weight=&#x27;balanced&#x27;, max_depth=10, random_state=42)</pre></div></div></div></div></div></div></div>"
      ],
      "text/plain": [
       "Pipeline(steps=[('columntransformer',\n",
       "                 ColumnTransformer(transformers=[('num', StandardScaler(),\n",
       "                                                  ['CreditScore', 'Age',\n",
       "                                                   'Balance', 'NumOfProducts',\n",
       "                                                   'HasCrCard',\n",
       "                                                   'IsActiveMember',\n",
       "                                                   'EstimatedSalary']),\n",
       "                                                 ('cat', OrdinalEncoder(),\n",
       "                                                  ['Geography', 'Gender'])])),\n",
       "                ('lgbmclassifier',\n",
       "                 LGBMClassifier(class_weight='balanced', max_depth=10,\n",
       "                                random_state=42))])"
      ]
     },
     "execution_count": 38,
     "metadata": {},
     "output_type": "execute_result"
    }
   ],
   "source": [
    "%%time\n",
    "\n",
    "# подбор лучших гиперпараметров модели кросс-валидацией\n",
    "GSCV_lgbm_b = GridSearchCV(pipe_lgbm_b, param_grid_lgbm_b, cv=5, \n",
    "                             scoring=['f1', 'precision', 'recall', 'accuracy', 'roc_auc'],\n",
    "                             refit='f1')\n",
    "\n",
    "# обучение и вывод лучшей модели\n",
    "GSCV_lgbm_b.fit(f_train, t_train) \n",
    "GSCV_lgbm_b.best_estimator_ "
   ]
  },
  {
   "cell_type": "code",
   "execution_count": 39,
   "metadata": {
    "scrolled": false
   },
   "outputs": [
    {
     "data": {
      "text/plain": [
       "'F1-мера: 0.6100'"
      ]
     },
     "metadata": {},
     "output_type": "display_data"
    },
    {
     "data": {
      "text/plain": [
       "'Precision: 0.5425'"
      ]
     },
     "metadata": {},
     "output_type": "display_data"
    },
    {
     "data": {
      "text/plain": [
       "'Recall: 0.6983'"
      ]
     },
     "metadata": {},
     "output_type": "display_data"
    },
    {
     "data": {
      "text/plain": [
       "'Accuracy: 0.8183'"
      ]
     },
     "metadata": {},
     "output_type": "display_data"
    },
    {
     "data": {
      "text/plain": [
       "'ROC AUC: 0.8533'"
      ]
     },
     "metadata": {},
     "output_type": "display_data"
    }
   ],
   "source": [
    "# метрики, полученные кросс-валидацией для лучшей модели\n",
    "model_scoring(GSCV_lgbm_b) "
   ]
  },
  {
   "cell_type": "markdown",
   "metadata": {},
   "source": [
    "### Увеличение выборки"
   ]
  },
  {
   "cell_type": "markdown",
   "metadata": {},
   "source": [
    "**Для увелечения выборки воспользуемся методом SMOTE**, который не просто дублирует объекты минорного класса, а создаёт на основе имеющихся похожие объекты. **Отсутствие полного дублирования позволит использовать для подбора гиперпараметров моделей кросс-валидацию**.  "
   ]
  },
  {
   "cell_type": "markdown",
   "metadata": {},
   "source": [
    "#### Решающее дерево"
   ]
  },
  {
   "cell_type": "code",
   "execution_count": 40,
   "metadata": {},
   "outputs": [],
   "source": [
    "# создание pipeline для DecisionTreeClassifier\n",
    "pipe_tree_up = make_pipeline(ColumnTransformer([('num', StandardScaler(), numeric), \n",
    "                                                ('cat', OrdinalEncoder(), category)]),\n",
    "                             SMOTE(random_state=42),\n",
    "                             DecisionTreeClassifier(random_state=42))\n",
    "\n",
    "# сетка параметров для GridSearchCV\n",
    "param_grid_tree_up = {'decisiontreeclassifier__max_depth' : [3, 4, 5, 6, 7, 8, 9, 10],\n",
    "                      'decisiontreeclassifier__class_weight' : ['balanced', 'None']}     "
   ]
  },
  {
   "cell_type": "code",
   "execution_count": 41,
   "metadata": {},
   "outputs": [
    {
     "name": "stdout",
     "output_type": "stream",
     "text": [
      "CPU times: total: 11.6 s\n",
      "Wall time: 11.6 s\n"
     ]
    },
    {
     "data": {
      "text/html": [
       "<style>#sk-container-id-9 {color: black;background-color: white;}#sk-container-id-9 pre{padding: 0;}#sk-container-id-9 div.sk-toggleable {background-color: white;}#sk-container-id-9 label.sk-toggleable__label {cursor: pointer;display: block;width: 100%;margin-bottom: 0;padding: 0.3em;box-sizing: border-box;text-align: center;}#sk-container-id-9 label.sk-toggleable__label-arrow:before {content: \"▸\";float: left;margin-right: 0.25em;color: #696969;}#sk-container-id-9 label.sk-toggleable__label-arrow:hover:before {color: black;}#sk-container-id-9 div.sk-estimator:hover label.sk-toggleable__label-arrow:before {color: black;}#sk-container-id-9 div.sk-toggleable__content {max-height: 0;max-width: 0;overflow: hidden;text-align: left;background-color: #f0f8ff;}#sk-container-id-9 div.sk-toggleable__content pre {margin: 0.2em;color: black;border-radius: 0.25em;background-color: #f0f8ff;}#sk-container-id-9 input.sk-toggleable__control:checked~div.sk-toggleable__content {max-height: 200px;max-width: 100%;overflow: auto;}#sk-container-id-9 input.sk-toggleable__control:checked~label.sk-toggleable__label-arrow:before {content: \"▾\";}#sk-container-id-9 div.sk-estimator input.sk-toggleable__control:checked~label.sk-toggleable__label {background-color: #d4ebff;}#sk-container-id-9 div.sk-label input.sk-toggleable__control:checked~label.sk-toggleable__label {background-color: #d4ebff;}#sk-container-id-9 input.sk-hidden--visually {border: 0;clip: rect(1px 1px 1px 1px);clip: rect(1px, 1px, 1px, 1px);height: 1px;margin: -1px;overflow: hidden;padding: 0;position: absolute;width: 1px;}#sk-container-id-9 div.sk-estimator {font-family: monospace;background-color: #f0f8ff;border: 1px dotted black;border-radius: 0.25em;box-sizing: border-box;margin-bottom: 0.5em;}#sk-container-id-9 div.sk-estimator:hover {background-color: #d4ebff;}#sk-container-id-9 div.sk-parallel-item::after {content: \"\";width: 100%;border-bottom: 1px solid gray;flex-grow: 1;}#sk-container-id-9 div.sk-label:hover label.sk-toggleable__label {background-color: #d4ebff;}#sk-container-id-9 div.sk-serial::before {content: \"\";position: absolute;border-left: 1px solid gray;box-sizing: border-box;top: 0;bottom: 0;left: 50%;z-index: 0;}#sk-container-id-9 div.sk-serial {display: flex;flex-direction: column;align-items: center;background-color: white;padding-right: 0.2em;padding-left: 0.2em;position: relative;}#sk-container-id-9 div.sk-item {position: relative;z-index: 1;}#sk-container-id-9 div.sk-parallel {display: flex;align-items: stretch;justify-content: center;background-color: white;position: relative;}#sk-container-id-9 div.sk-item::before, #sk-container-id-9 div.sk-parallel-item::before {content: \"\";position: absolute;border-left: 1px solid gray;box-sizing: border-box;top: 0;bottom: 0;left: 50%;z-index: -1;}#sk-container-id-9 div.sk-parallel-item {display: flex;flex-direction: column;z-index: 1;position: relative;background-color: white;}#sk-container-id-9 div.sk-parallel-item:first-child::after {align-self: flex-end;width: 50%;}#sk-container-id-9 div.sk-parallel-item:last-child::after {align-self: flex-start;width: 50%;}#sk-container-id-9 div.sk-parallel-item:only-child::after {width: 0;}#sk-container-id-9 div.sk-dashed-wrapped {border: 1px dashed gray;margin: 0 0.4em 0.5em 0.4em;box-sizing: border-box;padding-bottom: 0.4em;background-color: white;}#sk-container-id-9 div.sk-label label {font-family: monospace;font-weight: bold;display: inline-block;line-height: 1.2em;}#sk-container-id-9 div.sk-label-container {text-align: center;}#sk-container-id-9 div.sk-container {/* jupyter's `normalize.less` sets `[hidden] { display: none; }` but bootstrap.min.css set `[hidden] { display: none !important; }` so we also need the `!important` here to be able to override the default hidden behavior on the sphinx rendered scikit-learn.org. See: https://github.com/scikit-learn/scikit-learn/issues/21755 */display: inline-block !important;position: relative;}#sk-container-id-9 div.sk-text-repr-fallback {display: none;}</style><div id=\"sk-container-id-9\" class=\"sk-top-container\"><div class=\"sk-text-repr-fallback\"><pre>Pipeline(steps=[(&#x27;columntransformer&#x27;,\n",
       "                 ColumnTransformer(transformers=[(&#x27;num&#x27;, StandardScaler(),\n",
       "                                                  [&#x27;CreditScore&#x27;, &#x27;Age&#x27;,\n",
       "                                                   &#x27;Balance&#x27;, &#x27;NumOfProducts&#x27;,\n",
       "                                                   &#x27;HasCrCard&#x27;,\n",
       "                                                   &#x27;IsActiveMember&#x27;,\n",
       "                                                   &#x27;EstimatedSalary&#x27;]),\n",
       "                                                 (&#x27;cat&#x27;, OrdinalEncoder(),\n",
       "                                                  [&#x27;Geography&#x27;, &#x27;Gender&#x27;])])),\n",
       "                (&#x27;smote&#x27;, SMOTE(random_state=42)),\n",
       "                (&#x27;decisiontreeclassifier&#x27;,\n",
       "                 DecisionTreeClassifier(class_weight=&#x27;balanced&#x27;, max_depth=9,\n",
       "                                        random_state=42))])</pre><b>In a Jupyter environment, please rerun this cell to show the HTML representation or trust the notebook. <br />On GitHub, the HTML representation is unable to render, please try loading this page with nbviewer.org.</b></div><div class=\"sk-container\" hidden><div class=\"sk-item sk-dashed-wrapped\"><div class=\"sk-label-container\"><div class=\"sk-label sk-toggleable\"><input class=\"sk-toggleable__control sk-hidden--visually\" id=\"sk-estimator-id-57\" type=\"checkbox\" ><label for=\"sk-estimator-id-57\" class=\"sk-toggleable__label sk-toggleable__label-arrow\">Pipeline</label><div class=\"sk-toggleable__content\"><pre>Pipeline(steps=[(&#x27;columntransformer&#x27;,\n",
       "                 ColumnTransformer(transformers=[(&#x27;num&#x27;, StandardScaler(),\n",
       "                                                  [&#x27;CreditScore&#x27;, &#x27;Age&#x27;,\n",
       "                                                   &#x27;Balance&#x27;, &#x27;NumOfProducts&#x27;,\n",
       "                                                   &#x27;HasCrCard&#x27;,\n",
       "                                                   &#x27;IsActiveMember&#x27;,\n",
       "                                                   &#x27;EstimatedSalary&#x27;]),\n",
       "                                                 (&#x27;cat&#x27;, OrdinalEncoder(),\n",
       "                                                  [&#x27;Geography&#x27;, &#x27;Gender&#x27;])])),\n",
       "                (&#x27;smote&#x27;, SMOTE(random_state=42)),\n",
       "                (&#x27;decisiontreeclassifier&#x27;,\n",
       "                 DecisionTreeClassifier(class_weight=&#x27;balanced&#x27;, max_depth=9,\n",
       "                                        random_state=42))])</pre></div></div></div><div class=\"sk-serial\"><div class=\"sk-item sk-dashed-wrapped\"><div class=\"sk-label-container\"><div class=\"sk-label sk-toggleable\"><input class=\"sk-toggleable__control sk-hidden--visually\" id=\"sk-estimator-id-58\" type=\"checkbox\" ><label for=\"sk-estimator-id-58\" class=\"sk-toggleable__label sk-toggleable__label-arrow\">columntransformer: ColumnTransformer</label><div class=\"sk-toggleable__content\"><pre>ColumnTransformer(transformers=[(&#x27;num&#x27;, StandardScaler(),\n",
       "                                 [&#x27;CreditScore&#x27;, &#x27;Age&#x27;, &#x27;Balance&#x27;,\n",
       "                                  &#x27;NumOfProducts&#x27;, &#x27;HasCrCard&#x27;,\n",
       "                                  &#x27;IsActiveMember&#x27;, &#x27;EstimatedSalary&#x27;]),\n",
       "                                (&#x27;cat&#x27;, OrdinalEncoder(),\n",
       "                                 [&#x27;Geography&#x27;, &#x27;Gender&#x27;])])</pre></div></div></div><div class=\"sk-parallel\"><div class=\"sk-parallel-item\"><div class=\"sk-item\"><div class=\"sk-label-container\"><div class=\"sk-label sk-toggleable\"><input class=\"sk-toggleable__control sk-hidden--visually\" id=\"sk-estimator-id-59\" type=\"checkbox\" ><label for=\"sk-estimator-id-59\" class=\"sk-toggleable__label sk-toggleable__label-arrow\">num</label><div class=\"sk-toggleable__content\"><pre>[&#x27;CreditScore&#x27;, &#x27;Age&#x27;, &#x27;Balance&#x27;, &#x27;NumOfProducts&#x27;, &#x27;HasCrCard&#x27;, &#x27;IsActiveMember&#x27;, &#x27;EstimatedSalary&#x27;]</pre></div></div></div><div class=\"sk-serial\"><div class=\"sk-item\"><div class=\"sk-estimator sk-toggleable\"><input class=\"sk-toggleable__control sk-hidden--visually\" id=\"sk-estimator-id-60\" type=\"checkbox\" ><label for=\"sk-estimator-id-60\" class=\"sk-toggleable__label sk-toggleable__label-arrow\">StandardScaler</label><div class=\"sk-toggleable__content\"><pre>StandardScaler()</pre></div></div></div></div></div></div><div class=\"sk-parallel-item\"><div class=\"sk-item\"><div class=\"sk-label-container\"><div class=\"sk-label sk-toggleable\"><input class=\"sk-toggleable__control sk-hidden--visually\" id=\"sk-estimator-id-61\" type=\"checkbox\" ><label for=\"sk-estimator-id-61\" class=\"sk-toggleable__label sk-toggleable__label-arrow\">cat</label><div class=\"sk-toggleable__content\"><pre>[&#x27;Geography&#x27;, &#x27;Gender&#x27;]</pre></div></div></div><div class=\"sk-serial\"><div class=\"sk-item\"><div class=\"sk-estimator sk-toggleable\"><input class=\"sk-toggleable__control sk-hidden--visually\" id=\"sk-estimator-id-62\" type=\"checkbox\" ><label for=\"sk-estimator-id-62\" class=\"sk-toggleable__label sk-toggleable__label-arrow\">OrdinalEncoder</label><div class=\"sk-toggleable__content\"><pre>OrdinalEncoder()</pre></div></div></div></div></div></div></div></div><div class=\"sk-item\"><div class=\"sk-estimator sk-toggleable\"><input class=\"sk-toggleable__control sk-hidden--visually\" id=\"sk-estimator-id-63\" type=\"checkbox\" ><label for=\"sk-estimator-id-63\" class=\"sk-toggleable__label sk-toggleable__label-arrow\">SMOTE</label><div class=\"sk-toggleable__content\"><pre>SMOTE(random_state=42)</pre></div></div></div><div class=\"sk-item\"><div class=\"sk-estimator sk-toggleable\"><input class=\"sk-toggleable__control sk-hidden--visually\" id=\"sk-estimator-id-64\" type=\"checkbox\" ><label for=\"sk-estimator-id-64\" class=\"sk-toggleable__label sk-toggleable__label-arrow\">DecisionTreeClassifier</label><div class=\"sk-toggleable__content\"><pre>DecisionTreeClassifier(class_weight=&#x27;balanced&#x27;, max_depth=9, random_state=42)</pre></div></div></div></div></div></div></div>"
      ],
      "text/plain": [
       "Pipeline(steps=[('columntransformer',\n",
       "                 ColumnTransformer(transformers=[('num', StandardScaler(),\n",
       "                                                  ['CreditScore', 'Age',\n",
       "                                                   'Balance', 'NumOfProducts',\n",
       "                                                   'HasCrCard',\n",
       "                                                   'IsActiveMember',\n",
       "                                                   'EstimatedSalary']),\n",
       "                                                 ('cat', OrdinalEncoder(),\n",
       "                                                  ['Geography', 'Gender'])])),\n",
       "                ('smote', SMOTE(random_state=42)),\n",
       "                ('decisiontreeclassifier',\n",
       "                 DecisionTreeClassifier(class_weight='balanced', max_depth=9,\n",
       "                                        random_state=42))])"
      ]
     },
     "execution_count": 41,
     "metadata": {},
     "output_type": "execute_result"
    }
   ],
   "source": [
    "%%time\n",
    "\n",
    "# подбор лучших гиперпараметров модели кросс-валидацией\n",
    "GSCV_tree_up = GridSearchCV(pipe_tree_up, param_grid_tree_up, cv=5, \n",
    "                            scoring=['f1', 'precision', 'recall', 'accuracy', 'roc_auc'],\n",
    "                            refit='f1')\n",
    "\n",
    "# обучение и вывод лучшей модели\n",
    "GSCV_tree_up.fit(f_train, t_train) \n",
    "GSCV_tree_up.best_estimator_ "
   ]
  },
  {
   "cell_type": "code",
   "execution_count": 42,
   "metadata": {
    "scrolled": false
   },
   "outputs": [
    {
     "data": {
      "text/plain": [
       "'F1-мера: 0.5682'"
      ]
     },
     "metadata": {},
     "output_type": "display_data"
    },
    {
     "data": {
      "text/plain": [
       "'Precision: 0.5080'"
      ]
     },
     "metadata": {},
     "output_type": "display_data"
    },
    {
     "data": {
      "text/plain": [
       "'Recall: 0.6479'"
      ]
     },
     "metadata": {},
     "output_type": "display_data"
    },
    {
     "data": {
      "text/plain": [
       "'Accuracy: 0.7989'"
      ]
     },
     "metadata": {},
     "output_type": "display_data"
    },
    {
     "data": {
      "text/plain": [
       "'ROC AUC: 0.8017'"
      ]
     },
     "metadata": {},
     "output_type": "display_data"
    }
   ],
   "source": [
    "# метрики, полученные кросс-валидацией для лучшей модели\n",
    "model_scoring(GSCV_tree_up) "
   ]
  },
  {
   "cell_type": "markdown",
   "metadata": {},
   "source": [
    "#### Случайный лес"
   ]
  },
  {
   "cell_type": "code",
   "execution_count": 43,
   "metadata": {},
   "outputs": [],
   "source": [
    "# создание pipeline для RandomForestClassifier\n",
    "pipe_forest_up = make_pipeline(ColumnTransformer([('num', StandardScaler(), numeric), \n",
    "                                                  ('cat', OrdinalEncoder(), category)]),\n",
    "                               SMOTE(random_state=42),\n",
    "                               RandomForestClassifier(random_state=42))\n",
    "\n",
    "# сетка параметров для GridSearchCV\n",
    "param_grid_forest_up = {'randomforestclassifier__max_depth' : [5, 7, 10, 15, 20],\n",
    "                        'randomforestclassifier__n_estimators' : [50, 100, 150],\n",
    "                        'randomforestclassifier__class_weight' : ['balanced', 'None']}     "
   ]
  },
  {
   "cell_type": "code",
   "execution_count": 44,
   "metadata": {},
   "outputs": [
    {
     "name": "stdout",
     "output_type": "stream",
     "text": [
      "CPU times: total: 4min 29s\n",
      "Wall time: 4min 29s\n"
     ]
    },
    {
     "data": {
      "text/html": [
       "<style>#sk-container-id-10 {color: black;background-color: white;}#sk-container-id-10 pre{padding: 0;}#sk-container-id-10 div.sk-toggleable {background-color: white;}#sk-container-id-10 label.sk-toggleable__label {cursor: pointer;display: block;width: 100%;margin-bottom: 0;padding: 0.3em;box-sizing: border-box;text-align: center;}#sk-container-id-10 label.sk-toggleable__label-arrow:before {content: \"▸\";float: left;margin-right: 0.25em;color: #696969;}#sk-container-id-10 label.sk-toggleable__label-arrow:hover:before {color: black;}#sk-container-id-10 div.sk-estimator:hover label.sk-toggleable__label-arrow:before {color: black;}#sk-container-id-10 div.sk-toggleable__content {max-height: 0;max-width: 0;overflow: hidden;text-align: left;background-color: #f0f8ff;}#sk-container-id-10 div.sk-toggleable__content pre {margin: 0.2em;color: black;border-radius: 0.25em;background-color: #f0f8ff;}#sk-container-id-10 input.sk-toggleable__control:checked~div.sk-toggleable__content {max-height: 200px;max-width: 100%;overflow: auto;}#sk-container-id-10 input.sk-toggleable__control:checked~label.sk-toggleable__label-arrow:before {content: \"▾\";}#sk-container-id-10 div.sk-estimator input.sk-toggleable__control:checked~label.sk-toggleable__label {background-color: #d4ebff;}#sk-container-id-10 div.sk-label input.sk-toggleable__control:checked~label.sk-toggleable__label {background-color: #d4ebff;}#sk-container-id-10 input.sk-hidden--visually {border: 0;clip: rect(1px 1px 1px 1px);clip: rect(1px, 1px, 1px, 1px);height: 1px;margin: -1px;overflow: hidden;padding: 0;position: absolute;width: 1px;}#sk-container-id-10 div.sk-estimator {font-family: monospace;background-color: #f0f8ff;border: 1px dotted black;border-radius: 0.25em;box-sizing: border-box;margin-bottom: 0.5em;}#sk-container-id-10 div.sk-estimator:hover {background-color: #d4ebff;}#sk-container-id-10 div.sk-parallel-item::after {content: \"\";width: 100%;border-bottom: 1px solid gray;flex-grow: 1;}#sk-container-id-10 div.sk-label:hover label.sk-toggleable__label {background-color: #d4ebff;}#sk-container-id-10 div.sk-serial::before {content: \"\";position: absolute;border-left: 1px solid gray;box-sizing: border-box;top: 0;bottom: 0;left: 50%;z-index: 0;}#sk-container-id-10 div.sk-serial {display: flex;flex-direction: column;align-items: center;background-color: white;padding-right: 0.2em;padding-left: 0.2em;position: relative;}#sk-container-id-10 div.sk-item {position: relative;z-index: 1;}#sk-container-id-10 div.sk-parallel {display: flex;align-items: stretch;justify-content: center;background-color: white;position: relative;}#sk-container-id-10 div.sk-item::before, #sk-container-id-10 div.sk-parallel-item::before {content: \"\";position: absolute;border-left: 1px solid gray;box-sizing: border-box;top: 0;bottom: 0;left: 50%;z-index: -1;}#sk-container-id-10 div.sk-parallel-item {display: flex;flex-direction: column;z-index: 1;position: relative;background-color: white;}#sk-container-id-10 div.sk-parallel-item:first-child::after {align-self: flex-end;width: 50%;}#sk-container-id-10 div.sk-parallel-item:last-child::after {align-self: flex-start;width: 50%;}#sk-container-id-10 div.sk-parallel-item:only-child::after {width: 0;}#sk-container-id-10 div.sk-dashed-wrapped {border: 1px dashed gray;margin: 0 0.4em 0.5em 0.4em;box-sizing: border-box;padding-bottom: 0.4em;background-color: white;}#sk-container-id-10 div.sk-label label {font-family: monospace;font-weight: bold;display: inline-block;line-height: 1.2em;}#sk-container-id-10 div.sk-label-container {text-align: center;}#sk-container-id-10 div.sk-container {/* jupyter's `normalize.less` sets `[hidden] { display: none; }` but bootstrap.min.css set `[hidden] { display: none !important; }` so we also need the `!important` here to be able to override the default hidden behavior on the sphinx rendered scikit-learn.org. See: https://github.com/scikit-learn/scikit-learn/issues/21755 */display: inline-block !important;position: relative;}#sk-container-id-10 div.sk-text-repr-fallback {display: none;}</style><div id=\"sk-container-id-10\" class=\"sk-top-container\"><div class=\"sk-text-repr-fallback\"><pre>Pipeline(steps=[(&#x27;columntransformer&#x27;,\n",
       "                 ColumnTransformer(transformers=[(&#x27;num&#x27;, StandardScaler(),\n",
       "                                                  [&#x27;CreditScore&#x27;, &#x27;Age&#x27;,\n",
       "                                                   &#x27;Balance&#x27;, &#x27;NumOfProducts&#x27;,\n",
       "                                                   &#x27;HasCrCard&#x27;,\n",
       "                                                   &#x27;IsActiveMember&#x27;,\n",
       "                                                   &#x27;EstimatedSalary&#x27;]),\n",
       "                                                 (&#x27;cat&#x27;, OrdinalEncoder(),\n",
       "                                                  [&#x27;Geography&#x27;, &#x27;Gender&#x27;])])),\n",
       "                (&#x27;smote&#x27;, SMOTE(random_state=42)),\n",
       "                (&#x27;randomforestclassifier&#x27;,\n",
       "                 RandomForestClassifier(class_weight=&#x27;balanced&#x27;, max_depth=10,\n",
       "                                        n_estimators=50, random_state=42))])</pre><b>In a Jupyter environment, please rerun this cell to show the HTML representation or trust the notebook. <br />On GitHub, the HTML representation is unable to render, please try loading this page with nbviewer.org.</b></div><div class=\"sk-container\" hidden><div class=\"sk-item sk-dashed-wrapped\"><div class=\"sk-label-container\"><div class=\"sk-label sk-toggleable\"><input class=\"sk-toggleable__control sk-hidden--visually\" id=\"sk-estimator-id-65\" type=\"checkbox\" ><label for=\"sk-estimator-id-65\" class=\"sk-toggleable__label sk-toggleable__label-arrow\">Pipeline</label><div class=\"sk-toggleable__content\"><pre>Pipeline(steps=[(&#x27;columntransformer&#x27;,\n",
       "                 ColumnTransformer(transformers=[(&#x27;num&#x27;, StandardScaler(),\n",
       "                                                  [&#x27;CreditScore&#x27;, &#x27;Age&#x27;,\n",
       "                                                   &#x27;Balance&#x27;, &#x27;NumOfProducts&#x27;,\n",
       "                                                   &#x27;HasCrCard&#x27;,\n",
       "                                                   &#x27;IsActiveMember&#x27;,\n",
       "                                                   &#x27;EstimatedSalary&#x27;]),\n",
       "                                                 (&#x27;cat&#x27;, OrdinalEncoder(),\n",
       "                                                  [&#x27;Geography&#x27;, &#x27;Gender&#x27;])])),\n",
       "                (&#x27;smote&#x27;, SMOTE(random_state=42)),\n",
       "                (&#x27;randomforestclassifier&#x27;,\n",
       "                 RandomForestClassifier(class_weight=&#x27;balanced&#x27;, max_depth=10,\n",
       "                                        n_estimators=50, random_state=42))])</pre></div></div></div><div class=\"sk-serial\"><div class=\"sk-item sk-dashed-wrapped\"><div class=\"sk-label-container\"><div class=\"sk-label sk-toggleable\"><input class=\"sk-toggleable__control sk-hidden--visually\" id=\"sk-estimator-id-66\" type=\"checkbox\" ><label for=\"sk-estimator-id-66\" class=\"sk-toggleable__label sk-toggleable__label-arrow\">columntransformer: ColumnTransformer</label><div class=\"sk-toggleable__content\"><pre>ColumnTransformer(transformers=[(&#x27;num&#x27;, StandardScaler(),\n",
       "                                 [&#x27;CreditScore&#x27;, &#x27;Age&#x27;, &#x27;Balance&#x27;,\n",
       "                                  &#x27;NumOfProducts&#x27;, &#x27;HasCrCard&#x27;,\n",
       "                                  &#x27;IsActiveMember&#x27;, &#x27;EstimatedSalary&#x27;]),\n",
       "                                (&#x27;cat&#x27;, OrdinalEncoder(),\n",
       "                                 [&#x27;Geography&#x27;, &#x27;Gender&#x27;])])</pre></div></div></div><div class=\"sk-parallel\"><div class=\"sk-parallel-item\"><div class=\"sk-item\"><div class=\"sk-label-container\"><div class=\"sk-label sk-toggleable\"><input class=\"sk-toggleable__control sk-hidden--visually\" id=\"sk-estimator-id-67\" type=\"checkbox\" ><label for=\"sk-estimator-id-67\" class=\"sk-toggleable__label sk-toggleable__label-arrow\">num</label><div class=\"sk-toggleable__content\"><pre>[&#x27;CreditScore&#x27;, &#x27;Age&#x27;, &#x27;Balance&#x27;, &#x27;NumOfProducts&#x27;, &#x27;HasCrCard&#x27;, &#x27;IsActiveMember&#x27;, &#x27;EstimatedSalary&#x27;]</pre></div></div></div><div class=\"sk-serial\"><div class=\"sk-item\"><div class=\"sk-estimator sk-toggleable\"><input class=\"sk-toggleable__control sk-hidden--visually\" id=\"sk-estimator-id-68\" type=\"checkbox\" ><label for=\"sk-estimator-id-68\" class=\"sk-toggleable__label sk-toggleable__label-arrow\">StandardScaler</label><div class=\"sk-toggleable__content\"><pre>StandardScaler()</pre></div></div></div></div></div></div><div class=\"sk-parallel-item\"><div class=\"sk-item\"><div class=\"sk-label-container\"><div class=\"sk-label sk-toggleable\"><input class=\"sk-toggleable__control sk-hidden--visually\" id=\"sk-estimator-id-69\" type=\"checkbox\" ><label for=\"sk-estimator-id-69\" class=\"sk-toggleable__label sk-toggleable__label-arrow\">cat</label><div class=\"sk-toggleable__content\"><pre>[&#x27;Geography&#x27;, &#x27;Gender&#x27;]</pre></div></div></div><div class=\"sk-serial\"><div class=\"sk-item\"><div class=\"sk-estimator sk-toggleable\"><input class=\"sk-toggleable__control sk-hidden--visually\" id=\"sk-estimator-id-70\" type=\"checkbox\" ><label for=\"sk-estimator-id-70\" class=\"sk-toggleable__label sk-toggleable__label-arrow\">OrdinalEncoder</label><div class=\"sk-toggleable__content\"><pre>OrdinalEncoder()</pre></div></div></div></div></div></div></div></div><div class=\"sk-item\"><div class=\"sk-estimator sk-toggleable\"><input class=\"sk-toggleable__control sk-hidden--visually\" id=\"sk-estimator-id-71\" type=\"checkbox\" ><label for=\"sk-estimator-id-71\" class=\"sk-toggleable__label sk-toggleable__label-arrow\">SMOTE</label><div class=\"sk-toggleable__content\"><pre>SMOTE(random_state=42)</pre></div></div></div><div class=\"sk-item\"><div class=\"sk-estimator sk-toggleable\"><input class=\"sk-toggleable__control sk-hidden--visually\" id=\"sk-estimator-id-72\" type=\"checkbox\" ><label for=\"sk-estimator-id-72\" class=\"sk-toggleable__label sk-toggleable__label-arrow\">RandomForestClassifier</label><div class=\"sk-toggleable__content\"><pre>RandomForestClassifier(class_weight=&#x27;balanced&#x27;, max_depth=10, n_estimators=50,\n",
       "                       random_state=42)</pre></div></div></div></div></div></div></div>"
      ],
      "text/plain": [
       "Pipeline(steps=[('columntransformer',\n",
       "                 ColumnTransformer(transformers=[('num', StandardScaler(),\n",
       "                                                  ['CreditScore', 'Age',\n",
       "                                                   'Balance', 'NumOfProducts',\n",
       "                                                   'HasCrCard',\n",
       "                                                   'IsActiveMember',\n",
       "                                                   'EstimatedSalary']),\n",
       "                                                 ('cat', OrdinalEncoder(),\n",
       "                                                  ['Geography', 'Gender'])])),\n",
       "                ('smote', SMOTE(random_state=42)),\n",
       "                ('randomforestclassifier',\n",
       "                 RandomForestClassifier(class_weight='balanced', max_depth=10,\n",
       "                                        n_estimators=50, random_state=42))])"
      ]
     },
     "execution_count": 44,
     "metadata": {},
     "output_type": "execute_result"
    }
   ],
   "source": [
    "%%time\n",
    "\n",
    "# подбор лучших гиперпараметров модели кросс-валидацией\n",
    "GSCV_forest_up = GridSearchCV(pipe_forest_up, param_grid_forest_up, cv=5, \n",
    "                             scoring=['f1', 'precision', 'recall', 'accuracy', 'roc_auc'],\n",
    "                             refit='f1')\n",
    "\n",
    "# обучение и вывод лучшей модели\n",
    "GSCV_forest_up.fit(f_train, t_train) \n",
    "GSCV_forest_up.best_estimator_ "
   ]
  },
  {
   "cell_type": "code",
   "execution_count": 45,
   "metadata": {
    "scrolled": true
   },
   "outputs": [
    {
     "data": {
      "text/plain": [
       "'F1-мера: 0.6105'"
      ]
     },
     "metadata": {},
     "output_type": "display_data"
    },
    {
     "data": {
      "text/plain": [
       "'Precision: 0.5805'"
      ]
     },
     "metadata": {},
     "output_type": "display_data"
    },
    {
     "data": {
      "text/plain": [
       "'Recall: 0.6453'"
      ]
     },
     "metadata": {},
     "output_type": "display_data"
    },
    {
     "data": {
      "text/plain": [
       "'Accuracy: 0.8324'"
      ]
     },
     "metadata": {},
     "output_type": "display_data"
    },
    {
     "data": {
      "text/plain": [
       "'ROC AUC: 0.8543'"
      ]
     },
     "metadata": {},
     "output_type": "display_data"
    }
   ],
   "source": [
    "# метрики, полученные кросс-валидацией для лучшей модели\n",
    "model_scoring(GSCV_forest_up) "
   ]
  },
  {
   "cell_type": "markdown",
   "metadata": {},
   "source": [
    "#### Логистическая регрессия"
   ]
  },
  {
   "cell_type": "code",
   "execution_count": 46,
   "metadata": {},
   "outputs": [],
   "source": [
    "# создание pipeline для LogisticRegression\n",
    "pipe_log_ress_up = make_pipeline(ColumnTransformer([('num', StandardScaler(), numeric), \n",
    "                                                    ('cat', OneHotEncoder(drop='first'), category)]),\n",
    "                                 SMOTE(random_state=42),\n",
    "                                 LogisticRegression(random_state=42))\n",
    "\n",
    "# сетка параметров для GridSearchCV\n",
    "param_grid_log_ress_up = {'logisticregression__max_iter' : [100, 150, 200, 300],\n",
    "                          'logisticregression__solver' : ['liblinear', 'lbfgs'],\n",
    "                          'logisticregression__class_weight' : ['balanced', 'None']}     "
   ]
  },
  {
   "cell_type": "code",
   "execution_count": 47,
   "metadata": {},
   "outputs": [
    {
     "name": "stdout",
     "output_type": "stream",
     "text": [
      "CPU times: total: 9.7 s\n",
      "Wall time: 9.69 s\n"
     ]
    },
    {
     "data": {
      "text/html": [
       "<style>#sk-container-id-11 {color: black;background-color: white;}#sk-container-id-11 pre{padding: 0;}#sk-container-id-11 div.sk-toggleable {background-color: white;}#sk-container-id-11 label.sk-toggleable__label {cursor: pointer;display: block;width: 100%;margin-bottom: 0;padding: 0.3em;box-sizing: border-box;text-align: center;}#sk-container-id-11 label.sk-toggleable__label-arrow:before {content: \"▸\";float: left;margin-right: 0.25em;color: #696969;}#sk-container-id-11 label.sk-toggleable__label-arrow:hover:before {color: black;}#sk-container-id-11 div.sk-estimator:hover label.sk-toggleable__label-arrow:before {color: black;}#sk-container-id-11 div.sk-toggleable__content {max-height: 0;max-width: 0;overflow: hidden;text-align: left;background-color: #f0f8ff;}#sk-container-id-11 div.sk-toggleable__content pre {margin: 0.2em;color: black;border-radius: 0.25em;background-color: #f0f8ff;}#sk-container-id-11 input.sk-toggleable__control:checked~div.sk-toggleable__content {max-height: 200px;max-width: 100%;overflow: auto;}#sk-container-id-11 input.sk-toggleable__control:checked~label.sk-toggleable__label-arrow:before {content: \"▾\";}#sk-container-id-11 div.sk-estimator input.sk-toggleable__control:checked~label.sk-toggleable__label {background-color: #d4ebff;}#sk-container-id-11 div.sk-label input.sk-toggleable__control:checked~label.sk-toggleable__label {background-color: #d4ebff;}#sk-container-id-11 input.sk-hidden--visually {border: 0;clip: rect(1px 1px 1px 1px);clip: rect(1px, 1px, 1px, 1px);height: 1px;margin: -1px;overflow: hidden;padding: 0;position: absolute;width: 1px;}#sk-container-id-11 div.sk-estimator {font-family: monospace;background-color: #f0f8ff;border: 1px dotted black;border-radius: 0.25em;box-sizing: border-box;margin-bottom: 0.5em;}#sk-container-id-11 div.sk-estimator:hover {background-color: #d4ebff;}#sk-container-id-11 div.sk-parallel-item::after {content: \"\";width: 100%;border-bottom: 1px solid gray;flex-grow: 1;}#sk-container-id-11 div.sk-label:hover label.sk-toggleable__label {background-color: #d4ebff;}#sk-container-id-11 div.sk-serial::before {content: \"\";position: absolute;border-left: 1px solid gray;box-sizing: border-box;top: 0;bottom: 0;left: 50%;z-index: 0;}#sk-container-id-11 div.sk-serial {display: flex;flex-direction: column;align-items: center;background-color: white;padding-right: 0.2em;padding-left: 0.2em;position: relative;}#sk-container-id-11 div.sk-item {position: relative;z-index: 1;}#sk-container-id-11 div.sk-parallel {display: flex;align-items: stretch;justify-content: center;background-color: white;position: relative;}#sk-container-id-11 div.sk-item::before, #sk-container-id-11 div.sk-parallel-item::before {content: \"\";position: absolute;border-left: 1px solid gray;box-sizing: border-box;top: 0;bottom: 0;left: 50%;z-index: -1;}#sk-container-id-11 div.sk-parallel-item {display: flex;flex-direction: column;z-index: 1;position: relative;background-color: white;}#sk-container-id-11 div.sk-parallel-item:first-child::after {align-self: flex-end;width: 50%;}#sk-container-id-11 div.sk-parallel-item:last-child::after {align-self: flex-start;width: 50%;}#sk-container-id-11 div.sk-parallel-item:only-child::after {width: 0;}#sk-container-id-11 div.sk-dashed-wrapped {border: 1px dashed gray;margin: 0 0.4em 0.5em 0.4em;box-sizing: border-box;padding-bottom: 0.4em;background-color: white;}#sk-container-id-11 div.sk-label label {font-family: monospace;font-weight: bold;display: inline-block;line-height: 1.2em;}#sk-container-id-11 div.sk-label-container {text-align: center;}#sk-container-id-11 div.sk-container {/* jupyter's `normalize.less` sets `[hidden] { display: none; }` but bootstrap.min.css set `[hidden] { display: none !important; }` so we also need the `!important` here to be able to override the default hidden behavior on the sphinx rendered scikit-learn.org. See: https://github.com/scikit-learn/scikit-learn/issues/21755 */display: inline-block !important;position: relative;}#sk-container-id-11 div.sk-text-repr-fallback {display: none;}</style><div id=\"sk-container-id-11\" class=\"sk-top-container\"><div class=\"sk-text-repr-fallback\"><pre>Pipeline(steps=[(&#x27;columntransformer&#x27;,\n",
       "                 ColumnTransformer(transformers=[(&#x27;num&#x27;, StandardScaler(),\n",
       "                                                  [&#x27;CreditScore&#x27;, &#x27;Age&#x27;,\n",
       "                                                   &#x27;Balance&#x27;, &#x27;NumOfProducts&#x27;,\n",
       "                                                   &#x27;HasCrCard&#x27;,\n",
       "                                                   &#x27;IsActiveMember&#x27;,\n",
       "                                                   &#x27;EstimatedSalary&#x27;]),\n",
       "                                                 (&#x27;cat&#x27;,\n",
       "                                                  OneHotEncoder(drop=&#x27;first&#x27;),\n",
       "                                                  [&#x27;Geography&#x27;, &#x27;Gender&#x27;])])),\n",
       "                (&#x27;smote&#x27;, SMOTE(random_state=42)),\n",
       "                (&#x27;logisticregression&#x27;,\n",
       "                 LogisticRegression(class_weight=&#x27;balanced&#x27;, random_state=42))])</pre><b>In a Jupyter environment, please rerun this cell to show the HTML representation or trust the notebook. <br />On GitHub, the HTML representation is unable to render, please try loading this page with nbviewer.org.</b></div><div class=\"sk-container\" hidden><div class=\"sk-item sk-dashed-wrapped\"><div class=\"sk-label-container\"><div class=\"sk-label sk-toggleable\"><input class=\"sk-toggleable__control sk-hidden--visually\" id=\"sk-estimator-id-73\" type=\"checkbox\" ><label for=\"sk-estimator-id-73\" class=\"sk-toggleable__label sk-toggleable__label-arrow\">Pipeline</label><div class=\"sk-toggleable__content\"><pre>Pipeline(steps=[(&#x27;columntransformer&#x27;,\n",
       "                 ColumnTransformer(transformers=[(&#x27;num&#x27;, StandardScaler(),\n",
       "                                                  [&#x27;CreditScore&#x27;, &#x27;Age&#x27;,\n",
       "                                                   &#x27;Balance&#x27;, &#x27;NumOfProducts&#x27;,\n",
       "                                                   &#x27;HasCrCard&#x27;,\n",
       "                                                   &#x27;IsActiveMember&#x27;,\n",
       "                                                   &#x27;EstimatedSalary&#x27;]),\n",
       "                                                 (&#x27;cat&#x27;,\n",
       "                                                  OneHotEncoder(drop=&#x27;first&#x27;),\n",
       "                                                  [&#x27;Geography&#x27;, &#x27;Gender&#x27;])])),\n",
       "                (&#x27;smote&#x27;, SMOTE(random_state=42)),\n",
       "                (&#x27;logisticregression&#x27;,\n",
       "                 LogisticRegression(class_weight=&#x27;balanced&#x27;, random_state=42))])</pre></div></div></div><div class=\"sk-serial\"><div class=\"sk-item sk-dashed-wrapped\"><div class=\"sk-label-container\"><div class=\"sk-label sk-toggleable\"><input class=\"sk-toggleable__control sk-hidden--visually\" id=\"sk-estimator-id-74\" type=\"checkbox\" ><label for=\"sk-estimator-id-74\" class=\"sk-toggleable__label sk-toggleable__label-arrow\">columntransformer: ColumnTransformer</label><div class=\"sk-toggleable__content\"><pre>ColumnTransformer(transformers=[(&#x27;num&#x27;, StandardScaler(),\n",
       "                                 [&#x27;CreditScore&#x27;, &#x27;Age&#x27;, &#x27;Balance&#x27;,\n",
       "                                  &#x27;NumOfProducts&#x27;, &#x27;HasCrCard&#x27;,\n",
       "                                  &#x27;IsActiveMember&#x27;, &#x27;EstimatedSalary&#x27;]),\n",
       "                                (&#x27;cat&#x27;, OneHotEncoder(drop=&#x27;first&#x27;),\n",
       "                                 [&#x27;Geography&#x27;, &#x27;Gender&#x27;])])</pre></div></div></div><div class=\"sk-parallel\"><div class=\"sk-parallel-item\"><div class=\"sk-item\"><div class=\"sk-label-container\"><div class=\"sk-label sk-toggleable\"><input class=\"sk-toggleable__control sk-hidden--visually\" id=\"sk-estimator-id-75\" type=\"checkbox\" ><label for=\"sk-estimator-id-75\" class=\"sk-toggleable__label sk-toggleable__label-arrow\">num</label><div class=\"sk-toggleable__content\"><pre>[&#x27;CreditScore&#x27;, &#x27;Age&#x27;, &#x27;Balance&#x27;, &#x27;NumOfProducts&#x27;, &#x27;HasCrCard&#x27;, &#x27;IsActiveMember&#x27;, &#x27;EstimatedSalary&#x27;]</pre></div></div></div><div class=\"sk-serial\"><div class=\"sk-item\"><div class=\"sk-estimator sk-toggleable\"><input class=\"sk-toggleable__control sk-hidden--visually\" id=\"sk-estimator-id-76\" type=\"checkbox\" ><label for=\"sk-estimator-id-76\" class=\"sk-toggleable__label sk-toggleable__label-arrow\">StandardScaler</label><div class=\"sk-toggleable__content\"><pre>StandardScaler()</pre></div></div></div></div></div></div><div class=\"sk-parallel-item\"><div class=\"sk-item\"><div class=\"sk-label-container\"><div class=\"sk-label sk-toggleable\"><input class=\"sk-toggleable__control sk-hidden--visually\" id=\"sk-estimator-id-77\" type=\"checkbox\" ><label for=\"sk-estimator-id-77\" class=\"sk-toggleable__label sk-toggleable__label-arrow\">cat</label><div class=\"sk-toggleable__content\"><pre>[&#x27;Geography&#x27;, &#x27;Gender&#x27;]</pre></div></div></div><div class=\"sk-serial\"><div class=\"sk-item\"><div class=\"sk-estimator sk-toggleable\"><input class=\"sk-toggleable__control sk-hidden--visually\" id=\"sk-estimator-id-78\" type=\"checkbox\" ><label for=\"sk-estimator-id-78\" class=\"sk-toggleable__label sk-toggleable__label-arrow\">OneHotEncoder</label><div class=\"sk-toggleable__content\"><pre>OneHotEncoder(drop=&#x27;first&#x27;)</pre></div></div></div></div></div></div></div></div><div class=\"sk-item\"><div class=\"sk-estimator sk-toggleable\"><input class=\"sk-toggleable__control sk-hidden--visually\" id=\"sk-estimator-id-79\" type=\"checkbox\" ><label for=\"sk-estimator-id-79\" class=\"sk-toggleable__label sk-toggleable__label-arrow\">SMOTE</label><div class=\"sk-toggleable__content\"><pre>SMOTE(random_state=42)</pre></div></div></div><div class=\"sk-item\"><div class=\"sk-estimator sk-toggleable\"><input class=\"sk-toggleable__control sk-hidden--visually\" id=\"sk-estimator-id-80\" type=\"checkbox\" ><label for=\"sk-estimator-id-80\" class=\"sk-toggleable__label sk-toggleable__label-arrow\">LogisticRegression</label><div class=\"sk-toggleable__content\"><pre>LogisticRegression(class_weight=&#x27;balanced&#x27;, random_state=42)</pre></div></div></div></div></div></div></div>"
      ],
      "text/plain": [
       "Pipeline(steps=[('columntransformer',\n",
       "                 ColumnTransformer(transformers=[('num', StandardScaler(),\n",
       "                                                  ['CreditScore', 'Age',\n",
       "                                                   'Balance', 'NumOfProducts',\n",
       "                                                   'HasCrCard',\n",
       "                                                   'IsActiveMember',\n",
       "                                                   'EstimatedSalary']),\n",
       "                                                 ('cat',\n",
       "                                                  OneHotEncoder(drop='first'),\n",
       "                                                  ['Geography', 'Gender'])])),\n",
       "                ('smote', SMOTE(random_state=42)),\n",
       "                ('logisticregression',\n",
       "                 LogisticRegression(class_weight='balanced', random_state=42))])"
      ]
     },
     "execution_count": 47,
     "metadata": {},
     "output_type": "execute_result"
    }
   ],
   "source": [
    "%%time\n",
    "\n",
    "# подбор лучших гиперпараметров модели кросс-валидацией\n",
    "GSCV_log_ress_up = GridSearchCV(pipe_log_ress_up, param_grid_log_ress_up, cv=5, \n",
    "                               scoring=['f1', 'precision', 'recall', 'accuracy', 'roc_auc'],\n",
    "                               refit='f1')\n",
    "\n",
    "# обучение и вывод лучшей модели\n",
    "GSCV_log_ress_up.fit(f_train, t_train) \n",
    "GSCV_log_ress_up.best_estimator_ "
   ]
  },
  {
   "cell_type": "code",
   "execution_count": 48,
   "metadata": {
    "scrolled": true
   },
   "outputs": [
    {
     "data": {
      "text/plain": [
       "'F1-мера: 0.4929'"
      ]
     },
     "metadata": {},
     "output_type": "display_data"
    },
    {
     "data": {
      "text/plain": [
       "'Precision: 0.3847'"
      ]
     },
     "metadata": {},
     "output_type": "display_data"
    },
    {
     "data": {
      "text/plain": [
       "'Recall: 0.6865'"
      ]
     },
     "metadata": {},
     "output_type": "display_data"
    },
    {
     "data": {
      "text/plain": [
       "'Accuracy: 0.7123'"
      ]
     },
     "metadata": {},
     "output_type": "display_data"
    },
    {
     "data": {
      "text/plain": [
       "'ROC AUC: 0.7612'"
      ]
     },
     "metadata": {},
     "output_type": "display_data"
    }
   ],
   "source": [
    "# метрики, полученные кросс-валидацией для лучшей модели\n",
    "model_scoring(GSCV_log_ress_up) "
   ]
  },
  {
   "cell_type": "markdown",
   "metadata": {},
   "source": [
    "#### LGBMClassifier"
   ]
  },
  {
   "cell_type": "code",
   "execution_count": 49,
   "metadata": {},
   "outputs": [],
   "source": [
    "# создание pipeline для LGBMClassifier\n",
    "pipe_lgbm_up = make_pipeline(ColumnTransformer([('num', StandardScaler(), numeric), \n",
    "                                                ('cat', OrdinalEncoder(), category)]),\n",
    "                             SMOTE(random_state=42),\n",
    "                             LGBMClassifier(random_state=42))\n",
    "\n",
    "# сетка параметров для GridSearchCV\n",
    "param_grid_lgbm_up = {'lgbmclassifier__n_estimators' : [100, 150, 300, 500],\n",
    "                      'lgbmclassifier__max_depth' : [10, 15, 20, 30],\n",
    "                      'lgbmclassifier__class_weight' : ['balanced', 'None']}     "
   ]
  },
  {
   "cell_type": "code",
   "execution_count": 50,
   "metadata": {},
   "outputs": [
    {
     "name": "stdout",
     "output_type": "stream",
     "text": [
      "CPU times: total: 9min 2s\n",
      "Wall time: 1min 20s\n"
     ]
    },
    {
     "data": {
      "text/html": [
       "<style>#sk-container-id-12 {color: black;background-color: white;}#sk-container-id-12 pre{padding: 0;}#sk-container-id-12 div.sk-toggleable {background-color: white;}#sk-container-id-12 label.sk-toggleable__label {cursor: pointer;display: block;width: 100%;margin-bottom: 0;padding: 0.3em;box-sizing: border-box;text-align: center;}#sk-container-id-12 label.sk-toggleable__label-arrow:before {content: \"▸\";float: left;margin-right: 0.25em;color: #696969;}#sk-container-id-12 label.sk-toggleable__label-arrow:hover:before {color: black;}#sk-container-id-12 div.sk-estimator:hover label.sk-toggleable__label-arrow:before {color: black;}#sk-container-id-12 div.sk-toggleable__content {max-height: 0;max-width: 0;overflow: hidden;text-align: left;background-color: #f0f8ff;}#sk-container-id-12 div.sk-toggleable__content pre {margin: 0.2em;color: black;border-radius: 0.25em;background-color: #f0f8ff;}#sk-container-id-12 input.sk-toggleable__control:checked~div.sk-toggleable__content {max-height: 200px;max-width: 100%;overflow: auto;}#sk-container-id-12 input.sk-toggleable__control:checked~label.sk-toggleable__label-arrow:before {content: \"▾\";}#sk-container-id-12 div.sk-estimator input.sk-toggleable__control:checked~label.sk-toggleable__label {background-color: #d4ebff;}#sk-container-id-12 div.sk-label input.sk-toggleable__control:checked~label.sk-toggleable__label {background-color: #d4ebff;}#sk-container-id-12 input.sk-hidden--visually {border: 0;clip: rect(1px 1px 1px 1px);clip: rect(1px, 1px, 1px, 1px);height: 1px;margin: -1px;overflow: hidden;padding: 0;position: absolute;width: 1px;}#sk-container-id-12 div.sk-estimator {font-family: monospace;background-color: #f0f8ff;border: 1px dotted black;border-radius: 0.25em;box-sizing: border-box;margin-bottom: 0.5em;}#sk-container-id-12 div.sk-estimator:hover {background-color: #d4ebff;}#sk-container-id-12 div.sk-parallel-item::after {content: \"\";width: 100%;border-bottom: 1px solid gray;flex-grow: 1;}#sk-container-id-12 div.sk-label:hover label.sk-toggleable__label {background-color: #d4ebff;}#sk-container-id-12 div.sk-serial::before {content: \"\";position: absolute;border-left: 1px solid gray;box-sizing: border-box;top: 0;bottom: 0;left: 50%;z-index: 0;}#sk-container-id-12 div.sk-serial {display: flex;flex-direction: column;align-items: center;background-color: white;padding-right: 0.2em;padding-left: 0.2em;position: relative;}#sk-container-id-12 div.sk-item {position: relative;z-index: 1;}#sk-container-id-12 div.sk-parallel {display: flex;align-items: stretch;justify-content: center;background-color: white;position: relative;}#sk-container-id-12 div.sk-item::before, #sk-container-id-12 div.sk-parallel-item::before {content: \"\";position: absolute;border-left: 1px solid gray;box-sizing: border-box;top: 0;bottom: 0;left: 50%;z-index: -1;}#sk-container-id-12 div.sk-parallel-item {display: flex;flex-direction: column;z-index: 1;position: relative;background-color: white;}#sk-container-id-12 div.sk-parallel-item:first-child::after {align-self: flex-end;width: 50%;}#sk-container-id-12 div.sk-parallel-item:last-child::after {align-self: flex-start;width: 50%;}#sk-container-id-12 div.sk-parallel-item:only-child::after {width: 0;}#sk-container-id-12 div.sk-dashed-wrapped {border: 1px dashed gray;margin: 0 0.4em 0.5em 0.4em;box-sizing: border-box;padding-bottom: 0.4em;background-color: white;}#sk-container-id-12 div.sk-label label {font-family: monospace;font-weight: bold;display: inline-block;line-height: 1.2em;}#sk-container-id-12 div.sk-label-container {text-align: center;}#sk-container-id-12 div.sk-container {/* jupyter's `normalize.less` sets `[hidden] { display: none; }` but bootstrap.min.css set `[hidden] { display: none !important; }` so we also need the `!important` here to be able to override the default hidden behavior on the sphinx rendered scikit-learn.org. See: https://github.com/scikit-learn/scikit-learn/issues/21755 */display: inline-block !important;position: relative;}#sk-container-id-12 div.sk-text-repr-fallback {display: none;}</style><div id=\"sk-container-id-12\" class=\"sk-top-container\"><div class=\"sk-text-repr-fallback\"><pre>Pipeline(steps=[(&#x27;columntransformer&#x27;,\n",
       "                 ColumnTransformer(transformers=[(&#x27;num&#x27;, StandardScaler(),\n",
       "                                                  [&#x27;CreditScore&#x27;, &#x27;Age&#x27;,\n",
       "                                                   &#x27;Balance&#x27;, &#x27;NumOfProducts&#x27;,\n",
       "                                                   &#x27;HasCrCard&#x27;,\n",
       "                                                   &#x27;IsActiveMember&#x27;,\n",
       "                                                   &#x27;EstimatedSalary&#x27;]),\n",
       "                                                 (&#x27;cat&#x27;, OrdinalEncoder(),\n",
       "                                                  [&#x27;Geography&#x27;, &#x27;Gender&#x27;])])),\n",
       "                (&#x27;smote&#x27;, SMOTE(random_state=42)),\n",
       "                (&#x27;lgbmclassifier&#x27;,\n",
       "                 LGBMClassifier(class_weight=&#x27;balanced&#x27;, max_depth=15,\n",
       "                                random_state=42))])</pre><b>In a Jupyter environment, please rerun this cell to show the HTML representation or trust the notebook. <br />On GitHub, the HTML representation is unable to render, please try loading this page with nbviewer.org.</b></div><div class=\"sk-container\" hidden><div class=\"sk-item sk-dashed-wrapped\"><div class=\"sk-label-container\"><div class=\"sk-label sk-toggleable\"><input class=\"sk-toggleable__control sk-hidden--visually\" id=\"sk-estimator-id-81\" type=\"checkbox\" ><label for=\"sk-estimator-id-81\" class=\"sk-toggleable__label sk-toggleable__label-arrow\">Pipeline</label><div class=\"sk-toggleable__content\"><pre>Pipeline(steps=[(&#x27;columntransformer&#x27;,\n",
       "                 ColumnTransformer(transformers=[(&#x27;num&#x27;, StandardScaler(),\n",
       "                                                  [&#x27;CreditScore&#x27;, &#x27;Age&#x27;,\n",
       "                                                   &#x27;Balance&#x27;, &#x27;NumOfProducts&#x27;,\n",
       "                                                   &#x27;HasCrCard&#x27;,\n",
       "                                                   &#x27;IsActiveMember&#x27;,\n",
       "                                                   &#x27;EstimatedSalary&#x27;]),\n",
       "                                                 (&#x27;cat&#x27;, OrdinalEncoder(),\n",
       "                                                  [&#x27;Geography&#x27;, &#x27;Gender&#x27;])])),\n",
       "                (&#x27;smote&#x27;, SMOTE(random_state=42)),\n",
       "                (&#x27;lgbmclassifier&#x27;,\n",
       "                 LGBMClassifier(class_weight=&#x27;balanced&#x27;, max_depth=15,\n",
       "                                random_state=42))])</pre></div></div></div><div class=\"sk-serial\"><div class=\"sk-item sk-dashed-wrapped\"><div class=\"sk-label-container\"><div class=\"sk-label sk-toggleable\"><input class=\"sk-toggleable__control sk-hidden--visually\" id=\"sk-estimator-id-82\" type=\"checkbox\" ><label for=\"sk-estimator-id-82\" class=\"sk-toggleable__label sk-toggleable__label-arrow\">columntransformer: ColumnTransformer</label><div class=\"sk-toggleable__content\"><pre>ColumnTransformer(transformers=[(&#x27;num&#x27;, StandardScaler(),\n",
       "                                 [&#x27;CreditScore&#x27;, &#x27;Age&#x27;, &#x27;Balance&#x27;,\n",
       "                                  &#x27;NumOfProducts&#x27;, &#x27;HasCrCard&#x27;,\n",
       "                                  &#x27;IsActiveMember&#x27;, &#x27;EstimatedSalary&#x27;]),\n",
       "                                (&#x27;cat&#x27;, OrdinalEncoder(),\n",
       "                                 [&#x27;Geography&#x27;, &#x27;Gender&#x27;])])</pre></div></div></div><div class=\"sk-parallel\"><div class=\"sk-parallel-item\"><div class=\"sk-item\"><div class=\"sk-label-container\"><div class=\"sk-label sk-toggleable\"><input class=\"sk-toggleable__control sk-hidden--visually\" id=\"sk-estimator-id-83\" type=\"checkbox\" ><label for=\"sk-estimator-id-83\" class=\"sk-toggleable__label sk-toggleable__label-arrow\">num</label><div class=\"sk-toggleable__content\"><pre>[&#x27;CreditScore&#x27;, &#x27;Age&#x27;, &#x27;Balance&#x27;, &#x27;NumOfProducts&#x27;, &#x27;HasCrCard&#x27;, &#x27;IsActiveMember&#x27;, &#x27;EstimatedSalary&#x27;]</pre></div></div></div><div class=\"sk-serial\"><div class=\"sk-item\"><div class=\"sk-estimator sk-toggleable\"><input class=\"sk-toggleable__control sk-hidden--visually\" id=\"sk-estimator-id-84\" type=\"checkbox\" ><label for=\"sk-estimator-id-84\" class=\"sk-toggleable__label sk-toggleable__label-arrow\">StandardScaler</label><div class=\"sk-toggleable__content\"><pre>StandardScaler()</pre></div></div></div></div></div></div><div class=\"sk-parallel-item\"><div class=\"sk-item\"><div class=\"sk-label-container\"><div class=\"sk-label sk-toggleable\"><input class=\"sk-toggleable__control sk-hidden--visually\" id=\"sk-estimator-id-85\" type=\"checkbox\" ><label for=\"sk-estimator-id-85\" class=\"sk-toggleable__label sk-toggleable__label-arrow\">cat</label><div class=\"sk-toggleable__content\"><pre>[&#x27;Geography&#x27;, &#x27;Gender&#x27;]</pre></div></div></div><div class=\"sk-serial\"><div class=\"sk-item\"><div class=\"sk-estimator sk-toggleable\"><input class=\"sk-toggleable__control sk-hidden--visually\" id=\"sk-estimator-id-86\" type=\"checkbox\" ><label for=\"sk-estimator-id-86\" class=\"sk-toggleable__label sk-toggleable__label-arrow\">OrdinalEncoder</label><div class=\"sk-toggleable__content\"><pre>OrdinalEncoder()</pre></div></div></div></div></div></div></div></div><div class=\"sk-item\"><div class=\"sk-estimator sk-toggleable\"><input class=\"sk-toggleable__control sk-hidden--visually\" id=\"sk-estimator-id-87\" type=\"checkbox\" ><label for=\"sk-estimator-id-87\" class=\"sk-toggleable__label sk-toggleable__label-arrow\">SMOTE</label><div class=\"sk-toggleable__content\"><pre>SMOTE(random_state=42)</pre></div></div></div><div class=\"sk-item\"><div class=\"sk-estimator sk-toggleable\"><input class=\"sk-toggleable__control sk-hidden--visually\" id=\"sk-estimator-id-88\" type=\"checkbox\" ><label for=\"sk-estimator-id-88\" class=\"sk-toggleable__label sk-toggleable__label-arrow\">LGBMClassifier</label><div class=\"sk-toggleable__content\"><pre>LGBMClassifier(class_weight=&#x27;balanced&#x27;, max_depth=15, random_state=42)</pre></div></div></div></div></div></div></div>"
      ],
      "text/plain": [
       "Pipeline(steps=[('columntransformer',\n",
       "                 ColumnTransformer(transformers=[('num', StandardScaler(),\n",
       "                                                  ['CreditScore', 'Age',\n",
       "                                                   'Balance', 'NumOfProducts',\n",
       "                                                   'HasCrCard',\n",
       "                                                   'IsActiveMember',\n",
       "                                                   'EstimatedSalary']),\n",
       "                                                 ('cat', OrdinalEncoder(),\n",
       "                                                  ['Geography', 'Gender'])])),\n",
       "                ('smote', SMOTE(random_state=42)),\n",
       "                ('lgbmclassifier',\n",
       "                 LGBMClassifier(class_weight='balanced', max_depth=15,\n",
       "                                random_state=42))])"
      ]
     },
     "execution_count": 50,
     "metadata": {},
     "output_type": "execute_result"
    }
   ],
   "source": [
    "%%time\n",
    "\n",
    "# подбор лучших гиперпараметров модели кросс-валидацией\n",
    "GSCV_lgbm_up = GridSearchCV(pipe_lgbm_up, param_grid_lgbm_up, cv=5, \n",
    "                            scoring=['f1', 'precision', 'recall', 'accuracy', 'roc_auc'],\n",
    "                            refit='f1')\n",
    "\n",
    "# обучение и вывод лучшей модели\n",
    "GSCV_lgbm_up.fit(f_train, t_train) \n",
    "GSCV_lgbm_up.best_estimator_ "
   ]
  },
  {
   "cell_type": "code",
   "execution_count": 51,
   "metadata": {
    "scrolled": true
   },
   "outputs": [
    {
     "data": {
      "text/plain": [
       "'F1-мера: 0.6165'"
      ]
     },
     "metadata": {},
     "output_type": "display_data"
    },
    {
     "data": {
      "text/plain": [
       "'Precision: 0.6410'"
      ]
     },
     "metadata": {},
     "output_type": "display_data"
    },
    {
     "data": {
      "text/plain": [
       "'Recall: 0.5955'"
      ]
     },
     "metadata": {},
     "output_type": "display_data"
    },
    {
     "data": {
      "text/plain": [
       "'Accuracy: 0.8493'"
      ]
     },
     "metadata": {},
     "output_type": "display_data"
    },
    {
     "data": {
      "text/plain": [
       "'ROC AUC: 0.8552'"
      ]
     },
     "metadata": {},
     "output_type": "display_data"
    }
   ],
   "source": [
    "# метрики, полученные кросс-валидацией для лучшей модели\n",
    "model_scoring(GSCV_lgbm_up) "
   ]
  },
  {
   "cell_type": "markdown",
   "metadata": {},
   "source": [
    "### Уменьшение выборки"
   ]
  },
  {
   "cell_type": "markdown",
   "metadata": {},
   "source": [
    "**Уменьшение выборки будем проводить с помощью удаления случайных объектов мажорного класса**. Для подбора гиперпараметров также будем использовать кросс-валидацию."
   ]
  },
  {
   "cell_type": "markdown",
   "metadata": {},
   "source": [
    "#### Решающее дерево"
   ]
  },
  {
   "cell_type": "code",
   "execution_count": 52,
   "metadata": {},
   "outputs": [],
   "source": [
    "# создание pipeline для DecisionTreeClassifier\n",
    "pipe_tree_under = make_pipeline(ColumnTransformer([('num', StandardScaler(), numeric), \n",
    "                                                   ('cat', OrdinalEncoder(), category)]),\n",
    "                                RandomUnderSampler(random_state=42),\n",
    "                                DecisionTreeClassifier(random_state=42))\n",
    "\n",
    "# сетка параметров для GridSearchCV\n",
    "param_grid_tree_under = {'decisiontreeclassifier__max_depth' : [3, 4, 5, 6, 7, 8, 9, 10],\n",
    "                         'decisiontreeclassifier__class_weight' : ['balanced', 'None']}     "
   ]
  },
  {
   "cell_type": "code",
   "execution_count": 53,
   "metadata": {},
   "outputs": [
    {
     "name": "stdout",
     "output_type": "stream",
     "text": [
      "CPU times: total: 4.41 s\n",
      "Wall time: 4.41 s\n"
     ]
    },
    {
     "data": {
      "text/html": [
       "<style>#sk-container-id-13 {color: black;background-color: white;}#sk-container-id-13 pre{padding: 0;}#sk-container-id-13 div.sk-toggleable {background-color: white;}#sk-container-id-13 label.sk-toggleable__label {cursor: pointer;display: block;width: 100%;margin-bottom: 0;padding: 0.3em;box-sizing: border-box;text-align: center;}#sk-container-id-13 label.sk-toggleable__label-arrow:before {content: \"▸\";float: left;margin-right: 0.25em;color: #696969;}#sk-container-id-13 label.sk-toggleable__label-arrow:hover:before {color: black;}#sk-container-id-13 div.sk-estimator:hover label.sk-toggleable__label-arrow:before {color: black;}#sk-container-id-13 div.sk-toggleable__content {max-height: 0;max-width: 0;overflow: hidden;text-align: left;background-color: #f0f8ff;}#sk-container-id-13 div.sk-toggleable__content pre {margin: 0.2em;color: black;border-radius: 0.25em;background-color: #f0f8ff;}#sk-container-id-13 input.sk-toggleable__control:checked~div.sk-toggleable__content {max-height: 200px;max-width: 100%;overflow: auto;}#sk-container-id-13 input.sk-toggleable__control:checked~label.sk-toggleable__label-arrow:before {content: \"▾\";}#sk-container-id-13 div.sk-estimator input.sk-toggleable__control:checked~label.sk-toggleable__label {background-color: #d4ebff;}#sk-container-id-13 div.sk-label input.sk-toggleable__control:checked~label.sk-toggleable__label {background-color: #d4ebff;}#sk-container-id-13 input.sk-hidden--visually {border: 0;clip: rect(1px 1px 1px 1px);clip: rect(1px, 1px, 1px, 1px);height: 1px;margin: -1px;overflow: hidden;padding: 0;position: absolute;width: 1px;}#sk-container-id-13 div.sk-estimator {font-family: monospace;background-color: #f0f8ff;border: 1px dotted black;border-radius: 0.25em;box-sizing: border-box;margin-bottom: 0.5em;}#sk-container-id-13 div.sk-estimator:hover {background-color: #d4ebff;}#sk-container-id-13 div.sk-parallel-item::after {content: \"\";width: 100%;border-bottom: 1px solid gray;flex-grow: 1;}#sk-container-id-13 div.sk-label:hover label.sk-toggleable__label {background-color: #d4ebff;}#sk-container-id-13 div.sk-serial::before {content: \"\";position: absolute;border-left: 1px solid gray;box-sizing: border-box;top: 0;bottom: 0;left: 50%;z-index: 0;}#sk-container-id-13 div.sk-serial {display: flex;flex-direction: column;align-items: center;background-color: white;padding-right: 0.2em;padding-left: 0.2em;position: relative;}#sk-container-id-13 div.sk-item {position: relative;z-index: 1;}#sk-container-id-13 div.sk-parallel {display: flex;align-items: stretch;justify-content: center;background-color: white;position: relative;}#sk-container-id-13 div.sk-item::before, #sk-container-id-13 div.sk-parallel-item::before {content: \"\";position: absolute;border-left: 1px solid gray;box-sizing: border-box;top: 0;bottom: 0;left: 50%;z-index: -1;}#sk-container-id-13 div.sk-parallel-item {display: flex;flex-direction: column;z-index: 1;position: relative;background-color: white;}#sk-container-id-13 div.sk-parallel-item:first-child::after {align-self: flex-end;width: 50%;}#sk-container-id-13 div.sk-parallel-item:last-child::after {align-self: flex-start;width: 50%;}#sk-container-id-13 div.sk-parallel-item:only-child::after {width: 0;}#sk-container-id-13 div.sk-dashed-wrapped {border: 1px dashed gray;margin: 0 0.4em 0.5em 0.4em;box-sizing: border-box;padding-bottom: 0.4em;background-color: white;}#sk-container-id-13 div.sk-label label {font-family: monospace;font-weight: bold;display: inline-block;line-height: 1.2em;}#sk-container-id-13 div.sk-label-container {text-align: center;}#sk-container-id-13 div.sk-container {/* jupyter's `normalize.less` sets `[hidden] { display: none; }` but bootstrap.min.css set `[hidden] { display: none !important; }` so we also need the `!important` here to be able to override the default hidden behavior on the sphinx rendered scikit-learn.org. See: https://github.com/scikit-learn/scikit-learn/issues/21755 */display: inline-block !important;position: relative;}#sk-container-id-13 div.sk-text-repr-fallback {display: none;}</style><div id=\"sk-container-id-13\" class=\"sk-top-container\"><div class=\"sk-text-repr-fallback\"><pre>Pipeline(steps=[(&#x27;columntransformer&#x27;,\n",
       "                 ColumnTransformer(transformers=[(&#x27;num&#x27;, StandardScaler(),\n",
       "                                                  [&#x27;CreditScore&#x27;, &#x27;Age&#x27;,\n",
       "                                                   &#x27;Balance&#x27;, &#x27;NumOfProducts&#x27;,\n",
       "                                                   &#x27;HasCrCard&#x27;,\n",
       "                                                   &#x27;IsActiveMember&#x27;,\n",
       "                                                   &#x27;EstimatedSalary&#x27;]),\n",
       "                                                 (&#x27;cat&#x27;, OrdinalEncoder(),\n",
       "                                                  [&#x27;Geography&#x27;, &#x27;Gender&#x27;])])),\n",
       "                (&#x27;randomundersampler&#x27;, RandomUnderSampler(random_state=42)),\n",
       "                (&#x27;decisiontreeclassifier&#x27;,\n",
       "                 DecisionTreeClassifier(class_weight=&#x27;balanced&#x27;, max_depth=5,\n",
       "                                        random_state=42))])</pre><b>In a Jupyter environment, please rerun this cell to show the HTML representation or trust the notebook. <br />On GitHub, the HTML representation is unable to render, please try loading this page with nbviewer.org.</b></div><div class=\"sk-container\" hidden><div class=\"sk-item sk-dashed-wrapped\"><div class=\"sk-label-container\"><div class=\"sk-label sk-toggleable\"><input class=\"sk-toggleable__control sk-hidden--visually\" id=\"sk-estimator-id-89\" type=\"checkbox\" ><label for=\"sk-estimator-id-89\" class=\"sk-toggleable__label sk-toggleable__label-arrow\">Pipeline</label><div class=\"sk-toggleable__content\"><pre>Pipeline(steps=[(&#x27;columntransformer&#x27;,\n",
       "                 ColumnTransformer(transformers=[(&#x27;num&#x27;, StandardScaler(),\n",
       "                                                  [&#x27;CreditScore&#x27;, &#x27;Age&#x27;,\n",
       "                                                   &#x27;Balance&#x27;, &#x27;NumOfProducts&#x27;,\n",
       "                                                   &#x27;HasCrCard&#x27;,\n",
       "                                                   &#x27;IsActiveMember&#x27;,\n",
       "                                                   &#x27;EstimatedSalary&#x27;]),\n",
       "                                                 (&#x27;cat&#x27;, OrdinalEncoder(),\n",
       "                                                  [&#x27;Geography&#x27;, &#x27;Gender&#x27;])])),\n",
       "                (&#x27;randomundersampler&#x27;, RandomUnderSampler(random_state=42)),\n",
       "                (&#x27;decisiontreeclassifier&#x27;,\n",
       "                 DecisionTreeClassifier(class_weight=&#x27;balanced&#x27;, max_depth=5,\n",
       "                                        random_state=42))])</pre></div></div></div><div class=\"sk-serial\"><div class=\"sk-item sk-dashed-wrapped\"><div class=\"sk-label-container\"><div class=\"sk-label sk-toggleable\"><input class=\"sk-toggleable__control sk-hidden--visually\" id=\"sk-estimator-id-90\" type=\"checkbox\" ><label for=\"sk-estimator-id-90\" class=\"sk-toggleable__label sk-toggleable__label-arrow\">columntransformer: ColumnTransformer</label><div class=\"sk-toggleable__content\"><pre>ColumnTransformer(transformers=[(&#x27;num&#x27;, StandardScaler(),\n",
       "                                 [&#x27;CreditScore&#x27;, &#x27;Age&#x27;, &#x27;Balance&#x27;,\n",
       "                                  &#x27;NumOfProducts&#x27;, &#x27;HasCrCard&#x27;,\n",
       "                                  &#x27;IsActiveMember&#x27;, &#x27;EstimatedSalary&#x27;]),\n",
       "                                (&#x27;cat&#x27;, OrdinalEncoder(),\n",
       "                                 [&#x27;Geography&#x27;, &#x27;Gender&#x27;])])</pre></div></div></div><div class=\"sk-parallel\"><div class=\"sk-parallel-item\"><div class=\"sk-item\"><div class=\"sk-label-container\"><div class=\"sk-label sk-toggleable\"><input class=\"sk-toggleable__control sk-hidden--visually\" id=\"sk-estimator-id-91\" type=\"checkbox\" ><label for=\"sk-estimator-id-91\" class=\"sk-toggleable__label sk-toggleable__label-arrow\">num</label><div class=\"sk-toggleable__content\"><pre>[&#x27;CreditScore&#x27;, &#x27;Age&#x27;, &#x27;Balance&#x27;, &#x27;NumOfProducts&#x27;, &#x27;HasCrCard&#x27;, &#x27;IsActiveMember&#x27;, &#x27;EstimatedSalary&#x27;]</pre></div></div></div><div class=\"sk-serial\"><div class=\"sk-item\"><div class=\"sk-estimator sk-toggleable\"><input class=\"sk-toggleable__control sk-hidden--visually\" id=\"sk-estimator-id-92\" type=\"checkbox\" ><label for=\"sk-estimator-id-92\" class=\"sk-toggleable__label sk-toggleable__label-arrow\">StandardScaler</label><div class=\"sk-toggleable__content\"><pre>StandardScaler()</pre></div></div></div></div></div></div><div class=\"sk-parallel-item\"><div class=\"sk-item\"><div class=\"sk-label-container\"><div class=\"sk-label sk-toggleable\"><input class=\"sk-toggleable__control sk-hidden--visually\" id=\"sk-estimator-id-93\" type=\"checkbox\" ><label for=\"sk-estimator-id-93\" class=\"sk-toggleable__label sk-toggleable__label-arrow\">cat</label><div class=\"sk-toggleable__content\"><pre>[&#x27;Geography&#x27;, &#x27;Gender&#x27;]</pre></div></div></div><div class=\"sk-serial\"><div class=\"sk-item\"><div class=\"sk-estimator sk-toggleable\"><input class=\"sk-toggleable__control sk-hidden--visually\" id=\"sk-estimator-id-94\" type=\"checkbox\" ><label for=\"sk-estimator-id-94\" class=\"sk-toggleable__label sk-toggleable__label-arrow\">OrdinalEncoder</label><div class=\"sk-toggleable__content\"><pre>OrdinalEncoder()</pre></div></div></div></div></div></div></div></div><div class=\"sk-item\"><div class=\"sk-estimator sk-toggleable\"><input class=\"sk-toggleable__control sk-hidden--visually\" id=\"sk-estimator-id-95\" type=\"checkbox\" ><label for=\"sk-estimator-id-95\" class=\"sk-toggleable__label sk-toggleable__label-arrow\">RandomUnderSampler</label><div class=\"sk-toggleable__content\"><pre>RandomUnderSampler(random_state=42)</pre></div></div></div><div class=\"sk-item\"><div class=\"sk-estimator sk-toggleable\"><input class=\"sk-toggleable__control sk-hidden--visually\" id=\"sk-estimator-id-96\" type=\"checkbox\" ><label for=\"sk-estimator-id-96\" class=\"sk-toggleable__label sk-toggleable__label-arrow\">DecisionTreeClassifier</label><div class=\"sk-toggleable__content\"><pre>DecisionTreeClassifier(class_weight=&#x27;balanced&#x27;, max_depth=5, random_state=42)</pre></div></div></div></div></div></div></div>"
      ],
      "text/plain": [
       "Pipeline(steps=[('columntransformer',\n",
       "                 ColumnTransformer(transformers=[('num', StandardScaler(),\n",
       "                                                  ['CreditScore', 'Age',\n",
       "                                                   'Balance', 'NumOfProducts',\n",
       "                                                   'HasCrCard',\n",
       "                                                   'IsActiveMember',\n",
       "                                                   'EstimatedSalary']),\n",
       "                                                 ('cat', OrdinalEncoder(),\n",
       "                                                  ['Geography', 'Gender'])])),\n",
       "                ('randomundersampler', RandomUnderSampler(random_state=42)),\n",
       "                ('decisiontreeclassifier',\n",
       "                 DecisionTreeClassifier(class_weight='balanced', max_depth=5,\n",
       "                                        random_state=42))])"
      ]
     },
     "execution_count": 53,
     "metadata": {},
     "output_type": "execute_result"
    }
   ],
   "source": [
    "%%time\n",
    "\n",
    "# подбор лучших гиперпараметров модели кросс-валидацией\n",
    "GSCV_tree_under = GridSearchCV(pipe_tree_under, param_grid_tree_under, cv=5, \n",
    "                               scoring=['f1', 'precision', 'recall', 'accuracy', 'roc_auc'],\n",
    "                               refit='f1')\n",
    "\n",
    "# обучение и вывод лучшей модели\n",
    "GSCV_tree_under.fit(f_train, t_train) \n",
    "GSCV_tree_under.best_estimator_ "
   ]
  },
  {
   "cell_type": "code",
   "execution_count": 54,
   "metadata": {
    "scrolled": true
   },
   "outputs": [
    {
     "data": {
      "text/plain": [
       "'F1-мера: 0.5614'"
      ]
     },
     "metadata": {},
     "output_type": "display_data"
    },
    {
     "data": {
      "text/plain": [
       "'Precision: 0.4926'"
      ]
     },
     "metadata": {},
     "output_type": "display_data"
    },
    {
     "data": {
      "text/plain": [
       "'Recall: 0.6564'"
      ]
     },
     "metadata": {},
     "output_type": "display_data"
    },
    {
     "data": {
      "text/plain": [
       "'Accuracy: 0.7904'"
      ]
     },
     "metadata": {},
     "output_type": "display_data"
    },
    {
     "data": {
      "text/plain": [
       "'ROC AUC: 0.8185'"
      ]
     },
     "metadata": {},
     "output_type": "display_data"
    }
   ],
   "source": [
    "# метрики, полученные кросс-валидацией для лучшей модели\n",
    "model_scoring(GSCV_tree_under) "
   ]
  },
  {
   "cell_type": "markdown",
   "metadata": {},
   "source": [
    "#### Случайный лес"
   ]
  },
  {
   "cell_type": "code",
   "execution_count": 55,
   "metadata": {},
   "outputs": [],
   "source": [
    "# создание pipeline для RandomForestClassifier\n",
    "pipe_forest_under = make_pipeline(ColumnTransformer([('num', StandardScaler(), numeric), \n",
    "                                                     ('cat', OrdinalEncoder(), category)]),\n",
    "                                  RandomUnderSampler(random_state=42),\n",
    "                                  RandomForestClassifier(random_state=42))\n",
    "\n",
    "# сетка параметров для GridSearchCV\n",
    "param_grid_forest_under = {'randomforestclassifier__max_depth' : [5, 7, 10, 15, 20],\n",
    "                           'randomforestclassifier__n_estimators' : [50, 100, 150],\n",
    "                           'randomforestclassifier__class_weight' : ['balanced', 'None']}     "
   ]
  },
  {
   "cell_type": "code",
   "execution_count": 56,
   "metadata": {},
   "outputs": [
    {
     "name": "stdout",
     "output_type": "stream",
     "text": [
      "CPU times: total: 1min 24s\n",
      "Wall time: 1min 24s\n"
     ]
    },
    {
     "data": {
      "text/html": [
       "<style>#sk-container-id-14 {color: black;background-color: white;}#sk-container-id-14 pre{padding: 0;}#sk-container-id-14 div.sk-toggleable {background-color: white;}#sk-container-id-14 label.sk-toggleable__label {cursor: pointer;display: block;width: 100%;margin-bottom: 0;padding: 0.3em;box-sizing: border-box;text-align: center;}#sk-container-id-14 label.sk-toggleable__label-arrow:before {content: \"▸\";float: left;margin-right: 0.25em;color: #696969;}#sk-container-id-14 label.sk-toggleable__label-arrow:hover:before {color: black;}#sk-container-id-14 div.sk-estimator:hover label.sk-toggleable__label-arrow:before {color: black;}#sk-container-id-14 div.sk-toggleable__content {max-height: 0;max-width: 0;overflow: hidden;text-align: left;background-color: #f0f8ff;}#sk-container-id-14 div.sk-toggleable__content pre {margin: 0.2em;color: black;border-radius: 0.25em;background-color: #f0f8ff;}#sk-container-id-14 input.sk-toggleable__control:checked~div.sk-toggleable__content {max-height: 200px;max-width: 100%;overflow: auto;}#sk-container-id-14 input.sk-toggleable__control:checked~label.sk-toggleable__label-arrow:before {content: \"▾\";}#sk-container-id-14 div.sk-estimator input.sk-toggleable__control:checked~label.sk-toggleable__label {background-color: #d4ebff;}#sk-container-id-14 div.sk-label input.sk-toggleable__control:checked~label.sk-toggleable__label {background-color: #d4ebff;}#sk-container-id-14 input.sk-hidden--visually {border: 0;clip: rect(1px 1px 1px 1px);clip: rect(1px, 1px, 1px, 1px);height: 1px;margin: -1px;overflow: hidden;padding: 0;position: absolute;width: 1px;}#sk-container-id-14 div.sk-estimator {font-family: monospace;background-color: #f0f8ff;border: 1px dotted black;border-radius: 0.25em;box-sizing: border-box;margin-bottom: 0.5em;}#sk-container-id-14 div.sk-estimator:hover {background-color: #d4ebff;}#sk-container-id-14 div.sk-parallel-item::after {content: \"\";width: 100%;border-bottom: 1px solid gray;flex-grow: 1;}#sk-container-id-14 div.sk-label:hover label.sk-toggleable__label {background-color: #d4ebff;}#sk-container-id-14 div.sk-serial::before {content: \"\";position: absolute;border-left: 1px solid gray;box-sizing: border-box;top: 0;bottom: 0;left: 50%;z-index: 0;}#sk-container-id-14 div.sk-serial {display: flex;flex-direction: column;align-items: center;background-color: white;padding-right: 0.2em;padding-left: 0.2em;position: relative;}#sk-container-id-14 div.sk-item {position: relative;z-index: 1;}#sk-container-id-14 div.sk-parallel {display: flex;align-items: stretch;justify-content: center;background-color: white;position: relative;}#sk-container-id-14 div.sk-item::before, #sk-container-id-14 div.sk-parallel-item::before {content: \"\";position: absolute;border-left: 1px solid gray;box-sizing: border-box;top: 0;bottom: 0;left: 50%;z-index: -1;}#sk-container-id-14 div.sk-parallel-item {display: flex;flex-direction: column;z-index: 1;position: relative;background-color: white;}#sk-container-id-14 div.sk-parallel-item:first-child::after {align-self: flex-end;width: 50%;}#sk-container-id-14 div.sk-parallel-item:last-child::after {align-self: flex-start;width: 50%;}#sk-container-id-14 div.sk-parallel-item:only-child::after {width: 0;}#sk-container-id-14 div.sk-dashed-wrapped {border: 1px dashed gray;margin: 0 0.4em 0.5em 0.4em;box-sizing: border-box;padding-bottom: 0.4em;background-color: white;}#sk-container-id-14 div.sk-label label {font-family: monospace;font-weight: bold;display: inline-block;line-height: 1.2em;}#sk-container-id-14 div.sk-label-container {text-align: center;}#sk-container-id-14 div.sk-container {/* jupyter's `normalize.less` sets `[hidden] { display: none; }` but bootstrap.min.css set `[hidden] { display: none !important; }` so we also need the `!important` here to be able to override the default hidden behavior on the sphinx rendered scikit-learn.org. See: https://github.com/scikit-learn/scikit-learn/issues/21755 */display: inline-block !important;position: relative;}#sk-container-id-14 div.sk-text-repr-fallback {display: none;}</style><div id=\"sk-container-id-14\" class=\"sk-top-container\"><div class=\"sk-text-repr-fallback\"><pre>Pipeline(steps=[(&#x27;columntransformer&#x27;,\n",
       "                 ColumnTransformer(transformers=[(&#x27;num&#x27;, StandardScaler(),\n",
       "                                                  [&#x27;CreditScore&#x27;, &#x27;Age&#x27;,\n",
       "                                                   &#x27;Balance&#x27;, &#x27;NumOfProducts&#x27;,\n",
       "                                                   &#x27;HasCrCard&#x27;,\n",
       "                                                   &#x27;IsActiveMember&#x27;,\n",
       "                                                   &#x27;EstimatedSalary&#x27;]),\n",
       "                                                 (&#x27;cat&#x27;, OrdinalEncoder(),\n",
       "                                                  [&#x27;Geography&#x27;, &#x27;Gender&#x27;])])),\n",
       "                (&#x27;randomundersampler&#x27;, RandomUnderSampler(random_state=42)),\n",
       "                (&#x27;randomforestclassifier&#x27;,\n",
       "                 RandomForestClassifier(class_weight=&#x27;balanced&#x27;, max_depth=7,\n",
       "                                        random_state=42))])</pre><b>In a Jupyter environment, please rerun this cell to show the HTML representation or trust the notebook. <br />On GitHub, the HTML representation is unable to render, please try loading this page with nbviewer.org.</b></div><div class=\"sk-container\" hidden><div class=\"sk-item sk-dashed-wrapped\"><div class=\"sk-label-container\"><div class=\"sk-label sk-toggleable\"><input class=\"sk-toggleable__control sk-hidden--visually\" id=\"sk-estimator-id-97\" type=\"checkbox\" ><label for=\"sk-estimator-id-97\" class=\"sk-toggleable__label sk-toggleable__label-arrow\">Pipeline</label><div class=\"sk-toggleable__content\"><pre>Pipeline(steps=[(&#x27;columntransformer&#x27;,\n",
       "                 ColumnTransformer(transformers=[(&#x27;num&#x27;, StandardScaler(),\n",
       "                                                  [&#x27;CreditScore&#x27;, &#x27;Age&#x27;,\n",
       "                                                   &#x27;Balance&#x27;, &#x27;NumOfProducts&#x27;,\n",
       "                                                   &#x27;HasCrCard&#x27;,\n",
       "                                                   &#x27;IsActiveMember&#x27;,\n",
       "                                                   &#x27;EstimatedSalary&#x27;]),\n",
       "                                                 (&#x27;cat&#x27;, OrdinalEncoder(),\n",
       "                                                  [&#x27;Geography&#x27;, &#x27;Gender&#x27;])])),\n",
       "                (&#x27;randomundersampler&#x27;, RandomUnderSampler(random_state=42)),\n",
       "                (&#x27;randomforestclassifier&#x27;,\n",
       "                 RandomForestClassifier(class_weight=&#x27;balanced&#x27;, max_depth=7,\n",
       "                                        random_state=42))])</pre></div></div></div><div class=\"sk-serial\"><div class=\"sk-item sk-dashed-wrapped\"><div class=\"sk-label-container\"><div class=\"sk-label sk-toggleable\"><input class=\"sk-toggleable__control sk-hidden--visually\" id=\"sk-estimator-id-98\" type=\"checkbox\" ><label for=\"sk-estimator-id-98\" class=\"sk-toggleable__label sk-toggleable__label-arrow\">columntransformer: ColumnTransformer</label><div class=\"sk-toggleable__content\"><pre>ColumnTransformer(transformers=[(&#x27;num&#x27;, StandardScaler(),\n",
       "                                 [&#x27;CreditScore&#x27;, &#x27;Age&#x27;, &#x27;Balance&#x27;,\n",
       "                                  &#x27;NumOfProducts&#x27;, &#x27;HasCrCard&#x27;,\n",
       "                                  &#x27;IsActiveMember&#x27;, &#x27;EstimatedSalary&#x27;]),\n",
       "                                (&#x27;cat&#x27;, OrdinalEncoder(),\n",
       "                                 [&#x27;Geography&#x27;, &#x27;Gender&#x27;])])</pre></div></div></div><div class=\"sk-parallel\"><div class=\"sk-parallel-item\"><div class=\"sk-item\"><div class=\"sk-label-container\"><div class=\"sk-label sk-toggleable\"><input class=\"sk-toggleable__control sk-hidden--visually\" id=\"sk-estimator-id-99\" type=\"checkbox\" ><label for=\"sk-estimator-id-99\" class=\"sk-toggleable__label sk-toggleable__label-arrow\">num</label><div class=\"sk-toggleable__content\"><pre>[&#x27;CreditScore&#x27;, &#x27;Age&#x27;, &#x27;Balance&#x27;, &#x27;NumOfProducts&#x27;, &#x27;HasCrCard&#x27;, &#x27;IsActiveMember&#x27;, &#x27;EstimatedSalary&#x27;]</pre></div></div></div><div class=\"sk-serial\"><div class=\"sk-item\"><div class=\"sk-estimator sk-toggleable\"><input class=\"sk-toggleable__control sk-hidden--visually\" id=\"sk-estimator-id-100\" type=\"checkbox\" ><label for=\"sk-estimator-id-100\" class=\"sk-toggleable__label sk-toggleable__label-arrow\">StandardScaler</label><div class=\"sk-toggleable__content\"><pre>StandardScaler()</pre></div></div></div></div></div></div><div class=\"sk-parallel-item\"><div class=\"sk-item\"><div class=\"sk-label-container\"><div class=\"sk-label sk-toggleable\"><input class=\"sk-toggleable__control sk-hidden--visually\" id=\"sk-estimator-id-101\" type=\"checkbox\" ><label for=\"sk-estimator-id-101\" class=\"sk-toggleable__label sk-toggleable__label-arrow\">cat</label><div class=\"sk-toggleable__content\"><pre>[&#x27;Geography&#x27;, &#x27;Gender&#x27;]</pre></div></div></div><div class=\"sk-serial\"><div class=\"sk-item\"><div class=\"sk-estimator sk-toggleable\"><input class=\"sk-toggleable__control sk-hidden--visually\" id=\"sk-estimator-id-102\" type=\"checkbox\" ><label for=\"sk-estimator-id-102\" class=\"sk-toggleable__label sk-toggleable__label-arrow\">OrdinalEncoder</label><div class=\"sk-toggleable__content\"><pre>OrdinalEncoder()</pre></div></div></div></div></div></div></div></div><div class=\"sk-item\"><div class=\"sk-estimator sk-toggleable\"><input class=\"sk-toggleable__control sk-hidden--visually\" id=\"sk-estimator-id-103\" type=\"checkbox\" ><label for=\"sk-estimator-id-103\" class=\"sk-toggleable__label sk-toggleable__label-arrow\">RandomUnderSampler</label><div class=\"sk-toggleable__content\"><pre>RandomUnderSampler(random_state=42)</pre></div></div></div><div class=\"sk-item\"><div class=\"sk-estimator sk-toggleable\"><input class=\"sk-toggleable__control sk-hidden--visually\" id=\"sk-estimator-id-104\" type=\"checkbox\" ><label for=\"sk-estimator-id-104\" class=\"sk-toggleable__label sk-toggleable__label-arrow\">RandomForestClassifier</label><div class=\"sk-toggleable__content\"><pre>RandomForestClassifier(class_weight=&#x27;balanced&#x27;, max_depth=7, random_state=42)</pre></div></div></div></div></div></div></div>"
      ],
      "text/plain": [
       "Pipeline(steps=[('columntransformer',\n",
       "                 ColumnTransformer(transformers=[('num', StandardScaler(),\n",
       "                                                  ['CreditScore', 'Age',\n",
       "                                                   'Balance', 'NumOfProducts',\n",
       "                                                   'HasCrCard',\n",
       "                                                   'IsActiveMember',\n",
       "                                                   'EstimatedSalary']),\n",
       "                                                 ('cat', OrdinalEncoder(),\n",
       "                                                  ['Geography', 'Gender'])])),\n",
       "                ('randomundersampler', RandomUnderSampler(random_state=42)),\n",
       "                ('randomforestclassifier',\n",
       "                 RandomForestClassifier(class_weight='balanced', max_depth=7,\n",
       "                                        random_state=42))])"
      ]
     },
     "execution_count": 56,
     "metadata": {},
     "output_type": "execute_result"
    }
   ],
   "source": [
    "%%time\n",
    "\n",
    "# подбор лучших гиперпараметров модели кросс-валидацией\n",
    "GSCV_forest_under = GridSearchCV(pipe_forest_under, param_grid_forest_under, cv=5, \n",
    "                                 scoring=['f1', 'precision', 'recall', 'accuracy', 'roc_auc'],\n",
    "                                 refit='f1')\n",
    "\n",
    "# обучение и вывод лучшей модели\n",
    "GSCV_forest_under.fit(f_train, t_train) \n",
    "GSCV_forest_under.best_estimator_ "
   ]
  },
  {
   "cell_type": "code",
   "execution_count": 57,
   "metadata": {
    "scrolled": true
   },
   "outputs": [
    {
     "data": {
      "text/plain": [
       "'F1-мера: 0.5881'"
      ]
     },
     "metadata": {},
     "output_type": "display_data"
    },
    {
     "data": {
      "text/plain": [
       "'Precision: 0.4975'"
      ]
     },
     "metadata": {},
     "output_type": "display_data"
    },
    {
     "data": {
      "text/plain": [
       "'Recall: 0.7199'"
      ]
     },
     "metadata": {},
     "output_type": "display_data"
    },
    {
     "data": {
      "text/plain": [
       "'Accuracy: 0.7949'"
      ]
     },
     "metadata": {},
     "output_type": "display_data"
    },
    {
     "data": {
      "text/plain": [
       "'ROC AUC: 0.8485'"
      ]
     },
     "metadata": {},
     "output_type": "display_data"
    }
   ],
   "source": [
    "# метрики, полученные кросс-валидацией для лучшей модели\n",
    "model_scoring(GSCV_forest_under) "
   ]
  },
  {
   "cell_type": "markdown",
   "metadata": {},
   "source": [
    "#### Логистическая регрессия"
   ]
  },
  {
   "cell_type": "code",
   "execution_count": 58,
   "metadata": {},
   "outputs": [],
   "source": [
    "# создание pipeline для LogisticRegression\n",
    "pipe_log_ress_under = make_pipeline(ColumnTransformer([('num', StandardScaler(), numeric), \n",
    "                                                       ('cat', OneHotEncoder(drop='first'), category)]),\n",
    "                                    RandomUnderSampler(random_state=42),\n",
    "                                    LogisticRegression(random_state=42))\n",
    "\n",
    "# сетка параметров для GridSearchCV\n",
    "param_grid_log_ress_under = {'logisticregression__max_iter' : [100, 150, 200, 300],\n",
    "                             'logisticregression__solver' : ['liblinear', 'lbfgs'],\n",
    "                             'logisticregression__class_weight' : ['balanced', 'None']}     "
   ]
  },
  {
   "cell_type": "code",
   "execution_count": 59,
   "metadata": {},
   "outputs": [
    {
     "name": "stdout",
     "output_type": "stream",
     "text": [
      "CPU times: total: 4.62 s\n",
      "Wall time: 4.64 s\n"
     ]
    },
    {
     "data": {
      "text/html": [
       "<style>#sk-container-id-15 {color: black;background-color: white;}#sk-container-id-15 pre{padding: 0;}#sk-container-id-15 div.sk-toggleable {background-color: white;}#sk-container-id-15 label.sk-toggleable__label {cursor: pointer;display: block;width: 100%;margin-bottom: 0;padding: 0.3em;box-sizing: border-box;text-align: center;}#sk-container-id-15 label.sk-toggleable__label-arrow:before {content: \"▸\";float: left;margin-right: 0.25em;color: #696969;}#sk-container-id-15 label.sk-toggleable__label-arrow:hover:before {color: black;}#sk-container-id-15 div.sk-estimator:hover label.sk-toggleable__label-arrow:before {color: black;}#sk-container-id-15 div.sk-toggleable__content {max-height: 0;max-width: 0;overflow: hidden;text-align: left;background-color: #f0f8ff;}#sk-container-id-15 div.sk-toggleable__content pre {margin: 0.2em;color: black;border-radius: 0.25em;background-color: #f0f8ff;}#sk-container-id-15 input.sk-toggleable__control:checked~div.sk-toggleable__content {max-height: 200px;max-width: 100%;overflow: auto;}#sk-container-id-15 input.sk-toggleable__control:checked~label.sk-toggleable__label-arrow:before {content: \"▾\";}#sk-container-id-15 div.sk-estimator input.sk-toggleable__control:checked~label.sk-toggleable__label {background-color: #d4ebff;}#sk-container-id-15 div.sk-label input.sk-toggleable__control:checked~label.sk-toggleable__label {background-color: #d4ebff;}#sk-container-id-15 input.sk-hidden--visually {border: 0;clip: rect(1px 1px 1px 1px);clip: rect(1px, 1px, 1px, 1px);height: 1px;margin: -1px;overflow: hidden;padding: 0;position: absolute;width: 1px;}#sk-container-id-15 div.sk-estimator {font-family: monospace;background-color: #f0f8ff;border: 1px dotted black;border-radius: 0.25em;box-sizing: border-box;margin-bottom: 0.5em;}#sk-container-id-15 div.sk-estimator:hover {background-color: #d4ebff;}#sk-container-id-15 div.sk-parallel-item::after {content: \"\";width: 100%;border-bottom: 1px solid gray;flex-grow: 1;}#sk-container-id-15 div.sk-label:hover label.sk-toggleable__label {background-color: #d4ebff;}#sk-container-id-15 div.sk-serial::before {content: \"\";position: absolute;border-left: 1px solid gray;box-sizing: border-box;top: 0;bottom: 0;left: 50%;z-index: 0;}#sk-container-id-15 div.sk-serial {display: flex;flex-direction: column;align-items: center;background-color: white;padding-right: 0.2em;padding-left: 0.2em;position: relative;}#sk-container-id-15 div.sk-item {position: relative;z-index: 1;}#sk-container-id-15 div.sk-parallel {display: flex;align-items: stretch;justify-content: center;background-color: white;position: relative;}#sk-container-id-15 div.sk-item::before, #sk-container-id-15 div.sk-parallel-item::before {content: \"\";position: absolute;border-left: 1px solid gray;box-sizing: border-box;top: 0;bottom: 0;left: 50%;z-index: -1;}#sk-container-id-15 div.sk-parallel-item {display: flex;flex-direction: column;z-index: 1;position: relative;background-color: white;}#sk-container-id-15 div.sk-parallel-item:first-child::after {align-self: flex-end;width: 50%;}#sk-container-id-15 div.sk-parallel-item:last-child::after {align-self: flex-start;width: 50%;}#sk-container-id-15 div.sk-parallel-item:only-child::after {width: 0;}#sk-container-id-15 div.sk-dashed-wrapped {border: 1px dashed gray;margin: 0 0.4em 0.5em 0.4em;box-sizing: border-box;padding-bottom: 0.4em;background-color: white;}#sk-container-id-15 div.sk-label label {font-family: monospace;font-weight: bold;display: inline-block;line-height: 1.2em;}#sk-container-id-15 div.sk-label-container {text-align: center;}#sk-container-id-15 div.sk-container {/* jupyter's `normalize.less` sets `[hidden] { display: none; }` but bootstrap.min.css set `[hidden] { display: none !important; }` so we also need the `!important` here to be able to override the default hidden behavior on the sphinx rendered scikit-learn.org. See: https://github.com/scikit-learn/scikit-learn/issues/21755 */display: inline-block !important;position: relative;}#sk-container-id-15 div.sk-text-repr-fallback {display: none;}</style><div id=\"sk-container-id-15\" class=\"sk-top-container\"><div class=\"sk-text-repr-fallback\"><pre>Pipeline(steps=[(&#x27;columntransformer&#x27;,\n",
       "                 ColumnTransformer(transformers=[(&#x27;num&#x27;, StandardScaler(),\n",
       "                                                  [&#x27;CreditScore&#x27;, &#x27;Age&#x27;,\n",
       "                                                   &#x27;Balance&#x27;, &#x27;NumOfProducts&#x27;,\n",
       "                                                   &#x27;HasCrCard&#x27;,\n",
       "                                                   &#x27;IsActiveMember&#x27;,\n",
       "                                                   &#x27;EstimatedSalary&#x27;]),\n",
       "                                                 (&#x27;cat&#x27;,\n",
       "                                                  OneHotEncoder(drop=&#x27;first&#x27;),\n",
       "                                                  [&#x27;Geography&#x27;, &#x27;Gender&#x27;])])),\n",
       "                (&#x27;randomundersampler&#x27;, RandomUnderSampler(random_state=42)),\n",
       "                (&#x27;logisticregression&#x27;,\n",
       "                 LogisticRegression(class_weight=&#x27;balanced&#x27;, random_state=42))])</pre><b>In a Jupyter environment, please rerun this cell to show the HTML representation or trust the notebook. <br />On GitHub, the HTML representation is unable to render, please try loading this page with nbviewer.org.</b></div><div class=\"sk-container\" hidden><div class=\"sk-item sk-dashed-wrapped\"><div class=\"sk-label-container\"><div class=\"sk-label sk-toggleable\"><input class=\"sk-toggleable__control sk-hidden--visually\" id=\"sk-estimator-id-105\" type=\"checkbox\" ><label for=\"sk-estimator-id-105\" class=\"sk-toggleable__label sk-toggleable__label-arrow\">Pipeline</label><div class=\"sk-toggleable__content\"><pre>Pipeline(steps=[(&#x27;columntransformer&#x27;,\n",
       "                 ColumnTransformer(transformers=[(&#x27;num&#x27;, StandardScaler(),\n",
       "                                                  [&#x27;CreditScore&#x27;, &#x27;Age&#x27;,\n",
       "                                                   &#x27;Balance&#x27;, &#x27;NumOfProducts&#x27;,\n",
       "                                                   &#x27;HasCrCard&#x27;,\n",
       "                                                   &#x27;IsActiveMember&#x27;,\n",
       "                                                   &#x27;EstimatedSalary&#x27;]),\n",
       "                                                 (&#x27;cat&#x27;,\n",
       "                                                  OneHotEncoder(drop=&#x27;first&#x27;),\n",
       "                                                  [&#x27;Geography&#x27;, &#x27;Gender&#x27;])])),\n",
       "                (&#x27;randomundersampler&#x27;, RandomUnderSampler(random_state=42)),\n",
       "                (&#x27;logisticregression&#x27;,\n",
       "                 LogisticRegression(class_weight=&#x27;balanced&#x27;, random_state=42))])</pre></div></div></div><div class=\"sk-serial\"><div class=\"sk-item sk-dashed-wrapped\"><div class=\"sk-label-container\"><div class=\"sk-label sk-toggleable\"><input class=\"sk-toggleable__control sk-hidden--visually\" id=\"sk-estimator-id-106\" type=\"checkbox\" ><label for=\"sk-estimator-id-106\" class=\"sk-toggleable__label sk-toggleable__label-arrow\">columntransformer: ColumnTransformer</label><div class=\"sk-toggleable__content\"><pre>ColumnTransformer(transformers=[(&#x27;num&#x27;, StandardScaler(),\n",
       "                                 [&#x27;CreditScore&#x27;, &#x27;Age&#x27;, &#x27;Balance&#x27;,\n",
       "                                  &#x27;NumOfProducts&#x27;, &#x27;HasCrCard&#x27;,\n",
       "                                  &#x27;IsActiveMember&#x27;, &#x27;EstimatedSalary&#x27;]),\n",
       "                                (&#x27;cat&#x27;, OneHotEncoder(drop=&#x27;first&#x27;),\n",
       "                                 [&#x27;Geography&#x27;, &#x27;Gender&#x27;])])</pre></div></div></div><div class=\"sk-parallel\"><div class=\"sk-parallel-item\"><div class=\"sk-item\"><div class=\"sk-label-container\"><div class=\"sk-label sk-toggleable\"><input class=\"sk-toggleable__control sk-hidden--visually\" id=\"sk-estimator-id-107\" type=\"checkbox\" ><label for=\"sk-estimator-id-107\" class=\"sk-toggleable__label sk-toggleable__label-arrow\">num</label><div class=\"sk-toggleable__content\"><pre>[&#x27;CreditScore&#x27;, &#x27;Age&#x27;, &#x27;Balance&#x27;, &#x27;NumOfProducts&#x27;, &#x27;HasCrCard&#x27;, &#x27;IsActiveMember&#x27;, &#x27;EstimatedSalary&#x27;]</pre></div></div></div><div class=\"sk-serial\"><div class=\"sk-item\"><div class=\"sk-estimator sk-toggleable\"><input class=\"sk-toggleable__control sk-hidden--visually\" id=\"sk-estimator-id-108\" type=\"checkbox\" ><label for=\"sk-estimator-id-108\" class=\"sk-toggleable__label sk-toggleable__label-arrow\">StandardScaler</label><div class=\"sk-toggleable__content\"><pre>StandardScaler()</pre></div></div></div></div></div></div><div class=\"sk-parallel-item\"><div class=\"sk-item\"><div class=\"sk-label-container\"><div class=\"sk-label sk-toggleable\"><input class=\"sk-toggleable__control sk-hidden--visually\" id=\"sk-estimator-id-109\" type=\"checkbox\" ><label for=\"sk-estimator-id-109\" class=\"sk-toggleable__label sk-toggleable__label-arrow\">cat</label><div class=\"sk-toggleable__content\"><pre>[&#x27;Geography&#x27;, &#x27;Gender&#x27;]</pre></div></div></div><div class=\"sk-serial\"><div class=\"sk-item\"><div class=\"sk-estimator sk-toggleable\"><input class=\"sk-toggleable__control sk-hidden--visually\" id=\"sk-estimator-id-110\" type=\"checkbox\" ><label for=\"sk-estimator-id-110\" class=\"sk-toggleable__label sk-toggleable__label-arrow\">OneHotEncoder</label><div class=\"sk-toggleable__content\"><pre>OneHotEncoder(drop=&#x27;first&#x27;)</pre></div></div></div></div></div></div></div></div><div class=\"sk-item\"><div class=\"sk-estimator sk-toggleable\"><input class=\"sk-toggleable__control sk-hidden--visually\" id=\"sk-estimator-id-111\" type=\"checkbox\" ><label for=\"sk-estimator-id-111\" class=\"sk-toggleable__label sk-toggleable__label-arrow\">RandomUnderSampler</label><div class=\"sk-toggleable__content\"><pre>RandomUnderSampler(random_state=42)</pre></div></div></div><div class=\"sk-item\"><div class=\"sk-estimator sk-toggleable\"><input class=\"sk-toggleable__control sk-hidden--visually\" id=\"sk-estimator-id-112\" type=\"checkbox\" ><label for=\"sk-estimator-id-112\" class=\"sk-toggleable__label sk-toggleable__label-arrow\">LogisticRegression</label><div class=\"sk-toggleable__content\"><pre>LogisticRegression(class_weight=&#x27;balanced&#x27;, random_state=42)</pre></div></div></div></div></div></div></div>"
      ],
      "text/plain": [
       "Pipeline(steps=[('columntransformer',\n",
       "                 ColumnTransformer(transformers=[('num', StandardScaler(),\n",
       "                                                  ['CreditScore', 'Age',\n",
       "                                                   'Balance', 'NumOfProducts',\n",
       "                                                   'HasCrCard',\n",
       "                                                   'IsActiveMember',\n",
       "                                                   'EstimatedSalary']),\n",
       "                                                 ('cat',\n",
       "                                                  OneHotEncoder(drop='first'),\n",
       "                                                  ['Geography', 'Gender'])])),\n",
       "                ('randomundersampler', RandomUnderSampler(random_state=42)),\n",
       "                ('logisticregression',\n",
       "                 LogisticRegression(class_weight='balanced', random_state=42))])"
      ]
     },
     "execution_count": 59,
     "metadata": {},
     "output_type": "execute_result"
    }
   ],
   "source": [
    "%%time\n",
    "\n",
    "# подбор лучших гиперпараметров модели кросс-валидацией\n",
    "GSCV_log_ress_under = GridSearchCV(pipe_log_ress_under, param_grid_log_ress_under, cv=5, \n",
    "                                   scoring=['f1', 'precision', 'recall', 'accuracy', 'roc_auc'],\n",
    "                                   refit='f1')\n",
    "\n",
    "# обучение и вывод лучшей модели\n",
    "GSCV_log_ress_under.fit(f_train, t_train) \n",
    "GSCV_log_ress_under.best_estimator_ "
   ]
  },
  {
   "cell_type": "code",
   "execution_count": 60,
   "metadata": {
    "scrolled": true
   },
   "outputs": [
    {
     "data": {
      "text/plain": [
       "'F1-мера: 0.4832'"
      ]
     },
     "metadata": {},
     "output_type": "display_data"
    },
    {
     "data": {
      "text/plain": [
       "'Precision: 0.3747'"
      ]
     },
     "metadata": {},
     "output_type": "display_data"
    },
    {
     "data": {
      "text/plain": [
       "'Recall: 0.6806'"
      ]
     },
     "metadata": {},
     "output_type": "display_data"
    },
    {
     "data": {
      "text/plain": [
       "'Accuracy: 0.7033'"
      ]
     },
     "metadata": {},
     "output_type": "display_data"
    },
    {
     "data": {
      "text/plain": [
       "'ROC AUC: 0.7596'"
      ]
     },
     "metadata": {},
     "output_type": "display_data"
    }
   ],
   "source": [
    "# метрики, полученные кросс-валидацией для лучшей модели\n",
    "model_scoring(GSCV_log_ress_under) "
   ]
  },
  {
   "cell_type": "markdown",
   "metadata": {},
   "source": [
    "#### LGBMClassifier"
   ]
  },
  {
   "cell_type": "code",
   "execution_count": 61,
   "metadata": {},
   "outputs": [],
   "source": [
    "# создание pipeline для LGBMClassifier\n",
    "pipe_lgbm_under = make_pipeline(ColumnTransformer([('num', StandardScaler(), numeric), \n",
    "                                                   ('cat', OrdinalEncoder(), category)]),\n",
    "                                RandomUnderSampler(random_state=42),\n",
    "                                LGBMClassifier(random_state=42))\n",
    "\n",
    "# сетка параметров для GridSearchCV\n",
    "param_grid_lgbm_under = {'lgbmclassifier__n_estimators' : [100, 150, 300, 500],\n",
    "                         'lgbmclassifier__max_depth' : [10, 15, 20, 30],\n",
    "                         'lgbmclassifier__class_weight' : ['balanced', 'None']}     "
   ]
  },
  {
   "cell_type": "code",
   "execution_count": 62,
   "metadata": {},
   "outputs": [
    {
     "name": "stdout",
     "output_type": "stream",
     "text": [
      "CPU times: total: 6min 7s\n",
      "Wall time: 58.4 s\n"
     ]
    },
    {
     "data": {
      "text/html": [
       "<style>#sk-container-id-16 {color: black;background-color: white;}#sk-container-id-16 pre{padding: 0;}#sk-container-id-16 div.sk-toggleable {background-color: white;}#sk-container-id-16 label.sk-toggleable__label {cursor: pointer;display: block;width: 100%;margin-bottom: 0;padding: 0.3em;box-sizing: border-box;text-align: center;}#sk-container-id-16 label.sk-toggleable__label-arrow:before {content: \"▸\";float: left;margin-right: 0.25em;color: #696969;}#sk-container-id-16 label.sk-toggleable__label-arrow:hover:before {color: black;}#sk-container-id-16 div.sk-estimator:hover label.sk-toggleable__label-arrow:before {color: black;}#sk-container-id-16 div.sk-toggleable__content {max-height: 0;max-width: 0;overflow: hidden;text-align: left;background-color: #f0f8ff;}#sk-container-id-16 div.sk-toggleable__content pre {margin: 0.2em;color: black;border-radius: 0.25em;background-color: #f0f8ff;}#sk-container-id-16 input.sk-toggleable__control:checked~div.sk-toggleable__content {max-height: 200px;max-width: 100%;overflow: auto;}#sk-container-id-16 input.sk-toggleable__control:checked~label.sk-toggleable__label-arrow:before {content: \"▾\";}#sk-container-id-16 div.sk-estimator input.sk-toggleable__control:checked~label.sk-toggleable__label {background-color: #d4ebff;}#sk-container-id-16 div.sk-label input.sk-toggleable__control:checked~label.sk-toggleable__label {background-color: #d4ebff;}#sk-container-id-16 input.sk-hidden--visually {border: 0;clip: rect(1px 1px 1px 1px);clip: rect(1px, 1px, 1px, 1px);height: 1px;margin: -1px;overflow: hidden;padding: 0;position: absolute;width: 1px;}#sk-container-id-16 div.sk-estimator {font-family: monospace;background-color: #f0f8ff;border: 1px dotted black;border-radius: 0.25em;box-sizing: border-box;margin-bottom: 0.5em;}#sk-container-id-16 div.sk-estimator:hover {background-color: #d4ebff;}#sk-container-id-16 div.sk-parallel-item::after {content: \"\";width: 100%;border-bottom: 1px solid gray;flex-grow: 1;}#sk-container-id-16 div.sk-label:hover label.sk-toggleable__label {background-color: #d4ebff;}#sk-container-id-16 div.sk-serial::before {content: \"\";position: absolute;border-left: 1px solid gray;box-sizing: border-box;top: 0;bottom: 0;left: 50%;z-index: 0;}#sk-container-id-16 div.sk-serial {display: flex;flex-direction: column;align-items: center;background-color: white;padding-right: 0.2em;padding-left: 0.2em;position: relative;}#sk-container-id-16 div.sk-item {position: relative;z-index: 1;}#sk-container-id-16 div.sk-parallel {display: flex;align-items: stretch;justify-content: center;background-color: white;position: relative;}#sk-container-id-16 div.sk-item::before, #sk-container-id-16 div.sk-parallel-item::before {content: \"\";position: absolute;border-left: 1px solid gray;box-sizing: border-box;top: 0;bottom: 0;left: 50%;z-index: -1;}#sk-container-id-16 div.sk-parallel-item {display: flex;flex-direction: column;z-index: 1;position: relative;background-color: white;}#sk-container-id-16 div.sk-parallel-item:first-child::after {align-self: flex-end;width: 50%;}#sk-container-id-16 div.sk-parallel-item:last-child::after {align-self: flex-start;width: 50%;}#sk-container-id-16 div.sk-parallel-item:only-child::after {width: 0;}#sk-container-id-16 div.sk-dashed-wrapped {border: 1px dashed gray;margin: 0 0.4em 0.5em 0.4em;box-sizing: border-box;padding-bottom: 0.4em;background-color: white;}#sk-container-id-16 div.sk-label label {font-family: monospace;font-weight: bold;display: inline-block;line-height: 1.2em;}#sk-container-id-16 div.sk-label-container {text-align: center;}#sk-container-id-16 div.sk-container {/* jupyter's `normalize.less` sets `[hidden] { display: none; }` but bootstrap.min.css set `[hidden] { display: none !important; }` so we also need the `!important` here to be able to override the default hidden behavior on the sphinx rendered scikit-learn.org. See: https://github.com/scikit-learn/scikit-learn/issues/21755 */display: inline-block !important;position: relative;}#sk-container-id-16 div.sk-text-repr-fallback {display: none;}</style><div id=\"sk-container-id-16\" class=\"sk-top-container\"><div class=\"sk-text-repr-fallback\"><pre>Pipeline(steps=[(&#x27;columntransformer&#x27;,\n",
       "                 ColumnTransformer(transformers=[(&#x27;num&#x27;, StandardScaler(),\n",
       "                                                  [&#x27;CreditScore&#x27;, &#x27;Age&#x27;,\n",
       "                                                   &#x27;Balance&#x27;, &#x27;NumOfProducts&#x27;,\n",
       "                                                   &#x27;HasCrCard&#x27;,\n",
       "                                                   &#x27;IsActiveMember&#x27;,\n",
       "                                                   &#x27;EstimatedSalary&#x27;]),\n",
       "                                                 (&#x27;cat&#x27;, OrdinalEncoder(),\n",
       "                                                  [&#x27;Geography&#x27;, &#x27;Gender&#x27;])])),\n",
       "                (&#x27;randomundersampler&#x27;, RandomUnderSampler(random_state=42)),\n",
       "                (&#x27;lgbmclassifier&#x27;,\n",
       "                 LGBMClassifier(class_weight=&#x27;balanced&#x27;, max_depth=15,\n",
       "                                random_state=42))])</pre><b>In a Jupyter environment, please rerun this cell to show the HTML representation or trust the notebook. <br />On GitHub, the HTML representation is unable to render, please try loading this page with nbviewer.org.</b></div><div class=\"sk-container\" hidden><div class=\"sk-item sk-dashed-wrapped\"><div class=\"sk-label-container\"><div class=\"sk-label sk-toggleable\"><input class=\"sk-toggleable__control sk-hidden--visually\" id=\"sk-estimator-id-113\" type=\"checkbox\" ><label for=\"sk-estimator-id-113\" class=\"sk-toggleable__label sk-toggleable__label-arrow\">Pipeline</label><div class=\"sk-toggleable__content\"><pre>Pipeline(steps=[(&#x27;columntransformer&#x27;,\n",
       "                 ColumnTransformer(transformers=[(&#x27;num&#x27;, StandardScaler(),\n",
       "                                                  [&#x27;CreditScore&#x27;, &#x27;Age&#x27;,\n",
       "                                                   &#x27;Balance&#x27;, &#x27;NumOfProducts&#x27;,\n",
       "                                                   &#x27;HasCrCard&#x27;,\n",
       "                                                   &#x27;IsActiveMember&#x27;,\n",
       "                                                   &#x27;EstimatedSalary&#x27;]),\n",
       "                                                 (&#x27;cat&#x27;, OrdinalEncoder(),\n",
       "                                                  [&#x27;Geography&#x27;, &#x27;Gender&#x27;])])),\n",
       "                (&#x27;randomundersampler&#x27;, RandomUnderSampler(random_state=42)),\n",
       "                (&#x27;lgbmclassifier&#x27;,\n",
       "                 LGBMClassifier(class_weight=&#x27;balanced&#x27;, max_depth=15,\n",
       "                                random_state=42))])</pre></div></div></div><div class=\"sk-serial\"><div class=\"sk-item sk-dashed-wrapped\"><div class=\"sk-label-container\"><div class=\"sk-label sk-toggleable\"><input class=\"sk-toggleable__control sk-hidden--visually\" id=\"sk-estimator-id-114\" type=\"checkbox\" ><label for=\"sk-estimator-id-114\" class=\"sk-toggleable__label sk-toggleable__label-arrow\">columntransformer: ColumnTransformer</label><div class=\"sk-toggleable__content\"><pre>ColumnTransformer(transformers=[(&#x27;num&#x27;, StandardScaler(),\n",
       "                                 [&#x27;CreditScore&#x27;, &#x27;Age&#x27;, &#x27;Balance&#x27;,\n",
       "                                  &#x27;NumOfProducts&#x27;, &#x27;HasCrCard&#x27;,\n",
       "                                  &#x27;IsActiveMember&#x27;, &#x27;EstimatedSalary&#x27;]),\n",
       "                                (&#x27;cat&#x27;, OrdinalEncoder(),\n",
       "                                 [&#x27;Geography&#x27;, &#x27;Gender&#x27;])])</pre></div></div></div><div class=\"sk-parallel\"><div class=\"sk-parallel-item\"><div class=\"sk-item\"><div class=\"sk-label-container\"><div class=\"sk-label sk-toggleable\"><input class=\"sk-toggleable__control sk-hidden--visually\" id=\"sk-estimator-id-115\" type=\"checkbox\" ><label for=\"sk-estimator-id-115\" class=\"sk-toggleable__label sk-toggleable__label-arrow\">num</label><div class=\"sk-toggleable__content\"><pre>[&#x27;CreditScore&#x27;, &#x27;Age&#x27;, &#x27;Balance&#x27;, &#x27;NumOfProducts&#x27;, &#x27;HasCrCard&#x27;, &#x27;IsActiveMember&#x27;, &#x27;EstimatedSalary&#x27;]</pre></div></div></div><div class=\"sk-serial\"><div class=\"sk-item\"><div class=\"sk-estimator sk-toggleable\"><input class=\"sk-toggleable__control sk-hidden--visually\" id=\"sk-estimator-id-116\" type=\"checkbox\" ><label for=\"sk-estimator-id-116\" class=\"sk-toggleable__label sk-toggleable__label-arrow\">StandardScaler</label><div class=\"sk-toggleable__content\"><pre>StandardScaler()</pre></div></div></div></div></div></div><div class=\"sk-parallel-item\"><div class=\"sk-item\"><div class=\"sk-label-container\"><div class=\"sk-label sk-toggleable\"><input class=\"sk-toggleable__control sk-hidden--visually\" id=\"sk-estimator-id-117\" type=\"checkbox\" ><label for=\"sk-estimator-id-117\" class=\"sk-toggleable__label sk-toggleable__label-arrow\">cat</label><div class=\"sk-toggleable__content\"><pre>[&#x27;Geography&#x27;, &#x27;Gender&#x27;]</pre></div></div></div><div class=\"sk-serial\"><div class=\"sk-item\"><div class=\"sk-estimator sk-toggleable\"><input class=\"sk-toggleable__control sk-hidden--visually\" id=\"sk-estimator-id-118\" type=\"checkbox\" ><label for=\"sk-estimator-id-118\" class=\"sk-toggleable__label sk-toggleable__label-arrow\">OrdinalEncoder</label><div class=\"sk-toggleable__content\"><pre>OrdinalEncoder()</pre></div></div></div></div></div></div></div></div><div class=\"sk-item\"><div class=\"sk-estimator sk-toggleable\"><input class=\"sk-toggleable__control sk-hidden--visually\" id=\"sk-estimator-id-119\" type=\"checkbox\" ><label for=\"sk-estimator-id-119\" class=\"sk-toggleable__label sk-toggleable__label-arrow\">RandomUnderSampler</label><div class=\"sk-toggleable__content\"><pre>RandomUnderSampler(random_state=42)</pre></div></div></div><div class=\"sk-item\"><div class=\"sk-estimator sk-toggleable\"><input class=\"sk-toggleable__control sk-hidden--visually\" id=\"sk-estimator-id-120\" type=\"checkbox\" ><label for=\"sk-estimator-id-120\" class=\"sk-toggleable__label sk-toggleable__label-arrow\">LGBMClassifier</label><div class=\"sk-toggleable__content\"><pre>LGBMClassifier(class_weight=&#x27;balanced&#x27;, max_depth=15, random_state=42)</pre></div></div></div></div></div></div></div>"
      ],
      "text/plain": [
       "Pipeline(steps=[('columntransformer',\n",
       "                 ColumnTransformer(transformers=[('num', StandardScaler(),\n",
       "                                                  ['CreditScore', 'Age',\n",
       "                                                   'Balance', 'NumOfProducts',\n",
       "                                                   'HasCrCard',\n",
       "                                                   'IsActiveMember',\n",
       "                                                   'EstimatedSalary']),\n",
       "                                                 ('cat', OrdinalEncoder(),\n",
       "                                                  ['Geography', 'Gender'])])),\n",
       "                ('randomundersampler', RandomUnderSampler(random_state=42)),\n",
       "                ('lgbmclassifier',\n",
       "                 LGBMClassifier(class_weight='balanced', max_depth=15,\n",
       "                                random_state=42))])"
      ]
     },
     "execution_count": 62,
     "metadata": {},
     "output_type": "execute_result"
    }
   ],
   "source": [
    "%%time\n",
    "\n",
    "# подбор лучших гиперпараметров модели кросс-валидацией\n",
    "GSCV_lgbm_under = GridSearchCV(pipe_lgbm_under, param_grid_lgbm_under, cv=5, \n",
    "                               scoring=['f1', 'precision', 'recall', 'accuracy', 'roc_auc'],\n",
    "                               refit='f1')\n",
    "\n",
    "# обучение и вывод лучшей модели\n",
    "GSCV_lgbm_under.fit(f_train, t_train) \n",
    "GSCV_lgbm_under.best_estimator_ "
   ]
  },
  {
   "cell_type": "code",
   "execution_count": 63,
   "metadata": {
    "scrolled": true
   },
   "outputs": [
    {
     "data": {
      "text/plain": [
       "'F1-мера: 0.5758'"
      ]
     },
     "metadata": {},
     "output_type": "display_data"
    },
    {
     "data": {
      "text/plain": [
       "'Precision: 0.4711'"
      ]
     },
     "metadata": {},
     "output_type": "display_data"
    },
    {
     "data": {
      "text/plain": [
       "'Recall: 0.7408'"
      ]
     },
     "metadata": {},
     "output_type": "display_data"
    },
    {
     "data": {
      "text/plain": [
       "'Accuracy: 0.7777'"
      ]
     },
     "metadata": {},
     "output_type": "display_data"
    },
    {
     "data": {
      "text/plain": [
       "'ROC AUC: 0.8428'"
      ]
     },
     "metadata": {},
     "output_type": "display_data"
    }
   ],
   "source": [
    "# метрики, полученные кросс-валидацией для лучшей модели\n",
    "model_scoring(GSCV_lgbm_under) "
   ]
  },
  {
   "cell_type": "markdown",
   "metadata": {},
   "source": [
    "### Заключение"
   ]
  },
  {
   "cell_type": "markdown",
   "metadata": {},
   "source": [
    "**Для наглядности** сравнения различных моделей с балансировкой классов, а также без неё, **соберём все полученные кросс-валидацией метрики в датафрейм**."
   ]
  },
  {
   "cell_type": "code",
   "execution_count": 64,
   "metadata": {},
   "outputs": [],
   "source": [
    "# создание пустого словаря\n",
    "model_cv_metrics = {} \n",
    "\n",
    "# создание списка с названиями всех обученных моделей\n",
    "model_list = ['GSCV_tree_imb', 'GSCV_forest_imb', 'GSCV_log_ress_imb', 'GSCV_lgbm_imb',\n",
    "              'GSCV_tree_b', 'GSCV_forest_b', 'GSCV_log_ress_b', 'GSCV_lgbm_b',\n",
    "              'GSCV_tree_up', 'GSCV_forest_up', 'GSCV_log_ress_up', 'GSCV_lgbm_up',\n",
    "              'GSCV_tree_under', 'GSCV_forest_under', 'GSCV_log_ress_under', 'GSCV_lgbm_under']\n",
    "\n",
    "# добавление собранных списков в словарь\n",
    "model_cv_metrics['model'] = model_list\n",
    "model_cv_metrics['f1'] = f1_cv_list\n",
    "model_cv_metrics['precision'] = precision_cv_list\n",
    "model_cv_metrics['recall'] = recall_cv_list\n",
    "model_cv_metrics['accuracy'] = accuracy_cv_list\n",
    "model_cv_metrics['roc_auc'] = roc_auc_cv_list"
   ]
  },
  {
   "cell_type": "code",
   "execution_count": 65,
   "metadata": {},
   "outputs": [],
   "source": [
    "# преобразование словаря в датафрейм\n",
    "model_cv_metrics = pd.DataFrame(data=model_cv_metrics) "
   ]
  },
  {
   "cell_type": "code",
   "execution_count": 66,
   "metadata": {},
   "outputs": [
    {
     "data": {
      "text/html": [
       "<style type=\"text/css\">\n",
       "#T_41fcc_row0_col1 {\n",
       "  background-color: #2383ba;\n",
       "  color: #f1f1f1;\n",
       "}\n",
       "#T_41fcc_row0_col2, #T_41fcc_row8_col4, #T_41fcc_row12_col5 {\n",
       "  background-color: #3991c1;\n",
       "  color: #f1f1f1;\n",
       "}\n",
       "#T_41fcc_row0_col3, #T_41fcc_row1_col3 {\n",
       "  background-color: #86b0d3;\n",
       "  color: #000000;\n",
       "}\n",
       "#T_41fcc_row0_col4 {\n",
       "  background-color: #05659f;\n",
       "  color: #f1f1f1;\n",
       "}\n",
       "#T_41fcc_row0_col5 {\n",
       "  background-color: #f8f1f8;\n",
       "  color: #000000;\n",
       "}\n",
       "#T_41fcc_row1_col1 {\n",
       "  background-color: #04639b;\n",
       "  color: #f1f1f1;\n",
       "}\n",
       "#T_41fcc_row1_col2, #T_41fcc_row1_col4, #T_41fcc_row5_col5, #T_41fcc_row11_col1, #T_41fcc_row15_col3 {\n",
       "  background-color: #023858;\n",
       "  color: #f1f1f1;\n",
       "}\n",
       "#T_41fcc_row1_col5 {\n",
       "  background-color: #045280;\n",
       "  color: #f1f1f1;\n",
       "}\n",
       "#T_41fcc_row2_col1, #T_41fcc_row2_col3, #T_41fcc_row2_col5, #T_41fcc_row6_col2, #T_41fcc_row6_col4, #T_41fcc_row14_col2, #T_41fcc_row14_col4 {\n",
       "  background-color: #fff7fb;\n",
       "  color: #000000;\n",
       "}\n",
       "#T_41fcc_row2_col2 {\n",
       "  background-color: #3d93c2;\n",
       "  color: #f1f1f1;\n",
       "}\n",
       "#T_41fcc_row2_col4 {\n",
       "  background-color: #187cb6;\n",
       "  color: #f1f1f1;\n",
       "}\n",
       "#T_41fcc_row3_col1, #T_41fcc_row15_col5 {\n",
       "  background-color: #045b8e;\n",
       "  color: #f1f1f1;\n",
       "}\n",
       "#T_41fcc_row3_col2 {\n",
       "  background-color: #034f7d;\n",
       "  color: #f1f1f1;\n",
       "}\n",
       "#T_41fcc_row3_col3 {\n",
       "  background-color: #6da6cd;\n",
       "  color: #f1f1f1;\n",
       "}\n",
       "#T_41fcc_row3_col4 {\n",
       "  background-color: #023a5b;\n",
       "  color: #f1f1f1;\n",
       "}\n",
       "#T_41fcc_row3_col5, #T_41fcc_row7_col5 {\n",
       "  background-color: #023e62;\n",
       "  color: #f1f1f1;\n",
       "}\n",
       "#T_41fcc_row4_col1 {\n",
       "  background-color: #0567a1;\n",
       "  color: #f1f1f1;\n",
       "}\n",
       "#T_41fcc_row4_col2 {\n",
       "  background-color: #d0d1e6;\n",
       "  color: #000000;\n",
       "}\n",
       "#T_41fcc_row4_col3 {\n",
       "  background-color: #034e7b;\n",
       "  color: #f1f1f1;\n",
       "}\n",
       "#T_41fcc_row4_col4 {\n",
       "  background-color: #84b0d3;\n",
       "  color: #f1f1f1;\n",
       "}\n",
       "#T_41fcc_row4_col5 {\n",
       "  background-color: #3790c0;\n",
       "  color: #f1f1f1;\n",
       "}\n",
       "#T_41fcc_row5_col1 {\n",
       "  background-color: #034267;\n",
       "  color: #f1f1f1;\n",
       "}\n",
       "#T_41fcc_row5_col2 {\n",
       "  background-color: #4094c3;\n",
       "  color: #f1f1f1;\n",
       "}\n",
       "#T_41fcc_row5_col3 {\n",
       "  background-color: #056faf;\n",
       "  color: #f1f1f1;\n",
       "}\n",
       "#T_41fcc_row5_col4 {\n",
       "  background-color: #04598c;\n",
       "  color: #f1f1f1;\n",
       "}\n",
       "#T_41fcc_row6_col1, #T_41fcc_row14_col1 {\n",
       "  background-color: #569dc8;\n",
       "  color: #f1f1f1;\n",
       "}\n",
       "#T_41fcc_row6_col3, #T_41fcc_row14_col3 {\n",
       "  background-color: #045788;\n",
       "  color: #f1f1f1;\n",
       "}\n",
       "#T_41fcc_row6_col5 {\n",
       "  background-color: #faf3f9;\n",
       "  color: #000000;\n",
       "}\n",
       "#T_41fcc_row7_col1, #T_41fcc_row9_col1 {\n",
       "  background-color: #023d60;\n",
       "  color: #f1f1f1;\n",
       "}\n",
       "#T_41fcc_row7_col2, #T_41fcc_row8_col5 {\n",
       "  background-color: #89b1d4;\n",
       "  color: #000000;\n",
       "}\n",
       "#T_41fcc_row7_col3 {\n",
       "  background-color: #034d79;\n",
       "  color: #f1f1f1;\n",
       "}\n",
       "#T_41fcc_row7_col4 {\n",
       "  background-color: #0570b0;\n",
       "  color: #f1f1f1;\n",
       "}\n",
       "#T_41fcc_row8_col1, #T_41fcc_row12_col3 {\n",
       "  background-color: #046096;\n",
       "  color: #f1f1f1;\n",
       "}\n",
       "#T_41fcc_row8_col2 {\n",
       "  background-color: #adc1dd;\n",
       "  color: #000000;\n",
       "}\n",
       "#T_41fcc_row8_col3 {\n",
       "  background-color: #04629a;\n",
       "  color: #f1f1f1;\n",
       "}\n",
       "#T_41fcc_row9_col2 {\n",
       "  background-color: #5c9fc9;\n",
       "  color: #f1f1f1;\n",
       "}\n",
       "#T_41fcc_row9_col3, #T_41fcc_row12_col1 {\n",
       "  background-color: #04649d;\n",
       "  color: #f1f1f1;\n",
       "}\n",
       "#T_41fcc_row9_col4 {\n",
       "  background-color: #046097;\n",
       "  color: #f1f1f1;\n",
       "}\n",
       "#T_41fcc_row9_col5 {\n",
       "  background-color: #023b5d;\n",
       "  color: #f1f1f1;\n",
       "}\n",
       "#T_41fcc_row10_col1 {\n",
       "  background-color: #4697c4;\n",
       "  color: #f1f1f1;\n",
       "}\n",
       "#T_41fcc_row10_col2 {\n",
       "  background-color: #fbf4f9;\n",
       "  color: #000000;\n",
       "}\n",
       "#T_41fcc_row10_col3 {\n",
       "  background-color: #045483;\n",
       "  color: #f1f1f1;\n",
       "}\n",
       "#T_41fcc_row10_col4 {\n",
       "  background-color: #f7f0f7;\n",
       "  color: #000000;\n",
       "}\n",
       "#T_41fcc_row10_col5 {\n",
       "  background-color: #fbf3f9;\n",
       "  color: #000000;\n",
       "}\n",
       "#T_41fcc_row11_col2 {\n",
       "  background-color: #157ab5;\n",
       "  color: #f1f1f1;\n",
       "}\n",
       "#T_41fcc_row11_col3 {\n",
       "  background-color: #0f76b3;\n",
       "  color: #f1f1f1;\n",
       "}\n",
       "#T_41fcc_row11_col4 {\n",
       "  background-color: #03466e;\n",
       "  color: #f1f1f1;\n",
       "}\n",
       "#T_41fcc_row11_col5 {\n",
       "  background-color: #02395a;\n",
       "  color: #f1f1f1;\n",
       "}\n",
       "#T_41fcc_row12_col2 {\n",
       "  background-color: #bbc7e0;\n",
       "  color: #000000;\n",
       "}\n",
       "#T_41fcc_row12_col4 {\n",
       "  background-color: #549cc7;\n",
       "  color: #f1f1f1;\n",
       "}\n",
       "#T_41fcc_row13_col1 {\n",
       "  background-color: #03517e;\n",
       "  color: #f1f1f1;\n",
       "}\n",
       "#T_41fcc_row13_col2 {\n",
       "  background-color: #b7c5df;\n",
       "  color: #000000;\n",
       "}\n",
       "#T_41fcc_row13_col3 {\n",
       "  background-color: #034369;\n",
       "  color: #f1f1f1;\n",
       "}\n",
       "#T_41fcc_row13_col4 {\n",
       "  background-color: #4496c3;\n",
       "  color: #f1f1f1;\n",
       "}\n",
       "#T_41fcc_row13_col5 {\n",
       "  background-color: #034b76;\n",
       "  color: #f1f1f1;\n",
       "}\n",
       "#T_41fcc_row14_col5 {\n",
       "  background-color: #fdf5fa;\n",
       "  color: #000000;\n",
       "}\n",
       "#T_41fcc_row15_col1 {\n",
       "  background-color: #045b8f;\n",
       "  color: #f1f1f1;\n",
       "}\n",
       "#T_41fcc_row15_col2 {\n",
       "  background-color: #ced0e6;\n",
       "  color: #000000;\n",
       "}\n",
       "#T_41fcc_row15_col4 {\n",
       "  background-color: #7bacd1;\n",
       "  color: #f1f1f1;\n",
       "}\n",
       "</style>\n",
       "<table id=\"T_41fcc\">\n",
       "  <thead>\n",
       "    <tr>\n",
       "      <th class=\"blank level0\" >&nbsp;</th>\n",
       "      <th id=\"T_41fcc_level0_col0\" class=\"col_heading level0 col0\" >model</th>\n",
       "      <th id=\"T_41fcc_level0_col1\" class=\"col_heading level0 col1\" >f1</th>\n",
       "      <th id=\"T_41fcc_level0_col2\" class=\"col_heading level0 col2\" >precision</th>\n",
       "      <th id=\"T_41fcc_level0_col3\" class=\"col_heading level0 col3\" >recall</th>\n",
       "      <th id=\"T_41fcc_level0_col4\" class=\"col_heading level0 col4\" >accuracy</th>\n",
       "      <th id=\"T_41fcc_level0_col5\" class=\"col_heading level0 col5\" >roc_auc</th>\n",
       "    </tr>\n",
       "  </thead>\n",
       "  <tbody>\n",
       "    <tr>\n",
       "      <th id=\"T_41fcc_level0_row0\" class=\"row_heading level0 row0\" >0</th>\n",
       "      <td id=\"T_41fcc_row0_col0\" class=\"data row0 col0\" >GSCV_tree_imb</td>\n",
       "      <td id=\"T_41fcc_row0_col1\" class=\"data row0 col1\" >0.517081</td>\n",
       "      <td id=\"T_41fcc_row0_col2\" class=\"data row0 col2\" >0.607107</td>\n",
       "      <td id=\"T_41fcc_row0_col3\" class=\"data row0 col3\" >0.451565</td>\n",
       "      <td id=\"T_41fcc_row0_col4\" class=\"data row0 col4\" >0.828133</td>\n",
       "      <td id=\"T_41fcc_row0_col5\" class=\"data row0 col5\" >0.762856</td>\n",
       "    </tr>\n",
       "    <tr>\n",
       "      <th id=\"T_41fcc_level0_row1\" class=\"row_heading level0 row1\" >1</th>\n",
       "      <td id=\"T_41fcc_row1_col0\" class=\"data row1 col0\" >GSCV_forest_imb</td>\n",
       "      <td id=\"T_41fcc_row1_col1\" class=\"data row1 col1\" >0.562826</td>\n",
       "      <td id=\"T_41fcc_row1_col2\" class=\"data row1 col2\" >0.750714</td>\n",
       "      <td id=\"T_41fcc_row1_col3\" class=\"data row1 col3\" >0.451585</td>\n",
       "      <td id=\"T_41fcc_row1_col4\" class=\"data row1 col4\" >0.857333</td>\n",
       "      <td id=\"T_41fcc_row1_col5\" class=\"data row1 col5\" >0.846337</td>\n",
       "    </tr>\n",
       "    <tr>\n",
       "      <th id=\"T_41fcc_level0_row2\" class=\"row_heading level0 row2\" >2</th>\n",
       "      <td id=\"T_41fcc_row2_col0\" class=\"data row2 col0\" >GSCV_log_ress_imb</td>\n",
       "      <td id=\"T_41fcc_row2_col1\" class=\"data row2 col1\" >0.312290</td>\n",
       "      <td id=\"T_41fcc_row2_col2\" class=\"data row2 col2\" >0.604682</td>\n",
       "      <td id=\"T_41fcc_row2_col3\" class=\"data row2 col3\" >0.211351</td>\n",
       "      <td id=\"T_41fcc_row2_col4\" class=\"data row2 col4\" >0.811200</td>\n",
       "      <td id=\"T_41fcc_row2_col5\" class=\"data row2 col5\" >0.758165</td>\n",
       "    </tr>\n",
       "    <tr>\n",
       "      <th id=\"T_41fcc_level0_row3\" class=\"row_heading level0 row3\" >3</th>\n",
       "      <td id=\"T_41fcc_row3_col0\" class=\"data row3 col0\" >GSCV_lgbm_imb</td>\n",
       "      <td id=\"T_41fcc_row3_col1\" class=\"data row3 col1\" >0.576594</td>\n",
       "      <td id=\"T_41fcc_row3_col2\" class=\"data row3 col2\" >0.717713</td>\n",
       "      <td id=\"T_41fcc_row3_col3\" class=\"data row3 col3\" >0.483656</td>\n",
       "      <td id=\"T_41fcc_row3_col4\" class=\"data row3 col4\" >0.855733</td>\n",
       "      <td id=\"T_41fcc_row3_col5\" class=\"data row3 col5\" >0.853027</td>\n",
       "    </tr>\n",
       "    <tr>\n",
       "      <th id=\"T_41fcc_level0_row4\" class=\"row_heading level0 row4\" >4</th>\n",
       "      <td id=\"T_41fcc_row4_col0\" class=\"data row4 col0\" >GSCV_tree_b</td>\n",
       "      <td id=\"T_41fcc_row4_col1\" class=\"data row4 col1\" >0.556744</td>\n",
       "      <td id=\"T_41fcc_row4_col2\" class=\"data row4 col2\" >0.468929</td>\n",
       "      <td id=\"T_41fcc_row4_col3\" class=\"data row4 col3\" >0.695594</td>\n",
       "      <td id=\"T_41fcc_row4_col4\" class=\"data row4 col4\" >0.773733</td>\n",
       "      <td id=\"T_41fcc_row4_col5\" class=\"data row4 col5\" >0.818989</td>\n",
       "    </tr>\n",
       "    <tr>\n",
       "      <th id=\"T_41fcc_level0_row5\" class=\"row_heading level0 row5\" >5</th>\n",
       "      <td id=\"T_41fcc_row5_col0\" class=\"data row5 col0\" >GSCV_forest_b</td>\n",
       "      <td id=\"T_41fcc_row5_col1\" class=\"data row5 col1\" >0.605521</td>\n",
       "      <td id=\"T_41fcc_row5_col2\" class=\"data row5 col2\" >0.602034</td>\n",
       "      <td id=\"T_41fcc_row5_col3\" class=\"data row5 col3\" >0.609950</td>\n",
       "      <td id=\"T_41fcc_row5_col4\" class=\"data row5 col4\" >0.838133</td>\n",
       "      <td id=\"T_41fcc_row5_col5\" class=\"data row5 col5\" >0.855628</td>\n",
       "    </tr>\n",
       "    <tr>\n",
       "      <th id=\"T_41fcc_level0_row6\" class=\"row_heading level0 row6\" >6</th>\n",
       "      <td id=\"T_41fcc_row6_col0\" class=\"data row6 col0\" >GSCV_log_ress_b</td>\n",
       "      <td id=\"T_41fcc_row6_col1\" class=\"data row6 col1\" >0.483151</td>\n",
       "      <td id=\"T_41fcc_row6_col2\" class=\"data row6 col2\" >0.375100</td>\n",
       "      <td id=\"T_41fcc_row6_col3\" class=\"data row6 col3\" >0.679308</td>\n",
       "      <td id=\"T_41fcc_row6_col4\" class=\"data row6 col4\" >0.703867</td>\n",
       "      <td id=\"T_41fcc_row6_col5\" class=\"data row6 col5\" >0.761429</td>\n",
       "    </tr>\n",
       "    <tr>\n",
       "      <th id=\"T_41fcc_level0_row7\" class=\"row_heading level0 row7\" >7</th>\n",
       "      <td id=\"T_41fcc_row7_col0\" class=\"data row7 col0\" >GSCV_lgbm_b</td>\n",
       "      <td id=\"T_41fcc_row7_col1\" class=\"data row7 col1\" >0.609962</td>\n",
       "      <td id=\"T_41fcc_row7_col2\" class=\"data row7 col2\" >0.542475</td>\n",
       "      <td id=\"T_41fcc_row7_col3\" class=\"data row7 col3\" >0.698314</td>\n",
       "      <td id=\"T_41fcc_row7_col4\" class=\"data row7 col4\" >0.818267</td>\n",
       "      <td id=\"T_41fcc_row7_col5\" class=\"data row7 col5\" >0.853268</td>\n",
       "    </tr>\n",
       "    <tr>\n",
       "      <th id=\"T_41fcc_level0_row8\" class=\"row_heading level0 row8\" >8</th>\n",
       "      <td id=\"T_41fcc_row8_col0\" class=\"data row8 col0\" >GSCV_tree_up</td>\n",
       "      <td id=\"T_41fcc_row8_col1\" class=\"data row8 col1\" >0.568193</td>\n",
       "      <td id=\"T_41fcc_row8_col2\" class=\"data row8 col2\" >0.508010</td>\n",
       "      <td id=\"T_41fcc_row8_col3\" class=\"data row8 col3\" >0.647901</td>\n",
       "      <td id=\"T_41fcc_row8_col4\" class=\"data row8 col4\" >0.798933</td>\n",
       "      <td id=\"T_41fcc_row8_col5\" class=\"data row8 col5\" >0.801669</td>\n",
       "    </tr>\n",
       "    <tr>\n",
       "      <th id=\"T_41fcc_level0_row9\" class=\"row_heading level0 row9\" >9</th>\n",
       "      <td id=\"T_41fcc_row9_col0\" class=\"data row9 col0\" >GSCV_forest_up</td>\n",
       "      <td id=\"T_41fcc_row9_col1\" class=\"data row9 col1\" >0.610480</td>\n",
       "      <td id=\"T_41fcc_row9_col2\" class=\"data row9 col2\" >0.580481</td>\n",
       "      <td id=\"T_41fcc_row9_col3\" class=\"data row9 col3\" >0.645282</td>\n",
       "      <td id=\"T_41fcc_row9_col4\" class=\"data row9 col4\" >0.832400</td>\n",
       "      <td id=\"T_41fcc_row9_col5\" class=\"data row9 col5\" >0.854273</td>\n",
       "    </tr>\n",
       "    <tr>\n",
       "      <th id=\"T_41fcc_level0_row10\" class=\"row_heading level0 row10\" >10</th>\n",
       "      <td id=\"T_41fcc_row10_col0\" class=\"data row10 col0\" >GSCV_log_ress_up</td>\n",
       "      <td id=\"T_41fcc_row10_col1\" class=\"data row10 col1\" >0.492917</td>\n",
       "      <td id=\"T_41fcc_row10_col2\" class=\"data row10 col2\" >0.384722</td>\n",
       "      <td id=\"T_41fcc_row10_col3\" class=\"data row10 col3\" >0.686495</td>\n",
       "      <td id=\"T_41fcc_row10_col4\" class=\"data row10 col4\" >0.712267</td>\n",
       "      <td id=\"T_41fcc_row10_col5\" class=\"data row10 col5\" >0.761198</td>\n",
       "    </tr>\n",
       "    <tr>\n",
       "      <th id=\"T_41fcc_level0_row11\" class=\"row_heading level0 row11\" >11</th>\n",
       "      <td id=\"T_41fcc_row11_col0\" class=\"data row11 col0\" >GSCV_lgbm_up</td>\n",
       "      <td id=\"T_41fcc_row11_col1\" class=\"data row11 col1\" >0.616516</td>\n",
       "      <td id=\"T_41fcc_row11_col2\" class=\"data row11 col2\" >0.641017</td>\n",
       "      <td id=\"T_41fcc_row11_col3\" class=\"data row11 col3\" >0.595541</td>\n",
       "      <td id=\"T_41fcc_row11_col4\" class=\"data row11 col4\" >0.849333</td>\n",
       "      <td id=\"T_41fcc_row11_col5\" class=\"data row11 col5\" >0.855192</td>\n",
       "    </tr>\n",
       "    <tr>\n",
       "      <th id=\"T_41fcc_level0_row12\" class=\"row_heading level0 row12\" >12</th>\n",
       "      <td id=\"T_41fcc_row12_col0\" class=\"data row12 col0\" >GSCV_tree_under</td>\n",
       "      <td id=\"T_41fcc_row12_col1\" class=\"data row12 col1\" >0.561373</td>\n",
       "      <td id=\"T_41fcc_row12_col2\" class=\"data row12 col2\" >0.492631</td>\n",
       "      <td id=\"T_41fcc_row12_col3\" class=\"data row12 col3\" >0.656391</td>\n",
       "      <td id=\"T_41fcc_row12_col4\" class=\"data row12 col4\" >0.790400</td>\n",
       "      <td id=\"T_41fcc_row12_col5\" class=\"data row12 col5\" >0.818483</td>\n",
       "    </tr>\n",
       "    <tr>\n",
       "      <th id=\"T_41fcc_level0_row13\" class=\"row_heading level0 row13\" >13</th>\n",
       "      <td id=\"T_41fcc_row13_col0\" class=\"data row13 col0\" >GSCV_forest_under</td>\n",
       "      <td id=\"T_41fcc_row13_col1\" class=\"data row13 col1\" >0.588110</td>\n",
       "      <td id=\"T_41fcc_row13_col2\" class=\"data row13 col2\" >0.497482</td>\n",
       "      <td id=\"T_41fcc_row13_col3\" class=\"data row13 col3\" >0.719904</td>\n",
       "      <td id=\"T_41fcc_row13_col4\" class=\"data row13 col4\" >0.794933</td>\n",
       "      <td id=\"T_41fcc_row13_col5\" class=\"data row13 col5\" >0.848469</td>\n",
       "    </tr>\n",
       "    <tr>\n",
       "      <th id=\"T_41fcc_level0_row14\" class=\"row_heading level0 row14\" >14</th>\n",
       "      <td id=\"T_41fcc_row14_col0\" class=\"data row14 col0\" >GSCV_log_ress_under</td>\n",
       "      <td id=\"T_41fcc_row14_col1\" class=\"data row14 col1\" >0.483183</td>\n",
       "      <td id=\"T_41fcc_row14_col2\" class=\"data row14 col2\" >0.374716</td>\n",
       "      <td id=\"T_41fcc_row14_col3\" class=\"data row14 col3\" >0.680615</td>\n",
       "      <td id=\"T_41fcc_row14_col4\" class=\"data row14 col4\" >0.703333</td>\n",
       "      <td id=\"T_41fcc_row14_col5\" class=\"data row14 col5\" >0.759569</td>\n",
       "    </tr>\n",
       "    <tr>\n",
       "      <th id=\"T_41fcc_level0_row15\" class=\"row_heading level0 row15\" >15</th>\n",
       "      <td id=\"T_41fcc_row15_col0\" class=\"data row15 col0\" >GSCV_lgbm_under</td>\n",
       "      <td id=\"T_41fcc_row15_col1\" class=\"data row15 col1\" >0.575782</td>\n",
       "      <td id=\"T_41fcc_row15_col2\" class=\"data row15 col2\" >0.471099</td>\n",
       "      <td id=\"T_41fcc_row15_col3\" class=\"data row15 col3\" >0.740844</td>\n",
       "      <td id=\"T_41fcc_row15_col4\" class=\"data row15 col4\" >0.777733</td>\n",
       "      <td id=\"T_41fcc_row15_col5\" class=\"data row15 col5\" >0.842765</td>\n",
       "    </tr>\n",
       "  </tbody>\n",
       "</table>\n"
      ],
      "text/plain": [
       "<pandas.io.formats.style.Styler at 0x25ec57c5250>"
      ]
     },
     "execution_count": 66,
     "metadata": {},
     "output_type": "execute_result"
    }
   ],
   "source": [
    "model_cv_metrics.style.background_gradient()"
   ]
  },
  {
   "cell_type": "markdown",
   "metadata": {},
   "source": [
    "Как уже было отмечено ранее, **модели без балансировки классов, показывают высокую точность (а вместе с тем и accuracy) при низкой полноте**. **Балансировка классов** во всех рассмотренных вариантах **приводит к ощутимому уменьшению точности и значительному увеличению полноты**."
   ]
  },
  {
   "cell_type": "markdown",
   "metadata": {},
   "source": [
    "Среди сбалансированных моделей **наименее подвержены перекосу показателей точность/полнота модели случайного леса и lgbm, что в целом приводит к лучшим показателям F1-меры для них во всех рассмотренных вариантах балансировки классов**. Логистическая регрессия демонстрирует равномерное улучшение всех метрик, но значительно уступает остальным моделям. Стоит отметить, что **значения AUC ROC, как и доля правильных ответов, в целом, меняются не так сильно в сравнении с полнотой и точностью**. "
   ]
  },
  {
   "cell_type": "markdown",
   "metadata": {},
   "source": [
    "**Взвешивание классов приводит к незначительному увеличению F1-меры засчёт сильного увеличения полноты и падению точности**. При обучении на уменьшенной/увеличенной выборке наблюдается такая же тенденция, при этом перекос на уменьшенной выборке сильнее, что приводит к худшим результатам. **Лучшее значение F1-меры (0.6165), а также наибольшую сбалансированность остальных метрик, показывает модель градиентного бустинга с 100 деревьями, максимальной глубиной 15 и взвешенными классами** (GSCV_lgbm_up)."
   ]
  },
  {
   "cell_type": "markdown",
   "metadata": {},
   "source": [
    "**Для дальнейшей проверки на тестовом наборе данных оставим только модели, показавшие значения F1-меры не меньше 0.59 и AUC ROC не меньше 0.80** - GSCV_forest_b, GSCV_lgbm_b, GSCV_forest_up, GSCV_lgbm_up. "
   ]
  },
  {
   "cell_type": "markdown",
   "metadata": {},
   "source": [
    "## Тестирование модели"
   ]
  },
  {
   "cell_type": "markdown",
   "metadata": {},
   "source": [
    "**Создадим таблицу со значениями метрик на тестовой выборке** для отобранных моделей:"
   ]
  },
  {
   "cell_type": "code",
   "execution_count": 67,
   "metadata": {},
   "outputs": [],
   "source": [
    "# пустые списки для записи метрик на тестовой выборке\n",
    "f1_list = []            \n",
    "precision_list = []     \n",
    "recall_list = []        \n",
    "accuracy_list = []      \n",
    "roc_auc_list = []       "
   ]
  },
  {
   "cell_type": "code",
   "execution_count": 68,
   "metadata": {},
   "outputs": [],
   "source": [
    "def model_scoring_test(model, features, target):\n",
    "    \n",
    "# Рассчитывает F1-меру, точность, полноту, долю правильных ответов и AUC ROC\n",
    "# для заданных модели на тестовой выборке и добавляет в подготовленные списки. \n",
    "    \n",
    "    prediction = model.predict(features)\n",
    "    proba = model.predict_proba(features)\n",
    "    proba_one = proba[:, 1]\n",
    "    \n",
    "    f1 = f1_score(target, prediction)\n",
    "    precision = precision_score(target, prediction)\n",
    "    recall = recall_score(target, prediction)\n",
    "    accuracy = accuracy_score(target, prediction)\n",
    "    roc_auc = roc_auc_score(target, proba_one)\n",
    "      \n",
    "    return (f1_list.append(f1), precision_list.append(precision), \n",
    "            recall_list.append(recall), accuracy_list.append(accuracy),\n",
    "            roc_auc_list.append(roc_auc))"
   ]
  },
  {
   "cell_type": "code",
   "execution_count": 69,
   "metadata": {},
   "outputs": [
    {
     "data": {
      "text/plain": [
       "(None, None, None, None, None)"
      ]
     },
     "execution_count": 69,
     "metadata": {},
     "output_type": "execute_result"
    }
   ],
   "source": [
    "# рассчитываем и сохраняем метрики для отобранных моделей на тестовой выборке \n",
    "model_scoring_test(GSCV_forest_b, f_test, t_test)\n",
    "model_scoring_test(GSCV_lgbm_b, f_test, t_test)\n",
    "model_scoring_test(GSCV_forest_up, f_test, t_test)\n",
    "model_scoring_test(GSCV_lgbm_up, f_test, t_test)"
   ]
  },
  {
   "cell_type": "code",
   "execution_count": 70,
   "metadata": {},
   "outputs": [],
   "source": [
    "# создание пустого словаря\n",
    "model_metrics = {} \n",
    "\n",
    "# создание списка с названиями отобранных моделей\n",
    "name = ['GSCV_forest_b', 'GSCV_lgbm_b', 'GSCV_forest_up', 'GSCV_lgbm_up']\n",
    "\n",
    "# добавление собранных списков в словарь\n",
    "model_metrics['model'] = name\n",
    "model_metrics['f1'] = f1_list\n",
    "model_metrics['precision'] = precision_list\n",
    "model_metrics['recall'] = recall_list\n",
    "model_metrics['accuracy'] = accuracy_list\n",
    "model_metrics['roc_auc'] = roc_auc_list"
   ]
  },
  {
   "cell_type": "code",
   "execution_count": 71,
   "metadata": {},
   "outputs": [],
   "source": [
    "# преобразование словаря в датафрейм\n",
    "model_metrics = pd.DataFrame(data=model_metrics) "
   ]
  },
  {
   "cell_type": "code",
   "execution_count": 72,
   "metadata": {
    "scrolled": true
   },
   "outputs": [
    {
     "data": {
      "text/html": [
       "<style type=\"text/css\">\n",
       "#T_60f12_row0_col1 {\n",
       "  background-color: #84b0d3;\n",
       "  color: #f1f1f1;\n",
       "}\n",
       "#T_60f12_row0_col2 {\n",
       "  background-color: #3d93c2;\n",
       "  color: #f1f1f1;\n",
       "}\n",
       "#T_60f12_row0_col3 {\n",
       "  background-color: #cccfe5;\n",
       "  color: #000000;\n",
       "}\n",
       "#T_60f12_row0_col4 {\n",
       "  background-color: #2383ba;\n",
       "  color: #f1f1f1;\n",
       "}\n",
       "#T_60f12_row0_col5 {\n",
       "  background-color: #c2cbe2;\n",
       "  color: #000000;\n",
       "}\n",
       "#T_60f12_row1_col1, #T_60f12_row1_col2, #T_60f12_row1_col4, #T_60f12_row2_col5, #T_60f12_row3_col3 {\n",
       "  background-color: #fff7fb;\n",
       "  color: #000000;\n",
       "}\n",
       "#T_60f12_row1_col3, #T_60f12_row3_col1, #T_60f12_row3_col2, #T_60f12_row3_col4, #T_60f12_row3_col5 {\n",
       "  background-color: #023858;\n",
       "  color: #f1f1f1;\n",
       "}\n",
       "#T_60f12_row1_col5 {\n",
       "  background-color: #fcf4fa;\n",
       "  color: #000000;\n",
       "}\n",
       "#T_60f12_row2_col1 {\n",
       "  background-color: #d2d2e7;\n",
       "  color: #000000;\n",
       "}\n",
       "#T_60f12_row2_col2 {\n",
       "  background-color: #d9d8ea;\n",
       "  color: #000000;\n",
       "}\n",
       "#T_60f12_row2_col3 {\n",
       "  background-color: #0a73b2;\n",
       "  color: #f1f1f1;\n",
       "}\n",
       "#T_60f12_row2_col4 {\n",
       "  background-color: #cacee5;\n",
       "  color: #000000;\n",
       "}\n",
       "</style>\n",
       "<table id=\"T_60f12\">\n",
       "  <thead>\n",
       "    <tr>\n",
       "      <th class=\"blank level0\" >&nbsp;</th>\n",
       "      <th id=\"T_60f12_level0_col0\" class=\"col_heading level0 col0\" >model</th>\n",
       "      <th id=\"T_60f12_level0_col1\" class=\"col_heading level0 col1\" >f1</th>\n",
       "      <th id=\"T_60f12_level0_col2\" class=\"col_heading level0 col2\" >precision</th>\n",
       "      <th id=\"T_60f12_level0_col3\" class=\"col_heading level0 col3\" >recall</th>\n",
       "      <th id=\"T_60f12_level0_col4\" class=\"col_heading level0 col4\" >accuracy</th>\n",
       "      <th id=\"T_60f12_level0_col5\" class=\"col_heading level0 col5\" >roc_auc</th>\n",
       "    </tr>\n",
       "  </thead>\n",
       "  <tbody>\n",
       "    <tr>\n",
       "      <th id=\"T_60f12_level0_row0\" class=\"row_heading level0 row0\" >0</th>\n",
       "      <td id=\"T_60f12_row0_col0\" class=\"data row0 col0\" >GSCV_forest_b</td>\n",
       "      <td id=\"T_60f12_row0_col1\" class=\"data row0 col1\" >0.625475</td>\n",
       "      <td id=\"T_60f12_row0_col2\" class=\"data row0 col2\" >0.605893</td>\n",
       "      <td id=\"T_60f12_row0_col3\" class=\"data row0 col3\" >0.646365</td>\n",
       "      <td id=\"T_60f12_row0_col4\" class=\"data row0 col4\" >0.842400</td>\n",
       "      <td id=\"T_60f12_row0_col5\" class=\"data row0 col5\" >0.864653</td>\n",
       "    </tr>\n",
       "    <tr>\n",
       "      <th id=\"T_60f12_level0_row1\" class=\"row_heading level0 row1\" >1</th>\n",
       "      <td id=\"T_60f12_row1_col0\" class=\"data row1 col0\" >GSCV_lgbm_b</td>\n",
       "      <td id=\"T_60f12_row1_col1\" class=\"data row1 col1\" >0.619529</td>\n",
       "      <td id=\"T_60f12_row1_col2\" class=\"data row1 col2\" >0.541973</td>\n",
       "      <td id=\"T_60f12_row1_col3\" class=\"data row1 col3\" >0.722986</td>\n",
       "      <td id=\"T_60f12_row1_col4\" class=\"data row1 col4\" >0.819200</td>\n",
       "      <td id=\"T_60f12_row1_col5\" class=\"data row1 col5\" >0.862799</td>\n",
       "    </tr>\n",
       "    <tr>\n",
       "      <th id=\"T_60f12_level0_row2\" class=\"row_heading level0 row2\" >2</th>\n",
       "      <td id=\"T_60f12_row2_col0\" class=\"data row2 col0\" >GSCV_forest_up</td>\n",
       "      <td id=\"T_60f12_row2_col1\" class=\"data row2 col1\" >0.622691</td>\n",
       "      <td id=\"T_60f12_row2_col2\" class=\"data row2 col2\" >0.563694</td>\n",
       "      <td id=\"T_60f12_row2_col3\" class=\"data row2 col3\" >0.695481</td>\n",
       "      <td id=\"T_60f12_row2_col4\" class=\"data row2 col4\" >0.828400</td>\n",
       "      <td id=\"T_60f12_row2_col5\" class=\"data row2 col5\" >0.862662</td>\n",
       "    </tr>\n",
       "    <tr>\n",
       "      <th id=\"T_60f12_level0_row3\" class=\"row_heading level0 row3\" >3</th>\n",
       "      <td id=\"T_60f12_row3_col0\" class=\"data row3 col0\" >GSCV_lgbm_up</td>\n",
       "      <td id=\"T_60f12_row3_col1\" class=\"data row3 col1\" >0.632530</td>\n",
       "      <td id=\"T_60f12_row3_col2\" class=\"data row3 col2\" >0.646817</td>\n",
       "      <td id=\"T_60f12_row3_col3\" class=\"data row3 col3\" >0.618861</td>\n",
       "      <td id=\"T_60f12_row3_col4\" class=\"data row3 col4\" >0.853600</td>\n",
       "      <td id=\"T_60f12_row3_col5\" class=\"data row3 col5\" >0.869471</td>\n",
       "    </tr>\n",
       "  </tbody>\n",
       "</table>\n"
      ],
      "text/plain": [
       "<pandas.io.formats.style.Styler at 0x25ec57d5b50>"
      ]
     },
     "execution_count": 72,
     "metadata": {},
     "output_type": "execute_result"
    }
   ],
   "source": [
    "model_metrics.style.background_gradient()"
   ]
  },
  {
   "cell_type": "markdown",
   "metadata": {},
   "source": [
    "**Наилучшие значения метрик** (кроме полноты) продемонстрировала **модель GSCV_lgbm_up - со 100 деревьями с максимальной глубиной 15 и взвешенными классами**."
   ]
  },
  {
   "cell_type": "markdown",
   "metadata": {},
   "source": [
    "**Посмотрим также на ROC-кривую** для лучшей модели:"
   ]
  },
  {
   "cell_type": "code",
   "execution_count": 73,
   "metadata": {},
   "outputs": [],
   "source": [
    "proba_test = GSCV_lgbm_up.predict_proba(f_test)\n",
    "proba_one_test = proba_test[:, 1]\n",
    "\n",
    "fpr, tpr, thresholds = roc_curve(t_test, proba_one_test)"
   ]
  },
  {
   "cell_type": "code",
   "execution_count": 74,
   "metadata": {},
   "outputs": [
    {
     "data": {
      "image/png": "[encoded data removed]",
      "text/plain": [
       "<Figure size 800x500 with 1 Axes>"
      ]
     },
     "metadata": {},
     "output_type": "display_data"
    }
   ],
   "source": [
    "plt.figure(figsize=(8, 5))\n",
    "\n",
    "plt.plot(fpr, tpr, label='Полученная модель')\n",
    "\n",
    "# ROC-кривая случайной модели\n",
    "plt.plot([0, 1], [0, 1], linestyle='--', label='Случайная модель')\n",
    "\n",
    "plt.xlim([0.0, 1.0])\n",
    "plt.ylim([0.0, 1.0])\n",
    "\n",
    "plt.xlabel(\"False Positive Rate\")\n",
    "plt.ylabel(\"True Positive Rate\")\n",
    "\n",
    "plt.title(\"ROC-кривая\")\n",
    "plt.legend()\n",
    "plt.show()"
   ]
  },
  {
   "cell_type": "markdown",
   "metadata": {},
   "source": [
    "На ROC-кривой хорошо видно, что **полученная модель предсказывает лучше случайной**."
   ]
  },
  {
   "cell_type": "markdown",
   "metadata": {},
   "source": [
    "## Результаты"
   ]
  },
  {
   "cell_type": "markdown",
   "metadata": {},
   "source": [
    "Обзор данных показал **пропуски в столбце с информацией о том, сколько лет человек является клиентом банка, которые были заполнены фиксированным числом**, чтобы сохранить равномерное распределение, характерное для столбца. Также были **удалены неинформативные для будущей модели столбцы** с фамилией, уникальным идентификатором и индексом строки.\n",
    "\n",
    "После этого было проведено разбиение данных на обучающую и тестовую выборки в отношение 3 : 1. **Кодирование категориальных данные, а также масштабирование численных проводили с помощью конвеерной обработки**, чтобы избежать утечки данных при подборе гиперпараметров и обучении моделей кросс-валидацией.\n",
    "\n",
    "Ближайшее знакомство с распределением классов в выборке выявило, что **объектов положительного класса почти в 4 раза меньше**. Для решения поставленной задачи выбрали классификаторы - модели решающего дерева, случайного леса, логистической регрессии и градиентного бустинга из библиотеки LightGBM. **Обучение моделей без учёта дисбаланса классов не дало удовлетворительных значений F1-меры**, особенно плохие результаты показала логистическая регрессия, наилучшие - случайного леса и градиентного бустинга. \n",
    "\n",
    "Для балансировки классов **использовали взвешивание классов, увеличение выборки (методом SMOTE) и уменьшение выборки (удалением случайных объектов большего класса)**. Изменение размера выборки также совмещали с взвешиванием классов. **Лучшее значение F1-меры, а также общую сбалансированность других метрик** (полнота, точность, доля правильных ответов) удалось достичь **для модели градиентного бустинга LGBMClassifier с взвешенными классами**, 100 деревьями и максимальной глубиной дерева 15 (**F1-меры = 0.63, AUC_ROC = 0.87**). "
   ]
  }
 ],
 "metadata": {
  "ExecuteTimeLog": [
   {
    "duration": 387,
    "start_time": "2022-10-09T13:41:08.110Z"
   },
   {
    "duration": 346,
    "start_time": "2022-10-09T13:41:10.654Z"
   },
   {
    "duration": 1820,
    "start_time": "2022-10-09T13:42:38.340Z"
   },
   {
    "duration": 1771,
    "start_time": "2022-10-09T13:51:38.480Z"
   },
   {
    "duration": 168,
    "start_time": "2022-10-09T13:55:18.537Z"
   },
   {
    "duration": 59,
    "start_time": "2022-10-09T13:55:49.592Z"
   },
   {
    "duration": 11,
    "start_time": "2022-10-09T13:57:38.064Z"
   },
   {
    "duration": 10,
    "start_time": "2022-10-09T14:23:28.360Z"
   },
   {
    "duration": 10,
    "start_time": "2022-10-09T14:23:42.202Z"
   },
   {
    "duration": 5,
    "start_time": "2022-10-09T14:27:09.642Z"
   },
   {
    "duration": 830,
    "start_time": "2022-10-09T14:46:03.479Z"
   },
   {
    "duration": 8302,
    "start_time": "2022-10-09T14:46:34.479Z"
   },
   {
    "duration": 5,
    "start_time": "2022-10-09T14:47:05.094Z"
   },
   {
    "duration": 7,
    "start_time": "2022-10-09T14:48:46.694Z"
   },
   {
    "duration": 13,
    "start_time": "2022-10-09T14:49:12.252Z"
   },
   {
    "duration": 8,
    "start_time": "2022-10-09T14:49:27.277Z"
   },
   {
    "duration": 9,
    "start_time": "2022-10-09T14:49:33.349Z"
   },
   {
    "duration": 424,
    "start_time": "2022-10-12T06:26:20.013Z"
   },
   {
    "duration": 96,
    "start_time": "2022-10-12T06:26:21.221Z"
   },
   {
    "duration": 12,
    "start_time": "2022-10-12T06:26:23.349Z"
   },
   {
    "duration": 6,
    "start_time": "2022-10-12T06:26:26.490Z"
   },
   {
    "duration": 70,
    "start_time": "2022-10-12T06:26:42.004Z"
   },
   {
    "duration": 25,
    "start_time": "2022-10-12T06:30:23.110Z"
   },
   {
    "duration": 3,
    "start_time": "2022-10-12T06:31:23.529Z"
   },
   {
    "duration": 50,
    "start_time": "2022-10-12T06:31:26.257Z"
   },
   {
    "duration": 12,
    "start_time": "2022-10-12T06:31:29.466Z"
   },
   {
    "duration": 5,
    "start_time": "2022-10-12T06:31:31.835Z"
   },
   {
    "duration": 8,
    "start_time": "2022-10-12T06:31:33.934Z"
   },
   {
    "duration": 3,
    "start_time": "2022-10-12T06:32:23.237Z"
   },
   {
    "duration": 54,
    "start_time": "2022-10-12T06:32:24.519Z"
   },
   {
    "duration": 10,
    "start_time": "2022-10-12T06:32:32.078Z"
   },
   {
    "duration": 6,
    "start_time": "2022-10-12T06:32:37.254Z"
   },
   {
    "duration": 5,
    "start_time": "2022-10-12T06:32:40.706Z"
   },
   {
    "duration": 6,
    "start_time": "2022-10-12T06:32:43.988Z"
   },
   {
    "duration": 6,
    "start_time": "2022-10-12T06:33:36.088Z"
   },
   {
    "duration": 8,
    "start_time": "2022-10-12T06:33:48.913Z"
   },
   {
    "duration": 7,
    "start_time": "2022-10-12T06:34:15.563Z"
   },
   {
    "duration": 1126,
    "start_time": "2022-10-12T06:51:52.260Z"
   },
   {
    "duration": 1227,
    "start_time": "2022-10-12T06:52:22.554Z"
   },
   {
    "duration": 13,
    "start_time": "2022-10-12T06:52:46.219Z"
   },
   {
    "duration": 2,
    "start_time": "2022-10-12T06:56:50.937Z"
   },
   {
    "duration": 48,
    "start_time": "2022-10-12T06:56:51.844Z"
   },
   {
    "duration": 11,
    "start_time": "2022-10-12T06:56:53.554Z"
   },
   {
    "duration": 6,
    "start_time": "2022-10-12T06:56:55.722Z"
   },
   {
    "duration": 8,
    "start_time": "2022-10-12T06:56:57.444Z"
   },
   {
    "duration": 258,
    "start_time": "2022-10-12T06:57:13.768Z"
   },
   {
    "duration": 2,
    "start_time": "2022-10-12T07:00:05.975Z"
   },
   {
    "duration": 49,
    "start_time": "2022-10-12T07:00:10.153Z"
   },
   {
    "duration": 11,
    "start_time": "2022-10-12T07:00:14.710Z"
   },
   {
    "duration": 6,
    "start_time": "2022-10-12T07:00:20.479Z"
   },
   {
    "duration": 7,
    "start_time": "2022-10-12T07:00:23.684Z"
   },
   {
    "duration": 13,
    "start_time": "2022-10-12T07:00:31.976Z"
   },
   {
    "duration": 19,
    "start_time": "2022-10-12T07:01:27.187Z"
   },
   {
    "duration": 20,
    "start_time": "2022-10-12T07:07:30.799Z"
   },
   {
    "duration": 645,
    "start_time": "2022-10-12T07:30:17.629Z"
   },
   {
    "duration": 3,
    "start_time": "2022-10-12T08:11:20.206Z"
   },
   {
    "duration": 46,
    "start_time": "2022-10-12T08:11:22.137Z"
   },
   {
    "duration": 12,
    "start_time": "2022-10-12T08:11:23.947Z"
   },
   {
    "duration": 5,
    "start_time": "2022-10-12T08:11:26.297Z"
   },
   {
    "duration": 39,
    "start_time": "2022-10-12T08:11:29.827Z"
   },
   {
    "duration": 3,
    "start_time": "2022-10-12T08:12:02.720Z"
   },
   {
    "duration": 48,
    "start_time": "2022-10-12T08:12:04.713Z"
   },
   {
    "duration": 13,
    "start_time": "2022-10-12T08:12:06.542Z"
   },
   {
    "duration": 6,
    "start_time": "2022-10-12T08:12:09.136Z"
   },
   {
    "duration": 6,
    "start_time": "2022-10-12T08:12:11.662Z"
   },
   {
    "duration": 21,
    "start_time": "2022-10-12T08:12:40.593Z"
   },
   {
    "duration": 20,
    "start_time": "2022-10-12T08:13:11.781Z"
   },
   {
    "duration": 20,
    "start_time": "2022-10-12T08:13:24.232Z"
   },
   {
    "duration": 5,
    "start_time": "2022-10-12T08:13:31.700Z"
   },
   {
    "duration": 7,
    "start_time": "2022-10-12T08:13:33.268Z"
   },
   {
    "duration": 21,
    "start_time": "2022-10-12T08:13:37.339Z"
   },
   {
    "duration": 1033,
    "start_time": "2022-10-12T08:14:02.109Z"
   },
   {
    "duration": 54,
    "start_time": "2022-10-12T08:14:03.143Z"
   },
   {
    "duration": 12,
    "start_time": "2022-10-12T08:14:03.198Z"
   },
   {
    "duration": 5,
    "start_time": "2022-10-12T08:14:03.211Z"
   },
   {
    "duration": 7,
    "start_time": "2022-10-12T08:14:03.218Z"
   },
   {
    "duration": 20,
    "start_time": "2022-10-12T08:14:03.227Z"
   },
   {
    "duration": 2,
    "start_time": "2022-10-12T08:14:03.249Z"
   },
   {
    "duration": 11,
    "start_time": "2022-10-12T08:14:42.490Z"
   },
   {
    "duration": 1047,
    "start_time": "2022-10-12T08:16:17.407Z"
   },
   {
    "duration": 53,
    "start_time": "2022-10-12T08:16:18.456Z"
   },
   {
    "duration": 11,
    "start_time": "2022-10-12T08:16:18.511Z"
   },
   {
    "duration": 9,
    "start_time": "2022-10-12T08:16:18.524Z"
   },
   {
    "duration": 10,
    "start_time": "2022-10-12T08:16:18.534Z"
   },
   {
    "duration": 21,
    "start_time": "2022-10-12T08:16:18.545Z"
   },
   {
    "duration": 9,
    "start_time": "2022-10-12T08:16:18.567Z"
   },
   {
    "duration": 2,
    "start_time": "2022-10-12T08:16:18.578Z"
   },
   {
    "duration": 5,
    "start_time": "2022-10-12T08:16:45.113Z"
   },
   {
    "duration": 12,
    "start_time": "2022-10-12T08:16:56.844Z"
   },
   {
    "duration": 106,
    "start_time": "2022-10-12T08:17:39.789Z"
   },
   {
    "duration": 4,
    "start_time": "2022-10-12T08:18:04.929Z"
   },
   {
    "duration": 19,
    "start_time": "2022-10-12T08:18:10.445Z"
   },
   {
    "duration": 11,
    "start_time": "2022-10-12T08:18:18.400Z"
   },
   {
    "duration": 17,
    "start_time": "2022-10-12T08:44:55.345Z"
   },
   {
    "duration": 13,
    "start_time": "2022-10-12T08:47:09.247Z"
   },
   {
    "duration": 5,
    "start_time": "2022-10-12T09:01:39.556Z"
   },
   {
    "duration": 7,
    "start_time": "2022-10-12T09:15:05.881Z"
   },
   {
    "duration": 9,
    "start_time": "2022-10-12T09:18:16.082Z"
   },
   {
    "duration": 12,
    "start_time": "2022-10-12T09:21:19.794Z"
   },
   {
    "duration": 13,
    "start_time": "2022-10-12T09:38:36.475Z"
   },
   {
    "duration": 10,
    "start_time": "2022-10-12T09:38:48.836Z"
   },
   {
    "duration": 8,
    "start_time": "2022-10-12T09:40:49.452Z"
   },
   {
    "duration": 2,
    "start_time": "2022-10-12T09:40:52.934Z"
   },
   {
    "duration": 56,
    "start_time": "2022-10-12T09:40:54.496Z"
   },
   {
    "duration": 13,
    "start_time": "2022-10-12T09:40:57.322Z"
   },
   {
    "duration": 6,
    "start_time": "2022-10-12T09:40:59.400Z"
   },
   {
    "duration": 6,
    "start_time": "2022-10-12T09:41:04.062Z"
   },
   {
    "duration": 4,
    "start_time": "2022-10-12T09:41:06.303Z"
   },
   {
    "duration": 35,
    "start_time": "2022-10-12T09:41:09.434Z"
   },
   {
    "duration": 6,
    "start_time": "2022-10-12T09:41:13.071Z"
   },
   {
    "duration": 3,
    "start_time": "2022-10-12T10:17:27.084Z"
   },
   {
    "duration": 12,
    "start_time": "2022-10-12T10:17:28.567Z"
   },
   {
    "duration": 43,
    "start_time": "2022-10-12T10:18:13.544Z"
   },
   {
    "duration": 103,
    "start_time": "2022-10-12T10:18:23.581Z"
   },
   {
    "duration": 15,
    "start_time": "2022-10-12T10:18:27.609Z"
   },
   {
    "duration": 3,
    "start_time": "2022-10-12T10:22:32.497Z"
   },
   {
    "duration": 1179,
    "start_time": "2022-10-13T11:34:25.985Z"
   },
   {
    "duration": 79,
    "start_time": "2022-10-13T11:34:30.654Z"
   },
   {
    "duration": 15,
    "start_time": "2022-10-13T11:34:43.679Z"
   },
   {
    "duration": 6,
    "start_time": "2022-10-13T11:34:59.303Z"
   },
   {
    "duration": 6,
    "start_time": "2022-10-13T11:35:12.792Z"
   },
   {
    "duration": 6,
    "start_time": "2022-10-13T11:36:18.175Z"
   },
   {
    "duration": 100,
    "start_time": "2022-10-13T11:41:54.332Z"
   },
   {
    "duration": 8,
    "start_time": "2022-10-13T11:42:53.113Z"
   },
   {
    "duration": 8,
    "start_time": "2022-10-13T11:43:05.888Z"
   },
   {
    "duration": 8,
    "start_time": "2022-10-13T11:43:18.418Z"
   },
   {
    "duration": 6,
    "start_time": "2022-10-13T11:50:26.783Z"
   },
   {
    "duration": 10,
    "start_time": "2022-10-13T11:51:11.565Z"
   },
   {
    "duration": 25,
    "start_time": "2022-10-13T11:51:23.035Z"
   },
   {
    "duration": 9,
    "start_time": "2022-10-13T12:04:12.076Z"
   },
   {
    "duration": 6,
    "start_time": "2022-10-13T12:04:16.413Z"
   },
   {
    "duration": 11,
    "start_time": "2022-10-13T12:04:19.010Z"
   },
   {
    "duration": 9,
    "start_time": "2022-10-13T12:04:59.386Z"
   },
   {
    "duration": 3,
    "start_time": "2022-10-13T12:05:02.610Z"
   },
   {
    "duration": 16,
    "start_time": "2022-10-13T12:05:04.147Z"
   },
   {
    "duration": 61,
    "start_time": "2022-10-13T12:15:32.744Z"
   },
   {
    "duration": 111,
    "start_time": "2022-10-13T12:18:26.077Z"
   },
   {
    "duration": 72,
    "start_time": "2022-10-13T12:18:57.274Z"
   },
   {
    "duration": 59,
    "start_time": "2022-10-13T12:19:03.436Z"
   },
   {
    "duration": 165,
    "start_time": "2022-10-13T12:19:43.219Z"
   },
   {
    "duration": 89,
    "start_time": "2022-10-13T12:20:26.760Z"
   },
   {
    "duration": 63,
    "start_time": "2022-10-13T12:23:36.822Z"
   },
   {
    "duration": 3,
    "start_time": "2022-10-13T12:28:19.732Z"
   },
   {
    "duration": 65,
    "start_time": "2022-10-13T12:28:24.755Z"
   },
   {
    "duration": 79,
    "start_time": "2022-10-13T12:34:04.719Z"
   },
   {
    "duration": 1197,
    "start_time": "2022-10-13T12:34:40.414Z"
   },
   {
    "duration": 84,
    "start_time": "2022-10-13T12:35:10.417Z"
   },
   {
    "duration": 1269,
    "start_time": "2022-10-13T12:35:20.118Z"
   },
   {
    "duration": 1304,
    "start_time": "2022-10-13T12:35:50.851Z"
   },
   {
    "duration": 2760,
    "start_time": "2022-10-13T12:37:45.760Z"
   },
   {
    "duration": 1282,
    "start_time": "2022-10-13T12:37:55.582Z"
   },
   {
    "duration": 41,
    "start_time": "2022-10-13T12:40:58.617Z"
   },
   {
    "duration": 68772,
    "start_time": "2022-10-13T12:41:16.483Z"
   },
   {
    "duration": 124,
    "start_time": "2022-10-13T12:47:01.652Z"
   },
   {
    "duration": 119,
    "start_time": "2022-10-13T12:47:47.674Z"
   },
   {
    "duration": 98,
    "start_time": "2022-10-13T12:48:15.629Z"
   },
   {
    "duration": 132,
    "start_time": "2022-10-13T12:48:37.499Z"
   },
   {
    "duration": 122,
    "start_time": "2022-10-13T12:48:58.660Z"
   },
   {
    "duration": 134,
    "start_time": "2022-10-13T12:49:06.907Z"
   },
   {
    "duration": 145,
    "start_time": "2022-10-13T12:49:13.252Z"
   },
   {
    "duration": 17,
    "start_time": "2022-10-13T12:55:47.173Z"
   },
   {
    "duration": 175,
    "start_time": "2022-10-13T12:57:05.822Z"
   },
   {
    "duration": 17,
    "start_time": "2022-10-13T12:59:40.816Z"
   },
   {
    "duration": 19,
    "start_time": "2022-10-13T13:01:37.400Z"
   },
   {
    "duration": 176,
    "start_time": "2022-10-13T13:02:34.641Z"
   },
   {
    "duration": 16,
    "start_time": "2022-10-13T13:03:34.256Z"
   },
   {
    "duration": 134176,
    "start_time": "2022-10-13T13:23:34.418Z"
   },
   {
    "duration": 269810,
    "start_time": "2022-10-13T13:29:49.555Z"
   },
   {
    "duration": 194250,
    "start_time": "2022-10-13T13:34:54.470Z"
   },
   {
    "duration": 4,
    "start_time": "2022-10-13T13:38:23.340Z"
   },
   {
    "duration": 98,
    "start_time": "2022-10-13T13:42:12.527Z"
   },
   {
    "duration": 4,
    "start_time": "2022-10-13T13:42:54.959Z"
   },
   {
    "duration": 117,
    "start_time": "2022-10-13T13:42:57.170Z"
   },
   {
    "duration": 4,
    "start_time": "2022-10-13T13:42:59.397Z"
   },
   {
    "duration": 15,
    "start_time": "2022-10-13T13:43:16.881Z"
   },
   {
    "duration": 1292,
    "start_time": "2022-10-13T13:44:05.239Z"
   },
   {
    "duration": 4,
    "start_time": "2022-10-13T13:44:08.799Z"
   },
   {
    "duration": 19,
    "start_time": "2022-10-13T13:44:15.750Z"
   },
   {
    "duration": 1145,
    "start_time": "2022-10-13T13:48:59.443Z"
   },
   {
    "duration": 51,
    "start_time": "2022-10-13T13:49:00.591Z"
   },
   {
    "duration": 14,
    "start_time": "2022-10-13T13:49:00.644Z"
   },
   {
    "duration": 47,
    "start_time": "2022-10-13T13:49:00.660Z"
   },
   {
    "duration": 47,
    "start_time": "2022-10-13T13:49:00.710Z"
   },
   {
    "duration": 50,
    "start_time": "2022-10-13T13:49:00.759Z"
   },
   {
    "duration": 80,
    "start_time": "2022-10-13T13:49:00.811Z"
   },
   {
    "duration": 20,
    "start_time": "2022-10-13T13:49:00.893Z"
   },
   {
    "duration": 54,
    "start_time": "2022-10-13T13:49:00.915Z"
   },
   {
    "duration": 55,
    "start_time": "2022-10-13T13:49:00.971Z"
   },
   {
    "duration": 87,
    "start_time": "2022-10-13T13:49:01.028Z"
   },
   {
    "duration": 1339,
    "start_time": "2022-10-13T13:49:01.117Z"
   },
   {
    "duration": 4,
    "start_time": "2022-10-13T13:49:02.458Z"
   },
   {
    "duration": 56,
    "start_time": "2022-10-13T13:49:02.465Z"
   },
   {
    "duration": 277747,
    "start_time": "2022-10-13T13:49:02.523Z"
   },
   {
    "duration": 4,
    "start_time": "2022-10-13T13:53:40.272Z"
   },
   {
    "duration": 111,
    "start_time": "2022-10-13T13:53:40.277Z"
   },
   {
    "duration": 136,
    "start_time": "2022-10-13T13:53:40.390Z"
   },
   {
    "duration": 4,
    "start_time": "2022-10-13T13:53:40.528Z"
   },
   {
    "duration": 16,
    "start_time": "2022-10-13T13:53:40.533Z"
   },
   {
    "duration": 1338,
    "start_time": "2022-10-13T15:04:12.256Z"
   },
   {
    "duration": 10,
    "start_time": "2022-10-13T15:05:22.564Z"
   },
   {
    "duration": 290553,
    "start_time": "2022-10-13T15:06:53.809Z"
   },
   {
    "duration": 77,
    "start_time": "2022-10-13T15:11:59.839Z"
   },
   {
    "duration": 131,
    "start_time": "2022-10-13T15:12:17.106Z"
   },
   {
    "duration": 8,
    "start_time": "2022-10-13T15:12:20.499Z"
   },
   {
    "duration": 1305,
    "start_time": "2022-10-13T15:14:18.755Z"
   },
   {
    "duration": 7,
    "start_time": "2022-10-13T15:14:25.267Z"
   },
   {
    "duration": 245190,
    "start_time": "2022-10-13T15:16:27.700Z"
   },
   {
    "duration": 56,
    "start_time": "2022-10-13T15:21:30.839Z"
   },
   {
    "duration": 1349,
    "start_time": "2022-10-13T15:24:55.737Z"
   },
   {
    "duration": 6,
    "start_time": "2022-10-13T15:25:01.744Z"
   },
   {
    "duration": 4,
    "start_time": "2022-10-13T16:17:09.351Z"
   },
   {
    "duration": 120,
    "start_time": "2022-10-13T16:20:01.328Z"
   },
   {
    "duration": 11,
    "start_time": "2022-10-13T16:23:58.190Z"
   },
   {
    "duration": 4,
    "start_time": "2022-10-13T16:24:05.111Z"
   },
   {
    "duration": 15,
    "start_time": "2022-10-13T16:24:10.556Z"
   },
   {
    "duration": 134,
    "start_time": "2022-10-14T09:48:44.189Z"
   },
   {
    "duration": 1118,
    "start_time": "2022-10-14T09:48:56.820Z"
   },
   {
    "duration": 74,
    "start_time": "2022-10-14T09:49:00.972Z"
   },
   {
    "duration": 14,
    "start_time": "2022-10-14T09:49:06.348Z"
   },
   {
    "duration": 7,
    "start_time": "2022-10-14T09:49:08.364Z"
   },
   {
    "duration": 7,
    "start_time": "2022-10-14T09:49:10.243Z"
   },
   {
    "duration": 5,
    "start_time": "2022-10-14T09:49:13.580Z"
   },
   {
    "duration": 23,
    "start_time": "2022-10-14T09:49:15.219Z"
   },
   {
    "duration": 5,
    "start_time": "2022-10-14T09:49:17.628Z"
   },
   {
    "duration": 11,
    "start_time": "2022-10-14T09:49:19.715Z"
   },
   {
    "duration": 3,
    "start_time": "2022-10-14T09:49:26.800Z"
   },
   {
    "duration": 12,
    "start_time": "2022-10-14T09:49:35.739Z"
   },
   {
    "duration": 5429,
    "start_time": "2022-10-14T09:49:39.145Z"
   },
   {
    "duration": 3,
    "start_time": "2022-10-14T09:50:09.763Z"
   },
   {
    "duration": 7,
    "start_time": "2022-10-14T09:50:18.317Z"
   },
   {
    "duration": 233569,
    "start_time": "2022-10-14T09:50:36.659Z"
   },
   {
    "duration": 18,
    "start_time": "2022-10-14T09:55:04.623Z"
   },
   {
    "duration": 4,
    "start_time": "2022-10-14T09:55:56.174Z"
   },
   {
    "duration": 60,
    "start_time": "2022-10-14T09:56:01.574Z"
   },
   {
    "duration": 19,
    "start_time": "2022-10-14T09:56:43.535Z"
   },
   {
    "duration": 850,
    "start_time": "2022-10-14T09:57:46.452Z"
   },
   {
    "duration": 19,
    "start_time": "2022-10-14T09:58:35.670Z"
   },
   {
    "duration": 931,
    "start_time": "2022-10-14T09:59:02.340Z"
   },
   {
    "duration": 4,
    "start_time": "2022-10-14T10:06:10.840Z"
   },
   {
    "duration": 4,
    "start_time": "2022-10-14T10:06:14.247Z"
   },
   {
    "duration": 65,
    "start_time": "2022-10-14T10:06:45.439Z"
   },
   {
    "duration": 117,
    "start_time": "2022-10-14T10:06:48.600Z"
   },
   {
    "duration": 4,
    "start_time": "2022-10-14T10:06:51.183Z"
   },
   {
    "duration": 1244,
    "start_time": "2022-10-14T10:08:12.566Z"
   },
   {
    "duration": 3,
    "start_time": "2022-10-14T10:08:17.134Z"
   },
   {
    "duration": 196106,
    "start_time": "2022-10-14T10:09:33.333Z"
   },
   {
    "duration": 4,
    "start_time": "2022-10-14T10:24:32.922Z"
   },
   {
    "duration": 262776,
    "start_time": "2022-10-14T10:24:57.417Z"
   },
   {
    "duration": 1161,
    "start_time": "2022-10-15T08:31:05.791Z"
   },
   {
    "duration": 193,
    "start_time": "2022-10-15T08:31:31.999Z"
   },
   {
    "duration": 13,
    "start_time": "2022-10-15T08:31:36.168Z"
   },
   {
    "duration": 6,
    "start_time": "2022-10-15T08:31:42.316Z"
   },
   {
    "duration": 6,
    "start_time": "2022-10-15T08:32:08.924Z"
   },
   {
    "duration": 5,
    "start_time": "2022-10-15T08:32:15.660Z"
   },
   {
    "duration": 22,
    "start_time": "2022-10-15T08:32:20.461Z"
   },
   {
    "duration": 6,
    "start_time": "2022-10-15T08:32:35.044Z"
   },
   {
    "duration": 9,
    "start_time": "2022-10-15T08:32:55.837Z"
   },
   {
    "duration": 3,
    "start_time": "2022-10-15T08:34:59.966Z"
   },
   {
    "duration": 13,
    "start_time": "2022-10-15T08:35:02.693Z"
   },
   {
    "duration": 5509,
    "start_time": "2022-10-15T08:35:20.309Z"
   },
   {
    "duration": 1220,
    "start_time": "2022-10-15T08:35:33.460Z"
   },
   {
    "duration": 4,
    "start_time": "2022-10-15T08:35:45.932Z"
   },
   {
    "duration": 233026,
    "start_time": "2022-10-15T08:36:18.225Z"
   },
   {
    "duration": 4,
    "start_time": "2022-10-15T08:40:41.570Z"
   },
   {
    "duration": 112,
    "start_time": "2022-10-15T08:46:21.109Z"
   },
   {
    "duration": 4,
    "start_time": "2022-10-15T08:46:28.337Z"
   },
   {
    "duration": 1319,
    "start_time": "2022-10-15T09:00:23.230Z"
   },
   {
    "duration": 4,
    "start_time": "2022-10-15T09:00:27.838Z"
   },
   {
    "duration": 271124,
    "start_time": "2022-10-15T09:00:43.198Z"
   },
   {
    "duration": 5,
    "start_time": "2022-10-15T09:06:36.427Z"
   },
   {
    "duration": 1310,
    "start_time": "2022-10-15T09:06:56.583Z"
   },
   {
    "duration": 4,
    "start_time": "2022-10-15T09:07:01.471Z"
   },
   {
    "duration": 5,
    "start_time": "2022-10-15T09:07:15.984Z"
   },
   {
    "duration": 22,
    "start_time": "2022-10-15T09:07:19.210Z"
   },
   {
    "duration": 5,
    "start_time": "2022-10-15T09:07:22.672Z"
   },
   {
    "duration": 8,
    "start_time": "2022-10-15T09:07:26.074Z"
   },
   {
    "duration": 2,
    "start_time": "2022-10-15T09:07:32.080Z"
   },
   {
    "duration": 12,
    "start_time": "2022-10-15T09:07:33.155Z"
   },
   {
    "duration": 1263,
    "start_time": "2022-10-15T09:07:44.215Z"
   },
   {
    "duration": 4,
    "start_time": "2022-10-15T09:07:48.944Z"
   },
   {
    "duration": 1293,
    "start_time": "2022-10-15T09:07:58.265Z"
   },
   {
    "duration": 3,
    "start_time": "2022-10-15T09:08:03.540Z"
   },
   {
    "duration": 245833,
    "start_time": "2022-10-15T09:11:53.757Z"
   },
   {
    "duration": 5,
    "start_time": "2022-10-15T09:17:11.883Z"
   },
   {
    "duration": 164813,
    "start_time": "2022-10-15T09:17:26.363Z"
   },
   {
    "duration": 5,
    "start_time": "2022-10-15T09:20:36.070Z"
   },
   {
    "duration": 238855,
    "start_time": "2022-10-15T09:21:31.299Z"
   },
   {
    "duration": 5,
    "start_time": "2022-10-15T09:26:23.870Z"
   },
   {
    "duration": 5,
    "start_time": "2022-10-15T09:26:56.781Z"
   },
   {
    "duration": 4,
    "start_time": "2022-10-15T09:27:02.342Z"
   },
   {
    "duration": 4,
    "start_time": "2022-10-15T09:27:10.078Z"
   },
   {
    "duration": 123,
    "start_time": "2022-10-15T09:27:12.983Z"
   },
   {
    "duration": 6,
    "start_time": "2022-10-15T09:38:40.196Z"
   },
   {
    "duration": 9,
    "start_time": "2022-10-15T09:38:54.396Z"
   },
   {
    "duration": 5,
    "start_time": "2022-10-15T09:39:14.980Z"
   },
   {
    "duration": 21,
    "start_time": "2022-10-15T10:00:11.707Z"
   },
   {
    "duration": 11,
    "start_time": "2022-10-15T10:00:39.645Z"
   },
   {
    "duration": 4,
    "start_time": "2022-10-15T10:03:01.836Z"
   },
   {
    "duration": 4,
    "start_time": "2022-10-15T10:03:29.549Z"
   },
   {
    "duration": 4,
    "start_time": "2022-10-15T10:04:11.332Z"
   },
   {
    "duration": 13,
    "start_time": "2022-10-15T10:04:28.221Z"
   },
   {
    "duration": 12,
    "start_time": "2022-10-15T10:04:58.301Z"
   },
   {
    "duration": 11,
    "start_time": "2022-10-15T10:05:22.180Z"
   },
   {
    "duration": 11,
    "start_time": "2022-10-15T10:05:44.399Z"
   },
   {
    "duration": 1173,
    "start_time": "2022-10-15T10:08:47.032Z"
   },
   {
    "duration": 59,
    "start_time": "2022-10-15T10:08:49.553Z"
   },
   {
    "duration": 14,
    "start_time": "2022-10-15T10:08:51.199Z"
   },
   {
    "duration": 5,
    "start_time": "2022-10-15T10:08:54.280Z"
   },
   {
    "duration": 6,
    "start_time": "2022-10-15T10:08:57.847Z"
   },
   {
    "duration": 5,
    "start_time": "2022-10-15T10:09:20.895Z"
   },
   {
    "duration": 6,
    "start_time": "2022-10-15T10:09:29.959Z"
   },
   {
    "duration": 21,
    "start_time": "2022-10-15T10:09:43.188Z"
   },
   {
    "duration": 6,
    "start_time": "2022-10-15T10:09:45.724Z"
   },
   {
    "duration": 8,
    "start_time": "2022-10-15T10:09:48.331Z"
   },
   {
    "duration": 105,
    "start_time": "2022-10-15T10:09:49.982Z"
   },
   {
    "duration": 15,
    "start_time": "2022-10-15T10:09:58.247Z"
   },
   {
    "duration": 11,
    "start_time": "2022-10-15T10:10:06.416Z"
   },
   {
    "duration": 4,
    "start_time": "2022-10-15T10:16:48.416Z"
   },
   {
    "duration": 13,
    "start_time": "2022-10-15T10:16:51.617Z"
   },
   {
    "duration": 10,
    "start_time": "2022-10-15T10:20:14.709Z"
   },
   {
    "duration": 1208,
    "start_time": "2022-10-15T10:55:04.705Z"
   },
   {
    "duration": 0,
    "start_time": "2022-10-15T10:55:05.917Z"
   },
   {
    "duration": 0,
    "start_time": "2022-10-15T10:55:05.918Z"
   },
   {
    "duration": 0,
    "start_time": "2022-10-15T10:55:05.920Z"
   },
   {
    "duration": 0,
    "start_time": "2022-10-15T10:55:05.921Z"
   },
   {
    "duration": 0,
    "start_time": "2022-10-15T10:55:05.922Z"
   },
   {
    "duration": 0,
    "start_time": "2022-10-15T10:55:05.924Z"
   },
   {
    "duration": 0,
    "start_time": "2022-10-15T10:55:05.925Z"
   },
   {
    "duration": 0,
    "start_time": "2022-10-15T10:55:05.927Z"
   },
   {
    "duration": 0,
    "start_time": "2022-10-15T10:55:05.928Z"
   },
   {
    "duration": 0,
    "start_time": "2022-10-15T10:55:05.929Z"
   },
   {
    "duration": 0,
    "start_time": "2022-10-15T10:55:05.931Z"
   },
   {
    "duration": 0,
    "start_time": "2022-10-15T10:55:05.933Z"
   },
   {
    "duration": 0,
    "start_time": "2022-10-15T10:55:05.934Z"
   },
   {
    "duration": 0,
    "start_time": "2022-10-15T10:55:05.936Z"
   },
   {
    "duration": 0,
    "start_time": "2022-10-15T10:55:05.937Z"
   },
   {
    "duration": 0,
    "start_time": "2022-10-15T10:55:05.938Z"
   },
   {
    "duration": 0,
    "start_time": "2022-10-15T10:55:05.940Z"
   },
   {
    "duration": 0,
    "start_time": "2022-10-15T10:55:05.941Z"
   },
   {
    "duration": 0,
    "start_time": "2022-10-15T10:55:05.942Z"
   },
   {
    "duration": 0,
    "start_time": "2022-10-15T10:55:05.944Z"
   },
   {
    "duration": 0,
    "start_time": "2022-10-15T10:55:05.945Z"
   },
   {
    "duration": 0,
    "start_time": "2022-10-15T10:55:05.947Z"
   },
   {
    "duration": 0,
    "start_time": "2022-10-15T10:55:05.997Z"
   },
   {
    "duration": 0,
    "start_time": "2022-10-15T10:55:05.999Z"
   },
   {
    "duration": 1,
    "start_time": "2022-10-15T10:55:06.000Z"
   },
   {
    "duration": 1060,
    "start_time": "2022-10-15T10:56:30.445Z"
   },
   {
    "duration": 61,
    "start_time": "2022-10-15T10:56:31.507Z"
   },
   {
    "duration": 19,
    "start_time": "2022-10-15T10:56:31.570Z"
   },
   {
    "duration": 6,
    "start_time": "2022-10-15T10:56:31.591Z"
   },
   {
    "duration": 10,
    "start_time": "2022-10-15T10:56:31.599Z"
   },
   {
    "duration": 11,
    "start_time": "2022-10-15T10:56:31.610Z"
   },
   {
    "duration": 34,
    "start_time": "2022-10-15T10:56:31.622Z"
   },
   {
    "duration": 7,
    "start_time": "2022-10-15T10:56:31.658Z"
   },
   {
    "duration": 30,
    "start_time": "2022-10-15T10:56:31.667Z"
   },
   {
    "duration": 3,
    "start_time": "2022-10-15T10:56:31.699Z"
   },
   {
    "duration": 21,
    "start_time": "2022-10-15T10:56:31.704Z"
   },
   {
    "duration": 4,
    "start_time": "2022-10-15T10:56:31.727Z"
   },
   {
    "duration": 667,
    "start_time": "2022-10-15T10:56:31.733Z"
   },
   {
    "duration": 26,
    "start_time": "2022-10-15T10:56:32.404Z"
   },
   {
    "duration": 161248,
    "start_time": "2022-10-15T10:56:32.432Z"
   },
   {
    "duration": 89,
    "start_time": "2022-10-15T10:59:13.681Z"
   },
   {
    "duration": 132,
    "start_time": "2022-10-15T10:59:13.771Z"
   },
   {
    "duration": 102,
    "start_time": "2022-10-15T10:59:13.906Z"
   },
   {
    "duration": 792,
    "start_time": "2022-10-15T10:59:14.013Z"
   },
   {
    "duration": 17,
    "start_time": "2022-10-15T10:59:14.812Z"
   },
   {
    "duration": 489734,
    "start_time": "2022-10-15T10:59:14.831Z"
   },
   {
    "duration": 76,
    "start_time": "2022-10-15T11:07:24.567Z"
   },
   {
    "duration": 4,
    "start_time": "2022-10-15T11:07:24.644Z"
   },
   {
    "duration": 155,
    "start_time": "2022-10-15T11:07:24.650Z"
   },
   {
    "duration": 0,
    "start_time": "2022-10-15T11:07:24.807Z"
   },
   {
    "duration": 0,
    "start_time": "2022-10-15T11:07:24.808Z"
   },
   {
    "duration": 17,
    "start_time": "2022-10-15T12:02:07.889Z"
   },
   {
    "duration": 12,
    "start_time": "2022-10-15T12:02:22.623Z"
   },
   {
    "duration": 9,
    "start_time": "2022-10-15T12:02:38.963Z"
   },
   {
    "duration": 5,
    "start_time": "2022-10-15T12:03:44.290Z"
   },
   {
    "duration": 32,
    "start_time": "2022-10-15T12:03:51.090Z"
   },
   {
    "duration": 9,
    "start_time": "2022-10-15T12:03:58.593Z"
   },
   {
    "duration": 10,
    "start_time": "2022-10-15T12:04:00.582Z"
   },
   {
    "duration": 14,
    "start_time": "2022-10-15T12:04:02.050Z"
   },
   {
    "duration": 1268,
    "start_time": "2022-10-15T12:04:34.885Z"
   },
   {
    "duration": 79,
    "start_time": "2022-10-15T12:04:36.155Z"
   },
   {
    "duration": 17,
    "start_time": "2022-10-15T12:04:36.236Z"
   },
   {
    "duration": 7,
    "start_time": "2022-10-15T12:04:36.255Z"
   },
   {
    "duration": 18,
    "start_time": "2022-10-15T12:04:36.264Z"
   },
   {
    "duration": 31,
    "start_time": "2022-10-15T12:04:36.284Z"
   },
   {
    "duration": 62,
    "start_time": "2022-10-15T12:04:36.318Z"
   },
   {
    "duration": 6,
    "start_time": "2022-10-15T12:04:36.382Z"
   },
   {
    "duration": 47,
    "start_time": "2022-10-15T12:04:36.390Z"
   },
   {
    "duration": 11,
    "start_time": "2022-10-15T12:04:40.531Z"
   },
   {
    "duration": 8,
    "start_time": "2022-10-15T12:04:57.249Z"
   },
   {
    "duration": 3,
    "start_time": "2022-10-15T12:04:57.259Z"
   },
   {
    "duration": 15,
    "start_time": "2022-10-15T12:04:57.264Z"
   },
   {
    "duration": 3,
    "start_time": "2022-10-15T12:04:57.281Z"
   },
   {
    "duration": 719,
    "start_time": "2022-10-15T12:04:57.286Z"
   },
   {
    "duration": 38,
    "start_time": "2022-10-15T12:04:58.014Z"
   },
   {
    "duration": 170123,
    "start_time": "2022-10-15T12:04:58.054Z"
   },
   {
    "duration": 112,
    "start_time": "2022-10-15T12:07:48.179Z"
   },
   {
    "duration": 169,
    "start_time": "2022-10-15T12:07:48.300Z"
   },
   {
    "duration": 57,
    "start_time": "2022-10-15T12:07:48.472Z"
   },
   {
    "duration": 832,
    "start_time": "2022-10-15T12:07:48.530Z"
   },
   {
    "duration": 39,
    "start_time": "2022-10-15T12:07:49.364Z"
   },
   {
    "duration": 549969,
    "start_time": "2022-10-15T12:07:49.409Z"
   },
   {
    "duration": 103,
    "start_time": "2022-10-15T12:16:59.382Z"
   },
   {
    "duration": 18,
    "start_time": "2022-10-15T12:16:59.487Z"
   },
   {
    "duration": 211,
    "start_time": "2022-10-15T12:16:59.510Z"
   },
   {
    "duration": 0,
    "start_time": "2022-10-15T12:16:59.723Z"
   },
   {
    "duration": 0,
    "start_time": "2022-10-15T12:16:59.724Z"
   },
   {
    "duration": 5,
    "start_time": "2022-10-15T12:18:18.690Z"
   },
   {
    "duration": 23,
    "start_time": "2022-10-15T12:18:20.155Z"
   },
   {
    "duration": 10,
    "start_time": "2022-10-15T12:19:09.394Z"
   },
   {
    "duration": 8,
    "start_time": "2022-10-15T12:19:32.231Z"
   },
   {
    "duration": 11,
    "start_time": "2022-10-15T12:19:39.629Z"
   },
   {
    "duration": 11,
    "start_time": "2022-10-15T12:19:40.850Z"
   },
   {
    "duration": 3,
    "start_time": "2022-10-15T12:19:54.452Z"
   },
   {
    "duration": 11,
    "start_time": "2022-10-15T12:19:56.372Z"
   },
   {
    "duration": 8,
    "start_time": "2022-10-15T12:20:07.136Z"
   },
   {
    "duration": 1167,
    "start_time": "2022-10-15T12:25:34.560Z"
   },
   {
    "duration": 60,
    "start_time": "2022-10-15T12:25:35.729Z"
   },
   {
    "duration": 24,
    "start_time": "2022-10-15T12:25:35.791Z"
   },
   {
    "duration": 11,
    "start_time": "2022-10-15T12:25:35.818Z"
   },
   {
    "duration": 16,
    "start_time": "2022-10-15T12:25:35.831Z"
   },
   {
    "duration": 127,
    "start_time": "2022-10-15T12:25:35.849Z"
   },
   {
    "duration": 0,
    "start_time": "2022-10-15T12:25:35.978Z"
   },
   {
    "duration": 0,
    "start_time": "2022-10-15T12:25:35.979Z"
   },
   {
    "duration": 0,
    "start_time": "2022-10-15T12:25:35.981Z"
   },
   {
    "duration": 0,
    "start_time": "2022-10-15T12:25:35.982Z"
   },
   {
    "duration": 0,
    "start_time": "2022-10-15T12:25:35.983Z"
   },
   {
    "duration": 6,
    "start_time": "2022-10-15T12:26:30.971Z"
   },
   {
    "duration": 22,
    "start_time": "2022-10-15T12:26:34.956Z"
   },
   {
    "duration": 7,
    "start_time": "2022-10-15T12:26:38.309Z"
   },
   {
    "duration": 21,
    "start_time": "2022-10-15T12:26:40.882Z"
   },
   {
    "duration": 9,
    "start_time": "2022-10-15T12:26:42.843Z"
   },
   {
    "duration": 6,
    "start_time": "2022-10-15T12:27:45.592Z"
   },
   {
    "duration": 1315,
    "start_time": "2022-10-15T12:29:57.407Z"
   },
   {
    "duration": 60,
    "start_time": "2022-10-15T12:29:58.724Z"
   },
   {
    "duration": 14,
    "start_time": "2022-10-15T12:29:58.786Z"
   },
   {
    "duration": 6,
    "start_time": "2022-10-15T12:29:58.803Z"
   },
   {
    "duration": 11,
    "start_time": "2022-10-15T12:29:58.811Z"
   },
   {
    "duration": 6,
    "start_time": "2022-10-15T12:29:58.824Z"
   },
   {
    "duration": 30,
    "start_time": "2022-10-15T12:29:58.832Z"
   },
   {
    "duration": 2,
    "start_time": "2022-10-15T12:29:58.864Z"
   },
   {
    "duration": 46,
    "start_time": "2022-10-15T12:29:58.868Z"
   },
   {
    "duration": 6,
    "start_time": "2022-10-15T12:30:03.532Z"
   },
   {
    "duration": 8,
    "start_time": "2022-10-15T12:30:12.701Z"
   },
   {
    "duration": 15,
    "start_time": "2022-10-15T12:30:14.525Z"
   },
   {
    "duration": 9,
    "start_time": "2022-10-15T12:31:00.262Z"
   },
   {
    "duration": 16,
    "start_time": "2022-10-15T12:31:00.273Z"
   },
   {
    "duration": 947,
    "start_time": "2022-10-15T12:31:00.291Z"
   },
   {
    "duration": 18,
    "start_time": "2022-10-15T12:31:01.241Z"
   },
   {
    "duration": 157408,
    "start_time": "2022-10-15T12:31:01.261Z"
   },
   {
    "duration": 106,
    "start_time": "2022-10-15T12:33:38.670Z"
   },
   {
    "duration": 2826,
    "start_time": "2022-10-15T12:33:38.778Z"
   },
   {
    "duration": 100,
    "start_time": "2022-10-15T12:33:41.607Z"
   },
   {
    "duration": 994,
    "start_time": "2022-10-15T12:33:41.709Z"
   },
   {
    "duration": 23,
    "start_time": "2022-10-15T12:33:42.706Z"
   },
   {
    "duration": 495937,
    "start_time": "2022-10-15T12:33:42.731Z"
   },
   {
    "duration": 156,
    "start_time": "2022-10-15T12:41:58.671Z"
   },
   {
    "duration": 7,
    "start_time": "2022-10-15T12:41:58.829Z"
   },
   {
    "duration": 16,
    "start_time": "2022-10-15T12:41:58.838Z"
   },
   {
    "duration": 6,
    "start_time": "2022-10-15T12:41:58.855Z"
   },
   {
    "duration": 15,
    "start_time": "2022-10-15T12:41:58.863Z"
   },
   {
    "duration": 109,
    "start_time": "2022-10-15T12:48:07.423Z"
   },
   {
    "duration": 8623,
    "start_time": "2022-10-15T12:55:16.071Z"
   },
   {
    "duration": 36,
    "start_time": "2022-10-15T12:55:35.521Z"
   },
   {
    "duration": 7,
    "start_time": "2022-10-15T13:03:27.411Z"
   },
   {
    "duration": 1114,
    "start_time": "2022-10-15T13:06:05.920Z"
   },
   {
    "duration": 77,
    "start_time": "2022-10-15T13:06:07.038Z"
   },
   {
    "duration": 16,
    "start_time": "2022-10-15T13:06:07.120Z"
   },
   {
    "duration": 8,
    "start_time": "2022-10-15T13:06:07.138Z"
   },
   {
    "duration": 17,
    "start_time": "2022-10-15T13:06:07.149Z"
   },
   {
    "duration": 10,
    "start_time": "2022-10-15T13:06:07.168Z"
   },
   {
    "duration": 43,
    "start_time": "2022-10-15T13:06:07.180Z"
   },
   {
    "duration": 3,
    "start_time": "2022-10-15T13:06:07.225Z"
   },
   {
    "duration": 25,
    "start_time": "2022-10-15T13:06:07.230Z"
   },
   {
    "duration": 6,
    "start_time": "2022-10-15T13:06:07.257Z"
   },
   {
    "duration": 11,
    "start_time": "2022-10-15T13:06:07.265Z"
   },
   {
    "duration": 28,
    "start_time": "2022-10-15T13:06:07.277Z"
   },
   {
    "duration": 1028,
    "start_time": "2022-10-15T13:06:07.306Z"
   },
   {
    "duration": 27,
    "start_time": "2022-10-15T13:06:08.339Z"
   },
   {
    "duration": 177560,
    "start_time": "2022-10-15T13:06:08.372Z"
   },
   {
    "duration": 114,
    "start_time": "2022-10-15T13:09:05.934Z"
   },
   {
    "duration": 1858,
    "start_time": "2022-10-15T13:09:06.050Z"
   },
   {
    "duration": 189,
    "start_time": "2022-10-15T13:09:07.913Z"
   },
   {
    "duration": 1168,
    "start_time": "2022-10-15T13:09:08.104Z"
   },
   {
    "duration": 44,
    "start_time": "2022-10-15T13:09:09.274Z"
   },
   {
    "duration": 518319,
    "start_time": "2022-10-15T13:09:09.324Z"
   },
   {
    "duration": 98,
    "start_time": "2022-10-15T13:17:47.646Z"
   },
   {
    "duration": 4,
    "start_time": "2022-10-15T13:17:47.746Z"
   },
   {
    "duration": 36,
    "start_time": "2022-10-15T13:17:47.752Z"
   },
   {
    "duration": 4,
    "start_time": "2022-10-15T13:17:47.790Z"
   },
   {
    "duration": 27,
    "start_time": "2022-10-15T13:17:47.795Z"
   },
   {
    "duration": 35,
    "start_time": "2022-10-15T13:23:56.617Z"
   },
   {
    "duration": 4,
    "start_time": "2022-10-15T13:29:35.516Z"
   },
   {
    "duration": 14,
    "start_time": "2022-10-15T13:29:42.039Z"
   },
   {
    "duration": 4,
    "start_time": "2022-10-15T13:29:59.152Z"
   },
   {
    "duration": 13,
    "start_time": "2022-10-15T13:30:02.697Z"
   },
   {
    "duration": 59,
    "start_time": "2022-10-15T13:30:43.527Z"
   },
   {
    "duration": 14,
    "start_time": "2022-10-15T13:30:51.879Z"
   },
   {
    "duration": 113,
    "start_time": "2022-10-15T13:30:57.755Z"
   },
   {
    "duration": 89,
    "start_time": "2022-10-15T13:31:19.512Z"
   },
   {
    "duration": 4,
    "start_time": "2022-10-15T13:33:08.410Z"
   },
   {
    "duration": 17,
    "start_time": "2022-10-15T13:33:12.689Z"
   },
   {
    "duration": 91,
    "start_time": "2022-10-15T13:34:31.842Z"
   },
   {
    "duration": 20,
    "start_time": "2022-10-15T13:34:36.763Z"
   },
   {
    "duration": 14,
    "start_time": "2022-10-15T13:35:03.860Z"
   },
   {
    "duration": 85,
    "start_time": "2022-10-15T13:35:10.154Z"
   },
   {
    "duration": 42,
    "start_time": "2022-10-15T13:50:40.074Z"
   },
   {
    "duration": 45,
    "start_time": "2022-10-15T13:53:23.416Z"
   },
   {
    "duration": 1536,
    "start_time": "2022-10-15T13:53:35.201Z"
   },
   {
    "duration": 14,
    "start_time": "2022-10-15T13:54:30.863Z"
   },
   {
    "duration": 3,
    "start_time": "2022-10-15T13:57:44.450Z"
   },
   {
    "duration": 3,
    "start_time": "2022-10-15T13:58:01.401Z"
   },
   {
    "duration": 1638,
    "start_time": "2022-10-15T13:58:12.233Z"
   },
   {
    "duration": 15,
    "start_time": "2022-10-15T13:58:19.097Z"
   },
   {
    "duration": 1596,
    "start_time": "2022-10-15T14:00:49.818Z"
   },
   {
    "duration": 15,
    "start_time": "2022-10-15T14:00:56.022Z"
   },
   {
    "duration": 832340,
    "start_time": "2022-10-15T14:01:23.530Z"
   },
   {
    "duration": 122,
    "start_time": "2022-10-15T14:23:05.939Z"
   },
   {
    "duration": 246536,
    "start_time": "2022-10-15T14:23:26.799Z"
   },
   {
    "duration": 140,
    "start_time": "2022-10-15T14:37:32.230Z"
   },
   {
    "duration": 460299,
    "start_time": "2022-10-15T14:39:10.336Z"
   },
   {
    "duration": 181,
    "start_time": "2022-10-15T14:49:59.624Z"
   },
   {
    "duration": 645851,
    "start_time": "2022-10-15T14:50:33.584Z"
   },
   {
    "duration": 186,
    "start_time": "2022-10-15T15:02:57.351Z"
   },
   {
    "duration": 10,
    "start_time": "2022-10-15T15:14:45.949Z"
   },
   {
    "duration": 7,
    "start_time": "2022-10-15T15:15:03.221Z"
   },
   {
    "duration": 6,
    "start_time": "2022-10-15T15:15:20.375Z"
   },
   {
    "duration": 4,
    "start_time": "2022-10-15T15:35:27.595Z"
   },
   {
    "duration": 100,
    "start_time": "2022-10-15T15:38:25.974Z"
   },
   {
    "duration": 4,
    "start_time": "2022-10-15T15:38:49.220Z"
   },
   {
    "duration": 11,
    "start_time": "2022-10-15T15:42:54.482Z"
   },
   {
    "duration": 8,
    "start_time": "2022-10-15T15:43:35.891Z"
   },
   {
    "duration": 10,
    "start_time": "2022-10-15T15:43:39.053Z"
   },
   {
    "duration": 5,
    "start_time": "2022-10-15T15:43:40.565Z"
   },
   {
    "duration": 5,
    "start_time": "2022-10-15T15:44:10.578Z"
   },
   {
    "duration": 105,
    "start_time": "2022-10-15T15:51:02.421Z"
   },
   {
    "duration": 598,
    "start_time": "2022-10-15T15:51:13.505Z"
   },
   {
    "duration": 173833,
    "start_time": "2022-10-15T15:53:14.734Z"
   },
   {
    "duration": 14,
    "start_time": "2022-10-15T16:06:36.584Z"
   },
   {
    "duration": 125,
    "start_time": "2022-10-15T16:06:43.576Z"
   },
   {
    "duration": 6867,
    "start_time": "2022-10-16T03:36:18.462Z"
   },
   {
    "duration": 923,
    "start_time": "2022-10-16T03:36:25.331Z"
   },
   {
    "duration": 3,
    "start_time": "2022-10-16T03:36:26.255Z"
   },
   {
    "duration": 76,
    "start_time": "2022-10-16T03:36:26.260Z"
   },
   {
    "duration": 12,
    "start_time": "2022-10-16T03:36:26.338Z"
   },
   {
    "duration": 5,
    "start_time": "2022-10-16T03:36:26.351Z"
   },
   {
    "duration": 7,
    "start_time": "2022-10-16T03:36:26.357Z"
   },
   {
    "duration": 6,
    "start_time": "2022-10-16T03:36:26.366Z"
   },
   {
    "duration": 24,
    "start_time": "2022-10-16T03:36:26.373Z"
   },
   {
    "duration": 2,
    "start_time": "2022-10-16T03:36:26.423Z"
   },
   {
    "duration": 22,
    "start_time": "2022-10-16T03:36:26.426Z"
   },
   {
    "duration": 4,
    "start_time": "2022-10-16T03:36:26.449Z"
   },
   {
    "duration": 10,
    "start_time": "2022-10-16T03:36:26.454Z"
   },
   {
    "duration": 4,
    "start_time": "2022-10-16T03:36:26.465Z"
   },
   {
    "duration": 771,
    "start_time": "2022-10-16T03:36:26.470Z"
   },
   {
    "duration": 11,
    "start_time": "2022-10-16T03:36:27.243Z"
   },
   {
    "duration": 139660,
    "start_time": "2022-10-16T03:36:27.255Z"
   },
   {
    "duration": 83,
    "start_time": "2022-10-16T03:38:46.917Z"
   },
   {
    "duration": 2224,
    "start_time": "2022-10-16T03:38:47.001Z"
   },
   {
    "duration": 104,
    "start_time": "2022-10-16T03:38:49.227Z"
   },
   {
    "duration": 791,
    "start_time": "2022-10-16T03:38:49.422Z"
   },
   {
    "duration": 14,
    "start_time": "2022-10-16T03:38:50.214Z"
   },
   {
    "duration": 212396,
    "start_time": "2022-10-16T03:38:50.229Z"
   },
   {
    "duration": 13,
    "start_time": "2022-10-16T03:42:22.626Z"
   },
   {
    "duration": 0,
    "start_time": "2022-10-16T03:42:22.641Z"
   },
   {
    "duration": 0,
    "start_time": "2022-10-16T03:42:22.641Z"
   },
   {
    "duration": 0,
    "start_time": "2022-10-16T03:42:22.643Z"
   },
   {
    "duration": 0,
    "start_time": "2022-10-16T03:42:22.644Z"
   },
   {
    "duration": 0,
    "start_time": "2022-10-16T03:42:22.645Z"
   },
   {
    "duration": 0,
    "start_time": "2022-10-16T03:42:22.646Z"
   },
   {
    "duration": 0,
    "start_time": "2022-10-16T03:42:22.647Z"
   },
   {
    "duration": 0,
    "start_time": "2022-10-16T03:42:22.648Z"
   },
   {
    "duration": 0,
    "start_time": "2022-10-16T03:42:22.649Z"
   },
   {
    "duration": 0,
    "start_time": "2022-10-16T03:42:22.650Z"
   },
   {
    "duration": 0,
    "start_time": "2022-10-16T03:42:22.651Z"
   },
   {
    "duration": 0,
    "start_time": "2022-10-16T03:42:22.652Z"
   },
   {
    "duration": 0,
    "start_time": "2022-10-16T03:42:22.652Z"
   },
   {
    "duration": 0,
    "start_time": "2022-10-16T03:42:22.653Z"
   },
   {
    "duration": 2086,
    "start_time": "2022-10-16T03:42:34.932Z"
   },
   {
    "duration": 944,
    "start_time": "2022-10-16T03:42:37.020Z"
   },
   {
    "duration": 3,
    "start_time": "2022-10-16T03:42:37.965Z"
   },
   {
    "duration": 49,
    "start_time": "2022-10-16T03:42:37.969Z"
   },
   {
    "duration": 12,
    "start_time": "2022-10-16T03:42:38.020Z"
   },
   {
    "duration": 6,
    "start_time": "2022-10-16T03:42:38.033Z"
   },
   {
    "duration": 6,
    "start_time": "2022-10-16T03:42:38.040Z"
   },
   {
    "duration": 4,
    "start_time": "2022-10-16T03:42:38.047Z"
   },
   {
    "duration": 22,
    "start_time": "2022-10-16T03:42:38.053Z"
   },
   {
    "duration": 2,
    "start_time": "2022-10-16T03:42:38.077Z"
   },
   {
    "duration": 47,
    "start_time": "2022-10-16T03:42:38.080Z"
   },
   {
    "duration": 4,
    "start_time": "2022-10-16T03:42:38.129Z"
   },
   {
    "duration": 12,
    "start_time": "2022-10-16T03:42:38.134Z"
   },
   {
    "duration": 3,
    "start_time": "2022-10-16T03:42:38.148Z"
   },
   {
    "duration": 776,
    "start_time": "2022-10-16T03:42:38.153Z"
   },
   {
    "duration": 16,
    "start_time": "2022-10-16T03:42:38.931Z"
   },
   {
    "duration": 139571,
    "start_time": "2022-10-16T03:42:38.949Z"
   },
   {
    "duration": 78,
    "start_time": "2022-10-16T03:44:58.521Z"
   },
   {
    "duration": 2322,
    "start_time": "2022-10-16T03:44:58.601Z"
   },
   {
    "duration": 100,
    "start_time": "2022-10-16T03:45:00.925Z"
   },
   {
    "duration": 934,
    "start_time": "2022-10-16T03:45:01.028Z"
   },
   {
    "duration": 13,
    "start_time": "2022-10-16T03:45:01.964Z"
   },
   {
    "duration": 440057,
    "start_time": "2022-10-16T03:45:01.979Z"
   },
   {
    "duration": 86,
    "start_time": "2022-10-16T03:52:22.038Z"
   },
   {
    "duration": 35,
    "start_time": "2022-10-16T03:52:22.126Z"
   },
   {
    "duration": 16,
    "start_time": "2022-10-16T03:52:22.163Z"
   },
   {
    "duration": 6,
    "start_time": "2022-10-16T03:52:22.181Z"
   },
   {
    "duration": 1503,
    "start_time": "2022-10-16T03:52:22.190Z"
   },
   {
    "duration": 13,
    "start_time": "2022-10-16T03:52:23.695Z"
   },
   {
    "duration": 515282,
    "start_time": "2022-10-16T03:52:23.709Z"
   },
   {
    "duration": 159,
    "start_time": "2022-10-16T04:00:58.994Z"
   },
   {
    "duration": 10,
    "start_time": "2022-10-16T04:00:59.155Z"
   },
   {
    "duration": 5,
    "start_time": "2022-10-16T04:00:59.167Z"
   },
   {
    "duration": 5,
    "start_time": "2022-10-16T04:00:59.174Z"
   },
   {
    "duration": 560,
    "start_time": "2022-10-16T04:00:59.181Z"
   },
   {
    "duration": 15,
    "start_time": "2022-10-16T04:00:59.743Z"
   },
   {
    "duration": 184009,
    "start_time": "2022-10-16T04:00:59.759Z"
   },
   {
    "duration": 99,
    "start_time": "2022-10-16T04:04:03.770Z"
   },
   {
    "duration": 167,
    "start_time": "2022-10-16T04:16:41.743Z"
   },
   {
    "duration": 72,
    "start_time": "2022-10-16T04:16:50.017Z"
   },
   {
    "duration": 70,
    "start_time": "2022-10-16T04:16:59.275Z"
   },
   {
    "duration": 9,
    "start_time": "2022-10-16T04:17:51.385Z"
   },
   {
    "duration": 426,
    "start_time": "2022-10-16T04:20:09.154Z"
   },
   {
    "duration": 119,
    "start_time": "2022-10-16T04:20:17.003Z"
   },
   {
    "duration": 73,
    "start_time": "2022-10-16T04:22:45.058Z"
   },
   {
    "duration": 109,
    "start_time": "2022-10-16T04:23:02.075Z"
   },
   {
    "duration": 74,
    "start_time": "2022-10-16T04:23:38.292Z"
   },
   {
    "duration": 107,
    "start_time": "2022-10-16T04:24:00.567Z"
   },
   {
    "duration": 7,
    "start_time": "2022-10-16T04:25:11.091Z"
   },
   {
    "duration": 7,
    "start_time": "2022-10-16T04:26:56.046Z"
   },
   {
    "duration": 18,
    "start_time": "2022-10-16T04:48:59.742Z"
   },
   {
    "duration": 6,
    "start_time": "2022-10-16T04:49:08.641Z"
   },
   {
    "duration": 6,
    "start_time": "2022-10-16T04:49:14.464Z"
   },
   {
    "duration": 6,
    "start_time": "2022-10-16T04:49:22.779Z"
   },
   {
    "duration": 6,
    "start_time": "2022-10-16T04:49:31.902Z"
   },
   {
    "duration": 6,
    "start_time": "2022-10-16T04:50:17.385Z"
   },
   {
    "duration": 6,
    "start_time": "2022-10-16T04:50:31.273Z"
   },
   {
    "duration": 3,
    "start_time": "2022-10-16T05:57:38.598Z"
   },
   {
    "duration": 4,
    "start_time": "2022-10-16T05:57:39.606Z"
   },
   {
    "duration": 15,
    "start_time": "2022-10-16T05:57:46.284Z"
   },
   {
    "duration": 4,
    "start_time": "2022-10-16T05:58:02.203Z"
   },
   {
    "duration": 4,
    "start_time": "2022-10-16T05:59:41.934Z"
   },
   {
    "duration": 14,
    "start_time": "2022-10-16T05:59:49.133Z"
   },
   {
    "duration": 4,
    "start_time": "2022-10-16T06:00:15.957Z"
   },
   {
    "duration": 81,
    "start_time": "2022-10-16T06:00:29.120Z"
   },
   {
    "duration": 4,
    "start_time": "2022-10-16T06:00:38.234Z"
   },
   {
    "duration": 2,
    "start_time": "2022-10-16T06:01:08.745Z"
   },
   {
    "duration": 2149,
    "start_time": "2022-10-16T06:12:51.454Z"
   },
   {
    "duration": 1168,
    "start_time": "2022-10-16T06:12:53.605Z"
   },
   {
    "duration": 2,
    "start_time": "2022-10-16T06:12:54.775Z"
   },
   {
    "duration": 61,
    "start_time": "2022-10-16T06:12:54.778Z"
   },
   {
    "duration": 13,
    "start_time": "2022-10-16T06:12:54.841Z"
   },
   {
    "duration": 8,
    "start_time": "2022-10-16T06:12:54.856Z"
   },
   {
    "duration": 16,
    "start_time": "2022-10-16T06:12:54.865Z"
   },
   {
    "duration": 49,
    "start_time": "2022-10-16T06:12:54.883Z"
   },
   {
    "duration": 2,
    "start_time": "2022-10-16T06:12:54.934Z"
   },
   {
    "duration": 29,
    "start_time": "2022-10-16T06:12:54.937Z"
   },
   {
    "duration": 14,
    "start_time": "2022-10-16T06:12:54.968Z"
   },
   {
    "duration": 21,
    "start_time": "2022-10-16T06:12:54.983Z"
   },
   {
    "duration": 26,
    "start_time": "2022-10-16T06:12:55.006Z"
   },
   {
    "duration": 21,
    "start_time": "2022-10-16T06:12:55.035Z"
   },
   {
    "duration": 26,
    "start_time": "2022-10-16T06:12:55.058Z"
   },
   {
    "duration": 794,
    "start_time": "2022-10-16T06:12:55.086Z"
   },
   {
    "duration": 4,
    "start_time": "2022-10-16T06:12:55.882Z"
   },
   {
    "duration": 19,
    "start_time": "2022-10-16T06:12:55.887Z"
   },
   {
    "duration": 141056,
    "start_time": "2022-10-16T06:12:55.907Z"
   },
   {
    "duration": 4,
    "start_time": "2022-10-16T06:15:16.964Z"
   },
   {
    "duration": 88,
    "start_time": "2022-10-16T06:15:16.969Z"
   },
   {
    "duration": 2164,
    "start_time": "2022-10-16T06:15:17.059Z"
   },
   {
    "duration": 2,
    "start_time": "2022-10-16T06:15:19.225Z"
   },
   {
    "duration": 99,
    "start_time": "2022-10-16T06:15:19.229Z"
   },
   {
    "duration": 892,
    "start_time": "2022-10-16T06:15:19.330Z"
   },
   {
    "duration": 3,
    "start_time": "2022-10-16T06:15:20.223Z"
   },
   {
    "duration": 17,
    "start_time": "2022-10-16T06:15:20.228Z"
   },
   {
    "duration": 440471,
    "start_time": "2022-10-16T06:15:20.246Z"
   },
   {
    "duration": 4,
    "start_time": "2022-10-16T06:22:40.718Z"
   },
   {
    "duration": 99,
    "start_time": "2022-10-16T06:22:40.723Z"
   },
   {
    "duration": 35,
    "start_time": "2022-10-16T06:22:40.824Z"
   },
   {
    "duration": 7,
    "start_time": "2022-10-16T06:22:40.860Z"
   },
   {
    "duration": 8,
    "start_time": "2022-10-16T06:22:40.868Z"
   },
   {
    "duration": 1507,
    "start_time": "2022-10-16T06:22:40.878Z"
   },
   {
    "duration": 3,
    "start_time": "2022-10-16T06:22:42.386Z"
   },
   {
    "duration": 26,
    "start_time": "2022-10-16T06:22:42.390Z"
   },
   {
    "duration": 517296,
    "start_time": "2022-10-16T06:22:42.422Z"
   },
   {
    "duration": 3,
    "start_time": "2022-10-16T06:31:19.721Z"
   },
   {
    "duration": 161,
    "start_time": "2022-10-16T06:31:19.725Z"
   },
   {
    "duration": 10,
    "start_time": "2022-10-16T06:31:19.887Z"
   },
   {
    "duration": 23,
    "start_time": "2022-10-16T06:31:19.900Z"
   },
   {
    "duration": 5,
    "start_time": "2022-10-16T06:31:19.925Z"
   },
   {
    "duration": 563,
    "start_time": "2022-10-16T06:31:19.931Z"
   },
   {
    "duration": 2,
    "start_time": "2022-10-16T06:31:20.496Z"
   },
   {
    "duration": 32,
    "start_time": "2022-10-16T06:31:20.499Z"
   },
   {
    "duration": 140224,
    "start_time": "2022-10-16T06:31:20.533Z"
   },
   {
    "duration": 3,
    "start_time": "2022-10-16T06:33:40.758Z"
   },
   {
    "duration": 110,
    "start_time": "2022-10-16T06:33:40.762Z"
   },
   {
    "duration": 118,
    "start_time": "2022-10-16T06:33:40.874Z"
   },
   {
    "duration": 0,
    "start_time": "2022-10-16T06:33:40.993Z"
   },
   {
    "duration": 0,
    "start_time": "2022-10-16T06:33:40.994Z"
   },
   {
    "duration": 4,
    "start_time": "2022-10-16T09:17:39.160Z"
   },
   {
    "duration": 2,
    "start_time": "2022-10-16T09:19:15.827Z"
   },
   {
    "duration": 15,
    "start_time": "2022-10-16T09:19:22.125Z"
   },
   {
    "duration": 4,
    "start_time": "2022-10-16T09:20:45.012Z"
   },
   {
    "duration": 17,
    "start_time": "2022-10-16T09:21:36.023Z"
   },
   {
    "duration": 4,
    "start_time": "2022-10-16T09:21:51.405Z"
   },
   {
    "duration": 13,
    "start_time": "2022-10-16T09:22:22.780Z"
   },
   {
    "duration": 13,
    "start_time": "2022-10-16T09:22:37.226Z"
   },
   {
    "duration": 4,
    "start_time": "2022-10-16T09:22:47.652Z"
   },
   {
    "duration": 3,
    "start_time": "2022-10-16T09:23:02.997Z"
   },
   {
    "duration": 2,
    "start_time": "2022-10-16T09:23:13.734Z"
   },
   {
    "duration": 14,
    "start_time": "2022-10-16T09:23:16.213Z"
   },
   {
    "duration": 4,
    "start_time": "2022-10-16T09:23:17.964Z"
   },
   {
    "duration": 3,
    "start_time": "2022-10-16T09:23:19.834Z"
   },
   {
    "duration": 14,
    "start_time": "2022-10-16T09:24:41.706Z"
   },
   {
    "duration": 10,
    "start_time": "2022-10-16T09:25:09.650Z"
   },
   {
    "duration": 4,
    "start_time": "2022-10-16T09:26:57.638Z"
   },
   {
    "duration": 16,
    "start_time": "2022-10-16T09:27:02.085Z"
   },
   {
    "duration": 10,
    "start_time": "2022-10-16T09:27:05.677Z"
   },
   {
    "duration": 3,
    "start_time": "2022-10-16T09:37:06.100Z"
   },
   {
    "duration": 49,
    "start_time": "2022-10-16T09:39:28.144Z"
   },
   {
    "duration": 4,
    "start_time": "2022-10-16T09:44:55.715Z"
   },
   {
    "duration": 4,
    "start_time": "2022-10-16T09:44:57.498Z"
   },
   {
    "duration": 3,
    "start_time": "2022-10-16T09:46:17.035Z"
   },
   {
    "duration": 4,
    "start_time": "2022-10-16T09:46:18.284Z"
   },
   {
    "duration": 3,
    "start_time": "2022-10-16T09:46:22.428Z"
   },
   {
    "duration": 15,
    "start_time": "2022-10-16T09:46:25.211Z"
   },
   {
    "duration": 4,
    "start_time": "2022-10-16T09:47:02.331Z"
   },
   {
    "duration": 2,
    "start_time": "2022-10-16T09:47:21.124Z"
   },
   {
    "duration": 76,
    "start_time": "2022-10-16T09:47:21.811Z"
   },
   {
    "duration": 3,
    "start_time": "2022-10-16T09:47:33.220Z"
   },
   {
    "duration": 29,
    "start_time": "2022-10-16T09:47:34.305Z"
   },
   {
    "duration": 3,
    "start_time": "2022-10-16T09:47:38.707Z"
   },
   {
    "duration": 17,
    "start_time": "2022-10-16T09:47:40.139Z"
   },
   {
    "duration": 3,
    "start_time": "2022-10-16T09:47:43.498Z"
   },
   {
    "duration": 82,
    "start_time": "2022-10-16T09:47:44.363Z"
   },
   {
    "duration": 3,
    "start_time": "2022-10-16T09:47:49.162Z"
   },
   {
    "duration": 15,
    "start_time": "2022-10-16T09:47:50.761Z"
   },
   {
    "duration": 3,
    "start_time": "2022-10-16T09:47:53.842Z"
   },
   {
    "duration": 148,
    "start_time": "2022-10-16T09:47:54.668Z"
   },
   {
    "duration": 2,
    "start_time": "2022-10-16T09:48:01.035Z"
   },
   {
    "duration": 14,
    "start_time": "2022-10-16T09:48:02.140Z"
   },
   {
    "duration": 2,
    "start_time": "2022-10-16T09:48:05.271Z"
   },
   {
    "duration": 110,
    "start_time": "2022-10-16T09:48:06.485Z"
   },
   {
    "duration": 5,
    "start_time": "2022-10-16T09:48:21.899Z"
   },
   {
    "duration": 5,
    "start_time": "2022-10-16T09:51:02.797Z"
   },
   {
    "duration": 4,
    "start_time": "2022-10-16T09:51:25.078Z"
   },
   {
    "duration": 13,
    "start_time": "2022-10-16T09:52:39.054Z"
   },
   {
    "duration": 3,
    "start_time": "2022-10-16T10:18:14.464Z"
   },
   {
    "duration": 3,
    "start_time": "2022-10-16T10:18:15.985Z"
   },
   {
    "duration": 49,
    "start_time": "2022-10-16T10:18:30.721Z"
   },
   {
    "duration": 21,
    "start_time": "2022-10-16T10:19:41.591Z"
   },
   {
    "duration": 9,
    "start_time": "2022-10-16T10:53:45.848Z"
   },
   {
    "duration": 71,
    "start_time": "2022-10-16T10:56:29.170Z"
   },
   {
    "duration": 115,
    "start_time": "2022-10-16T10:56:32.937Z"
   },
   {
    "duration": 117,
    "start_time": "2022-10-16T11:00:45.861Z"
   },
   {
    "duration": 16,
    "start_time": "2022-10-16T11:02:25.144Z"
   },
   {
    "duration": 217,
    "start_time": "2022-10-16T11:03:05.911Z"
   },
   {
    "duration": 149,
    "start_time": "2022-10-16T11:03:30.216Z"
   },
   {
    "duration": 5,
    "start_time": "2022-10-16T11:07:33.996Z"
   },
   {
    "duration": 6,
    "start_time": "2022-10-16T11:07:44.370Z"
   },
   {
    "duration": 7,
    "start_time": "2022-10-16T11:08:08.249Z"
   },
   {
    "duration": 2240,
    "start_time": "2022-10-16T13:11:29.626Z"
   },
   {
    "duration": 1102,
    "start_time": "2022-10-16T13:11:31.868Z"
   },
   {
    "duration": 3,
    "start_time": "2022-10-16T13:11:32.971Z"
   },
   {
    "duration": 45,
    "start_time": "2022-10-16T13:11:32.976Z"
   },
   {
    "duration": 11,
    "start_time": "2022-10-16T13:11:33.022Z"
   },
   {
    "duration": 5,
    "start_time": "2022-10-16T13:11:33.034Z"
   },
   {
    "duration": 8,
    "start_time": "2022-10-16T13:11:33.040Z"
   },
   {
    "duration": 21,
    "start_time": "2022-10-16T13:11:33.049Z"
   },
   {
    "duration": 2,
    "start_time": "2022-10-16T13:11:33.072Z"
   },
   {
    "duration": 45,
    "start_time": "2022-10-16T13:11:33.077Z"
   },
   {
    "duration": 4,
    "start_time": "2022-10-16T13:11:33.124Z"
   },
   {
    "duration": 11,
    "start_time": "2022-10-16T13:11:33.130Z"
   },
   {
    "duration": 5,
    "start_time": "2022-10-16T13:11:33.143Z"
   },
   {
    "duration": 4,
    "start_time": "2022-10-16T13:11:33.150Z"
   },
   {
    "duration": 46,
    "start_time": "2022-10-16T13:11:33.155Z"
   },
   {
    "duration": 0,
    "start_time": "2022-10-16T13:11:33.203Z"
   },
   {
    "duration": 0,
    "start_time": "2022-10-16T13:11:33.206Z"
   },
   {
    "duration": 0,
    "start_time": "2022-10-16T13:11:33.207Z"
   },
   {
    "duration": 0,
    "start_time": "2022-10-16T13:11:33.208Z"
   },
   {
    "duration": 0,
    "start_time": "2022-10-16T13:11:33.208Z"
   },
   {
    "duration": 0,
    "start_time": "2022-10-16T13:11:33.209Z"
   },
   {
    "duration": 0,
    "start_time": "2022-10-16T13:11:33.210Z"
   },
   {
    "duration": 0,
    "start_time": "2022-10-16T13:11:33.211Z"
   },
   {
    "duration": 0,
    "start_time": "2022-10-16T13:11:33.212Z"
   },
   {
    "duration": 0,
    "start_time": "2022-10-16T13:11:33.213Z"
   },
   {
    "duration": 0,
    "start_time": "2022-10-16T13:11:33.213Z"
   },
   {
    "duration": 0,
    "start_time": "2022-10-16T13:11:33.214Z"
   },
   {
    "duration": 0,
    "start_time": "2022-10-16T13:11:33.215Z"
   },
   {
    "duration": 0,
    "start_time": "2022-10-16T13:11:33.216Z"
   },
   {
    "duration": 0,
    "start_time": "2022-10-16T13:11:33.217Z"
   },
   {
    "duration": 0,
    "start_time": "2022-10-16T13:11:33.217Z"
   },
   {
    "duration": 0,
    "start_time": "2022-10-16T13:11:33.218Z"
   },
   {
    "duration": 0,
    "start_time": "2022-10-16T13:11:33.219Z"
   },
   {
    "duration": 0,
    "start_time": "2022-10-16T13:11:33.220Z"
   },
   {
    "duration": 0,
    "start_time": "2022-10-16T13:11:33.222Z"
   },
   {
    "duration": 0,
    "start_time": "2022-10-16T13:11:33.222Z"
   },
   {
    "duration": 0,
    "start_time": "2022-10-16T13:11:33.223Z"
   },
   {
    "duration": 0,
    "start_time": "2022-10-16T13:11:33.224Z"
   },
   {
    "duration": 0,
    "start_time": "2022-10-16T13:11:33.225Z"
   },
   {
    "duration": 0,
    "start_time": "2022-10-16T13:11:33.226Z"
   },
   {
    "duration": 0,
    "start_time": "2022-10-16T13:11:33.227Z"
   },
   {
    "duration": 0,
    "start_time": "2022-10-16T13:11:33.228Z"
   },
   {
    "duration": 0,
    "start_time": "2022-10-16T13:11:33.229Z"
   },
   {
    "duration": 0,
    "start_time": "2022-10-16T13:11:33.230Z"
   },
   {
    "duration": 0,
    "start_time": "2022-10-16T13:11:33.231Z"
   },
   {
    "duration": 0,
    "start_time": "2022-10-16T13:11:33.232Z"
   },
   {
    "duration": 0,
    "start_time": "2022-10-16T13:11:33.233Z"
   },
   {
    "duration": 0,
    "start_time": "2022-10-16T13:11:33.234Z"
   },
   {
    "duration": 0,
    "start_time": "2022-10-16T13:11:33.235Z"
   },
   {
    "duration": 0,
    "start_time": "2022-10-16T13:11:33.236Z"
   },
   {
    "duration": 0,
    "start_time": "2022-10-16T13:11:33.237Z"
   },
   {
    "duration": 0,
    "start_time": "2022-10-16T13:11:33.238Z"
   },
   {
    "duration": 0,
    "start_time": "2022-10-16T13:11:33.239Z"
   },
   {
    "duration": 0,
    "start_time": "2022-10-16T13:11:33.240Z"
   },
   {
    "duration": 0,
    "start_time": "2022-10-16T13:11:33.240Z"
   },
   {
    "duration": 2314,
    "start_time": "2022-10-16T13:12:20.800Z"
   },
   {
    "duration": 1154,
    "start_time": "2022-10-16T13:12:23.116Z"
   },
   {
    "duration": 3,
    "start_time": "2022-10-16T13:12:24.271Z"
   },
   {
    "duration": 49,
    "start_time": "2022-10-16T13:12:24.276Z"
   },
   {
    "duration": 11,
    "start_time": "2022-10-16T13:12:24.326Z"
   },
   {
    "duration": 6,
    "start_time": "2022-10-16T13:12:24.338Z"
   },
   {
    "duration": 6,
    "start_time": "2022-10-16T13:12:24.345Z"
   },
   {
    "duration": 22,
    "start_time": "2022-10-16T13:12:24.353Z"
   },
   {
    "duration": 3,
    "start_time": "2022-10-16T13:12:24.377Z"
   },
   {
    "duration": 50,
    "start_time": "2022-10-16T13:12:24.383Z"
   },
   {
    "duration": 4,
    "start_time": "2022-10-16T13:12:24.434Z"
   },
   {
    "duration": 13,
    "start_time": "2022-10-16T13:12:24.439Z"
   },
   {
    "duration": 8,
    "start_time": "2022-10-16T13:12:24.453Z"
   },
   {
    "duration": 2,
    "start_time": "2022-10-16T13:12:24.463Z"
   },
   {
    "duration": 70,
    "start_time": "2022-10-16T13:12:24.467Z"
   },
   {
    "duration": 0,
    "start_time": "2022-10-16T13:12:24.539Z"
   },
   {
    "duration": 0,
    "start_time": "2022-10-16T13:12:24.541Z"
   },
   {
    "duration": 0,
    "start_time": "2022-10-16T13:12:24.543Z"
   },
   {
    "duration": 0,
    "start_time": "2022-10-16T13:12:24.544Z"
   },
   {
    "duration": 0,
    "start_time": "2022-10-16T13:12:24.545Z"
   },
   {
    "duration": 0,
    "start_time": "2022-10-16T13:12:24.546Z"
   },
   {
    "duration": 0,
    "start_time": "2022-10-16T13:12:24.547Z"
   },
   {
    "duration": 0,
    "start_time": "2022-10-16T13:12:24.548Z"
   },
   {
    "duration": 0,
    "start_time": "2022-10-16T13:12:24.548Z"
   },
   {
    "duration": 1,
    "start_time": "2022-10-16T13:12:24.549Z"
   },
   {
    "duration": 0,
    "start_time": "2022-10-16T13:12:24.550Z"
   },
   {
    "duration": 0,
    "start_time": "2022-10-16T13:12:24.551Z"
   },
   {
    "duration": 0,
    "start_time": "2022-10-16T13:12:24.552Z"
   },
   {
    "duration": 0,
    "start_time": "2022-10-16T13:12:24.553Z"
   },
   {
    "duration": 0,
    "start_time": "2022-10-16T13:12:24.554Z"
   },
   {
    "duration": 0,
    "start_time": "2022-10-16T13:12:24.555Z"
   },
   {
    "duration": 0,
    "start_time": "2022-10-16T13:12:24.555Z"
   },
   {
    "duration": 0,
    "start_time": "2022-10-16T13:12:24.556Z"
   },
   {
    "duration": 0,
    "start_time": "2022-10-16T13:12:24.557Z"
   },
   {
    "duration": 0,
    "start_time": "2022-10-16T13:12:24.559Z"
   },
   {
    "duration": 0,
    "start_time": "2022-10-16T13:12:24.560Z"
   },
   {
    "duration": 0,
    "start_time": "2022-10-16T13:12:24.561Z"
   },
   {
    "duration": 0,
    "start_time": "2022-10-16T13:12:24.562Z"
   },
   {
    "duration": 0,
    "start_time": "2022-10-16T13:12:24.563Z"
   },
   {
    "duration": 0,
    "start_time": "2022-10-16T13:12:24.564Z"
   },
   {
    "duration": 0,
    "start_time": "2022-10-16T13:12:24.565Z"
   },
   {
    "duration": 0,
    "start_time": "2022-10-16T13:12:24.566Z"
   },
   {
    "duration": 0,
    "start_time": "2022-10-16T13:12:24.567Z"
   },
   {
    "duration": 0,
    "start_time": "2022-10-16T13:12:24.568Z"
   },
   {
    "duration": 0,
    "start_time": "2022-10-16T13:12:24.569Z"
   },
   {
    "duration": 0,
    "start_time": "2022-10-16T13:12:24.570Z"
   },
   {
    "duration": 0,
    "start_time": "2022-10-16T13:12:24.571Z"
   },
   {
    "duration": 0,
    "start_time": "2022-10-16T13:12:24.572Z"
   },
   {
    "duration": 0,
    "start_time": "2022-10-16T13:12:24.573Z"
   },
   {
    "duration": 0,
    "start_time": "2022-10-16T13:12:24.574Z"
   },
   {
    "duration": 0,
    "start_time": "2022-10-16T13:12:24.575Z"
   },
   {
    "duration": 0,
    "start_time": "2022-10-16T13:12:24.575Z"
   },
   {
    "duration": 0,
    "start_time": "2022-10-16T13:12:24.622Z"
   },
   {
    "duration": 0,
    "start_time": "2022-10-16T13:12:24.623Z"
   },
   {
    "duration": 0,
    "start_time": "2022-10-16T13:12:24.624Z"
   },
   {
    "duration": 2272,
    "start_time": "2022-10-16T13:13:17.490Z"
   },
   {
    "duration": 1113,
    "start_time": "2022-10-16T13:13:19.765Z"
   },
   {
    "duration": 2,
    "start_time": "2022-10-16T13:13:20.880Z"
   },
   {
    "duration": 61,
    "start_time": "2022-10-16T13:13:20.884Z"
   },
   {
    "duration": 12,
    "start_time": "2022-10-16T13:13:20.946Z"
   },
   {
    "duration": 45,
    "start_time": "2022-10-16T13:13:20.959Z"
   },
   {
    "duration": 59,
    "start_time": "2022-10-16T13:13:21.005Z"
   },
   {
    "duration": 33,
    "start_time": "2022-10-16T13:13:21.065Z"
   },
   {
    "duration": 7,
    "start_time": "2022-10-16T13:13:21.100Z"
   },
   {
    "duration": 22,
    "start_time": "2022-10-16T13:13:21.110Z"
   },
   {
    "duration": 7,
    "start_time": "2022-10-16T13:13:21.134Z"
   },
   {
    "duration": 15,
    "start_time": "2022-10-16T13:13:21.143Z"
   },
   {
    "duration": 25,
    "start_time": "2022-10-16T13:13:21.159Z"
   },
   {
    "duration": 22,
    "start_time": "2022-10-16T13:13:21.185Z"
   },
   {
    "duration": 14,
    "start_time": "2022-10-16T13:13:21.208Z"
   },
   {
    "duration": 779,
    "start_time": "2022-10-16T13:13:21.223Z"
   },
   {
    "duration": 3,
    "start_time": "2022-10-16T13:13:22.004Z"
   },
   {
    "duration": 52,
    "start_time": "2022-10-16T13:13:22.009Z"
   },
   {
    "duration": 142711,
    "start_time": "2022-10-16T13:13:22.063Z"
   },
   {
    "duration": 3,
    "start_time": "2022-10-16T13:15:44.776Z"
   },
   {
    "duration": 95,
    "start_time": "2022-10-16T13:15:44.781Z"
   },
   {
    "duration": 2346,
    "start_time": "2022-10-16T13:15:44.878Z"
   },
   {
    "duration": 2,
    "start_time": "2022-10-16T13:15:47.225Z"
   },
   {
    "duration": 99,
    "start_time": "2022-10-16T13:15:47.228Z"
   },
   {
    "duration": 932,
    "start_time": "2022-10-16T13:15:47.332Z"
   },
   {
    "duration": 2,
    "start_time": "2022-10-16T13:15:48.265Z"
   },
   {
    "duration": 19,
    "start_time": "2022-10-16T13:15:48.269Z"
   },
   {
    "duration": 440793,
    "start_time": "2022-10-16T13:15:48.291Z"
   },
   {
    "duration": 3,
    "start_time": "2022-10-16T13:23:09.086Z"
   },
   {
    "duration": 103,
    "start_time": "2022-10-16T13:23:09.090Z"
   },
   {
    "duration": 50,
    "start_time": "2022-10-16T13:23:09.195Z"
   },
   {
    "duration": 7,
    "start_time": "2022-10-16T13:23:09.247Z"
   },
   {
    "duration": 13,
    "start_time": "2022-10-16T13:23:09.256Z"
   },
   {
    "duration": 1488,
    "start_time": "2022-10-16T13:23:09.270Z"
   },
   {
    "duration": 2,
    "start_time": "2022-10-16T13:23:10.760Z"
   },
   {
    "duration": 18,
    "start_time": "2022-10-16T13:23:10.763Z"
   },
   {
    "duration": 516828,
    "start_time": "2022-10-16T13:23:10.783Z"
   },
   {
    "duration": 8,
    "start_time": "2022-10-16T13:31:47.614Z"
   },
   {
    "duration": 149,
    "start_time": "2022-10-16T13:31:47.624Z"
   },
   {
    "duration": 10,
    "start_time": "2022-10-16T13:31:47.774Z"
   },
   {
    "duration": 7,
    "start_time": "2022-10-16T13:31:47.785Z"
   },
   {
    "duration": 6,
    "start_time": "2022-10-16T13:31:47.793Z"
   },
   {
    "duration": 545,
    "start_time": "2022-10-16T13:31:47.822Z"
   },
   {
    "duration": 2,
    "start_time": "2022-10-16T13:31:48.369Z"
   },
   {
    "duration": 17,
    "start_time": "2022-10-16T13:31:48.373Z"
   },
   {
    "duration": 139261,
    "start_time": "2022-10-16T13:31:48.391Z"
   },
   {
    "duration": 2,
    "start_time": "2022-10-16T13:34:07.654Z"
   },
   {
    "duration": 108,
    "start_time": "2022-10-16T13:34:07.657Z"
   },
   {
    "duration": 3,
    "start_time": "2022-10-16T13:34:07.767Z"
   },
   {
    "duration": 6,
    "start_time": "2022-10-16T13:34:07.771Z"
   },
   {
    "duration": 64,
    "start_time": "2022-10-16T13:34:07.778Z"
   },
   {
    "duration": 8,
    "start_time": "2022-10-16T13:34:07.843Z"
   },
   {
    "duration": 83,
    "start_time": "2022-10-16T13:34:07.852Z"
   },
   {
    "duration": 155,
    "start_time": "2022-10-16T13:34:07.936Z"
   },
   {
    "duration": 6,
    "start_time": "2022-10-16T13:34:08.093Z"
   },
   {
    "duration": 8849,
    "start_time": "2022-10-17T07:36:06.250Z"
   },
   {
    "duration": 1396,
    "start_time": "2022-10-17T07:36:23.483Z"
   },
   {
    "duration": 5,
    "start_time": "2022-10-17T07:36:27.243Z"
   },
   {
    "duration": 73,
    "start_time": "2022-10-17T07:36:30.513Z"
   },
   {
    "duration": 12,
    "start_time": "2022-10-17T07:36:32.523Z"
   },
   {
    "duration": 6,
    "start_time": "2022-10-17T07:36:50.706Z"
   },
   {
    "duration": 6,
    "start_time": "2022-10-17T07:39:21.153Z"
   },
   {
    "duration": 30,
    "start_time": "2022-10-17T07:39:33.368Z"
   },
   {
    "duration": 38,
    "start_time": "2022-10-17T07:42:10.636Z"
   },
   {
    "duration": 12,
    "start_time": "2022-10-17T07:42:12.567Z"
   },
   {
    "duration": 6,
    "start_time": "2022-10-17T07:42:15.023Z"
   },
   {
    "duration": 5,
    "start_time": "2022-10-17T07:42:22.518Z"
   },
   {
    "duration": 21,
    "start_time": "2022-10-17T07:42:30.953Z"
   },
   {
    "duration": 6,
    "start_time": "2022-10-17T07:43:01.055Z"
   },
   {
    "duration": 9,
    "start_time": "2022-10-17T07:43:04.579Z"
   },
   {
    "duration": 8,
    "start_time": "2022-10-17T07:45:01.286Z"
   },
   {
    "duration": 126,
    "start_time": "2022-10-17T07:51:08.795Z"
   },
   {
    "duration": 3,
    "start_time": "2022-10-17T07:51:12.452Z"
   },
   {
    "duration": 36,
    "start_time": "2022-10-17T07:51:13.691Z"
   },
   {
    "duration": 2178,
    "start_time": "2022-10-17T07:52:13.561Z"
   },
   {
    "duration": 1110,
    "start_time": "2022-10-17T07:52:15.741Z"
   },
   {
    "duration": 2,
    "start_time": "2022-10-17T07:52:16.853Z"
   },
   {
    "duration": 43,
    "start_time": "2022-10-17T07:52:16.856Z"
   },
   {
    "duration": 10,
    "start_time": "2022-10-17T07:52:16.900Z"
   },
   {
    "duration": 5,
    "start_time": "2022-10-17T07:52:16.912Z"
   },
   {
    "duration": 8,
    "start_time": "2022-10-17T07:52:16.918Z"
   },
   {
    "duration": 19,
    "start_time": "2022-10-17T07:52:16.928Z"
   },
   {
    "duration": 4,
    "start_time": "2022-10-17T07:52:16.948Z"
   },
   {
    "duration": 7,
    "start_time": "2022-10-17T07:52:16.954Z"
   },
   {
    "duration": 6,
    "start_time": "2022-10-17T07:52:16.962Z"
   },
   {
    "duration": 2,
    "start_time": "2022-10-17T07:52:16.970Z"
   },
   {
    "duration": 137,
    "start_time": "2022-10-17T07:52:20.483Z"
   },
   {
    "duration": 18,
    "start_time": "2022-10-17T07:52:36.932Z"
   },
   {
    "duration": 2205,
    "start_time": "2022-10-17T07:52:53.486Z"
   },
   {
    "duration": 1166,
    "start_time": "2022-10-17T07:52:55.693Z"
   },
   {
    "duration": 3,
    "start_time": "2022-10-17T07:52:56.860Z"
   },
   {
    "duration": 51,
    "start_time": "2022-10-17T07:52:56.865Z"
   },
   {
    "duration": 12,
    "start_time": "2022-10-17T07:52:56.917Z"
   },
   {
    "duration": 5,
    "start_time": "2022-10-17T07:52:56.931Z"
   },
   {
    "duration": 7,
    "start_time": "2022-10-17T07:52:56.937Z"
   },
   {
    "duration": 22,
    "start_time": "2022-10-17T07:52:56.945Z"
   },
   {
    "duration": 5,
    "start_time": "2022-10-17T07:52:56.968Z"
   },
   {
    "duration": 37,
    "start_time": "2022-10-17T07:52:56.974Z"
   },
   {
    "duration": 7,
    "start_time": "2022-10-17T07:52:57.012Z"
   },
   {
    "duration": 6,
    "start_time": "2022-10-17T07:52:57.021Z"
   },
   {
    "duration": 20,
    "start_time": "2022-10-17T07:53:00.581Z"
   },
   {
    "duration": 9296,
    "start_time": "2022-10-19T13:51:45.051Z"
   },
   {
    "duration": 1548,
    "start_time": "2022-10-19T13:52:00.149Z"
   },
   {
    "duration": 3,
    "start_time": "2022-10-19T13:52:02.664Z"
   },
   {
    "duration": 230,
    "start_time": "2022-10-19T13:52:06.793Z"
   },
   {
    "duration": 14,
    "start_time": "2022-10-19T13:52:10.209Z"
   },
   {
    "duration": 7,
    "start_time": "2022-10-19T13:52:14.256Z"
   },
   {
    "duration": 5,
    "start_time": "2022-10-19T13:52:18.313Z"
   },
   {
    "duration": 24,
    "start_time": "2022-10-19T13:52:24.079Z"
   },
   {
    "duration": 7,
    "start_time": "2022-10-19T13:52:30.421Z"
   },
   {
    "duration": 9,
    "start_time": "2022-10-19T13:52:32.902Z"
   },
   {
    "duration": 7,
    "start_time": "2022-10-19T13:52:34.791Z"
   },
   {
    "duration": 2,
    "start_time": "2022-10-19T13:52:42.982Z"
   },
   {
    "duration": 37,
    "start_time": "2022-10-19T13:52:44.707Z"
   },
   {
    "duration": 7,
    "start_time": "2022-10-19T13:52:56.339Z"
   },
   {
    "duration": 3,
    "start_time": "2022-10-19T14:02:37.174Z"
   },
   {
    "duration": 5,
    "start_time": "2022-10-19T14:02:38.737Z"
   },
   {
    "duration": 1080,
    "start_time": "2022-10-19T14:22:34.638Z"
   },
   {
    "duration": 12,
    "start_time": "2022-10-19T14:22:46.678Z"
   },
   {
    "duration": 4,
    "start_time": "2022-10-19T14:23:18.989Z"
   },
   {
    "duration": 114,
    "start_time": "2022-10-19T14:28:15.274Z"
   },
   {
    "duration": 10,
    "start_time": "2022-10-19T14:28:19.194Z"
   },
   {
    "duration": 9,
    "start_time": "2022-10-19T14:28:37.111Z"
   },
   {
    "duration": 4,
    "start_time": "2022-10-19T14:29:06.263Z"
   },
   {
    "duration": 4,
    "start_time": "2022-10-19T14:29:57.426Z"
   },
   {
    "duration": 2,
    "start_time": "2022-10-19T14:31:47.318Z"
   },
   {
    "duration": 3,
    "start_time": "2022-10-19T14:31:50.272Z"
   },
   {
    "duration": 3,
    "start_time": "2022-10-19T14:32:02.344Z"
   },
   {
    "duration": 3,
    "start_time": "2022-10-19T14:32:16.567Z"
   },
   {
    "duration": 4,
    "start_time": "2022-10-19T14:32:18.247Z"
   },
   {
    "duration": 9,
    "start_time": "2022-10-19T14:37:05.215Z"
   },
   {
    "duration": 3,
    "start_time": "2022-10-19T14:37:17.158Z"
   },
   {
    "duration": 4,
    "start_time": "2022-10-19T14:37:24.524Z"
   },
   {
    "duration": 4,
    "start_time": "2022-10-19T14:37:33.352Z"
   },
   {
    "duration": 3,
    "start_time": "2022-10-19T14:40:49.790Z"
   },
   {
    "duration": 4,
    "start_time": "2022-10-19T14:40:51.339Z"
   },
   {
    "duration": 3,
    "start_time": "2022-10-19T14:41:53.442Z"
   },
   {
    "duration": 4,
    "start_time": "2022-10-19T14:42:00.007Z"
   },
   {
    "duration": 2,
    "start_time": "2022-10-19T14:42:10.971Z"
   },
   {
    "duration": 3,
    "start_time": "2022-10-19T14:42:14.552Z"
   },
   {
    "duration": 3,
    "start_time": "2022-10-19T14:44:42.509Z"
   },
   {
    "duration": 4,
    "start_time": "2022-10-19T14:48:59.476Z"
   },
   {
    "duration": 3,
    "start_time": "2022-10-19T14:49:07.568Z"
   },
   {
    "duration": 4,
    "start_time": "2022-10-19T14:49:50.833Z"
   },
   {
    "duration": 2438,
    "start_time": "2022-10-19T14:53:55.177Z"
   },
   {
    "duration": 1180,
    "start_time": "2022-10-19T14:53:57.617Z"
   },
   {
    "duration": 2,
    "start_time": "2022-10-19T14:53:58.799Z"
   },
   {
    "duration": 59,
    "start_time": "2022-10-19T14:53:58.803Z"
   },
   {
    "duration": 12,
    "start_time": "2022-10-19T14:53:58.863Z"
   },
   {
    "duration": 8,
    "start_time": "2022-10-19T14:53:58.876Z"
   },
   {
    "duration": 7,
    "start_time": "2022-10-19T14:53:58.885Z"
   },
   {
    "duration": 23,
    "start_time": "2022-10-19T14:53:58.894Z"
   },
   {
    "duration": 4,
    "start_time": "2022-10-19T14:53:58.919Z"
   },
   {
    "duration": 10,
    "start_time": "2022-10-19T14:53:58.926Z"
   },
   {
    "duration": 6,
    "start_time": "2022-10-19T14:53:58.938Z"
   },
   {
    "duration": 3,
    "start_time": "2022-10-19T14:53:58.945Z"
   },
   {
    "duration": 54,
    "start_time": "2022-10-19T14:53:58.950Z"
   },
   {
    "duration": 5,
    "start_time": "2022-10-19T14:53:59.006Z"
   },
   {
    "duration": 3,
    "start_time": "2022-10-19T14:53:59.012Z"
   },
   {
    "duration": 5,
    "start_time": "2022-10-19T14:53:59.017Z"
   },
   {
    "duration": 1057,
    "start_time": "2022-10-19T14:53:59.024Z"
   },
   {
    "duration": 11,
    "start_time": "2022-10-19T14:54:00.083Z"
   },
   {
    "duration": 3,
    "start_time": "2022-10-19T14:54:00.097Z"
   },
   {
    "duration": 4,
    "start_time": "2022-10-19T15:02:19.779Z"
   },
   {
    "duration": 161049,
    "start_time": "2022-10-19T15:02:51.371Z"
   },
   {
    "duration": 4,
    "start_time": "2022-10-19T15:16:07.088Z"
   },
   {
    "duration": 4,
    "start_time": "2022-10-19T15:16:10.779Z"
   },
   {
    "duration": 4,
    "start_time": "2022-10-19T15:16:22.362Z"
   },
   {
    "duration": 3,
    "start_time": "2022-10-19T15:17:14.155Z"
   },
   {
    "duration": 86,
    "start_time": "2022-10-19T15:17:15.275Z"
   },
   {
    "duration": 4,
    "start_time": "2022-10-19T15:17:40.388Z"
   },
   {
    "duration": 3,
    "start_time": "2022-10-19T15:18:18.428Z"
   },
   {
    "duration": 5,
    "start_time": "2022-10-19T15:18:19.637Z"
   },
   {
    "duration": 3,
    "start_time": "2022-10-19T15:18:26.744Z"
   },
   {
    "duration": 5,
    "start_time": "2022-10-19T15:18:27.560Z"
   },
   {
    "duration": 5,
    "start_time": "2022-10-19T15:19:06.260Z"
   },
   {
    "duration": 3,
    "start_time": "2022-10-19T15:19:09.117Z"
   },
   {
    "duration": 4,
    "start_time": "2022-10-19T15:19:16.236Z"
   },
   {
    "duration": 4,
    "start_time": "2022-10-19T15:21:00.759Z"
   },
   {
    "duration": 6,
    "start_time": "2022-10-19T15:21:01.368Z"
   },
   {
    "duration": 9,
    "start_time": "2022-10-19T15:21:06.934Z"
   },
   {
    "duration": 7,
    "start_time": "2022-10-19T15:21:32.839Z"
   },
   {
    "duration": 4,
    "start_time": "2022-10-19T15:21:50.326Z"
   },
   {
    "duration": 3,
    "start_time": "2022-10-19T15:22:00.412Z"
   },
   {
    "duration": 2,
    "start_time": "2022-10-19T15:22:08.815Z"
   },
   {
    "duration": 2782,
    "start_time": "2022-10-19T15:22:23.320Z"
   },
   {
    "duration": 3,
    "start_time": "2022-10-19T15:22:33.002Z"
   },
   {
    "duration": 8,
    "start_time": "2022-10-19T15:22:44.178Z"
   },
   {
    "duration": 1054,
    "start_time": "2022-10-19T15:25:22.527Z"
   },
   {
    "duration": 2,
    "start_time": "2022-10-19T15:25:27.985Z"
   },
   {
    "duration": 8,
    "start_time": "2022-10-19T15:25:39.563Z"
   },
   {
    "duration": 515485,
    "start_time": "2022-10-19T15:26:39.313Z"
   },
   {
    "duration": 3,
    "start_time": "2022-10-19T15:36:31.521Z"
   },
   {
    "duration": 9,
    "start_time": "2022-10-19T15:36:33.442Z"
   },
   {
    "duration": 3162,
    "start_time": "2022-10-19T15:36:48.743Z"
   },
   {
    "duration": 3,
    "start_time": "2022-10-19T15:36:59.273Z"
   },
   {
    "duration": 7,
    "start_time": "2022-10-19T15:37:01.747Z"
   },
   {
    "duration": 39,
    "start_time": "2022-10-19T15:37:17.722Z"
   },
   {
    "duration": 8,
    "start_time": "2022-10-19T15:37:22.849Z"
   },
   {
    "duration": 6,
    "start_time": "2022-10-19T15:37:24.322Z"
   },
   {
    "duration": 1879,
    "start_time": "2022-10-19T15:37:35.738Z"
   },
   {
    "duration": 3,
    "start_time": "2022-10-19T15:37:43.874Z"
   },
   {
    "duration": 7,
    "start_time": "2022-10-19T15:37:45.653Z"
   },
   {
    "duration": 1916,
    "start_time": "2022-10-19T15:38:28.938Z"
   },
   {
    "duration": 2,
    "start_time": "2022-10-19T15:38:37.946Z"
   },
   {
    "duration": 8,
    "start_time": "2022-10-19T15:38:39.894Z"
   },
   {
    "duration": 2131,
    "start_time": "2022-10-19T15:39:18.915Z"
   },
   {
    "duration": 8,
    "start_time": "2022-10-19T15:39:25.309Z"
   },
   {
    "duration": 1551,
    "start_time": "2022-10-19T15:39:39.530Z"
   },
   {
    "duration": 8,
    "start_time": "2022-10-19T15:39:45.769Z"
   },
   {
    "duration": 592821,
    "start_time": "2022-10-19T15:41:09.029Z"
   },
   {
    "duration": 190,
    "start_time": "2022-10-19T15:51:01.853Z"
   },
   {
    "duration": 5,
    "start_time": "2022-10-19T15:51:50.548Z"
   },
   {
    "duration": 7,
    "start_time": "2022-10-19T15:51:52.029Z"
   },
   {
    "duration": 51,
    "start_time": "2022-10-19T15:53:29.037Z"
   },
   {
    "duration": 7,
    "start_time": "2022-10-19T15:53:33.137Z"
   },
   {
    "duration": 5,
    "start_time": "2022-10-19T15:53:35.211Z"
   },
   {
    "duration": 22,
    "start_time": "2022-10-19T15:53:37.328Z"
   },
   {
    "duration": 50,
    "start_time": "2022-10-19T15:53:50.939Z"
   },
   {
    "duration": 7,
    "start_time": "2022-10-19T15:53:55.042Z"
   },
   {
    "duration": 6,
    "start_time": "2022-10-19T15:54:00.743Z"
   },
   {
    "duration": 21,
    "start_time": "2022-10-19T15:54:04.408Z"
   },
   {
    "duration": 6,
    "start_time": "2022-10-19T15:54:07.498Z"
   },
   {
    "duration": 8,
    "start_time": "2022-10-19T15:54:10.060Z"
   },
   {
    "duration": 9,
    "start_time": "2022-10-19T15:54:11.651Z"
   },
   {
    "duration": 3,
    "start_time": "2022-10-19T15:54:14.691Z"
   },
   {
    "duration": 22,
    "start_time": "2022-10-19T15:54:15.965Z"
   },
   {
    "duration": 1503,
    "start_time": "2022-10-19T15:54:28.059Z"
   },
   {
    "duration": 8,
    "start_time": "2022-10-19T15:54:31.887Z"
   },
   {
    "duration": 12,
    "start_time": "2022-10-19T15:54:35.566Z"
   },
   {
    "duration": 1562,
    "start_time": "2022-10-19T15:54:56.846Z"
   },
   {
    "duration": 5,
    "start_time": "2022-10-19T15:55:20.825Z"
   },
   {
    "duration": 73,
    "start_time": "2022-10-19T15:57:47.500Z"
   },
   {
    "duration": 2270,
    "start_time": "2022-10-19T16:02:25.892Z"
   },
   {
    "duration": 1211,
    "start_time": "2022-10-19T16:02:28.164Z"
   },
   {
    "duration": 2,
    "start_time": "2022-10-19T16:02:29.377Z"
   },
   {
    "duration": 57,
    "start_time": "2022-10-19T16:02:29.381Z"
   },
   {
    "duration": 13,
    "start_time": "2022-10-19T16:02:29.440Z"
   },
   {
    "duration": 7,
    "start_time": "2022-10-19T16:02:29.454Z"
   },
   {
    "duration": 8,
    "start_time": "2022-10-19T16:02:29.462Z"
   },
   {
    "duration": 29,
    "start_time": "2022-10-19T16:02:29.471Z"
   },
   {
    "duration": 5,
    "start_time": "2022-10-19T16:02:29.502Z"
   },
   {
    "duration": 19,
    "start_time": "2022-10-19T16:02:29.510Z"
   },
   {
    "duration": 10,
    "start_time": "2022-10-19T16:02:29.531Z"
   },
   {
    "duration": 6,
    "start_time": "2022-10-19T16:02:29.543Z"
   },
   {
    "duration": 44,
    "start_time": "2022-10-19T16:02:29.550Z"
   },
   {
    "duration": 6,
    "start_time": "2022-10-19T16:02:29.596Z"
   },
   {
    "duration": 5,
    "start_time": "2022-10-19T16:02:29.603Z"
   },
   {
    "duration": 5,
    "start_time": "2022-10-19T16:02:29.610Z"
   },
   {
    "duration": 1060,
    "start_time": "2022-10-19T16:02:29.616Z"
   },
   {
    "duration": 4,
    "start_time": "2022-10-19T16:02:30.678Z"
   },
   {
    "duration": 49,
    "start_time": "2022-10-19T16:02:30.683Z"
   },
   {
    "duration": 158337,
    "start_time": "2022-10-19T16:02:30.734Z"
   },
   {
    "duration": 3,
    "start_time": "2022-10-19T16:05:09.072Z"
   },
   {
    "duration": 20,
    "start_time": "2022-10-19T16:05:09.077Z"
   },
   {
    "duration": 3209,
    "start_time": "2022-10-19T16:05:09.098Z"
   },
   {
    "duration": 3,
    "start_time": "2022-10-19T16:05:12.308Z"
   },
   {
    "duration": 12,
    "start_time": "2022-10-19T16:05:12.313Z"
   },
   {
    "duration": 1109,
    "start_time": "2022-10-19T16:05:12.327Z"
   },
   {
    "duration": 2,
    "start_time": "2022-10-19T16:05:13.438Z"
   },
   {
    "duration": 9,
    "start_time": "2022-10-19T16:05:13.444Z"
   },
   {
    "duration": 519480,
    "start_time": "2022-10-19T16:05:13.454Z"
   },
   {
    "duration": 4,
    "start_time": "2022-10-19T16:13:52.936Z"
   },
   {
    "duration": 14,
    "start_time": "2022-10-19T16:13:52.941Z"
   },
   {
    "duration": 2642,
    "start_time": "2022-10-19T16:13:52.957Z"
   },
   {
    "duration": 5,
    "start_time": "2022-10-19T16:13:55.600Z"
   },
   {
    "duration": 13,
    "start_time": "2022-10-19T16:13:55.608Z"
   },
   {
    "duration": 82,
    "start_time": "2022-10-19T16:13:55.623Z"
   },
   {
    "duration": 6,
    "start_time": "2022-10-19T16:13:55.708Z"
   },
   {
    "duration": 6,
    "start_time": "2022-10-19T16:13:55.716Z"
   },
   {
    "duration": 1689,
    "start_time": "2022-10-19T16:13:55.723Z"
   },
   {
    "duration": 2,
    "start_time": "2022-10-19T16:13:57.414Z"
   },
   {
    "duration": 11,
    "start_time": "2022-10-19T16:13:57.418Z"
   },
   {
    "duration": 581786,
    "start_time": "2022-10-19T16:13:57.430Z"
   },
   {
    "duration": 2,
    "start_time": "2022-10-19T16:23:39.218Z"
   },
   {
    "duration": 11,
    "start_time": "2022-10-19T16:23:39.222Z"
   },
   {
    "duration": 57,
    "start_time": "2022-10-19T16:23:39.235Z"
   },
   {
    "duration": 0,
    "start_time": "2022-10-19T16:23:39.294Z"
   },
   {
    "duration": 0,
    "start_time": "2022-10-19T16:23:39.295Z"
   },
   {
    "duration": 0,
    "start_time": "2022-10-19T16:23:39.296Z"
   },
   {
    "duration": 0,
    "start_time": "2022-10-19T16:23:39.297Z"
   },
   {
    "duration": 0,
    "start_time": "2022-10-19T16:23:39.298Z"
   },
   {
    "duration": 0,
    "start_time": "2022-10-19T16:23:39.299Z"
   },
   {
    "duration": 0,
    "start_time": "2022-10-19T16:23:39.300Z"
   },
   {
    "duration": 1,
    "start_time": "2022-10-19T16:23:39.301Z"
   },
   {
    "duration": 0,
    "start_time": "2022-10-19T16:23:39.302Z"
   },
   {
    "duration": 0,
    "start_time": "2022-10-19T16:23:39.303Z"
   },
   {
    "duration": 0,
    "start_time": "2022-10-19T16:23:39.304Z"
   },
   {
    "duration": 0,
    "start_time": "2022-10-19T16:23:39.305Z"
   },
   {
    "duration": 1,
    "start_time": "2022-10-19T16:23:39.305Z"
   },
   {
    "duration": 3315,
    "start_time": "2022-10-19T16:24:10.565Z"
   },
   {
    "duration": 2,
    "start_time": "2022-10-19T16:24:17.126Z"
   },
   {
    "duration": 7,
    "start_time": "2022-10-19T16:24:17.712Z"
   },
   {
    "duration": 11,
    "start_time": "2022-10-19T16:24:33.820Z"
   },
   {
    "duration": 5,
    "start_time": "2022-10-19T16:24:36.045Z"
   },
   {
    "duration": 5,
    "start_time": "2022-10-19T16:24:37.173Z"
   },
   {
    "duration": 776,
    "start_time": "2022-10-19T16:24:42.799Z"
   },
   {
    "duration": 2,
    "start_time": "2022-10-19T16:24:45.821Z"
   },
   {
    "duration": 7,
    "start_time": "2022-10-19T16:24:47.395Z"
   },
   {
    "duration": 155940,
    "start_time": "2022-10-19T16:25:16.591Z"
   },
   {
    "duration": 2,
    "start_time": "2022-10-19T16:29:48.605Z"
   },
   {
    "duration": 8,
    "start_time": "2022-10-19T16:29:49.212Z"
   },
   {
    "duration": 48,
    "start_time": "2022-10-19T16:29:57.189Z"
   },
   {
    "duration": 265,
    "start_time": "2022-10-19T16:30:02.658Z"
   },
   {
    "duration": 3,
    "start_time": "2022-10-19T16:30:06.941Z"
   },
   {
    "duration": 7,
    "start_time": "2022-10-19T16:30:08.363Z"
   },
   {
    "duration": 3,
    "start_time": "2022-10-19T16:31:15.936Z"
   },
   {
    "duration": 4,
    "start_time": "2022-10-19T16:31:23.781Z"
   },
   {
    "duration": 52,
    "start_time": "2022-10-19T16:31:29.885Z"
   },
   {
    "duration": 3,
    "start_time": "2022-10-19T16:36:34.400Z"
   },
   {
    "duration": 4,
    "start_time": "2022-10-19T16:36:37.411Z"
   },
   {
    "duration": 1734,
    "start_time": "2022-10-19T16:42:23.070Z"
   },
   {
    "duration": 3,
    "start_time": "2022-10-19T16:42:27.230Z"
   },
   {
    "duration": 112,
    "start_time": "2022-10-19T16:42:28.781Z"
   },
   {
    "duration": 3,
    "start_time": "2022-10-19T16:43:05.137Z"
   },
   {
    "duration": 3,
    "start_time": "2022-10-19T16:43:10.479Z"
   },
   {
    "duration": 4,
    "start_time": "2022-10-19T16:43:14.232Z"
   },
   {
    "duration": 21,
    "start_time": "2022-10-19T16:43:16.630Z"
   },
   {
    "duration": 1741,
    "start_time": "2022-10-19T16:44:21.413Z"
   },
   {
    "duration": 3,
    "start_time": "2022-10-19T16:44:25.480Z"
   },
   {
    "duration": 15,
    "start_time": "2022-10-19T16:44:26.569Z"
   },
   {
    "duration": 3,
    "start_time": "2022-10-19T16:44:43.197Z"
   },
   {
    "duration": 13,
    "start_time": "2022-10-19T16:44:44.487Z"
   },
   {
    "duration": 3,
    "start_time": "2022-10-19T16:44:57.980Z"
   },
   {
    "duration": 5,
    "start_time": "2022-10-19T16:44:59.009Z"
   },
   {
    "duration": 1746,
    "start_time": "2022-10-19T16:45:00.093Z"
   },
   {
    "duration": 3,
    "start_time": "2022-10-19T16:45:02.670Z"
   },
   {
    "duration": 4,
    "start_time": "2022-10-19T16:45:04.944Z"
   },
   {
    "duration": 3,
    "start_time": "2022-10-19T16:48:26.475Z"
   },
   {
    "duration": 5,
    "start_time": "2022-10-19T16:48:28.207Z"
   },
   {
    "duration": 2523,
    "start_time": "2022-10-19T16:48:33.565Z"
   },
   {
    "duration": 3,
    "start_time": "2022-10-19T16:48:42.934Z"
   },
   {
    "duration": 4,
    "start_time": "2022-10-19T16:48:43.915Z"
   },
   {
    "duration": 22,
    "start_time": "2022-10-19T16:48:44.892Z"
   },
   {
    "duration": 4,
    "start_time": "2022-10-19T16:49:08.740Z"
   },
   {
    "duration": 4,
    "start_time": "2022-10-19T16:49:09.659Z"
   },
   {
    "duration": 16,
    "start_time": "2022-10-19T16:49:10.427Z"
   },
   {
    "duration": 3,
    "start_time": "2022-10-19T16:49:47.243Z"
   },
   {
    "duration": 4,
    "start_time": "2022-10-19T16:49:48.044Z"
   },
   {
    "duration": 19,
    "start_time": "2022-10-19T16:49:49.133Z"
   },
   {
    "duration": 15,
    "start_time": "2022-10-19T16:50:37.215Z"
   },
   {
    "duration": 50,
    "start_time": "2022-10-19T16:53:02.713Z"
   },
   {
    "duration": 3,
    "start_time": "2022-10-19T16:54:28.217Z"
   },
   {
    "duration": 4,
    "start_time": "2022-10-19T16:54:29.638Z"
   },
   {
    "duration": 1168,
    "start_time": "2022-10-19T16:54:31.027Z"
   },
   {
    "duration": 4,
    "start_time": "2022-10-19T16:54:36.242Z"
   },
   {
    "duration": 4,
    "start_time": "2022-10-19T16:54:37.488Z"
   },
   {
    "duration": 16,
    "start_time": "2022-10-19T16:54:38.605Z"
   },
   {
    "duration": 3,
    "start_time": "2022-10-19T17:00:02.275Z"
   },
   {
    "duration": 4,
    "start_time": "2022-10-19T17:00:04.102Z"
   },
   {
    "duration": 19,
    "start_time": "2022-10-19T17:00:05.519Z"
   },
   {
    "duration": 4,
    "start_time": "2022-10-19T17:02:54.107Z"
   },
   {
    "duration": 4,
    "start_time": "2022-10-19T17:02:54.920Z"
   },
   {
    "duration": 20,
    "start_time": "2022-10-19T17:02:55.406Z"
   },
   {
    "duration": 2,
    "start_time": "2022-10-19T17:09:19.844Z"
   },
   {
    "duration": 4,
    "start_time": "2022-10-19T17:09:20.389Z"
   },
   {
    "duration": 1000,
    "start_time": "2022-10-19T17:09:20.996Z"
   },
   {
    "duration": 4,
    "start_time": "2022-10-19T17:09:22.836Z"
   },
   {
    "duration": 4,
    "start_time": "2022-10-19T17:09:25.099Z"
   },
   {
    "duration": 17,
    "start_time": "2022-10-19T17:09:26.437Z"
   },
   {
    "duration": 78,
    "start_time": "2022-10-19T17:17:08.313Z"
   },
   {
    "duration": 174,
    "start_time": "2022-10-19T17:17:09.834Z"
   },
   {
    "duration": 8482,
    "start_time": "2022-10-20T03:35:11.498Z"
   },
   {
    "duration": 1263,
    "start_time": "2022-10-20T03:35:19.982Z"
   },
   {
    "duration": 3,
    "start_time": "2022-10-20T03:35:21.247Z"
   },
   {
    "duration": 100,
    "start_time": "2022-10-20T03:35:21.252Z"
   },
   {
    "duration": 13,
    "start_time": "2022-10-20T03:35:21.353Z"
   },
   {
    "duration": 18,
    "start_time": "2022-10-20T03:35:21.367Z"
   },
   {
    "duration": 14,
    "start_time": "2022-10-20T03:35:21.387Z"
   },
   {
    "duration": 47,
    "start_time": "2022-10-20T03:35:21.403Z"
   },
   {
    "duration": 22,
    "start_time": "2022-10-20T03:35:21.452Z"
   },
   {
    "duration": 27,
    "start_time": "2022-10-20T03:35:21.477Z"
   },
   {
    "duration": 29,
    "start_time": "2022-10-20T03:35:21.506Z"
   },
   {
    "duration": 30,
    "start_time": "2022-10-20T03:35:21.536Z"
   },
   {
    "duration": 62,
    "start_time": "2022-10-20T03:35:21.567Z"
   },
   {
    "duration": 6,
    "start_time": "2022-10-20T03:35:21.630Z"
   },
   {
    "duration": 5,
    "start_time": "2022-10-20T03:35:21.637Z"
   },
   {
    "duration": 6,
    "start_time": "2022-10-20T03:35:21.643Z"
   },
   {
    "duration": 924,
    "start_time": "2022-10-20T03:35:21.650Z"
   },
   {
    "duration": 3,
    "start_time": "2022-10-20T03:35:22.575Z"
   },
   {
    "duration": 11,
    "start_time": "2022-10-20T03:35:22.579Z"
   },
   {
    "duration": 141940,
    "start_time": "2022-10-20T03:35:22.600Z"
   },
   {
    "duration": 2,
    "start_time": "2022-10-20T03:37:44.542Z"
   },
   {
    "duration": 10,
    "start_time": "2022-10-20T03:37:44.546Z"
   },
   {
    "duration": 3045,
    "start_time": "2022-10-20T03:37:44.557Z"
   },
   {
    "duration": 2,
    "start_time": "2022-10-20T03:37:47.604Z"
   },
   {
    "duration": 18,
    "start_time": "2022-10-20T03:37:47.608Z"
   },
   {
    "duration": 946,
    "start_time": "2022-10-20T03:37:47.627Z"
   },
   {
    "duration": 3,
    "start_time": "2022-10-20T03:37:48.574Z"
   },
   {
    "duration": 21,
    "start_time": "2022-10-20T03:37:48.581Z"
   },
   {
    "duration": 440493,
    "start_time": "2022-10-20T03:37:48.604Z"
   },
   {
    "duration": 3,
    "start_time": "2022-10-20T03:45:09.099Z"
   },
   {
    "duration": 10,
    "start_time": "2022-10-20T03:45:09.103Z"
   },
   {
    "duration": 2993,
    "start_time": "2022-10-20T03:45:09.114Z"
   },
   {
    "duration": 2,
    "start_time": "2022-10-20T03:45:12.108Z"
   },
   {
    "duration": 11,
    "start_time": "2022-10-20T03:45:12.112Z"
   },
   {
    "duration": 33,
    "start_time": "2022-10-20T03:45:12.124Z"
   },
   {
    "duration": 5,
    "start_time": "2022-10-20T03:45:12.159Z"
   },
   {
    "duration": 4,
    "start_time": "2022-10-20T03:45:12.165Z"
   },
   {
    "duration": 1335,
    "start_time": "2022-10-20T03:45:12.201Z"
   },
   {
    "duration": 2,
    "start_time": "2022-10-20T03:45:13.538Z"
   },
   {
    "duration": 11,
    "start_time": "2022-10-20T03:45:13.541Z"
   },
   {
    "duration": 510121,
    "start_time": "2022-10-20T03:45:13.553Z"
   },
   {
    "duration": 2,
    "start_time": "2022-10-20T03:53:43.676Z"
   },
   {
    "duration": 14,
    "start_time": "2022-10-20T03:53:43.680Z"
   },
   {
    "duration": 3274,
    "start_time": "2022-10-20T03:53:43.700Z"
   },
   {
    "duration": 2,
    "start_time": "2022-10-20T03:53:46.976Z"
   },
   {
    "duration": 24,
    "start_time": "2022-10-20T03:53:46.979Z"
   },
   {
    "duration": 9,
    "start_time": "2022-10-20T03:53:47.004Z"
   },
   {
    "duration": 4,
    "start_time": "2022-10-20T03:53:47.015Z"
   },
   {
    "duration": 7,
    "start_time": "2022-10-20T03:53:47.021Z"
   },
   {
    "duration": 703,
    "start_time": "2022-10-20T03:53:47.029Z"
   },
   {
    "duration": 3,
    "start_time": "2022-10-20T03:53:47.734Z"
   },
   {
    "duration": 10,
    "start_time": "2022-10-20T03:53:47.739Z"
   },
   {
    "duration": 142071,
    "start_time": "2022-10-20T03:53:47.751Z"
   },
   {
    "duration": 3,
    "start_time": "2022-10-20T03:56:09.824Z"
   },
   {
    "duration": 12,
    "start_time": "2022-10-20T03:56:09.829Z"
   },
   {
    "duration": 245,
    "start_time": "2022-10-20T03:56:09.843Z"
   },
   {
    "duration": 2,
    "start_time": "2022-10-20T03:56:10.090Z"
   },
   {
    "duration": 7,
    "start_time": "2022-10-20T03:56:10.099Z"
   },
   {
    "duration": 9,
    "start_time": "2022-10-20T03:56:10.107Z"
   },
   {
    "duration": 9,
    "start_time": "2022-10-20T03:56:10.117Z"
   },
   {
    "duration": 55,
    "start_time": "2022-10-20T03:56:10.127Z"
   },
   {
    "duration": 16,
    "start_time": "2022-10-20T03:56:10.184Z"
   },
   {
    "duration": 5,
    "start_time": "2022-10-20T03:56:10.202Z"
   },
   {
    "duration": 801,
    "start_time": "2022-10-20T03:56:10.209Z"
   },
   {
    "duration": 4,
    "start_time": "2022-10-20T03:56:11.101Z"
   },
   {
    "duration": 7,
    "start_time": "2022-10-20T03:56:11.106Z"
   },
   {
    "duration": 98,
    "start_time": "2022-10-20T03:56:11.114Z"
   },
   {
    "duration": 74,
    "start_time": "2022-10-20T03:56:11.213Z"
   },
   {
    "duration": 172,
    "start_time": "2022-10-20T03:56:11.289Z"
   },
   {
    "duration": 3,
    "start_time": "2022-10-20T04:32:57.427Z"
   },
   {
    "duration": 4,
    "start_time": "2022-10-20T04:32:59.105Z"
   },
   {
    "duration": 622,
    "start_time": "2022-10-20T04:33:01.097Z"
   },
   {
    "duration": 3,
    "start_time": "2022-10-20T04:33:04.868Z"
   },
   {
    "duration": 4,
    "start_time": "2022-10-20T04:33:06.535Z"
   },
   {
    "duration": 17,
    "start_time": "2022-10-20T04:33:08.512Z"
   },
   {
    "duration": 2570,
    "start_time": "2022-10-20T05:08:21.352Z"
   },
   {
    "duration": 1320,
    "start_time": "2022-10-20T05:08:23.924Z"
   },
   {
    "duration": 4,
    "start_time": "2022-10-20T05:08:25.245Z"
   },
   {
    "duration": 65,
    "start_time": "2022-10-20T05:08:25.251Z"
   },
   {
    "duration": 19,
    "start_time": "2022-10-20T05:08:25.320Z"
   },
   {
    "duration": 15,
    "start_time": "2022-10-20T05:08:25.342Z"
   },
   {
    "duration": 5,
    "start_time": "2022-10-20T05:08:25.359Z"
   },
   {
    "duration": 41,
    "start_time": "2022-10-20T05:08:25.366Z"
   },
   {
    "duration": 6,
    "start_time": "2022-10-20T05:08:25.409Z"
   },
   {
    "duration": 45,
    "start_time": "2022-10-20T05:08:25.419Z"
   },
   {
    "duration": 37,
    "start_time": "2022-10-20T05:08:25.470Z"
   },
   {
    "duration": 22,
    "start_time": "2022-10-20T05:08:25.508Z"
   },
   {
    "duration": 48,
    "start_time": "2022-10-20T05:08:25.532Z"
   },
   {
    "duration": 18,
    "start_time": "2022-10-20T05:08:25.581Z"
   },
   {
    "duration": 35,
    "start_time": "2022-10-20T05:08:25.601Z"
   },
   {
    "duration": 72,
    "start_time": "2022-10-20T05:08:25.637Z"
   },
   {
    "duration": 1006,
    "start_time": "2022-10-20T05:08:25.712Z"
   },
   {
    "duration": 3,
    "start_time": "2022-10-20T05:08:26.720Z"
   },
   {
    "duration": 13,
    "start_time": "2022-10-20T05:08:26.725Z"
   },
   {
    "duration": 161513,
    "start_time": "2022-10-20T05:08:26.740Z"
   },
   {
    "duration": 4,
    "start_time": "2022-10-20T05:11:08.255Z"
   },
   {
    "duration": 27,
    "start_time": "2022-10-20T05:11:08.260Z"
   },
   {
    "duration": 2424,
    "start_time": "2022-10-20T05:11:08.290Z"
   },
   {
    "duration": 7,
    "start_time": "2022-10-20T05:11:10.716Z"
   },
   {
    "duration": 98,
    "start_time": "2022-10-20T05:11:10.725Z"
   },
   {
    "duration": 1107,
    "start_time": "2022-10-20T05:11:10.825Z"
   },
   {
    "duration": 2,
    "start_time": "2022-10-20T05:11:11.935Z"
   },
   {
    "duration": 16,
    "start_time": "2022-10-20T05:11:11.942Z"
   },
   {
    "duration": 460864,
    "start_time": "2022-10-20T05:11:11.960Z"
   },
   {
    "duration": 3,
    "start_time": "2022-10-20T05:18:52.826Z"
   },
   {
    "duration": 16,
    "start_time": "2022-10-20T05:18:52.831Z"
   },
   {
    "duration": 2453,
    "start_time": "2022-10-20T05:18:52.848Z"
   },
   {
    "duration": 3,
    "start_time": "2022-10-20T05:18:55.302Z"
   },
   {
    "duration": 22,
    "start_time": "2022-10-20T05:18:55.307Z"
   },
   {
    "duration": 36,
    "start_time": "2022-10-20T05:18:55.330Z"
   },
   {
    "duration": 19,
    "start_time": "2022-10-20T05:18:55.368Z"
   },
   {
    "duration": 7,
    "start_time": "2022-10-20T05:18:55.400Z"
   },
   {
    "duration": 1528,
    "start_time": "2022-10-20T05:18:55.408Z"
   },
   {
    "duration": 3,
    "start_time": "2022-10-20T05:18:56.937Z"
   },
   {
    "duration": 23,
    "start_time": "2022-10-20T05:18:56.941Z"
   },
   {
    "duration": 540139,
    "start_time": "2022-10-20T05:18:56.966Z"
   },
   {
    "duration": 2,
    "start_time": "2022-10-20T05:27:57.107Z"
   },
   {
    "duration": 27,
    "start_time": "2022-10-20T05:27:57.114Z"
   },
   {
    "duration": 2930,
    "start_time": "2022-10-20T05:27:57.142Z"
   },
   {
    "duration": 3,
    "start_time": "2022-10-20T05:28:00.073Z"
   },
   {
    "duration": 50,
    "start_time": "2022-10-20T05:28:00.078Z"
   },
   {
    "duration": 30,
    "start_time": "2022-10-20T05:28:00.130Z"
   },
   {
    "duration": 20,
    "start_time": "2022-10-20T05:28:00.162Z"
   },
   {
    "duration": 44,
    "start_time": "2022-10-20T05:28:00.183Z"
   },
   {
    "duration": 791,
    "start_time": "2022-10-20T05:28:00.229Z"
   },
   {
    "duration": 3,
    "start_time": "2022-10-20T05:28:01.021Z"
   },
   {
    "duration": 31,
    "start_time": "2022-10-20T05:28:01.025Z"
   },
   {
    "duration": 154889,
    "start_time": "2022-10-20T05:28:01.057Z"
   },
   {
    "duration": 3,
    "start_time": "2022-10-20T05:30:35.948Z"
   },
   {
    "duration": 12,
    "start_time": "2022-10-20T05:30:35.952Z"
   },
   {
    "duration": 309,
    "start_time": "2022-10-20T05:30:35.965Z"
   },
   {
    "duration": 2,
    "start_time": "2022-10-20T05:30:36.275Z"
   },
   {
    "duration": 10,
    "start_time": "2022-10-20T05:30:36.279Z"
   },
   {
    "duration": 13,
    "start_time": "2022-10-20T05:30:36.290Z"
   },
   {
    "duration": 24,
    "start_time": "2022-10-20T05:30:36.305Z"
   },
   {
    "duration": 60,
    "start_time": "2022-10-20T05:30:36.331Z"
   },
   {
    "duration": 3,
    "start_time": "2022-10-20T05:30:36.392Z"
   },
   {
    "duration": 34,
    "start_time": "2022-10-20T05:30:36.397Z"
   },
   {
    "duration": 672,
    "start_time": "2022-10-20T05:30:36.433Z"
   },
   {
    "duration": 10,
    "start_time": "2022-10-20T05:30:37.107Z"
   },
   {
    "duration": 11,
    "start_time": "2022-10-20T05:30:37.124Z"
   },
   {
    "duration": 22,
    "start_time": "2022-10-20T05:30:37.137Z"
   },
   {
    "duration": 88,
    "start_time": "2022-10-20T05:30:37.161Z"
   },
   {
    "duration": 164,
    "start_time": "2022-10-20T05:30:37.251Z"
   }
  ],
  "kernelspec": {
   "display_name": "Python 3 (ipykernel)",
   "language": "python",
   "name": "python3"
  },
  "language_info": {
   "codemirror_mode": {
    "name": "ipython",
    "version": 3
   },
   "file_extension": ".py",
   "mimetype": "text/x-python",
   "name": "python",
   "nbconvert_exporter": "python",
   "pygments_lexer": "ipython3",
   "version": "3.9.12"
  },
  "toc": {
   "base_numbering": 1,
   "nav_menu": {},
   "number_sections": true,
   "sideBar": true,
   "skip_h1_title": true,
   "title_cell": "Содержание",
   "title_sidebar": "Contents",
   "toc_cell": true,
   "toc_position": {
    "height": "calc(100% - 180px)",
    "left": "10px",
    "top": "150px",
    "width": "359.4px"
   },
   "toc_section_display": true,
   "toc_window_display": true
  }
 },
 "nbformat": 4,
 "nbformat_minor": 2
}
