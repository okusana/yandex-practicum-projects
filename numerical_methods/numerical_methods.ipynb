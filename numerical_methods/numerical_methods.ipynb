{
 "cells": [
  {
   "cell_type": "markdown",
   "metadata": {},
   "source": [
    "# Определение стоимости автомобилей"
   ]
  },
  {
   "cell_type": "markdown",
   "metadata": {},
   "source": [
    "В распоряжении исторические данные: технические характеристики, комплектации и цены автомобилей. Нужно построить модель для определения стоимости. \n",
    "\n",
    "Заказчику важны:\n",
    "\n",
    "- качество предсказания;\n",
    "- скорость предсказания;\n",
    "- время обучения.\n",
    "\n",
    "Основные этапы работы:\n",
    "\n",
    "- обзор данных\n",
    "- предобработка и исследовательский анализ данных\n",
    "- подготовка выборок для обучения и тестирования\n",
    "- обучение моделей\n",
    "- анализ моделей и выбор подходящей\n",
    "- тестирование модели"
   ]
  },
  {
   "cell_type": "markdown",
   "metadata": {},
   "source": [
    "## Подготовка данных"
   ]
  },
  {
   "cell_type": "code",
   "execution_count": 1,
   "metadata": {},
   "outputs": [],
   "source": [
    "!pip install -q lightgbm  "
   ]
  },
  {
   "cell_type": "code",
   "execution_count": 2,
   "metadata": {},
   "outputs": [],
   "source": [
    "!pip install -q catboost "
   ]
  },
  {
   "cell_type": "code",
   "execution_count": 3,
   "metadata": {},
   "outputs": [],
   "source": [
    "# импорт библиотек\n",
    "import warnings \n",
    "import pandas as pd\n",
    "import numpy as np\n",
    "import matplotlib.pyplot as plt\n",
    "\n",
    "from sklearn.model_selection import train_test_split, GridSearchCV\n",
    "from sklearn.pipeline import make_pipeline\n",
    "from sklearn.compose import ColumnTransformer\n",
    "from sklearn.preprocessing import StandardScaler, OrdinalEncoder\n",
    "from sklearn.ensemble import RandomForestRegressor\n",
    "from sklearn.metrics import mean_squared_error\n",
    "from lightgbm import LGBMRegressor\n",
    "from catboost import CatBoostRegressor"
   ]
  },
  {
   "cell_type": "code",
   "execution_count": 4,
   "metadata": {},
   "outputs": [],
   "source": [
    "# убираем предупреждения\n",
    "warnings.filterwarnings('ignore')"
   ]
  },
  {
   "cell_type": "markdown",
   "metadata": {},
   "source": [
    "### Обзор данных"
   ]
  },
  {
   "cell_type": "markdown",
   "metadata": {},
   "source": [
    "Загрузим данные и посмотрим на общую информацию о них:"
   ]
  },
  {
   "cell_type": "code",
   "execution_count": 5,
   "metadata": {},
   "outputs": [
    {
     "data": {
      "text/html": [
       "<div>\n",
       "<style scoped>\n",
       "    .dataframe tbody tr th:only-of-type {\n",
       "        vertical-align: middle;\n",
       "    }\n",
       "\n",
       "    .dataframe tbody tr th {\n",
       "        vertical-align: top;\n",
       "    }\n",
       "\n",
       "    .dataframe thead th {\n",
       "        text-align: right;\n",
       "    }\n",
       "</style>\n",
       "<table border=\"1\" class=\"dataframe\">\n",
       "  <thead>\n",
       "    <tr style=\"text-align: right;\">\n",
       "      <th></th>\n",
       "      <th>DateCrawled</th>\n",
       "      <th>Price</th>\n",
       "      <th>VehicleType</th>\n",
       "      <th>RegistrationYear</th>\n",
       "      <th>Gearbox</th>\n",
       "      <th>Power</th>\n",
       "      <th>Model</th>\n",
       "      <th>Kilometer</th>\n",
       "      <th>RegistrationMonth</th>\n",
       "      <th>FuelType</th>\n",
       "      <th>Brand</th>\n",
       "      <th>Repaired</th>\n",
       "      <th>DateCreated</th>\n",
       "      <th>NumberOfPictures</th>\n",
       "      <th>PostalCode</th>\n",
       "      <th>LastSeen</th>\n",
       "    </tr>\n",
       "  </thead>\n",
       "  <tbody>\n",
       "    <tr>\n",
       "      <th>0</th>\n",
       "      <td>2016-03-24 11:52:17</td>\n",
       "      <td>480</td>\n",
       "      <td>NaN</td>\n",
       "      <td>1993</td>\n",
       "      <td>manual</td>\n",
       "      <td>0</td>\n",
       "      <td>golf</td>\n",
       "      <td>150000</td>\n",
       "      <td>0</td>\n",
       "      <td>petrol</td>\n",
       "      <td>volkswagen</td>\n",
       "      <td>NaN</td>\n",
       "      <td>2016-03-24 00:00:00</td>\n",
       "      <td>0</td>\n",
       "      <td>70435</td>\n",
       "      <td>2016-04-07 03:16:57</td>\n",
       "    </tr>\n",
       "    <tr>\n",
       "      <th>1</th>\n",
       "      <td>2016-03-24 10:58:45</td>\n",
       "      <td>18300</td>\n",
       "      <td>coupe</td>\n",
       "      <td>2011</td>\n",
       "      <td>manual</td>\n",
       "      <td>190</td>\n",
       "      <td>NaN</td>\n",
       "      <td>125000</td>\n",
       "      <td>5</td>\n",
       "      <td>gasoline</td>\n",
       "      <td>audi</td>\n",
       "      <td>yes</td>\n",
       "      <td>2016-03-24 00:00:00</td>\n",
       "      <td>0</td>\n",
       "      <td>66954</td>\n",
       "      <td>2016-04-07 01:46:50</td>\n",
       "    </tr>\n",
       "    <tr>\n",
       "      <th>2</th>\n",
       "      <td>2016-03-14 12:52:21</td>\n",
       "      <td>9800</td>\n",
       "      <td>suv</td>\n",
       "      <td>2004</td>\n",
       "      <td>auto</td>\n",
       "      <td>163</td>\n",
       "      <td>grand</td>\n",
       "      <td>125000</td>\n",
       "      <td>8</td>\n",
       "      <td>gasoline</td>\n",
       "      <td>jeep</td>\n",
       "      <td>NaN</td>\n",
       "      <td>2016-03-14 00:00:00</td>\n",
       "      <td>0</td>\n",
       "      <td>90480</td>\n",
       "      <td>2016-04-05 12:47:46</td>\n",
       "    </tr>\n",
       "    <tr>\n",
       "      <th>3</th>\n",
       "      <td>2016-03-17 16:54:04</td>\n",
       "      <td>1500</td>\n",
       "      <td>small</td>\n",
       "      <td>2001</td>\n",
       "      <td>manual</td>\n",
       "      <td>75</td>\n",
       "      <td>golf</td>\n",
       "      <td>150000</td>\n",
       "      <td>6</td>\n",
       "      <td>petrol</td>\n",
       "      <td>volkswagen</td>\n",
       "      <td>no</td>\n",
       "      <td>2016-03-17 00:00:00</td>\n",
       "      <td>0</td>\n",
       "      <td>91074</td>\n",
       "      <td>2016-03-17 17:40:17</td>\n",
       "    </tr>\n",
       "    <tr>\n",
       "      <th>4</th>\n",
       "      <td>2016-03-31 17:25:20</td>\n",
       "      <td>3600</td>\n",
       "      <td>small</td>\n",
       "      <td>2008</td>\n",
       "      <td>manual</td>\n",
       "      <td>69</td>\n",
       "      <td>fabia</td>\n",
       "      <td>90000</td>\n",
       "      <td>7</td>\n",
       "      <td>gasoline</td>\n",
       "      <td>skoda</td>\n",
       "      <td>no</td>\n",
       "      <td>2016-03-31 00:00:00</td>\n",
       "      <td>0</td>\n",
       "      <td>60437</td>\n",
       "      <td>2016-04-06 10:17:21</td>\n",
       "    </tr>\n",
       "  </tbody>\n",
       "</table>\n",
       "</div>"
      ],
      "text/plain": [
       "           DateCrawled  Price VehicleType  RegistrationYear Gearbox  Power  \\\n",
       "0  2016-03-24 11:52:17    480         NaN              1993  manual      0   \n",
       "1  2016-03-24 10:58:45  18300       coupe              2011  manual    190   \n",
       "2  2016-03-14 12:52:21   9800         suv              2004    auto    163   \n",
       "3  2016-03-17 16:54:04   1500       small              2001  manual     75   \n",
       "4  2016-03-31 17:25:20   3600       small              2008  manual     69   \n",
       "\n",
       "   Model  Kilometer  RegistrationMonth  FuelType       Brand Repaired  \\\n",
       "0   golf     150000                  0    petrol  volkswagen      NaN   \n",
       "1    NaN     125000                  5  gasoline        audi      yes   \n",
       "2  grand     125000                  8  gasoline        jeep      NaN   \n",
       "3   golf     150000                  6    petrol  volkswagen       no   \n",
       "4  fabia      90000                  7  gasoline       skoda       no   \n",
       "\n",
       "           DateCreated  NumberOfPictures  PostalCode             LastSeen  \n",
       "0  2016-03-24 00:00:00                 0       70435  2016-04-07 03:16:57  \n",
       "1  2016-03-24 00:00:00                 0       66954  2016-04-07 01:46:50  \n",
       "2  2016-03-14 00:00:00                 0       90480  2016-04-05 12:47:46  \n",
       "3  2016-03-17 00:00:00                 0       91074  2016-03-17 17:40:17  \n",
       "4  2016-03-31 00:00:00                 0       60437  2016-04-06 10:17:21  "
      ]
     },
     "execution_count": 5,
     "metadata": {},
     "output_type": "execute_result"
    }
   ],
   "source": [
    "try:\n",
    "    df = pd.read_csv('dataset.csv')\n",
    "    \n",
    "except:\n",
    "    df = pd.read_csv('/datasets/autos.csv')\n",
    "\n",
    "df.head()"
   ]
  },
  {
   "cell_type": "code",
   "execution_count": 6,
   "metadata": {},
   "outputs": [
    {
     "name": "stdout",
     "output_type": "stream",
     "text": [
      "<class 'pandas.core.frame.DataFrame'>\n",
      "RangeIndex: 354369 entries, 0 to 354368\n",
      "Data columns (total 16 columns):\n",
      " #   Column             Non-Null Count   Dtype \n",
      "---  ------             --------------   ----- \n",
      " 0   DateCrawled        354369 non-null  object\n",
      " 1   Price              354369 non-null  int64 \n",
      " 2   VehicleType        316879 non-null  object\n",
      " 3   RegistrationYear   354369 non-null  int64 \n",
      " 4   Gearbox            334536 non-null  object\n",
      " 5   Power              354369 non-null  int64 \n",
      " 6   Model              334664 non-null  object\n",
      " 7   Kilometer          354369 non-null  int64 \n",
      " 8   RegistrationMonth  354369 non-null  int64 \n",
      " 9   FuelType           321474 non-null  object\n",
      " 10  Brand              354369 non-null  object\n",
      " 11  Repaired           283215 non-null  object\n",
      " 12  DateCreated        354369 non-null  object\n",
      " 13  NumberOfPictures   354369 non-null  int64 \n",
      " 14  PostalCode         354369 non-null  int64 \n",
      " 15  LastSeen           354369 non-null  object\n",
      "dtypes: int64(7), object(9)\n",
      "memory usage: 43.3+ MB\n"
     ]
    }
   ],
   "source": [
    "df.info()"
   ]
  },
  {
   "cell_type": "markdown",
   "metadata": {},
   "source": [
    "В данных **имеются пропуски**. Столбцы **DateCrawled, NumberOfPictures, PostalCode и LastSeen не представляют для нас никакого интереса**. Столбцы **DateCreated, RegistrationYear и RegistrationMonth** можно использовать для оценки возраста автомобилей на момент выставления на продажу, поэтому их **пока оставим**:  "
   ]
  },
  {
   "cell_type": "code",
   "execution_count": 7,
   "metadata": {},
   "outputs": [],
   "source": [
    "df = df.drop(['DateCrawled', 'NumberOfPictures', 'PostalCode', 'LastSeen'], axis=1)"
   ]
  },
  {
   "cell_type": "markdown",
   "metadata": {},
   "source": [
    "Также **сменим тип данных для столбца DateCreated**:"
   ]
  },
  {
   "cell_type": "code",
   "execution_count": 8,
   "metadata": {},
   "outputs": [],
   "source": [
    "df['DateCreated'] = pd.to_datetime(df['DateCreated'], format='%Y-%m-%d %H:%M:%S')"
   ]
  },
  {
   "cell_type": "markdown",
   "metadata": {},
   "source": [
    "Посмотрим на **количество пропусков** в данных:"
   ]
  },
  {
   "cell_type": "code",
   "execution_count": 9,
   "metadata": {},
   "outputs": [
    {
     "data": {
      "text/html": [
       "<style type=\"text/css\">\n",
       "#T_dbb7b_row0_col0, #T_dbb7b_row2_col0, #T_dbb7b_row4_col0, #T_dbb7b_row6_col0, #T_dbb7b_row7_col0, #T_dbb7b_row9_col0, #T_dbb7b_row11_col0 {\n",
       "  background-color: #3b4cc0;\n",
       "  color: #f1f1f1;\n",
       "}\n",
       "#T_dbb7b_row1_col0 {\n",
       "  background-color: #e3d9d3;\n",
       "  color: #000000;\n",
       "}\n",
       "#T_dbb7b_row3_col0 {\n",
       "  background-color: #97b8ff;\n",
       "  color: #000000;\n",
       "}\n",
       "#T_dbb7b_row5_col0 {\n",
       "  background-color: #96b7ff;\n",
       "  color: #000000;\n",
       "}\n",
       "#T_dbb7b_row8_col0 {\n",
       "  background-color: #d3dbe7;\n",
       "  color: #000000;\n",
       "}\n",
       "#T_dbb7b_row10_col0 {\n",
       "  background-color: #b40426;\n",
       "  color: #f1f1f1;\n",
       "}\n",
       "</style>\n",
       "<table id=\"T_dbb7b\">\n",
       "  <thead>\n",
       "    <tr>\n",
       "      <th class=\"blank level0\" >&nbsp;</th>\n",
       "      <th id=\"T_dbb7b_level0_col0\" class=\"col_heading level0 col0\" >0</th>\n",
       "    </tr>\n",
       "  </thead>\n",
       "  <tbody>\n",
       "    <tr>\n",
       "      <th id=\"T_dbb7b_level0_row0\" class=\"row_heading level0 row0\" >Price</th>\n",
       "      <td id=\"T_dbb7b_row0_col0\" class=\"data row0 col0\" >0.000000</td>\n",
       "    </tr>\n",
       "    <tr>\n",
       "      <th id=\"T_dbb7b_level0_row1\" class=\"row_heading level0 row1\" >VehicleType</th>\n",
       "      <td id=\"T_dbb7b_row1_col0\" class=\"data row1 col0\" >10.579368</td>\n",
       "    </tr>\n",
       "    <tr>\n",
       "      <th id=\"T_dbb7b_level0_row2\" class=\"row_heading level0 row2\" >RegistrationYear</th>\n",
       "      <td id=\"T_dbb7b_row2_col0\" class=\"data row2 col0\" >0.000000</td>\n",
       "    </tr>\n",
       "    <tr>\n",
       "      <th id=\"T_dbb7b_level0_row3\" class=\"row_heading level0 row3\" >Gearbox</th>\n",
       "      <td id=\"T_dbb7b_row3_col0\" class=\"data row3 col0\" >5.596709</td>\n",
       "    </tr>\n",
       "    <tr>\n",
       "      <th id=\"T_dbb7b_level0_row4\" class=\"row_heading level0 row4\" >Power</th>\n",
       "      <td id=\"T_dbb7b_row4_col0\" class=\"data row4 col0\" >0.000000</td>\n",
       "    </tr>\n",
       "    <tr>\n",
       "      <th id=\"T_dbb7b_level0_row5\" class=\"row_heading level0 row5\" >Model</th>\n",
       "      <td id=\"T_dbb7b_row5_col0\" class=\"data row5 col0\" >5.560588</td>\n",
       "    </tr>\n",
       "    <tr>\n",
       "      <th id=\"T_dbb7b_level0_row6\" class=\"row_heading level0 row6\" >Kilometer</th>\n",
       "      <td id=\"T_dbb7b_row6_col0\" class=\"data row6 col0\" >0.000000</td>\n",
       "    </tr>\n",
       "    <tr>\n",
       "      <th id=\"T_dbb7b_level0_row7\" class=\"row_heading level0 row7\" >RegistrationMonth</th>\n",
       "      <td id=\"T_dbb7b_row7_col0\" class=\"data row7 col0\" >0.000000</td>\n",
       "    </tr>\n",
       "    <tr>\n",
       "      <th id=\"T_dbb7b_level0_row8\" class=\"row_heading level0 row8\" >FuelType</th>\n",
       "      <td id=\"T_dbb7b_row8_col0\" class=\"data row8 col0\" >9.282697</td>\n",
       "    </tr>\n",
       "    <tr>\n",
       "      <th id=\"T_dbb7b_level0_row9\" class=\"row_heading level0 row9\" >Brand</th>\n",
       "      <td id=\"T_dbb7b_row9_col0\" class=\"data row9 col0\" >0.000000</td>\n",
       "    </tr>\n",
       "    <tr>\n",
       "      <th id=\"T_dbb7b_level0_row10\" class=\"row_heading level0 row10\" >Repaired</th>\n",
       "      <td id=\"T_dbb7b_row10_col0\" class=\"data row10 col0\" >20.079070</td>\n",
       "    </tr>\n",
       "    <tr>\n",
       "      <th id=\"T_dbb7b_level0_row11\" class=\"row_heading level0 row11\" >DateCreated</th>\n",
       "      <td id=\"T_dbb7b_row11_col0\" class=\"data row11 col0\" >0.000000</td>\n",
       "    </tr>\n",
       "  </tbody>\n",
       "</table>\n"
      ],
      "text/plain": [
       "<pandas.io.formats.style.Styler at 0x1e136e3c220>"
      ]
     },
     "execution_count": 9,
     "metadata": {},
     "output_type": "execute_result"
    }
   ],
   "source": [
    "pd.DataFrame(df.isna().mean()*100).style.background_gradient('coolwarm')"
   ]
  },
  {
   "cell_type": "markdown",
   "metadata": {},
   "source": [
    "Наибольшее число пропусков содержит в себе столбец с информацией о ремонте автомобиля. Также довольно много пропусков в столбцах с типом топлива и формой кузова."
   ]
  },
  {
   "cell_type": "markdown",
   "metadata": {},
   "source": [
    "### Предобработка данных"
   ]
  },
  {
   "cell_type": "markdown",
   "metadata": {},
   "source": [
    "#### Создание столбца с возрастом"
   ]
  },
  {
   "cell_type": "markdown",
   "metadata": {},
   "source": [
    "**Пропуски имеются только в столбцах VehicleType, Gearbox, Model, FuelType и Repaired**. Значит, **можем оценить возраст для всех объектов**. Для начала извлечём **данные о годе и месяце** выставления на продажу в отдельные столбцы:  "
   ]
  },
  {
   "cell_type": "code",
   "execution_count": 10,
   "metadata": {},
   "outputs": [],
   "source": [
    "df['year_created'] = df['DateCreated'].dt.year\n",
    "df['month_created'] = df['DateCreated'].dt.month"
   ]
  },
  {
   "cell_type": "markdown",
   "metadata": {},
   "source": [
    "Посмотрим **объявления за какие годы имеются** в нашем распоряжении: "
   ]
  },
  {
   "cell_type": "code",
   "execution_count": 11,
   "metadata": {},
   "outputs": [
    {
     "data": {
      "text/plain": [
       "array([2014, 2015, 2016], dtype=int64)"
      ]
     },
     "execution_count": 11,
     "metadata": {},
     "output_type": "execute_result"
    }
   ],
   "source": [
    "df['year_created'].sort_values().unique()"
   ]
  },
  {
   "cell_type": "markdown",
   "metadata": {},
   "source": [
    "Посмотрим на **уникальные значения** столбца RegistrationYear, содержащего информацию **о годе выпуска**:"
   ]
  },
  {
   "cell_type": "code",
   "execution_count": 12,
   "metadata": {},
   "outputs": [
    {
     "data": {
      "text/plain": [
       "array([1000, 1001, 1039, 1111, 1200, 1234, 1253, 1255, 1300, 1400, 1500,\n",
       "       1600, 1602, 1688, 1800, 1910, 1915, 1919, 1920, 1923, 1925, 1927,\n",
       "       1928, 1929, 1930, 1931, 1932, 1933, 1934, 1935, 1936, 1937, 1938,\n",
       "       1940, 1941, 1942, 1943, 1944, 1945, 1946, 1947, 1948, 1949, 1950,\n",
       "       1951, 1952, 1953, 1954, 1955, 1956, 1957, 1958, 1959, 1960, 1961,\n",
       "       1962, 1963, 1964, 1965, 1966, 1967, 1968, 1969, 1970, 1971, 1972,\n",
       "       1973, 1974, 1975, 1976, 1977, 1978, 1979, 1980, 1981, 1982, 1983,\n",
       "       1984, 1985, 1986, 1987, 1988, 1989, 1990, 1991, 1992, 1993, 1994,\n",
       "       1995, 1996, 1997, 1998, 1999, 2000, 2001, 2002, 2003, 2004, 2005,\n",
       "       2006, 2007, 2008, 2009, 2010, 2011, 2012, 2013, 2014, 2015, 2016,\n",
       "       2017, 2018, 2019, 2066, 2200, 2222, 2290, 2500, 2800, 2900, 3000,\n",
       "       3200, 3500, 3700, 3800, 4000, 4100, 4500, 4800, 5000, 5300, 5555,\n",
       "       5600, 5900, 5911, 6000, 6500, 7000, 7100, 7500, 7800, 8000, 8200,\n",
       "       8455, 8500, 8888, 9000, 9229, 9450, 9996, 9999], dtype=int64)"
      ]
     },
     "execution_count": 12,
     "metadata": {},
     "output_type": "execute_result"
    }
   ],
   "source": [
    "df['RegistrationYear'].sort_values().unique()"
   ]
  },
  {
   "cell_type": "markdown",
   "metadata": {},
   "source": [
    "**Года раньше 1910** (первые автомобили появились только в конце 19 века), а также **больше 2016 не соответствуют действительности**."
   ]
  },
  {
   "cell_type": "code",
   "execution_count": 13,
   "metadata": {},
   "outputs": [],
   "source": [
    "df_real = df.query('1910 < RegistrationYear < 2016')"
   ]
  },
  {
   "cell_type": "code",
   "execution_count": 14,
   "metadata": {},
   "outputs": [
    {
     "data": {
      "text/plain": [
       "array([ 0,  1,  2,  3,  4,  5,  6,  7,  8,  9, 10, 11, 12], dtype=int64)"
      ]
     },
     "execution_count": 14,
     "metadata": {},
     "output_type": "execute_result"
    }
   ],
   "source": [
    "df_real['RegistrationMonth'].sort_values().unique()"
   ]
  },
  {
   "cell_type": "markdown",
   "metadata": {},
   "source": [
    "Хотя **0 месяц - не совсем понятная величина**, на возрасте в годах она не должна существенно сказаться (**ошибка определения возраста без учёта месяца не превысит 1 года**):   "
   ]
  },
  {
   "cell_type": "code",
   "execution_count": 15,
   "metadata": {},
   "outputs": [],
   "source": [
    "df_real['age'] = round((df_real['year_created'] - df_real['RegistrationYear'] - 1) + \n",
    "                       (df_real['month_created'] + 12 - df_real['RegistrationMonth']) / 12).astype(int) "
   ]
  },
  {
   "cell_type": "code",
   "execution_count": 16,
   "metadata": {},
   "outputs": [
    {
     "data": {
      "text/plain": [
       "array([  0,   1,   2,   3,   4,   5,   6,   7,   8,   9,  10,  11,  12,\n",
       "        13,  14,  15,  16,  17,  18,  19,  20,  21,  22,  23,  24,  25,\n",
       "        26,  27,  28,  29,  30,  31,  32,  33,  34,  35,  36,  37,  38,\n",
       "        39,  40,  41,  42,  43,  44,  45,  46,  47,  48,  49,  50,  51,\n",
       "        52,  53,  54,  55,  56,  57,  58,  59,  60,  61,  62,  63,  64,\n",
       "        65,  66,  67,  68,  69,  71,  72,  73,  74,  75,  76,  78,  79,\n",
       "        80,  81,  82,  83,  84,  85,  86,  87,  88,  89,  91,  93,  96,\n",
       "        97, 101])"
      ]
     },
     "execution_count": 16,
     "metadata": {},
     "output_type": "execute_result"
    }
   ],
   "source": [
    "df_real['age'].sort_values().unique()"
   ]
  },
  {
   "cell_type": "markdown",
   "metadata": {},
   "source": [
    "Несколько подозрительно выглядят автомобили, которым меньше года, однако, **нельзя исключать возможности быстрой перепродажи автомобиля**. Посмотрим, сколько таких примеров имеем:"
   ]
  },
  {
   "cell_type": "code",
   "execution_count": 17,
   "metadata": {},
   "outputs": [
    {
     "data": {
      "text/plain": [
       "177"
      ]
     },
     "execution_count": 17,
     "metadata": {},
     "output_type": "execute_result"
    }
   ],
   "source": [
    "df_real.query('age == 0').shape[0]"
   ]
  },
  {
   "cell_type": "markdown",
   "metadata": {},
   "source": [
    "Столбцы **year_created, month_created, RegistrationYear, RegistrationMonth и DateCreated более нам не нужны** - удалим их:"
   ]
  },
  {
   "cell_type": "code",
   "execution_count": 18,
   "metadata": {},
   "outputs": [],
   "source": [
    "df_real = df_real.drop(['year_created', 'month_created', 'RegistrationYear', 'RegistrationMonth', 'DateCreated'],\n",
    "                       axis=1)"
   ]
  },
  {
   "cell_type": "markdown",
   "metadata": {},
   "source": [
    "#### Обработка пропусков и аномальных значений"
   ]
  },
  {
   "cell_type": "markdown",
   "metadata": {},
   "source": [
    "**Для начала** посмотрим какие данные хранятся в **таргете - цене**:"
   ]
  },
  {
   "cell_type": "code",
   "execution_count": 19,
   "metadata": {},
   "outputs": [
    {
     "data": {
      "text/plain": [
       "array([    0,     1,     2, ..., 19998, 19999, 20000], dtype=int64)"
      ]
     },
     "execution_count": 19,
     "metadata": {},
     "output_type": "execute_result"
    }
   ],
   "source": [
    "df_real['Price'].sort_values().unique()"
   ]
  },
  {
   "cell_type": "markdown",
   "metadata": {},
   "source": [
    "**Цены на авто вблизи 0 выглядят, как выбросы**, посмотрим на рапределение в этой области:"
   ]
  },
  {
   "cell_type": "code",
   "execution_count": 20,
   "metadata": {},
   "outputs": [
    {
     "data": {
      "image/png": "[encoded data removed]",
      "text/plain": [
       "<Figure size 1000x500 with 1 Axes>"
      ]
     },
     "metadata": {},
     "output_type": "display_data"
    }
   ],
   "source": [
    "plt.figure(figsize=(10, 5))\n",
    "\n",
    "df_real['Price'].hist(bins=50, range=(0, 700))\n",
    "\n",
    "plt.title(label='Распределение цен на автомобили вблизи 0')\n",
    "plt.xlabel('Цена в евро')\n",
    "plt.show();"
   ]
  },
  {
   "cell_type": "markdown",
   "metadata": {},
   "source": [
    "Поскольку **замена значений в таргете может сильно исказить модель**, аномальные значения будет разумнее просто исключить из рассмотрения. **Ограничимся ценами от 500 евро:**"
   ]
  },
  {
   "cell_type": "code",
   "execution_count": 21,
   "metadata": {},
   "outputs": [],
   "source": [
    "df_real = df_real.query('Price >= 500')"
   ]
  },
  {
   "cell_type": "markdown",
   "metadata": {},
   "source": [
    "Далее посмотрим какие **модели автомобилей** представлены в наших данных:"
   ]
  },
  {
   "cell_type": "code",
   "execution_count": 22,
   "metadata": {},
   "outputs": [
    {
     "data": {
      "text/plain": [
       "array(['100', '145', '147', '156', '159', '1_reihe', '1er', '200',\n",
       "       '2_reihe', '300c', '3_reihe', '3er', '4_reihe', '500', '5_reihe',\n",
       "       '5er', '601', '6_reihe', '6er', '7er', '80', '850', '90', '900',\n",
       "       '9000', '911', 'a1', 'a2', 'a3', 'a4', 'a5', 'a6', 'a8',\n",
       "       'a_klasse', 'accord', 'agila', 'alhambra', 'almera', 'altea',\n",
       "       'amarok', 'antara', 'arosa', 'astra', 'auris', 'avensis', 'aveo',\n",
       "       'aygo', 'b_klasse', 'b_max', 'beetle', 'berlingo', 'bora',\n",
       "       'boxster', 'bravo', 'c1', 'c2', 'c3', 'c4', 'c5', 'c_klasse',\n",
       "       'c_max', 'c_reihe', 'caddy', 'calibra', 'captiva', 'carisma',\n",
       "       'carnival', 'cayenne', 'cc', 'ceed', 'charade', 'cherokee',\n",
       "       'citigo', 'civic', 'cl', 'clio', 'clk', 'clubman', 'colt', 'combo',\n",
       "       'cooper', 'cordoba', 'corolla', 'corsa', 'cr_reihe', 'croma',\n",
       "       'crossfire', 'cuore', 'cx_reihe', 'defender', 'delta', 'discovery',\n",
       "       'doblo', 'ducato', 'duster', 'e_klasse', 'elefantino', 'eos',\n",
       "       'escort', 'espace', 'exeo', 'fabia', 'fiesta', 'focus', 'forester',\n",
       "       'forfour', 'fortwo', 'fox', 'freelander', 'fusion', 'g_klasse',\n",
       "       'galant', 'galaxy', 'getz', 'gl', 'glk', 'golf', 'grand', 'i3',\n",
       "       'i_reihe', 'ibiza', 'impreza', 'insignia', 'jazz', 'jetta',\n",
       "       'jimny', 'juke', 'justy', 'ka', 'kadett', 'kaefer', 'kalina',\n",
       "       'kalos', 'kangoo', 'kappa', 'kuga', 'laguna', 'lancer', 'lanos',\n",
       "       'legacy', 'leon', 'lodgy', 'logan', 'lupo', 'lybra', 'm_klasse',\n",
       "       'm_reihe', 'materia', 'matiz', 'megane', 'meriva', 'micra', 'mii',\n",
       "       'modus', 'mondeo', 'move', 'musa', 'mustang', 'mx_reihe', 'navara',\n",
       "       'niva', 'note', 'nubira', 'octavia', 'omega', 'one', 'other',\n",
       "       'outlander', 'pajero', 'panda', 'passat', 'phaeton', 'picanto',\n",
       "       'polo', 'primera', 'ptcruiser', 'punto', 'q3', 'q5', 'q7',\n",
       "       'qashqai', 'r19', 'range_rover', 'range_rover_evoque',\n",
       "       'range_rover_sport', 'rangerover', 'rav', 'rio', 'roadster',\n",
       "       'roomster', 'rx_reihe', 's60', 's_klasse', 's_max', 's_type',\n",
       "       'samara', 'sandero', 'santa', 'scenic', 'scirocco', 'seicento',\n",
       "       'serie_1', 'serie_2', 'serie_3', 'sharan', 'signum', 'sirion',\n",
       "       'sl', 'slk', 'sorento', 'spark', 'spider', 'sportage', 'sprinter',\n",
       "       'stilo', 'superb', 'swift', 'terios', 'tigra', 'tiguan', 'toledo',\n",
       "       'touareg', 'touran', 'transit', 'transporter', 'tt', 'tucson',\n",
       "       'twingo', 'up', 'v40', 'v50', 'v60', 'v70', 'v_klasse', 'vectra',\n",
       "       'verso', 'viano', 'vito', 'vivaro', 'voyager', 'wrangler',\n",
       "       'x_reihe', 'x_trail', 'x_type', 'xc_reihe', 'yaris', 'yeti',\n",
       "       'ypsilon', 'z_reihe', 'zafira', nan], dtype=object)"
      ]
     },
     "execution_count": 22,
     "metadata": {},
     "output_type": "execute_result"
    }
   ],
   "source": [
    "df_real['Model'].sort_values().unique()"
   ]
  },
  {
   "cell_type": "markdown",
   "metadata": {},
   "source": [
    "Моделей довольно много. Посмотрим на их представленность:"
   ]
  },
  {
   "cell_type": "code",
   "execution_count": 23,
   "metadata": {},
   "outputs": [
    {
     "data": {
      "text/plain": [
       "golf                  23990\n",
       "other                 21217\n",
       "3er                   17728\n",
       "polo                   9805\n",
       "a4                     9076\n",
       "                      ...  \n",
       "samara                    4\n",
       "rangerover                3\n",
       "serie_3                   3\n",
       "range_rover_evoque        2\n",
       "serie_1                   1\n",
       "Name: Model, Length: 250, dtype: int64"
      ]
     },
     "execution_count": 23,
     "metadata": {},
     "output_type": "execute_result"
    }
   ],
   "source": [
    "df_real['Model'].value_counts()"
   ]
  },
  {
   "cell_type": "markdown",
   "metadata": {},
   "source": [
    "Есть как широко представленные классы, так и встречающиеся 1-2 раза. Модели **'other' по смыслу никак не особо отличаются от пропусков**. При этом это **вторая по представленности группа**, которую мы **не можем исключить из рассмотрения**. По этой причине логичнее всего будет **заполнить пропуски в данных о модели именно этим значением**: "
   ]
  },
  {
   "cell_type": "code",
   "execution_count": 24,
   "metadata": {},
   "outputs": [],
   "source": [
    "df_real['Model'] = df_real['Model'].fillna('other')"
   ]
  },
  {
   "cell_type": "markdown",
   "metadata": {},
   "source": [
    "Посмотрим какие **типы кузова** представлены:"
   ]
  },
  {
   "cell_type": "code",
   "execution_count": 25,
   "metadata": {},
   "outputs": [
    {
     "data": {
      "text/plain": [
       "array(['bus', 'convertible', 'coupe', 'other', 'sedan', 'small', 'suv',\n",
       "       'wagon', nan], dtype=object)"
      ]
     },
     "execution_count": 25,
     "metadata": {},
     "output_type": "execute_result"
    }
   ],
   "source": [
    "df_real['VehicleType'].sort_values().unique()"
   ]
  },
  {
   "cell_type": "code",
   "execution_count": 26,
   "metadata": {},
   "outputs": [
    {
     "data": {
      "text/plain": [
       "sedan          85453\n",
       "small          68202\n",
       "wagon          60722\n",
       "bus            27824\n",
       "convertible    19545\n",
       "coupe          14832\n",
       "suv            11704\n",
       "other           2768\n",
       "Name: VehicleType, dtype: int64"
      ]
     },
     "execution_count": 26,
     "metadata": {},
     "output_type": "execute_result"
    }
   ],
   "source": [
    "df_real['VehicleType'].value_counts()"
   ]
  },
  {
   "cell_type": "markdown",
   "metadata": {},
   "source": [
    "Здесь также наряду с пропусками **имеется категория 'other', иемнно в неё отправим пропуски**: "
   ]
  },
  {
   "cell_type": "code",
   "execution_count": 27,
   "metadata": {},
   "outputs": [],
   "source": [
    "df_real['VehicleType'] = df_real['VehicleType'].fillna('other')"
   ]
  },
  {
   "cell_type": "markdown",
   "metadata": {},
   "source": [
    "**В столбцах Gearbox, FuelType и Repaired также хранятся неколичественные переменные, пропуски** в которых разумнее будет **заполнить категорией 'other'**. Посмотрим на значения в этих столбцах: "
   ]
  },
  {
   "cell_type": "code",
   "execution_count": 28,
   "metadata": {},
   "outputs": [
    {
     "data": {
      "text/plain": [
       "array(['auto', 'manual', nan], dtype=object)"
      ]
     },
     "execution_count": 28,
     "metadata": {},
     "output_type": "execute_result"
    }
   ],
   "source": [
    "df_real['Gearbox'].sort_values().unique()"
   ]
  },
  {
   "cell_type": "code",
   "execution_count": 29,
   "metadata": {},
   "outputs": [
    {
     "data": {
      "text/plain": [
       "array(['cng', 'electric', 'gasoline', 'hybrid', 'lpg', 'other', 'petrol',\n",
       "       nan], dtype=object)"
      ]
     },
     "execution_count": 29,
     "metadata": {},
     "output_type": "execute_result"
    }
   ],
   "source": [
    "df_real['FuelType'].sort_values().unique()"
   ]
  },
  {
   "cell_type": "code",
   "execution_count": 30,
   "metadata": {},
   "outputs": [
    {
     "data": {
      "text/plain": [
       "array(['no', 'yes', nan], dtype=object)"
      ]
     },
     "execution_count": 30,
     "metadata": {},
     "output_type": "execute_result"
    }
   ],
   "source": [
    "df_real['Repaired'].sort_values().unique()"
   ]
  },
  {
   "cell_type": "markdown",
   "metadata": {},
   "source": [
    "В FuelType уже существует категория 'other'. **Заполним пропуски**:"
   ]
  },
  {
   "cell_type": "code",
   "execution_count": 31,
   "metadata": {},
   "outputs": [],
   "source": [
    "for name in ['Gearbox', 'FuelType', 'Repaired']:\n",
    "    df_real[name] = df_real[name].fillna('other')"
   ]
  },
  {
   "cell_type": "markdown",
   "metadata": {},
   "source": [
    "**В столбце с брендами пропусков нет**, но посмотрим на них и их представленность в данных: "
   ]
  },
  {
   "cell_type": "code",
   "execution_count": 32,
   "metadata": {
    "scrolled": true
   },
   "outputs": [
    {
     "data": {
      "text/plain": [
       "volkswagen        63843\n",
       "bmw               33236\n",
       "opel              30944\n",
       "mercedes_benz     29296\n",
       "audi              26287\n",
       "ford              19738\n",
       "renault           13660\n",
       "peugeot            9405\n",
       "fiat               7483\n",
       "seat               5651\n",
       "skoda              5101\n",
       "smart              4791\n",
       "mazda              4683\n",
       "citroen            4342\n",
       "toyota             4253\n",
       "nissan             4070\n",
       "hyundai            3215\n",
       "mini               3011\n",
       "volvo              2809\n",
       "mitsubishi         2393\n",
       "sonstige_autos     2388\n",
       "honda              2357\n",
       "kia                2177\n",
       "suzuki             1971\n",
       "alfa_romeo         1948\n",
       "chevrolet          1612\n",
       "chrysler           1221\n",
       "dacia               849\n",
       "porsche             677\n",
       "jeep                618\n",
       "subaru              612\n",
       "daihatsu            572\n",
       "land_rover          522\n",
       "jaguar              478\n",
       "saab                474\n",
       "daewoo              390\n",
       "trabant             377\n",
       "lancia              353\n",
       "rover               341\n",
       "lada                192\n",
       "Name: Brand, dtype: int64"
      ]
     },
     "execution_count": 32,
     "metadata": {},
     "output_type": "execute_result"
    }
   ],
   "source": [
    "df_real['Brand'].value_counts()"
   ]
  },
  {
   "cell_type": "markdown",
   "metadata": {},
   "source": [
    "**Оставшиеся признаки являются численными и не содержат пропусков, однако стоит проверить их на наличие аномалий**. Посмотрим на **пробег**:"
   ]
  },
  {
   "cell_type": "code",
   "execution_count": 33,
   "metadata": {},
   "outputs": [
    {
     "data": {
      "text/plain": [
       "array([  5000,  10000,  20000,  30000,  40000,  50000,  60000,  70000,\n",
       "        80000,  90000, 100000, 125000, 150000], dtype=int64)"
      ]
     },
     "execution_count": 33,
     "metadata": {},
     "output_type": "execute_result"
    }
   ],
   "source": [
    "df_real['Kilometer'].sort_values().unique()"
   ]
  },
  {
   "cell_type": "markdown",
   "metadata": {},
   "source": [
    "Вероятно, что имеющиеся в нашем распоряжении **данные о пробеге представляют собой приближённые значения** - столь круглые значения и наличие определённого шага увеличивающегося при увеличении порядка величины (5, 10, 25 тыс. км) наталкивает на мысль, что это особенность сбора информации. С другой стороны, **сложно говорить о наличие каких-либо аномалий толко по этим числам**. Поскольку данный признак имеет чёткое дробление на категории, **сменим его тип на 'object'**, чтобы далее рассматривать как категориальный:"
   ]
  },
  {
   "cell_type": "code",
   "execution_count": 34,
   "metadata": {},
   "outputs": [],
   "source": [
    "df_real['Kilometer'] = df_real['Kilometer'].astype('object')"
   ]
  },
  {
   "cell_type": "markdown",
   "metadata": {},
   "source": [
    "**Посморим на распределение** последнего оставшегося численного признака - **мощности двигателя**:"
   ]
  },
  {
   "cell_type": "code",
   "execution_count": 35,
   "metadata": {
    "scrolled": true
   },
   "outputs": [
    {
     "data": {
      "text/plain": [
       "array([    0,     1,     2,     3,     4,     5,     6,     7,     8,\n",
       "           9,    10,    11,    12,    13,    14,    15,    16,    17,\n",
       "          18,    19,    20,    21,    22,    23,    24,    25,    26,\n",
       "          27,    28,    29,    30,    31,    32,    33,    34,    35,\n",
       "          36,    37,    38,    39,    40,    41,    42,    43,    44,\n",
       "          45,    46,    47,    48,    49,    50,    51,    52,    53,\n",
       "          54,    55,    56,    57,    58,    59,    60,    61,    62,\n",
       "          63,    64,    65,    66,    67,    68,    69,    70,    71,\n",
       "          72,    73,    74,    75,    76,    77,    78,    79,    80,\n",
       "          81,    82,    83,    84,    85,    86,    87,    88,    89,\n",
       "          90,    91,    92,    93,    94,    95,    96,    97,    98,\n",
       "          99,   100,   101,   102,   103,   104,   105,   106,   107,\n",
       "         108,   109,   110,   111,   112,   113,   114,   115,   116,\n",
       "         117,   118,   119,   120,   121,   122,   123,   124,   125,\n",
       "         126,   127,   128,   129,   130,   131,   132,   133,   134,\n",
       "         135,   136,   137,   138,   139,   140,   141,   142,   143,\n",
       "         144,   145,   146,   147,   148,   149,   150,   151,   152,\n",
       "         153,   154,   155,   156,   157,   158,   159,   160,   161,\n",
       "         162,   163,   164,   165,   166,   167,   168,   169,   170,\n",
       "         171,   172,   173,   174,   175,   176,   177,   178,   179,\n",
       "         180,   181,   182,   183,   184,   185,   186,   187,   188,\n",
       "         189,   190,   191,   192,   193,   194,   195,   196,   197,\n",
       "         198,   199,   200,   201,   202,   203,   204,   205,   206,\n",
       "         207,   208,   209,   210,   211,   212,   213,   214,   215,\n",
       "         216,   217,   218,   219,   220,   221,   222,   223,   224,\n",
       "         225,   226,   227,   228,   229,   230,   231,   232,   233,\n",
       "         234,   235,   236,   237,   238,   239,   240,   241,   242,\n",
       "         243,   244,   245,   246,   247,   248,   249,   250,   251,\n",
       "         252,   253,   254,   255,   256,   257,   258,   259,   260,\n",
       "         261,   262,   264,   265,   266,   267,   268,   269,   270,\n",
       "         271,   272,   273,   274,   275,   276,   277,   278,   279,\n",
       "         280,   281,   282,   283,   284,   285,   286,   287,   288,\n",
       "         289,   290,   292,   293,   294,   295,   296,   297,   298,\n",
       "         299,   300,   301,   303,   304,   305,   306,   307,   308,\n",
       "         309,   310,   311,   313,   314,   315,   316,   317,   318,\n",
       "         320,   321,   322,   324,   325,   326,   328,   329,   330,\n",
       "         331,   332,   333,   334,   335,   336,   338,   339,   340,\n",
       "         341,   343,   344,   345,   346,   347,   348,   349,   350,\n",
       "         351,   352,   353,   354,   355,   356,   357,   358,   360,\n",
       "         361,   362,   363,   364,   365,   367,   368,   370,   371,\n",
       "         374,   375,   376,   377,   379,   380,   381,   382,   385,\n",
       "         386,   387,   388,   390,   392,   394,   396,   398,   399,\n",
       "         400,   401,   405,   408,   409,   411,   416,   420,   421,\n",
       "         425,   426,   428,   430,   431,   435,   440,   442,   445,\n",
       "         449,   450,   454,   457,   460,   475,   476,   487,   489,\n",
       "         490,   500,   504,   505,   507,   508,   510,   514,   515,\n",
       "         517,   519,   520,   521,   525,   540,   544,   550,   551,\n",
       "         560,   572,   579,   584,   585,   600,   601,   602,   603,\n",
       "         604,   606,   612,   620,   640,   645,   650,   651,   671,\n",
       "         678,   682,   685,   700,   702,   703,   732,   743,   750,\n",
       "         751,   771,   776,   800,   805,   850,   851,   871,   900,\n",
       "         903,   907,   909,   950,   952,   953,   999,  1000,  1001,\n",
       "        1003,  1005,  1011,  1012,  1016,  1017,  1021,  1024,  1054,\n",
       "        1055,  1056,  1062,  1079,  1082,  1090,  1100,  1105,  1115,\n",
       "        1149,  1151,  1160,  1162,  1164,  1199,  1202,  1221,  1223,\n",
       "        1240,  1250,  1256,  1275,  1288,  1299,  1300,  1317,  1324,\n",
       "        1339,  1360,  1362,  1363,  1367,  1390,  1398,  1399,  1400,\n",
       "        1401,  1403,  1405,  1416,  1432,  1433,  1436,  1500,  1501,\n",
       "        1502,  1503,  1506,  1521,  1548,  1595,  1596,  1597,  1598,\n",
       "        1600,  1631,  1653,  1659,  1689,  1700,  1701,  1704,  1707,\n",
       "        1753,  1771,  1780,  1781,  1783,  1793,  1796,  1800,  1801,\n",
       "        1870,  1895,  1896,  1900,  1920,  1922,  1933,  1937,  1968,\n",
       "        1992,  1993,  1995,  1998,  2000,  2004,  2005,  2007,  2009,\n",
       "        2016,  2017,  2018,  2172,  2331,  2340,  2389,  2402,  2461,\n",
       "        2598,  2729,  2789,  2792,  2799,  3199,  3454,  3500,  4400,\n",
       "        4700,  5411,  5420,  5809,  5867,  6006,  6010,  6012,  6018,\n",
       "        6045,  6062,  6226,  6512,  6920,  7508,  7511,  7512,  7515,\n",
       "        7518,  7529,  7544,  8259,  8404,  8500,  9007,  9012,  9013,\n",
       "       10110, 10218, 10520, 10522, 10710, 10910, 10912, 11011, 11025,\n",
       "       11509, 11530, 11635, 12012, 12510, 12512, 13636, 14009, 15001,\n",
       "       15017, 15020, 15033, 16051, 16311, 16312, 17011, 17019, 17410,\n",
       "       17700, 17932, 19208, 19211, 19312, 20000], dtype=int64)"
      ]
     },
     "execution_count": 35,
     "metadata": {},
     "output_type": "execute_result"
    }
   ],
   "source": [
    "df_real['Power'].sort_values().unique()"
   ]
  },
  {
   "cell_type": "markdown",
   "metadata": {},
   "source": [
    "Разброс данных велик, а **некоторые значения выглядят совершенно неправдободобно, вероятно, в данных есть выбросы**. Если очень маленькие единичные значения ещё можно объяснить очень старыми моделя, то мощность более 2000 л.с. не представляется достижимой даже для современных автомобилей. **Посмотрим на распределение в разных диапазонах значений**:"
   ]
  },
  {
   "cell_type": "code",
   "execution_count": 36,
   "metadata": {},
   "outputs": [
    {
     "data": {
      "image/png": "[encoded data removed]",
      "text/plain": [
       "<Figure size 1000x500 with 1 Axes>"
      ]
     },
     "metadata": {},
     "output_type": "display_data"
    },
    {
     "data": {
      "image/png": "[encoded data removed]",
      "text/plain": [
       "<Figure size 1000x500 with 1 Axes>"
      ]
     },
     "metadata": {},
     "output_type": "display_data"
    },
    {
     "data": {
      "image/png": "[encoded data removed]",
      "text/plain": [
       "<Figure size 1000x500 with 1 Axes>"
      ]
     },
     "metadata": {},
     "output_type": "display_data"
    }
   ],
   "source": [
    "# построение гистограммы в диапозоне 0-2000 л.с.\n",
    "plt.figure(figsize=(10, 5))\n",
    "\n",
    "df_real['Power'].hist(bins=100, range=(0, 2000))\n",
    "\n",
    "plt.title(label='Распределение мощности автомобилей в диапазоне 0-2000 л.с.')\n",
    "plt.xlabel('Мощность в л.с.')\n",
    "plt.show();\n",
    "\n",
    "# построение гистограммы в диапозоне 0-500 л.с.\n",
    "plt.figure(figsize=(10, 5))\n",
    "\n",
    "df_real['Power'].hist(bins=100, range=(0, 500))\n",
    "\n",
    "plt.title(label='Распределение мощности автомобилей в диапазоне 0-500 л.с.')\n",
    "plt.xlabel('Мощность в л.с.')\n",
    "plt.show();\n",
    "\n",
    "# построение гистограммы в диапозоне 0-100 л.с.\n",
    "plt.figure(figsize=(10, 5))\n",
    "\n",
    "df_real['Power'].hist(bins=100, range=(0, 100))\n",
    "\n",
    "plt.title(label='Распределение мощности автомобилей в диапазоне 0-100 л.с.')\n",
    "plt.xlabel('Мощность в л.с.')\n",
    "plt.show();"
   ]
  },
  {
   "cell_type": "markdown",
   "metadata": {},
   "source": [
    "**Значения свыше 250 составляют очень малую часть от всего датасета, при этом значения свыше 500 скорее единичные**. В то же время **пик на 0 игнорировать невозможно**. С одной стороны, это значение не отвечает действительности, с другой - таких значений очень много (почти 25000). **Вероятнее всего, это были пропуски**.\n",
    "\n",
    "Для начала **оставим только автомобили с мощностью менее 500 л.с.**:  "
   ]
  },
  {
   "cell_type": "code",
   "execution_count": 37,
   "metadata": {},
   "outputs": [],
   "source": [
    "df_real = df_real.query('Power < 500')"
   ]
  },
  {
   "cell_type": "markdown",
   "metadata": {},
   "source": [
    "**Заполним нулевые значения медианными значениями мощности для соответствующей модели автомобиля**:"
   ]
  },
  {
   "cell_type": "code",
   "execution_count": 38,
   "metadata": {},
   "outputs": [],
   "source": [
    "for name in df_real['Model'].unique():\n",
    "    df_real.loc[(df_real['Power'] == 0) & (df_real['Model'] == name), 'Power'] = \\\n",
    "    df_real.loc[df_real['Model'] == name, 'Power'].median()"
   ]
  },
  {
   "cell_type": "markdown",
   "metadata": {},
   "source": [
    "**Проверим** датасет также на **наличие явных дубликатов**:"
   ]
  },
  {
   "cell_type": "code",
   "execution_count": 39,
   "metadata": {},
   "outputs": [
    {
     "data": {
      "text/plain": [
       "39931"
      ]
     },
     "execution_count": 39,
     "metadata": {},
     "output_type": "execute_result"
    }
   ],
   "source": [
    "df_real.duplicated().sum()"
   ]
  },
  {
   "cell_type": "markdown",
   "metadata": {},
   "source": [
    "Дубликатов достаточно много, но тем не менее они **не должны негативно сказаться на обучении моделей, поэтому оставим их**. \n",
    "\n",
    "Проверим, что **в данных не осталось пропусков**, а также посмотрим, **какую часть датасета мы потеряли** во время предобработки:"
   ]
  },
  {
   "cell_type": "code",
   "execution_count": 40,
   "metadata": {},
   "outputs": [
    {
     "data": {
      "text/html": [
       "<style type=\"text/css\">\n",
       "#T_ac15d_row0_col0, #T_ac15d_row1_col0, #T_ac15d_row2_col0, #T_ac15d_row3_col0, #T_ac15d_row4_col0, #T_ac15d_row5_col0, #T_ac15d_row6_col0, #T_ac15d_row7_col0, #T_ac15d_row8_col0, #T_ac15d_row9_col0 {\n",
       "  background-color: #3b4cc0;\n",
       "  color: #f1f1f1;\n",
       "}\n",
       "</style>\n",
       "<table id=\"T_ac15d\">\n",
       "  <thead>\n",
       "    <tr>\n",
       "      <th class=\"blank level0\" >&nbsp;</th>\n",
       "      <th id=\"T_ac15d_level0_col0\" class=\"col_heading level0 col0\" >0</th>\n",
       "    </tr>\n",
       "  </thead>\n",
       "  <tbody>\n",
       "    <tr>\n",
       "      <th id=\"T_ac15d_level0_row0\" class=\"row_heading level0 row0\" >Price</th>\n",
       "      <td id=\"T_ac15d_row0_col0\" class=\"data row0 col0\" >0.000000</td>\n",
       "    </tr>\n",
       "    <tr>\n",
       "      <th id=\"T_ac15d_level0_row1\" class=\"row_heading level0 row1\" >VehicleType</th>\n",
       "      <td id=\"T_ac15d_row1_col0\" class=\"data row1 col0\" >0.000000</td>\n",
       "    </tr>\n",
       "    <tr>\n",
       "      <th id=\"T_ac15d_level0_row2\" class=\"row_heading level0 row2\" >Gearbox</th>\n",
       "      <td id=\"T_ac15d_row2_col0\" class=\"data row2 col0\" >0.000000</td>\n",
       "    </tr>\n",
       "    <tr>\n",
       "      <th id=\"T_ac15d_level0_row3\" class=\"row_heading level0 row3\" >Power</th>\n",
       "      <td id=\"T_ac15d_row3_col0\" class=\"data row3 col0\" >0.000000</td>\n",
       "    </tr>\n",
       "    <tr>\n",
       "      <th id=\"T_ac15d_level0_row4\" class=\"row_heading level0 row4\" >Model</th>\n",
       "      <td id=\"T_ac15d_row4_col0\" class=\"data row4 col0\" >0.000000</td>\n",
       "    </tr>\n",
       "    <tr>\n",
       "      <th id=\"T_ac15d_level0_row5\" class=\"row_heading level0 row5\" >Kilometer</th>\n",
       "      <td id=\"T_ac15d_row5_col0\" class=\"data row5 col0\" >0.000000</td>\n",
       "    </tr>\n",
       "    <tr>\n",
       "      <th id=\"T_ac15d_level0_row6\" class=\"row_heading level0 row6\" >FuelType</th>\n",
       "      <td id=\"T_ac15d_row6_col0\" class=\"data row6 col0\" >0.000000</td>\n",
       "    </tr>\n",
       "    <tr>\n",
       "      <th id=\"T_ac15d_level0_row7\" class=\"row_heading level0 row7\" >Brand</th>\n",
       "      <td id=\"T_ac15d_row7_col0\" class=\"data row7 col0\" >0.000000</td>\n",
       "    </tr>\n",
       "    <tr>\n",
       "      <th id=\"T_ac15d_level0_row8\" class=\"row_heading level0 row8\" >Repaired</th>\n",
       "      <td id=\"T_ac15d_row8_col0\" class=\"data row8 col0\" >0.000000</td>\n",
       "    </tr>\n",
       "    <tr>\n",
       "      <th id=\"T_ac15d_level0_row9\" class=\"row_heading level0 row9\" >age</th>\n",
       "      <td id=\"T_ac15d_row9_col0\" class=\"data row9 col0\" >0.000000</td>\n",
       "    </tr>\n",
       "  </tbody>\n",
       "</table>\n"
      ],
      "text/plain": [
       "<pandas.io.formats.style.Styler at 0x1e149256e50>"
      ]
     },
     "execution_count": 40,
     "metadata": {},
     "output_type": "execute_result"
    }
   ],
   "source": [
    "pd.DataFrame(df_real.isna().mean()*100).style.background_gradient('coolwarm')"
   ]
  },
  {
   "cell_type": "code",
   "execution_count": 41,
   "metadata": {
    "scrolled": true
   },
   "outputs": [
    {
     "data": {
      "text/plain": [
       "0.16"
      ]
     },
     "execution_count": 41,
     "metadata": {},
     "output_type": "execute_result"
    }
   ],
   "source": [
    "round(1 - df_real.shape[0] / df.shape[0], 2)"
   ]
  },
  {
   "cell_type": "markdown",
   "metadata": {},
   "source": [
    "Все пропуски были ликвидированы. При этом в процессе предобработки **потеряли 16% исходной выборки**."
   ]
  },
  {
   "cell_type": "markdown",
   "metadata": {},
   "source": [
    "## Обучение моделей"
   ]
  },
  {
   "cell_type": "markdown",
   "metadata": {},
   "source": [
    "Необходимо решить задачу регрессии. Для её решения **воспользуемся регрессорами**, использующими градиентный бустинг **из библиотек LGBM и CatBoost**, а также **моделью случаного леса**. Создадим **обучающие и тестовые выборки с признаками и таргетом**:"
   ]
  },
  {
   "cell_type": "code",
   "execution_count": 42,
   "metadata": {},
   "outputs": [],
   "source": [
    "# деление на обучающую (85%) и тестовую (15%) выборки: \n",
    "features_train, features_test, target_train, target_test = train_test_split(df_real.drop('Price', axis=1), \n",
    "                                                                            df_real['Price'], test_size=0.15,\n",
    "                                                                            random_state=42)"
   ]
  },
  {
   "cell_type": "markdown",
   "metadata": {},
   "source": [
    "Проверим **корректность разбиения** на выборки:"
   ]
  },
  {
   "cell_type": "code",
   "execution_count": 43,
   "metadata": {},
   "outputs": [
    {
     "name": "stdout",
     "output_type": "stream",
     "text": [
      "253280 / 44697 / 253280 / 44697\n"
     ]
    }
   ],
   "source": [
    "print(features_train.shape[0], '/', features_test.shape[0], '/', target_train.shape[0], '/', target_test.shape[0])"
   ]
  },
  {
   "cell_type": "markdown",
   "metadata": {},
   "source": [
    "Нас **интересуют качество (RMSE), а также время обучения и предсказания модели**. Создадим списки и функцию, которые будут собирать эту информацию о выыбранных моделях:"
   ]
  },
  {
   "cell_type": "code",
   "execution_count": 44,
   "metadata": {},
   "outputs": [],
   "source": [
    "# списки для интересующей информации о моделях\n",
    "rmse_cv_list = []\n",
    "fit_time_cv_list = []\n",
    "score_time_cv_list = []"
   ]
  },
  {
   "cell_type": "code",
   "execution_count": 45,
   "metadata": {},
   "outputs": [],
   "source": [
    "def model_info(model, features, target):\n",
    "    \n",
    "# Считает RMSE для лучшей подобранной модели,  \n",
    "# сохраняет в список и выводит на экран, тоже делает для\n",
    "# среднего времени обучения и предсказания модели. \n",
    "     \n",
    "    prediction = model.predict(features)\n",
    "    rmse = round(mean_squared_error(target, prediction) ** 0.5)\n",
    "    fit_time = round(model.cv_results_['mean_fit_time'][model.best_index_], 3)\n",
    "    score_time = round(model.cv_results_['mean_score_time'][model.best_index_], 3)\n",
    "            \n",
    "    rmse_cv_list.append(rmse)\n",
    "    fit_time_cv_list.append(fit_time)\n",
    "    score_time_cv_list.append(score_time)\n",
    "    \n",
    "    return display(f'RMSE: {rmse}', f'Среднее время обучения: {fit_time:.4f}', \n",
    "                   f'Среднее время предсказания: {score_time:.4f}')"
   ]
  },
  {
   "cell_type": "markdown",
   "metadata": {},
   "source": [
    "Для корректной работы моделей также **необходима предварительная подготовка численных и категориальных данных**. Поскольку обучение будем проводить с помощью кросс-валидации **для избежания утечки данных далее будем использовать конвеерную обработку**. Подготовим списки с численными и категориальными данными:    "
   ]
  },
  {
   "cell_type": "code",
   "execution_count": 46,
   "metadata": {},
   "outputs": [],
   "source": [
    "# списки столбцов с численными и категориальными переменными\n",
    "numeric = features_train.select_dtypes(exclude=['object']).columns.tolist()\n",
    "category = features_train.select_dtypes(include=['object']).columns.tolist()"
   ]
  },
  {
   "cell_type": "markdown",
   "metadata": {},
   "source": [
    "### LGBM регрессор"
   ]
  },
  {
   "cell_type": "code",
   "execution_count": 47,
   "metadata": {},
   "outputs": [],
   "source": [
    "# создание pipeline для LGBMRegressor\n",
    "pipe_lgbm = make_pipeline(ColumnTransformer([('num', StandardScaler(), numeric), \n",
    "                                             ('cat', OrdinalEncoder(), category)]), \n",
    "                          LGBMRegressor(random_state=42))\n",
    "\n",
    "# сетка параметров для GridSearchCV\n",
    "param_grid_lgbm = {'lgbmregressor__n_estimators' : [1300, 1400, 1500],\n",
    "                   'lgbmregressor__max_depth' : [5, 10]}                          "
   ]
  },
  {
   "cell_type": "code",
   "execution_count": 48,
   "metadata": {},
   "outputs": [
    {
     "name": "stdout",
     "output_type": "stream",
     "text": [
      "CPU times: total: 1min\n",
      "Wall time: 5min 29s\n"
     ]
    },
    {
     "data": {
      "text/html": [
       "<style>#sk-container-id-1 {color: black;background-color: white;}#sk-container-id-1 pre{padding: 0;}#sk-container-id-1 div.sk-toggleable {background-color: white;}#sk-container-id-1 label.sk-toggleable__label {cursor: pointer;display: block;width: 100%;margin-bottom: 0;padding: 0.3em;box-sizing: border-box;text-align: center;}#sk-container-id-1 label.sk-toggleable__label-arrow:before {content: \"▸\";float: left;margin-right: 0.25em;color: #696969;}#sk-container-id-1 label.sk-toggleable__label-arrow:hover:before {color: black;}#sk-container-id-1 div.sk-estimator:hover label.sk-toggleable__label-arrow:before {color: black;}#sk-container-id-1 div.sk-toggleable__content {max-height: 0;max-width: 0;overflow: hidden;text-align: left;background-color: #f0f8ff;}#sk-container-id-1 div.sk-toggleable__content pre {margin: 0.2em;color: black;border-radius: 0.25em;background-color: #f0f8ff;}#sk-container-id-1 input.sk-toggleable__control:checked~div.sk-toggleable__content {max-height: 200px;max-width: 100%;overflow: auto;}#sk-container-id-1 input.sk-toggleable__control:checked~label.sk-toggleable__label-arrow:before {content: \"▾\";}#sk-container-id-1 div.sk-estimator input.sk-toggleable__control:checked~label.sk-toggleable__label {background-color: #d4ebff;}#sk-container-id-1 div.sk-label input.sk-toggleable__control:checked~label.sk-toggleable__label {background-color: #d4ebff;}#sk-container-id-1 input.sk-hidden--visually {border: 0;clip: rect(1px 1px 1px 1px);clip: rect(1px, 1px, 1px, 1px);height: 1px;margin: -1px;overflow: hidden;padding: 0;position: absolute;width: 1px;}#sk-container-id-1 div.sk-estimator {font-family: monospace;background-color: #f0f8ff;border: 1px dotted black;border-radius: 0.25em;box-sizing: border-box;margin-bottom: 0.5em;}#sk-container-id-1 div.sk-estimator:hover {background-color: #d4ebff;}#sk-container-id-1 div.sk-parallel-item::after {content: \"\";width: 100%;border-bottom: 1px solid gray;flex-grow: 1;}#sk-container-id-1 div.sk-label:hover label.sk-toggleable__label {background-color: #d4ebff;}#sk-container-id-1 div.sk-serial::before {content: \"\";position: absolute;border-left: 1px solid gray;box-sizing: border-box;top: 0;bottom: 0;left: 50%;z-index: 0;}#sk-container-id-1 div.sk-serial {display: flex;flex-direction: column;align-items: center;background-color: white;padding-right: 0.2em;padding-left: 0.2em;position: relative;}#sk-container-id-1 div.sk-item {position: relative;z-index: 1;}#sk-container-id-1 div.sk-parallel {display: flex;align-items: stretch;justify-content: center;background-color: white;position: relative;}#sk-container-id-1 div.sk-item::before, #sk-container-id-1 div.sk-parallel-item::before {content: \"\";position: absolute;border-left: 1px solid gray;box-sizing: border-box;top: 0;bottom: 0;left: 50%;z-index: -1;}#sk-container-id-1 div.sk-parallel-item {display: flex;flex-direction: column;z-index: 1;position: relative;background-color: white;}#sk-container-id-1 div.sk-parallel-item:first-child::after {align-self: flex-end;width: 50%;}#sk-container-id-1 div.sk-parallel-item:last-child::after {align-self: flex-start;width: 50%;}#sk-container-id-1 div.sk-parallel-item:only-child::after {width: 0;}#sk-container-id-1 div.sk-dashed-wrapped {border: 1px dashed gray;margin: 0 0.4em 0.5em 0.4em;box-sizing: border-box;padding-bottom: 0.4em;background-color: white;}#sk-container-id-1 div.sk-label label {font-family: monospace;font-weight: bold;display: inline-block;line-height: 1.2em;}#sk-container-id-1 div.sk-label-container {text-align: center;}#sk-container-id-1 div.sk-container {/* jupyter's `normalize.less` sets `[hidden] { display: none; }` but bootstrap.min.css set `[hidden] { display: none !important; }` so we also need the `!important` here to be able to override the default hidden behavior on the sphinx rendered scikit-learn.org. See: https://github.com/scikit-learn/scikit-learn/issues/21755 */display: inline-block !important;position: relative;}#sk-container-id-1 div.sk-text-repr-fallback {display: none;}</style><div id=\"sk-container-id-1\" class=\"sk-top-container\"><div class=\"sk-text-repr-fallback\"><pre>GridSearchCV(cv=5,\n",
       "             estimator=Pipeline(steps=[(&#x27;columntransformer&#x27;,\n",
       "                                        ColumnTransformer(transformers=[(&#x27;num&#x27;,\n",
       "                                                                         StandardScaler(),\n",
       "                                                                         [&#x27;Power&#x27;,\n",
       "                                                                          &#x27;age&#x27;]),\n",
       "                                                                        (&#x27;cat&#x27;,\n",
       "                                                                         OrdinalEncoder(),\n",
       "                                                                         [&#x27;VehicleType&#x27;,\n",
       "                                                                          &#x27;Gearbox&#x27;,\n",
       "                                                                          &#x27;Model&#x27;,\n",
       "                                                                          &#x27;Kilometer&#x27;,\n",
       "                                                                          &#x27;FuelType&#x27;,\n",
       "                                                                          &#x27;Brand&#x27;,\n",
       "                                                                          &#x27;Repaired&#x27;])])),\n",
       "                                       (&#x27;lgbmregressor&#x27;,\n",
       "                                        LGBMRegressor(random_state=42))]),\n",
       "             n_jobs=-1,\n",
       "             param_grid={&#x27;lgbmregressor__max_depth&#x27;: [5, 10],\n",
       "                         &#x27;lgbmregressor__n_estimators&#x27;: [1300, 1400, 1500]},\n",
       "             scoring=&#x27;neg_root_mean_squared_error&#x27;)</pre><b>In a Jupyter environment, please rerun this cell to show the HTML representation or trust the notebook. <br />On GitHub, the HTML representation is unable to render, please try loading this page with nbviewer.org.</b></div><div class=\"sk-container\" hidden><div class=\"sk-item sk-dashed-wrapped\"><div class=\"sk-label-container\"><div class=\"sk-label sk-toggleable\"><input class=\"sk-toggleable__control sk-hidden--visually\" id=\"sk-estimator-id-1\" type=\"checkbox\" ><label for=\"sk-estimator-id-1\" class=\"sk-toggleable__label sk-toggleable__label-arrow\">GridSearchCV</label><div class=\"sk-toggleable__content\"><pre>GridSearchCV(cv=5,\n",
       "             estimator=Pipeline(steps=[(&#x27;columntransformer&#x27;,\n",
       "                                        ColumnTransformer(transformers=[(&#x27;num&#x27;,\n",
       "                                                                         StandardScaler(),\n",
       "                                                                         [&#x27;Power&#x27;,\n",
       "                                                                          &#x27;age&#x27;]),\n",
       "                                                                        (&#x27;cat&#x27;,\n",
       "                                                                         OrdinalEncoder(),\n",
       "                                                                         [&#x27;VehicleType&#x27;,\n",
       "                                                                          &#x27;Gearbox&#x27;,\n",
       "                                                                          &#x27;Model&#x27;,\n",
       "                                                                          &#x27;Kilometer&#x27;,\n",
       "                                                                          &#x27;FuelType&#x27;,\n",
       "                                                                          &#x27;Brand&#x27;,\n",
       "                                                                          &#x27;Repaired&#x27;])])),\n",
       "                                       (&#x27;lgbmregressor&#x27;,\n",
       "                                        LGBMRegressor(random_state=42))]),\n",
       "             n_jobs=-1,\n",
       "             param_grid={&#x27;lgbmregressor__max_depth&#x27;: [5, 10],\n",
       "                         &#x27;lgbmregressor__n_estimators&#x27;: [1300, 1400, 1500]},\n",
       "             scoring=&#x27;neg_root_mean_squared_error&#x27;)</pre></div></div></div><div class=\"sk-parallel\"><div class=\"sk-parallel-item\"><div class=\"sk-item\"><div class=\"sk-label-container\"><div class=\"sk-label sk-toggleable\"><input class=\"sk-toggleable__control sk-hidden--visually\" id=\"sk-estimator-id-2\" type=\"checkbox\" ><label for=\"sk-estimator-id-2\" class=\"sk-toggleable__label sk-toggleable__label-arrow\">estimator: Pipeline</label><div class=\"sk-toggleable__content\"><pre>Pipeline(steps=[(&#x27;columntransformer&#x27;,\n",
       "                 ColumnTransformer(transformers=[(&#x27;num&#x27;, StandardScaler(),\n",
       "                                                  [&#x27;Power&#x27;, &#x27;age&#x27;]),\n",
       "                                                 (&#x27;cat&#x27;, OrdinalEncoder(),\n",
       "                                                  [&#x27;VehicleType&#x27;, &#x27;Gearbox&#x27;,\n",
       "                                                   &#x27;Model&#x27;, &#x27;Kilometer&#x27;,\n",
       "                                                   &#x27;FuelType&#x27;, &#x27;Brand&#x27;,\n",
       "                                                   &#x27;Repaired&#x27;])])),\n",
       "                (&#x27;lgbmregressor&#x27;, LGBMRegressor(random_state=42))])</pre></div></div></div><div class=\"sk-serial\"><div class=\"sk-item\"><div class=\"sk-serial\"><div class=\"sk-item sk-dashed-wrapped\"><div class=\"sk-label-container\"><div class=\"sk-label sk-toggleable\"><input class=\"sk-toggleable__control sk-hidden--visually\" id=\"sk-estimator-id-3\" type=\"checkbox\" ><label for=\"sk-estimator-id-3\" class=\"sk-toggleable__label sk-toggleable__label-arrow\">columntransformer: ColumnTransformer</label><div class=\"sk-toggleable__content\"><pre>ColumnTransformer(transformers=[(&#x27;num&#x27;, StandardScaler(), [&#x27;Power&#x27;, &#x27;age&#x27;]),\n",
       "                                (&#x27;cat&#x27;, OrdinalEncoder(),\n",
       "                                 [&#x27;VehicleType&#x27;, &#x27;Gearbox&#x27;, &#x27;Model&#x27;,\n",
       "                                  &#x27;Kilometer&#x27;, &#x27;FuelType&#x27;, &#x27;Brand&#x27;,\n",
       "                                  &#x27;Repaired&#x27;])])</pre></div></div></div><div class=\"sk-parallel\"><div class=\"sk-parallel-item\"><div class=\"sk-item\"><div class=\"sk-label-container\"><div class=\"sk-label sk-toggleable\"><input class=\"sk-toggleable__control sk-hidden--visually\" id=\"sk-estimator-id-4\" type=\"checkbox\" ><label for=\"sk-estimator-id-4\" class=\"sk-toggleable__label sk-toggleable__label-arrow\">num</label><div class=\"sk-toggleable__content\"><pre>[&#x27;Power&#x27;, &#x27;age&#x27;]</pre></div></div></div><div class=\"sk-serial\"><div class=\"sk-item\"><div class=\"sk-estimator sk-toggleable\"><input class=\"sk-toggleable__control sk-hidden--visually\" id=\"sk-estimator-id-5\" type=\"checkbox\" ><label for=\"sk-estimator-id-5\" class=\"sk-toggleable__label sk-toggleable__label-arrow\">StandardScaler</label><div class=\"sk-toggleable__content\"><pre>StandardScaler()</pre></div></div></div></div></div></div><div class=\"sk-parallel-item\"><div class=\"sk-item\"><div class=\"sk-label-container\"><div class=\"sk-label sk-toggleable\"><input class=\"sk-toggleable__control sk-hidden--visually\" id=\"sk-estimator-id-6\" type=\"checkbox\" ><label for=\"sk-estimator-id-6\" class=\"sk-toggleable__label sk-toggleable__label-arrow\">cat</label><div class=\"sk-toggleable__content\"><pre>[&#x27;VehicleType&#x27;, &#x27;Gearbox&#x27;, &#x27;Model&#x27;, &#x27;Kilometer&#x27;, &#x27;FuelType&#x27;, &#x27;Brand&#x27;, &#x27;Repaired&#x27;]</pre></div></div></div><div class=\"sk-serial\"><div class=\"sk-item\"><div class=\"sk-estimator sk-toggleable\"><input class=\"sk-toggleable__control sk-hidden--visually\" id=\"sk-estimator-id-7\" type=\"checkbox\" ><label for=\"sk-estimator-id-7\" class=\"sk-toggleable__label sk-toggleable__label-arrow\">OrdinalEncoder</label><div class=\"sk-toggleable__content\"><pre>OrdinalEncoder()</pre></div></div></div></div></div></div></div></div><div class=\"sk-item\"><div class=\"sk-estimator sk-toggleable\"><input class=\"sk-toggleable__control sk-hidden--visually\" id=\"sk-estimator-id-8\" type=\"checkbox\" ><label for=\"sk-estimator-id-8\" class=\"sk-toggleable__label sk-toggleable__label-arrow\">LGBMRegressor</label><div class=\"sk-toggleable__content\"><pre>LGBMRegressor(random_state=42)</pre></div></div></div></div></div></div></div></div></div></div></div></div>"
      ],
      "text/plain": [
       "GridSearchCV(cv=5,\n",
       "             estimator=Pipeline(steps=[('columntransformer',\n",
       "                                        ColumnTransformer(transformers=[('num',\n",
       "                                                                         StandardScaler(),\n",
       "                                                                         ['Power',\n",
       "                                                                          'age']),\n",
       "                                                                        ('cat',\n",
       "                                                                         OrdinalEncoder(),\n",
       "                                                                         ['VehicleType',\n",
       "                                                                          'Gearbox',\n",
       "                                                                          'Model',\n",
       "                                                                          'Kilometer',\n",
       "                                                                          'FuelType',\n",
       "                                                                          'Brand',\n",
       "                                                                          'Repaired'])])),\n",
       "                                       ('lgbmregressor',\n",
       "                                        LGBMRegressor(random_state=42))]),\n",
       "             n_jobs=-1,\n",
       "             param_grid={'lgbmregressor__max_depth': [5, 10],\n",
       "                         'lgbmregressor__n_estimators': [1300, 1400, 1500]},\n",
       "             scoring='neg_root_mean_squared_error')"
      ]
     },
     "execution_count": 48,
     "metadata": {},
     "output_type": "execute_result"
    }
   ],
   "source": [
    "%%time\n",
    "\n",
    "# подбор лучших гиперпараметров модели кросс-валидацией\n",
    "GSCV_lgbm = GridSearchCV(pipe_lgbm, param_grid_lgbm, cv = 5, n_jobs=-1,\n",
    "                         scoring='neg_root_mean_squared_error')\n",
    "\n",
    "GSCV_lgbm.fit(features_train, target_train)"
   ]
  },
  {
   "cell_type": "code",
   "execution_count": 49,
   "metadata": {},
   "outputs": [
    {
     "data": {
      "text/plain": [
       "'RMSE: 1488'"
      ]
     },
     "metadata": {},
     "output_type": "display_data"
    },
    {
     "data": {
      "text/plain": [
       "'Среднее время обучения: 46.1930'"
      ]
     },
     "metadata": {},
     "output_type": "display_data"
    },
    {
     "data": {
      "text/plain": [
       "'Среднее время предсказания: 41.9070'"
      ]
     },
     "metadata": {},
     "output_type": "display_data"
    }
   ],
   "source": [
    "# вывод информации о лучшей модели\n",
    "model_info(GSCV_lgbm, features_train, target_train)"
   ]
  },
  {
   "cell_type": "markdown",
   "metadata": {},
   "source": [
    "### CatBoost регрессор"
   ]
  },
  {
   "cell_type": "code",
   "execution_count": 50,
   "metadata": {},
   "outputs": [],
   "source": [
    "# создание pipeline для CatBoostRegressor\n",
    "pipe_cat = make_pipeline(ColumnTransformer([('num', StandardScaler(), numeric), \n",
    "                                            ('cat', OrdinalEncoder(), category)]), \n",
    "                         CatBoostRegressor(random_state=42))\n",
    "\n",
    "# сетка параметров для GridSearchCV\n",
    "param_grid_cat = {'catboostregressor__max_depth' : [5, 10],\n",
    "                  'catboostregressor__n_estimators' : [1300, 1400, 1500]}"
   ]
  },
  {
   "cell_type": "code",
   "execution_count": 51,
   "metadata": {},
   "outputs": [
    {
     "name": "stdout",
     "output_type": "stream",
     "text": [
      "Learning rate set to 0.079307\n",
      "0:\tlearn: 4326.3257359\ttotal: 214ms\tremaining: 4m 38s\n",
      "1:\tlearn: 4116.7270417\ttotal: 256ms\tremaining: 2m 46s\n",
      "2:\tlearn: 3921.6617571\ttotal: 295ms\tremaining: 2m 7s\n",
      "3:\tlearn: 3752.8521631\ttotal: 325ms\tremaining: 1m 45s\n",
      "4:\tlearn: 3597.0696544\ttotal: 353ms\tremaining: 1m 31s\n",
      "5:\tlearn: 3455.2599069\ttotal: 379ms\tremaining: 1m 21s\n",
      "6:\tlearn: 3330.2111719\ttotal: 407ms\tremaining: 1m 15s\n",
      "7:\tlearn: 3219.8727222\ttotal: 435ms\tremaining: 1m 10s\n",
      "8:\tlearn: 3113.9884958\ttotal: 461ms\tremaining: 1m 6s\n",
      "9:\tlearn: 3022.1529912\ttotal: 486ms\tremaining: 1m 2s\n",
      "10:\tlearn: 2937.5221068\ttotal: 514ms\tremaining: 1m\n",
      "11:\tlearn: 2861.8122460\ttotal: 540ms\tremaining: 58s\n",
      "12:\tlearn: 2793.8473835\ttotal: 567ms\tremaining: 56.1s\n",
      "13:\tlearn: 2730.8208025\ttotal: 594ms\tremaining: 54.6s\n",
      "14:\tlearn: 2676.5852559\ttotal: 616ms\tremaining: 52.8s\n",
      "15:\tlearn: 2626.9254307\ttotal: 643ms\tremaining: 51.6s\n",
      "16:\tlearn: 2580.5868099\ttotal: 669ms\tremaining: 50.5s\n",
      "17:\tlearn: 2540.6626156\ttotal: 691ms\tremaining: 49.2s\n",
      "18:\tlearn: 2502.0951720\ttotal: 719ms\tremaining: 48.5s\n",
      "19:\tlearn: 2464.4434526\ttotal: 747ms\tremaining: 47.8s\n",
      "20:\tlearn: 2431.8410452\ttotal: 774ms\tremaining: 47.2s\n",
      "21:\tlearn: 2402.9217883\ttotal: 798ms\tremaining: 46.4s\n",
      "22:\tlearn: 2374.7862677\ttotal: 832ms\tremaining: 46.2s\n",
      "23:\tlearn: 2350.6515429\ttotal: 863ms\tremaining: 45.9s\n",
      "24:\tlearn: 2328.1033058\ttotal: 891ms\tremaining: 45.4s\n",
      "25:\tlearn: 2305.9864999\ttotal: 920ms\tremaining: 45.1s\n",
      "26:\tlearn: 2287.0600172\ttotal: 948ms\tremaining: 44.7s\n",
      "27:\tlearn: 2268.3631412\ttotal: 974ms\tremaining: 44.3s\n",
      "28:\tlearn: 2252.3980797\ttotal: 1s\tremaining: 43.9s\n",
      "29:\tlearn: 2237.2761929\ttotal: 1.03s\tremaining: 43.5s\n",
      "30:\tlearn: 2219.7969458\ttotal: 1.05s\tremaining: 43.1s\n",
      "31:\tlearn: 2206.7658830\ttotal: 1.08s\tremaining: 42.8s\n",
      "32:\tlearn: 2194.1438094\ttotal: 1.11s\tremaining: 42.6s\n",
      "33:\tlearn: 2182.4483046\ttotal: 1.13s\tremaining: 42.2s\n",
      "34:\tlearn: 2170.1620898\ttotal: 1.16s\tremaining: 41.8s\n",
      "35:\tlearn: 2160.1263022\ttotal: 1.18s\tremaining: 41.5s\n",
      "36:\tlearn: 2148.8040566\ttotal: 1.21s\tremaining: 41.2s\n",
      "37:\tlearn: 2138.1199335\ttotal: 1.24s\tremaining: 41.1s\n",
      "38:\tlearn: 2128.9633750\ttotal: 1.26s\tremaining: 40.8s\n",
      "39:\tlearn: 2120.1212858\ttotal: 1.29s\tremaining: 40.6s\n",
      "40:\tlearn: 2112.9245321\ttotal: 1.32s\tremaining: 40.4s\n",
      "41:\tlearn: 2104.5997314\ttotal: 1.34s\tremaining: 40.3s\n",
      "42:\tlearn: 2094.7905823\ttotal: 1.37s\tremaining: 40s\n",
      "43:\tlearn: 2088.2804927\ttotal: 1.4s\tremaining: 39.9s\n",
      "44:\tlearn: 2081.9283994\ttotal: 1.43s\tremaining: 39.8s\n",
      "45:\tlearn: 2076.4921834\ttotal: 1.45s\tremaining: 39.6s\n",
      "46:\tlearn: 2070.6960740\ttotal: 1.48s\tremaining: 39.5s\n",
      "47:\tlearn: 2064.5716938\ttotal: 1.51s\tremaining: 39.3s\n",
      "48:\tlearn: 2056.2041474\ttotal: 1.54s\tremaining: 39.2s\n",
      "49:\tlearn: 2050.2233326\ttotal: 1.56s\tremaining: 39.1s\n",
      "50:\tlearn: 2043.5115261\ttotal: 1.59s\tremaining: 38.9s\n",
      "51:\tlearn: 2038.2624205\ttotal: 1.61s\tremaining: 38.8s\n",
      "52:\tlearn: 2033.7086264\ttotal: 1.64s\tremaining: 38.6s\n",
      "53:\tlearn: 2026.6777178\ttotal: 1.67s\tremaining: 38.5s\n",
      "54:\tlearn: 2021.5341590\ttotal: 1.69s\tremaining: 38.3s\n",
      "55:\tlearn: 2016.1429801\ttotal: 1.72s\tremaining: 38.2s\n",
      "56:\tlearn: 2013.0837195\ttotal: 1.75s\tremaining: 38.2s\n",
      "57:\tlearn: 2008.3740887\ttotal: 1.77s\tremaining: 38s\n",
      "58:\tlearn: 2003.3338646\ttotal: 1.8s\tremaining: 37.9s\n",
      "59:\tlearn: 1998.7640084\ttotal: 1.83s\tremaining: 37.8s\n",
      "60:\tlearn: 1993.8757246\ttotal: 1.86s\tremaining: 37.7s\n",
      "61:\tlearn: 1991.1101362\ttotal: 1.88s\tremaining: 37.6s\n",
      "62:\tlearn: 1986.1227503\ttotal: 1.91s\tremaining: 37.5s\n",
      "63:\tlearn: 1982.4639102\ttotal: 1.94s\tremaining: 37.4s\n",
      "64:\tlearn: 1979.0561990\ttotal: 1.97s\tremaining: 37.4s\n",
      "65:\tlearn: 1976.3804287\ttotal: 1.99s\tremaining: 37.3s\n",
      "66:\tlearn: 1971.5325392\ttotal: 2.02s\tremaining: 37.3s\n",
      "67:\tlearn: 1968.8945044\ttotal: 2.05s\tremaining: 37.2s\n",
      "68:\tlearn: 1967.0051928\ttotal: 2.08s\tremaining: 37.1s\n",
      "69:\tlearn: 1964.2769546\ttotal: 2.11s\tremaining: 37.1s\n",
      "70:\tlearn: 1960.6309118\ttotal: 2.14s\tremaining: 37s\n",
      "71:\tlearn: 1958.0610143\ttotal: 2.16s\tremaining: 36.9s\n",
      "72:\tlearn: 1955.4546777\ttotal: 2.19s\tremaining: 36.8s\n",
      "73:\tlearn: 1951.3349999\ttotal: 2.22s\tremaining: 36.8s\n",
      "74:\tlearn: 1949.4489288\ttotal: 2.24s\tremaining: 36.6s\n",
      "75:\tlearn: 1946.0343993\ttotal: 2.27s\tremaining: 36.5s\n",
      "76:\tlearn: 1944.4257403\ttotal: 2.29s\tremaining: 36.4s\n",
      "77:\tlearn: 1942.7418336\ttotal: 2.32s\tremaining: 36.3s\n",
      "78:\tlearn: 1940.8071895\ttotal: 2.35s\tremaining: 36.3s\n",
      "79:\tlearn: 1937.9205721\ttotal: 2.38s\tremaining: 36.3s\n",
      "80:\tlearn: 1936.1000542\ttotal: 2.4s\tremaining: 36.2s\n",
      "81:\tlearn: 1934.4030168\ttotal: 2.43s\tremaining: 36.1s\n",
      "82:\tlearn: 1931.6356937\ttotal: 2.46s\tremaining: 36s\n",
      "83:\tlearn: 1928.6849370\ttotal: 2.48s\tremaining: 36s\n",
      "84:\tlearn: 1926.4631313\ttotal: 2.51s\tremaining: 35.9s\n",
      "85:\tlearn: 1922.1354535\ttotal: 2.54s\tremaining: 35.8s\n",
      "86:\tlearn: 1918.4886436\ttotal: 2.57s\tremaining: 35.9s\n",
      "87:\tlearn: 1916.6963022\ttotal: 2.6s\tremaining: 35.8s\n",
      "88:\tlearn: 1914.7246766\ttotal: 2.63s\tremaining: 35.7s\n",
      "89:\tlearn: 1913.3239266\ttotal: 2.65s\tremaining: 35.7s\n",
      "90:\tlearn: 1911.0193581\ttotal: 2.68s\tremaining: 35.6s\n",
      "91:\tlearn: 1908.0724977\ttotal: 2.71s\tremaining: 35.6s\n",
      "92:\tlearn: 1906.7130633\ttotal: 2.74s\tremaining: 35.6s\n",
      "93:\tlearn: 1904.3130032\ttotal: 2.77s\tremaining: 35.5s\n",
      "94:\tlearn: 1902.7167098\ttotal: 2.79s\tremaining: 35.5s\n",
      "95:\tlearn: 1900.5343920\ttotal: 2.83s\tremaining: 35.4s\n",
      "96:\tlearn: 1899.0019679\ttotal: 2.85s\tremaining: 35.3s\n",
      "97:\tlearn: 1897.5820858\ttotal: 2.88s\tremaining: 35.3s\n",
      "98:\tlearn: 1895.4580510\ttotal: 2.9s\tremaining: 35.2s\n",
      "99:\tlearn: 1893.7156319\ttotal: 2.92s\tremaining: 35.1s\n",
      "100:\tlearn: 1891.2625978\ttotal: 2.96s\tremaining: 35.1s\n",
      "101:\tlearn: 1889.7434263\ttotal: 2.98s\tremaining: 35s\n",
      "102:\tlearn: 1887.3825965\ttotal: 3.01s\tremaining: 35s\n",
      "103:\tlearn: 1885.2505618\ttotal: 3.04s\tremaining: 34.9s\n",
      "104:\tlearn: 1882.8931854\ttotal: 3.07s\tremaining: 34.9s\n",
      "105:\tlearn: 1881.9838280\ttotal: 3.1s\tremaining: 34.9s\n",
      "106:\tlearn: 1879.4924109\ttotal: 3.12s\tremaining: 34.8s\n",
      "107:\tlearn: 1877.4927832\ttotal: 3.15s\tremaining: 34.8s\n",
      "108:\tlearn: 1876.4104234\ttotal: 3.17s\tremaining: 34.7s\n",
      "109:\tlearn: 1875.0454169\ttotal: 3.2s\tremaining: 34.6s\n",
      "110:\tlearn: 1873.9995586\ttotal: 3.22s\tremaining: 34.5s\n",
      "111:\tlearn: 1872.8615280\ttotal: 3.25s\tremaining: 34.5s\n",
      "112:\tlearn: 1871.4497266\ttotal: 3.27s\tremaining: 34.4s\n",
      "113:\tlearn: 1870.0847313\ttotal: 3.3s\tremaining: 34.4s\n",
      "114:\tlearn: 1869.0814883\ttotal: 3.33s\tremaining: 34.3s\n",
      "115:\tlearn: 1867.3739138\ttotal: 3.35s\tremaining: 34.3s\n",
      "116:\tlearn: 1865.9584949\ttotal: 3.38s\tremaining: 34.2s\n",
      "117:\tlearn: 1864.7965343\ttotal: 3.41s\tremaining: 34.2s\n",
      "118:\tlearn: 1863.4986426\ttotal: 3.44s\tremaining: 34.1s\n",
      "119:\tlearn: 1861.0406619\ttotal: 3.47s\tremaining: 34.2s\n",
      "120:\tlearn: 1860.2014509\ttotal: 3.5s\tremaining: 34.1s\n",
      "121:\tlearn: 1858.5295235\ttotal: 3.53s\tremaining: 34.1s\n",
      "122:\tlearn: 1857.4757782\ttotal: 3.55s\tremaining: 34s\n",
      "123:\tlearn: 1856.0914103\ttotal: 3.58s\tremaining: 34s\n",
      "124:\tlearn: 1854.4259283\ttotal: 3.61s\tremaining: 33.9s\n",
      "125:\tlearn: 1853.5981302\ttotal: 3.64s\tremaining: 33.9s\n",
      "126:\tlearn: 1852.1613407\ttotal: 3.67s\tremaining: 33.9s\n",
      "127:\tlearn: 1850.1785370\ttotal: 3.7s\tremaining: 33.9s\n",
      "128:\tlearn: 1849.1501035\ttotal: 3.72s\tremaining: 33.8s\n",
      "129:\tlearn: 1847.6461628\ttotal: 3.75s\tremaining: 33.8s\n",
      "130:\tlearn: 1846.7114603\ttotal: 3.78s\tremaining: 33.7s\n",
      "131:\tlearn: 1845.6548175\ttotal: 3.8s\tremaining: 33.6s\n",
      "132:\tlearn: 1844.5714775\ttotal: 3.83s\tremaining: 33.6s\n",
      "133:\tlearn: 1843.8312716\ttotal: 3.85s\tremaining: 33.5s\n",
      "134:\tlearn: 1842.8499339\ttotal: 3.88s\tremaining: 33.5s\n",
      "135:\tlearn: 1841.4276106\ttotal: 3.91s\tremaining: 33.4s\n",
      "136:\tlearn: 1840.4260628\ttotal: 3.94s\tremaining: 33.4s\n",
      "137:\tlearn: 1839.3858900\ttotal: 3.96s\tremaining: 33.3s\n",
      "138:\tlearn: 1838.6449011\ttotal: 3.98s\tremaining: 33.3s\n",
      "139:\tlearn: 1837.8151953\ttotal: 4.01s\tremaining: 33.2s\n",
      "140:\tlearn: 1836.5326309\ttotal: 4.04s\tremaining: 33.2s\n",
      "141:\tlearn: 1835.5736404\ttotal: 4.07s\tremaining: 33.2s\n",
      "142:\tlearn: 1834.7866589\ttotal: 4.09s\tremaining: 33.1s\n",
      "143:\tlearn: 1833.7617931\ttotal: 4.11s\tremaining: 33s\n",
      "144:\tlearn: 1832.9770371\ttotal: 4.14s\tremaining: 33s\n",
      "145:\tlearn: 1831.3052616\ttotal: 4.17s\tremaining: 33s\n",
      "146:\tlearn: 1830.2874706\ttotal: 4.2s\tremaining: 32.9s\n",
      "147:\tlearn: 1828.7849027\ttotal: 4.22s\tremaining: 32.9s\n",
      "148:\tlearn: 1828.1409983\ttotal: 4.25s\tremaining: 32.8s\n",
      "149:\tlearn: 1827.2583951\ttotal: 4.27s\tremaining: 32.8s\n",
      "150:\tlearn: 1826.3524376\ttotal: 4.3s\tremaining: 32.7s\n",
      "151:\tlearn: 1825.6430514\ttotal: 4.32s\tremaining: 32.6s\n",
      "152:\tlearn: 1824.7273614\ttotal: 4.35s\tremaining: 32.6s\n",
      "153:\tlearn: 1823.7221989\ttotal: 4.37s\tremaining: 32.5s\n",
      "154:\tlearn: 1823.1396147\ttotal: 4.4s\tremaining: 32.5s\n",
      "155:\tlearn: 1822.4272363\ttotal: 4.42s\tremaining: 32.5s\n",
      "156:\tlearn: 1821.0780573\ttotal: 4.45s\tremaining: 32.4s\n",
      "157:\tlearn: 1820.1867495\ttotal: 4.48s\tremaining: 32.4s\n",
      "158:\tlearn: 1819.3372011\ttotal: 4.51s\tremaining: 32.3s\n"
     ]
    },
    {
     "name": "stdout",
     "output_type": "stream",
     "text": [
      "159:\tlearn: 1818.4763934\ttotal: 4.53s\tremaining: 32.3s\n",
      "160:\tlearn: 1817.5888197\ttotal: 4.56s\tremaining: 32.2s\n",
      "161:\tlearn: 1816.8599358\ttotal: 4.59s\tremaining: 32.2s\n",
      "162:\tlearn: 1815.8833490\ttotal: 4.62s\tremaining: 32.2s\n",
      "163:\tlearn: 1815.1786201\ttotal: 4.65s\tremaining: 32.2s\n",
      "164:\tlearn: 1814.6398296\ttotal: 4.67s\tremaining: 32.1s\n",
      "165:\tlearn: 1813.9767512\ttotal: 4.7s\tremaining: 32.1s\n",
      "166:\tlearn: 1812.7120059\ttotal: 4.74s\tremaining: 32.1s\n",
      "167:\tlearn: 1811.8279163\ttotal: 4.76s\tremaining: 32.1s\n",
      "168:\tlearn: 1810.8756269\ttotal: 4.79s\tremaining: 32s\n",
      "169:\tlearn: 1810.1333643\ttotal: 4.82s\tremaining: 32s\n",
      "170:\tlearn: 1809.4440840\ttotal: 4.84s\tremaining: 32s\n",
      "171:\tlearn: 1809.0938636\ttotal: 4.87s\tremaining: 32s\n",
      "172:\tlearn: 1808.5594077\ttotal: 4.9s\tremaining: 31.9s\n",
      "173:\tlearn: 1807.7209866\ttotal: 4.92s\tremaining: 31.9s\n",
      "174:\tlearn: 1806.9388257\ttotal: 4.95s\tremaining: 31.8s\n",
      "175:\tlearn: 1806.3968342\ttotal: 4.98s\tremaining: 31.8s\n",
      "176:\tlearn: 1805.6459795\ttotal: 5.01s\tremaining: 31.8s\n",
      "177:\tlearn: 1804.2440787\ttotal: 5.04s\tremaining: 31.8s\n",
      "178:\tlearn: 1803.3738917\ttotal: 5.07s\tremaining: 31.7s\n",
      "179:\tlearn: 1802.3318524\ttotal: 5.09s\tremaining: 31.7s\n",
      "180:\tlearn: 1801.7067513\ttotal: 5.12s\tremaining: 31.6s\n",
      "181:\tlearn: 1801.2108229\ttotal: 5.14s\tremaining: 31.6s\n",
      "182:\tlearn: 1800.6333514\ttotal: 5.17s\tremaining: 31.6s\n",
      "183:\tlearn: 1799.9075185\ttotal: 5.2s\tremaining: 31.5s\n",
      "184:\tlearn: 1799.2432505\ttotal: 5.22s\tremaining: 31.5s\n",
      "185:\tlearn: 1798.8051458\ttotal: 5.25s\tremaining: 31.4s\n",
      "186:\tlearn: 1798.2112222\ttotal: 5.27s\tremaining: 31.4s\n",
      "187:\tlearn: 1797.5852115\ttotal: 5.3s\tremaining: 31.4s\n",
      "188:\tlearn: 1797.0828587\ttotal: 5.33s\tremaining: 31.3s\n",
      "189:\tlearn: 1796.3776132\ttotal: 5.35s\tremaining: 31.3s\n",
      "190:\tlearn: 1795.5484876\ttotal: 5.38s\tremaining: 31.2s\n",
      "191:\tlearn: 1794.6924595\ttotal: 5.4s\tremaining: 31.2s\n",
      "192:\tlearn: 1794.2864644\ttotal: 5.43s\tremaining: 31.1s\n",
      "193:\tlearn: 1793.9547321\ttotal: 5.46s\tremaining: 31.1s\n",
      "194:\tlearn: 1793.4367156\ttotal: 5.48s\tremaining: 31.1s\n",
      "195:\tlearn: 1792.6878208\ttotal: 5.51s\tremaining: 31s\n",
      "196:\tlearn: 1792.1587165\ttotal: 5.54s\tremaining: 31s\n",
      "197:\tlearn: 1790.9959379\ttotal: 5.56s\tremaining: 31s\n",
      "198:\tlearn: 1790.4651254\ttotal: 5.59s\tremaining: 30.9s\n",
      "199:\tlearn: 1789.7657364\ttotal: 5.62s\tremaining: 30.9s\n",
      "200:\tlearn: 1789.0413325\ttotal: 5.64s\tremaining: 30.9s\n",
      "201:\tlearn: 1788.3093290\ttotal: 5.67s\tremaining: 30.8s\n",
      "202:\tlearn: 1787.8749632\ttotal: 5.7s\tremaining: 30.8s\n",
      "203:\tlearn: 1787.3153195\ttotal: 5.72s\tremaining: 30.8s\n",
      "204:\tlearn: 1786.9885519\ttotal: 5.75s\tremaining: 30.7s\n",
      "205:\tlearn: 1785.6787492\ttotal: 5.78s\tremaining: 30.7s\n",
      "206:\tlearn: 1784.9138394\ttotal: 5.8s\tremaining: 30.6s\n",
      "207:\tlearn: 1783.7097910\ttotal: 5.83s\tremaining: 30.6s\n",
      "208:\tlearn: 1783.0932555\ttotal: 5.86s\tremaining: 30.6s\n",
      "209:\tlearn: 1782.8139090\ttotal: 5.88s\tremaining: 30.5s\n",
      "210:\tlearn: 1782.1786322\ttotal: 5.91s\tremaining: 30.5s\n",
      "211:\tlearn: 1781.5533788\ttotal: 5.94s\tremaining: 30.5s\n",
      "212:\tlearn: 1781.0114534\ttotal: 5.96s\tremaining: 30.4s\n",
      "213:\tlearn: 1780.6299024\ttotal: 5.99s\tremaining: 30.4s\n",
      "214:\tlearn: 1779.5967676\ttotal: 6.02s\tremaining: 30.4s\n",
      "215:\tlearn: 1779.1079868\ttotal: 6.05s\tremaining: 30.4s\n",
      "216:\tlearn: 1778.2646647\ttotal: 6.08s\tremaining: 30.3s\n",
      "217:\tlearn: 1777.8403522\ttotal: 6.11s\tremaining: 30.3s\n",
      "218:\tlearn: 1777.3639150\ttotal: 6.14s\tremaining: 30.3s\n",
      "219:\tlearn: 1776.3439097\ttotal: 6.17s\tremaining: 30.3s\n",
      "220:\tlearn: 1775.8186628\ttotal: 6.19s\tremaining: 30.2s\n",
      "221:\tlearn: 1775.6251173\ttotal: 6.21s\tremaining: 30.2s\n",
      "222:\tlearn: 1774.8629017\ttotal: 6.24s\tremaining: 30.1s\n",
      "223:\tlearn: 1774.4229359\ttotal: 6.27s\tremaining: 30.1s\n",
      "224:\tlearn: 1773.9780428\ttotal: 6.3s\tremaining: 30.1s\n",
      "225:\tlearn: 1773.6494398\ttotal: 6.33s\tremaining: 30.1s\n",
      "226:\tlearn: 1773.0761780\ttotal: 6.35s\tremaining: 30s\n",
      "227:\tlearn: 1772.5972765\ttotal: 6.38s\tremaining: 30s\n",
      "228:\tlearn: 1771.9071291\ttotal: 6.41s\tremaining: 30s\n",
      "229:\tlearn: 1771.2616064\ttotal: 6.44s\tremaining: 29.9s\n",
      "230:\tlearn: 1770.3256242\ttotal: 6.47s\tremaining: 29.9s\n",
      "231:\tlearn: 1769.5507445\ttotal: 6.5s\tremaining: 29.9s\n",
      "232:\tlearn: 1769.0655873\ttotal: 6.53s\tremaining: 29.9s\n",
      "233:\tlearn: 1768.4557331\ttotal: 6.55s\tremaining: 29.9s\n",
      "234:\tlearn: 1768.0408488\ttotal: 6.58s\tremaining: 29.8s\n",
      "235:\tlearn: 1767.5062554\ttotal: 6.61s\tremaining: 29.8s\n",
      "236:\tlearn: 1767.0968980\ttotal: 6.65s\tremaining: 29.8s\n",
      "237:\tlearn: 1766.8388819\ttotal: 6.67s\tremaining: 29.8s\n",
      "238:\tlearn: 1766.1901849\ttotal: 6.71s\tremaining: 29.8s\n",
      "239:\tlearn: 1765.5111036\ttotal: 6.74s\tremaining: 29.8s\n",
      "240:\tlearn: 1765.4006130\ttotal: 6.76s\tremaining: 29.7s\n",
      "241:\tlearn: 1764.7107136\ttotal: 6.79s\tremaining: 29.7s\n",
      "242:\tlearn: 1764.0458604\ttotal: 6.82s\tremaining: 29.7s\n",
      "243:\tlearn: 1763.6157035\ttotal: 6.84s\tremaining: 29.6s\n",
      "244:\tlearn: 1763.3063413\ttotal: 6.87s\tremaining: 29.6s\n",
      "245:\tlearn: 1762.5431106\ttotal: 6.9s\tremaining: 29.6s\n",
      "246:\tlearn: 1762.1895661\ttotal: 6.93s\tremaining: 29.6s\n",
      "247:\tlearn: 1762.0730471\ttotal: 6.96s\tremaining: 29.5s\n",
      "248:\tlearn: 1761.4431558\ttotal: 6.99s\tremaining: 29.5s\n",
      "249:\tlearn: 1761.1143438\ttotal: 7.01s\tremaining: 29.5s\n",
      "250:\tlearn: 1760.3631973\ttotal: 7.05s\tremaining: 29.5s\n",
      "251:\tlearn: 1760.0152838\ttotal: 7.07s\tremaining: 29.4s\n",
      "252:\tlearn: 1759.8848227\ttotal: 7.1s\tremaining: 29.4s\n",
      "253:\tlearn: 1759.2675802\ttotal: 7.13s\tremaining: 29.4s\n",
      "254:\tlearn: 1758.6085766\ttotal: 7.15s\tremaining: 29.3s\n",
      "255:\tlearn: 1758.3862704\ttotal: 7.17s\tremaining: 29.3s\n",
      "256:\tlearn: 1757.7453458\ttotal: 7.21s\tremaining: 29.3s\n",
      "257:\tlearn: 1757.3199705\ttotal: 7.24s\tremaining: 29.2s\n",
      "258:\tlearn: 1757.1873868\ttotal: 7.27s\tremaining: 29.2s\n",
      "259:\tlearn: 1756.8276763\ttotal: 7.29s\tremaining: 29.2s\n",
      "260:\tlearn: 1756.3890458\ttotal: 7.32s\tremaining: 29.2s\n",
      "261:\tlearn: 1755.6830900\ttotal: 7.36s\tremaining: 29.2s\n",
      "262:\tlearn: 1755.5310979\ttotal: 7.39s\tremaining: 29.1s\n",
      "263:\tlearn: 1754.9307450\ttotal: 7.42s\tremaining: 29.1s\n",
      "264:\tlearn: 1754.5671698\ttotal: 7.45s\tremaining: 29.1s\n",
      "265:\tlearn: 1754.2539197\ttotal: 7.48s\tremaining: 29.1s\n",
      "266:\tlearn: 1753.8091119\ttotal: 7.5s\tremaining: 29s\n",
      "267:\tlearn: 1753.2857147\ttotal: 7.53s\tremaining: 29s\n",
      "268:\tlearn: 1752.9347771\ttotal: 7.56s\tremaining: 29s\n",
      "269:\tlearn: 1752.6418900\ttotal: 7.58s\tremaining: 28.9s\n",
      "270:\tlearn: 1752.0346207\ttotal: 7.62s\tremaining: 28.9s\n",
      "271:\tlearn: 1751.5900559\ttotal: 7.65s\tremaining: 28.9s\n",
      "272:\tlearn: 1751.3998526\ttotal: 7.68s\tremaining: 28.9s\n",
      "273:\tlearn: 1750.9144893\ttotal: 7.71s\tremaining: 28.9s\n",
      "274:\tlearn: 1750.3694224\ttotal: 7.73s\tremaining: 28.8s\n",
      "275:\tlearn: 1749.9265658\ttotal: 7.75s\tremaining: 28.8s\n",
      "276:\tlearn: 1749.7725858\ttotal: 7.78s\tremaining: 28.7s\n",
      "277:\tlearn: 1749.4658183\ttotal: 7.81s\tremaining: 28.7s\n",
      "278:\tlearn: 1749.3350094\ttotal: 7.84s\tremaining: 28.7s\n",
      "279:\tlearn: 1749.1030278\ttotal: 7.87s\tremaining: 28.7s\n",
      "280:\tlearn: 1748.8310371\ttotal: 7.89s\tremaining: 28.6s\n",
      "281:\tlearn: 1748.4404898\ttotal: 7.92s\tremaining: 28.6s\n",
      "282:\tlearn: 1747.8689558\ttotal: 7.96s\tremaining: 28.6s\n",
      "283:\tlearn: 1747.6138471\ttotal: 7.99s\tremaining: 28.6s\n",
      "284:\tlearn: 1747.2981928\ttotal: 8.02s\tremaining: 28.5s\n",
      "285:\tlearn: 1746.9430385\ttotal: 8.04s\tremaining: 28.5s\n",
      "286:\tlearn: 1746.5318286\ttotal: 8.08s\tremaining: 28.5s\n",
      "287:\tlearn: 1746.0452678\ttotal: 8.11s\tremaining: 28.5s\n",
      "288:\tlearn: 1745.6743094\ttotal: 8.14s\tremaining: 28.5s\n",
      "289:\tlearn: 1745.1982667\ttotal: 8.17s\tremaining: 28.4s\n",
      "290:\tlearn: 1745.0669495\ttotal: 8.2s\tremaining: 28.4s\n",
      "291:\tlearn: 1744.7525482\ttotal: 8.22s\tremaining: 28.4s\n",
      "292:\tlearn: 1744.4423958\ttotal: 8.28s\tremaining: 28.5s\n",
      "293:\tlearn: 1744.1637663\ttotal: 8.31s\tremaining: 28.4s\n",
      "294:\tlearn: 1743.9955127\ttotal: 8.34s\tremaining: 28.4s\n",
      "295:\tlearn: 1743.7235692\ttotal: 8.37s\tremaining: 28.4s\n",
      "296:\tlearn: 1743.2642366\ttotal: 8.39s\tremaining: 28.3s\n",
      "297:\tlearn: 1742.8956552\ttotal: 8.41s\tremaining: 28.3s\n",
      "298:\tlearn: 1742.5093390\ttotal: 8.44s\tremaining: 28.3s\n",
      "299:\tlearn: 1742.1772490\ttotal: 8.47s\tremaining: 28.2s\n",
      "300:\tlearn: 1742.0823777\ttotal: 8.5s\tremaining: 28.2s\n",
      "301:\tlearn: 1741.5915267\ttotal: 8.53s\tremaining: 28.2s\n",
      "302:\tlearn: 1741.2431261\ttotal: 8.55s\tremaining: 28.2s\n",
      "303:\tlearn: 1740.9448246\ttotal: 8.58s\tremaining: 28.1s\n",
      "304:\tlearn: 1740.6565190\ttotal: 8.61s\tremaining: 28.1s\n",
      "305:\tlearn: 1740.3350801\ttotal: 8.63s\tremaining: 28s\n",
      "306:\tlearn: 1739.8959971\ttotal: 8.66s\tremaining: 28s\n",
      "307:\tlearn: 1739.2724890\ttotal: 8.69s\tremaining: 28s\n",
      "308:\tlearn: 1738.8841387\ttotal: 8.71s\tremaining: 28s\n",
      "309:\tlearn: 1738.5327457\ttotal: 8.75s\tremaining: 27.9s\n"
     ]
    },
    {
     "name": "stdout",
     "output_type": "stream",
     "text": [
      "310:\tlearn: 1738.2254525\ttotal: 8.78s\tremaining: 27.9s\n",
      "311:\tlearn: 1737.9018070\ttotal: 8.81s\tremaining: 27.9s\n",
      "312:\tlearn: 1737.5211096\ttotal: 8.83s\tremaining: 27.8s\n",
      "313:\tlearn: 1737.1350788\ttotal: 8.85s\tremaining: 27.8s\n",
      "314:\tlearn: 1737.0281627\ttotal: 8.88s\tremaining: 27.8s\n",
      "315:\tlearn: 1736.5927922\ttotal: 8.91s\tremaining: 27.8s\n",
      "316:\tlearn: 1736.3644945\ttotal: 8.94s\tremaining: 27.7s\n",
      "317:\tlearn: 1736.0314607\ttotal: 8.97s\tremaining: 27.7s\n",
      "318:\tlearn: 1735.6548429\ttotal: 8.99s\tremaining: 27.7s\n",
      "319:\tlearn: 1735.1039736\ttotal: 9.03s\tremaining: 27.7s\n",
      "320:\tlearn: 1734.8050026\ttotal: 9.06s\tremaining: 27.6s\n",
      "321:\tlearn: 1734.5201649\ttotal: 9.08s\tremaining: 27.6s\n",
      "322:\tlearn: 1734.1838420\ttotal: 9.11s\tremaining: 27.6s\n",
      "323:\tlearn: 1733.7550736\ttotal: 9.13s\tremaining: 27.5s\n",
      "324:\tlearn: 1733.4840326\ttotal: 9.17s\tremaining: 27.5s\n",
      "325:\tlearn: 1733.2395631\ttotal: 9.19s\tremaining: 27.5s\n",
      "326:\tlearn: 1732.9773681\ttotal: 9.22s\tremaining: 27.4s\n",
      "327:\tlearn: 1732.5430733\ttotal: 9.26s\tremaining: 27.4s\n",
      "328:\tlearn: 1732.2098268\ttotal: 9.29s\tremaining: 27.4s\n",
      "329:\tlearn: 1731.7871275\ttotal: 9.32s\tremaining: 27.4s\n",
      "330:\tlearn: 1731.6069051\ttotal: 9.35s\tremaining: 27.4s\n",
      "331:\tlearn: 1731.1494961\ttotal: 9.38s\tremaining: 27.4s\n",
      "332:\tlearn: 1730.8042335\ttotal: 9.41s\tremaining: 27.3s\n",
      "333:\tlearn: 1730.6972360\ttotal: 9.44s\tremaining: 27.3s\n",
      "334:\tlearn: 1730.3061591\ttotal: 9.48s\tremaining: 27.3s\n",
      "335:\tlearn: 1730.2287050\ttotal: 9.51s\tremaining: 27.3s\n",
      "336:\tlearn: 1730.1034752\ttotal: 9.53s\tremaining: 27.2s\n",
      "337:\tlearn: 1729.6540624\ttotal: 9.56s\tremaining: 27.2s\n",
      "338:\tlearn: 1729.3798444\ttotal: 9.59s\tremaining: 27.2s\n",
      "339:\tlearn: 1728.9842020\ttotal: 9.62s\tremaining: 27.2s\n",
      "340:\tlearn: 1728.6488276\ttotal: 9.64s\tremaining: 27.1s\n",
      "341:\tlearn: 1728.2284381\ttotal: 9.67s\tremaining: 27.1s\n",
      "342:\tlearn: 1727.7844417\ttotal: 9.7s\tremaining: 27.1s\n",
      "343:\tlearn: 1727.3785438\ttotal: 9.72s\tremaining: 27s\n",
      "344:\tlearn: 1727.1330672\ttotal: 9.75s\tremaining: 27s\n",
      "345:\tlearn: 1726.8704744\ttotal: 9.78s\tremaining: 27s\n",
      "346:\tlearn: 1726.6404742\ttotal: 9.8s\tremaining: 26.9s\n",
      "347:\tlearn: 1726.2951783\ttotal: 9.83s\tremaining: 26.9s\n",
      "348:\tlearn: 1726.1128007\ttotal: 9.86s\tremaining: 26.9s\n",
      "349:\tlearn: 1725.8855787\ttotal: 9.89s\tremaining: 26.9s\n",
      "350:\tlearn: 1725.6553004\ttotal: 9.92s\tremaining: 26.8s\n",
      "351:\tlearn: 1725.5571267\ttotal: 9.95s\tremaining: 26.8s\n",
      "352:\tlearn: 1725.1113959\ttotal: 9.97s\tremaining: 26.8s\n",
      "353:\tlearn: 1724.6772389\ttotal: 10s\tremaining: 26.7s\n",
      "354:\tlearn: 1724.2211424\ttotal: 10s\tremaining: 26.7s\n",
      "355:\tlearn: 1723.9502046\ttotal: 10.1s\tremaining: 26.7s\n",
      "356:\tlearn: 1723.6511659\ttotal: 10.1s\tremaining: 26.7s\n",
      "357:\tlearn: 1723.1712186\ttotal: 10.1s\tremaining: 26.6s\n",
      "358:\tlearn: 1722.8725622\ttotal: 10.1s\tremaining: 26.6s\n",
      "359:\tlearn: 1722.6659664\ttotal: 10.2s\tremaining: 26.6s\n",
      "360:\tlearn: 1722.4388483\ttotal: 10.2s\tremaining: 26.5s\n",
      "361:\tlearn: 1722.1023631\ttotal: 10.2s\tremaining: 26.5s\n",
      "362:\tlearn: 1721.7783622\ttotal: 10.3s\tremaining: 26.5s\n",
      "363:\tlearn: 1721.4783732\ttotal: 10.3s\tremaining: 26.4s\n",
      "364:\tlearn: 1721.4229711\ttotal: 10.3s\tremaining: 26.4s\n",
      "365:\tlearn: 1721.1539488\ttotal: 10.3s\tremaining: 26.4s\n",
      "366:\tlearn: 1720.9696273\ttotal: 10.4s\tremaining: 26.3s\n",
      "367:\tlearn: 1720.8085684\ttotal: 10.4s\tremaining: 26.3s\n",
      "368:\tlearn: 1720.3645431\ttotal: 10.4s\tremaining: 26.3s\n",
      "369:\tlearn: 1720.1307664\ttotal: 10.5s\tremaining: 26.3s\n",
      "370:\tlearn: 1720.0172437\ttotal: 10.5s\tremaining: 26.2s\n",
      "371:\tlearn: 1719.7778510\ttotal: 10.5s\tremaining: 26.2s\n",
      "372:\tlearn: 1719.3703379\ttotal: 10.5s\tremaining: 26.2s\n",
      "373:\tlearn: 1719.0196407\ttotal: 10.6s\tremaining: 26.2s\n",
      "374:\tlearn: 1718.7863527\ttotal: 10.6s\tremaining: 26.1s\n",
      "375:\tlearn: 1718.5994401\ttotal: 10.6s\tremaining: 26.1s\n",
      "376:\tlearn: 1718.3528911\ttotal: 10.6s\tremaining: 26.1s\n",
      "377:\tlearn: 1718.1004186\ttotal: 10.7s\tremaining: 26s\n",
      "378:\tlearn: 1717.8901942\ttotal: 10.7s\tremaining: 26s\n",
      "379:\tlearn: 1717.5003386\ttotal: 10.7s\tremaining: 26s\n",
      "380:\tlearn: 1717.2839293\ttotal: 10.7s\tremaining: 25.9s\n",
      "381:\tlearn: 1716.9744028\ttotal: 10.8s\tremaining: 25.9s\n",
      "382:\tlearn: 1716.8475433\ttotal: 10.8s\tremaining: 25.9s\n",
      "383:\tlearn: 1716.6061301\ttotal: 10.8s\tremaining: 25.8s\n",
      "384:\tlearn: 1716.3886875\ttotal: 10.9s\tremaining: 25.8s\n",
      "385:\tlearn: 1716.1191969\ttotal: 10.9s\tremaining: 25.8s\n",
      "386:\tlearn: 1715.8309523\ttotal: 10.9s\tremaining: 25.7s\n",
      "387:\tlearn: 1715.4852337\ttotal: 10.9s\tremaining: 25.7s\n",
      "388:\tlearn: 1715.2845762\ttotal: 11s\tremaining: 25.7s\n",
      "389:\tlearn: 1715.0045702\ttotal: 11s\tremaining: 25.7s\n",
      "390:\tlearn: 1714.6669129\ttotal: 11s\tremaining: 25.6s\n",
      "391:\tlearn: 1714.3643744\ttotal: 11s\tremaining: 25.6s\n",
      "392:\tlearn: 1714.0690430\ttotal: 11.1s\tremaining: 25.6s\n",
      "393:\tlearn: 1713.9128811\ttotal: 11.1s\tremaining: 25.5s\n",
      "394:\tlearn: 1713.8005833\ttotal: 11.1s\tremaining: 25.5s\n",
      "395:\tlearn: 1713.5488063\ttotal: 11.1s\tremaining: 25.5s\n",
      "396:\tlearn: 1713.4010630\ttotal: 11.2s\tremaining: 25.4s\n",
      "397:\tlearn: 1712.9774194\ttotal: 11.2s\tremaining: 25.4s\n",
      "398:\tlearn: 1712.6454049\ttotal: 11.2s\tremaining: 25.4s\n",
      "399:\tlearn: 1712.3579322\ttotal: 11.3s\tremaining: 25.3s\n",
      "400:\tlearn: 1711.9408601\ttotal: 11.3s\tremaining: 25.3s\n",
      "401:\tlearn: 1711.6570857\ttotal: 11.3s\tremaining: 25.3s\n",
      "402:\tlearn: 1711.3894476\ttotal: 11.3s\tremaining: 25.2s\n",
      "403:\tlearn: 1711.2763638\ttotal: 11.4s\tremaining: 25.2s\n",
      "404:\tlearn: 1710.8905173\ttotal: 11.4s\tremaining: 25.2s\n",
      "405:\tlearn: 1710.6968148\ttotal: 11.4s\tremaining: 25.1s\n",
      "406:\tlearn: 1710.4693680\ttotal: 11.4s\tremaining: 25.1s\n",
      "407:\tlearn: 1710.1723340\ttotal: 11.5s\tremaining: 25.1s\n",
      "408:\tlearn: 1709.9051402\ttotal: 11.5s\tremaining: 25.1s\n",
      "409:\tlearn: 1709.6245780\ttotal: 11.5s\tremaining: 25s\n",
      "410:\tlearn: 1709.4629409\ttotal: 11.6s\tremaining: 25s\n",
      "411:\tlearn: 1709.0702330\ttotal: 11.6s\tremaining: 25s\n",
      "412:\tlearn: 1708.7778435\ttotal: 11.6s\tremaining: 24.9s\n",
      "413:\tlearn: 1708.5280996\ttotal: 11.6s\tremaining: 24.9s\n",
      "414:\tlearn: 1708.3248400\ttotal: 11.7s\tremaining: 24.9s\n",
      "415:\tlearn: 1708.1451807\ttotal: 11.7s\tremaining: 24.9s\n",
      "416:\tlearn: 1707.8280741\ttotal: 11.7s\tremaining: 24.8s\n",
      "417:\tlearn: 1707.6236714\ttotal: 11.8s\tremaining: 24.8s\n",
      "418:\tlearn: 1707.4458257\ttotal: 11.8s\tremaining: 24.8s\n",
      "419:\tlearn: 1707.1636802\ttotal: 11.8s\tremaining: 24.7s\n",
      "420:\tlearn: 1706.8367155\ttotal: 11.8s\tremaining: 24.7s\n",
      "421:\tlearn: 1706.5197744\ttotal: 11.9s\tremaining: 24.7s\n",
      "422:\tlearn: 1706.1214809\ttotal: 11.9s\tremaining: 24.7s\n",
      "423:\tlearn: 1705.8704247\ttotal: 11.9s\tremaining: 24.6s\n",
      "424:\tlearn: 1705.6160903\ttotal: 12s\tremaining: 24.6s\n",
      "425:\tlearn: 1705.4791773\ttotal: 12s\tremaining: 24.6s\n",
      "426:\tlearn: 1705.3165164\ttotal: 12s\tremaining: 24.5s\n",
      "427:\tlearn: 1705.1138866\ttotal: 12s\tremaining: 24.5s\n",
      "428:\tlearn: 1704.9441682\ttotal: 12.1s\tremaining: 24.5s\n",
      "429:\tlearn: 1704.6106956\ttotal: 12.1s\tremaining: 24.5s\n",
      "430:\tlearn: 1704.4795779\ttotal: 12.1s\tremaining: 24.4s\n",
      "431:\tlearn: 1704.0848430\ttotal: 12.1s\tremaining: 24.4s\n",
      "432:\tlearn: 1703.9959183\ttotal: 12.2s\tremaining: 24.4s\n",
      "433:\tlearn: 1703.7887352\ttotal: 12.2s\tremaining: 24.4s\n",
      "434:\tlearn: 1703.5782256\ttotal: 12.2s\tremaining: 24.3s\n",
      "435:\tlearn: 1703.3852007\ttotal: 12.3s\tremaining: 24.3s\n",
      "436:\tlearn: 1703.0615605\ttotal: 12.3s\tremaining: 24.3s\n",
      "437:\tlearn: 1702.7488104\ttotal: 12.3s\tremaining: 24.2s\n",
      "438:\tlearn: 1702.5409585\ttotal: 12.3s\tremaining: 24.2s\n",
      "439:\tlearn: 1702.2119135\ttotal: 12.4s\tremaining: 24.2s\n",
      "440:\tlearn: 1701.9469421\ttotal: 12.4s\tremaining: 24.1s\n",
      "441:\tlearn: 1701.6425191\ttotal: 12.4s\tremaining: 24.1s\n",
      "442:\tlearn: 1701.5137418\ttotal: 12.4s\tremaining: 24.1s\n",
      "443:\tlearn: 1701.1909983\ttotal: 12.5s\tremaining: 24.1s\n",
      "444:\tlearn: 1700.8988826\ttotal: 12.5s\tremaining: 24s\n",
      "445:\tlearn: 1700.7640438\ttotal: 12.5s\tremaining: 24s\n",
      "446:\tlearn: 1700.6137447\ttotal: 12.6s\tremaining: 24s\n",
      "447:\tlearn: 1700.4419939\ttotal: 12.6s\tremaining: 23.9s\n",
      "448:\tlearn: 1700.2885002\ttotal: 12.6s\tremaining: 23.9s\n",
      "449:\tlearn: 1700.0547730\ttotal: 12.6s\tremaining: 23.9s\n",
      "450:\tlearn: 1699.8466767\ttotal: 12.7s\tremaining: 23.8s\n",
      "451:\tlearn: 1699.4461549\ttotal: 12.7s\tremaining: 23.8s\n",
      "452:\tlearn: 1699.2932980\ttotal: 12.7s\tremaining: 23.8s\n",
      "453:\tlearn: 1699.0712308\ttotal: 12.8s\tremaining: 23.8s\n",
      "454:\tlearn: 1698.7129798\ttotal: 12.8s\tremaining: 23.7s\n",
      "455:\tlearn: 1698.4855383\ttotal: 12.8s\tremaining: 23.7s\n",
      "456:\tlearn: 1698.3403682\ttotal: 12.8s\tremaining: 23.7s\n",
      "457:\tlearn: 1698.0507698\ttotal: 12.9s\tremaining: 23.7s\n",
      "458:\tlearn: 1697.7261083\ttotal: 12.9s\tremaining: 23.6s\n",
      "459:\tlearn: 1697.4724281\ttotal: 12.9s\tremaining: 23.6s\n",
      "460:\tlearn: 1697.2144799\ttotal: 12.9s\tremaining: 23.6s\n",
      "461:\tlearn: 1696.8941262\ttotal: 13s\tremaining: 23.5s\n"
     ]
    },
    {
     "name": "stdout",
     "output_type": "stream",
     "text": [
      "462:\tlearn: 1696.6335427\ttotal: 13s\tremaining: 23.5s\n",
      "463:\tlearn: 1696.4272813\ttotal: 13s\tremaining: 23.5s\n",
      "464:\tlearn: 1696.1838822\ttotal: 13.1s\tremaining: 23.5s\n",
      "465:\tlearn: 1695.9528996\ttotal: 13.1s\tremaining: 23.4s\n",
      "466:\tlearn: 1695.6825002\ttotal: 13.1s\tremaining: 23.4s\n",
      "467:\tlearn: 1695.4385191\ttotal: 13.2s\tremaining: 23.4s\n",
      "468:\tlearn: 1695.2671979\ttotal: 13.2s\tremaining: 23.4s\n",
      "469:\tlearn: 1695.0634792\ttotal: 13.2s\tremaining: 23.3s\n",
      "470:\tlearn: 1694.8450906\ttotal: 13.2s\tremaining: 23.3s\n",
      "471:\tlearn: 1694.6940456\ttotal: 13.3s\tremaining: 23.3s\n",
      "472:\tlearn: 1694.5456971\ttotal: 13.3s\tremaining: 23.2s\n",
      "473:\tlearn: 1694.2809194\ttotal: 13.3s\tremaining: 23.2s\n",
      "474:\tlearn: 1693.9864237\ttotal: 13.4s\tremaining: 23.2s\n",
      "475:\tlearn: 1693.7310444\ttotal: 13.4s\tremaining: 23.2s\n",
      "476:\tlearn: 1693.4881382\ttotal: 13.4s\tremaining: 23.2s\n",
      "477:\tlearn: 1693.4098265\ttotal: 13.4s\tremaining: 23.1s\n",
      "478:\tlearn: 1693.2132899\ttotal: 13.5s\tremaining: 23.1s\n",
      "479:\tlearn: 1693.0623083\ttotal: 13.5s\tremaining: 23.1s\n",
      "480:\tlearn: 1692.9375592\ttotal: 13.5s\tremaining: 23s\n",
      "481:\tlearn: 1692.7593411\ttotal: 13.6s\tremaining: 23s\n",
      "482:\tlearn: 1692.6667038\ttotal: 13.6s\tremaining: 23s\n",
      "483:\tlearn: 1692.4695035\ttotal: 13.6s\tremaining: 23s\n",
      "484:\tlearn: 1692.2233837\ttotal: 13.6s\tremaining: 22.9s\n",
      "485:\tlearn: 1692.0913718\ttotal: 13.7s\tremaining: 22.9s\n",
      "486:\tlearn: 1691.8310193\ttotal: 13.7s\tremaining: 22.9s\n",
      "487:\tlearn: 1691.4846697\ttotal: 13.7s\tremaining: 22.9s\n",
      "488:\tlearn: 1691.3457439\ttotal: 13.8s\tremaining: 22.8s\n",
      "489:\tlearn: 1691.1347157\ttotal: 13.8s\tremaining: 22.8s\n",
      "490:\tlearn: 1690.8296406\ttotal: 13.8s\tremaining: 22.8s\n",
      "491:\tlearn: 1690.5946040\ttotal: 13.8s\tremaining: 22.7s\n",
      "492:\tlearn: 1690.3842464\ttotal: 13.9s\tremaining: 22.7s\n",
      "493:\tlearn: 1690.2210395\ttotal: 13.9s\tremaining: 22.7s\n",
      "494:\tlearn: 1690.0836127\ttotal: 13.9s\tremaining: 22.6s\n",
      "495:\tlearn: 1689.9114030\ttotal: 14s\tremaining: 22.6s\n",
      "496:\tlearn: 1689.6049376\ttotal: 14s\tremaining: 22.6s\n",
      "497:\tlearn: 1689.4283507\ttotal: 14s\tremaining: 22.6s\n",
      "498:\tlearn: 1689.0612979\ttotal: 14s\tremaining: 22.5s\n",
      "499:\tlearn: 1688.7284851\ttotal: 14.1s\tremaining: 22.5s\n",
      "500:\tlearn: 1688.5611454\ttotal: 14.1s\tremaining: 22.5s\n",
      "501:\tlearn: 1688.3843668\ttotal: 14.1s\tremaining: 22.4s\n",
      "502:\tlearn: 1688.1947055\ttotal: 14.1s\tremaining: 22.4s\n",
      "503:\tlearn: 1687.8798329\ttotal: 14.2s\tremaining: 22.4s\n",
      "504:\tlearn: 1687.6065731\ttotal: 14.2s\tremaining: 22.4s\n",
      "505:\tlearn: 1687.4043230\ttotal: 14.2s\tremaining: 22.3s\n",
      "506:\tlearn: 1687.2044105\ttotal: 14.3s\tremaining: 22.3s\n",
      "507:\tlearn: 1687.0600221\ttotal: 14.3s\tremaining: 22.3s\n",
      "508:\tlearn: 1686.9318231\ttotal: 14.3s\tremaining: 22.2s\n",
      "509:\tlearn: 1686.7343766\ttotal: 14.3s\tremaining: 22.2s\n",
      "510:\tlearn: 1686.6606729\ttotal: 14.4s\tremaining: 22.2s\n",
      "511:\tlearn: 1686.5367350\ttotal: 14.4s\tremaining: 22.1s\n",
      "512:\tlearn: 1686.3611598\ttotal: 14.4s\tremaining: 22.1s\n",
      "513:\tlearn: 1686.2428631\ttotal: 14.4s\tremaining: 22.1s\n",
      "514:\tlearn: 1686.1212057\ttotal: 14.5s\tremaining: 22.1s\n",
      "515:\tlearn: 1685.8931199\ttotal: 14.5s\tremaining: 22s\n",
      "516:\tlearn: 1685.6968537\ttotal: 14.5s\tremaining: 22s\n",
      "517:\tlearn: 1685.5253369\ttotal: 14.6s\tremaining: 22s\n",
      "518:\tlearn: 1685.3163500\ttotal: 14.6s\tremaining: 22s\n",
      "519:\tlearn: 1685.1103479\ttotal: 14.6s\tremaining: 21.9s\n",
      "520:\tlearn: 1685.0208824\ttotal: 14.6s\tremaining: 21.9s\n",
      "521:\tlearn: 1684.8122499\ttotal: 14.7s\tremaining: 21.9s\n",
      "522:\tlearn: 1684.6115709\ttotal: 14.7s\tremaining: 21.8s\n",
      "523:\tlearn: 1684.4591127\ttotal: 14.7s\tremaining: 21.8s\n",
      "524:\tlearn: 1684.3007327\ttotal: 14.7s\tremaining: 21.8s\n",
      "525:\tlearn: 1684.0893735\ttotal: 14.8s\tremaining: 21.7s\n",
      "526:\tlearn: 1683.9589324\ttotal: 14.8s\tremaining: 21.7s\n",
      "527:\tlearn: 1683.6695462\ttotal: 14.8s\tremaining: 21.7s\n",
      "528:\tlearn: 1683.5100792\ttotal: 14.9s\tremaining: 21.6s\n",
      "529:\tlearn: 1683.4106147\ttotal: 14.9s\tremaining: 21.6s\n",
      "530:\tlearn: 1683.2196187\ttotal: 14.9s\tremaining: 21.6s\n",
      "531:\tlearn: 1683.0189122\ttotal: 14.9s\tremaining: 21.6s\n",
      "532:\tlearn: 1682.9015802\ttotal: 15s\tremaining: 21.5s\n",
      "533:\tlearn: 1682.7506990\ttotal: 15s\tremaining: 21.5s\n",
      "534:\tlearn: 1682.6882215\ttotal: 15s\tremaining: 21.5s\n",
      "535:\tlearn: 1682.5504138\ttotal: 15.1s\tremaining: 21.5s\n",
      "536:\tlearn: 1682.2723372\ttotal: 15.1s\tremaining: 21.4s\n",
      "537:\tlearn: 1682.1415604\ttotal: 15.1s\tremaining: 21.4s\n",
      "538:\tlearn: 1681.9034114\ttotal: 15.1s\tremaining: 21.4s\n",
      "539:\tlearn: 1681.6856628\ttotal: 15.2s\tremaining: 21.3s\n",
      "540:\tlearn: 1681.4886157\ttotal: 15.2s\tremaining: 21.3s\n",
      "541:\tlearn: 1681.2125844\ttotal: 15.2s\tremaining: 21.3s\n",
      "542:\tlearn: 1681.0424193\ttotal: 15.2s\tremaining: 21.3s\n",
      "543:\tlearn: 1680.8830807\ttotal: 15.3s\tremaining: 21.2s\n",
      "544:\tlearn: 1680.6695131\ttotal: 15.3s\tremaining: 21.2s\n",
      "545:\tlearn: 1680.4039379\ttotal: 15.3s\tremaining: 21.2s\n",
      "546:\tlearn: 1680.2688976\ttotal: 15.4s\tremaining: 21.1s\n",
      "547:\tlearn: 1679.9813400\ttotal: 15.4s\tremaining: 21.1s\n",
      "548:\tlearn: 1679.7245386\ttotal: 15.4s\tremaining: 21.1s\n",
      "549:\tlearn: 1679.4853682\ttotal: 15.4s\tremaining: 21s\n",
      "550:\tlearn: 1679.2937415\ttotal: 15.5s\tremaining: 21s\n",
      "551:\tlearn: 1679.0671237\ttotal: 15.5s\tremaining: 21s\n",
      "552:\tlearn: 1678.9079062\ttotal: 15.5s\tremaining: 21s\n",
      "553:\tlearn: 1678.7375742\ttotal: 15.6s\tremaining: 20.9s\n",
      "554:\tlearn: 1678.5606645\ttotal: 15.6s\tremaining: 20.9s\n",
      "555:\tlearn: 1678.3234462\ttotal: 15.6s\tremaining: 20.9s\n",
      "556:\tlearn: 1678.1617077\ttotal: 15.6s\tremaining: 20.8s\n",
      "557:\tlearn: 1678.0409124\ttotal: 15.7s\tremaining: 20.8s\n",
      "558:\tlearn: 1677.8078897\ttotal: 15.7s\tremaining: 20.8s\n",
      "559:\tlearn: 1677.6539060\ttotal: 15.7s\tremaining: 20.8s\n",
      "560:\tlearn: 1677.4898863\ttotal: 15.7s\tremaining: 20.7s\n",
      "561:\tlearn: 1677.2886697\ttotal: 15.8s\tremaining: 20.7s\n",
      "562:\tlearn: 1677.1389134\ttotal: 15.8s\tremaining: 20.7s\n",
      "563:\tlearn: 1676.9625305\ttotal: 15.8s\tremaining: 20.6s\n",
      "564:\tlearn: 1676.7906488\ttotal: 15.8s\tremaining: 20.6s\n",
      "565:\tlearn: 1676.5011975\ttotal: 15.9s\tremaining: 20.6s\n",
      "566:\tlearn: 1676.3452400\ttotal: 15.9s\tremaining: 20.6s\n",
      "567:\tlearn: 1676.1827241\ttotal: 15.9s\tremaining: 20.5s\n",
      "568:\tlearn: 1676.0614205\ttotal: 16s\tremaining: 20.5s\n",
      "569:\tlearn: 1675.9054036\ttotal: 16s\tremaining: 20.5s\n",
      "570:\tlearn: 1675.7679069\ttotal: 16s\tremaining: 20.5s\n",
      "571:\tlearn: 1675.6139724\ttotal: 16.1s\tremaining: 20.4s\n",
      "572:\tlearn: 1675.4102637\ttotal: 16.1s\tremaining: 20.4s\n",
      "573:\tlearn: 1675.1554119\ttotal: 16.1s\tremaining: 20.4s\n",
      "574:\tlearn: 1674.9240254\ttotal: 16.1s\tremaining: 20.3s\n",
      "575:\tlearn: 1674.7874407\ttotal: 16.2s\tremaining: 20.3s\n",
      "576:\tlearn: 1674.6107671\ttotal: 16.2s\tremaining: 20.3s\n",
      "577:\tlearn: 1674.4136214\ttotal: 16.2s\tremaining: 20.3s\n",
      "578:\tlearn: 1674.2952150\ttotal: 16.2s\tremaining: 20.2s\n",
      "579:\tlearn: 1674.2141796\ttotal: 16.3s\tremaining: 20.2s\n",
      "580:\tlearn: 1674.0555052\ttotal: 16.3s\tremaining: 20.2s\n",
      "581:\tlearn: 1673.8073718\ttotal: 16.3s\tremaining: 20.1s\n",
      "582:\tlearn: 1673.7509960\ttotal: 16.4s\tremaining: 20.1s\n",
      "583:\tlearn: 1673.5168788\ttotal: 16.4s\tremaining: 20.1s\n",
      "584:\tlearn: 1673.3817165\ttotal: 16.4s\tremaining: 20.1s\n",
      "585:\tlearn: 1673.1585194\ttotal: 16.4s\tremaining: 20s\n",
      "586:\tlearn: 1673.0092899\ttotal: 16.5s\tremaining: 20s\n",
      "587:\tlearn: 1672.8914455\ttotal: 16.5s\tremaining: 20s\n",
      "588:\tlearn: 1672.7312018\ttotal: 16.5s\tremaining: 19.9s\n",
      "589:\tlearn: 1672.2787113\ttotal: 16.5s\tremaining: 19.9s\n",
      "590:\tlearn: 1672.1176300\ttotal: 16.6s\tremaining: 19.9s\n",
      "591:\tlearn: 1671.9750183\ttotal: 16.6s\tremaining: 19.9s\n",
      "592:\tlearn: 1671.8254901\ttotal: 16.6s\tremaining: 19.8s\n",
      "593:\tlearn: 1671.6695601\ttotal: 16.7s\tremaining: 19.8s\n",
      "594:\tlearn: 1671.5056996\ttotal: 16.7s\tremaining: 19.8s\n",
      "595:\tlearn: 1671.2926704\ttotal: 16.7s\tremaining: 19.7s\n",
      "596:\tlearn: 1671.1267191\ttotal: 16.7s\tremaining: 19.7s\n",
      "597:\tlearn: 1670.9822190\ttotal: 16.8s\tremaining: 19.7s\n",
      "598:\tlearn: 1670.8846994\ttotal: 16.8s\tremaining: 19.7s\n",
      "599:\tlearn: 1670.6442745\ttotal: 16.8s\tremaining: 19.6s\n",
      "600:\tlearn: 1670.5158579\ttotal: 16.9s\tremaining: 19.6s\n",
      "601:\tlearn: 1670.2994598\ttotal: 16.9s\tremaining: 19.6s\n",
      "602:\tlearn: 1670.0912372\ttotal: 16.9s\tremaining: 19.5s\n",
      "603:\tlearn: 1669.9229017\ttotal: 16.9s\tremaining: 19.5s\n",
      "604:\tlearn: 1669.8143710\ttotal: 17s\tremaining: 19.5s\n",
      "605:\tlearn: 1669.6756307\ttotal: 17s\tremaining: 19.5s\n",
      "606:\tlearn: 1669.5378891\ttotal: 17s\tremaining: 19.4s\n",
      "607:\tlearn: 1669.4283057\ttotal: 17.1s\tremaining: 19.4s\n",
      "608:\tlearn: 1669.2612815\ttotal: 17.1s\tremaining: 19.4s\n",
      "609:\tlearn: 1669.0546585\ttotal: 17.1s\tremaining: 19.4s\n",
      "610:\tlearn: 1668.8753161\ttotal: 17.1s\tremaining: 19.3s\n",
      "611:\tlearn: 1668.7601360\ttotal: 17.2s\tremaining: 19.3s\n",
      "612:\tlearn: 1668.6864045\ttotal: 17.2s\tremaining: 19.3s\n"
     ]
    },
    {
     "name": "stdout",
     "output_type": "stream",
     "text": [
      "613:\tlearn: 1668.5252420\ttotal: 17.2s\tremaining: 19.2s\n",
      "614:\tlearn: 1668.4421177\ttotal: 17.2s\tremaining: 19.2s\n",
      "615:\tlearn: 1668.2493041\ttotal: 17.3s\tremaining: 19.2s\n",
      "616:\tlearn: 1668.0973284\ttotal: 17.3s\tremaining: 19.1s\n",
      "617:\tlearn: 1667.9931282\ttotal: 17.3s\tremaining: 19.1s\n",
      "618:\tlearn: 1667.8608347\ttotal: 17.3s\tremaining: 19.1s\n",
      "619:\tlearn: 1667.7036711\ttotal: 17.4s\tremaining: 19.1s\n",
      "620:\tlearn: 1667.5517422\ttotal: 17.4s\tremaining: 19s\n",
      "621:\tlearn: 1667.4039393\ttotal: 17.4s\tremaining: 19s\n",
      "622:\tlearn: 1667.1638400\ttotal: 17.5s\tremaining: 19s\n",
      "623:\tlearn: 1666.9566713\ttotal: 17.5s\tremaining: 18.9s\n",
      "624:\tlearn: 1666.7908243\ttotal: 17.5s\tremaining: 18.9s\n",
      "625:\tlearn: 1666.5581229\ttotal: 17.5s\tremaining: 18.9s\n",
      "626:\tlearn: 1666.4334687\ttotal: 17.6s\tremaining: 18.9s\n",
      "627:\tlearn: 1666.3115955\ttotal: 17.6s\tremaining: 18.8s\n",
      "628:\tlearn: 1666.1826507\ttotal: 17.6s\tremaining: 18.8s\n",
      "629:\tlearn: 1666.1061314\ttotal: 17.7s\tremaining: 18.8s\n",
      "630:\tlearn: 1665.9854042\ttotal: 17.7s\tremaining: 18.7s\n",
      "631:\tlearn: 1665.8469476\ttotal: 17.7s\tremaining: 18.7s\n",
      "632:\tlearn: 1665.7253632\ttotal: 17.7s\tremaining: 18.7s\n",
      "633:\tlearn: 1665.6444001\ttotal: 17.8s\tremaining: 18.7s\n",
      "634:\tlearn: 1665.5179118\ttotal: 17.8s\tremaining: 18.6s\n",
      "635:\tlearn: 1665.3183657\ttotal: 17.8s\tremaining: 18.6s\n",
      "636:\tlearn: 1665.2232645\ttotal: 17.8s\tremaining: 18.6s\n",
      "637:\tlearn: 1665.0080439\ttotal: 17.9s\tremaining: 18.5s\n",
      "638:\tlearn: 1664.8293993\ttotal: 17.9s\tremaining: 18.5s\n",
      "639:\tlearn: 1664.7257861\ttotal: 17.9s\tremaining: 18.5s\n",
      "640:\tlearn: 1664.3657220\ttotal: 18s\tremaining: 18.5s\n",
      "641:\tlearn: 1664.2046483\ttotal: 18s\tremaining: 18.4s\n",
      "642:\tlearn: 1664.0957471\ttotal: 18s\tremaining: 18.4s\n",
      "643:\tlearn: 1663.9931571\ttotal: 18.1s\tremaining: 18.4s\n",
      "644:\tlearn: 1663.8208806\ttotal: 18.1s\tremaining: 18.4s\n",
      "645:\tlearn: 1663.6938647\ttotal: 18.1s\tremaining: 18.3s\n",
      "646:\tlearn: 1663.5060952\ttotal: 18.1s\tremaining: 18.3s\n",
      "647:\tlearn: 1663.3292507\ttotal: 18.2s\tremaining: 18.3s\n",
      "648:\tlearn: 1663.2286752\ttotal: 18.2s\tremaining: 18.3s\n",
      "649:\tlearn: 1663.0647369\ttotal: 18.2s\tremaining: 18.2s\n",
      "650:\tlearn: 1662.9071185\ttotal: 18.3s\tremaining: 18.2s\n",
      "651:\tlearn: 1662.7330307\ttotal: 18.3s\tremaining: 18.2s\n",
      "652:\tlearn: 1662.5199234\ttotal: 18.3s\tremaining: 18.1s\n",
      "653:\tlearn: 1662.3836836\ttotal: 18.3s\tremaining: 18.1s\n",
      "654:\tlearn: 1662.2811429\ttotal: 18.4s\tremaining: 18.1s\n",
      "655:\tlearn: 1662.1748254\ttotal: 18.4s\tremaining: 18.1s\n",
      "656:\tlearn: 1661.9817042\ttotal: 18.4s\tremaining: 18s\n",
      "657:\tlearn: 1661.8251754\ttotal: 18.5s\tremaining: 18s\n",
      "658:\tlearn: 1661.6882674\ttotal: 18.5s\tremaining: 18s\n",
      "659:\tlearn: 1661.5061071\ttotal: 18.5s\tremaining: 18s\n",
      "660:\tlearn: 1661.3923895\ttotal: 18.5s\tremaining: 17.9s\n",
      "661:\tlearn: 1661.2229873\ttotal: 18.6s\tremaining: 17.9s\n",
      "662:\tlearn: 1661.1242400\ttotal: 18.6s\tremaining: 17.9s\n",
      "663:\tlearn: 1660.9993769\ttotal: 18.6s\tremaining: 17.8s\n",
      "664:\tlearn: 1660.8653948\ttotal: 18.7s\tremaining: 17.8s\n",
      "665:\tlearn: 1660.6005629\ttotal: 18.7s\tremaining: 17.8s\n",
      "666:\tlearn: 1660.5346041\ttotal: 18.7s\tremaining: 17.8s\n",
      "667:\tlearn: 1660.3711302\ttotal: 18.7s\tremaining: 17.7s\n",
      "668:\tlearn: 1660.2622773\ttotal: 18.8s\tremaining: 17.7s\n",
      "669:\tlearn: 1660.0195147\ttotal: 18.8s\tremaining: 17.7s\n",
      "670:\tlearn: 1659.8549827\ttotal: 18.8s\tremaining: 17.6s\n",
      "671:\tlearn: 1659.6962898\ttotal: 18.9s\tremaining: 17.6s\n",
      "672:\tlearn: 1659.4681038\ttotal: 18.9s\tremaining: 17.6s\n",
      "673:\tlearn: 1659.3401541\ttotal: 18.9s\tremaining: 17.6s\n",
      "674:\tlearn: 1659.1863315\ttotal: 18.9s\tremaining: 17.5s\n",
      "675:\tlearn: 1659.0769036\ttotal: 19s\tremaining: 17.5s\n",
      "676:\tlearn: 1658.9433952\ttotal: 19s\tremaining: 17.5s\n",
      "677:\tlearn: 1658.7606061\ttotal: 19s\tremaining: 17.5s\n",
      "678:\tlearn: 1658.5788548\ttotal: 19.1s\tremaining: 17.4s\n",
      "679:\tlearn: 1658.4612605\ttotal: 19.1s\tremaining: 17.4s\n",
      "680:\tlearn: 1658.3000248\ttotal: 19.1s\tremaining: 17.4s\n",
      "681:\tlearn: 1658.2171669\ttotal: 19.1s\tremaining: 17.3s\n",
      "682:\tlearn: 1658.0374812\ttotal: 19.2s\tremaining: 17.3s\n",
      "683:\tlearn: 1657.9419309\ttotal: 19.2s\tremaining: 17.3s\n",
      "684:\tlearn: 1657.8426175\ttotal: 19.2s\tremaining: 17.3s\n",
      "685:\tlearn: 1657.7459738\ttotal: 19.2s\tremaining: 17.2s\n",
      "686:\tlearn: 1657.6269872\ttotal: 19.3s\tremaining: 17.2s\n",
      "687:\tlearn: 1657.4045128\ttotal: 19.3s\tremaining: 17.2s\n",
      "688:\tlearn: 1657.2877717\ttotal: 19.3s\tremaining: 17.1s\n",
      "689:\tlearn: 1657.1473572\ttotal: 19.4s\tremaining: 17.1s\n",
      "690:\tlearn: 1656.9901015\ttotal: 19.4s\tremaining: 17.1s\n",
      "691:\tlearn: 1656.7697227\ttotal: 19.4s\tremaining: 17s\n",
      "692:\tlearn: 1656.6391477\ttotal: 19.4s\tremaining: 17s\n",
      "693:\tlearn: 1656.4838246\ttotal: 19.5s\tremaining: 17s\n",
      "694:\tlearn: 1656.3350614\ttotal: 19.5s\tremaining: 17s\n",
      "695:\tlearn: 1656.1849180\ttotal: 19.5s\tremaining: 16.9s\n",
      "696:\tlearn: 1656.0252643\ttotal: 19.5s\tremaining: 16.9s\n",
      "697:\tlearn: 1655.9392204\ttotal: 19.6s\tremaining: 16.9s\n",
      "698:\tlearn: 1655.7701249\ttotal: 19.6s\tremaining: 16.8s\n",
      "699:\tlearn: 1655.5992379\ttotal: 19.6s\tremaining: 16.8s\n",
      "700:\tlearn: 1655.3904112\ttotal: 19.7s\tremaining: 16.8s\n",
      "701:\tlearn: 1655.3143057\ttotal: 19.7s\tremaining: 16.8s\n",
      "702:\tlearn: 1655.2243214\ttotal: 19.7s\tremaining: 16.7s\n",
      "703:\tlearn: 1655.1087696\ttotal: 19.7s\tremaining: 16.7s\n",
      "704:\tlearn: 1654.9869779\ttotal: 19.8s\tremaining: 16.7s\n",
      "705:\tlearn: 1654.7494995\ttotal: 19.8s\tremaining: 16.7s\n",
      "706:\tlearn: 1654.6828304\ttotal: 19.8s\tremaining: 16.6s\n",
      "707:\tlearn: 1654.5607015\ttotal: 19.9s\tremaining: 16.6s\n",
      "708:\tlearn: 1654.3567611\ttotal: 19.9s\tremaining: 16.6s\n",
      "709:\tlearn: 1654.2456678\ttotal: 19.9s\tremaining: 16.6s\n",
      "710:\tlearn: 1654.1032687\ttotal: 19.9s\tremaining: 16.5s\n",
      "711:\tlearn: 1653.9859008\ttotal: 20s\tremaining: 16.5s\n",
      "712:\tlearn: 1653.8750369\ttotal: 20s\tremaining: 16.5s\n",
      "713:\tlearn: 1653.7556153\ttotal: 20s\tremaining: 16.4s\n",
      "714:\tlearn: 1653.5543442\ttotal: 20.1s\tremaining: 16.4s\n",
      "715:\tlearn: 1653.3986929\ttotal: 20.1s\tremaining: 16.4s\n",
      "716:\tlearn: 1653.2553375\ttotal: 20.1s\tremaining: 16.4s\n",
      "717:\tlearn: 1653.2098572\ttotal: 20.2s\tremaining: 16.3s\n",
      "718:\tlearn: 1653.1053169\ttotal: 20.2s\tremaining: 16.3s\n",
      "719:\tlearn: 1653.0392075\ttotal: 20.2s\tremaining: 16.3s\n",
      "720:\tlearn: 1652.9148455\ttotal: 20.2s\tremaining: 16.3s\n",
      "721:\tlearn: 1652.8737337\ttotal: 20.3s\tremaining: 16.2s\n",
      "722:\tlearn: 1652.6854696\ttotal: 20.3s\tremaining: 16.2s\n",
      "723:\tlearn: 1652.6006480\ttotal: 20.3s\tremaining: 16.2s\n",
      "724:\tlearn: 1652.4087651\ttotal: 20.4s\tremaining: 16.1s\n",
      "725:\tlearn: 1652.2931445\ttotal: 20.4s\tremaining: 16.1s\n",
      "726:\tlearn: 1652.1141530\ttotal: 20.4s\tremaining: 16.1s\n",
      "727:\tlearn: 1652.0074817\ttotal: 20.4s\tremaining: 16.1s\n",
      "728:\tlearn: 1651.8951923\ttotal: 20.5s\tremaining: 16s\n",
      "729:\tlearn: 1651.8104067\ttotal: 20.5s\tremaining: 16s\n",
      "730:\tlearn: 1651.7349618\ttotal: 20.5s\tremaining: 16s\n",
      "731:\tlearn: 1651.7118894\ttotal: 20.5s\tremaining: 15.9s\n",
      "732:\tlearn: 1651.6128922\ttotal: 20.6s\tremaining: 15.9s\n",
      "733:\tlearn: 1651.5748690\ttotal: 20.6s\tremaining: 15.9s\n",
      "734:\tlearn: 1651.4534857\ttotal: 20.6s\tremaining: 15.9s\n",
      "735:\tlearn: 1651.3456575\ttotal: 20.7s\tremaining: 15.8s\n",
      "736:\tlearn: 1651.1529928\ttotal: 20.7s\tremaining: 15.8s\n",
      "737:\tlearn: 1651.0654363\ttotal: 20.7s\tremaining: 15.8s\n",
      "738:\tlearn: 1651.0186886\ttotal: 20.8s\tremaining: 15.8s\n",
      "739:\tlearn: 1650.9739089\ttotal: 20.8s\tremaining: 15.7s\n",
      "740:\tlearn: 1650.8198328\ttotal: 20.8s\tremaining: 15.7s\n",
      "741:\tlearn: 1650.6603444\ttotal: 20.9s\tremaining: 15.7s\n",
      "742:\tlearn: 1650.4389271\ttotal: 20.9s\tremaining: 15.7s\n",
      "743:\tlearn: 1650.3394594\ttotal: 20.9s\tremaining: 15.6s\n",
      "744:\tlearn: 1650.1762560\ttotal: 20.9s\tremaining: 15.6s\n",
      "745:\tlearn: 1649.9795015\ttotal: 21s\tremaining: 15.6s\n",
      "746:\tlearn: 1649.8911626\ttotal: 21s\tremaining: 15.5s\n",
      "747:\tlearn: 1649.7962258\ttotal: 21s\tremaining: 15.5s\n",
      "748:\tlearn: 1649.6863031\ttotal: 21.1s\tremaining: 15.5s\n",
      "749:\tlearn: 1649.5740389\ttotal: 21.1s\tremaining: 15.5s\n",
      "750:\tlearn: 1649.4605229\ttotal: 21.1s\tremaining: 15.4s\n",
      "751:\tlearn: 1649.3591911\ttotal: 21.1s\tremaining: 15.4s\n",
      "752:\tlearn: 1649.2271409\ttotal: 21.2s\tremaining: 15.4s\n",
      "753:\tlearn: 1649.0020804\ttotal: 21.2s\tremaining: 15.3s\n",
      "754:\tlearn: 1648.8666104\ttotal: 21.2s\tremaining: 15.3s\n",
      "755:\tlearn: 1648.7185370\ttotal: 21.2s\tremaining: 15.3s\n",
      "756:\tlearn: 1648.5905359\ttotal: 21.3s\tremaining: 15.3s\n",
      "757:\tlearn: 1648.4223684\ttotal: 21.3s\tremaining: 15.2s\n",
      "758:\tlearn: 1648.2748788\ttotal: 21.3s\tremaining: 15.2s\n",
      "759:\tlearn: 1648.1490916\ttotal: 21.4s\tremaining: 15.2s\n",
      "760:\tlearn: 1647.9874029\ttotal: 21.4s\tremaining: 15.1s\n",
      "761:\tlearn: 1647.8817542\ttotal: 21.4s\tremaining: 15.1s\n",
      "762:\tlearn: 1647.7244507\ttotal: 21.4s\tremaining: 15.1s\n",
      "763:\tlearn: 1647.6157505\ttotal: 21.5s\tremaining: 15.1s\n",
      "764:\tlearn: 1647.5205470\ttotal: 21.5s\tremaining: 15s\n",
      "765:\tlearn: 1647.3392856\ttotal: 21.5s\tremaining: 15s\n",
      "766:\tlearn: 1647.1435009\ttotal: 21.6s\tremaining: 15s\n",
      "767:\tlearn: 1647.0545408\ttotal: 21.6s\tremaining: 15s\n",
      "768:\tlearn: 1646.9683868\ttotal: 21.6s\tremaining: 14.9s\n",
      "769:\tlearn: 1646.8051077\ttotal: 21.6s\tremaining: 14.9s\n"
     ]
    },
    {
     "name": "stdout",
     "output_type": "stream",
     "text": [
      "770:\tlearn: 1646.7213973\ttotal: 21.7s\tremaining: 14.9s\n",
      "771:\tlearn: 1646.6006724\ttotal: 21.7s\tremaining: 14.8s\n",
      "772:\tlearn: 1646.4896802\ttotal: 21.7s\tremaining: 14.8s\n",
      "773:\tlearn: 1646.3540941\ttotal: 21.8s\tremaining: 14.8s\n",
      "774:\tlearn: 1646.2518053\ttotal: 21.8s\tremaining: 14.8s\n",
      "775:\tlearn: 1646.1671570\ttotal: 21.8s\tremaining: 14.7s\n",
      "776:\tlearn: 1646.0009459\ttotal: 21.8s\tremaining: 14.7s\n",
      "777:\tlearn: 1645.8482490\ttotal: 21.9s\tremaining: 14.7s\n",
      "778:\tlearn: 1645.7448718\ttotal: 21.9s\tremaining: 14.6s\n",
      "779:\tlearn: 1645.6415859\ttotal: 21.9s\tremaining: 14.6s\n",
      "780:\tlearn: 1645.5951222\ttotal: 22s\tremaining: 14.6s\n",
      "781:\tlearn: 1645.4430708\ttotal: 22s\tremaining: 14.6s\n",
      "782:\tlearn: 1645.3214845\ttotal: 22s\tremaining: 14.5s\n",
      "783:\tlearn: 1645.2752659\ttotal: 22s\tremaining: 14.5s\n",
      "784:\tlearn: 1645.1776611\ttotal: 22.1s\tremaining: 14.5s\n",
      "785:\tlearn: 1645.1025446\ttotal: 22.1s\tremaining: 14.5s\n",
      "786:\tlearn: 1645.0263782\ttotal: 22.1s\tremaining: 14.4s\n",
      "787:\tlearn: 1644.8777382\ttotal: 22.2s\tremaining: 14.4s\n",
      "788:\tlearn: 1644.7831194\ttotal: 22.2s\tremaining: 14.4s\n",
      "789:\tlearn: 1644.7157228\ttotal: 22.2s\tremaining: 14.3s\n",
      "790:\tlearn: 1644.5345348\ttotal: 22.2s\tremaining: 14.3s\n",
      "791:\tlearn: 1644.5161540\ttotal: 22.3s\tremaining: 14.3s\n",
      "792:\tlearn: 1644.4533716\ttotal: 22.3s\tremaining: 14.3s\n",
      "793:\tlearn: 1644.3441562\ttotal: 22.3s\tremaining: 14.2s\n",
      "794:\tlearn: 1644.2434970\ttotal: 22.4s\tremaining: 14.2s\n",
      "795:\tlearn: 1644.1567319\ttotal: 22.4s\tremaining: 14.2s\n",
      "796:\tlearn: 1644.0585603\ttotal: 22.4s\tremaining: 14.1s\n",
      "797:\tlearn: 1643.9577037\ttotal: 22.4s\tremaining: 14.1s\n",
      "798:\tlearn: 1643.8623746\ttotal: 22.5s\tremaining: 14.1s\n",
      "799:\tlearn: 1643.6933001\ttotal: 22.5s\tremaining: 14.1s\n",
      "800:\tlearn: 1643.6019737\ttotal: 22.5s\tremaining: 14s\n",
      "801:\tlearn: 1643.5289774\ttotal: 22.5s\tremaining: 14s\n",
      "802:\tlearn: 1643.4390831\ttotal: 22.6s\tremaining: 14s\n",
      "803:\tlearn: 1643.3526355\ttotal: 22.6s\tremaining: 13.9s\n",
      "804:\tlearn: 1643.1963104\ttotal: 22.6s\tremaining: 13.9s\n",
      "805:\tlearn: 1643.1099978\ttotal: 22.6s\tremaining: 13.9s\n",
      "806:\tlearn: 1642.9166402\ttotal: 22.7s\tremaining: 13.8s\n",
      "807:\tlearn: 1642.8171117\ttotal: 22.7s\tremaining: 13.8s\n",
      "808:\tlearn: 1642.6650895\ttotal: 22.7s\tremaining: 13.8s\n",
      "809:\tlearn: 1642.5840546\ttotal: 22.7s\tremaining: 13.8s\n",
      "810:\tlearn: 1642.5159762\ttotal: 22.8s\tremaining: 13.7s\n",
      "811:\tlearn: 1642.4115364\ttotal: 22.8s\tremaining: 13.7s\n",
      "812:\tlearn: 1642.3495917\ttotal: 22.8s\tremaining: 13.7s\n",
      "813:\tlearn: 1642.2468065\ttotal: 22.9s\tremaining: 13.7s\n",
      "814:\tlearn: 1642.1039025\ttotal: 22.9s\tremaining: 13.6s\n",
      "815:\tlearn: 1641.9849296\ttotal: 22.9s\tremaining: 13.6s\n",
      "816:\tlearn: 1641.8343213\ttotal: 23s\tremaining: 13.6s\n",
      "817:\tlearn: 1641.7490840\ttotal: 23s\tremaining: 13.5s\n",
      "818:\tlearn: 1641.6255296\ttotal: 23s\tremaining: 13.5s\n",
      "819:\tlearn: 1641.5001805\ttotal: 23s\tremaining: 13.5s\n",
      "820:\tlearn: 1641.3025157\ttotal: 23.1s\tremaining: 13.5s\n",
      "821:\tlearn: 1641.2317623\ttotal: 23.1s\tremaining: 13.4s\n",
      "822:\tlearn: 1641.1391279\ttotal: 23.1s\tremaining: 13.4s\n",
      "823:\tlearn: 1640.9488964\ttotal: 23.2s\tremaining: 13.4s\n",
      "824:\tlearn: 1640.7939339\ttotal: 23.2s\tremaining: 13.4s\n",
      "825:\tlearn: 1640.6802697\ttotal: 23.3s\tremaining: 13.3s\n",
      "826:\tlearn: 1640.5126854\ttotal: 23.3s\tremaining: 13.3s\n",
      "827:\tlearn: 1640.3909677\ttotal: 23.3s\tremaining: 13.3s\n",
      "828:\tlearn: 1640.2319273\ttotal: 23.3s\tremaining: 13.3s\n",
      "829:\tlearn: 1640.1597431\ttotal: 23.4s\tremaining: 13.2s\n",
      "830:\tlearn: 1639.9677338\ttotal: 23.4s\tremaining: 13.2s\n",
      "831:\tlearn: 1639.8338796\ttotal: 23.4s\tremaining: 13.2s\n",
      "832:\tlearn: 1639.7158165\ttotal: 23.4s\tremaining: 13.1s\n",
      "833:\tlearn: 1639.6558925\ttotal: 23.5s\tremaining: 13.1s\n",
      "834:\tlearn: 1639.5864419\ttotal: 23.5s\tremaining: 13.1s\n",
      "835:\tlearn: 1639.3978382\ttotal: 23.5s\tremaining: 13.1s\n",
      "836:\tlearn: 1639.3119499\ttotal: 23.5s\tremaining: 13s\n",
      "837:\tlearn: 1639.1833790\ttotal: 23.6s\tremaining: 13s\n",
      "838:\tlearn: 1639.1433188\ttotal: 23.6s\tremaining: 13s\n",
      "839:\tlearn: 1639.0493465\ttotal: 23.6s\tremaining: 12.9s\n",
      "840:\tlearn: 1638.9429763\ttotal: 23.7s\tremaining: 12.9s\n",
      "841:\tlearn: 1638.8752616\ttotal: 23.7s\tremaining: 12.9s\n",
      "842:\tlearn: 1638.7384352\ttotal: 23.7s\tremaining: 12.9s\n",
      "843:\tlearn: 1638.5986302\ttotal: 23.7s\tremaining: 12.8s\n",
      "844:\tlearn: 1638.5346237\ttotal: 23.8s\tremaining: 12.8s\n",
      "845:\tlearn: 1638.4393968\ttotal: 23.8s\tremaining: 12.8s\n",
      "846:\tlearn: 1638.3945318\ttotal: 23.8s\tremaining: 12.7s\n",
      "847:\tlearn: 1638.3252567\ttotal: 23.9s\tremaining: 12.7s\n",
      "848:\tlearn: 1638.1578335\ttotal: 23.9s\tremaining: 12.7s\n",
      "849:\tlearn: 1638.0158754\ttotal: 23.9s\tremaining: 12.7s\n",
      "850:\tlearn: 1637.9341313\ttotal: 23.9s\tremaining: 12.6s\n",
      "851:\tlearn: 1637.7581159\ttotal: 24s\tremaining: 12.6s\n",
      "852:\tlearn: 1637.7157874\ttotal: 24s\tremaining: 12.6s\n",
      "853:\tlearn: 1637.5358721\ttotal: 24s\tremaining: 12.6s\n",
      "854:\tlearn: 1637.3503858\ttotal: 24.1s\tremaining: 12.5s\n",
      "855:\tlearn: 1637.0735286\ttotal: 24.1s\tremaining: 12.5s\n",
      "856:\tlearn: 1636.8896520\ttotal: 24.1s\tremaining: 12.5s\n",
      "857:\tlearn: 1636.8150080\ttotal: 24.2s\tremaining: 12.4s\n",
      "858:\tlearn: 1636.7525090\ttotal: 24.2s\tremaining: 12.4s\n",
      "859:\tlearn: 1636.6481112\ttotal: 24.2s\tremaining: 12.4s\n",
      "860:\tlearn: 1636.4948950\ttotal: 24.2s\tremaining: 12.4s\n",
      "861:\tlearn: 1636.4297537\ttotal: 24.3s\tremaining: 12.3s\n",
      "862:\tlearn: 1636.3493361\ttotal: 24.3s\tremaining: 12.3s\n",
      "863:\tlearn: 1636.2386489\ttotal: 24.3s\tremaining: 12.3s\n",
      "864:\tlearn: 1636.1663054\ttotal: 24.4s\tremaining: 12.2s\n",
      "865:\tlearn: 1636.0864007\ttotal: 24.4s\tremaining: 12.2s\n",
      "866:\tlearn: 1636.0156677\ttotal: 24.4s\tremaining: 12.2s\n",
      "867:\tlearn: 1635.9642757\ttotal: 24.4s\tremaining: 12.2s\n",
      "868:\tlearn: 1635.8162992\ttotal: 24.5s\tremaining: 12.1s\n",
      "869:\tlearn: 1635.7310478\ttotal: 24.5s\tremaining: 12.1s\n",
      "870:\tlearn: 1635.5715058\ttotal: 24.5s\tremaining: 12.1s\n",
      "871:\tlearn: 1635.4381844\ttotal: 24.5s\tremaining: 12s\n",
      "872:\tlearn: 1635.2600649\ttotal: 24.6s\tremaining: 12s\n",
      "873:\tlearn: 1635.1034243\ttotal: 24.6s\tremaining: 12s\n",
      "874:\tlearn: 1635.0221382\ttotal: 24.6s\tremaining: 12s\n",
      "875:\tlearn: 1634.9005909\ttotal: 24.6s\tremaining: 11.9s\n",
      "876:\tlearn: 1634.8273744\ttotal: 24.7s\tremaining: 11.9s\n",
      "877:\tlearn: 1634.7340820\ttotal: 24.7s\tremaining: 11.9s\n",
      "878:\tlearn: 1634.6243546\ttotal: 24.7s\tremaining: 11.8s\n",
      "879:\tlearn: 1634.4939324\ttotal: 24.8s\tremaining: 11.8s\n",
      "880:\tlearn: 1634.4099040\ttotal: 24.8s\tremaining: 11.8s\n",
      "881:\tlearn: 1634.2632843\ttotal: 24.8s\tremaining: 11.8s\n",
      "882:\tlearn: 1634.2252522\ttotal: 24.8s\tremaining: 11.7s\n",
      "883:\tlearn: 1634.1258213\ttotal: 24.9s\tremaining: 11.7s\n",
      "884:\tlearn: 1634.0809338\ttotal: 24.9s\tremaining: 11.7s\n",
      "885:\tlearn: 1634.0253858\ttotal: 24.9s\tremaining: 11.6s\n",
      "886:\tlearn: 1633.8661805\ttotal: 24.9s\tremaining: 11.6s\n",
      "887:\tlearn: 1633.7581313\ttotal: 25s\tremaining: 11.6s\n",
      "888:\tlearn: 1633.6148763\ttotal: 25s\tremaining: 11.6s\n",
      "889:\tlearn: 1633.5444106\ttotal: 25s\tremaining: 11.5s\n",
      "890:\tlearn: 1633.4150891\ttotal: 25.1s\tremaining: 11.5s\n",
      "891:\tlearn: 1633.3135982\ttotal: 25.1s\tremaining: 11.5s\n",
      "892:\tlearn: 1633.1797296\ttotal: 25.1s\tremaining: 11.4s\n",
      "893:\tlearn: 1633.1104217\ttotal: 25.1s\tremaining: 11.4s\n",
      "894:\tlearn: 1632.9347636\ttotal: 25.2s\tremaining: 11.4s\n",
      "895:\tlearn: 1632.8740557\ttotal: 25.2s\tremaining: 11.4s\n",
      "896:\tlearn: 1632.7637677\ttotal: 25.2s\tremaining: 11.3s\n",
      "897:\tlearn: 1632.6768334\ttotal: 25.3s\tremaining: 11.3s\n",
      "898:\tlearn: 1632.5267027\ttotal: 25.3s\tremaining: 11.3s\n",
      "899:\tlearn: 1632.3987496\ttotal: 25.3s\tremaining: 11.3s\n",
      "900:\tlearn: 1632.2941471\ttotal: 25.3s\tremaining: 11.2s\n",
      "901:\tlearn: 1632.2105939\ttotal: 25.4s\tremaining: 11.2s\n",
      "902:\tlearn: 1632.0703739\ttotal: 25.4s\tremaining: 11.2s\n",
      "903:\tlearn: 1631.9692241\ttotal: 25.4s\tremaining: 11.1s\n",
      "904:\tlearn: 1631.8040332\ttotal: 25.5s\tremaining: 11.1s\n",
      "905:\tlearn: 1631.7385248\ttotal: 25.5s\tremaining: 11.1s\n",
      "906:\tlearn: 1631.6263388\ttotal: 25.5s\tremaining: 11.1s\n",
      "907:\tlearn: 1631.5093147\ttotal: 25.6s\tremaining: 11s\n",
      "908:\tlearn: 1631.4338013\ttotal: 25.6s\tremaining: 11s\n",
      "909:\tlearn: 1631.3293708\ttotal: 25.6s\tremaining: 11s\n",
      "910:\tlearn: 1631.2642798\ttotal: 25.6s\tremaining: 11s\n",
      "911:\tlearn: 1631.1438069\ttotal: 25.7s\tremaining: 10.9s\n",
      "912:\tlearn: 1631.0876277\ttotal: 25.7s\tremaining: 10.9s\n",
      "913:\tlearn: 1630.9778418\ttotal: 25.7s\tremaining: 10.9s\n",
      "914:\tlearn: 1630.8740114\ttotal: 25.8s\tremaining: 10.8s\n",
      "915:\tlearn: 1630.7712967\ttotal: 25.8s\tremaining: 10.8s\n",
      "916:\tlearn: 1630.6093525\ttotal: 25.8s\tremaining: 10.8s\n",
      "917:\tlearn: 1630.5442040\ttotal: 25.9s\tremaining: 10.8s\n",
      "918:\tlearn: 1630.4733346\ttotal: 25.9s\tremaining: 10.7s\n",
      "919:\tlearn: 1630.3743679\ttotal: 25.9s\tremaining: 10.7s\n",
      "920:\tlearn: 1630.3593820\ttotal: 25.9s\tremaining: 10.7s\n",
      "921:\tlearn: 1630.2431838\ttotal: 26s\tremaining: 10.6s\n",
      "922:\tlearn: 1630.0677459\ttotal: 26s\tremaining: 10.6s\n",
      "923:\tlearn: 1629.9725534\ttotal: 26s\tremaining: 10.6s\n",
      "924:\tlearn: 1629.9059439\ttotal: 26s\tremaining: 10.6s\n",
      "925:\tlearn: 1629.8191900\ttotal: 26.1s\tremaining: 10.5s\n"
     ]
    },
    {
     "name": "stdout",
     "output_type": "stream",
     "text": [
      "926:\tlearn: 1629.7535427\ttotal: 26.1s\tremaining: 10.5s\n",
      "927:\tlearn: 1629.6804539\ttotal: 26.1s\tremaining: 10.5s\n",
      "928:\tlearn: 1629.5632240\ttotal: 26.2s\tremaining: 10.4s\n",
      "929:\tlearn: 1629.4929282\ttotal: 26.2s\tremaining: 10.4s\n",
      "930:\tlearn: 1629.4156712\ttotal: 26.2s\tremaining: 10.4s\n",
      "931:\tlearn: 1629.3130197\ttotal: 26.2s\tremaining: 10.4s\n",
      "932:\tlearn: 1629.2196474\ttotal: 26.3s\tremaining: 10.3s\n",
      "933:\tlearn: 1629.0672570\ttotal: 26.3s\tremaining: 10.3s\n",
      "934:\tlearn: 1629.0537437\ttotal: 26.3s\tremaining: 10.3s\n",
      "935:\tlearn: 1628.9197641\ttotal: 26.4s\tremaining: 10.3s\n",
      "936:\tlearn: 1628.8618052\ttotal: 26.4s\tremaining: 10.2s\n",
      "937:\tlearn: 1628.7613181\ttotal: 26.4s\tremaining: 10.2s\n",
      "938:\tlearn: 1628.6349484\ttotal: 26.4s\tremaining: 10.2s\n",
      "939:\tlearn: 1628.5522395\ttotal: 26.5s\tremaining: 10.1s\n",
      "940:\tlearn: 1628.4669696\ttotal: 26.5s\tremaining: 10.1s\n",
      "941:\tlearn: 1628.4103216\ttotal: 26.5s\tremaining: 10.1s\n",
      "942:\tlearn: 1628.2674730\ttotal: 26.5s\tremaining: 10.1s\n",
      "943:\tlearn: 1628.2252354\ttotal: 26.6s\tremaining: 10s\n",
      "944:\tlearn: 1628.1150680\ttotal: 26.6s\tremaining: 9.99s\n",
      "945:\tlearn: 1628.0151407\ttotal: 26.6s\tremaining: 9.96s\n",
      "946:\tlearn: 1627.9393244\ttotal: 26.7s\tremaining: 9.94s\n",
      "947:\tlearn: 1627.8019568\ttotal: 26.7s\tremaining: 9.9s\n",
      "948:\tlearn: 1627.7274093\ttotal: 26.7s\tremaining: 9.88s\n",
      "949:\tlearn: 1627.6139918\ttotal: 26.7s\tremaining: 9.85s\n",
      "950:\tlearn: 1627.5229693\ttotal: 26.8s\tremaining: 9.82s\n",
      "951:\tlearn: 1627.4154921\ttotal: 26.8s\tremaining: 9.79s\n",
      "952:\tlearn: 1627.3325431\ttotal: 26.8s\tremaining: 9.76s\n",
      "953:\tlearn: 1627.2263432\ttotal: 26.8s\tremaining: 9.74s\n",
      "954:\tlearn: 1627.0904616\ttotal: 26.9s\tremaining: 9.71s\n",
      "955:\tlearn: 1626.9817620\ttotal: 26.9s\tremaining: 9.68s\n",
      "956:\tlearn: 1626.8872580\ttotal: 26.9s\tremaining: 9.65s\n",
      "957:\tlearn: 1626.8326994\ttotal: 27s\tremaining: 9.63s\n",
      "958:\tlearn: 1626.7599579\ttotal: 27s\tremaining: 9.6s\n",
      "959:\tlearn: 1626.6985282\ttotal: 27s\tremaining: 9.57s\n",
      "960:\tlearn: 1626.5909476\ttotal: 27s\tremaining: 9.54s\n",
      "961:\tlearn: 1626.5159677\ttotal: 27.1s\tremaining: 9.51s\n",
      "962:\tlearn: 1626.4628219\ttotal: 27.1s\tremaining: 9.48s\n",
      "963:\tlearn: 1626.4149307\ttotal: 27.1s\tremaining: 9.45s\n",
      "964:\tlearn: 1626.2987819\ttotal: 27.1s\tremaining: 9.42s\n",
      "965:\tlearn: 1626.1847115\ttotal: 27.2s\tremaining: 9.39s\n",
      "966:\tlearn: 1626.0849990\ttotal: 27.2s\tremaining: 9.36s\n",
      "967:\tlearn: 1626.0318750\ttotal: 27.2s\tremaining: 9.34s\n",
      "968:\tlearn: 1625.9192737\ttotal: 27.2s\tremaining: 9.31s\n",
      "969:\tlearn: 1625.9140057\ttotal: 27.3s\tremaining: 9.28s\n",
      "970:\tlearn: 1625.8393984\ttotal: 27.3s\tremaining: 9.25s\n",
      "971:\tlearn: 1625.7565605\ttotal: 27.3s\tremaining: 9.22s\n",
      "972:\tlearn: 1625.6405497\ttotal: 27.4s\tremaining: 9.19s\n",
      "973:\tlearn: 1625.5798157\ttotal: 27.4s\tremaining: 9.16s\n",
      "974:\tlearn: 1625.4929887\ttotal: 27.4s\tremaining: 9.13s\n",
      "975:\tlearn: 1625.4408609\ttotal: 27.4s\tremaining: 9.11s\n",
      "976:\tlearn: 1625.2819003\ttotal: 27.5s\tremaining: 9.08s\n",
      "977:\tlearn: 1625.1282513\ttotal: 27.5s\tremaining: 9.05s\n",
      "978:\tlearn: 1624.9755086\ttotal: 27.5s\tremaining: 9.02s\n",
      "979:\tlearn: 1624.8491809\ttotal: 27.6s\tremaining: 9s\n",
      "980:\tlearn: 1624.7347380\ttotal: 27.6s\tremaining: 8.97s\n",
      "981:\tlearn: 1624.6512331\ttotal: 27.6s\tremaining: 8.94s\n",
      "982:\tlearn: 1624.5642521\ttotal: 27.6s\tremaining: 8.91s\n",
      "983:\tlearn: 1624.5102001\ttotal: 27.7s\tremaining: 8.89s\n",
      "984:\tlearn: 1624.4272116\ttotal: 27.7s\tremaining: 8.86s\n",
      "985:\tlearn: 1624.3519276\ttotal: 27.7s\tremaining: 8.83s\n",
      "986:\tlearn: 1624.2827396\ttotal: 27.8s\tremaining: 8.8s\n",
      "987:\tlearn: 1624.2215988\ttotal: 27.8s\tremaining: 8.77s\n",
      "988:\tlearn: 1624.0799941\ttotal: 27.8s\tremaining: 8.75s\n",
      "989:\tlearn: 1623.9807108\ttotal: 27.8s\tremaining: 8.72s\n",
      "990:\tlearn: 1623.8824924\ttotal: 27.9s\tremaining: 8.69s\n",
      "991:\tlearn: 1623.7522183\ttotal: 27.9s\tremaining: 8.66s\n",
      "992:\tlearn: 1623.6443670\ttotal: 27.9s\tremaining: 8.63s\n",
      "993:\tlearn: 1623.5823122\ttotal: 28s\tremaining: 8.61s\n",
      "994:\tlearn: 1623.4603863\ttotal: 28s\tremaining: 8.58s\n",
      "995:\tlearn: 1623.4192381\ttotal: 28s\tremaining: 8.55s\n",
      "996:\tlearn: 1623.2867386\ttotal: 28s\tremaining: 8.52s\n",
      "997:\tlearn: 1623.1239661\ttotal: 28.1s\tremaining: 8.49s\n",
      "998:\tlearn: 1623.0600223\ttotal: 28.1s\tremaining: 8.46s\n",
      "999:\tlearn: 1622.9935809\ttotal: 28.1s\tremaining: 8.44s\n",
      "1000:\tlearn: 1622.8930780\ttotal: 28.1s\tremaining: 8.41s\n",
      "1001:\tlearn: 1622.8642356\ttotal: 28.2s\tremaining: 8.38s\n",
      "1002:\tlearn: 1622.7560301\ttotal: 28.2s\tremaining: 8.35s\n",
      "1003:\tlearn: 1622.6816472\ttotal: 28.2s\tremaining: 8.32s\n",
      "1004:\tlearn: 1622.5371454\ttotal: 28.3s\tremaining: 8.29s\n",
      "1005:\tlearn: 1622.3910811\ttotal: 28.3s\tremaining: 8.27s\n",
      "1006:\tlearn: 1622.3441700\ttotal: 28.3s\tremaining: 8.24s\n",
      "1007:\tlearn: 1622.2945624\ttotal: 28.3s\tremaining: 8.21s\n",
      "1008:\tlearn: 1622.2256545\ttotal: 28.4s\tremaining: 8.18s\n",
      "1009:\tlearn: 1622.1587082\ttotal: 28.4s\tremaining: 8.15s\n",
      "1010:\tlearn: 1622.0552340\ttotal: 28.4s\tremaining: 8.12s\n",
      "1011:\tlearn: 1622.0191609\ttotal: 28.4s\tremaining: 8.09s\n",
      "1012:\tlearn: 1621.9548006\ttotal: 28.5s\tremaining: 8.06s\n",
      "1013:\tlearn: 1621.9070518\ttotal: 28.5s\tremaining: 8.04s\n",
      "1014:\tlearn: 1621.8116095\ttotal: 28.5s\tremaining: 8.01s\n",
      "1015:\tlearn: 1621.7995616\ttotal: 28.6s\tremaining: 7.98s\n",
      "1016:\tlearn: 1621.7278334\ttotal: 28.6s\tremaining: 7.95s\n",
      "1017:\tlearn: 1621.6806386\ttotal: 28.6s\tremaining: 7.92s\n",
      "1018:\tlearn: 1621.5770076\ttotal: 28.6s\tremaining: 7.89s\n",
      "1019:\tlearn: 1621.4679608\ttotal: 28.7s\tremaining: 7.87s\n",
      "1020:\tlearn: 1621.4032916\ttotal: 28.7s\tremaining: 7.84s\n",
      "1021:\tlearn: 1621.3027125\ttotal: 28.7s\tremaining: 7.81s\n",
      "1022:\tlearn: 1621.2097128\ttotal: 28.7s\tremaining: 7.78s\n",
      "1023:\tlearn: 1621.0782614\ttotal: 28.8s\tremaining: 7.75s\n",
      "1024:\tlearn: 1621.0299624\ttotal: 28.8s\tremaining: 7.73s\n",
      "1025:\tlearn: 1620.8654628\ttotal: 28.8s\tremaining: 7.7s\n",
      "1026:\tlearn: 1620.7910162\ttotal: 28.9s\tremaining: 7.67s\n",
      "1027:\tlearn: 1620.7173552\ttotal: 28.9s\tremaining: 7.64s\n",
      "1028:\tlearn: 1620.6474652\ttotal: 28.9s\tremaining: 7.61s\n",
      "1029:\tlearn: 1620.6006592\ttotal: 28.9s\tremaining: 7.58s\n",
      "1030:\tlearn: 1620.4952737\ttotal: 29s\tremaining: 7.56s\n",
      "1031:\tlearn: 1620.2036523\ttotal: 29s\tremaining: 7.53s\n",
      "1032:\tlearn: 1620.0923740\ttotal: 29s\tremaining: 7.5s\n",
      "1033:\tlearn: 1619.9785154\ttotal: 29.1s\tremaining: 7.48s\n",
      "1034:\tlearn: 1619.8853908\ttotal: 29.1s\tremaining: 7.45s\n",
      "1035:\tlearn: 1619.7736394\ttotal: 29.1s\tremaining: 7.42s\n",
      "1036:\tlearn: 1619.6879473\ttotal: 29.1s\tremaining: 7.39s\n",
      "1037:\tlearn: 1619.5976398\ttotal: 29.2s\tremaining: 7.36s\n",
      "1038:\tlearn: 1619.5385356\ttotal: 29.2s\tremaining: 7.33s\n",
      "1039:\tlearn: 1619.4891561\ttotal: 29.2s\tremaining: 7.31s\n",
      "1040:\tlearn: 1619.3882385\ttotal: 29.3s\tremaining: 7.28s\n",
      "1041:\tlearn: 1619.2184835\ttotal: 29.3s\tremaining: 7.25s\n",
      "1042:\tlearn: 1619.1260524\ttotal: 29.3s\tremaining: 7.22s\n",
      "1043:\tlearn: 1619.0900247\ttotal: 29.3s\tremaining: 7.2s\n",
      "1044:\tlearn: 1619.0129284\ttotal: 29.4s\tremaining: 7.17s\n",
      "1045:\tlearn: 1618.9185659\ttotal: 29.4s\tremaining: 7.14s\n",
      "1046:\tlearn: 1618.8404483\ttotal: 29.4s\tremaining: 7.11s\n",
      "1047:\tlearn: 1618.7771902\ttotal: 29.4s\tremaining: 7.08s\n",
      "1048:\tlearn: 1618.7271286\ttotal: 29.5s\tremaining: 7.05s\n",
      "1049:\tlearn: 1618.6170769\ttotal: 29.5s\tremaining: 7.02s\n",
      "1050:\tlearn: 1618.5379857\ttotal: 29.5s\tremaining: 7s\n",
      "1051:\tlearn: 1618.4914435\ttotal: 29.6s\tremaining: 6.97s\n",
      "1052:\tlearn: 1618.3533641\ttotal: 29.6s\tremaining: 6.94s\n",
      "1053:\tlearn: 1618.2345297\ttotal: 29.6s\tremaining: 6.91s\n",
      "1054:\tlearn: 1618.1130325\ttotal: 29.6s\tremaining: 6.88s\n",
      "1055:\tlearn: 1618.0191791\ttotal: 29.7s\tremaining: 6.86s\n",
      "1056:\tlearn: 1617.9572106\ttotal: 29.7s\tremaining: 6.83s\n",
      "1057:\tlearn: 1617.8321360\ttotal: 29.7s\tremaining: 6.8s\n",
      "1058:\tlearn: 1617.7214202\ttotal: 29.8s\tremaining: 6.77s\n",
      "1059:\tlearn: 1617.6325882\ttotal: 29.8s\tremaining: 6.75s\n",
      "1060:\tlearn: 1617.5918256\ttotal: 29.8s\tremaining: 6.72s\n",
      "1061:\tlearn: 1617.5358615\ttotal: 29.9s\tremaining: 6.69s\n",
      "1062:\tlearn: 1617.4110970\ttotal: 29.9s\tremaining: 6.66s\n",
      "1063:\tlearn: 1617.3145160\ttotal: 29.9s\tremaining: 6.64s\n",
      "1064:\tlearn: 1617.2636744\ttotal: 29.9s\tremaining: 6.61s\n",
      "1065:\tlearn: 1617.1808498\ttotal: 30s\tremaining: 6.58s\n",
      "1066:\tlearn: 1617.1251461\ttotal: 30s\tremaining: 6.55s\n",
      "1067:\tlearn: 1617.0683892\ttotal: 30s\tremaining: 6.52s\n",
      "1068:\tlearn: 1616.9505322\ttotal: 30.1s\tremaining: 6.5s\n",
      "1069:\tlearn: 1616.8219270\ttotal: 30.1s\tremaining: 6.47s\n",
      "1070:\tlearn: 1616.7349192\ttotal: 30.1s\tremaining: 6.44s\n",
      "1071:\tlearn: 1616.6093814\ttotal: 30.1s\tremaining: 6.41s\n",
      "1072:\tlearn: 1616.5323898\ttotal: 30.2s\tremaining: 6.38s\n",
      "1073:\tlearn: 1616.4398087\ttotal: 30.2s\tremaining: 6.36s\n",
      "1074:\tlearn: 1616.3363754\ttotal: 30.2s\tremaining: 6.33s\n",
      "1075:\tlearn: 1616.2559638\ttotal: 30.3s\tremaining: 6.3s\n",
      "1076:\tlearn: 1616.1933194\ttotal: 30.3s\tremaining: 6.27s\n"
     ]
    },
    {
     "name": "stdout",
     "output_type": "stream",
     "text": [
      "1077:\tlearn: 1616.1352678\ttotal: 30.3s\tremaining: 6.24s\n",
      "1078:\tlearn: 1616.0729992\ttotal: 30.3s\tremaining: 6.21s\n",
      "1079:\tlearn: 1615.9792357\ttotal: 30.4s\tremaining: 6.19s\n",
      "1080:\tlearn: 1615.9416647\ttotal: 30.4s\tremaining: 6.16s\n",
      "1081:\tlearn: 1615.8782327\ttotal: 30.4s\tremaining: 6.13s\n",
      "1082:\tlearn: 1615.7438807\ttotal: 30.5s\tremaining: 6.1s\n",
      "1083:\tlearn: 1615.6452737\ttotal: 30.5s\tremaining: 6.08s\n",
      "1084:\tlearn: 1615.5804423\ttotal: 30.5s\tremaining: 6.05s\n",
      "1085:\tlearn: 1615.5368364\ttotal: 30.6s\tremaining: 6.02s\n",
      "1086:\tlearn: 1615.5060981\ttotal: 30.6s\tremaining: 5.99s\n",
      "1087:\tlearn: 1615.4351710\ttotal: 30.6s\tremaining: 5.96s\n",
      "1088:\tlearn: 1615.3709359\ttotal: 30.6s\tremaining: 5.93s\n",
      "1089:\tlearn: 1615.3260331\ttotal: 30.7s\tremaining: 5.91s\n",
      "1090:\tlearn: 1615.2609778\ttotal: 30.7s\tremaining: 5.88s\n",
      "1091:\tlearn: 1615.1881323\ttotal: 30.7s\tremaining: 5.85s\n",
      "1092:\tlearn: 1615.1542900\ttotal: 30.7s\tremaining: 5.82s\n",
      "1093:\tlearn: 1615.0762193\ttotal: 30.8s\tremaining: 5.79s\n",
      "1094:\tlearn: 1615.0296153\ttotal: 30.8s\tremaining: 5.76s\n",
      "1095:\tlearn: 1614.9521737\ttotal: 30.8s\tremaining: 5.74s\n",
      "1096:\tlearn: 1614.8254251\ttotal: 30.8s\tremaining: 5.71s\n",
      "1097:\tlearn: 1614.7573324\ttotal: 30.9s\tremaining: 5.68s\n",
      "1098:\tlearn: 1614.6753268\ttotal: 30.9s\tremaining: 5.65s\n",
      "1099:\tlearn: 1614.5667913\ttotal: 30.9s\tremaining: 5.63s\n",
      "1100:\tlearn: 1614.5003848\ttotal: 31s\tremaining: 5.6s\n",
      "1101:\tlearn: 1614.4572521\ttotal: 31s\tremaining: 5.57s\n",
      "1102:\tlearn: 1614.3893131\ttotal: 31s\tremaining: 5.54s\n",
      "1103:\tlearn: 1614.2335159\ttotal: 31s\tremaining: 5.51s\n",
      "1104:\tlearn: 1614.1676738\ttotal: 31.1s\tremaining: 5.48s\n",
      "1105:\tlearn: 1614.1058168\ttotal: 31.1s\tremaining: 5.45s\n",
      "1106:\tlearn: 1614.0181762\ttotal: 31.1s\tremaining: 5.43s\n",
      "1107:\tlearn: 1613.9454317\ttotal: 31.2s\tremaining: 5.4s\n",
      "1108:\tlearn: 1613.8942990\ttotal: 31.2s\tremaining: 5.37s\n",
      "1109:\tlearn: 1613.8251187\ttotal: 31.2s\tremaining: 5.34s\n",
      "1110:\tlearn: 1613.7328928\ttotal: 31.2s\tremaining: 5.31s\n",
      "1111:\tlearn: 1613.4729957\ttotal: 31.3s\tremaining: 5.29s\n",
      "1112:\tlearn: 1613.3808765\ttotal: 31.3s\tremaining: 5.26s\n",
      "1113:\tlearn: 1613.3315268\ttotal: 31.3s\tremaining: 5.23s\n",
      "1114:\tlearn: 1613.2858740\ttotal: 31.3s\tremaining: 5.2s\n",
      "1115:\tlearn: 1613.1744838\ttotal: 31.4s\tremaining: 5.17s\n",
      "1116:\tlearn: 1613.1128267\ttotal: 31.4s\tremaining: 5.14s\n",
      "1117:\tlearn: 1613.0576315\ttotal: 31.4s\tremaining: 5.12s\n",
      "1118:\tlearn: 1612.9702201\ttotal: 31.5s\tremaining: 5.09s\n",
      "1119:\tlearn: 1612.8561780\ttotal: 31.5s\tremaining: 5.06s\n",
      "1120:\tlearn: 1612.7735896\ttotal: 31.5s\tremaining: 5.03s\n",
      "1121:\tlearn: 1612.7004836\ttotal: 31.5s\tremaining: 5s\n",
      "1122:\tlearn: 1612.6520320\ttotal: 31.6s\tremaining: 4.98s\n",
      "1123:\tlearn: 1612.6019953\ttotal: 31.6s\tremaining: 4.95s\n",
      "1124:\tlearn: 1612.5119761\ttotal: 31.6s\tremaining: 4.92s\n",
      "1125:\tlearn: 1612.4364427\ttotal: 31.7s\tremaining: 4.89s\n",
      "1126:\tlearn: 1612.3246964\ttotal: 31.7s\tremaining: 4.86s\n",
      "1127:\tlearn: 1612.2424920\ttotal: 31.7s\tremaining: 4.84s\n",
      "1128:\tlearn: 1612.1715244\ttotal: 31.7s\tremaining: 4.81s\n",
      "1129:\tlearn: 1612.1137028\ttotal: 31.8s\tremaining: 4.78s\n",
      "1130:\tlearn: 1612.0809416\ttotal: 31.8s\tremaining: 4.75s\n",
      "1131:\tlearn: 1612.0235992\ttotal: 31.8s\tremaining: 4.72s\n",
      "1132:\tlearn: 1611.9613434\ttotal: 31.9s\tremaining: 4.7s\n",
      "1133:\tlearn: 1611.8208722\ttotal: 31.9s\tremaining: 4.67s\n",
      "1134:\tlearn: 1611.7578167\ttotal: 31.9s\tremaining: 4.64s\n",
      "1135:\tlearn: 1611.6680111\ttotal: 31.9s\tremaining: 4.61s\n",
      "1136:\tlearn: 1611.5838791\ttotal: 32s\tremaining: 4.58s\n",
      "1137:\tlearn: 1611.4750399\ttotal: 32s\tremaining: 4.55s\n",
      "1138:\tlearn: 1611.4223436\ttotal: 32s\tremaining: 4.53s\n",
      "1139:\tlearn: 1611.3653565\ttotal: 32.1s\tremaining: 4.5s\n",
      "1140:\tlearn: 1611.3034680\ttotal: 32.1s\tremaining: 4.47s\n",
      "1141:\tlearn: 1611.2656550\ttotal: 32.1s\tremaining: 4.44s\n",
      "1142:\tlearn: 1611.1746469\ttotal: 32.1s\tremaining: 4.41s\n",
      "1143:\tlearn: 1610.9799533\ttotal: 32.2s\tremaining: 4.38s\n",
      "1144:\tlearn: 1610.9393289\ttotal: 32.2s\tremaining: 4.36s\n",
      "1145:\tlearn: 1610.8857836\ttotal: 32.2s\tremaining: 4.33s\n",
      "1146:\tlearn: 1610.8366157\ttotal: 32.2s\tremaining: 4.3s\n",
      "1147:\tlearn: 1610.7460290\ttotal: 32.3s\tremaining: 4.27s\n",
      "1148:\tlearn: 1610.6726275\ttotal: 32.3s\tremaining: 4.24s\n",
      "1149:\tlearn: 1610.5812418\ttotal: 32.3s\tremaining: 4.21s\n",
      "1150:\tlearn: 1610.5122838\ttotal: 32.3s\tremaining: 4.19s\n",
      "1151:\tlearn: 1610.3591974\ttotal: 32.4s\tremaining: 4.16s\n",
      "1152:\tlearn: 1610.2826811\ttotal: 32.4s\tremaining: 4.13s\n",
      "1153:\tlearn: 1610.1910699\ttotal: 32.4s\tremaining: 4.1s\n",
      "1154:\tlearn: 1610.1604383\ttotal: 32.5s\tremaining: 4.07s\n",
      "1155:\tlearn: 1610.1058760\ttotal: 32.5s\tremaining: 4.05s\n",
      "1156:\tlearn: 1609.9753080\ttotal: 32.5s\tremaining: 4.02s\n",
      "1157:\tlearn: 1609.8361955\ttotal: 32.5s\tremaining: 3.99s\n",
      "1158:\tlearn: 1609.7247305\ttotal: 32.6s\tremaining: 3.96s\n",
      "1159:\tlearn: 1609.6746378\ttotal: 32.6s\tremaining: 3.93s\n",
      "1160:\tlearn: 1609.5422943\ttotal: 32.6s\tremaining: 3.91s\n",
      "1161:\tlearn: 1609.4767556\ttotal: 32.7s\tremaining: 3.88s\n",
      "1162:\tlearn: 1609.4675189\ttotal: 32.7s\tremaining: 3.85s\n",
      "1163:\tlearn: 1609.3771485\ttotal: 32.7s\tremaining: 3.82s\n",
      "1164:\tlearn: 1609.2666517\ttotal: 32.7s\tremaining: 3.79s\n",
      "1165:\tlearn: 1609.2405059\ttotal: 32.8s\tremaining: 3.77s\n",
      "1166:\tlearn: 1609.1981821\ttotal: 32.8s\tremaining: 3.74s\n",
      "1167:\tlearn: 1609.1007876\ttotal: 32.8s\tremaining: 3.71s\n",
      "1168:\tlearn: 1609.0483162\ttotal: 32.9s\tremaining: 3.68s\n",
      "1169:\tlearn: 1608.9948804\ttotal: 32.9s\tremaining: 3.65s\n",
      "1170:\tlearn: 1608.9181856\ttotal: 32.9s\tremaining: 3.63s\n",
      "1171:\tlearn: 1608.8201928\ttotal: 33s\tremaining: 3.6s\n",
      "1172:\tlearn: 1608.7783669\ttotal: 33s\tremaining: 3.57s\n",
      "1173:\tlearn: 1608.6651574\ttotal: 33s\tremaining: 3.54s\n",
      "1174:\tlearn: 1608.5825968\ttotal: 33s\tremaining: 3.52s\n",
      "1175:\tlearn: 1608.5218693\ttotal: 33.1s\tremaining: 3.49s\n",
      "1176:\tlearn: 1608.3895783\ttotal: 33.1s\tremaining: 3.46s\n",
      "1177:\tlearn: 1608.3378034\ttotal: 33.1s\tremaining: 3.43s\n",
      "1178:\tlearn: 1608.2760555\ttotal: 33.2s\tremaining: 3.4s\n",
      "1179:\tlearn: 1608.1743473\ttotal: 33.2s\tremaining: 3.38s\n",
      "1180:\tlearn: 1608.0982648\ttotal: 33.2s\tremaining: 3.35s\n",
      "1181:\tlearn: 1607.9981056\ttotal: 33.3s\tremaining: 3.32s\n",
      "1182:\tlearn: 1607.9242669\ttotal: 33.3s\tremaining: 3.29s\n",
      "1183:\tlearn: 1607.8828684\ttotal: 33.3s\tremaining: 3.26s\n",
      "1184:\tlearn: 1607.8201421\ttotal: 33.3s\tremaining: 3.23s\n",
      "1185:\tlearn: 1607.7611055\ttotal: 33.4s\tremaining: 3.21s\n",
      "1186:\tlearn: 1607.6452826\ttotal: 33.4s\tremaining: 3.18s\n",
      "1187:\tlearn: 1607.5724535\ttotal: 33.4s\tremaining: 3.15s\n",
      "1188:\tlearn: 1607.4995561\ttotal: 33.4s\tremaining: 3.12s\n",
      "1189:\tlearn: 1607.4196314\ttotal: 33.5s\tremaining: 3.09s\n",
      "1190:\tlearn: 1607.3314206\ttotal: 33.5s\tremaining: 3.06s\n",
      "1191:\tlearn: 1607.2239418\ttotal: 33.5s\tremaining: 3.04s\n",
      "1192:\tlearn: 1607.1714238\ttotal: 33.5s\tremaining: 3.01s\n",
      "1193:\tlearn: 1607.1437428\ttotal: 33.6s\tremaining: 2.98s\n",
      "1194:\tlearn: 1607.0671905\ttotal: 33.6s\tremaining: 2.95s\n",
      "1195:\tlearn: 1606.9152446\ttotal: 33.6s\tremaining: 2.92s\n",
      "1196:\tlearn: 1606.8255743\ttotal: 33.7s\tremaining: 2.9s\n",
      "1197:\tlearn: 1606.7616456\ttotal: 33.7s\tremaining: 2.87s\n",
      "1198:\tlearn: 1606.7331743\ttotal: 33.7s\tremaining: 2.84s\n",
      "1199:\tlearn: 1606.6357508\ttotal: 33.7s\tremaining: 2.81s\n",
      "1200:\tlearn: 1606.5741591\ttotal: 33.8s\tremaining: 2.78s\n",
      "1201:\tlearn: 1606.4820544\ttotal: 33.8s\tremaining: 2.75s\n",
      "1202:\tlearn: 1606.3952058\ttotal: 33.8s\tremaining: 2.73s\n",
      "1203:\tlearn: 1606.3223862\ttotal: 33.9s\tremaining: 2.7s\n",
      "1204:\tlearn: 1606.2646904\ttotal: 33.9s\tremaining: 2.67s\n",
      "1205:\tlearn: 1606.1771452\ttotal: 33.9s\tremaining: 2.64s\n",
      "1206:\tlearn: 1606.1083932\ttotal: 33.9s\tremaining: 2.62s\n",
      "1207:\tlearn: 1606.0679510\ttotal: 34s\tremaining: 2.59s\n",
      "1208:\tlearn: 1605.9426506\ttotal: 34s\tremaining: 2.56s\n",
      "1209:\tlearn: 1605.8667043\ttotal: 34s\tremaining: 2.53s\n",
      "1210:\tlearn: 1605.7901521\ttotal: 34s\tremaining: 2.5s\n",
      "1211:\tlearn: 1605.6768409\ttotal: 34.1s\tremaining: 2.47s\n",
      "1212:\tlearn: 1605.6219855\ttotal: 34.1s\tremaining: 2.44s\n",
      "1213:\tlearn: 1605.5658317\ttotal: 34.1s\tremaining: 2.42s\n",
      "1214:\tlearn: 1605.5210045\ttotal: 34.2s\tremaining: 2.39s\n",
      "1215:\tlearn: 1605.4320314\ttotal: 34.2s\tremaining: 2.36s\n",
      "1216:\tlearn: 1605.3423138\ttotal: 34.2s\tremaining: 2.33s\n",
      "1217:\tlearn: 1605.2741309\ttotal: 34.2s\tremaining: 2.31s\n",
      "1218:\tlearn: 1605.2282898\ttotal: 34.3s\tremaining: 2.28s\n",
      "1219:\tlearn: 1605.1520688\ttotal: 34.3s\tremaining: 2.25s\n",
      "1220:\tlearn: 1605.0837011\ttotal: 34.3s\tremaining: 2.22s\n",
      "1221:\tlearn: 1604.9685052\ttotal: 34.3s\tremaining: 2.19s\n",
      "1222:\tlearn: 1604.8816935\ttotal: 34.4s\tremaining: 2.16s\n",
      "1223:\tlearn: 1604.8212929\ttotal: 34.4s\tremaining: 2.14s\n",
      "1224:\tlearn: 1604.7778909\ttotal: 34.4s\tremaining: 2.11s\n",
      "1225:\tlearn: 1604.7286573\ttotal: 34.5s\tremaining: 2.08s\n"
     ]
    },
    {
     "name": "stdout",
     "output_type": "stream",
     "text": [
      "1226:\tlearn: 1604.6637141\ttotal: 34.5s\tremaining: 2.05s\n",
      "1227:\tlearn: 1604.5803345\ttotal: 34.5s\tremaining: 2.02s\n",
      "1228:\tlearn: 1604.4571809\ttotal: 34.6s\tremaining: 2s\n",
      "1229:\tlearn: 1604.3580263\ttotal: 34.6s\tremaining: 1.97s\n",
      "1230:\tlearn: 1604.3030405\ttotal: 34.6s\tremaining: 1.94s\n",
      "1231:\tlearn: 1604.0731757\ttotal: 34.6s\tremaining: 1.91s\n",
      "1232:\tlearn: 1604.0312133\ttotal: 34.7s\tremaining: 1.88s\n",
      "1233:\tlearn: 1603.9764109\ttotal: 34.7s\tremaining: 1.85s\n",
      "1234:\tlearn: 1603.8974152\ttotal: 34.7s\tremaining: 1.83s\n",
      "1235:\tlearn: 1603.8847562\ttotal: 34.8s\tremaining: 1.8s\n",
      "1236:\tlearn: 1603.7963241\ttotal: 34.8s\tremaining: 1.77s\n",
      "1237:\tlearn: 1603.7457399\ttotal: 34.8s\tremaining: 1.74s\n",
      "1238:\tlearn: 1603.6936491\ttotal: 34.9s\tremaining: 1.72s\n",
      "1239:\tlearn: 1603.6281431\ttotal: 34.9s\tremaining: 1.69s\n",
      "1240:\tlearn: 1603.5591218\ttotal: 34.9s\tremaining: 1.66s\n",
      "1241:\tlearn: 1603.4659059\ttotal: 35s\tremaining: 1.63s\n",
      "1242:\tlearn: 1603.4287733\ttotal: 35s\tremaining: 1.6s\n",
      "1243:\tlearn: 1603.3429387\ttotal: 35s\tremaining: 1.58s\n",
      "1244:\tlearn: 1603.2890481\ttotal: 35s\tremaining: 1.55s\n",
      "1245:\tlearn: 1603.2332802\ttotal: 35.1s\tremaining: 1.52s\n",
      "1246:\tlearn: 1603.1480828\ttotal: 35.1s\tremaining: 1.49s\n",
      "1247:\tlearn: 1603.0711869\ttotal: 35.1s\tremaining: 1.46s\n",
      "1248:\tlearn: 1602.9649884\ttotal: 35.2s\tremaining: 1.44s\n",
      "1249:\tlearn: 1602.8419400\ttotal: 35.2s\tremaining: 1.41s\n",
      "1250:\tlearn: 1602.7625617\ttotal: 35.2s\tremaining: 1.38s\n",
      "1251:\tlearn: 1602.6847422\ttotal: 35.2s\tremaining: 1.35s\n",
      "1252:\tlearn: 1602.6283112\ttotal: 35.3s\tremaining: 1.32s\n",
      "1253:\tlearn: 1602.5318045\ttotal: 35.3s\tremaining: 1.29s\n",
      "1254:\tlearn: 1602.4559143\ttotal: 35.3s\tremaining: 1.27s\n",
      "1255:\tlearn: 1602.2805210\ttotal: 35.3s\tremaining: 1.24s\n",
      "1256:\tlearn: 1602.1080415\ttotal: 35.4s\tremaining: 1.21s\n",
      "1257:\tlearn: 1602.0516763\ttotal: 35.4s\tremaining: 1.18s\n",
      "1258:\tlearn: 1601.9715493\ttotal: 35.4s\tremaining: 1.15s\n",
      "1259:\tlearn: 1601.9156526\ttotal: 35.5s\tremaining: 1.13s\n",
      "1260:\tlearn: 1601.8407897\ttotal: 35.5s\tremaining: 1.1s\n",
      "1261:\tlearn: 1601.8067073\ttotal: 35.5s\tremaining: 1.07s\n",
      "1262:\tlearn: 1601.6857851\ttotal: 35.6s\tremaining: 1.04s\n",
      "1263:\tlearn: 1601.6214328\ttotal: 35.6s\tremaining: 1.01s\n",
      "1264:\tlearn: 1601.4978963\ttotal: 35.6s\tremaining: 986ms\n",
      "1265:\tlearn: 1601.4070043\ttotal: 35.7s\tremaining: 958ms\n",
      "1266:\tlearn: 1601.3285908\ttotal: 35.7s\tremaining: 930ms\n",
      "1267:\tlearn: 1601.2472406\ttotal: 35.7s\tremaining: 902ms\n",
      "1268:\tlearn: 1601.1948379\ttotal: 35.8s\tremaining: 874ms\n",
      "1269:\tlearn: 1601.1532653\ttotal: 35.8s\tremaining: 846ms\n",
      "1270:\tlearn: 1601.0728533\ttotal: 35.8s\tremaining: 818ms\n",
      "1271:\tlearn: 1601.0158912\ttotal: 35.9s\tremaining: 789ms\n",
      "1272:\tlearn: 1600.9795285\ttotal: 35.9s\tremaining: 761ms\n",
      "1273:\tlearn: 1600.9015685\ttotal: 35.9s\tremaining: 733ms\n",
      "1274:\tlearn: 1600.7486549\ttotal: 35.9s\tremaining: 705ms\n",
      "1275:\tlearn: 1600.7085278\ttotal: 36s\tremaining: 676ms\n",
      "1276:\tlearn: 1600.5872554\ttotal: 36s\tremaining: 648ms\n",
      "1277:\tlearn: 1600.5196852\ttotal: 36s\tremaining: 620ms\n",
      "1278:\tlearn: 1600.3871915\ttotal: 36s\tremaining: 592ms\n",
      "1279:\tlearn: 1600.2518984\ttotal: 36.1s\tremaining: 564ms\n",
      "1280:\tlearn: 1600.1983317\ttotal: 36.1s\tremaining: 536ms\n",
      "1281:\tlearn: 1600.1567125\ttotal: 36.1s\tremaining: 507ms\n",
      "1282:\tlearn: 1600.1182582\ttotal: 36.2s\tremaining: 479ms\n",
      "1283:\tlearn: 1600.0663020\ttotal: 36.2s\tremaining: 451ms\n",
      "1284:\tlearn: 1600.0223994\ttotal: 36.2s\tremaining: 423ms\n",
      "1285:\tlearn: 1599.9666132\ttotal: 36.2s\tremaining: 395ms\n",
      "1286:\tlearn: 1599.8846354\ttotal: 36.3s\tremaining: 366ms\n",
      "1287:\tlearn: 1599.7996264\ttotal: 36.3s\tremaining: 338ms\n",
      "1288:\tlearn: 1599.6996965\ttotal: 36.3s\tremaining: 310ms\n",
      "1289:\tlearn: 1599.6361073\ttotal: 36.4s\tremaining: 282ms\n",
      "1290:\tlearn: 1599.6057267\ttotal: 36.4s\tremaining: 254ms\n",
      "1291:\tlearn: 1599.5313989\ttotal: 36.4s\tremaining: 225ms\n",
      "1292:\tlearn: 1599.4663564\ttotal: 36.4s\tremaining: 197ms\n",
      "1293:\tlearn: 1599.4250016\ttotal: 36.5s\tremaining: 169ms\n",
      "1294:\tlearn: 1599.3506977\ttotal: 36.5s\tremaining: 141ms\n",
      "1295:\tlearn: 1599.2931173\ttotal: 36.5s\tremaining: 113ms\n",
      "1296:\tlearn: 1599.2178900\ttotal: 36.5s\tremaining: 84.5ms\n",
      "1297:\tlearn: 1599.1542185\ttotal: 36.6s\tremaining: 56.4ms\n",
      "1298:\tlearn: 1599.1100085\ttotal: 36.6s\tremaining: 28.2ms\n",
      "1299:\tlearn: 1598.8982311\ttotal: 36.6s\tremaining: 0us\n",
      "CPU times: total: 4min 14s\n",
      "Wall time: 20min 42s\n"
     ]
    },
    {
     "data": {
      "text/html": [
       "<style>#sk-container-id-2 {color: black;background-color: white;}#sk-container-id-2 pre{padding: 0;}#sk-container-id-2 div.sk-toggleable {background-color: white;}#sk-container-id-2 label.sk-toggleable__label {cursor: pointer;display: block;width: 100%;margin-bottom: 0;padding: 0.3em;box-sizing: border-box;text-align: center;}#sk-container-id-2 label.sk-toggleable__label-arrow:before {content: \"▸\";float: left;margin-right: 0.25em;color: #696969;}#sk-container-id-2 label.sk-toggleable__label-arrow:hover:before {color: black;}#sk-container-id-2 div.sk-estimator:hover label.sk-toggleable__label-arrow:before {color: black;}#sk-container-id-2 div.sk-toggleable__content {max-height: 0;max-width: 0;overflow: hidden;text-align: left;background-color: #f0f8ff;}#sk-container-id-2 div.sk-toggleable__content pre {margin: 0.2em;color: black;border-radius: 0.25em;background-color: #f0f8ff;}#sk-container-id-2 input.sk-toggleable__control:checked~div.sk-toggleable__content {max-height: 200px;max-width: 100%;overflow: auto;}#sk-container-id-2 input.sk-toggleable__control:checked~label.sk-toggleable__label-arrow:before {content: \"▾\";}#sk-container-id-2 div.sk-estimator input.sk-toggleable__control:checked~label.sk-toggleable__label {background-color: #d4ebff;}#sk-container-id-2 div.sk-label input.sk-toggleable__control:checked~label.sk-toggleable__label {background-color: #d4ebff;}#sk-container-id-2 input.sk-hidden--visually {border: 0;clip: rect(1px 1px 1px 1px);clip: rect(1px, 1px, 1px, 1px);height: 1px;margin: -1px;overflow: hidden;padding: 0;position: absolute;width: 1px;}#sk-container-id-2 div.sk-estimator {font-family: monospace;background-color: #f0f8ff;border: 1px dotted black;border-radius: 0.25em;box-sizing: border-box;margin-bottom: 0.5em;}#sk-container-id-2 div.sk-estimator:hover {background-color: #d4ebff;}#sk-container-id-2 div.sk-parallel-item::after {content: \"\";width: 100%;border-bottom: 1px solid gray;flex-grow: 1;}#sk-container-id-2 div.sk-label:hover label.sk-toggleable__label {background-color: #d4ebff;}#sk-container-id-2 div.sk-serial::before {content: \"\";position: absolute;border-left: 1px solid gray;box-sizing: border-box;top: 0;bottom: 0;left: 50%;z-index: 0;}#sk-container-id-2 div.sk-serial {display: flex;flex-direction: column;align-items: center;background-color: white;padding-right: 0.2em;padding-left: 0.2em;position: relative;}#sk-container-id-2 div.sk-item {position: relative;z-index: 1;}#sk-container-id-2 div.sk-parallel {display: flex;align-items: stretch;justify-content: center;background-color: white;position: relative;}#sk-container-id-2 div.sk-item::before, #sk-container-id-2 div.sk-parallel-item::before {content: \"\";position: absolute;border-left: 1px solid gray;box-sizing: border-box;top: 0;bottom: 0;left: 50%;z-index: -1;}#sk-container-id-2 div.sk-parallel-item {display: flex;flex-direction: column;z-index: 1;position: relative;background-color: white;}#sk-container-id-2 div.sk-parallel-item:first-child::after {align-self: flex-end;width: 50%;}#sk-container-id-2 div.sk-parallel-item:last-child::after {align-self: flex-start;width: 50%;}#sk-container-id-2 div.sk-parallel-item:only-child::after {width: 0;}#sk-container-id-2 div.sk-dashed-wrapped {border: 1px dashed gray;margin: 0 0.4em 0.5em 0.4em;box-sizing: border-box;padding-bottom: 0.4em;background-color: white;}#sk-container-id-2 div.sk-label label {font-family: monospace;font-weight: bold;display: inline-block;line-height: 1.2em;}#sk-container-id-2 div.sk-label-container {text-align: center;}#sk-container-id-2 div.sk-container {/* jupyter's `normalize.less` sets `[hidden] { display: none; }` but bootstrap.min.css set `[hidden] { display: none !important; }` so we also need the `!important` here to be able to override the default hidden behavior on the sphinx rendered scikit-learn.org. See: https://github.com/scikit-learn/scikit-learn/issues/21755 */display: inline-block !important;position: relative;}#sk-container-id-2 div.sk-text-repr-fallback {display: none;}</style><div id=\"sk-container-id-2\" class=\"sk-top-container\"><div class=\"sk-text-repr-fallback\"><pre>GridSearchCV(cv=5,\n",
       "             estimator=Pipeline(steps=[(&#x27;columntransformer&#x27;,\n",
       "                                        ColumnTransformer(transformers=[(&#x27;num&#x27;,\n",
       "                                                                         StandardScaler(),\n",
       "                                                                         [&#x27;Power&#x27;,\n",
       "                                                                          &#x27;age&#x27;]),\n",
       "                                                                        (&#x27;cat&#x27;,\n",
       "                                                                         OrdinalEncoder(),\n",
       "                                                                         [&#x27;VehicleType&#x27;,\n",
       "                                                                          &#x27;Gearbox&#x27;,\n",
       "                                                                          &#x27;Model&#x27;,\n",
       "                                                                          &#x27;Kilometer&#x27;,\n",
       "                                                                          &#x27;FuelType&#x27;,\n",
       "                                                                          &#x27;Brand&#x27;,\n",
       "                                                                          &#x27;Repaired&#x27;])])),\n",
       "                                       (&#x27;catboostregressor&#x27;,\n",
       "                                        &lt;catboost.core.CatBoostRegressor object at 0x000001E149299B50&gt;)]),\n",
       "             n_jobs=-1,\n",
       "             param_grid={&#x27;catboostregressor__max_depth&#x27;: [5, 10],\n",
       "                         &#x27;catboostregressor__n_estimators&#x27;: [1300, 1400, 1500]},\n",
       "             scoring=&#x27;neg_root_mean_squared_error&#x27;)</pre><b>In a Jupyter environment, please rerun this cell to show the HTML representation or trust the notebook. <br />On GitHub, the HTML representation is unable to render, please try loading this page with nbviewer.org.</b></div><div class=\"sk-container\" hidden><div class=\"sk-item sk-dashed-wrapped\"><div class=\"sk-label-container\"><div class=\"sk-label sk-toggleable\"><input class=\"sk-toggleable__control sk-hidden--visually\" id=\"sk-estimator-id-9\" type=\"checkbox\" ><label for=\"sk-estimator-id-9\" class=\"sk-toggleable__label sk-toggleable__label-arrow\">GridSearchCV</label><div class=\"sk-toggleable__content\"><pre>GridSearchCV(cv=5,\n",
       "             estimator=Pipeline(steps=[(&#x27;columntransformer&#x27;,\n",
       "                                        ColumnTransformer(transformers=[(&#x27;num&#x27;,\n",
       "                                                                         StandardScaler(),\n",
       "                                                                         [&#x27;Power&#x27;,\n",
       "                                                                          &#x27;age&#x27;]),\n",
       "                                                                        (&#x27;cat&#x27;,\n",
       "                                                                         OrdinalEncoder(),\n",
       "                                                                         [&#x27;VehicleType&#x27;,\n",
       "                                                                          &#x27;Gearbox&#x27;,\n",
       "                                                                          &#x27;Model&#x27;,\n",
       "                                                                          &#x27;Kilometer&#x27;,\n",
       "                                                                          &#x27;FuelType&#x27;,\n",
       "                                                                          &#x27;Brand&#x27;,\n",
       "                                                                          &#x27;Repaired&#x27;])])),\n",
       "                                       (&#x27;catboostregressor&#x27;,\n",
       "                                        &lt;catboost.core.CatBoostRegressor object at 0x000001E149299B50&gt;)]),\n",
       "             n_jobs=-1,\n",
       "             param_grid={&#x27;catboostregressor__max_depth&#x27;: [5, 10],\n",
       "                         &#x27;catboostregressor__n_estimators&#x27;: [1300, 1400, 1500]},\n",
       "             scoring=&#x27;neg_root_mean_squared_error&#x27;)</pre></div></div></div><div class=\"sk-parallel\"><div class=\"sk-parallel-item\"><div class=\"sk-item\"><div class=\"sk-label-container\"><div class=\"sk-label sk-toggleable\"><input class=\"sk-toggleable__control sk-hidden--visually\" id=\"sk-estimator-id-10\" type=\"checkbox\" ><label for=\"sk-estimator-id-10\" class=\"sk-toggleable__label sk-toggleable__label-arrow\">estimator: Pipeline</label><div class=\"sk-toggleable__content\"><pre>Pipeline(steps=[(&#x27;columntransformer&#x27;,\n",
       "                 ColumnTransformer(transformers=[(&#x27;num&#x27;, StandardScaler(),\n",
       "                                                  [&#x27;Power&#x27;, &#x27;age&#x27;]),\n",
       "                                                 (&#x27;cat&#x27;, OrdinalEncoder(),\n",
       "                                                  [&#x27;VehicleType&#x27;, &#x27;Gearbox&#x27;,\n",
       "                                                   &#x27;Model&#x27;, &#x27;Kilometer&#x27;,\n",
       "                                                   &#x27;FuelType&#x27;, &#x27;Brand&#x27;,\n",
       "                                                   &#x27;Repaired&#x27;])])),\n",
       "                (&#x27;catboostregressor&#x27;,\n",
       "                 &lt;catboost.core.CatBoostRegressor object at 0x000001E149299B50&gt;)])</pre></div></div></div><div class=\"sk-serial\"><div class=\"sk-item\"><div class=\"sk-serial\"><div class=\"sk-item sk-dashed-wrapped\"><div class=\"sk-label-container\"><div class=\"sk-label sk-toggleable\"><input class=\"sk-toggleable__control sk-hidden--visually\" id=\"sk-estimator-id-11\" type=\"checkbox\" ><label for=\"sk-estimator-id-11\" class=\"sk-toggleable__label sk-toggleable__label-arrow\">columntransformer: ColumnTransformer</label><div class=\"sk-toggleable__content\"><pre>ColumnTransformer(transformers=[(&#x27;num&#x27;, StandardScaler(), [&#x27;Power&#x27;, &#x27;age&#x27;]),\n",
       "                                (&#x27;cat&#x27;, OrdinalEncoder(),\n",
       "                                 [&#x27;VehicleType&#x27;, &#x27;Gearbox&#x27;, &#x27;Model&#x27;,\n",
       "                                  &#x27;Kilometer&#x27;, &#x27;FuelType&#x27;, &#x27;Brand&#x27;,\n",
       "                                  &#x27;Repaired&#x27;])])</pre></div></div></div><div class=\"sk-parallel\"><div class=\"sk-parallel-item\"><div class=\"sk-item\"><div class=\"sk-label-container\"><div class=\"sk-label sk-toggleable\"><input class=\"sk-toggleable__control sk-hidden--visually\" id=\"sk-estimator-id-12\" type=\"checkbox\" ><label for=\"sk-estimator-id-12\" class=\"sk-toggleable__label sk-toggleable__label-arrow\">num</label><div class=\"sk-toggleable__content\"><pre>[&#x27;Power&#x27;, &#x27;age&#x27;]</pre></div></div></div><div class=\"sk-serial\"><div class=\"sk-item\"><div class=\"sk-estimator sk-toggleable\"><input class=\"sk-toggleable__control sk-hidden--visually\" id=\"sk-estimator-id-13\" type=\"checkbox\" ><label for=\"sk-estimator-id-13\" class=\"sk-toggleable__label sk-toggleable__label-arrow\">StandardScaler</label><div class=\"sk-toggleable__content\"><pre>StandardScaler()</pre></div></div></div></div></div></div><div class=\"sk-parallel-item\"><div class=\"sk-item\"><div class=\"sk-label-container\"><div class=\"sk-label sk-toggleable\"><input class=\"sk-toggleable__control sk-hidden--visually\" id=\"sk-estimator-id-14\" type=\"checkbox\" ><label for=\"sk-estimator-id-14\" class=\"sk-toggleable__label sk-toggleable__label-arrow\">cat</label><div class=\"sk-toggleable__content\"><pre>[&#x27;VehicleType&#x27;, &#x27;Gearbox&#x27;, &#x27;Model&#x27;, &#x27;Kilometer&#x27;, &#x27;FuelType&#x27;, &#x27;Brand&#x27;, &#x27;Repaired&#x27;]</pre></div></div></div><div class=\"sk-serial\"><div class=\"sk-item\"><div class=\"sk-estimator sk-toggleable\"><input class=\"sk-toggleable__control sk-hidden--visually\" id=\"sk-estimator-id-15\" type=\"checkbox\" ><label for=\"sk-estimator-id-15\" class=\"sk-toggleable__label sk-toggleable__label-arrow\">OrdinalEncoder</label><div class=\"sk-toggleable__content\"><pre>OrdinalEncoder()</pre></div></div></div></div></div></div></div></div><div class=\"sk-item\"><div class=\"sk-estimator sk-toggleable\"><input class=\"sk-toggleable__control sk-hidden--visually\" id=\"sk-estimator-id-16\" type=\"checkbox\" ><label for=\"sk-estimator-id-16\" class=\"sk-toggleable__label sk-toggleable__label-arrow\">CatBoostRegressor</label><div class=\"sk-toggleable__content\"><pre>&lt;catboost.core.CatBoostRegressor object at 0x000001E149299B50&gt;</pre></div></div></div></div></div></div></div></div></div></div></div></div>"
      ],
      "text/plain": [
       "GridSearchCV(cv=5,\n",
       "             estimator=Pipeline(steps=[('columntransformer',\n",
       "                                        ColumnTransformer(transformers=[('num',\n",
       "                                                                         StandardScaler(),\n",
       "                                                                         ['Power',\n",
       "                                                                          'age']),\n",
       "                                                                        ('cat',\n",
       "                                                                         OrdinalEncoder(),\n",
       "                                                                         ['VehicleType',\n",
       "                                                                          'Gearbox',\n",
       "                                                                          'Model',\n",
       "                                                                          'Kilometer',\n",
       "                                                                          'FuelType',\n",
       "                                                                          'Brand',\n",
       "                                                                          'Repaired'])])),\n",
       "                                       ('catboostregressor',\n",
       "                                        <catboost.core.CatBoostRegressor object at 0x000001E149299B50>)]),\n",
       "             n_jobs=-1,\n",
       "             param_grid={'catboostregressor__max_depth': [5, 10],\n",
       "                         'catboostregressor__n_estimators': [1300, 1400, 1500]},\n",
       "             scoring='neg_root_mean_squared_error')"
      ]
     },
     "execution_count": 51,
     "metadata": {},
     "output_type": "execute_result"
    }
   ],
   "source": [
    "%%time\n",
    "\n",
    "# подбор лучших гиперпараметров модели кросс-валидацией\n",
    "GSCV_cat = GridSearchCV(pipe_cat, param_grid_cat, cv = 5, n_jobs=-1,\n",
    "                        scoring='neg_root_mean_squared_error')\n",
    "\n",
    "GSCV_cat.fit(features_train, target_train)"
   ]
  },
  {
   "cell_type": "code",
   "execution_count": 52,
   "metadata": {},
   "outputs": [
    {
     "data": {
      "text/plain": [
       "'RMSE: 1599'"
      ]
     },
     "metadata": {},
     "output_type": "display_data"
    },
    {
     "data": {
      "text/plain": [
       "'Среднее время обучения: 166.6060'"
      ]
     },
     "metadata": {},
     "output_type": "display_data"
    },
    {
     "data": {
      "text/plain": [
       "'Среднее время предсказания: 0.5690'"
      ]
     },
     "metadata": {},
     "output_type": "display_data"
    }
   ],
   "source": [
    "# вывод информации о лучшей модели\n",
    "model_info(GSCV_cat, features_train, target_train)"
   ]
  },
  {
   "cell_type": "markdown",
   "metadata": {},
   "source": [
    "### Модель случайного леса"
   ]
  },
  {
   "cell_type": "code",
   "execution_count": 53,
   "metadata": {},
   "outputs": [],
   "source": [
    "# создание pipeline для RandomForestRegressor\n",
    "pipe_forest = make_pipeline(ColumnTransformer([('num', StandardScaler(), numeric), \n",
    "                                               ('cat', OrdinalEncoder(), category)]), \n",
    "                            RandomForestRegressor(random_state=42))\n",
    "\n",
    "# сетка параметров для GridSearchCV\n",
    "param_grid = {'randomforestregressor__max_depth' : [5, 10],\n",
    "              'randomforestregressor__n_estimators' : [300, 400]}"
   ]
  },
  {
   "cell_type": "code",
   "execution_count": 54,
   "metadata": {},
   "outputs": [
    {
     "name": "stdout",
     "output_type": "stream",
     "text": [
      "CPU times: total: 2min 7s\n",
      "Wall time: 19min 16s\n"
     ]
    },
    {
     "data": {
      "text/html": [
       "<style>#sk-container-id-3 {color: black;background-color: white;}#sk-container-id-3 pre{padding: 0;}#sk-container-id-3 div.sk-toggleable {background-color: white;}#sk-container-id-3 label.sk-toggleable__label {cursor: pointer;display: block;width: 100%;margin-bottom: 0;padding: 0.3em;box-sizing: border-box;text-align: center;}#sk-container-id-3 label.sk-toggleable__label-arrow:before {content: \"▸\";float: left;margin-right: 0.25em;color: #696969;}#sk-container-id-3 label.sk-toggleable__label-arrow:hover:before {color: black;}#sk-container-id-3 div.sk-estimator:hover label.sk-toggleable__label-arrow:before {color: black;}#sk-container-id-3 div.sk-toggleable__content {max-height: 0;max-width: 0;overflow: hidden;text-align: left;background-color: #f0f8ff;}#sk-container-id-3 div.sk-toggleable__content pre {margin: 0.2em;color: black;border-radius: 0.25em;background-color: #f0f8ff;}#sk-container-id-3 input.sk-toggleable__control:checked~div.sk-toggleable__content {max-height: 200px;max-width: 100%;overflow: auto;}#sk-container-id-3 input.sk-toggleable__control:checked~label.sk-toggleable__label-arrow:before {content: \"▾\";}#sk-container-id-3 div.sk-estimator input.sk-toggleable__control:checked~label.sk-toggleable__label {background-color: #d4ebff;}#sk-container-id-3 div.sk-label input.sk-toggleable__control:checked~label.sk-toggleable__label {background-color: #d4ebff;}#sk-container-id-3 input.sk-hidden--visually {border: 0;clip: rect(1px 1px 1px 1px);clip: rect(1px, 1px, 1px, 1px);height: 1px;margin: -1px;overflow: hidden;padding: 0;position: absolute;width: 1px;}#sk-container-id-3 div.sk-estimator {font-family: monospace;background-color: #f0f8ff;border: 1px dotted black;border-radius: 0.25em;box-sizing: border-box;margin-bottom: 0.5em;}#sk-container-id-3 div.sk-estimator:hover {background-color: #d4ebff;}#sk-container-id-3 div.sk-parallel-item::after {content: \"\";width: 100%;border-bottom: 1px solid gray;flex-grow: 1;}#sk-container-id-3 div.sk-label:hover label.sk-toggleable__label {background-color: #d4ebff;}#sk-container-id-3 div.sk-serial::before {content: \"\";position: absolute;border-left: 1px solid gray;box-sizing: border-box;top: 0;bottom: 0;left: 50%;z-index: 0;}#sk-container-id-3 div.sk-serial {display: flex;flex-direction: column;align-items: center;background-color: white;padding-right: 0.2em;padding-left: 0.2em;position: relative;}#sk-container-id-3 div.sk-item {position: relative;z-index: 1;}#sk-container-id-3 div.sk-parallel {display: flex;align-items: stretch;justify-content: center;background-color: white;position: relative;}#sk-container-id-3 div.sk-item::before, #sk-container-id-3 div.sk-parallel-item::before {content: \"\";position: absolute;border-left: 1px solid gray;box-sizing: border-box;top: 0;bottom: 0;left: 50%;z-index: -1;}#sk-container-id-3 div.sk-parallel-item {display: flex;flex-direction: column;z-index: 1;position: relative;background-color: white;}#sk-container-id-3 div.sk-parallel-item:first-child::after {align-self: flex-end;width: 50%;}#sk-container-id-3 div.sk-parallel-item:last-child::after {align-self: flex-start;width: 50%;}#sk-container-id-3 div.sk-parallel-item:only-child::after {width: 0;}#sk-container-id-3 div.sk-dashed-wrapped {border: 1px dashed gray;margin: 0 0.4em 0.5em 0.4em;box-sizing: border-box;padding-bottom: 0.4em;background-color: white;}#sk-container-id-3 div.sk-label label {font-family: monospace;font-weight: bold;display: inline-block;line-height: 1.2em;}#sk-container-id-3 div.sk-label-container {text-align: center;}#sk-container-id-3 div.sk-container {/* jupyter's `normalize.less` sets `[hidden] { display: none; }` but bootstrap.min.css set `[hidden] { display: none !important; }` so we also need the `!important` here to be able to override the default hidden behavior on the sphinx rendered scikit-learn.org. See: https://github.com/scikit-learn/scikit-learn/issues/21755 */display: inline-block !important;position: relative;}#sk-container-id-3 div.sk-text-repr-fallback {display: none;}</style><div id=\"sk-container-id-3\" class=\"sk-top-container\"><div class=\"sk-text-repr-fallback\"><pre>GridSearchCV(cv=5,\n",
       "             estimator=Pipeline(steps=[(&#x27;columntransformer&#x27;,\n",
       "                                        ColumnTransformer(transformers=[(&#x27;num&#x27;,\n",
       "                                                                         StandardScaler(),\n",
       "                                                                         [&#x27;Power&#x27;,\n",
       "                                                                          &#x27;age&#x27;]),\n",
       "                                                                        (&#x27;cat&#x27;,\n",
       "                                                                         OrdinalEncoder(),\n",
       "                                                                         [&#x27;VehicleType&#x27;,\n",
       "                                                                          &#x27;Gearbox&#x27;,\n",
       "                                                                          &#x27;Model&#x27;,\n",
       "                                                                          &#x27;Kilometer&#x27;,\n",
       "                                                                          &#x27;FuelType&#x27;,\n",
       "                                                                          &#x27;Brand&#x27;,\n",
       "                                                                          &#x27;Repaired&#x27;])])),\n",
       "                                       (&#x27;randomforestregressor&#x27;,\n",
       "                                        RandomForestRegressor(random_state=42))]),\n",
       "             n_jobs=-1,\n",
       "             param_grid={&#x27;randomforestregressor__max_depth&#x27;: [5, 10],\n",
       "                         &#x27;randomforestregressor__n_estimators&#x27;: [300, 400]},\n",
       "             scoring=&#x27;neg_root_mean_squared_error&#x27;)</pre><b>In a Jupyter environment, please rerun this cell to show the HTML representation or trust the notebook. <br />On GitHub, the HTML representation is unable to render, please try loading this page with nbviewer.org.</b></div><div class=\"sk-container\" hidden><div class=\"sk-item sk-dashed-wrapped\"><div class=\"sk-label-container\"><div class=\"sk-label sk-toggleable\"><input class=\"sk-toggleable__control sk-hidden--visually\" id=\"sk-estimator-id-17\" type=\"checkbox\" ><label for=\"sk-estimator-id-17\" class=\"sk-toggleable__label sk-toggleable__label-arrow\">GridSearchCV</label><div class=\"sk-toggleable__content\"><pre>GridSearchCV(cv=5,\n",
       "             estimator=Pipeline(steps=[(&#x27;columntransformer&#x27;,\n",
       "                                        ColumnTransformer(transformers=[(&#x27;num&#x27;,\n",
       "                                                                         StandardScaler(),\n",
       "                                                                         [&#x27;Power&#x27;,\n",
       "                                                                          &#x27;age&#x27;]),\n",
       "                                                                        (&#x27;cat&#x27;,\n",
       "                                                                         OrdinalEncoder(),\n",
       "                                                                         [&#x27;VehicleType&#x27;,\n",
       "                                                                          &#x27;Gearbox&#x27;,\n",
       "                                                                          &#x27;Model&#x27;,\n",
       "                                                                          &#x27;Kilometer&#x27;,\n",
       "                                                                          &#x27;FuelType&#x27;,\n",
       "                                                                          &#x27;Brand&#x27;,\n",
       "                                                                          &#x27;Repaired&#x27;])])),\n",
       "                                       (&#x27;randomforestregressor&#x27;,\n",
       "                                        RandomForestRegressor(random_state=42))]),\n",
       "             n_jobs=-1,\n",
       "             param_grid={&#x27;randomforestregressor__max_depth&#x27;: [5, 10],\n",
       "                         &#x27;randomforestregressor__n_estimators&#x27;: [300, 400]},\n",
       "             scoring=&#x27;neg_root_mean_squared_error&#x27;)</pre></div></div></div><div class=\"sk-parallel\"><div class=\"sk-parallel-item\"><div class=\"sk-item\"><div class=\"sk-label-container\"><div class=\"sk-label sk-toggleable\"><input class=\"sk-toggleable__control sk-hidden--visually\" id=\"sk-estimator-id-18\" type=\"checkbox\" ><label for=\"sk-estimator-id-18\" class=\"sk-toggleable__label sk-toggleable__label-arrow\">estimator: Pipeline</label><div class=\"sk-toggleable__content\"><pre>Pipeline(steps=[(&#x27;columntransformer&#x27;,\n",
       "                 ColumnTransformer(transformers=[(&#x27;num&#x27;, StandardScaler(),\n",
       "                                                  [&#x27;Power&#x27;, &#x27;age&#x27;]),\n",
       "                                                 (&#x27;cat&#x27;, OrdinalEncoder(),\n",
       "                                                  [&#x27;VehicleType&#x27;, &#x27;Gearbox&#x27;,\n",
       "                                                   &#x27;Model&#x27;, &#x27;Kilometer&#x27;,\n",
       "                                                   &#x27;FuelType&#x27;, &#x27;Brand&#x27;,\n",
       "                                                   &#x27;Repaired&#x27;])])),\n",
       "                (&#x27;randomforestregressor&#x27;,\n",
       "                 RandomForestRegressor(random_state=42))])</pre></div></div></div><div class=\"sk-serial\"><div class=\"sk-item\"><div class=\"sk-serial\"><div class=\"sk-item sk-dashed-wrapped\"><div class=\"sk-label-container\"><div class=\"sk-label sk-toggleable\"><input class=\"sk-toggleable__control sk-hidden--visually\" id=\"sk-estimator-id-19\" type=\"checkbox\" ><label for=\"sk-estimator-id-19\" class=\"sk-toggleable__label sk-toggleable__label-arrow\">columntransformer: ColumnTransformer</label><div class=\"sk-toggleable__content\"><pre>ColumnTransformer(transformers=[(&#x27;num&#x27;, StandardScaler(), [&#x27;Power&#x27;, &#x27;age&#x27;]),\n",
       "                                (&#x27;cat&#x27;, OrdinalEncoder(),\n",
       "                                 [&#x27;VehicleType&#x27;, &#x27;Gearbox&#x27;, &#x27;Model&#x27;,\n",
       "                                  &#x27;Kilometer&#x27;, &#x27;FuelType&#x27;, &#x27;Brand&#x27;,\n",
       "                                  &#x27;Repaired&#x27;])])</pre></div></div></div><div class=\"sk-parallel\"><div class=\"sk-parallel-item\"><div class=\"sk-item\"><div class=\"sk-label-container\"><div class=\"sk-label sk-toggleable\"><input class=\"sk-toggleable__control sk-hidden--visually\" id=\"sk-estimator-id-20\" type=\"checkbox\" ><label for=\"sk-estimator-id-20\" class=\"sk-toggleable__label sk-toggleable__label-arrow\">num</label><div class=\"sk-toggleable__content\"><pre>[&#x27;Power&#x27;, &#x27;age&#x27;]</pre></div></div></div><div class=\"sk-serial\"><div class=\"sk-item\"><div class=\"sk-estimator sk-toggleable\"><input class=\"sk-toggleable__control sk-hidden--visually\" id=\"sk-estimator-id-21\" type=\"checkbox\" ><label for=\"sk-estimator-id-21\" class=\"sk-toggleable__label sk-toggleable__label-arrow\">StandardScaler</label><div class=\"sk-toggleable__content\"><pre>StandardScaler()</pre></div></div></div></div></div></div><div class=\"sk-parallel-item\"><div class=\"sk-item\"><div class=\"sk-label-container\"><div class=\"sk-label sk-toggleable\"><input class=\"sk-toggleable__control sk-hidden--visually\" id=\"sk-estimator-id-22\" type=\"checkbox\" ><label for=\"sk-estimator-id-22\" class=\"sk-toggleable__label sk-toggleable__label-arrow\">cat</label><div class=\"sk-toggleable__content\"><pre>[&#x27;VehicleType&#x27;, &#x27;Gearbox&#x27;, &#x27;Model&#x27;, &#x27;Kilometer&#x27;, &#x27;FuelType&#x27;, &#x27;Brand&#x27;, &#x27;Repaired&#x27;]</pre></div></div></div><div class=\"sk-serial\"><div class=\"sk-item\"><div class=\"sk-estimator sk-toggleable\"><input class=\"sk-toggleable__control sk-hidden--visually\" id=\"sk-estimator-id-23\" type=\"checkbox\" ><label for=\"sk-estimator-id-23\" class=\"sk-toggleable__label sk-toggleable__label-arrow\">OrdinalEncoder</label><div class=\"sk-toggleable__content\"><pre>OrdinalEncoder()</pre></div></div></div></div></div></div></div></div><div class=\"sk-item\"><div class=\"sk-estimator sk-toggleable\"><input class=\"sk-toggleable__control sk-hidden--visually\" id=\"sk-estimator-id-24\" type=\"checkbox\" ><label for=\"sk-estimator-id-24\" class=\"sk-toggleable__label sk-toggleable__label-arrow\">RandomForestRegressor</label><div class=\"sk-toggleable__content\"><pre>RandomForestRegressor(random_state=42)</pre></div></div></div></div></div></div></div></div></div></div></div></div>"
      ],
      "text/plain": [
       "GridSearchCV(cv=5,\n",
       "             estimator=Pipeline(steps=[('columntransformer',\n",
       "                                        ColumnTransformer(transformers=[('num',\n",
       "                                                                         StandardScaler(),\n",
       "                                                                         ['Power',\n",
       "                                                                          'age']),\n",
       "                                                                        ('cat',\n",
       "                                                                         OrdinalEncoder(),\n",
       "                                                                         ['VehicleType',\n",
       "                                                                          'Gearbox',\n",
       "                                                                          'Model',\n",
       "                                                                          'Kilometer',\n",
       "                                                                          'FuelType',\n",
       "                                                                          'Brand',\n",
       "                                                                          'Repaired'])])),\n",
       "                                       ('randomforestregressor',\n",
       "                                        RandomForestRegressor(random_state=42))]),\n",
       "             n_jobs=-1,\n",
       "             param_grid={'randomforestregressor__max_depth': [5, 10],\n",
       "                         'randomforestregressor__n_estimators': [300, 400]},\n",
       "             scoring='neg_root_mean_squared_error')"
      ]
     },
     "execution_count": 54,
     "metadata": {},
     "output_type": "execute_result"
    }
   ],
   "source": [
    "%%time\n",
    "\n",
    "# подбор лучших гиперпараметров модели кросс-валидацией\n",
    "GSCV_forest = GridSearchCV(pipe_forest, param_grid, cv = 5, n_jobs=-1,\n",
    "                           scoring='neg_root_mean_squared_error')\n",
    "\n",
    "GSCV_forest.fit(features_train, target_train)"
   ]
  },
  {
   "cell_type": "code",
   "execution_count": 55,
   "metadata": {},
   "outputs": [
    {
     "data": {
      "text/plain": [
       "'RMSE: 2351'"
      ]
     },
     "metadata": {},
     "output_type": "display_data"
    },
    {
     "data": {
      "text/plain": [
       "'Среднее время обучения: 288.9440'"
      ]
     },
     "metadata": {},
     "output_type": "display_data"
    },
    {
     "data": {
      "text/plain": [
       "'Среднее время предсказания: 1.6580'"
      ]
     },
     "metadata": {},
     "output_type": "display_data"
    }
   ],
   "source": [
    "# вывод информации о лучшей модели\n",
    "model_info(GSCV_forest, features_train, target_train)"
   ]
  },
  {
   "cell_type": "markdown",
   "metadata": {},
   "source": [
    "## Анализ моделей"
   ]
  },
  {
   "cell_type": "markdown",
   "metadata": {},
   "source": [
    "**Для наглядности** сравнения различных моделей, **соберём все полученные характеристики** в датафрейм:"
   ]
  },
  {
   "cell_type": "code",
   "execution_count": 56,
   "metadata": {},
   "outputs": [
    {
     "data": {
      "text/html": [
       "<style type=\"text/css\">\n",
       "#T_144be_row0_col1, #T_144be_row0_col2, #T_144be_row1_col3 {\n",
       "  background-color: #3b4cc0;\n",
       "  color: #f1f1f1;\n",
       "}\n",
       "#T_144be_row0_col3, #T_144be_row2_col1, #T_144be_row2_col2 {\n",
       "  background-color: #b40426;\n",
       "  color: #f1f1f1;\n",
       "}\n",
       "#T_144be_row1_col1 {\n",
       "  background-color: #6282ea;\n",
       "  color: #f1f1f1;\n",
       "}\n",
       "#T_144be_row1_col2 {\n",
       "  background-color: #dbdcde;\n",
       "  color: #000000;\n",
       "}\n",
       "#T_144be_row2_col3 {\n",
       "  background-color: #4257c9;\n",
       "  color: #f1f1f1;\n",
       "}\n",
       "</style>\n",
       "<table id=\"T_144be\">\n",
       "  <thead>\n",
       "    <tr>\n",
       "      <th class=\"blank level0\" >&nbsp;</th>\n",
       "      <th id=\"T_144be_level0_col0\" class=\"col_heading level0 col0\" >model</th>\n",
       "      <th id=\"T_144be_level0_col1\" class=\"col_heading level0 col1\" >RMSE</th>\n",
       "      <th id=\"T_144be_level0_col2\" class=\"col_heading level0 col2\" >fit_time, s</th>\n",
       "      <th id=\"T_144be_level0_col3\" class=\"col_heading level0 col3\" >score_time, s</th>\n",
       "    </tr>\n",
       "  </thead>\n",
       "  <tbody>\n",
       "    <tr>\n",
       "      <th id=\"T_144be_level0_row0\" class=\"row_heading level0 row0\" >0</th>\n",
       "      <td id=\"T_144be_row0_col0\" class=\"data row0 col0\" >GSCV_lgbm</td>\n",
       "      <td id=\"T_144be_row0_col1\" class=\"data row0 col1\" >1488</td>\n",
       "      <td id=\"T_144be_row0_col2\" class=\"data row0 col2\" >46.193000</td>\n",
       "      <td id=\"T_144be_row0_col3\" class=\"data row0 col3\" >41.907000</td>\n",
       "    </tr>\n",
       "    <tr>\n",
       "      <th id=\"T_144be_level0_row1\" class=\"row_heading level0 row1\" >1</th>\n",
       "      <td id=\"T_144be_row1_col0\" class=\"data row1 col0\" >GSCV_cat</td>\n",
       "      <td id=\"T_144be_row1_col1\" class=\"data row1 col1\" >1599</td>\n",
       "      <td id=\"T_144be_row1_col2\" class=\"data row1 col2\" >166.606000</td>\n",
       "      <td id=\"T_144be_row1_col3\" class=\"data row1 col3\" >0.569000</td>\n",
       "    </tr>\n",
       "    <tr>\n",
       "      <th id=\"T_144be_level0_row2\" class=\"row_heading level0 row2\" >2</th>\n",
       "      <td id=\"T_144be_row2_col0\" class=\"data row2 col0\" >GSCV_forest</td>\n",
       "      <td id=\"T_144be_row2_col1\" class=\"data row2 col1\" >2351</td>\n",
       "      <td id=\"T_144be_row2_col2\" class=\"data row2 col2\" >288.944000</td>\n",
       "      <td id=\"T_144be_row2_col3\" class=\"data row2 col3\" >1.658000</td>\n",
       "    </tr>\n",
       "  </tbody>\n",
       "</table>\n"
      ],
      "text/plain": [
       "<pandas.io.formats.style.Styler at 0x1e140c88100>"
      ]
     },
     "execution_count": 56,
     "metadata": {},
     "output_type": "execute_result"
    }
   ],
   "source": [
    "# список с названиями моделей\n",
    "model_list = ['GSCV_lgbm', 'GSCV_cat', 'GSCV_forest']\n",
    "\n",
    "# создание пустого словаря\n",
    "model_cv_metrics = {} \n",
    "\n",
    "# добавление собранных списков в словарь\n",
    "model_cv_metrics['model'] = model_list\n",
    "model_cv_metrics['RMSE'] = rmse_cv_list\n",
    "model_cv_metrics['fit_time, s'] = fit_time_cv_list\n",
    "model_cv_metrics['score_time, s'] = score_time_cv_list\n",
    "\n",
    "# преобразование словаря в датафрейм\n",
    "model_cv_metrics = pd.DataFrame(data=model_cv_metrics) \n",
    "model_cv_metrics.style.background_gradient('coolwarm', axis=0)"
   ]
  },
  {
   "cell_type": "markdown",
   "metadata": {},
   "source": [
    "Первое, что привлекает внимание - **модели, использующие градиентный бустинг (GSCV_lgbm и GSCV_cat), значительно быстрее обучаются**, при этом **лучшие показатели** по этому параметру демонстрирует **GSCV_lgbm** (почти в 3 раз быстрее GSCV_cat и в в 5 - GSCV_forest). С другой стороны, **по скорости предсказания GSCV_lgbm значительно уступает остальным моделям**. Высокая скорость обучения позволяет уделить больше времени доработке модели, увеличить число базовых моделей в ней - в частности, качество GSCV_forest, вероятно, можно было бы повысить значительно увеличив число деревьев, входящих в ансамбль, однако время обучения непомерно выросло бы.\n",
    "\n",
    "**Качество GSCV_lgbm и GSCV_cat достаточно близко, хотя для GSCV_lgbm и удалось получить несколько лучшее значение RMSE. Для дальнейшего тестирования оставим GSCV_lgbm, поскольку она лучшая по двум параметрам - качеству и скорости обучения**. \n",
    "\n",
    "В то же время, стоит отметить, что **в случае больших объёмов данных для предсказаний GSCV_cat может показать себя лучше за счёт очень высокой скорости предсказания**."
   ]
  },
  {
   "cell_type": "markdown",
   "metadata": {},
   "source": [
    "## Тестирование лучшей модели"
   ]
  },
  {
   "cell_type": "markdown",
   "metadata": {},
   "source": [
    "Проверим выбранную модель GSCV_lgbm на тестовых данных:"
   ]
  },
  {
   "cell_type": "code",
   "execution_count": 57,
   "metadata": {},
   "outputs": [
    {
     "name": "stdout",
     "output_type": "stream",
     "text": [
      "CPU times: total: 6.41 s\n",
      "Wall time: 960 ms\n"
     ]
    }
   ],
   "source": [
    "%%time\n",
    "\n",
    "# предсказание на тестовой выборке\n",
    "prediction = GSCV_lgbm.predict(features_test)"
   ]
  },
  {
   "cell_type": "code",
   "execution_count": 58,
   "metadata": {
    "scrolled": true
   },
   "outputs": [
    {
     "data": {
      "text/plain": [
       "1564"
      ]
     },
     "execution_count": 58,
     "metadata": {},
     "output_type": "execute_result"
    }
   ],
   "source": [
    "# RMSE на тестовой выборке\n",
    "rmse = mean_squared_error(target_test, prediction) ** 0.5\n",
    "round(rmse)"
   ]
  },
  {
   "cell_type": "markdown",
   "metadata": {},
   "source": [
    "**Значение RMSE на тестовых данных несколько ниже, однако модель не выглядит переобученной**."
   ]
  },
  {
   "cell_type": "markdown",
   "metadata": {},
   "source": [
    "## Результаты и выводы"
   ]
  },
  {
   "cell_type": "markdown",
   "metadata": {},
   "source": [
    "На превом этапе обработки данных **удалили неинформативные для обучения столбцы** с информацией о дате скачивания  анкеты, числом фото, почтовым индексом и последним посещением - **DateCrawled, NumberOfPictures, PostalCode и LastSeen**, соответственно. Далее **обработали столбцы DateCreated, RegistrationYear и RegistrationMonth** с информацией о дате выставления на продажу и годом и месяцем регистрации автомобиля - **удалили объекты с аномальным значением года регистрации и рассчитали возраст автомобилей**. После этого **столбцы DateCreated, RegistrationYear и RegistrationMonth удалили как неинформативные**. \n",
    "\n",
    "**Аномальные значения обнаружили также в цене и мощности автомобилей. Объекты со слишким низким значением цены (менее 500 евро) удалили**, поскольку это целевой признак. **В случае с мощностью особенно выделялось нулевое значение** - вероятно, пропуски. Их **заполнили медианным значением мощности таких же моделей**. Экстремально большие значения не были представлены широко, поэтому **на основе распределения выбрали границу в 500 л.с. - объекты с большими значениями мощности удалили**.     \n",
    "\n",
    "**Столбцы с информацией о моделях, типах кузова, коробки передач и топлива, а также информацией о ремонте содержали пропуски**. Поскольку все эти данные по существу категориальные, **заполняли их категорией \"other\"**. Более того, **в некоторых из столбцов эта категория уже была**, при том достаточно широко представлена. \n",
    "\n",
    "Также в данных **обнаружили значительное число явных дубликатов, которые впрочем оставили нетронутыми**, поскольку на обучение они не должны влиять негативно. Таким образом, в ходе предобработки и исследовательского анализа данных было утеряно ~ 16% датасета. \n",
    "\n",
    "Перед обучением данные **разбили на  обучающую и тестовую выборки в отношение 85 : 15**. **Подбор параметров и обучение моделей** проводили с помощью **GridSearchCV**. Чтобы избежать утечку данных при кросс-валидации **использовали конвеерную обработку (Pipeline)**, в рамках которой **численные признаки масштабировали с помощью стандартизации, категориальные кодировали методом прямого кодирования, а после передавали в модель**. Для сравнения выбрали **LGBMRegressor, CatBoostRegressor и RandomForestRegressor**, модели **сравнивали по трём показателям - качество (RMSE), время обучения и предсказания**.\n",
    "\n",
    "**Модели GSCV_lgbm и GSCV_cat**, использующие градиентный бустинг, **значительно быстрее обучаются**, при этом **лучшие показатели по этому параметру демонстрирует GSCV_lgbm**, но **по скорости предсказания GSCV_lgbm значительно уступает остальным моделям**. **Качество GSCV_lgbm и GSCV_cat достаточно близко, хотя для GSCV_lgbm и удалось получить несколько лучшее значение RMSE** (1488 евро). **Для дальнейшего тестирования оставили GSCV_lgbm, поскольку она лучшая по двум параметрам - качеству и скорости обучения**. RMSE на тестовой выборке для GSCV_lgbm составило 1564 евро. \n",
    "\n",
    "В то же время, стоит отметить, что **в случае больших объёмов данных для предсказаний GSCV_cat может показать себя лучше за счёт очень высокой скорости предсказания**."
   ]
  }
 ],
 "metadata": {
  "ExecuteTimeLog": [
   {
    "duration": 713,
    "start_time": "2022-12-18T11:36:25.527Z"
   },
   {
    "duration": 3,
    "start_time": "2022-12-18T11:36:27.315Z"
   },
   {
    "duration": 1044,
    "start_time": "2022-12-18T11:36:29.930Z"
   },
   {
    "duration": 139,
    "start_time": "2022-12-18T11:36:33.921Z"
   },
   {
    "duration": 22,
    "start_time": "2022-12-18T11:36:38.145Z"
   },
   {
    "duration": 74,
    "start_time": "2022-12-18T11:36:41.639Z"
   },
   {
    "duration": 117,
    "start_time": "2022-12-18T11:36:43.267Z"
   },
   {
    "duration": 53,
    "start_time": "2022-12-18T11:36:51.414Z"
   },
   {
    "duration": 20,
    "start_time": "2022-12-18T11:36:52.917Z"
   },
   {
    "duration": 28,
    "start_time": "2022-12-18T11:36:54.426Z"
   },
   {
    "duration": 45,
    "start_time": "2022-12-18T11:36:58.011Z"
   },
   {
    "duration": 22,
    "start_time": "2022-12-18T11:36:58.727Z"
   },
   {
    "duration": 10,
    "start_time": "2022-12-18T11:37:01.033Z"
   },
   {
    "duration": 25,
    "start_time": "2022-12-18T11:37:01.731Z"
   },
   {
    "duration": 26,
    "start_time": "2022-12-18T11:37:04.874Z"
   },
   {
    "duration": 16,
    "start_time": "2022-12-18T11:37:06.629Z"
   },
   {
    "duration": 32,
    "start_time": "2022-12-18T11:37:10.761Z"
   },
   {
    "duration": 204,
    "start_time": "2022-12-18T11:37:17.868Z"
   },
   {
    "duration": 24,
    "start_time": "2022-12-18T11:37:21.711Z"
   },
   {
    "duration": 218,
    "start_time": "2022-12-18T11:37:23.023Z"
   },
   {
    "duration": 27,
    "start_time": "2022-12-18T11:37:28.171Z"
   },
   {
    "duration": 15,
    "start_time": "2022-12-18T11:37:31.221Z"
   },
   {
    "duration": 218,
    "start_time": "2022-12-18T11:37:32.771Z"
   },
   {
    "duration": 28,
    "start_time": "2022-12-18T11:37:42.569Z"
   },
   {
    "duration": 77,
    "start_time": "2022-12-18T11:37:56.551Z"
   },
   {
    "duration": 4,
    "start_time": "2022-12-18T11:38:04.940Z"
   },
   {
    "duration": 10,
    "start_time": "2022-12-18T11:47:15.919Z"
   },
   {
    "duration": 4,
    "start_time": "2022-12-18T11:47:53.617Z"
   },
   {
    "duration": 31,
    "start_time": "2022-12-18T11:48:32.750Z"
   },
   {
    "duration": 71,
    "start_time": "2022-12-18T11:48:57.649Z"
   },
   {
    "duration": 10,
    "start_time": "2022-12-18T11:50:38.827Z"
   },
   {
    "duration": 30,
    "start_time": "2022-12-18T11:50:51.967Z"
   },
   {
    "duration": 78,
    "start_time": "2022-12-18T11:53:00.113Z"
   },
   {
    "duration": 64,
    "start_time": "2022-12-18T11:53:21.659Z"
   },
   {
    "duration": 71,
    "start_time": "2022-12-18T11:53:28.515Z"
   },
   {
    "duration": 69,
    "start_time": "2022-12-18T11:53:49.239Z"
   },
   {
    "duration": 16,
    "start_time": "2022-12-18T11:57:36.378Z"
   },
   {
    "duration": 69,
    "start_time": "2022-12-18T11:57:56.746Z"
   },
   {
    "duration": 187,
    "start_time": "2022-12-18T12:00:22.150Z"
   },
   {
    "duration": 27,
    "start_time": "2022-12-18T12:00:26.782Z"
   },
   {
    "duration": 29,
    "start_time": "2022-12-18T12:00:32.372Z"
   },
   {
    "duration": 68,
    "start_time": "2022-12-18T12:04:44.503Z"
   },
   {
    "duration": 187,
    "start_time": "2022-12-18T12:06:58.614Z"
   },
   {
    "duration": 154,
    "start_time": "2022-12-18T12:07:48.418Z"
   },
   {
    "duration": 46,
    "start_time": "2022-12-18T12:13:04.371Z"
   },
   {
    "duration": 70,
    "start_time": "2022-12-18T12:13:08.049Z"
   },
   {
    "duration": 588,
    "start_time": "2022-12-18T12:14:57.658Z"
   },
   {
    "duration": 2,
    "start_time": "2022-12-18T12:14:58.248Z"
   },
   {
    "duration": 790,
    "start_time": "2022-12-18T12:14:58.252Z"
   },
   {
    "duration": 137,
    "start_time": "2022-12-18T12:14:59.045Z"
   },
   {
    "duration": 28,
    "start_time": "2022-12-18T12:14:59.184Z"
   },
   {
    "duration": 103,
    "start_time": "2022-12-18T12:14:59.213Z"
   },
   {
    "duration": 133,
    "start_time": "2022-12-18T12:14:59.318Z"
   },
   {
    "duration": 72,
    "start_time": "2022-12-18T12:14:59.453Z"
   },
   {
    "duration": 21,
    "start_time": "2022-12-18T12:14:59.527Z"
   },
   {
    "duration": 30,
    "start_time": "2022-12-18T12:14:59.550Z"
   },
   {
    "duration": 52,
    "start_time": "2022-12-18T12:14:59.581Z"
   },
   {
    "duration": 29,
    "start_time": "2022-12-18T12:14:59.634Z"
   },
   {
    "duration": 8,
    "start_time": "2022-12-18T12:14:59.665Z"
   },
   {
    "duration": 43,
    "start_time": "2022-12-18T12:14:59.674Z"
   },
   {
    "duration": 26,
    "start_time": "2022-12-18T12:14:59.718Z"
   },
   {
    "duration": 16,
    "start_time": "2022-12-18T12:14:59.745Z"
   },
   {
    "duration": 55,
    "start_time": "2022-12-18T12:14:59.763Z"
   },
   {
    "duration": 203,
    "start_time": "2022-12-18T12:14:59.820Z"
   },
   {
    "duration": 32,
    "start_time": "2022-12-18T12:15:00.025Z"
   },
   {
    "duration": 253,
    "start_time": "2022-12-18T12:15:00.059Z"
   },
   {
    "duration": 30,
    "start_time": "2022-12-18T12:15:00.313Z"
   },
   {
    "duration": 42,
    "start_time": "2022-12-18T12:15:00.345Z"
   },
   {
    "duration": 259,
    "start_time": "2022-12-18T12:15:00.389Z"
   },
   {
    "duration": 28,
    "start_time": "2022-12-18T12:15:00.650Z"
   },
   {
    "duration": 32,
    "start_time": "2022-12-18T12:15:00.680Z"
   },
   {
    "duration": 227,
    "start_time": "2022-12-18T12:15:00.713Z"
   },
   {
    "duration": 231,
    "start_time": "2022-12-18T12:15:00.942Z"
   },
   {
    "duration": 178,
    "start_time": "2022-12-18T12:15:01.176Z"
   },
   {
    "duration": 43,
    "start_time": "2022-12-18T12:17:06.311Z"
   },
   {
    "duration": 218,
    "start_time": "2022-12-18T12:17:47.793Z"
   },
   {
    "duration": 28,
    "start_time": "2022-12-18T12:19:00.616Z"
   },
   {
    "duration": 18,
    "start_time": "2022-12-18T12:24:14.233Z"
   },
   {
    "duration": 25,
    "start_time": "2022-12-18T12:24:52.621Z"
   },
   {
    "duration": 489,
    "start_time": "2022-12-18T12:28:31.126Z"
   },
   {
    "duration": 677,
    "start_time": "2022-12-18T12:30:16.646Z"
   },
   {
    "duration": 740,
    "start_time": "2022-12-18T12:30:31.264Z"
   },
   {
    "duration": 4,
    "start_time": "2022-12-18T12:32:17.358Z"
   },
   {
    "duration": 32,
    "start_time": "2022-12-18T13:00:46.706Z"
   },
   {
    "duration": 27,
    "start_time": "2022-12-18T13:00:58.280Z"
   },
   {
    "duration": 70,
    "start_time": "2022-12-18T13:01:00.144Z"
   },
   {
    "duration": 23,
    "start_time": "2022-12-18T13:01:29.816Z"
   },
   {
    "duration": 76,
    "start_time": "2022-12-18T13:01:30.374Z"
   },
   {
    "duration": 7268,
    "start_time": "2022-12-18T13:07:16.317Z"
   },
   {
    "duration": 219,
    "start_time": "2022-12-18T13:07:44.279Z"
   },
   {
    "duration": 7650,
    "start_time": "2022-12-18T13:09:03.804Z"
   },
   {
    "duration": 315,
    "start_time": "2022-12-18T13:09:14.485Z"
   },
   {
    "duration": 7194,
    "start_time": "2022-12-18T13:11:31.636Z"
   },
   {
    "duration": 229,
    "start_time": "2022-12-18T13:11:46.204Z"
   },
   {
    "duration": 217,
    "start_time": "2022-12-18T13:12:12.536Z"
   },
   {
    "duration": 4,
    "start_time": "2022-12-18T13:12:34.401Z"
   },
   {
    "duration": 419,
    "start_time": "2022-12-18T13:12:50.084Z"
   },
   {
    "duration": 166,
    "start_time": "2022-12-18T13:12:58.909Z"
   },
   {
    "duration": 117,
    "start_time": "2022-12-18T13:15:55.041Z"
   },
   {
    "duration": 69,
    "start_time": "2022-12-18T13:24:52.787Z"
   },
   {
    "duration": 4,
    "start_time": "2022-12-18T13:24:55.816Z"
   },
   {
    "duration": 4,
    "start_time": "2022-12-18T13:25:39.932Z"
   },
   {
    "duration": 622,
    "start_time": "2022-12-18T15:23:11.301Z"
   },
   {
    "duration": 578,
    "start_time": "2022-12-18T15:23:35.557Z"
   },
   {
    "duration": 519,
    "start_time": "2022-12-18T15:24:16.204Z"
   },
   {
    "duration": 2943,
    "start_time": "2022-12-19T09:20:22.372Z"
   },
   {
    "duration": 70,
    "start_time": "2022-12-19T09:22:16.651Z"
   },
   {
    "duration": 1465,
    "start_time": "2022-12-19T09:22:39.784Z"
   },
   {
    "duration": 57,
    "start_time": "2022-12-19T09:27:14.312Z"
   },
   {
    "duration": 3,
    "start_time": "2022-12-19T09:27:36.279Z"
   },
   {
    "duration": 4256,
    "start_time": "2022-12-20T08:04:54.451Z"
   },
   {
    "duration": 1941,
    "start_time": "2022-12-20T08:04:58.709Z"
   },
   {
    "duration": 3,
    "start_time": "2022-12-20T08:05:00.652Z"
   },
   {
    "duration": 1478,
    "start_time": "2022-12-20T08:05:00.657Z"
   },
   {
    "duration": 153,
    "start_time": "2022-12-20T08:05:02.147Z"
   },
   {
    "duration": 42,
    "start_time": "2022-12-20T08:05:02.302Z"
   },
   {
    "duration": 161,
    "start_time": "2022-12-20T08:05:02.347Z"
   },
   {
    "duration": 160,
    "start_time": "2022-12-20T08:05:02.511Z"
   },
   {
    "duration": 106,
    "start_time": "2022-12-20T08:05:02.674Z"
   },
   {
    "duration": 24,
    "start_time": "2022-12-20T08:05:02.782Z"
   },
   {
    "duration": 40,
    "start_time": "2022-12-20T08:05:02.816Z"
   },
   {
    "duration": 78,
    "start_time": "2022-12-20T08:05:02.859Z"
   },
   {
    "duration": 31,
    "start_time": "2022-12-20T08:05:02.939Z"
   },
   {
    "duration": 15,
    "start_time": "2022-12-20T08:05:02.973Z"
   },
   {
    "duration": 59,
    "start_time": "2022-12-20T08:05:02.991Z"
   },
   {
    "duration": 34,
    "start_time": "2022-12-20T08:05:03.053Z"
   },
   {
    "duration": 30,
    "start_time": "2022-12-20T08:05:03.089Z"
   },
   {
    "duration": 73,
    "start_time": "2022-12-20T08:05:03.122Z"
   },
   {
    "duration": 272,
    "start_time": "2022-12-20T08:05:03.196Z"
   },
   {
    "duration": 27,
    "start_time": "2022-12-20T08:05:03.470Z"
   },
   {
    "duration": 302,
    "start_time": "2022-12-20T08:05:03.499Z"
   },
   {
    "duration": 48,
    "start_time": "2022-12-20T08:05:03.803Z"
   },
   {
    "duration": 51,
    "start_time": "2022-12-20T08:05:03.853Z"
   },
   {
    "duration": 354,
    "start_time": "2022-12-20T08:05:03.906Z"
   },
   {
    "duration": 37,
    "start_time": "2022-12-20T08:05:04.263Z"
   },
   {
    "duration": 84,
    "start_time": "2022-12-20T08:05:04.302Z"
   },
   {
    "duration": 273,
    "start_time": "2022-12-20T08:05:04.389Z"
   },
   {
    "duration": 241,
    "start_time": "2022-12-20T08:05:04.664Z"
   },
   {
    "duration": 265,
    "start_time": "2022-12-20T08:05:04.907Z"
   },
   {
    "duration": 55,
    "start_time": "2022-12-20T08:05:05.174Z"
   },
   {
    "duration": 40,
    "start_time": "2022-12-20T08:05:05.231Z"
   },
   {
    "duration": 44,
    "start_time": "2022-12-20T08:05:05.273Z"
   },
   {
    "duration": 69,
    "start_time": "2022-12-20T08:05:05.320Z"
   },
   {
    "duration": 1104,
    "start_time": "2022-12-20T08:05:05.391Z"
   },
   {
    "duration": 38,
    "start_time": "2022-12-20T08:05:06.497Z"
   },
   {
    "duration": 9605,
    "start_time": "2022-12-20T08:05:06.538Z"
   },
   {
    "duration": 162,
    "start_time": "2022-12-20T08:05:16.145Z"
   },
   {
    "duration": 83,
    "start_time": "2022-12-20T08:05:16.315Z"
   },
   {
    "duration": 22,
    "start_time": "2022-12-20T08:05:16.401Z"
   },
   {
    "duration": 264,
    "start_time": "2022-12-20T08:05:16.427Z"
   },
   {
    "duration": 0,
    "start_time": "2022-12-20T08:05:16.694Z"
   },
   {
    "duration": 0,
    "start_time": "2022-12-20T08:05:16.696Z"
   },
   {
    "duration": 2691,
    "start_time": "2022-12-20T08:08:06.769Z"
   },
   {
    "duration": 1523,
    "start_time": "2022-12-20T08:08:09.463Z"
   },
   {
    "duration": 3,
    "start_time": "2022-12-20T08:08:10.988Z"
   },
   {
    "duration": 971,
    "start_time": "2022-12-20T08:08:10.994Z"
   },
   {
    "duration": 155,
    "start_time": "2022-12-20T08:08:11.967Z"
   },
   {
    "duration": 34,
    "start_time": "2022-12-20T08:08:12.124Z"
   },
   {
    "duration": 124,
    "start_time": "2022-12-20T08:08:12.159Z"
   },
   {
    "duration": 156,
    "start_time": "2022-12-20T08:08:12.284Z"
   },
   {
    "duration": 70,
    "start_time": "2022-12-20T08:08:12.442Z"
   },
   {
    "duration": 39,
    "start_time": "2022-12-20T08:08:12.515Z"
   },
   {
    "duration": 42,
    "start_time": "2022-12-20T08:08:12.556Z"
   },
   {
    "duration": 57,
    "start_time": "2022-12-20T08:08:12.600Z"
   },
   {
    "duration": 33,
    "start_time": "2022-12-20T08:08:12.659Z"
   },
   {
    "duration": 26,
    "start_time": "2022-12-20T08:08:12.694Z"
   },
   {
    "duration": 59,
    "start_time": "2022-12-20T08:08:12.721Z"
   },
   {
    "duration": 35,
    "start_time": "2022-12-20T08:08:12.782Z"
   },
   {
    "duration": 51,
    "start_time": "2022-12-20T08:08:12.821Z"
   },
   {
    "duration": 38,
    "start_time": "2022-12-20T08:08:12.874Z"
   },
   {
    "duration": 262,
    "start_time": "2022-12-20T08:08:12.914Z"
   },
   {
    "duration": 24,
    "start_time": "2022-12-20T08:08:13.178Z"
   },
   {
    "duration": 298,
    "start_time": "2022-12-20T08:08:13.203Z"
   },
   {
    "duration": 50,
    "start_time": "2022-12-20T08:08:13.503Z"
   },
   {
    "duration": 17,
    "start_time": "2022-12-20T08:08:13.555Z"
   },
   {
    "duration": 285,
    "start_time": "2022-12-20T08:08:13.574Z"
   },
   {
    "duration": 28,
    "start_time": "2022-12-20T08:08:13.861Z"
   },
   {
    "duration": 36,
    "start_time": "2022-12-20T08:08:13.891Z"
   },
   {
    "duration": 252,
    "start_time": "2022-12-20T08:08:13.929Z"
   },
   {
    "duration": 280,
    "start_time": "2022-12-20T08:08:14.185Z"
   },
   {
    "duration": 202,
    "start_time": "2022-12-20T08:08:14.466Z"
   },
   {
    "duration": 58,
    "start_time": "2022-12-20T08:08:14.670Z"
   },
   {
    "duration": 37,
    "start_time": "2022-12-20T08:08:14.729Z"
   },
   {
    "duration": 50,
    "start_time": "2022-12-20T08:08:14.769Z"
   },
   {
    "duration": 42,
    "start_time": "2022-12-20T08:08:14.825Z"
   },
   {
    "duration": 1083,
    "start_time": "2022-12-20T08:08:14.870Z"
   },
   {
    "duration": 25,
    "start_time": "2022-12-20T08:08:15.955Z"
   },
   {
    "duration": 9711,
    "start_time": "2022-12-20T08:08:15.982Z"
   },
   {
    "duration": 187,
    "start_time": "2022-12-20T08:08:25.696Z"
   },
   {
    "duration": 120,
    "start_time": "2022-12-20T08:08:25.886Z"
   },
   {
    "duration": 8,
    "start_time": "2022-12-20T08:08:26.008Z"
   },
   {
    "duration": 239,
    "start_time": "2022-12-20T08:08:31.603Z"
   },
   {
    "duration": 155,
    "start_time": "2022-12-20T08:09:12.347Z"
   },
   {
    "duration": 18,
    "start_time": "2022-12-20T08:09:14.988Z"
   },
   {
    "duration": 7,
    "start_time": "2022-12-20T08:10:33.452Z"
   },
   {
    "duration": 5,
    "start_time": "2022-12-20T08:10:52.196Z"
   },
   {
    "duration": 15,
    "start_time": "2022-12-20T08:10:58.455Z"
   },
   {
    "duration": 4,
    "start_time": "2022-12-20T08:11:30.668Z"
   },
   {
    "duration": 13,
    "start_time": "2022-12-20T08:11:54.730Z"
   },
   {
    "duration": 5,
    "start_time": "2022-12-20T08:12:51.942Z"
   },
   {
    "duration": 281367,
    "start_time": "2022-12-20T08:13:08.251Z"
   },
   {
    "duration": 43,
    "start_time": "2022-12-20T17:00:20.487Z"
   },
   {
    "duration": 1497,
    "start_time": "2022-12-20T17:00:24.384Z"
   },
   {
    "duration": 3,
    "start_time": "2022-12-20T17:00:26.655Z"
   },
   {
    "duration": 5758,
    "start_time": "2022-12-20T17:00:29.847Z"
   }
  ],
  "kernelspec": {
   "display_name": "Python 3 (ipykernel)",
   "language": "python",
   "name": "python3"
  },
  "language_info": {
   "codemirror_mode": {
    "name": "ipython",
    "version": 3
   },
   "file_extension": ".py",
   "mimetype": "text/x-python",
   "name": "python",
   "nbconvert_exporter": "python",
   "pygments_lexer": "ipython3",
   "version": "3.9.12"
  },
  "toc": {
   "base_numbering": 1,
   "nav_menu": {},
   "number_sections": true,
   "sideBar": true,
   "skip_h1_title": true,
   "title_cell": "Table of Contents",
   "title_sidebar": "Contents",
   "toc_cell": false,
   "toc_position": {
    "height": "calc(100% - 180px)",
    "left": "10px",
    "top": "150px",
    "width": "226.075px"
   },
   "toc_section_display": true,
   "toc_window_display": true
  }
 },
 "nbformat": 4,
 "nbformat_minor": 2
}
