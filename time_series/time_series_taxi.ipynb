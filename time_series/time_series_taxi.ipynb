{
 "cells": [
  {
   "cell_type": "markdown",
   "metadata": {
    "toc": true
   },
   "source": [
    "<h1>Содержание<span class=\"tocSkip\"></span></h1>\n",
    "<div class=\"toc\"><ul class=\"toc-item\"><li><span><a href=\"#Подготовка\" data-toc-modified-id=\"Подготовка-1\"><span class=\"toc-item-num\">1&nbsp;&nbsp;</span>Подготовка</a></span><ul class=\"toc-item\"><li><span><a href=\"#Обзор-данных\" data-toc-modified-id=\"Обзор-данных-1.1\"><span class=\"toc-item-num\">1.1&nbsp;&nbsp;</span>Обзор данных</a></span></li><li><span><a href=\"#Предобработка\" data-toc-modified-id=\"Предобработка-1.2\"><span class=\"toc-item-num\">1.2&nbsp;&nbsp;</span>Предобработка</a></span></li></ul></li><li><span><a href=\"#Анализ\" data-toc-modified-id=\"Анализ-2\"><span class=\"toc-item-num\">2&nbsp;&nbsp;</span>Анализ</a></span></li><li><span><a href=\"#Обучение\" data-toc-modified-id=\"Обучение-3\"><span class=\"toc-item-num\">3&nbsp;&nbsp;</span>Обучение</a></span><ul class=\"toc-item\"><li><span><a href=\"#Создание-признаков\" data-toc-modified-id=\"Создание-признаков-3.1\"><span class=\"toc-item-num\">3.1&nbsp;&nbsp;</span>Создание признаков</a></span></li><li><span><a href=\"#Разбиение-на-выборки\" data-toc-modified-id=\"Разбиение-на-выборки-3.2\"><span class=\"toc-item-num\">3.2&nbsp;&nbsp;</span>Разбиение на выборки</a></span></li><li><span><a href=\"#Обучение-моделей\" data-toc-modified-id=\"Обучение-моделей-3.3\"><span class=\"toc-item-num\">3.3&nbsp;&nbsp;</span>Обучение моделей</a></span><ul class=\"toc-item\"><li><span><a href=\"#LGBM-регрессор\" data-toc-modified-id=\"LGBM-регрессор-3.3.1\"><span class=\"toc-item-num\">3.3.1&nbsp;&nbsp;</span>LGBM регрессор</a></span></li><li><span><a href=\"#CatBoost-регрессор\" data-toc-modified-id=\"CatBoost-регрессор-3.3.2\"><span class=\"toc-item-num\">3.3.2&nbsp;&nbsp;</span>CatBoost регрессор</a></span></li><li><span><a href=\"#Модель-случайного-леса\" data-toc-modified-id=\"Модель-случайного-леса-3.3.3\"><span class=\"toc-item-num\">3.3.3&nbsp;&nbsp;</span>Модель случайного леса</a></span></li></ul></li><li><span><a href=\"#Сравнение-моделей\" data-toc-modified-id=\"Сравнение-моделей-3.4\"><span class=\"toc-item-num\">3.4&nbsp;&nbsp;</span>Сравнение моделей</a></span></li></ul></li><li><span><a href=\"#Тестирование\" data-toc-modified-id=\"Тестирование-4\"><span class=\"toc-item-num\">4&nbsp;&nbsp;</span>Тестирование</a></span></li><li><span><a href=\"#Результаты-и-выводы\" data-toc-modified-id=\"Результаты-и-выводы-5\"><span class=\"toc-item-num\">5&nbsp;&nbsp;</span>Результаты и выводы</a></span></li></ul></div>"
   ]
  },
  {
   "cell_type": "markdown",
   "metadata": {},
   "source": [
    "#  Прогнозирование заказов такси"
   ]
  },
  {
   "cell_type": "markdown",
   "metadata": {},
   "source": [
    "В распоряжении исторические данные о заказах такси в аэропортах. Чтобы привлекать больше водителей в период пиковой нагрузки, нужно спрогнозировать количество заказов такси на следующий час. Необходимо построить модель для такого предсказания.\n",
    "\n",
    "Значение метрики *RMSE* на тестовой выборке должно быть не больше 48.\n",
    "\n",
    "Вам нужно:\n",
    "\n",
    "1. Загрузить данные и выполнить их ресемплирование по одному часу.\n",
    "2. Проанализировать данные.\n",
    "3. Обучить разные модели с различными гиперпараметрами. Сделать тестовую выборку размером 10% от исходных данных.\n",
    "4. Проверить данные на тестовой выборке и сделать выводы."
   ]
  },
  {
   "cell_type": "markdown",
   "metadata": {},
   "source": [
    "Основные этапы работы:\n",
    "\n",
    "- обзор данных\n",
    "- предобработка и исследовательский анализ данных\n",
    "- создание новых признаков\n",
    "- подготовка выборок для обучения и тестирования\n",
    "- обучение моделей\n",
    "- анализ моделей и выбор подходящей\n",
    "- тестирование модели"
   ]
  },
  {
   "cell_type": "markdown",
   "metadata": {},
   "source": [
    "## Подготовка"
   ]
  },
  {
   "cell_type": "code",
   "execution_count": 1,
   "metadata": {},
   "outputs": [],
   "source": [
    "!pip install -q lightgbm "
   ]
  },
  {
   "cell_type": "code",
   "execution_count": 2,
   "metadata": {},
   "outputs": [],
   "source": [
    "!pip install -q catboost "
   ]
  },
  {
   "cell_type": "code",
   "execution_count": 3,
   "metadata": {},
   "outputs": [],
   "source": [
    "# импорт библиотек\n",
    "import warnings\n",
    "import pandas as pd\n",
    "import seaborn as sns\n",
    "import matplotlib.pyplot as plt \n",
    "\n",
    "from statsmodels.tsa.seasonal import seasonal_decompose\n",
    "from sklearn.model_selection import train_test_split \n",
    "from sklearn.model_selection import TimeSeriesSplit\n",
    "from sklearn.model_selection import GridSearchCV\n",
    "from sklearn.pipeline import make_pipeline\n",
    "from sklearn.compose import ColumnTransformer\n",
    "from sklearn.preprocessing import OrdinalEncoder\n",
    "from sklearn.ensemble import RandomForestRegressor\n",
    "from sklearn.linear_model import LinearRegression\n",
    "from sklearn.metrics import mean_squared_error\n",
    "from lightgbm import LGBMRegressor\n",
    "from catboost import CatBoostRegressor"
   ]
  },
  {
   "cell_type": "code",
   "execution_count": 4,
   "metadata": {},
   "outputs": [],
   "source": [
    "# убираем предупреждения\n",
    "warnings.filterwarnings('ignore')"
   ]
  },
  {
   "cell_type": "markdown",
   "metadata": {},
   "source": [
    "### Обзор данных"
   ]
  },
  {
   "cell_type": "markdown",
   "metadata": {},
   "source": [
    "Загрузим данные и **посмотрим на общую информацию** о них:"
   ]
  },
  {
   "cell_type": "code",
   "execution_count": 5,
   "metadata": {},
   "outputs": [
    {
     "data": {
      "text/html": [
       "<div>\n",
       "<style scoped>\n",
       "    .dataframe tbody tr th:only-of-type {\n",
       "        vertical-align: middle;\n",
       "    }\n",
       "\n",
       "    .dataframe tbody tr th {\n",
       "        vertical-align: top;\n",
       "    }\n",
       "\n",
       "    .dataframe thead th {\n",
       "        text-align: right;\n",
       "    }\n",
       "</style>\n",
       "<table border=\"1\" class=\"dataframe\">\n",
       "  <thead>\n",
       "    <tr style=\"text-align: right;\">\n",
       "      <th></th>\n",
       "      <th>datetime</th>\n",
       "      <th>num_orders</th>\n",
       "    </tr>\n",
       "  </thead>\n",
       "  <tbody>\n",
       "    <tr>\n",
       "      <th>0</th>\n",
       "      <td>2018-03-01 00:00:00</td>\n",
       "      <td>9</td>\n",
       "    </tr>\n",
       "    <tr>\n",
       "      <th>1</th>\n",
       "      <td>2018-03-01 00:10:00</td>\n",
       "      <td>14</td>\n",
       "    </tr>\n",
       "    <tr>\n",
       "      <th>2</th>\n",
       "      <td>2018-03-01 00:20:00</td>\n",
       "      <td>28</td>\n",
       "    </tr>\n",
       "    <tr>\n",
       "      <th>3</th>\n",
       "      <td>2018-03-01 00:30:00</td>\n",
       "      <td>20</td>\n",
       "    </tr>\n",
       "    <tr>\n",
       "      <th>4</th>\n",
       "      <td>2018-03-01 00:40:00</td>\n",
       "      <td>32</td>\n",
       "    </tr>\n",
       "  </tbody>\n",
       "</table>\n",
       "</div>"
      ],
      "text/plain": [
       "              datetime  num_orders\n",
       "0  2018-03-01 00:00:00           9\n",
       "1  2018-03-01 00:10:00          14\n",
       "2  2018-03-01 00:20:00          28\n",
       "3  2018-03-01 00:30:00          20\n",
       "4  2018-03-01 00:40:00          32"
      ]
     },
     "execution_count": 5,
     "metadata": {},
     "output_type": "execute_result"
    }
   ],
   "source": [
    "try:\n",
    "    df = pd.read_csv('dataset_taxi.csv')\n",
    "    \n",
    "except:\n",
    "    df = pd.read_csv('/datasets/taxi.csv')\n",
    "\n",
    "df.head()"
   ]
  },
  {
   "cell_type": "code",
   "execution_count": 6,
   "metadata": {},
   "outputs": [
    {
     "name": "stdout",
     "output_type": "stream",
     "text": [
      "<class 'pandas.core.frame.DataFrame'>\n",
      "RangeIndex: 26496 entries, 0 to 26495\n",
      "Data columns (total 2 columns):\n",
      " #   Column      Non-Null Count  Dtype \n",
      "---  ------      --------------  ----- \n",
      " 0   datetime    26496 non-null  object\n",
      " 1   num_orders  26496 non-null  int64 \n",
      "dtypes: int64(1), object(1)\n",
      "memory usage: 414.1+ KB\n"
     ]
    }
   ],
   "source": [
    "df.info()"
   ]
  },
  {
   "cell_type": "markdown",
   "metadata": {},
   "source": [
    "В столбце datetime содержится **информация о дате и времени**. Перезапишем датафрейм, **используя её как индекс**:"
   ]
  },
  {
   "cell_type": "code",
   "execution_count": 7,
   "metadata": {},
   "outputs": [
    {
     "name": "stdout",
     "output_type": "stream",
     "text": [
      "<class 'pandas.core.frame.DataFrame'>\n",
      "DatetimeIndex: 26496 entries, 2018-03-01 00:00:00 to 2018-08-31 23:50:00\n",
      "Data columns (total 1 columns):\n",
      " #   Column      Non-Null Count  Dtype\n",
      "---  ------      --------------  -----\n",
      " 0   num_orders  26496 non-null  int64\n",
      "dtypes: int64(1)\n",
      "memory usage: 414.0 KB\n"
     ]
    }
   ],
   "source": [
    "try:\n",
    "    df = pd.read_csv('dataset_taxi.csv', index_col=[0], parse_dates=[0])\n",
    "    \n",
    "except:\n",
    "    df = pd.read_csv('/datasets/taxi.csv', index_col=[0], parse_dates=[0])\n",
    "\n",
    "df.info()"
   ]
  },
  {
   "cell_type": "markdown",
   "metadata": {},
   "source": [
    "Поскольку имеем временной ряд, **проверим его на монотонность**:"
   ]
  },
  {
   "cell_type": "code",
   "execution_count": 8,
   "metadata": {},
   "outputs": [
    {
     "data": {
      "text/plain": [
       "True"
      ]
     },
     "execution_count": 8,
     "metadata": {},
     "output_type": "execute_result"
    }
   ],
   "source": [
    "df.index.is_monotonic"
   ]
  },
  {
   "cell_type": "markdown",
   "metadata": {},
   "source": [
    "**Ряд монотонно возрастает** от 1 марта 2018 до 31 августа 2018. **Пропущенных значений нет.** "
   ]
  },
  {
   "cell_type": "markdown",
   "metadata": {},
   "source": [
    "### Предобработка"
   ]
  },
  {
   "cell_type": "markdown",
   "metadata": {},
   "source": [
    "Проверим данные на **наличие аномалий**: "
   ]
  },
  {
   "cell_type": "code",
   "execution_count": 9,
   "metadata": {},
   "outputs": [
    {
     "data": {
      "text/plain": [
       "array([  0,   1,   2,   3,   4,   5,   6,   7,   8,   9,  10,  11,  12,\n",
       "        13,  14,  15,  16,  17,  18,  19,  20,  21,  22,  23,  24,  25,\n",
       "        26,  27,  28,  29,  30,  31,  32,  33,  34,  35,  36,  37,  38,\n",
       "        39,  40,  41,  42,  43,  44,  45,  46,  47,  48,  49,  50,  51,\n",
       "        52,  53,  54,  55,  56,  57,  58,  60,  61,  62,  64,  65,  66,\n",
       "        67,  68,  71,  76,  78,  80,  81,  82,  87,  90,  91,  94,  95,\n",
       "        98,  99, 119], dtype=int64)"
      ]
     },
     "execution_count": 9,
     "metadata": {},
     "output_type": "execute_result"
    }
   ],
   "source": [
    "# уникальные значения \n",
    "df['num_orders'].sort_values().unique()"
   ]
  },
  {
   "cell_type": "code",
   "execution_count": 10,
   "metadata": {},
   "outputs": [
    {
     "data": {
      "image/png": "[encoded data removed]",
      "text/plain": [
       "<Figure size 1500x500 with 1 Axes>"
      ]
     },
     "metadata": {},
     "output_type": "display_data"
    }
   ],
   "source": [
    "# график плотности распределения количества заказов\n",
    "plt.figure(figsize=(15, 5))\n",
    "\n",
    "sns.kdeplot(data=df)\n",
    "\n",
    "plt.title(label='Плотность распределения количества заказов')\n",
    "plt.xlabel('Количество заказов')\n",
    "plt.ylabel('Плотность')\n",
    "plt.grid(True)\n",
    "\n",
    "plt.show();"
   ]
  },
  {
   "cell_type": "markdown",
   "metadata": {},
   "source": [
    "**Никаких аномалий не наблюдается.** Проведём **ресемплирование данных с шагом в 1 час**, в качестве агрегирующей функции используем сумму:"
   ]
  },
  {
   "cell_type": "code",
   "execution_count": 11,
   "metadata": {},
   "outputs": [
    {
     "data": {
      "text/html": [
       "<div>\n",
       "<style scoped>\n",
       "    .dataframe tbody tr th:only-of-type {\n",
       "        vertical-align: middle;\n",
       "    }\n",
       "\n",
       "    .dataframe tbody tr th {\n",
       "        vertical-align: top;\n",
       "    }\n",
       "\n",
       "    .dataframe thead th {\n",
       "        text-align: right;\n",
       "    }\n",
       "</style>\n",
       "<table border=\"1\" class=\"dataframe\">\n",
       "  <thead>\n",
       "    <tr style=\"text-align: right;\">\n",
       "      <th></th>\n",
       "      <th>num_orders</th>\n",
       "    </tr>\n",
       "    <tr>\n",
       "      <th>datetime</th>\n",
       "      <th></th>\n",
       "    </tr>\n",
       "  </thead>\n",
       "  <tbody>\n",
       "    <tr>\n",
       "      <th>2018-03-01 00:00:00</th>\n",
       "      <td>124</td>\n",
       "    </tr>\n",
       "    <tr>\n",
       "      <th>2018-03-01 01:00:00</th>\n",
       "      <td>85</td>\n",
       "    </tr>\n",
       "    <tr>\n",
       "      <th>2018-03-01 02:00:00</th>\n",
       "      <td>71</td>\n",
       "    </tr>\n",
       "    <tr>\n",
       "      <th>2018-03-01 03:00:00</th>\n",
       "      <td>66</td>\n",
       "    </tr>\n",
       "    <tr>\n",
       "      <th>2018-03-01 04:00:00</th>\n",
       "      <td>43</td>\n",
       "    </tr>\n",
       "  </tbody>\n",
       "</table>\n",
       "</div>"
      ],
      "text/plain": [
       "                     num_orders\n",
       "datetime                       \n",
       "2018-03-01 00:00:00         124\n",
       "2018-03-01 01:00:00          85\n",
       "2018-03-01 02:00:00          71\n",
       "2018-03-01 03:00:00          66\n",
       "2018-03-01 04:00:00          43"
      ]
     },
     "execution_count": 11,
     "metadata": {},
     "output_type": "execute_result"
    }
   ],
   "source": [
    "df = df.resample('1H').sum()\n",
    "df.head()"
   ]
  },
  {
   "cell_type": "markdown",
   "metadata": {},
   "source": [
    "## Анализ"
   ]
  },
  {
   "cell_type": "markdown",
   "metadata": {},
   "source": [
    "Посмотрим как выглядит **временной ряд и скользящие средние за сутки и неделю**:"
   ]
  },
  {
   "cell_type": "code",
   "execution_count": 12,
   "metadata": {},
   "outputs": [],
   "source": [
    "# создание столбцов со скользящими средними за сутки и неделю \n",
    "df['rolling_mean_day'] = df['num_orders'].shift().rolling(24).mean()\n",
    "df['rolling_mean_week'] = df['num_orders'].shift().rolling(168).mean()"
   ]
  },
  {
   "cell_type": "code",
   "execution_count": 13,
   "metadata": {},
   "outputs": [
    {
     "data": {
      "text/plain": [
       "<Figure size 640x480 with 0 Axes>"
      ]
     },
     "metadata": {},
     "output_type": "display_data"
    },
    {
     "data": {
      "image/png": "[encoded data removed]",
      "text/plain": [
       "<Figure size 1500x700 with 1 Axes>"
      ]
     },
     "metadata": {},
     "output_type": "display_data"
    }
   ],
   "source": [
    "# построение графика\n",
    "plt.figure()\n",
    "\n",
    "df.plot(figsize=(15, 7))\n",
    "\n",
    "plt.title('Временной ряд и скользящие средние за сутки и неделю')\n",
    "plt.xlabel('Дата');"
   ]
  },
  {
   "cell_type": "markdown",
   "metadata": {},
   "source": [
    "Из графика видно, что **скользящее среднее за неделю лучше отражает тренд**, в то время как скользящее среднее за день всё ещё довольно зашумлённое."
   ]
  },
  {
   "cell_type": "code",
   "execution_count": 14,
   "metadata": {},
   "outputs": [],
   "source": [
    "# удалим столбцы со скользящими средними\n",
    "df = df.drop(['rolling_mean_day', 'rolling_mean_week'], axis=1)"
   ]
  },
  {
   "cell_type": "markdown",
   "metadata": {},
   "source": [
    "Проанализируем **тренд** и **сезонность** для имеющегося ряда. Поскольку имеем данные с шагом в 1 час для начала **посмотрим диапазон в 2 недели**:"
   ]
  },
  {
   "cell_type": "code",
   "execution_count": 15,
   "metadata": {},
   "outputs": [
    {
     "data": {
      "image/png": "[encoded data removed]",
      "text/plain": [
       "<Figure size 1500x1000 with 3 Axes>"
      ]
     },
     "metadata": {},
     "output_type": "display_data"
    }
   ],
   "source": [
    "# декомпозиция временного ряда на составляющие \n",
    "decomposed = seasonal_decompose(df['num_orders'])\n",
    "\n",
    "# построение графиков с трендом, сезонностью и остатком\n",
    "plt.figure(figsize=(15, 10))\n",
    "\n",
    "plt.subplot(311)\n",
    "decomposed.trend.plot(ax=plt.gca())\n",
    "plt.title('Тренд')\n",
    "plt.xlabel('Дата')\n",
    "\n",
    "plt.subplot(312)\n",
    "decomposed.seasonal['2018-03-01':'2018-03-14'].plot(ax=plt.gca())\n",
    "plt.title('Сезонность')\n",
    "plt.xlabel('Дата')\n",
    "\n",
    "plt.subplot(313)\n",
    "decomposed.resid['2018-03-01':'2018-03-14'].plot(ax=plt.gca())\n",
    "plt.title('Остаток')\n",
    "plt.xlabel('Дата')\n",
    "\n",
    "plt.tight_layout();"
   ]
  },
  {
   "cell_type": "markdown",
   "metadata": {},
   "source": [
    "**Говорить о наличии чёткой закономерности в тренде достаточно сложно, поскольку диапазон времени слишком маленький**. В то же время, по графику с сезонной составляющей можно судить о наиболее нагруженных часах в работе такси в течение дня. Так, **наибольшее число заказов приходится на время в районе полуночи. Наблюдаются также пики в утренние (7-8 ч) и вечерние (18-19) часы**, которые, во всей видимости, связаны с началом и окончанием рабочего дня.\n",
    "\n",
    "Для определения более глобальных зависимостей, **рассмотрим данные на всём имеющемся диапазоне**, но ресемплированные **с шагом в 1 день**:"
   ]
  },
  {
   "cell_type": "code",
   "execution_count": 16,
   "metadata": {},
   "outputs": [
    {
     "data": {
      "image/png": "[encoded data removed]",
      "text/plain": [
       "<Figure size 1500x1000 with 3 Axes>"
      ]
     },
     "metadata": {},
     "output_type": "display_data"
    }
   ],
   "source": [
    "# декомпозиция временного ряда на составляющие \n",
    "decomposed = seasonal_decompose(df['num_orders'].resample('1D').sum())\n",
    "\n",
    "# построение графиков с трендом, сезонностью и остатком\n",
    "plt.figure(figsize=(15, 10))\n",
    "\n",
    "plt.subplot(311)\n",
    "decomposed.trend.plot(ax=plt.gca())\n",
    "plt.title('Тренд')\n",
    "plt.xlabel('Дата')\n",
    "\n",
    "plt.subplot(312)\n",
    "decomposed.seasonal.plot(ax=plt.gca())\n",
    "plt.title('Сезонность')\n",
    "plt.xlabel('Дата')\n",
    "\n",
    "plt.subplot(313)\n",
    "decomposed.resid.plot(ax=plt.gca())\n",
    "plt.title('Остаток')\n",
    "plt.xlabel('Дата')\n",
    "\n",
    "plt.tight_layout();"
   ]
  },
  {
   "cell_type": "markdown",
   "metadata": {},
   "source": [
    "Здесь уже можно увидеть **тренд** - **рост числа заказов** с начала весны и до самого конца лета. Также **наблюдаются зависимости в рамках недели** - постепенный рост числа заказов в будни, резкое падение в субботу и вновь пик в воскресенье.  "
   ]
  },
  {
   "cell_type": "markdown",
   "metadata": {},
   "source": [
    "## Обучение"
   ]
  },
  {
   "cell_type": "markdown",
   "metadata": {},
   "source": [
    "### Создание признаков"
   ]
  },
  {
   "cell_type": "markdown",
   "metadata": {},
   "source": [
    "**Число заказов в час является таргетом**. В качестве **признаков** извлечём из даты **информацию о дне недели и часе**, поскольку наблюдали недельную сезонность и сезонность в течение дня. Также рассчитаем **отстающие значения и скользящее среднее**. Создадим функцию, которая создаст признаки, а **также удалит возникающие пропуски**:   "
   ]
  },
  {
   "cell_type": "code",
   "execution_count": 17,
   "metadata": {},
   "outputs": [],
   "source": [
    "def make_features(data, max_lag, mean_size):\n",
    "    \n",
    "    data_new = data.copy()\n",
    "    data_new['dayofweek'] = data_new.index.dayofweek\n",
    "    data_new['hour'] = data_new.index.hour\n",
    "    \n",
    "    for lag in range(1, max_lag + 1):\n",
    "        data_new['lag_{}'.format(lag)] = data_new['num_orders'].shift(lag)\n",
    "        \n",
    "    data_new['rolling_mean'] = data_new['num_orders'].shift().rolling(mean_size).mean()\n",
    "\n",
    "    data_new = data_new.dropna()\n",
    "    \n",
    "    return data_new"
   ]
  },
  {
   "cell_type": "markdown",
   "metadata": {},
   "source": [
    "**Подберём наиболее подходящее количество отстающих значений, а также размер окна для скользящего среднего**. Для тестирования используем LGBMRegressor:"
   ]
  },
  {
   "cell_type": "code",
   "execution_count": 18,
   "metadata": {
    "scrolled": true
   },
   "outputs": [
    {
     "name": "stdout",
     "output_type": "stream",
     "text": [
      "CPU times: total: 57.8 s\n",
      "Wall time: 40.8 s\n"
     ]
    }
   ],
   "source": [
    "%%time\n",
    "\n",
    "best_rmse = 1000\n",
    "best_max_lag = 0\n",
    "best_mean_size = 0\n",
    "\n",
    "for max_lag in [24, 48, 72, 96, 120, 144, 168]:\n",
    "    for mean_size in [24, 48, 72, 96, 120, 144, 168]:\n",
    "        \n",
    "        df_new = make_features(df, max_lag, mean_size)\n",
    "        f_train, f_test, t_train, t_test = train_test_split(df_new.drop(['num_orders'], axis=1), \n",
    "                                                            df_new['num_orders'],\n",
    "                                                            shuffle=False, test_size=0.1)\n",
    "        f_train, f_valid, t_train, t_valid = train_test_split(f_train, t_train,\n",
    "                                                              shuffle=False, test_size=0.1)\n",
    "        \n",
    "        model = LinearRegression()\n",
    "        model.fit(f_train, t_train)\n",
    "        predictions = model.predict(f_valid)\n",
    "        rmse = mean_squared_error(t_valid, predictions) ** 0.5\n",
    "        \n",
    "        if best_rmse > rmse:\n",
    "            best_rmse = rmse\n",
    "            best_max_lag = max_lag\n",
    "            best_mean_size = mean_size"
   ]
  },
  {
   "cell_type": "code",
   "execution_count": 19,
   "metadata": {
    "scrolled": true
   },
   "outputs": [
    {
     "name": "stdout",
     "output_type": "stream",
     "text": [
      "Лучший RMSE: 28.97626705465381 / Количество отстающих значений: 168 / Размер окна: 48\n"
     ]
    }
   ],
   "source": [
    "print('Лучший RMSE:', best_rmse, '/', 'Количество отстающих значений:', best_max_lag, '/',\n",
    "      'Размер окна:', best_mean_size)"
   ]
  },
  {
   "cell_type": "markdown",
   "metadata": {},
   "source": [
    "**Используем функцию создания признаков с подобранными параметрами**:"
   ]
  },
  {
   "cell_type": "code",
   "execution_count": 20,
   "metadata": {},
   "outputs": [],
   "source": [
    "df_final = make_features(df, 168, 48)"
   ]
  },
  {
   "cell_type": "markdown",
   "metadata": {},
   "source": [
    "### Разбиение на выборки"
   ]
  },
  {
   "cell_type": "markdown",
   "metadata": {},
   "source": [
    "Создадим **обучающие и тестовые выборки с признаками и таргетом**, не перемешивая исходную выборку:"
   ]
  },
  {
   "cell_type": "code",
   "execution_count": 21,
   "metadata": {},
   "outputs": [
    {
     "name": "stdout",
     "output_type": "stream",
     "text": [
      "3823 / 425 / 3823 / 425\n",
      "2018-03-08 00:00:00 / 2018-08-14 06:00:00 / 2018-08-14 07:00:00 / 2018-08-31 23:00:00\n"
     ]
    }
   ],
   "source": [
    "# деление на обучающую (90%) и тестовую (10%) выборки:\n",
    "f_train, f_test, t_train, t_test = train_test_split(df_final.drop(['num_orders'], axis=1), \n",
    "                                                    df_final['num_orders'],\n",
    "                                                    shuffle=False, test_size=0.1)\n",
    " \n",
    "# проверка корректности разбиения\n",
    "print(f_train.shape[0], '/', f_test.shape[0], '/', t_train.shape[0], '/', t_test.shape[0])\n",
    "print(f_train.index[0], '/', t_train.index[-1], '/', f_test.index[0], '/', t_test.index[-1])"
   ]
  },
  {
   "cell_type": "markdown",
   "metadata": {},
   "source": [
    "Для дальнейшего обучения создадим **кросс-валидатор для временных рядов**:"
   ]
  },
  {
   "cell_type": "code",
   "execution_count": 22,
   "metadata": {},
   "outputs": [],
   "source": [
    "tscv = TimeSeriesSplit(n_splits=4)"
   ]
  },
  {
   "cell_type": "markdown",
   "metadata": {},
   "source": [
    "### Обучение моделей"
   ]
  },
  {
   "cell_type": "markdown",
   "metadata": {},
   "source": [
    "Нас **интересуют качество (RMSE)**. Создадим список и функцию, которые будут собирать эту информацию о выбранных моделях:"
   ]
  },
  {
   "cell_type": "code",
   "execution_count": 23,
   "metadata": {},
   "outputs": [],
   "source": [
    "# списки для интересующей информации о моделях\n",
    "rmse_cv_list = []"
   ]
  },
  {
   "cell_type": "code",
   "execution_count": 24,
   "metadata": {},
   "outputs": [],
   "source": [
    "def model_info(model):\n",
    "    \n",
    "# Извлекает RMSE для лучшей подобранной модели,  \n",
    "# сохраняет в список и выводит на экран. \n",
    "     \n",
    "    rmse = abs(round(model.best_score_, 3))\n",
    "    rmse_cv_list.append(rmse)\n",
    "    \n",
    "    return display(f'RMSE: {rmse}', model.best_params_)"
   ]
  },
  {
   "cell_type": "markdown",
   "metadata": {},
   "source": [
    "#### LGBM регрессор"
   ]
  },
  {
   "cell_type": "code",
   "execution_count": 25,
   "metadata": {},
   "outputs": [],
   "source": [
    "# создание pipeline для LGBMRegressor\n",
    "pipe_lgbm = make_pipeline(LGBMRegressor(random_state=42))\n",
    "\n",
    "# сетка параметров для GridSearchCV\n",
    "param_grid_lgbm = {'lgbmregressor__n_estimators' : [100, 200, 300],\n",
    "                   'lgbmregressor__max_depth' : [5, 10]}              "
   ]
  },
  {
   "cell_type": "code",
   "execution_count": 26,
   "metadata": {},
   "outputs": [
    {
     "name": "stdout",
     "output_type": "stream",
     "text": [
      "CPU times: total: 2.58 s\n",
      "Wall time: 23 s\n"
     ]
    },
    {
     "data": {
      "text/html": [
       "<style>#sk-container-id-1 {color: black;background-color: white;}#sk-container-id-1 pre{padding: 0;}#sk-container-id-1 div.sk-toggleable {background-color: white;}#sk-container-id-1 label.sk-toggleable__label {cursor: pointer;display: block;width: 100%;margin-bottom: 0;padding: 0.3em;box-sizing: border-box;text-align: center;}#sk-container-id-1 label.sk-toggleable__label-arrow:before {content: \"▸\";float: left;margin-right: 0.25em;color: #696969;}#sk-container-id-1 label.sk-toggleable__label-arrow:hover:before {color: black;}#sk-container-id-1 div.sk-estimator:hover label.sk-toggleable__label-arrow:before {color: black;}#sk-container-id-1 div.sk-toggleable__content {max-height: 0;max-width: 0;overflow: hidden;text-align: left;background-color: #f0f8ff;}#sk-container-id-1 div.sk-toggleable__content pre {margin: 0.2em;color: black;border-radius: 0.25em;background-color: #f0f8ff;}#sk-container-id-1 input.sk-toggleable__control:checked~div.sk-toggleable__content {max-height: 200px;max-width: 100%;overflow: auto;}#sk-container-id-1 input.sk-toggleable__control:checked~label.sk-toggleable__label-arrow:before {content: \"▾\";}#sk-container-id-1 div.sk-estimator input.sk-toggleable__control:checked~label.sk-toggleable__label {background-color: #d4ebff;}#sk-container-id-1 div.sk-label input.sk-toggleable__control:checked~label.sk-toggleable__label {background-color: #d4ebff;}#sk-container-id-1 input.sk-hidden--visually {border: 0;clip: rect(1px 1px 1px 1px);clip: rect(1px, 1px, 1px, 1px);height: 1px;margin: -1px;overflow: hidden;padding: 0;position: absolute;width: 1px;}#sk-container-id-1 div.sk-estimator {font-family: monospace;background-color: #f0f8ff;border: 1px dotted black;border-radius: 0.25em;box-sizing: border-box;margin-bottom: 0.5em;}#sk-container-id-1 div.sk-estimator:hover {background-color: #d4ebff;}#sk-container-id-1 div.sk-parallel-item::after {content: \"\";width: 100%;border-bottom: 1px solid gray;flex-grow: 1;}#sk-container-id-1 div.sk-label:hover label.sk-toggleable__label {background-color: #d4ebff;}#sk-container-id-1 div.sk-serial::before {content: \"\";position: absolute;border-left: 1px solid gray;box-sizing: border-box;top: 0;bottom: 0;left: 50%;z-index: 0;}#sk-container-id-1 div.sk-serial {display: flex;flex-direction: column;align-items: center;background-color: white;padding-right: 0.2em;padding-left: 0.2em;position: relative;}#sk-container-id-1 div.sk-item {position: relative;z-index: 1;}#sk-container-id-1 div.sk-parallel {display: flex;align-items: stretch;justify-content: center;background-color: white;position: relative;}#sk-container-id-1 div.sk-item::before, #sk-container-id-1 div.sk-parallel-item::before {content: \"\";position: absolute;border-left: 1px solid gray;box-sizing: border-box;top: 0;bottom: 0;left: 50%;z-index: -1;}#sk-container-id-1 div.sk-parallel-item {display: flex;flex-direction: column;z-index: 1;position: relative;background-color: white;}#sk-container-id-1 div.sk-parallel-item:first-child::after {align-self: flex-end;width: 50%;}#sk-container-id-1 div.sk-parallel-item:last-child::after {align-self: flex-start;width: 50%;}#sk-container-id-1 div.sk-parallel-item:only-child::after {width: 0;}#sk-container-id-1 div.sk-dashed-wrapped {border: 1px dashed gray;margin: 0 0.4em 0.5em 0.4em;box-sizing: border-box;padding-bottom: 0.4em;background-color: white;}#sk-container-id-1 div.sk-label label {font-family: monospace;font-weight: bold;display: inline-block;line-height: 1.2em;}#sk-container-id-1 div.sk-label-container {text-align: center;}#sk-container-id-1 div.sk-container {/* jupyter's `normalize.less` sets `[hidden] { display: none; }` but bootstrap.min.css set `[hidden] { display: none !important; }` so we also need the `!important` here to be able to override the default hidden behavior on the sphinx rendered scikit-learn.org. See: https://github.com/scikit-learn/scikit-learn/issues/21755 */display: inline-block !important;position: relative;}#sk-container-id-1 div.sk-text-repr-fallback {display: none;}</style><div id=\"sk-container-id-1\" class=\"sk-top-container\"><div class=\"sk-text-repr-fallback\"><pre>GridSearchCV(cv=TimeSeriesSplit(gap=0, max_train_size=None, n_splits=4, test_size=None),\n",
       "             error_score=&#x27;raise&#x27;,\n",
       "             estimator=Pipeline(steps=[(&#x27;lgbmregressor&#x27;,\n",
       "                                        LGBMRegressor(random_state=42))]),\n",
       "             n_jobs=-1,\n",
       "             param_grid={&#x27;lgbmregressor__max_depth&#x27;: [5, 10],\n",
       "                         &#x27;lgbmregressor__n_estimators&#x27;: [100, 200, 300]},\n",
       "             scoring=&#x27;neg_root_mean_squared_error&#x27;)</pre><b>In a Jupyter environment, please rerun this cell to show the HTML representation or trust the notebook. <br />On GitHub, the HTML representation is unable to render, please try loading this page with nbviewer.org.</b></div><div class=\"sk-container\" hidden><div class=\"sk-item sk-dashed-wrapped\"><div class=\"sk-label-container\"><div class=\"sk-label sk-toggleable\"><input class=\"sk-toggleable__control sk-hidden--visually\" id=\"sk-estimator-id-1\" type=\"checkbox\" ><label for=\"sk-estimator-id-1\" class=\"sk-toggleable__label sk-toggleable__label-arrow\">GridSearchCV</label><div class=\"sk-toggleable__content\"><pre>GridSearchCV(cv=TimeSeriesSplit(gap=0, max_train_size=None, n_splits=4, test_size=None),\n",
       "             error_score=&#x27;raise&#x27;,\n",
       "             estimator=Pipeline(steps=[(&#x27;lgbmregressor&#x27;,\n",
       "                                        LGBMRegressor(random_state=42))]),\n",
       "             n_jobs=-1,\n",
       "             param_grid={&#x27;lgbmregressor__max_depth&#x27;: [5, 10],\n",
       "                         &#x27;lgbmregressor__n_estimators&#x27;: [100, 200, 300]},\n",
       "             scoring=&#x27;neg_root_mean_squared_error&#x27;)</pre></div></div></div><div class=\"sk-parallel\"><div class=\"sk-parallel-item\"><div class=\"sk-item\"><div class=\"sk-label-container\"><div class=\"sk-label sk-toggleable\"><input class=\"sk-toggleable__control sk-hidden--visually\" id=\"sk-estimator-id-2\" type=\"checkbox\" ><label for=\"sk-estimator-id-2\" class=\"sk-toggleable__label sk-toggleable__label-arrow\">estimator: Pipeline</label><div class=\"sk-toggleable__content\"><pre>Pipeline(steps=[(&#x27;lgbmregressor&#x27;, LGBMRegressor(random_state=42))])</pre></div></div></div><div class=\"sk-serial\"><div class=\"sk-item\"><div class=\"sk-serial\"><div class=\"sk-item\"><div class=\"sk-estimator sk-toggleable\"><input class=\"sk-toggleable__control sk-hidden--visually\" id=\"sk-estimator-id-3\" type=\"checkbox\" ><label for=\"sk-estimator-id-3\" class=\"sk-toggleable__label sk-toggleable__label-arrow\">LGBMRegressor</label><div class=\"sk-toggleable__content\"><pre>LGBMRegressor(random_state=42)</pre></div></div></div></div></div></div></div></div></div></div></div></div>"
      ],
      "text/plain": [
       "GridSearchCV(cv=TimeSeriesSplit(gap=0, max_train_size=None, n_splits=4, test_size=None),\n",
       "             error_score='raise',\n",
       "             estimator=Pipeline(steps=[('lgbmregressor',\n",
       "                                        LGBMRegressor(random_state=42))]),\n",
       "             n_jobs=-1,\n",
       "             param_grid={'lgbmregressor__max_depth': [5, 10],\n",
       "                         'lgbmregressor__n_estimators': [100, 200, 300]},\n",
       "             scoring='neg_root_mean_squared_error')"
      ]
     },
     "execution_count": 26,
     "metadata": {},
     "output_type": "execute_result"
    }
   ],
   "source": [
    "%%time\n",
    "\n",
    "# подбор лучших гиперпараметров модели кросс-валидацией\n",
    "GSCV_pipe_lgbm = GridSearchCV(pipe_lgbm, param_grid_lgbm, cv=tscv, n_jobs=-1,\n",
    "                              scoring='neg_root_mean_squared_error', error_score='raise')\n",
    "\n",
    "GSCV_pipe_lgbm.fit(f_train, t_train)"
   ]
  },
  {
   "cell_type": "code",
   "execution_count": 27,
   "metadata": {},
   "outputs": [
    {
     "data": {
      "text/plain": [
       "'RMSE: 23.065'"
      ]
     },
     "metadata": {},
     "output_type": "display_data"
    },
    {
     "data": {
      "text/plain": [
       "{'lgbmregressor__max_depth': 5, 'lgbmregressor__n_estimators': 100}"
      ]
     },
     "metadata": {},
     "output_type": "display_data"
    }
   ],
   "source": [
    "# вывод информации о лучшей модели\n",
    "model_info(GSCV_pipe_lgbm)"
   ]
  },
  {
   "cell_type": "markdown",
   "metadata": {},
   "source": [
    "#### CatBoost регрессор"
   ]
  },
  {
   "cell_type": "code",
   "execution_count": 28,
   "metadata": {},
   "outputs": [],
   "source": [
    "# создание pipeline для CatBoostRegressor\n",
    "pipe_cat = make_pipeline(CatBoostRegressor(random_state=42))\n",
    "\n",
    "# сетка параметров для GridSearchCV\n",
    "param_grid_cat = {'catboostregressor__max_depth' : [5, 10],\n",
    "                  'catboostregressor__n_estimators' : [600, 700, 800]}"
   ]
  },
  {
   "cell_type": "code",
   "execution_count": 29,
   "metadata": {},
   "outputs": [
    {
     "name": "stdout",
     "output_type": "stream",
     "text": [
      "Learning rate set to 0.060672\n",
      "0:\tlearn: 37.5412910\ttotal: 186ms\tremaining: 2m 28s\n",
      "1:\tlearn: 36.3522020\ttotal: 210ms\tremaining: 1m 23s\n",
      "2:\tlearn: 35.2420755\ttotal: 229ms\tremaining: 1m\n",
      "3:\tlearn: 34.2508418\ttotal: 246ms\tremaining: 48.9s\n",
      "4:\tlearn: 33.3466406\ttotal: 261ms\tremaining: 41.4s\n",
      "5:\tlearn: 32.4673092\ttotal: 273ms\tremaining: 36.2s\n",
      "6:\tlearn: 31.5860578\ttotal: 285ms\tremaining: 32.3s\n",
      "7:\tlearn: 30.8149160\ttotal: 299ms\tremaining: 29.6s\n",
      "8:\tlearn: 30.1045856\ttotal: 311ms\tremaining: 27.3s\n",
      "9:\tlearn: 29.4402953\ttotal: 323ms\tremaining: 25.5s\n",
      "10:\tlearn: 28.8265939\ttotal: 334ms\tremaining: 24s\n",
      "11:\tlearn: 28.2761489\ttotal: 346ms\tremaining: 22.7s\n",
      "12:\tlearn: 27.6932181\ttotal: 358ms\tremaining: 21.7s\n",
      "13:\tlearn: 27.2219598\ttotal: 371ms\tremaining: 20.8s\n",
      "14:\tlearn: 26.7457392\ttotal: 385ms\tremaining: 20.1s\n",
      "15:\tlearn: 26.3282172\ttotal: 398ms\tremaining: 19.5s\n",
      "16:\tlearn: 25.9275124\ttotal: 412ms\tremaining: 19s\n",
      "17:\tlearn: 25.5503753\ttotal: 428ms\tremaining: 18.6s\n",
      "18:\tlearn: 25.1976637\ttotal: 441ms\tremaining: 18.1s\n",
      "19:\tlearn: 24.8937262\ttotal: 457ms\tremaining: 17.8s\n",
      "20:\tlearn: 24.5909835\ttotal: 472ms\tremaining: 17.5s\n",
      "21:\tlearn: 24.2932214\ttotal: 488ms\tremaining: 17.2s\n",
      "22:\tlearn: 24.0489152\ttotal: 503ms\tremaining: 17s\n",
      "23:\tlearn: 23.8117645\ttotal: 520ms\tremaining: 16.8s\n",
      "24:\tlearn: 23.5854888\ttotal: 536ms\tremaining: 16.6s\n",
      "25:\tlearn: 23.3862090\ttotal: 553ms\tremaining: 16.5s\n",
      "26:\tlearn: 23.2035596\ttotal: 569ms\tremaining: 16.3s\n",
      "27:\tlearn: 23.0492605\ttotal: 584ms\tremaining: 16.1s\n",
      "28:\tlearn: 22.8932692\ttotal: 598ms\tremaining: 15.9s\n",
      "29:\tlearn: 22.7296632\ttotal: 612ms\tremaining: 15.7s\n",
      "30:\tlearn: 22.5725949\ttotal: 628ms\tremaining: 15.6s\n",
      "31:\tlearn: 22.4478812\ttotal: 643ms\tremaining: 15.4s\n",
      "32:\tlearn: 22.3287268\ttotal: 658ms\tremaining: 15.3s\n",
      "33:\tlearn: 22.2131256\ttotal: 673ms\tremaining: 15.2s\n",
      "34:\tlearn: 22.0879806\ttotal: 688ms\tremaining: 15s\n",
      "35:\tlearn: 21.9982390\ttotal: 702ms\tremaining: 14.9s\n",
      "36:\tlearn: 21.8964643\ttotal: 716ms\tremaining: 14.8s\n",
      "37:\tlearn: 21.8020623\ttotal: 731ms\tremaining: 14.7s\n",
      "38:\tlearn: 21.7083290\ttotal: 744ms\tremaining: 14.5s\n",
      "39:\tlearn: 21.6094222\ttotal: 757ms\tremaining: 14.4s\n",
      "40:\tlearn: 21.5198401\ttotal: 770ms\tremaining: 14.3s\n",
      "41:\tlearn: 21.4400902\ttotal: 783ms\tremaining: 14.1s\n",
      "42:\tlearn: 21.3608631\ttotal: 798ms\tremaining: 14s\n",
      "43:\tlearn: 21.2808123\ttotal: 811ms\tremaining: 13.9s\n",
      "44:\tlearn: 21.2181556\ttotal: 824ms\tremaining: 13.8s\n",
      "45:\tlearn: 21.1546147\ttotal: 838ms\tremaining: 13.7s\n",
      "46:\tlearn: 21.1018871\ttotal: 854ms\tremaining: 13.7s\n",
      "47:\tlearn: 21.0447460\ttotal: 869ms\tremaining: 13.6s\n",
      "48:\tlearn: 20.9879822\ttotal: 882ms\tremaining: 13.5s\n",
      "49:\tlearn: 20.9323784\ttotal: 895ms\tremaining: 13.4s\n",
      "50:\tlearn: 20.8738966\ttotal: 908ms\tremaining: 13.3s\n",
      "51:\tlearn: 20.8249314\ttotal: 922ms\tremaining: 13.3s\n",
      "52:\tlearn: 20.7730537\ttotal: 936ms\tremaining: 13.2s\n",
      "53:\tlearn: 20.7585908\ttotal: 950ms\tremaining: 13.1s\n",
      "54:\tlearn: 20.7474246\ttotal: 963ms\tremaining: 13s\n",
      "55:\tlearn: 20.7364339\ttotal: 978ms\tremaining: 13s\n",
      "56:\tlearn: 20.7209620\ttotal: 993ms\tremaining: 12.9s\n",
      "57:\tlearn: 20.6603741\ttotal: 1.01s\tremaining: 12.9s\n",
      "58:\tlearn: 20.6198035\ttotal: 1.02s\tremaining: 12.8s\n",
      "59:\tlearn: 20.5844822\ttotal: 1.03s\tremaining: 12.8s\n",
      "60:\tlearn: 20.5584697\ttotal: 1.05s\tremaining: 12.7s\n",
      "61:\tlearn: 20.5482895\ttotal: 1.06s\tremaining: 12.6s\n",
      "62:\tlearn: 20.5243061\ttotal: 1.08s\tremaining: 12.6s\n",
      "63:\tlearn: 20.5061143\ttotal: 1.09s\tremaining: 12.5s\n",
      "64:\tlearn: 20.4516068\ttotal: 1.1s\tremaining: 12.5s\n",
      "65:\tlearn: 20.4103308\ttotal: 1.12s\tremaining: 12.4s\n",
      "66:\tlearn: 20.4028583\ttotal: 1.13s\tremaining: 12.4s\n",
      "67:\tlearn: 20.3923046\ttotal: 1.14s\tremaining: 12.3s\n",
      "68:\tlearn: 20.3862421\ttotal: 1.16s\tremaining: 12.3s\n",
      "69:\tlearn: 20.3446062\ttotal: 1.17s\tremaining: 12.2s\n",
      "70:\tlearn: 20.3096887\ttotal: 1.18s\tremaining: 12.2s\n",
      "71:\tlearn: 20.2830678\ttotal: 1.2s\tremaining: 12.1s\n",
      "72:\tlearn: 20.2508418\ttotal: 1.21s\tremaining: 12.1s\n",
      "73:\tlearn: 20.2381211\ttotal: 1.22s\tremaining: 12s\n",
      "74:\tlearn: 20.2063350\ttotal: 1.24s\tremaining: 12s\n",
      "75:\tlearn: 20.1848837\ttotal: 1.25s\tremaining: 11.9s\n",
      "76:\tlearn: 20.1554734\ttotal: 1.27s\tremaining: 11.9s\n",
      "77:\tlearn: 20.1184846\ttotal: 1.28s\tremaining: 11.9s\n",
      "78:\tlearn: 20.0951643\ttotal: 1.29s\tremaining: 11.8s\n",
      "79:\tlearn: 20.0874636\ttotal: 1.31s\tremaining: 11.8s\n",
      "80:\tlearn: 20.0539450\ttotal: 1.32s\tremaining: 11.8s\n",
      "81:\tlearn: 20.0357624\ttotal: 1.34s\tremaining: 11.7s\n",
      "82:\tlearn: 20.0254053\ttotal: 1.35s\tremaining: 11.7s\n",
      "83:\tlearn: 20.0006036\ttotal: 1.36s\tremaining: 11.6s\n",
      "84:\tlearn: 19.9794843\ttotal: 1.38s\tremaining: 11.6s\n",
      "85:\tlearn: 19.9507411\ttotal: 1.39s\tremaining: 11.5s\n",
      "86:\tlearn: 19.9337330\ttotal: 1.4s\tremaining: 11.5s\n",
      "87:\tlearn: 19.9092227\ttotal: 1.42s\tremaining: 11.5s\n",
      "88:\tlearn: 19.8879503\ttotal: 1.43s\tremaining: 11.4s\n",
      "89:\tlearn: 19.8789794\ttotal: 1.45s\tremaining: 11.5s\n",
      "90:\tlearn: 19.8695658\ttotal: 1.48s\tremaining: 11.5s\n",
      "91:\tlearn: 19.8629432\ttotal: 1.49s\tremaining: 11.5s\n",
      "92:\tlearn: 19.8448020\ttotal: 1.51s\tremaining: 11.5s\n",
      "93:\tlearn: 19.8337535\ttotal: 1.52s\tremaining: 11.5s\n",
      "94:\tlearn: 19.8269330\ttotal: 1.54s\tremaining: 11.4s\n",
      "95:\tlearn: 19.8058747\ttotal: 1.56s\tremaining: 11.4s\n",
      "96:\tlearn: 19.7829529\ttotal: 1.57s\tremaining: 11.4s\n",
      "97:\tlearn: 19.7673468\ttotal: 1.59s\tremaining: 11.4s\n",
      "98:\tlearn: 19.7418782\ttotal: 1.61s\tremaining: 11.4s\n",
      "99:\tlearn: 19.7253809\ttotal: 1.62s\tremaining: 11.4s\n",
      "100:\tlearn: 19.7060303\ttotal: 1.64s\tremaining: 11.3s\n",
      "101:\tlearn: 19.6970605\ttotal: 1.66s\tremaining: 11.3s\n",
      "102:\tlearn: 19.6738625\ttotal: 1.67s\tremaining: 11.3s\n",
      "103:\tlearn: 19.6559755\ttotal: 1.69s\tremaining: 11.3s\n",
      "104:\tlearn: 19.6413387\ttotal: 1.71s\tremaining: 11.3s\n",
      "105:\tlearn: 19.6218428\ttotal: 1.72s\tremaining: 11.3s\n",
      "106:\tlearn: 19.6149825\ttotal: 1.74s\tremaining: 11.3s\n",
      "107:\tlearn: 19.5891434\ttotal: 1.75s\tremaining: 11.2s\n",
      "108:\tlearn: 19.5650978\ttotal: 1.77s\tremaining: 11.2s\n",
      "109:\tlearn: 19.5490325\ttotal: 1.78s\tremaining: 11.2s\n",
      "110:\tlearn: 19.5341201\ttotal: 1.8s\tremaining: 11.2s\n",
      "111:\tlearn: 19.5277942\ttotal: 1.81s\tremaining: 11.1s\n",
      "112:\tlearn: 19.5033450\ttotal: 1.83s\tremaining: 11.1s\n",
      "113:\tlearn: 19.4907584\ttotal: 1.84s\tremaining: 11.1s\n",
      "114:\tlearn: 19.4737949\ttotal: 1.86s\tremaining: 11.1s\n",
      "115:\tlearn: 19.4506862\ttotal: 1.87s\tremaining: 11s\n",
      "116:\tlearn: 19.4385299\ttotal: 1.89s\tremaining: 11s\n",
      "117:\tlearn: 19.4184860\ttotal: 1.9s\tremaining: 11s\n",
      "118:\tlearn: 19.3938435\ttotal: 1.91s\tremaining: 10.9s\n",
      "119:\tlearn: 19.3750657\ttotal: 1.93s\tremaining: 10.9s\n",
      "120:\tlearn: 19.3688931\ttotal: 1.94s\tremaining: 10.9s\n",
      "121:\tlearn: 19.3485137\ttotal: 1.95s\tremaining: 10.9s\n",
      "122:\tlearn: 19.3334450\ttotal: 1.97s\tremaining: 10.8s\n",
      "123:\tlearn: 19.3087549\ttotal: 1.98s\tremaining: 10.8s\n",
      "124:\tlearn: 19.2879627\ttotal: 1.99s\tremaining: 10.8s\n",
      "125:\tlearn: 19.2644617\ttotal: 2.01s\tremaining: 10.7s\n",
      "126:\tlearn: 19.2476029\ttotal: 2.02s\tremaining: 10.7s\n",
      "127:\tlearn: 19.2272300\ttotal: 2.03s\tremaining: 10.7s\n",
      "128:\tlearn: 19.2194071\ttotal: 2.05s\tremaining: 10.6s\n",
      "129:\tlearn: 19.1920842\ttotal: 2.06s\tremaining: 10.6s\n",
      "130:\tlearn: 19.1878709\ttotal: 2.07s\tremaining: 10.6s\n",
      "131:\tlearn: 19.1645716\ttotal: 2.08s\tremaining: 10.6s\n",
      "132:\tlearn: 19.1595919\ttotal: 2.1s\tremaining: 10.5s\n",
      "133:\tlearn: 19.1539481\ttotal: 2.11s\tremaining: 10.5s\n",
      "134:\tlearn: 19.1393463\ttotal: 2.13s\tremaining: 10.5s\n",
      "135:\tlearn: 19.1275669\ttotal: 2.14s\tremaining: 10.4s\n",
      "136:\tlearn: 19.1108437\ttotal: 2.15s\tremaining: 10.4s\n",
      "137:\tlearn: 19.0901535\ttotal: 2.16s\tremaining: 10.4s\n",
      "138:\tlearn: 19.0600889\ttotal: 2.18s\tremaining: 10.4s\n",
      "139:\tlearn: 19.0563346\ttotal: 2.19s\tremaining: 10.3s\n",
      "140:\tlearn: 19.0303793\ttotal: 2.21s\tremaining: 10.3s\n",
      "141:\tlearn: 19.0157355\ttotal: 2.22s\tremaining: 10.3s\n",
      "142:\tlearn: 18.9868380\ttotal: 2.23s\tremaining: 10.3s\n",
      "143:\tlearn: 18.9548486\ttotal: 2.25s\tremaining: 10.2s\n",
      "144:\tlearn: 18.9291650\ttotal: 2.27s\tremaining: 10.2s\n",
      "145:\tlearn: 18.9101526\ttotal: 2.28s\tremaining: 10.2s\n",
      "146:\tlearn: 18.9056904\ttotal: 2.29s\tremaining: 10.2s\n",
      "147:\tlearn: 18.8934648\ttotal: 2.31s\tremaining: 10.2s\n",
      "148:\tlearn: 18.8733992\ttotal: 2.32s\tremaining: 10.1s\n",
      "149:\tlearn: 18.8660158\ttotal: 2.33s\tremaining: 10.1s\n",
      "150:\tlearn: 18.8604193\ttotal: 2.35s\tremaining: 10.1s\n",
      "151:\tlearn: 18.8422082\ttotal: 2.36s\tremaining: 10.1s\n",
      "152:\tlearn: 18.8199706\ttotal: 2.38s\tremaining: 10s\n",
      "153:\tlearn: 18.8128421\ttotal: 2.39s\tremaining: 10s\n",
      "154:\tlearn: 18.7952531\ttotal: 2.4s\tremaining: 10s\n",
      "155:\tlearn: 18.7794010\ttotal: 2.42s\tremaining: 9.98s\n",
      "156:\tlearn: 18.7649363\ttotal: 2.43s\tremaining: 9.96s\n",
      "157:\tlearn: 18.7433179\ttotal: 2.45s\tremaining: 9.95s\n",
      "158:\tlearn: 18.7291583\ttotal: 2.46s\tremaining: 9.92s\n",
      "159:\tlearn: 18.7072689\ttotal: 2.48s\tremaining: 9.9s\n",
      "160:\tlearn: 18.6922837\ttotal: 2.49s\tremaining: 9.88s\n",
      "161:\tlearn: 18.6709781\ttotal: 2.5s\tremaining: 9.86s\n"
     ]
    },
    {
     "name": "stdout",
     "output_type": "stream",
     "text": [
      "162:\tlearn: 18.6677247\ttotal: 2.52s\tremaining: 9.84s\n",
      "163:\tlearn: 18.6470233\ttotal: 2.53s\tremaining: 9.81s\n",
      "164:\tlearn: 18.6189730\ttotal: 2.54s\tremaining: 9.79s\n",
      "165:\tlearn: 18.5968797\ttotal: 2.56s\tremaining: 9.77s\n",
      "166:\tlearn: 18.5773147\ttotal: 2.57s\tremaining: 9.75s\n",
      "167:\tlearn: 18.5734515\ttotal: 2.58s\tremaining: 9.72s\n",
      "168:\tlearn: 18.5564473\ttotal: 2.6s\tremaining: 9.7s\n",
      "169:\tlearn: 18.5424399\ttotal: 2.61s\tremaining: 9.68s\n",
      "170:\tlearn: 18.5384249\ttotal: 2.63s\tremaining: 9.67s\n",
      "171:\tlearn: 18.5347303\ttotal: 2.64s\tremaining: 9.65s\n",
      "172:\tlearn: 18.5182189\ttotal: 2.66s\tremaining: 9.64s\n",
      "173:\tlearn: 18.4957470\ttotal: 2.67s\tremaining: 9.62s\n",
      "174:\tlearn: 18.4921833\ttotal: 2.69s\tremaining: 9.6s\n",
      "175:\tlearn: 18.4889262\ttotal: 2.7s\tremaining: 9.59s\n",
      "176:\tlearn: 18.4857511\ttotal: 2.72s\tremaining: 9.57s\n",
      "177:\tlearn: 18.4573412\ttotal: 2.73s\tremaining: 9.56s\n",
      "178:\tlearn: 18.4535627\ttotal: 2.75s\tremaining: 9.54s\n",
      "179:\tlearn: 18.4501054\ttotal: 2.76s\tremaining: 9.52s\n",
      "180:\tlearn: 18.4470544\ttotal: 2.78s\tremaining: 9.5s\n",
      "181:\tlearn: 18.4349589\ttotal: 2.79s\tremaining: 9.48s\n",
      "182:\tlearn: 18.4320410\ttotal: 2.81s\tremaining: 9.47s\n",
      "183:\tlearn: 18.4286732\ttotal: 2.83s\tremaining: 9.46s\n",
      "184:\tlearn: 18.4252296\ttotal: 2.84s\tremaining: 9.44s\n",
      "185:\tlearn: 18.4046549\ttotal: 2.85s\tremaining: 9.42s\n",
      "186:\tlearn: 18.4015321\ttotal: 2.87s\tremaining: 9.4s\n",
      "187:\tlearn: 18.3818497\ttotal: 2.88s\tremaining: 9.38s\n",
      "188:\tlearn: 18.3597516\ttotal: 2.9s\tremaining: 9.37s\n",
      "189:\tlearn: 18.3386915\ttotal: 2.91s\tremaining: 9.35s\n",
      "190:\tlearn: 18.3258908\ttotal: 2.92s\tremaining: 9.32s\n",
      "191:\tlearn: 18.3018711\ttotal: 2.94s\tremaining: 9.3s\n",
      "192:\tlearn: 18.2820414\ttotal: 2.95s\tremaining: 9.28s\n",
      "193:\tlearn: 18.2573817\ttotal: 2.96s\tremaining: 9.26s\n",
      "194:\tlearn: 18.2362141\ttotal: 2.98s\tremaining: 9.25s\n",
      "195:\tlearn: 18.2177973\ttotal: 3s\tremaining: 9.24s\n",
      "196:\tlearn: 18.1827359\ttotal: 3.01s\tremaining: 9.22s\n",
      "197:\tlearn: 18.1608782\ttotal: 3.03s\tremaining: 9.2s\n",
      "198:\tlearn: 18.1584818\ttotal: 3.04s\tremaining: 9.19s\n",
      "199:\tlearn: 18.1463951\ttotal: 3.06s\tremaining: 9.17s\n",
      "200:\tlearn: 18.1253408\ttotal: 3.07s\tremaining: 9.15s\n",
      "201:\tlearn: 18.1019444\ttotal: 3.08s\tremaining: 9.13s\n",
      "202:\tlearn: 18.0787013\ttotal: 3.1s\tremaining: 9.11s\n",
      "203:\tlearn: 18.0550831\ttotal: 3.11s\tremaining: 9.09s\n",
      "204:\tlearn: 18.0381339\ttotal: 3.13s\tremaining: 9.08s\n",
      "205:\tlearn: 18.0137371\ttotal: 3.14s\tremaining: 9.06s\n",
      "206:\tlearn: 17.9973185\ttotal: 3.15s\tremaining: 9.04s\n",
      "207:\tlearn: 17.9772589\ttotal: 3.17s\tremaining: 9.01s\n",
      "208:\tlearn: 17.9568278\ttotal: 3.18s\tremaining: 8.99s\n",
      "209:\tlearn: 17.9420008\ttotal: 3.19s\tremaining: 8.97s\n",
      "210:\tlearn: 17.9180003\ttotal: 3.21s\tremaining: 8.95s\n",
      "211:\tlearn: 17.9022441\ttotal: 3.22s\tremaining: 8.93s\n",
      "212:\tlearn: 17.8789050\ttotal: 3.23s\tremaining: 8.9s\n",
      "213:\tlearn: 17.8571013\ttotal: 3.24s\tremaining: 8.88s\n",
      "214:\tlearn: 17.8410917\ttotal: 3.26s\tremaining: 8.87s\n",
      "215:\tlearn: 17.8260130\ttotal: 3.27s\tremaining: 8.84s\n",
      "216:\tlearn: 17.8070721\ttotal: 3.28s\tremaining: 8.82s\n",
      "217:\tlearn: 17.7949069\ttotal: 3.3s\tremaining: 8.8s\n",
      "218:\tlearn: 17.7806301\ttotal: 3.31s\tremaining: 8.79s\n",
      "219:\tlearn: 17.7592820\ttotal: 3.33s\tremaining: 8.78s\n",
      "220:\tlearn: 17.7359814\ttotal: 3.35s\tremaining: 8.77s\n",
      "221:\tlearn: 17.7199051\ttotal: 3.36s\tremaining: 8.75s\n",
      "222:\tlearn: 17.6976941\ttotal: 3.37s\tremaining: 8.73s\n",
      "223:\tlearn: 17.6787066\ttotal: 3.39s\tremaining: 8.71s\n",
      "224:\tlearn: 17.6635647\ttotal: 3.4s\tremaining: 8.69s\n",
      "225:\tlearn: 17.6477739\ttotal: 3.41s\tremaining: 8.67s\n",
      "226:\tlearn: 17.6258866\ttotal: 3.43s\tremaining: 8.65s\n",
      "227:\tlearn: 17.6112581\ttotal: 3.44s\tremaining: 8.64s\n",
      "228:\tlearn: 17.5851722\ttotal: 3.47s\tremaining: 8.65s\n",
      "229:\tlearn: 17.5727960\ttotal: 3.49s\tremaining: 8.66s\n",
      "230:\tlearn: 17.5567948\ttotal: 3.51s\tremaining: 8.65s\n",
      "231:\tlearn: 17.5371676\ttotal: 3.54s\tremaining: 8.66s\n",
      "232:\tlearn: 17.5183543\ttotal: 3.55s\tremaining: 8.65s\n",
      "233:\tlearn: 17.5054861\ttotal: 3.57s\tremaining: 8.64s\n",
      "234:\tlearn: 17.4884003\ttotal: 3.59s\tremaining: 8.63s\n",
      "235:\tlearn: 17.4651715\ttotal: 3.61s\tremaining: 8.62s\n",
      "236:\tlearn: 17.4459182\ttotal: 3.63s\tremaining: 8.61s\n",
      "237:\tlearn: 17.4272844\ttotal: 3.65s\tremaining: 8.61s\n",
      "238:\tlearn: 17.4015179\ttotal: 3.66s\tremaining: 8.6s\n",
      "239:\tlearn: 17.3909578\ttotal: 3.68s\tremaining: 8.59s\n",
      "240:\tlearn: 17.3715713\ttotal: 3.7s\tremaining: 8.58s\n",
      "241:\tlearn: 17.3527085\ttotal: 3.72s\tremaining: 8.57s\n",
      "242:\tlearn: 17.3345987\ttotal: 3.73s\tremaining: 8.56s\n",
      "243:\tlearn: 17.3087808\ttotal: 3.75s\tremaining: 8.55s\n",
      "244:\tlearn: 17.2829978\ttotal: 3.77s\tremaining: 8.53s\n",
      "245:\tlearn: 17.2628990\ttotal: 3.78s\tremaining: 8.52s\n",
      "246:\tlearn: 17.2372681\ttotal: 3.8s\tremaining: 8.51s\n",
      "247:\tlearn: 17.2234882\ttotal: 3.81s\tremaining: 8.49s\n",
      "248:\tlearn: 17.2038362\ttotal: 3.83s\tremaining: 8.48s\n",
      "249:\tlearn: 17.1828902\ttotal: 3.85s\tremaining: 8.46s\n",
      "250:\tlearn: 17.1711337\ttotal: 3.86s\tremaining: 8.44s\n",
      "251:\tlearn: 17.1569449\ttotal: 3.87s\tremaining: 8.43s\n",
      "252:\tlearn: 17.1396341\ttotal: 3.89s\tremaining: 8.41s\n",
      "253:\tlearn: 17.1266423\ttotal: 3.9s\tremaining: 8.39s\n",
      "254:\tlearn: 17.1154289\ttotal: 3.93s\tremaining: 8.4s\n",
      "255:\tlearn: 17.1017330\ttotal: 3.95s\tremaining: 8.39s\n",
      "256:\tlearn: 17.0817353\ttotal: 3.96s\tremaining: 8.37s\n",
      "257:\tlearn: 17.0606834\ttotal: 3.98s\tremaining: 8.36s\n",
      "258:\tlearn: 17.0427941\ttotal: 3.99s\tremaining: 8.34s\n",
      "259:\tlearn: 17.0280820\ttotal: 4.01s\tremaining: 8.32s\n",
      "260:\tlearn: 17.0022970\ttotal: 4.02s\tremaining: 8.3s\n",
      "261:\tlearn: 16.9898724\ttotal: 4.04s\tremaining: 8.29s\n",
      "262:\tlearn: 16.9750103\ttotal: 4.05s\tremaining: 8.27s\n",
      "263:\tlearn: 16.9618624\ttotal: 4.06s\tremaining: 8.25s\n",
      "264:\tlearn: 16.9541201\ttotal: 4.08s\tremaining: 8.23s\n",
      "265:\tlearn: 16.9306842\ttotal: 4.09s\tremaining: 8.22s\n",
      "266:\tlearn: 16.9161465\ttotal: 4.11s\tremaining: 8.2s\n",
      "267:\tlearn: 16.8997766\ttotal: 4.12s\tremaining: 8.18s\n",
      "268:\tlearn: 16.8822570\ttotal: 4.13s\tremaining: 8.16s\n",
      "269:\tlearn: 16.8683994\ttotal: 4.15s\tremaining: 8.14s\n",
      "270:\tlearn: 16.8528639\ttotal: 4.16s\tremaining: 8.13s\n",
      "271:\tlearn: 16.8325822\ttotal: 4.18s\tremaining: 8.11s\n",
      "272:\tlearn: 16.8160441\ttotal: 4.19s\tremaining: 8.09s\n",
      "273:\tlearn: 16.8056874\ttotal: 4.21s\tremaining: 8.07s\n",
      "274:\tlearn: 16.7998691\ttotal: 4.22s\tremaining: 8.05s\n",
      "275:\tlearn: 16.7854204\ttotal: 4.23s\tremaining: 8.03s\n",
      "276:\tlearn: 16.7704173\ttotal: 4.24s\tremaining: 8.01s\n",
      "277:\tlearn: 16.7575091\ttotal: 4.26s\tremaining: 8s\n",
      "278:\tlearn: 16.7451845\ttotal: 4.27s\tremaining: 7.98s\n",
      "279:\tlearn: 16.7287056\ttotal: 4.29s\tremaining: 7.96s\n",
      "280:\tlearn: 16.7132317\ttotal: 4.3s\tremaining: 7.95s\n",
      "281:\tlearn: 16.6979355\ttotal: 4.32s\tremaining: 7.93s\n",
      "282:\tlearn: 16.6853299\ttotal: 4.33s\tremaining: 7.91s\n",
      "283:\tlearn: 16.6715606\ttotal: 4.34s\tremaining: 7.89s\n",
      "284:\tlearn: 16.6499987\ttotal: 4.36s\tremaining: 7.88s\n",
      "285:\tlearn: 16.6325225\ttotal: 4.37s\tremaining: 7.86s\n",
      "286:\tlearn: 16.6208662\ttotal: 4.39s\tremaining: 7.85s\n",
      "287:\tlearn: 16.6060831\ttotal: 4.4s\tremaining: 7.83s\n",
      "288:\tlearn: 16.5875796\ttotal: 4.42s\tremaining: 7.81s\n",
      "289:\tlearn: 16.5764759\ttotal: 4.43s\tremaining: 7.79s\n",
      "290:\tlearn: 16.5674093\ttotal: 4.45s\tremaining: 7.78s\n",
      "291:\tlearn: 16.5538274\ttotal: 4.46s\tremaining: 7.76s\n",
      "292:\tlearn: 16.5508377\ttotal: 4.48s\tremaining: 7.75s\n",
      "293:\tlearn: 16.5362249\ttotal: 4.49s\tremaining: 7.73s\n",
      "294:\tlearn: 16.5280825\ttotal: 4.51s\tremaining: 7.72s\n",
      "295:\tlearn: 16.5134278\ttotal: 4.52s\tremaining: 7.7s\n",
      "296:\tlearn: 16.4992898\ttotal: 4.54s\tremaining: 7.69s\n",
      "297:\tlearn: 16.4841581\ttotal: 4.55s\tremaining: 7.67s\n",
      "298:\tlearn: 16.4668555\ttotal: 4.57s\tremaining: 7.66s\n",
      "299:\tlearn: 16.4509804\ttotal: 4.58s\tremaining: 7.64s\n",
      "300:\tlearn: 16.4367219\ttotal: 4.6s\tremaining: 7.63s\n",
      "301:\tlearn: 16.4130245\ttotal: 4.62s\tremaining: 7.61s\n",
      "302:\tlearn: 16.3918079\ttotal: 4.63s\tremaining: 7.6s\n",
      "303:\tlearn: 16.3819842\ttotal: 4.65s\tremaining: 7.58s\n",
      "304:\tlearn: 16.3685214\ttotal: 4.66s\tremaining: 7.57s\n",
      "305:\tlearn: 16.3590943\ttotal: 4.68s\tremaining: 7.55s\n",
      "306:\tlearn: 16.3550786\ttotal: 4.69s\tremaining: 7.53s\n",
      "307:\tlearn: 16.3382415\ttotal: 4.71s\tremaining: 7.52s\n",
      "308:\tlearn: 16.3226677\ttotal: 4.72s\tremaining: 7.5s\n",
      "309:\tlearn: 16.3073555\ttotal: 4.74s\tremaining: 7.48s\n",
      "310:\tlearn: 16.2868715\ttotal: 4.75s\tremaining: 7.47s\n",
      "311:\tlearn: 16.2675397\ttotal: 4.76s\tremaining: 7.45s\n",
      "312:\tlearn: 16.2577005\ttotal: 4.78s\tremaining: 7.44s\n",
      "313:\tlearn: 16.2458635\ttotal: 4.79s\tremaining: 7.42s\n",
      "314:\tlearn: 16.2331117\ttotal: 4.81s\tremaining: 7.4s\n",
      "315:\tlearn: 16.2230188\ttotal: 4.82s\tremaining: 7.39s\n",
      "316:\tlearn: 16.2064086\ttotal: 4.84s\tremaining: 7.37s\n",
      "317:\tlearn: 16.1897180\ttotal: 4.85s\tremaining: 7.36s\n",
      "318:\tlearn: 16.1761078\ttotal: 4.87s\tremaining: 7.34s\n",
      "319:\tlearn: 16.1644811\ttotal: 4.88s\tremaining: 7.32s\n",
      "320:\tlearn: 16.1530588\ttotal: 4.9s\tremaining: 7.31s\n",
      "321:\tlearn: 16.1412460\ttotal: 4.92s\tremaining: 7.3s\n",
      "322:\tlearn: 16.1258358\ttotal: 4.93s\tremaining: 7.28s\n",
      "323:\tlearn: 16.1086292\ttotal: 4.95s\tremaining: 7.27s\n",
      "324:\tlearn: 16.1048264\ttotal: 4.96s\tremaining: 7.26s\n",
      "325:\tlearn: 16.0910263\ttotal: 4.98s\tremaining: 7.24s\n",
      "326:\tlearn: 16.0827647\ttotal: 5s\tremaining: 7.23s\n",
      "327:\tlearn: 16.0713615\ttotal: 5.01s\tremaining: 7.21s\n"
     ]
    },
    {
     "name": "stdout",
     "output_type": "stream",
     "text": [
      "328:\tlearn: 16.0514523\ttotal: 5.04s\tremaining: 7.21s\n",
      "329:\tlearn: 16.0425331\ttotal: 5.06s\tremaining: 7.2s\n",
      "330:\tlearn: 16.0283361\ttotal: 5.08s\tremaining: 7.19s\n",
      "331:\tlearn: 16.0053008\ttotal: 5.09s\tremaining: 7.18s\n",
      "332:\tlearn: 16.0009957\ttotal: 5.11s\tremaining: 7.17s\n",
      "333:\tlearn: 15.9902173\ttotal: 5.13s\tremaining: 7.15s\n",
      "334:\tlearn: 15.9785448\ttotal: 5.14s\tremaining: 7.14s\n",
      "335:\tlearn: 15.9749453\ttotal: 5.16s\tremaining: 7.13s\n",
      "336:\tlearn: 15.9664564\ttotal: 5.18s\tremaining: 7.11s\n",
      "337:\tlearn: 15.9464908\ttotal: 5.19s\tremaining: 7.1s\n",
      "338:\tlearn: 15.9449200\ttotal: 5.21s\tremaining: 7.09s\n",
      "339:\tlearn: 15.9284067\ttotal: 5.23s\tremaining: 7.07s\n",
      "340:\tlearn: 15.9096556\ttotal: 5.25s\tremaining: 7.06s\n",
      "341:\tlearn: 15.8889819\ttotal: 5.26s\tremaining: 7.05s\n",
      "342:\tlearn: 15.8719495\ttotal: 5.28s\tremaining: 7.04s\n",
      "343:\tlearn: 15.8659587\ttotal: 5.3s\tremaining: 7.03s\n",
      "344:\tlearn: 15.8535842\ttotal: 5.32s\tremaining: 7.01s\n",
      "345:\tlearn: 15.8287103\ttotal: 5.33s\tremaining: 7s\n",
      "346:\tlearn: 15.8094344\ttotal: 5.35s\tremaining: 6.99s\n",
      "347:\tlearn: 15.7931402\ttotal: 5.37s\tremaining: 6.98s\n",
      "348:\tlearn: 15.7810971\ttotal: 5.4s\tremaining: 6.97s\n",
      "349:\tlearn: 15.7714120\ttotal: 5.44s\tremaining: 7s\n",
      "350:\tlearn: 15.7628219\ttotal: 5.46s\tremaining: 6.99s\n",
      "351:\tlearn: 15.7485969\ttotal: 5.48s\tremaining: 6.98s\n",
      "352:\tlearn: 15.7291388\ttotal: 5.52s\tremaining: 6.99s\n",
      "353:\tlearn: 15.7164200\ttotal: 5.54s\tremaining: 6.97s\n",
      "354:\tlearn: 15.7025802\ttotal: 5.56s\tremaining: 6.97s\n",
      "355:\tlearn: 15.6996552\ttotal: 5.58s\tremaining: 6.96s\n",
      "356:\tlearn: 15.6774909\ttotal: 5.6s\tremaining: 6.95s\n",
      "357:\tlearn: 15.6758174\ttotal: 5.62s\tremaining: 6.94s\n",
      "358:\tlearn: 15.6661759\ttotal: 5.64s\tremaining: 6.93s\n",
      "359:\tlearn: 15.6460770\ttotal: 5.67s\tremaining: 6.93s\n",
      "360:\tlearn: 15.6296793\ttotal: 5.69s\tremaining: 6.92s\n",
      "361:\tlearn: 15.6132825\ttotal: 5.71s\tremaining: 6.91s\n",
      "362:\tlearn: 15.6116197\ttotal: 5.73s\tremaining: 6.89s\n",
      "363:\tlearn: 15.6098304\ttotal: 5.75s\tremaining: 6.88s\n",
      "364:\tlearn: 15.5969819\ttotal: 5.76s\tremaining: 6.87s\n",
      "365:\tlearn: 15.5954309\ttotal: 5.78s\tremaining: 6.85s\n",
      "366:\tlearn: 15.5806978\ttotal: 5.8s\tremaining: 6.84s\n",
      "367:\tlearn: 15.5572932\ttotal: 5.82s\tremaining: 6.83s\n",
      "368:\tlearn: 15.5453642\ttotal: 5.83s\tremaining: 6.81s\n",
      "369:\tlearn: 15.5352485\ttotal: 5.85s\tremaining: 6.8s\n",
      "370:\tlearn: 15.5239573\ttotal: 5.87s\tremaining: 6.79s\n",
      "371:\tlearn: 15.5081307\ttotal: 5.89s\tremaining: 6.78s\n",
      "372:\tlearn: 15.5057071\ttotal: 5.91s\tremaining: 6.77s\n",
      "373:\tlearn: 15.4862264\ttotal: 5.94s\tremaining: 6.76s\n",
      "374:\tlearn: 15.4752104\ttotal: 5.96s\tremaining: 6.75s\n",
      "375:\tlearn: 15.4731055\ttotal: 5.98s\tremaining: 6.74s\n",
      "376:\tlearn: 15.4717216\ttotal: 6s\tremaining: 6.73s\n",
      "377:\tlearn: 15.4573148\ttotal: 6.02s\tremaining: 6.72s\n",
      "378:\tlearn: 15.4462496\ttotal: 6.04s\tremaining: 6.7s\n",
      "379:\tlearn: 15.4347458\ttotal: 6.05s\tremaining: 6.69s\n",
      "380:\tlearn: 15.4232855\ttotal: 6.08s\tremaining: 6.68s\n",
      "381:\tlearn: 15.4066001\ttotal: 6.1s\tremaining: 6.67s\n",
      "382:\tlearn: 15.3939174\ttotal: 6.12s\tremaining: 6.66s\n",
      "383:\tlearn: 15.3811465\ttotal: 6.13s\tremaining: 6.64s\n",
      "384:\tlearn: 15.3607792\ttotal: 6.16s\tremaining: 6.64s\n",
      "385:\tlearn: 15.3522671\ttotal: 6.18s\tremaining: 6.63s\n",
      "386:\tlearn: 15.3448147\ttotal: 6.2s\tremaining: 6.62s\n",
      "387:\tlearn: 15.3281790\ttotal: 6.22s\tremaining: 6.61s\n",
      "388:\tlearn: 15.3172901\ttotal: 6.24s\tremaining: 6.59s\n",
      "389:\tlearn: 15.3053525\ttotal: 6.26s\tremaining: 6.58s\n",
      "390:\tlearn: 15.2917245\ttotal: 6.28s\tremaining: 6.57s\n",
      "391:\tlearn: 15.2807026\ttotal: 6.3s\tremaining: 6.56s\n",
      "392:\tlearn: 15.2638913\ttotal: 6.32s\tremaining: 6.55s\n",
      "393:\tlearn: 15.2524340\ttotal: 6.34s\tremaining: 6.54s\n",
      "394:\tlearn: 15.2464453\ttotal: 6.37s\tremaining: 6.53s\n",
      "395:\tlearn: 15.2385669\ttotal: 6.39s\tremaining: 6.52s\n",
      "396:\tlearn: 15.2282688\ttotal: 6.42s\tremaining: 6.52s\n",
      "397:\tlearn: 15.2150365\ttotal: 6.45s\tremaining: 6.51s\n",
      "398:\tlearn: 15.2001007\ttotal: 6.47s\tremaining: 6.5s\n",
      "399:\tlearn: 15.1987859\ttotal: 6.49s\tremaining: 6.49s\n",
      "400:\tlearn: 15.1839586\ttotal: 6.51s\tremaining: 6.48s\n",
      "401:\tlearn: 15.1699514\ttotal: 6.53s\tremaining: 6.47s\n",
      "402:\tlearn: 15.1557795\ttotal: 6.55s\tremaining: 6.46s\n",
      "403:\tlearn: 15.1447456\ttotal: 6.57s\tremaining: 6.44s\n",
      "404:\tlearn: 15.1310795\ttotal: 6.59s\tremaining: 6.43s\n",
      "405:\tlearn: 15.1186545\ttotal: 6.61s\tremaining: 6.42s\n",
      "406:\tlearn: 15.1008142\ttotal: 6.63s\tremaining: 6.4s\n",
      "407:\tlearn: 15.0884408\ttotal: 6.65s\tremaining: 6.39s\n",
      "408:\tlearn: 15.0709371\ttotal: 6.67s\tremaining: 6.38s\n",
      "409:\tlearn: 15.0602608\ttotal: 6.69s\tremaining: 6.36s\n",
      "410:\tlearn: 15.0437900\ttotal: 6.71s\tremaining: 6.35s\n",
      "411:\tlearn: 15.0376062\ttotal: 6.73s\tremaining: 6.33s\n",
      "412:\tlearn: 15.0283065\ttotal: 6.75s\tremaining: 6.32s\n",
      "413:\tlearn: 15.0199773\ttotal: 6.77s\tremaining: 6.31s\n",
      "414:\tlearn: 15.0126391\ttotal: 6.79s\tremaining: 6.3s\n",
      "415:\tlearn: 15.0011662\ttotal: 6.81s\tremaining: 6.28s\n",
      "416:\tlearn: 14.9825581\ttotal: 6.83s\tremaining: 6.27s\n",
      "417:\tlearn: 14.9812429\ttotal: 6.85s\tremaining: 6.26s\n",
      "418:\tlearn: 14.9650198\ttotal: 6.87s\tremaining: 6.25s\n",
      "419:\tlearn: 14.9523526\ttotal: 6.89s\tremaining: 6.24s\n",
      "420:\tlearn: 14.9510830\ttotal: 6.91s\tremaining: 6.22s\n",
      "421:\tlearn: 14.9498439\ttotal: 6.93s\tremaining: 6.21s\n",
      "422:\tlearn: 14.9349341\ttotal: 6.95s\tremaining: 6.19s\n",
      "423:\tlearn: 14.9220108\ttotal: 6.97s\tremaining: 6.18s\n",
      "424:\tlearn: 14.9120646\ttotal: 6.99s\tremaining: 6.16s\n",
      "425:\tlearn: 14.9020928\ttotal: 7s\tremaining: 6.15s\n",
      "426:\tlearn: 14.8984154\ttotal: 7.02s\tremaining: 6.13s\n",
      "427:\tlearn: 14.8962361\ttotal: 7.04s\tremaining: 6.12s\n",
      "428:\tlearn: 14.8868237\ttotal: 7.06s\tremaining: 6.1s\n",
      "429:\tlearn: 14.8824689\ttotal: 7.08s\tremaining: 6.09s\n",
      "430:\tlearn: 14.8677840\ttotal: 7.09s\tremaining: 6.07s\n",
      "431:\tlearn: 14.8556758\ttotal: 7.11s\tremaining: 6.06s\n",
      "432:\tlearn: 14.8476289\ttotal: 7.13s\tremaining: 6.04s\n",
      "433:\tlearn: 14.8351726\ttotal: 7.15s\tremaining: 6.03s\n",
      "434:\tlearn: 14.8163036\ttotal: 7.17s\tremaining: 6.01s\n",
      "435:\tlearn: 14.8084387\ttotal: 7.18s\tremaining: 6s\n",
      "436:\tlearn: 14.7932618\ttotal: 7.2s\tremaining: 5.98s\n",
      "437:\tlearn: 14.7804994\ttotal: 7.22s\tremaining: 5.96s\n",
      "438:\tlearn: 14.7676202\ttotal: 7.23s\tremaining: 5.95s\n",
      "439:\tlearn: 14.7543138\ttotal: 7.25s\tremaining: 5.93s\n",
      "440:\tlearn: 14.7426421\ttotal: 7.26s\tremaining: 5.91s\n",
      "441:\tlearn: 14.7392930\ttotal: 7.28s\tremaining: 5.9s\n",
      "442:\tlearn: 14.7258778\ttotal: 7.3s\tremaining: 5.88s\n",
      "443:\tlearn: 14.7128661\ttotal: 7.32s\tremaining: 5.87s\n",
      "444:\tlearn: 14.7027905\ttotal: 7.33s\tremaining: 5.85s\n",
      "445:\tlearn: 14.6915346\ttotal: 7.35s\tremaining: 5.83s\n",
      "446:\tlearn: 14.6766892\ttotal: 7.36s\tremaining: 5.81s\n",
      "447:\tlearn: 14.6642007\ttotal: 7.38s\tremaining: 5.8s\n",
      "448:\tlearn: 14.6550655\ttotal: 7.39s\tremaining: 5.78s\n",
      "449:\tlearn: 14.6436198\ttotal: 7.41s\tremaining: 5.76s\n",
      "450:\tlearn: 14.6393081\ttotal: 7.43s\tremaining: 5.75s\n",
      "451:\tlearn: 14.6279525\ttotal: 7.44s\tremaining: 5.73s\n",
      "452:\tlearn: 14.6131624\ttotal: 7.46s\tremaining: 5.71s\n",
      "453:\tlearn: 14.6047162\ttotal: 7.47s\tremaining: 5.7s\n",
      "454:\tlearn: 14.5908994\ttotal: 7.49s\tremaining: 5.68s\n",
      "455:\tlearn: 14.5793123\ttotal: 7.51s\tremaining: 5.66s\n",
      "456:\tlearn: 14.5724129\ttotal: 7.52s\tremaining: 5.65s\n",
      "457:\tlearn: 14.5612149\ttotal: 7.54s\tremaining: 5.63s\n",
      "458:\tlearn: 14.5471952\ttotal: 7.55s\tremaining: 5.61s\n",
      "459:\tlearn: 14.5343034\ttotal: 7.57s\tremaining: 5.59s\n",
      "460:\tlearn: 14.5220701\ttotal: 7.59s\tremaining: 5.58s\n",
      "461:\tlearn: 14.5093148\ttotal: 7.6s\tremaining: 5.56s\n",
      "462:\tlearn: 14.4915317\ttotal: 7.62s\tremaining: 5.54s\n",
      "463:\tlearn: 14.4751043\ttotal: 7.63s\tremaining: 5.53s\n",
      "464:\tlearn: 14.4658608\ttotal: 7.65s\tremaining: 5.51s\n",
      "465:\tlearn: 14.4519850\ttotal: 7.67s\tremaining: 5.5s\n",
      "466:\tlearn: 14.4412873\ttotal: 7.69s\tremaining: 5.48s\n",
      "467:\tlearn: 14.4261317\ttotal: 7.71s\tremaining: 5.47s\n",
      "468:\tlearn: 14.4233127\ttotal: 7.73s\tremaining: 5.45s\n",
      "469:\tlearn: 14.4058780\ttotal: 7.74s\tremaining: 5.44s\n",
      "470:\tlearn: 14.4037366\ttotal: 7.76s\tremaining: 5.42s\n",
      "471:\tlearn: 14.3889503\ttotal: 7.78s\tremaining: 5.41s\n",
      "472:\tlearn: 14.3835222\ttotal: 7.79s\tremaining: 5.39s\n",
      "473:\tlearn: 14.3742880\ttotal: 7.81s\tremaining: 5.37s\n",
      "474:\tlearn: 14.3625890\ttotal: 7.83s\tremaining: 5.35s\n",
      "475:\tlearn: 14.3485834\ttotal: 7.84s\tremaining: 5.34s\n",
      "476:\tlearn: 14.3418964\ttotal: 7.86s\tremaining: 5.32s\n",
      "477:\tlearn: 14.3301546\ttotal: 7.87s\tremaining: 5.3s\n",
      "478:\tlearn: 14.3153447\ttotal: 7.89s\tremaining: 5.29s\n",
      "479:\tlearn: 14.3052253\ttotal: 7.9s\tremaining: 5.27s\n",
      "480:\tlearn: 14.2823418\ttotal: 7.92s\tremaining: 5.25s\n",
      "481:\tlearn: 14.2804567\ttotal: 7.94s\tremaining: 5.24s\n",
      "482:\tlearn: 14.2715998\ttotal: 7.95s\tremaining: 5.22s\n",
      "483:\tlearn: 14.2601078\ttotal: 7.97s\tremaining: 5.2s\n",
      "484:\tlearn: 14.2525477\ttotal: 7.98s\tremaining: 5.18s\n"
     ]
    },
    {
     "name": "stdout",
     "output_type": "stream",
     "text": [
      "485:\tlearn: 14.2417363\ttotal: 8s\tremaining: 5.17s\n",
      "486:\tlearn: 14.2318352\ttotal: 8.02s\tremaining: 5.15s\n",
      "487:\tlearn: 14.2155845\ttotal: 8.03s\tremaining: 5.13s\n",
      "488:\tlearn: 14.2068341\ttotal: 8.05s\tremaining: 5.12s\n",
      "489:\tlearn: 14.1945914\ttotal: 8.06s\tremaining: 5.1s\n",
      "490:\tlearn: 14.1848911\ttotal: 8.08s\tremaining: 5.08s\n",
      "491:\tlearn: 14.1782777\ttotal: 8.09s\tremaining: 5.07s\n",
      "492:\tlearn: 14.1689435\ttotal: 8.11s\tremaining: 5.05s\n",
      "493:\tlearn: 14.1591461\ttotal: 8.13s\tremaining: 5.03s\n",
      "494:\tlearn: 14.1507042\ttotal: 8.14s\tremaining: 5.01s\n",
      "495:\tlearn: 14.1449431\ttotal: 8.15s\tremaining: 5s\n",
      "496:\tlearn: 14.1394405\ttotal: 8.17s\tremaining: 4.98s\n",
      "497:\tlearn: 14.1305221\ttotal: 8.18s\tremaining: 4.96s\n",
      "498:\tlearn: 14.1171603\ttotal: 8.2s\tremaining: 4.95s\n",
      "499:\tlearn: 14.1054602\ttotal: 8.21s\tremaining: 4.93s\n",
      "500:\tlearn: 14.0962644\ttotal: 8.23s\tremaining: 4.91s\n",
      "501:\tlearn: 14.0766765\ttotal: 8.25s\tremaining: 4.89s\n",
      "502:\tlearn: 14.0744229\ttotal: 8.26s\tremaining: 4.88s\n",
      "503:\tlearn: 14.0630416\ttotal: 8.28s\tremaining: 4.86s\n",
      "504:\tlearn: 14.0551660\ttotal: 8.29s\tremaining: 4.84s\n",
      "505:\tlearn: 14.0471193\ttotal: 8.3s\tremaining: 4.83s\n",
      "506:\tlearn: 14.0345008\ttotal: 8.32s\tremaining: 4.81s\n",
      "507:\tlearn: 14.0263247\ttotal: 8.33s\tremaining: 4.79s\n",
      "508:\tlearn: 14.0164652\ttotal: 8.35s\tremaining: 4.77s\n",
      "509:\tlearn: 14.0018208\ttotal: 8.37s\tremaining: 4.76s\n",
      "510:\tlearn: 13.9916788\ttotal: 8.39s\tremaining: 4.75s\n",
      "511:\tlearn: 13.9831775\ttotal: 8.41s\tremaining: 4.73s\n",
      "512:\tlearn: 13.9717947\ttotal: 8.42s\tremaining: 4.71s\n",
      "513:\tlearn: 13.9578606\ttotal: 8.44s\tremaining: 4.7s\n",
      "514:\tlearn: 13.9490881\ttotal: 8.46s\tremaining: 4.68s\n",
      "515:\tlearn: 13.9433189\ttotal: 8.48s\tremaining: 4.67s\n",
      "516:\tlearn: 13.9353773\ttotal: 8.5s\tremaining: 4.65s\n",
      "517:\tlearn: 13.9221784\ttotal: 8.51s\tremaining: 4.63s\n",
      "518:\tlearn: 13.9177876\ttotal: 8.53s\tremaining: 4.62s\n",
      "519:\tlearn: 13.9012380\ttotal: 8.54s\tremaining: 4.6s\n",
      "520:\tlearn: 13.8878578\ttotal: 8.56s\tremaining: 4.58s\n",
      "521:\tlearn: 13.8696457\ttotal: 8.57s\tremaining: 4.57s\n",
      "522:\tlearn: 13.8575476\ttotal: 8.59s\tremaining: 4.55s\n",
      "523:\tlearn: 13.8478994\ttotal: 8.61s\tremaining: 4.53s\n",
      "524:\tlearn: 13.8338622\ttotal: 8.62s\tremaining: 4.52s\n",
      "525:\tlearn: 13.8324444\ttotal: 8.64s\tremaining: 4.5s\n",
      "526:\tlearn: 13.8223433\ttotal: 8.66s\tremaining: 4.49s\n",
      "527:\tlearn: 13.8123969\ttotal: 8.68s\tremaining: 4.47s\n",
      "528:\tlearn: 13.8015097\ttotal: 8.72s\tremaining: 4.47s\n",
      "529:\tlearn: 13.7848571\ttotal: 8.74s\tremaining: 4.45s\n",
      "530:\tlearn: 13.7762088\ttotal: 8.76s\tremaining: 4.44s\n",
      "531:\tlearn: 13.7647077\ttotal: 8.78s\tremaining: 4.42s\n",
      "532:\tlearn: 13.7558411\ttotal: 8.81s\tremaining: 4.42s\n",
      "533:\tlearn: 13.7413950\ttotal: 8.86s\tremaining: 4.41s\n",
      "534:\tlearn: 13.7329748\ttotal: 8.89s\tremaining: 4.4s\n",
      "535:\tlearn: 13.7183043\ttotal: 8.91s\tremaining: 4.39s\n",
      "536:\tlearn: 13.7109091\ttotal: 8.93s\tremaining: 4.37s\n",
      "537:\tlearn: 13.7077221\ttotal: 8.95s\tremaining: 4.36s\n",
      "538:\tlearn: 13.6942041\ttotal: 8.96s\tremaining: 4.34s\n",
      "539:\tlearn: 13.6852645\ttotal: 8.98s\tremaining: 4.33s\n",
      "540:\tlearn: 13.6799067\ttotal: 9s\tremaining: 4.31s\n",
      "541:\tlearn: 13.6699449\ttotal: 9.02s\tremaining: 4.29s\n",
      "542:\tlearn: 13.6621112\ttotal: 9.04s\tremaining: 4.28s\n",
      "543:\tlearn: 13.6513862\ttotal: 9.06s\tremaining: 4.27s\n",
      "544:\tlearn: 13.6364487\ttotal: 9.09s\tremaining: 4.25s\n",
      "545:\tlearn: 13.6346745\ttotal: 9.11s\tremaining: 4.24s\n",
      "546:\tlearn: 13.6220808\ttotal: 9.13s\tremaining: 4.22s\n",
      "547:\tlearn: 13.6068590\ttotal: 9.15s\tremaining: 4.21s\n",
      "548:\tlearn: 13.6049584\ttotal: 9.17s\tremaining: 4.19s\n",
      "549:\tlearn: 13.5936779\ttotal: 9.19s\tremaining: 4.17s\n",
      "550:\tlearn: 13.5821929\ttotal: 9.2s\tremaining: 4.16s\n",
      "551:\tlearn: 13.5806689\ttotal: 9.22s\tremaining: 4.14s\n",
      "552:\tlearn: 13.5724812\ttotal: 9.24s\tremaining: 4.13s\n",
      "553:\tlearn: 13.5629645\ttotal: 9.26s\tremaining: 4.11s\n",
      "554:\tlearn: 13.5545555\ttotal: 9.28s\tremaining: 4.09s\n",
      "555:\tlearn: 13.5439470\ttotal: 9.3s\tremaining: 4.08s\n",
      "556:\tlearn: 13.5318893\ttotal: 9.32s\tremaining: 4.07s\n",
      "557:\tlearn: 13.5200240\ttotal: 9.34s\tremaining: 4.05s\n",
      "558:\tlearn: 13.5049248\ttotal: 9.36s\tremaining: 4.03s\n",
      "559:\tlearn: 13.4926692\ttotal: 9.37s\tremaining: 4.02s\n",
      "560:\tlearn: 13.4811896\ttotal: 9.39s\tremaining: 4s\n",
      "561:\tlearn: 13.4713338\ttotal: 9.41s\tremaining: 3.99s\n",
      "562:\tlearn: 13.4581345\ttotal: 9.44s\tremaining: 3.97s\n",
      "563:\tlearn: 13.4476796\ttotal: 9.46s\tremaining: 3.96s\n",
      "564:\tlearn: 13.4362849\ttotal: 9.47s\tremaining: 3.94s\n",
      "565:\tlearn: 13.4233126\ttotal: 9.49s\tremaining: 3.92s\n",
      "566:\tlearn: 13.4138004\ttotal: 9.51s\tremaining: 3.91s\n",
      "567:\tlearn: 13.4114953\ttotal: 9.53s\tremaining: 3.89s\n",
      "568:\tlearn: 13.4003968\ttotal: 9.55s\tremaining: 3.88s\n",
      "569:\tlearn: 13.3930558\ttotal: 9.56s\tremaining: 3.86s\n",
      "570:\tlearn: 13.3837701\ttotal: 9.58s\tremaining: 3.84s\n",
      "571:\tlearn: 13.3697789\ttotal: 9.6s\tremaining: 3.83s\n",
      "572:\tlearn: 13.3606532\ttotal: 9.62s\tremaining: 3.81s\n",
      "573:\tlearn: 13.3483712\ttotal: 9.63s\tremaining: 3.79s\n",
      "574:\tlearn: 13.3409279\ttotal: 9.66s\tremaining: 3.78s\n",
      "575:\tlearn: 13.3358329\ttotal: 9.67s\tremaining: 3.76s\n",
      "576:\tlearn: 13.3321845\ttotal: 9.69s\tremaining: 3.75s\n",
      "577:\tlearn: 13.3212815\ttotal: 9.71s\tremaining: 3.73s\n",
      "578:\tlearn: 13.3091260\ttotal: 9.73s\tremaining: 3.71s\n",
      "579:\tlearn: 13.2911543\ttotal: 9.75s\tremaining: 3.7s\n",
      "580:\tlearn: 13.2800576\ttotal: 9.76s\tremaining: 3.68s\n",
      "581:\tlearn: 13.2696888\ttotal: 9.78s\tremaining: 3.66s\n",
      "582:\tlearn: 13.2541023\ttotal: 9.8s\tremaining: 3.65s\n",
      "583:\tlearn: 13.2493864\ttotal: 9.82s\tremaining: 3.63s\n",
      "584:\tlearn: 13.2408281\ttotal: 9.84s\tremaining: 3.62s\n",
      "585:\tlearn: 13.2306176\ttotal: 9.86s\tremaining: 3.6s\n",
      "586:\tlearn: 13.2135387\ttotal: 9.88s\tremaining: 3.58s\n",
      "587:\tlearn: 13.1960437\ttotal: 9.91s\tremaining: 3.57s\n",
      "588:\tlearn: 13.1948298\ttotal: 9.94s\tremaining: 3.56s\n",
      "589:\tlearn: 13.1878965\ttotal: 9.96s\tremaining: 3.55s\n",
      "590:\tlearn: 13.1753428\ttotal: 9.99s\tremaining: 3.53s\n",
      "591:\tlearn: 13.1632494\ttotal: 10s\tremaining: 3.52s\n",
      "592:\tlearn: 13.1509568\ttotal: 10s\tremaining: 3.5s\n",
      "593:\tlearn: 13.1449832\ttotal: 10.1s\tremaining: 3.49s\n",
      "594:\tlearn: 13.1295154\ttotal: 10.1s\tremaining: 3.47s\n",
      "595:\tlearn: 13.1143785\ttotal: 10.1s\tremaining: 3.45s\n",
      "596:\tlearn: 13.1080386\ttotal: 10.1s\tremaining: 3.44s\n",
      "597:\tlearn: 13.0920232\ttotal: 10.1s\tremaining: 3.42s\n",
      "598:\tlearn: 13.0798353\ttotal: 10.1s\tremaining: 3.4s\n",
      "599:\tlearn: 13.0697613\ttotal: 10.2s\tremaining: 3.39s\n",
      "600:\tlearn: 13.0598112\ttotal: 10.2s\tremaining: 3.37s\n",
      "601:\tlearn: 13.0485133\ttotal: 10.2s\tremaining: 3.35s\n",
      "602:\tlearn: 13.0404415\ttotal: 10.2s\tremaining: 3.33s\n",
      "603:\tlearn: 13.0312159\ttotal: 10.2s\tremaining: 3.32s\n",
      "604:\tlearn: 13.0216158\ttotal: 10.2s\tremaining: 3.3s\n",
      "605:\tlearn: 13.0070670\ttotal: 10.3s\tremaining: 3.28s\n",
      "606:\tlearn: 12.9940090\ttotal: 10.3s\tremaining: 3.27s\n",
      "607:\tlearn: 12.9819174\ttotal: 10.3s\tremaining: 3.25s\n",
      "608:\tlearn: 12.9652275\ttotal: 10.3s\tremaining: 3.23s\n",
      "609:\tlearn: 12.9540683\ttotal: 10.3s\tremaining: 3.21s\n",
      "610:\tlearn: 12.9397845\ttotal: 10.3s\tremaining: 3.2s\n",
      "611:\tlearn: 12.9314739\ttotal: 10.4s\tremaining: 3.18s\n",
      "612:\tlearn: 12.9221606\ttotal: 10.4s\tremaining: 3.16s\n",
      "613:\tlearn: 12.9124766\ttotal: 10.4s\tremaining: 3.15s\n",
      "614:\tlearn: 12.9002810\ttotal: 10.4s\tremaining: 3.13s\n",
      "615:\tlearn: 12.8900526\ttotal: 10.4s\tremaining: 3.11s\n",
      "616:\tlearn: 12.8769465\ttotal: 10.4s\tremaining: 3.09s\n",
      "617:\tlearn: 12.8727562\ttotal: 10.4s\tremaining: 3.08s\n",
      "618:\tlearn: 12.8676141\ttotal: 10.5s\tremaining: 3.06s\n",
      "619:\tlearn: 12.8587228\ttotal: 10.5s\tremaining: 3.04s\n",
      "620:\tlearn: 12.8433579\ttotal: 10.5s\tremaining: 3.02s\n",
      "621:\tlearn: 12.8340027\ttotal: 10.5s\tremaining: 3.01s\n",
      "622:\tlearn: 12.8241646\ttotal: 10.5s\tremaining: 2.99s\n",
      "623:\tlearn: 12.8145468\ttotal: 10.5s\tremaining: 2.97s\n",
      "624:\tlearn: 12.8073831\ttotal: 10.6s\tremaining: 2.96s\n",
      "625:\tlearn: 12.8055551\ttotal: 10.6s\tremaining: 2.94s\n",
      "626:\tlearn: 12.7936455\ttotal: 10.6s\tremaining: 2.92s\n",
      "627:\tlearn: 12.7859555\ttotal: 10.6s\tremaining: 2.9s\n",
      "628:\tlearn: 12.7765042\ttotal: 10.6s\tremaining: 2.89s\n",
      "629:\tlearn: 12.7708821\ttotal: 10.6s\tremaining: 2.87s\n",
      "630:\tlearn: 12.7602561\ttotal: 10.6s\tremaining: 2.85s\n",
      "631:\tlearn: 12.7495256\ttotal: 10.7s\tremaining: 2.83s\n",
      "632:\tlearn: 12.7397540\ttotal: 10.7s\tremaining: 2.82s\n",
      "633:\tlearn: 12.7380745\ttotal: 10.7s\tremaining: 2.8s\n",
      "634:\tlearn: 12.7253627\ttotal: 10.7s\tremaining: 2.78s\n",
      "635:\tlearn: 12.7094840\ttotal: 10.7s\tremaining: 2.77s\n",
      "636:\tlearn: 12.6994735\ttotal: 10.7s\tremaining: 2.75s\n",
      "637:\tlearn: 12.6901859\ttotal: 10.8s\tremaining: 2.73s\n",
      "638:\tlearn: 12.6825910\ttotal: 10.8s\tremaining: 2.72s\n",
      "639:\tlearn: 12.6696794\ttotal: 10.8s\tremaining: 2.7s\n",
      "640:\tlearn: 12.6621201\ttotal: 10.8s\tremaining: 2.69s\n",
      "641:\tlearn: 12.6557788\ttotal: 10.8s\tremaining: 2.67s\n",
      "642:\tlearn: 12.6418465\ttotal: 10.9s\tremaining: 2.65s\n",
      "643:\tlearn: 12.6288511\ttotal: 10.9s\tremaining: 2.64s\n",
      "644:\tlearn: 12.6276484\ttotal: 10.9s\tremaining: 2.62s\n",
      "645:\tlearn: 12.6202956\ttotal: 10.9s\tremaining: 2.6s\n",
      "646:\tlearn: 12.6107675\ttotal: 10.9s\tremaining: 2.59s\n"
     ]
    },
    {
     "name": "stdout",
     "output_type": "stream",
     "text": [
      "647:\tlearn: 12.6031678\ttotal: 11s\tremaining: 2.57s\n",
      "648:\tlearn: 12.5835413\ttotal: 11s\tremaining: 2.56s\n",
      "649:\tlearn: 12.5768579\ttotal: 11s\tremaining: 2.54s\n",
      "650:\tlearn: 12.5652855\ttotal: 11s\tremaining: 2.52s\n",
      "651:\tlearn: 12.5550746\ttotal: 11s\tremaining: 2.5s\n",
      "652:\tlearn: 12.5491831\ttotal: 11.1s\tremaining: 2.49s\n",
      "653:\tlearn: 12.5337484\ttotal: 11.1s\tremaining: 2.47s\n",
      "654:\tlearn: 12.5274857\ttotal: 11.1s\tremaining: 2.46s\n",
      "655:\tlearn: 12.5117517\ttotal: 11.1s\tremaining: 2.44s\n",
      "656:\tlearn: 12.5107864\ttotal: 11.1s\tremaining: 2.42s\n",
      "657:\tlearn: 12.5018102\ttotal: 11.1s\tremaining: 2.4s\n",
      "658:\tlearn: 12.4915402\ttotal: 11.2s\tremaining: 2.39s\n",
      "659:\tlearn: 12.4783241\ttotal: 11.2s\tremaining: 2.37s\n",
      "660:\tlearn: 12.4658715\ttotal: 11.2s\tremaining: 2.36s\n",
      "661:\tlearn: 12.4580066\ttotal: 11.2s\tremaining: 2.34s\n",
      "662:\tlearn: 12.4518453\ttotal: 11.2s\tremaining: 2.32s\n",
      "663:\tlearn: 12.4409442\ttotal: 11.3s\tremaining: 2.31s\n",
      "664:\tlearn: 12.4394613\ttotal: 11.3s\tremaining: 2.29s\n",
      "665:\tlearn: 12.4280711\ttotal: 11.3s\tremaining: 2.27s\n",
      "666:\tlearn: 12.4186954\ttotal: 11.3s\tremaining: 2.25s\n",
      "667:\tlearn: 12.4055630\ttotal: 11.3s\tremaining: 2.24s\n",
      "668:\tlearn: 12.3944897\ttotal: 11.3s\tremaining: 2.22s\n",
      "669:\tlearn: 12.3869128\ttotal: 11.4s\tremaining: 2.2s\n",
      "670:\tlearn: 12.3796963\ttotal: 11.4s\tremaining: 2.19s\n",
      "671:\tlearn: 12.3695494\ttotal: 11.4s\tremaining: 2.17s\n",
      "672:\tlearn: 12.3636397\ttotal: 11.4s\tremaining: 2.15s\n",
      "673:\tlearn: 12.3548358\ttotal: 11.4s\tremaining: 2.13s\n",
      "674:\tlearn: 12.3390650\ttotal: 11.4s\tremaining: 2.12s\n",
      "675:\tlearn: 12.3285695\ttotal: 11.5s\tremaining: 2.1s\n",
      "676:\tlearn: 12.3264088\ttotal: 11.5s\tremaining: 2.08s\n",
      "677:\tlearn: 12.3115592\ttotal: 11.5s\tremaining: 2.07s\n",
      "678:\tlearn: 12.2985681\ttotal: 11.5s\tremaining: 2.05s\n",
      "679:\tlearn: 12.2887239\ttotal: 11.5s\tremaining: 2.03s\n",
      "680:\tlearn: 12.2802528\ttotal: 11.5s\tremaining: 2.02s\n",
      "681:\tlearn: 12.2706618\ttotal: 11.6s\tremaining: 2s\n",
      "682:\tlearn: 12.2618689\ttotal: 11.6s\tremaining: 1.98s\n",
      "683:\tlearn: 12.2520807\ttotal: 11.6s\tremaining: 1.97s\n",
      "684:\tlearn: 12.2411755\ttotal: 11.6s\tremaining: 1.95s\n",
      "685:\tlearn: 12.2349080\ttotal: 11.6s\tremaining: 1.93s\n",
      "686:\tlearn: 12.2259356\ttotal: 11.7s\tremaining: 1.92s\n",
      "687:\tlearn: 12.2250126\ttotal: 11.7s\tremaining: 1.9s\n",
      "688:\tlearn: 12.2168656\ttotal: 11.7s\tremaining: 1.88s\n",
      "689:\tlearn: 12.2075284\ttotal: 11.7s\tremaining: 1.86s\n",
      "690:\tlearn: 12.2043214\ttotal: 11.7s\tremaining: 1.85s\n",
      "691:\tlearn: 12.1941426\ttotal: 11.7s\tremaining: 1.83s\n",
      "692:\tlearn: 12.1833555\ttotal: 11.7s\tremaining: 1.81s\n",
      "693:\tlearn: 12.1814385\ttotal: 11.8s\tremaining: 1.8s\n",
      "694:\tlearn: 12.1778368\ttotal: 11.8s\tremaining: 1.78s\n",
      "695:\tlearn: 12.1690610\ttotal: 11.8s\tremaining: 1.76s\n",
      "696:\tlearn: 12.1593076\ttotal: 11.8s\tremaining: 1.75s\n",
      "697:\tlearn: 12.1577359\ttotal: 11.8s\tremaining: 1.73s\n",
      "698:\tlearn: 12.1432513\ttotal: 11.8s\tremaining: 1.71s\n",
      "699:\tlearn: 12.1416626\ttotal: 11.9s\tremaining: 1.7s\n",
      "700:\tlearn: 12.1292648\ttotal: 11.9s\tremaining: 1.68s\n",
      "701:\tlearn: 12.1194287\ttotal: 11.9s\tremaining: 1.66s\n",
      "702:\tlearn: 12.1090207\ttotal: 11.9s\tremaining: 1.65s\n",
      "703:\tlearn: 12.1032996\ttotal: 11.9s\tremaining: 1.63s\n",
      "704:\tlearn: 12.0887766\ttotal: 12s\tremaining: 1.61s\n",
      "705:\tlearn: 12.0803483\ttotal: 12s\tremaining: 1.59s\n",
      "706:\tlearn: 12.0697189\ttotal: 12s\tremaining: 1.58s\n",
      "707:\tlearn: 12.0609033\ttotal: 12s\tremaining: 1.56s\n",
      "708:\tlearn: 12.0563449\ttotal: 12s\tremaining: 1.54s\n",
      "709:\tlearn: 12.0479043\ttotal: 12s\tremaining: 1.53s\n",
      "710:\tlearn: 12.0352009\ttotal: 12.1s\tremaining: 1.51s\n",
      "711:\tlearn: 12.0241567\ttotal: 12.1s\tremaining: 1.49s\n",
      "712:\tlearn: 12.0163843\ttotal: 12.1s\tremaining: 1.47s\n",
      "713:\tlearn: 12.0098073\ttotal: 12.1s\tremaining: 1.46s\n",
      "714:\tlearn: 11.9987023\ttotal: 12.1s\tremaining: 1.44s\n",
      "715:\tlearn: 11.9949836\ttotal: 12.1s\tremaining: 1.42s\n",
      "716:\tlearn: 11.9940976\ttotal: 12.1s\tremaining: 1.41s\n",
      "717:\tlearn: 11.9860132\ttotal: 12.2s\tremaining: 1.39s\n",
      "718:\tlearn: 11.9788180\ttotal: 12.2s\tremaining: 1.37s\n",
      "719:\tlearn: 11.9698960\ttotal: 12.2s\tremaining: 1.35s\n",
      "720:\tlearn: 11.9596834\ttotal: 12.2s\tremaining: 1.34s\n",
      "721:\tlearn: 11.9502844\ttotal: 12.2s\tremaining: 1.32s\n",
      "722:\tlearn: 11.9432621\ttotal: 12.2s\tremaining: 1.3s\n",
      "723:\tlearn: 11.9384526\ttotal: 12.3s\tremaining: 1.29s\n",
      "724:\tlearn: 11.9335578\ttotal: 12.3s\tremaining: 1.27s\n",
      "725:\tlearn: 11.9201646\ttotal: 12.3s\tremaining: 1.25s\n",
      "726:\tlearn: 11.9119287\ttotal: 12.3s\tremaining: 1.23s\n",
      "727:\tlearn: 11.9111358\ttotal: 12.3s\tremaining: 1.22s\n",
      "728:\tlearn: 11.9099060\ttotal: 12.3s\tremaining: 1.2s\n",
      "729:\tlearn: 11.9000025\ttotal: 12.3s\tremaining: 1.18s\n",
      "730:\tlearn: 11.8901307\ttotal: 12.4s\tremaining: 1.17s\n",
      "731:\tlearn: 11.8831655\ttotal: 12.4s\tremaining: 1.15s\n",
      "732:\tlearn: 11.8715618\ttotal: 12.4s\tremaining: 1.13s\n",
      "733:\tlearn: 11.8614729\ttotal: 12.4s\tremaining: 1.11s\n",
      "734:\tlearn: 11.8548268\ttotal: 12.4s\tremaining: 1.1s\n",
      "735:\tlearn: 11.8454792\ttotal: 12.4s\tremaining: 1.08s\n",
      "736:\tlearn: 11.8321897\ttotal: 12.4s\tremaining: 1.06s\n",
      "737:\tlearn: 11.8246015\ttotal: 12.5s\tremaining: 1.05s\n",
      "738:\tlearn: 11.8148156\ttotal: 12.5s\tremaining: 1.03s\n",
      "739:\tlearn: 11.8073410\ttotal: 12.5s\tremaining: 1.01s\n",
      "740:\tlearn: 11.7989802\ttotal: 12.5s\tremaining: 996ms\n",
      "741:\tlearn: 11.7887795\ttotal: 12.5s\tremaining: 978ms\n",
      "742:\tlearn: 11.7790139\ttotal: 12.5s\tremaining: 961ms\n",
      "743:\tlearn: 11.7727389\ttotal: 12.5s\tremaining: 944ms\n",
      "744:\tlearn: 11.7629006\ttotal: 12.6s\tremaining: 927ms\n",
      "745:\tlearn: 11.7563669\ttotal: 12.6s\tremaining: 910ms\n",
      "746:\tlearn: 11.7461949\ttotal: 12.6s\tremaining: 893ms\n",
      "747:\tlearn: 11.7350781\ttotal: 12.6s\tremaining: 876ms\n",
      "748:\tlearn: 11.7258888\ttotal: 12.6s\tremaining: 859ms\n",
      "749:\tlearn: 11.7188120\ttotal: 12.6s\tremaining: 842ms\n",
      "750:\tlearn: 11.7077513\ttotal: 12.6s\tremaining: 825ms\n",
      "751:\tlearn: 11.6975962\ttotal: 12.7s\tremaining: 808ms\n",
      "752:\tlearn: 11.6906254\ttotal: 12.7s\tremaining: 791ms\n",
      "753:\tlearn: 11.6818361\ttotal: 12.7s\tremaining: 774ms\n",
      "754:\tlearn: 11.6710406\ttotal: 12.7s\tremaining: 757ms\n",
      "755:\tlearn: 11.6615165\ttotal: 12.7s\tremaining: 740ms\n",
      "756:\tlearn: 11.6529932\ttotal: 12.7s\tremaining: 723ms\n",
      "757:\tlearn: 11.6399568\ttotal: 12.7s\tremaining: 706ms\n",
      "758:\tlearn: 11.6282838\ttotal: 12.8s\tremaining: 689ms\n",
      "759:\tlearn: 11.6164720\ttotal: 12.8s\tremaining: 672ms\n",
      "760:\tlearn: 11.6067721\ttotal: 12.8s\tremaining: 656ms\n",
      "761:\tlearn: 11.5996138\ttotal: 12.8s\tremaining: 639ms\n",
      "762:\tlearn: 11.5912631\ttotal: 12.8s\tremaining: 622ms\n",
      "763:\tlearn: 11.5817886\ttotal: 12.8s\tremaining: 605ms\n",
      "764:\tlearn: 11.5740065\ttotal: 12.9s\tremaining: 589ms\n",
      "765:\tlearn: 11.5618118\ttotal: 12.9s\tremaining: 572ms\n",
      "766:\tlearn: 11.5510500\ttotal: 12.9s\tremaining: 555ms\n",
      "767:\tlearn: 11.5411308\ttotal: 12.9s\tremaining: 538ms\n",
      "768:\tlearn: 11.5259892\ttotal: 12.9s\tremaining: 522ms\n",
      "769:\tlearn: 11.5205680\ttotal: 13s\tremaining: 505ms\n",
      "770:\tlearn: 11.5169291\ttotal: 13s\tremaining: 488ms\n",
      "771:\tlearn: 11.5079198\ttotal: 13s\tremaining: 471ms\n",
      "772:\tlearn: 11.5070820\ttotal: 13s\tremaining: 454ms\n",
      "773:\tlearn: 11.4964264\ttotal: 13s\tremaining: 437ms\n",
      "774:\tlearn: 11.4914743\ttotal: 13s\tremaining: 421ms\n",
      "775:\tlearn: 11.4875644\ttotal: 13.1s\tremaining: 404ms\n",
      "776:\tlearn: 11.4789047\ttotal: 13.1s\tremaining: 387ms\n",
      "777:\tlearn: 11.4719970\ttotal: 13.1s\tremaining: 370ms\n",
      "778:\tlearn: 11.4653002\ttotal: 13.1s\tremaining: 353ms\n",
      "779:\tlearn: 11.4550812\ttotal: 13.1s\tremaining: 336ms\n",
      "780:\tlearn: 11.4542859\ttotal: 13.1s\tremaining: 319ms\n",
      "781:\tlearn: 11.4436867\ttotal: 13.1s\tremaining: 303ms\n",
      "782:\tlearn: 11.4373975\ttotal: 13.2s\tremaining: 286ms\n",
      "783:\tlearn: 11.4284308\ttotal: 13.2s\tremaining: 269ms\n",
      "784:\tlearn: 11.4273774\ttotal: 13.2s\tremaining: 252ms\n",
      "785:\tlearn: 11.4261856\ttotal: 13.2s\tremaining: 235ms\n",
      "786:\tlearn: 11.4205244\ttotal: 13.2s\tremaining: 218ms\n",
      "787:\tlearn: 11.4139276\ttotal: 13.2s\tremaining: 201ms\n",
      "788:\tlearn: 11.4099301\ttotal: 13.2s\tremaining: 185ms\n",
      "789:\tlearn: 11.4041304\ttotal: 13.3s\tremaining: 168ms\n",
      "790:\tlearn: 11.3951394\ttotal: 13.3s\tremaining: 151ms\n",
      "791:\tlearn: 11.3831292\ttotal: 13.3s\tremaining: 134ms\n",
      "792:\tlearn: 11.3726768\ttotal: 13.3s\tremaining: 117ms\n",
      "793:\tlearn: 11.3699428\ttotal: 13.3s\tremaining: 101ms\n",
      "794:\tlearn: 11.3640792\ttotal: 13.3s\tremaining: 83.8ms\n",
      "795:\tlearn: 11.3541298\ttotal: 13.3s\tremaining: 67.1ms\n",
      "796:\tlearn: 11.3505980\ttotal: 13.4s\tremaining: 50.3ms\n",
      "797:\tlearn: 11.3410616\ttotal: 13.4s\tremaining: 33.5ms\n",
      "798:\tlearn: 11.3314000\ttotal: 13.4s\tremaining: 16.8ms\n",
      "799:\tlearn: 11.3307036\ttotal: 13.4s\tremaining: 0us\n",
      "CPU times: total: 1min 16s\n",
      "Wall time: 41min 21s\n"
     ]
    },
    {
     "data": {
      "text/html": [
       "<style>#sk-container-id-2 {color: black;background-color: white;}#sk-container-id-2 pre{padding: 0;}#sk-container-id-2 div.sk-toggleable {background-color: white;}#sk-container-id-2 label.sk-toggleable__label {cursor: pointer;display: block;width: 100%;margin-bottom: 0;padding: 0.3em;box-sizing: border-box;text-align: center;}#sk-container-id-2 label.sk-toggleable__label-arrow:before {content: \"▸\";float: left;margin-right: 0.25em;color: #696969;}#sk-container-id-2 label.sk-toggleable__label-arrow:hover:before {color: black;}#sk-container-id-2 div.sk-estimator:hover label.sk-toggleable__label-arrow:before {color: black;}#sk-container-id-2 div.sk-toggleable__content {max-height: 0;max-width: 0;overflow: hidden;text-align: left;background-color: #f0f8ff;}#sk-container-id-2 div.sk-toggleable__content pre {margin: 0.2em;color: black;border-radius: 0.25em;background-color: #f0f8ff;}#sk-container-id-2 input.sk-toggleable__control:checked~div.sk-toggleable__content {max-height: 200px;max-width: 100%;overflow: auto;}#sk-container-id-2 input.sk-toggleable__control:checked~label.sk-toggleable__label-arrow:before {content: \"▾\";}#sk-container-id-2 div.sk-estimator input.sk-toggleable__control:checked~label.sk-toggleable__label {background-color: #d4ebff;}#sk-container-id-2 div.sk-label input.sk-toggleable__control:checked~label.sk-toggleable__label {background-color: #d4ebff;}#sk-container-id-2 input.sk-hidden--visually {border: 0;clip: rect(1px 1px 1px 1px);clip: rect(1px, 1px, 1px, 1px);height: 1px;margin: -1px;overflow: hidden;padding: 0;position: absolute;width: 1px;}#sk-container-id-2 div.sk-estimator {font-family: monospace;background-color: #f0f8ff;border: 1px dotted black;border-radius: 0.25em;box-sizing: border-box;margin-bottom: 0.5em;}#sk-container-id-2 div.sk-estimator:hover {background-color: #d4ebff;}#sk-container-id-2 div.sk-parallel-item::after {content: \"\";width: 100%;border-bottom: 1px solid gray;flex-grow: 1;}#sk-container-id-2 div.sk-label:hover label.sk-toggleable__label {background-color: #d4ebff;}#sk-container-id-2 div.sk-serial::before {content: \"\";position: absolute;border-left: 1px solid gray;box-sizing: border-box;top: 0;bottom: 0;left: 50%;z-index: 0;}#sk-container-id-2 div.sk-serial {display: flex;flex-direction: column;align-items: center;background-color: white;padding-right: 0.2em;padding-left: 0.2em;position: relative;}#sk-container-id-2 div.sk-item {position: relative;z-index: 1;}#sk-container-id-2 div.sk-parallel {display: flex;align-items: stretch;justify-content: center;background-color: white;position: relative;}#sk-container-id-2 div.sk-item::before, #sk-container-id-2 div.sk-parallel-item::before {content: \"\";position: absolute;border-left: 1px solid gray;box-sizing: border-box;top: 0;bottom: 0;left: 50%;z-index: -1;}#sk-container-id-2 div.sk-parallel-item {display: flex;flex-direction: column;z-index: 1;position: relative;background-color: white;}#sk-container-id-2 div.sk-parallel-item:first-child::after {align-self: flex-end;width: 50%;}#sk-container-id-2 div.sk-parallel-item:last-child::after {align-self: flex-start;width: 50%;}#sk-container-id-2 div.sk-parallel-item:only-child::after {width: 0;}#sk-container-id-2 div.sk-dashed-wrapped {border: 1px dashed gray;margin: 0 0.4em 0.5em 0.4em;box-sizing: border-box;padding-bottom: 0.4em;background-color: white;}#sk-container-id-2 div.sk-label label {font-family: monospace;font-weight: bold;display: inline-block;line-height: 1.2em;}#sk-container-id-2 div.sk-label-container {text-align: center;}#sk-container-id-2 div.sk-container {/* jupyter's `normalize.less` sets `[hidden] { display: none; }` but bootstrap.min.css set `[hidden] { display: none !important; }` so we also need the `!important` here to be able to override the default hidden behavior on the sphinx rendered scikit-learn.org. See: https://github.com/scikit-learn/scikit-learn/issues/21755 */display: inline-block !important;position: relative;}#sk-container-id-2 div.sk-text-repr-fallback {display: none;}</style><div id=\"sk-container-id-2\" class=\"sk-top-container\"><div class=\"sk-text-repr-fallback\"><pre>GridSearchCV(cv=TimeSeriesSplit(gap=0, max_train_size=None, n_splits=4, test_size=None),\n",
       "             error_score=&#x27;raise&#x27;,\n",
       "             estimator=Pipeline(steps=[(&#x27;catboostregressor&#x27;,\n",
       "                                        &lt;catboost.core.CatBoostRegressor object at 0x000001860A624310&gt;)]),\n",
       "             n_jobs=-1,\n",
       "             param_grid={&#x27;catboostregressor__max_depth&#x27;: [5, 10],\n",
       "                         &#x27;catboostregressor__n_estimators&#x27;: [600, 700, 800]},\n",
       "             scoring=&#x27;neg_root_mean_squared_error&#x27;)</pre><b>In a Jupyter environment, please rerun this cell to show the HTML representation or trust the notebook. <br />On GitHub, the HTML representation is unable to render, please try loading this page with nbviewer.org.</b></div><div class=\"sk-container\" hidden><div class=\"sk-item sk-dashed-wrapped\"><div class=\"sk-label-container\"><div class=\"sk-label sk-toggleable\"><input class=\"sk-toggleable__control sk-hidden--visually\" id=\"sk-estimator-id-4\" type=\"checkbox\" ><label for=\"sk-estimator-id-4\" class=\"sk-toggleable__label sk-toggleable__label-arrow\">GridSearchCV</label><div class=\"sk-toggleable__content\"><pre>GridSearchCV(cv=TimeSeriesSplit(gap=0, max_train_size=None, n_splits=4, test_size=None),\n",
       "             error_score=&#x27;raise&#x27;,\n",
       "             estimator=Pipeline(steps=[(&#x27;catboostregressor&#x27;,\n",
       "                                        &lt;catboost.core.CatBoostRegressor object at 0x000001860A624310&gt;)]),\n",
       "             n_jobs=-1,\n",
       "             param_grid={&#x27;catboostregressor__max_depth&#x27;: [5, 10],\n",
       "                         &#x27;catboostregressor__n_estimators&#x27;: [600, 700, 800]},\n",
       "             scoring=&#x27;neg_root_mean_squared_error&#x27;)</pre></div></div></div><div class=\"sk-parallel\"><div class=\"sk-parallel-item\"><div class=\"sk-item\"><div class=\"sk-label-container\"><div class=\"sk-label sk-toggleable\"><input class=\"sk-toggleable__control sk-hidden--visually\" id=\"sk-estimator-id-5\" type=\"checkbox\" ><label for=\"sk-estimator-id-5\" class=\"sk-toggleable__label sk-toggleable__label-arrow\">estimator: Pipeline</label><div class=\"sk-toggleable__content\"><pre>Pipeline(steps=[(&#x27;catboostregressor&#x27;,\n",
       "                 &lt;catboost.core.CatBoostRegressor object at 0x000001860A624310&gt;)])</pre></div></div></div><div class=\"sk-serial\"><div class=\"sk-item\"><div class=\"sk-serial\"><div class=\"sk-item\"><div class=\"sk-estimator sk-toggleable\"><input class=\"sk-toggleable__control sk-hidden--visually\" id=\"sk-estimator-id-6\" type=\"checkbox\" ><label for=\"sk-estimator-id-6\" class=\"sk-toggleable__label sk-toggleable__label-arrow\">CatBoostRegressor</label><div class=\"sk-toggleable__content\"><pre>&lt;catboost.core.CatBoostRegressor object at 0x000001860A624310&gt;</pre></div></div></div></div></div></div></div></div></div></div></div></div>"
      ],
      "text/plain": [
       "GridSearchCV(cv=TimeSeriesSplit(gap=0, max_train_size=None, n_splits=4, test_size=None),\n",
       "             error_score='raise',\n",
       "             estimator=Pipeline(steps=[('catboostregressor',\n",
       "                                        <catboost.core.CatBoostRegressor object at 0x000001860A624310>)]),\n",
       "             n_jobs=-1,\n",
       "             param_grid={'catboostregressor__max_depth': [5, 10],\n",
       "                         'catboostregressor__n_estimators': [600, 700, 800]},\n",
       "             scoring='neg_root_mean_squared_error')"
      ]
     },
     "execution_count": 29,
     "metadata": {},
     "output_type": "execute_result"
    }
   ],
   "source": [
    "%%time\n",
    "\n",
    "# подбор лучших гиперпараметров модели кросс-валидацией\n",
    "GSCV_pipe_cat = GridSearchCV(pipe_cat, param_grid_cat, cv=tscv, n_jobs=-1,\n",
    "                             scoring='neg_root_mean_squared_error', error_score='raise')\n",
    "\n",
    "GSCV_pipe_cat.fit(f_train, t_train)"
   ]
  },
  {
   "cell_type": "code",
   "execution_count": 30,
   "metadata": {},
   "outputs": [
    {
     "data": {
      "text/plain": [
       "'RMSE: 22.794'"
      ]
     },
     "metadata": {},
     "output_type": "display_data"
    },
    {
     "data": {
      "text/plain": [
       "{'catboostregressor__max_depth': 5, 'catboostregressor__n_estimators': 800}"
      ]
     },
     "metadata": {},
     "output_type": "display_data"
    }
   ],
   "source": [
    "# вывод информации о лучшей модели\n",
    "model_info(GSCV_pipe_cat)"
   ]
  },
  {
   "cell_type": "markdown",
   "metadata": {},
   "source": [
    "#### Модель случайного леса"
   ]
  },
  {
   "cell_type": "code",
   "execution_count": 31,
   "metadata": {},
   "outputs": [],
   "source": [
    "# создание pipeline для RandomForestRegressor\n",
    "pipe_forest = make_pipeline(RandomForestRegressor(random_state=42))\n",
    "\n",
    "# сетка параметров для GridSearchCV\n",
    "param_grid = {'randomforestregressor__max_depth' : [5, 10],\n",
    "              'randomforestregressor__n_estimators' : [400, 500, 600]}"
   ]
  },
  {
   "cell_type": "code",
   "execution_count": 32,
   "metadata": {},
   "outputs": [
    {
     "name": "stdout",
     "output_type": "stream",
     "text": [
      "CPU times: total: 3min 6s\n",
      "Wall time: 11min 35s\n"
     ]
    },
    {
     "data": {
      "text/html": [
       "<style>#sk-container-id-3 {color: black;background-color: white;}#sk-container-id-3 pre{padding: 0;}#sk-container-id-3 div.sk-toggleable {background-color: white;}#sk-container-id-3 label.sk-toggleable__label {cursor: pointer;display: block;width: 100%;margin-bottom: 0;padding: 0.3em;box-sizing: border-box;text-align: center;}#sk-container-id-3 label.sk-toggleable__label-arrow:before {content: \"▸\";float: left;margin-right: 0.25em;color: #696969;}#sk-container-id-3 label.sk-toggleable__label-arrow:hover:before {color: black;}#sk-container-id-3 div.sk-estimator:hover label.sk-toggleable__label-arrow:before {color: black;}#sk-container-id-3 div.sk-toggleable__content {max-height: 0;max-width: 0;overflow: hidden;text-align: left;background-color: #f0f8ff;}#sk-container-id-3 div.sk-toggleable__content pre {margin: 0.2em;color: black;border-radius: 0.25em;background-color: #f0f8ff;}#sk-container-id-3 input.sk-toggleable__control:checked~div.sk-toggleable__content {max-height: 200px;max-width: 100%;overflow: auto;}#sk-container-id-3 input.sk-toggleable__control:checked~label.sk-toggleable__label-arrow:before {content: \"▾\";}#sk-container-id-3 div.sk-estimator input.sk-toggleable__control:checked~label.sk-toggleable__label {background-color: #d4ebff;}#sk-container-id-3 div.sk-label input.sk-toggleable__control:checked~label.sk-toggleable__label {background-color: #d4ebff;}#sk-container-id-3 input.sk-hidden--visually {border: 0;clip: rect(1px 1px 1px 1px);clip: rect(1px, 1px, 1px, 1px);height: 1px;margin: -1px;overflow: hidden;padding: 0;position: absolute;width: 1px;}#sk-container-id-3 div.sk-estimator {font-family: monospace;background-color: #f0f8ff;border: 1px dotted black;border-radius: 0.25em;box-sizing: border-box;margin-bottom: 0.5em;}#sk-container-id-3 div.sk-estimator:hover {background-color: #d4ebff;}#sk-container-id-3 div.sk-parallel-item::after {content: \"\";width: 100%;border-bottom: 1px solid gray;flex-grow: 1;}#sk-container-id-3 div.sk-label:hover label.sk-toggleable__label {background-color: #d4ebff;}#sk-container-id-3 div.sk-serial::before {content: \"\";position: absolute;border-left: 1px solid gray;box-sizing: border-box;top: 0;bottom: 0;left: 50%;z-index: 0;}#sk-container-id-3 div.sk-serial {display: flex;flex-direction: column;align-items: center;background-color: white;padding-right: 0.2em;padding-left: 0.2em;position: relative;}#sk-container-id-3 div.sk-item {position: relative;z-index: 1;}#sk-container-id-3 div.sk-parallel {display: flex;align-items: stretch;justify-content: center;background-color: white;position: relative;}#sk-container-id-3 div.sk-item::before, #sk-container-id-3 div.sk-parallel-item::before {content: \"\";position: absolute;border-left: 1px solid gray;box-sizing: border-box;top: 0;bottom: 0;left: 50%;z-index: -1;}#sk-container-id-3 div.sk-parallel-item {display: flex;flex-direction: column;z-index: 1;position: relative;background-color: white;}#sk-container-id-3 div.sk-parallel-item:first-child::after {align-self: flex-end;width: 50%;}#sk-container-id-3 div.sk-parallel-item:last-child::after {align-self: flex-start;width: 50%;}#sk-container-id-3 div.sk-parallel-item:only-child::after {width: 0;}#sk-container-id-3 div.sk-dashed-wrapped {border: 1px dashed gray;margin: 0 0.4em 0.5em 0.4em;box-sizing: border-box;padding-bottom: 0.4em;background-color: white;}#sk-container-id-3 div.sk-label label {font-family: monospace;font-weight: bold;display: inline-block;line-height: 1.2em;}#sk-container-id-3 div.sk-label-container {text-align: center;}#sk-container-id-3 div.sk-container {/* jupyter's `normalize.less` sets `[hidden] { display: none; }` but bootstrap.min.css set `[hidden] { display: none !important; }` so we also need the `!important` here to be able to override the default hidden behavior on the sphinx rendered scikit-learn.org. See: https://github.com/scikit-learn/scikit-learn/issues/21755 */display: inline-block !important;position: relative;}#sk-container-id-3 div.sk-text-repr-fallback {display: none;}</style><div id=\"sk-container-id-3\" class=\"sk-top-container\"><div class=\"sk-text-repr-fallback\"><pre>GridSearchCV(cv=TimeSeriesSplit(gap=0, max_train_size=None, n_splits=4, test_size=None),\n",
       "             estimator=Pipeline(steps=[(&#x27;randomforestregressor&#x27;,\n",
       "                                        RandomForestRegressor(random_state=42))]),\n",
       "             n_jobs=-1,\n",
       "             param_grid={&#x27;randomforestregressor__max_depth&#x27;: [5, 10],\n",
       "                         &#x27;randomforestregressor__n_estimators&#x27;: [400, 500,\n",
       "                                                                 600]},\n",
       "             scoring=&#x27;neg_root_mean_squared_error&#x27;)</pre><b>In a Jupyter environment, please rerun this cell to show the HTML representation or trust the notebook. <br />On GitHub, the HTML representation is unable to render, please try loading this page with nbviewer.org.</b></div><div class=\"sk-container\" hidden><div class=\"sk-item sk-dashed-wrapped\"><div class=\"sk-label-container\"><div class=\"sk-label sk-toggleable\"><input class=\"sk-toggleable__control sk-hidden--visually\" id=\"sk-estimator-id-7\" type=\"checkbox\" ><label for=\"sk-estimator-id-7\" class=\"sk-toggleable__label sk-toggleable__label-arrow\">GridSearchCV</label><div class=\"sk-toggleable__content\"><pre>GridSearchCV(cv=TimeSeriesSplit(gap=0, max_train_size=None, n_splits=4, test_size=None),\n",
       "             estimator=Pipeline(steps=[(&#x27;randomforestregressor&#x27;,\n",
       "                                        RandomForestRegressor(random_state=42))]),\n",
       "             n_jobs=-1,\n",
       "             param_grid={&#x27;randomforestregressor__max_depth&#x27;: [5, 10],\n",
       "                         &#x27;randomforestregressor__n_estimators&#x27;: [400, 500,\n",
       "                                                                 600]},\n",
       "             scoring=&#x27;neg_root_mean_squared_error&#x27;)</pre></div></div></div><div class=\"sk-parallel\"><div class=\"sk-parallel-item\"><div class=\"sk-item\"><div class=\"sk-label-container\"><div class=\"sk-label sk-toggleable\"><input class=\"sk-toggleable__control sk-hidden--visually\" id=\"sk-estimator-id-8\" type=\"checkbox\" ><label for=\"sk-estimator-id-8\" class=\"sk-toggleable__label sk-toggleable__label-arrow\">estimator: Pipeline</label><div class=\"sk-toggleable__content\"><pre>Pipeline(steps=[(&#x27;randomforestregressor&#x27;,\n",
       "                 RandomForestRegressor(random_state=42))])</pre></div></div></div><div class=\"sk-serial\"><div class=\"sk-item\"><div class=\"sk-serial\"><div class=\"sk-item\"><div class=\"sk-estimator sk-toggleable\"><input class=\"sk-toggleable__control sk-hidden--visually\" id=\"sk-estimator-id-9\" type=\"checkbox\" ><label for=\"sk-estimator-id-9\" class=\"sk-toggleable__label sk-toggleable__label-arrow\">RandomForestRegressor</label><div class=\"sk-toggleable__content\"><pre>RandomForestRegressor(random_state=42)</pre></div></div></div></div></div></div></div></div></div></div></div></div>"
      ],
      "text/plain": [
       "GridSearchCV(cv=TimeSeriesSplit(gap=0, max_train_size=None, n_splits=4, test_size=None),\n",
       "             estimator=Pipeline(steps=[('randomforestregressor',\n",
       "                                        RandomForestRegressor(random_state=42))]),\n",
       "             n_jobs=-1,\n",
       "             param_grid={'randomforestregressor__max_depth': [5, 10],\n",
       "                         'randomforestregressor__n_estimators': [400, 500,\n",
       "                                                                 600]},\n",
       "             scoring='neg_root_mean_squared_error')"
      ]
     },
     "execution_count": 32,
     "metadata": {},
     "output_type": "execute_result"
    }
   ],
   "source": [
    "%%time\n",
    "\n",
    "# подбор лучших гиперпараметров модели кросс-валидацией\n",
    "GSCV_pipe_forest = GridSearchCV(pipe_forest, param_grid, cv=tscv, n_jobs=-1,\n",
    "                                scoring='neg_root_mean_squared_error')\n",
    "\n",
    "GSCV_pipe_forest.fit(f_train, t_train)"
   ]
  },
  {
   "cell_type": "code",
   "execution_count": 33,
   "metadata": {},
   "outputs": [
    {
     "data": {
      "text/plain": [
       "'RMSE: 23.073'"
      ]
     },
     "metadata": {},
     "output_type": "display_data"
    },
    {
     "data": {
      "text/plain": [
       "{'randomforestregressor__max_depth': 10,\n",
       " 'randomforestregressor__n_estimators': 500}"
      ]
     },
     "metadata": {},
     "output_type": "display_data"
    }
   ],
   "source": [
    "# вывод информации о лучшей модели\n",
    "model_info(GSCV_pipe_forest)"
   ]
  },
  {
   "cell_type": "markdown",
   "metadata": {},
   "source": [
    "### Сравнение моделей"
   ]
  },
  {
   "cell_type": "markdown",
   "metadata": {},
   "source": [
    "**Для наглядности** сравнения различных моделей, **соберём всё в датафрейм**:"
   ]
  },
  {
   "cell_type": "code",
   "execution_count": 34,
   "metadata": {},
   "outputs": [
    {
     "data": {
      "text/html": [
       "<style type=\"text/css\">\n",
       "#T_60f51_row0_col1 {\n",
       "  background-color: #be242e;\n",
       "  color: #f1f1f1;\n",
       "}\n",
       "#T_60f51_row1_col1 {\n",
       "  background-color: #3b4cc0;\n",
       "  color: #f1f1f1;\n",
       "}\n",
       "#T_60f51_row2_col1 {\n",
       "  background-color: #b40426;\n",
       "  color: #f1f1f1;\n",
       "}\n",
       "</style>\n",
       "<table id=\"T_60f51\">\n",
       "  <thead>\n",
       "    <tr>\n",
       "      <th class=\"blank level0\" >&nbsp;</th>\n",
       "      <th id=\"T_60f51_level0_col0\" class=\"col_heading level0 col0\" >model</th>\n",
       "      <th id=\"T_60f51_level0_col1\" class=\"col_heading level0 col1\" >RMSE</th>\n",
       "    </tr>\n",
       "  </thead>\n",
       "  <tbody>\n",
       "    <tr>\n",
       "      <th id=\"T_60f51_level0_row0\" class=\"row_heading level0 row0\" >0</th>\n",
       "      <td id=\"T_60f51_row0_col0\" class=\"data row0 col0\" >GSCV_pipe_lgbm</td>\n",
       "      <td id=\"T_60f51_row0_col1\" class=\"data row0 col1\" >23.065000</td>\n",
       "    </tr>\n",
       "    <tr>\n",
       "      <th id=\"T_60f51_level0_row1\" class=\"row_heading level0 row1\" >1</th>\n",
       "      <td id=\"T_60f51_row1_col0\" class=\"data row1 col0\" >GSCV_pipe_cat</td>\n",
       "      <td id=\"T_60f51_row1_col1\" class=\"data row1 col1\" >22.794000</td>\n",
       "    </tr>\n",
       "    <tr>\n",
       "      <th id=\"T_60f51_level0_row2\" class=\"row_heading level0 row2\" >2</th>\n",
       "      <td id=\"T_60f51_row2_col0\" class=\"data row2 col0\" >GSCV_pipe_forest</td>\n",
       "      <td id=\"T_60f51_row2_col1\" class=\"data row2 col1\" >23.073000</td>\n",
       "    </tr>\n",
       "  </tbody>\n",
       "</table>\n"
      ],
      "text/plain": [
       "<pandas.io.formats.style.Styler at 0x18615a64d30>"
      ]
     },
     "execution_count": 34,
     "metadata": {},
     "output_type": "execute_result"
    }
   ],
   "source": [
    "# список с названиями моделей\n",
    "model_list = ['GSCV_pipe_lgbm', 'GSCV_pipe_cat', 'GSCV_pipe_forest']\n",
    "\n",
    "# создание пустого словаря\n",
    "model_cv_metrics = {} \n",
    "\n",
    "# добавление собранных списков в словарь\n",
    "model_cv_metrics['model'] = model_list\n",
    "model_cv_metrics['RMSE'] = rmse_cv_list\n",
    "\n",
    "# преобразование словаря в датафрейм\n",
    "model_cv_metrics = pd.DataFrame(data=model_cv_metrics) \n",
    "model_cv_metrics.style.background_gradient('coolwarm', axis=0)"
   ]
  },
  {
   "cell_type": "markdown",
   "metadata": {},
   "source": [
    "**Лучшее значения RMSE по кросс-валидации демонстрирует CatBoostRegressor**, именно эту модель и будем использовать для тестирвания."
   ]
  },
  {
   "cell_type": "markdown",
   "metadata": {},
   "source": [
    "## Тестирование"
   ]
  },
  {
   "cell_type": "markdown",
   "metadata": {},
   "source": [
    "**Проверим** выбранную модель **GSCV_pipe_cat на тестовых данных**:"
   ]
  },
  {
   "cell_type": "code",
   "execution_count": 35,
   "metadata": {},
   "outputs": [
    {
     "data": {
      "text/plain": [
       "37"
      ]
     },
     "execution_count": 35,
     "metadata": {},
     "output_type": "execute_result"
    }
   ],
   "source": [
    "# предсказание на тестовой выборке\n",
    "prediction = GSCV_pipe_cat.predict(f_test)\n",
    "\n",
    "# RMSE на тестовой выборке\n",
    "rmse = mean_squared_error(t_test, prediction) ** 0.5\n",
    "round(rmse)"
   ]
  },
  {
   "cell_type": "markdown",
   "metadata": {},
   "source": [
    "**Значение метрики на тестовой выборке заметно упало**, хотя и вписывается в заданные рамки."
   ]
  },
  {
   "cell_type": "markdown",
   "metadata": {},
   "source": [
    "## Результаты и выводы"
   ]
  },
  {
   "cell_type": "markdown",
   "metadata": {},
   "source": [
    "Обзор данных **не выявил каких-либо аномалий и пропусков**. Поскольку данные представляли собой временной ряд (с 1 марта 2018 по 31 августа 2018), **в качестве индексов использовали информацию о дате и времени**. Также выполнили **ресемплирование данных с шагом в 1 час**.\n",
    "\n",
    "Исследовательский анализ показал, что **наиболее нагруженным в работе такси** в течение дня являются **время в районе полуночи, а также утренние (7-8 ч) и вечерние (18-19) часы**, которые, вероятно, связаны с началом и окончанием рабочего дня. Помимо этого наблюдаются **зависимости в рамках недели - постепенный рост числа заказов в будни, резкое падение в субботу и вновь пик в воскресенье. Общий тренд - рост числа заказов на всём представленном временном промежутке**.\n",
    "     \n",
    "Поскольку в исходных данных представлены только информация о дате-времени и о числе заказов (таргет), **для обучения модели создали дополнительные признаки**:\n",
    "   \n",
    "   - категориальные: информация о дне недели и часе,\n",
    "   - количественные: отстающие значения (168), скользящее среднее (по 48 ч).\n",
    "   \n",
    "\n",
    "Перед обучением данные **разбили на  обучающую и тестовую выборки в отношении 9 : 1**, выборку при этом не мешали. **Подбор параметров и обучение моделей** проводили с помощью **GridSearchCV**. Чтобы избежать утечку данных при кросс-валидации **использовали конвеерную обработку (Pipeline)**. Чтобы избежать предсказаний прошлого по будущему при кросс-валидации, **использовали кросс-валидатор для временных рядов**. Для сравнения выбрали **LGBMRegressor, CatBoostRegressor и RandomForestRegressor**, модели **сравнивали по качеству (RMSE)**.\n",
    "\n",
    "**Все модели продемонстрировали близкие значения RMSE** - около 23 заказов с разницей менее, чем в один заказ. Дальнейшее **тестирование проводили на лучшей модели - GSCV_pipe_cat**. Значение **RMSE на тестовой выборке состаило 38 заказов**. "
   ]
  }
 ],
 "metadata": {
  "ExecuteTimeLog": [
   {
    "duration": 7,
    "start_time": "2022-12-27T06:05:45.560Z"
   },
   {
    "duration": 357,
    "start_time": "2022-12-27T06:05:47.159Z"
   },
   {
    "duration": 115,
    "start_time": "2022-12-27T06:05:49.168Z"
   },
   {
    "duration": 12,
    "start_time": "2022-12-27T06:05:55.676Z"
   },
   {
    "duration": 48,
    "start_time": "2022-12-27T06:09:50.711Z"
   },
   {
    "duration": 11,
    "start_time": "2022-12-27T06:10:11.846Z"
   },
   {
    "duration": 50,
    "start_time": "2022-12-27T06:10:23.730Z"
   },
   {
    "duration": 5,
    "start_time": "2022-12-27T06:14:07.169Z"
   },
   {
    "duration": 7,
    "start_time": "2022-12-27T06:14:33.539Z"
   },
   {
    "duration": 365,
    "start_time": "2022-12-27T06:14:33.548Z"
   },
   {
    "duration": 50,
    "start_time": "2022-12-27T06:14:33.915Z"
   },
   {
    "duration": 11,
    "start_time": "2022-12-27T06:14:33.966Z"
   },
   {
    "duration": 32,
    "start_time": "2022-12-27T06:14:33.979Z"
   },
   {
    "duration": 4,
    "start_time": "2022-12-27T06:14:42.421Z"
   },
   {
    "duration": 497,
    "start_time": "2022-12-27T06:19:38.297Z"
   },
   {
    "duration": 166,
    "start_time": "2022-12-27T06:19:59.261Z"
   },
   {
    "duration": 258,
    "start_time": "2022-12-27T06:20:13.221Z"
   },
   {
    "duration": 459,
    "start_time": "2022-12-27T06:23:51.313Z"
   },
   {
    "duration": 93,
    "start_time": "2022-12-27T06:23:55.924Z"
   },
   {
    "duration": 2,
    "start_time": "2022-12-27T06:24:10.526Z"
   },
   {
    "duration": 25,
    "start_time": "2022-12-27T06:24:14.563Z"
   },
   {
    "duration": 377,
    "start_time": "2022-12-27T06:25:29.461Z"
   },
   {
    "duration": 444,
    "start_time": "2022-12-27T06:26:22.286Z"
   },
   {
    "duration": 457,
    "start_time": "2022-12-27T06:26:33.859Z"
   },
   {
    "duration": 7,
    "start_time": "2022-12-27T06:27:17.477Z"
   },
   {
    "duration": 408,
    "start_time": "2022-12-27T06:29:31.887Z"
   },
   {
    "duration": 379,
    "start_time": "2022-12-27T06:35:00.313Z"
   },
   {
    "duration": 416,
    "start_time": "2022-12-27T06:35:12.692Z"
   },
   {
    "duration": 480,
    "start_time": "2022-12-27T06:35:23.731Z"
   },
   {
    "duration": 463,
    "start_time": "2022-12-27T06:35:29.550Z"
   },
   {
    "duration": 486,
    "start_time": "2022-12-27T06:35:35.915Z"
   },
   {
    "duration": 499,
    "start_time": "2022-12-27T06:35:46.820Z"
   },
   {
    "duration": 473,
    "start_time": "2022-12-27T06:38:17.955Z"
   },
   {
    "duration": 458,
    "start_time": "2022-12-27T06:44:40.863Z"
   },
   {
    "duration": 13,
    "start_time": "2022-12-27T06:51:32.576Z"
   },
   {
    "duration": 195,
    "start_time": "2022-12-27T06:58:46.213Z"
   },
   {
    "duration": 255,
    "start_time": "2022-12-27T07:00:27.149Z"
   },
   {
    "duration": 8,
    "start_time": "2022-12-27T07:07:04.163Z"
   },
   {
    "duration": 15,
    "start_time": "2022-12-27T07:07:36.302Z"
   },
   {
    "duration": 4,
    "start_time": "2022-12-27T07:08:09.452Z"
   },
   {
    "duration": 4,
    "start_time": "2022-12-27T07:08:25.454Z"
   },
   {
    "duration": 21,
    "start_time": "2022-12-27T07:55:44.669Z"
   },
   {
    "duration": 3,
    "start_time": "2022-12-27T08:05:41.842Z"
   },
   {
    "duration": 9,
    "start_time": "2022-12-27T08:09:15.060Z"
   },
   {
    "duration": 755,
    "start_time": "2022-12-27T08:10:05.171Z"
   },
   {
    "duration": 805,
    "start_time": "2022-12-27T08:10:33.981Z"
   },
   {
    "duration": 838,
    "start_time": "2022-12-27T08:10:42.542Z"
   },
   {
    "duration": 702,
    "start_time": "2022-12-27T08:11:15.098Z"
   },
   {
    "duration": 773,
    "start_time": "2022-12-27T08:11:30.201Z"
   },
   {
    "duration": 753,
    "start_time": "2022-12-27T08:17:46.210Z"
   },
   {
    "duration": 670,
    "start_time": "2022-12-27T08:20:34.469Z"
   },
   {
    "duration": 9,
    "start_time": "2022-12-27T08:23:15.762Z"
   },
   {
    "duration": 503,
    "start_time": "2022-12-27T08:23:18.107Z"
   },
   {
    "duration": 10,
    "start_time": "2022-12-27T08:23:47.238Z"
   },
   {
    "duration": 645,
    "start_time": "2022-12-27T08:23:52.177Z"
   },
   {
    "duration": 9,
    "start_time": "2022-12-27T08:24:13.185Z"
   },
   {
    "duration": 9,
    "start_time": "2022-12-27T08:24:54.760Z"
   },
   {
    "duration": 498,
    "start_time": "2022-12-27T08:25:00.852Z"
   },
   {
    "duration": 9,
    "start_time": "2022-12-27T08:25:12.229Z"
   },
   {
    "duration": 522,
    "start_time": "2022-12-27T08:25:20.841Z"
   },
   {
    "duration": 9,
    "start_time": "2022-12-27T08:25:43.692Z"
   },
   {
    "duration": 507,
    "start_time": "2022-12-27T08:25:50.267Z"
   },
   {
    "duration": 11,
    "start_time": "2022-12-27T08:26:01.422Z"
   },
   {
    "duration": 712,
    "start_time": "2022-12-27T08:26:16.073Z"
   },
   {
    "duration": 10,
    "start_time": "2022-12-27T08:27:28.495Z"
   },
   {
    "duration": 663,
    "start_time": "2022-12-27T08:27:31.639Z"
   },
   {
    "duration": 586,
    "start_time": "2022-12-27T08:29:04.958Z"
   },
   {
    "duration": 667,
    "start_time": "2022-12-27T08:29:32.586Z"
   },
   {
    "duration": 560,
    "start_time": "2022-12-27T08:34:42.143Z"
   },
   {
    "duration": 583,
    "start_time": "2022-12-27T08:35:07.497Z"
   },
   {
    "duration": 769,
    "start_time": "2022-12-27T08:35:55.762Z"
   },
   {
    "duration": 569,
    "start_time": "2022-12-27T08:56:26.347Z"
   },
   {
    "duration": 596,
    "start_time": "2022-12-27T08:56:29.931Z"
   },
   {
    "duration": 614,
    "start_time": "2022-12-27T08:57:03.325Z"
   },
   {
    "duration": 574,
    "start_time": "2022-12-27T08:59:29.041Z"
   },
   {
    "duration": 758,
    "start_time": "2022-12-27T09:34:44.784Z"
   },
   {
    "duration": 663,
    "start_time": "2022-12-27T09:34:50.503Z"
   },
   {
    "duration": 19,
    "start_time": "2022-12-27T10:14:13.614Z"
   },
   {
    "duration": 4,
    "start_time": "2022-12-27T10:14:19.054Z"
   },
   {
    "duration": 22,
    "start_time": "2022-12-27T10:14:21.277Z"
   },
   {
    "duration": 7,
    "start_time": "2022-12-28T04:17:44.969Z"
   },
   {
    "duration": 1248,
    "start_time": "2022-12-28T04:17:44.978Z"
   },
   {
    "duration": 128,
    "start_time": "2022-12-28T04:17:46.228Z"
   },
   {
    "duration": 14,
    "start_time": "2022-12-28T04:17:46.358Z"
   },
   {
    "duration": 42,
    "start_time": "2022-12-28T04:17:46.375Z"
   },
   {
    "duration": 5,
    "start_time": "2022-12-28T04:17:46.419Z"
   },
   {
    "duration": 12,
    "start_time": "2022-12-28T04:17:46.425Z"
   },
   {
    "duration": 505,
    "start_time": "2022-12-28T04:17:46.439Z"
   },
   {
    "duration": 11,
    "start_time": "2022-12-28T04:17:46.946Z"
   },
   {
    "duration": 646,
    "start_time": "2022-12-28T04:17:46.958Z"
   },
   {
    "duration": 705,
    "start_time": "2022-12-28T04:17:47.605Z"
   },
   {
    "duration": 4,
    "start_time": "2022-12-28T04:17:48.312Z"
   },
   {
    "duration": 3,
    "start_time": "2022-12-28T06:04:14.270Z"
   },
   {
    "duration": 9,
    "start_time": "2022-12-28T06:04:14.275Z"
   },
   {
    "duration": 57,
    "start_time": "2022-12-28T06:04:14.286Z"
   },
   {
    "duration": 11,
    "start_time": "2022-12-28T06:04:14.344Z"
   },
   {
    "duration": 40,
    "start_time": "2022-12-28T06:04:14.358Z"
   },
   {
    "duration": 3,
    "start_time": "2022-12-28T06:04:14.400Z"
   },
   {
    "duration": 14,
    "start_time": "2022-12-28T06:04:14.405Z"
   },
   {
    "duration": 512,
    "start_time": "2022-12-28T06:04:14.421Z"
   },
   {
    "duration": 12,
    "start_time": "2022-12-28T06:04:14.935Z"
   },
   {
    "duration": 637,
    "start_time": "2022-12-28T06:04:14.948Z"
   },
   {
    "duration": 721,
    "start_time": "2022-12-28T06:04:15.586Z"
   },
   {
    "duration": 7,
    "start_time": "2022-12-28T06:04:16.309Z"
   },
   {
    "duration": 19,
    "start_time": "2022-12-28T06:04:23.053Z"
   },
   {
    "duration": 2,
    "start_time": "2022-12-28T06:04:51.009Z"
   },
   {
    "duration": 7,
    "start_time": "2022-12-28T06:04:51.013Z"
   },
   {
    "duration": 50,
    "start_time": "2022-12-28T06:04:51.022Z"
   },
   {
    "duration": 10,
    "start_time": "2022-12-28T06:04:51.074Z"
   },
   {
    "duration": 32,
    "start_time": "2022-12-28T06:04:51.086Z"
   },
   {
    "duration": 4,
    "start_time": "2022-12-28T06:04:51.119Z"
   },
   {
    "duration": 10,
    "start_time": "2022-12-28T06:04:51.124Z"
   },
   {
    "duration": 515,
    "start_time": "2022-12-28T06:04:51.135Z"
   },
   {
    "duration": 11,
    "start_time": "2022-12-28T06:04:51.651Z"
   },
   {
    "duration": 658,
    "start_time": "2022-12-28T06:04:51.663Z"
   },
   {
    "duration": 823,
    "start_time": "2022-12-28T06:04:52.323Z"
   },
   {
    "duration": 4,
    "start_time": "2022-12-28T06:04:53.147Z"
   },
   {
    "duration": 19,
    "start_time": "2022-12-28T06:05:03.147Z"
   },
   {
    "duration": 4,
    "start_time": "2022-12-28T06:05:33.746Z"
   },
   {
    "duration": 7169,
    "start_time": "2022-12-28T06:05:36.354Z"
   },
   {
    "duration": 4,
    "start_time": "2022-12-28T06:05:49.768Z"
   },
   {
    "duration": 45877,
    "start_time": "2022-12-28T06:06:19.444Z"
   },
   {
    "duration": 3,
    "start_time": "2022-12-28T06:07:08.495Z"
   },
   {
    "duration": 10,
    "start_time": "2022-12-28T06:08:48.294Z"
   },
   {
    "duration": 3,
    "start_time": "2022-12-28T06:11:14.499Z"
   },
   {
    "duration": 13,
    "start_time": "2022-12-28T06:11:14.505Z"
   },
   {
    "duration": 54,
    "start_time": "2022-12-28T06:11:14.519Z"
   },
   {
    "duration": 11,
    "start_time": "2022-12-28T06:11:14.574Z"
   },
   {
    "duration": 35,
    "start_time": "2022-12-28T06:11:14.587Z"
   },
   {
    "duration": 4,
    "start_time": "2022-12-28T06:11:14.624Z"
   },
   {
    "duration": 9,
    "start_time": "2022-12-28T06:11:14.629Z"
   },
   {
    "duration": 498,
    "start_time": "2022-12-28T06:11:14.639Z"
   },
   {
    "duration": 11,
    "start_time": "2022-12-28T06:11:15.139Z"
   },
   {
    "duration": 618,
    "start_time": "2022-12-28T06:11:15.151Z"
   },
   {
    "duration": 736,
    "start_time": "2022-12-28T06:11:15.771Z"
   },
   {
    "duration": 5,
    "start_time": "2022-12-28T06:11:16.508Z"
   },
   {
    "duration": 23725,
    "start_time": "2022-12-28T06:11:20.797Z"
   },
   {
    "duration": 14,
    "start_time": "2022-12-28T06:12:06.215Z"
   },
   {
    "duration": 9,
    "start_time": "2022-12-28T06:12:56.047Z"
   },
   {
    "duration": 1335,
    "start_time": "2022-12-28T06:12:56.057Z"
   },
   {
    "duration": 50,
    "start_time": "2022-12-28T06:12:57.393Z"
   },
   {
    "duration": 12,
    "start_time": "2022-12-28T06:12:57.444Z"
   },
   {
    "duration": 34,
    "start_time": "2022-12-28T06:12:57.458Z"
   },
   {
    "duration": 4,
    "start_time": "2022-12-28T06:12:57.494Z"
   },
   {
    "duration": 7,
    "start_time": "2022-12-28T06:12:57.515Z"
   },
   {
    "duration": 527,
    "start_time": "2022-12-28T06:12:57.524Z"
   },
   {
    "duration": 13,
    "start_time": "2022-12-28T06:12:58.053Z"
   },
   {
    "duration": 684,
    "start_time": "2022-12-28T06:12:58.067Z"
   },
   {
    "duration": 784,
    "start_time": "2022-12-28T06:12:58.753Z"
   },
   {
    "duration": 6,
    "start_time": "2022-12-28T06:12:59.539Z"
   },
   {
    "duration": 11,
    "start_time": "2022-12-28T06:13:12.770Z"
   },
   {
    "duration": 13,
    "start_time": "2022-12-28T06:14:01.508Z"
   },
   {
    "duration": 12,
    "start_time": "2022-12-28T06:14:12.212Z"
   },
   {
    "duration": 23,
    "start_time": "2022-12-28T06:22:45.547Z"
   },
   {
    "duration": 8,
    "start_time": "2022-12-28T06:23:00.977Z"
   },
   {
    "duration": 1446,
    "start_time": "2022-12-28T06:23:00.987Z"
   },
   {
    "duration": 54,
    "start_time": "2022-12-28T06:23:02.435Z"
   },
   {
    "duration": 13,
    "start_time": "2022-12-28T06:23:02.491Z"
   },
   {
    "duration": 42,
    "start_time": "2022-12-28T06:23:02.506Z"
   },
   {
    "duration": 5,
    "start_time": "2022-12-28T06:23:02.549Z"
   },
   {
    "duration": 12,
    "start_time": "2022-12-28T06:23:02.556Z"
   },
   {
    "duration": 472,
    "start_time": "2022-12-28T06:23:02.570Z"
   },
   {
    "duration": 12,
    "start_time": "2022-12-28T06:23:03.044Z"
   },
   {
    "duration": 674,
    "start_time": "2022-12-28T06:23:03.058Z"
   },
   {
    "duration": 806,
    "start_time": "2022-12-28T06:23:03.734Z"
   },
   {
    "duration": 4,
    "start_time": "2022-12-28T06:23:04.541Z"
   },
   {
    "duration": 32,
    "start_time": "2022-12-28T06:23:04.546Z"
   },
   {
    "duration": 13,
    "start_time": "2022-12-28T06:23:13.243Z"
   },
   {
    "duration": 14,
    "start_time": "2022-12-28T06:23:23.620Z"
   },
   {
    "duration": 22,
    "start_time": "2022-12-28T06:23:45.915Z"
   },
   {
    "duration": 14,
    "start_time": "2022-12-28T06:26:49.450Z"
   },
   {
    "duration": 3,
    "start_time": "2022-12-28T06:28:13.571Z"
   },
   {
    "duration": 5,
    "start_time": "2022-12-28T06:28:49.452Z"
   },
   {
    "duration": 7,
    "start_time": "2022-12-28T06:29:54.176Z"
   },
   {
    "duration": 6,
    "start_time": "2022-12-28T06:31:25.999Z"
   },
   {
    "duration": 7,
    "start_time": "2022-12-28T06:31:27.028Z"
   },
   {
    "duration": 48,
    "start_time": "2022-12-30T09:59:50.331Z"
   },
   {
    "duration": 1112,
    "start_time": "2022-12-30T15:26:58.901Z"
   },
   {
    "duration": 855,
    "start_time": "2022-12-30T15:27:08.755Z"
   },
   {
    "duration": 2498,
    "start_time": "2023-01-09T02:24:17.221Z"
   },
   {
    "duration": 2133,
    "start_time": "2023-01-09T02:24:21.622Z"
   },
   {
    "duration": 3,
    "start_time": "2023-01-09T02:24:26.121Z"
   },
   {
    "duration": 1616,
    "start_time": "2023-01-09T02:24:27.083Z"
   },
   {
    "duration": 123,
    "start_time": "2023-01-09T02:24:30.396Z"
   },
   {
    "duration": 12,
    "start_time": "2023-01-09T02:24:33.441Z"
   },
   {
    "duration": 71,
    "start_time": "2023-01-09T02:24:35.501Z"
   },
   {
    "duration": 4,
    "start_time": "2023-01-09T02:24:39.261Z"
   },
   {
    "duration": 6,
    "start_time": "2023-01-09T02:24:41.706Z"
   },
   {
    "duration": 549,
    "start_time": "2023-01-09T02:24:42.789Z"
   },
   {
    "duration": 12,
    "start_time": "2023-01-09T02:24:47.861Z"
   },
   {
    "duration": 119,
    "start_time": "2023-01-09T02:24:50.723Z"
   },
   {
    "duration": 324,
    "start_time": "2023-01-09T02:24:58.503Z"
   },
   {
    "duration": 224,
    "start_time": "2023-01-09T02:25:39.333Z"
   },
   {
    "duration": 5,
    "start_time": "2023-01-09T02:26:31.141Z"
   },
   {
    "duration": 325,
    "start_time": "2023-01-09T02:26:36.340Z"
   },
   {
    "duration": 333,
    "start_time": "2023-01-09T02:26:46.821Z"
   },
   {
    "duration": 2008,
    "start_time": "2023-01-09T02:27:39.210Z"
   },
   {
    "duration": 2021,
    "start_time": "2023-01-09T02:27:41.221Z"
   },
   {
    "duration": 3,
    "start_time": "2023-01-09T02:27:43.244Z"
   },
   {
    "duration": 1432,
    "start_time": "2023-01-09T02:27:43.248Z"
   },
   {
    "duration": 68,
    "start_time": "2023-01-09T02:27:44.683Z"
   },
   {
    "duration": 15,
    "start_time": "2023-01-09T02:27:44.753Z"
   },
   {
    "duration": 63,
    "start_time": "2023-01-09T02:27:44.770Z"
   },
   {
    "duration": 5,
    "start_time": "2023-01-09T02:27:44.835Z"
   },
   {
    "duration": 16,
    "start_time": "2023-01-09T02:27:44.841Z"
   },
   {
    "duration": 551,
    "start_time": "2023-01-09T02:27:44.859Z"
   },
   {
    "duration": 11,
    "start_time": "2023-01-09T02:27:45.412Z"
   },
   {
    "duration": 6,
    "start_time": "2023-01-09T02:27:49.861Z"
   },
   {
    "duration": 388,
    "start_time": "2023-01-09T02:27:51.081Z"
   },
   {
    "duration": 247,
    "start_time": "2023-01-09T02:30:50.223Z"
   },
   {
    "duration": 246,
    "start_time": "2023-01-09T02:30:59.105Z"
   },
   {
    "duration": 271,
    "start_time": "2023-01-09T02:31:23.063Z"
   },
   {
    "duration": 338,
    "start_time": "2023-01-09T02:31:44.024Z"
   },
   {
    "duration": 356,
    "start_time": "2023-01-09T02:32:29.324Z"
   },
   {
    "duration": 400,
    "start_time": "2023-01-09T02:32:44.697Z"
   },
   {
    "duration": 320,
    "start_time": "2023-01-09T02:33:02.683Z"
   },
   {
    "duration": 126,
    "start_time": "2023-01-09T02:39:28.005Z"
   },
   {
    "duration": 703,
    "start_time": "2023-01-09T02:40:04.245Z"
   },
   {
    "duration": 671,
    "start_time": "2023-01-09T02:42:06.853Z"
   },
   {
    "duration": 25,
    "start_time": "2023-01-09T02:48:19.770Z"
   },
   {
    "duration": 4,
    "start_time": "2023-01-09T02:48:31.051Z"
   },
   {
    "duration": 2168,
    "start_time": "2023-01-09T05:32:54.798Z"
   },
   {
    "duration": 1958,
    "start_time": "2023-01-09T05:32:56.968Z"
   },
   {
    "duration": 3,
    "start_time": "2023-01-09T05:32:58.928Z"
   },
   {
    "duration": 1608,
    "start_time": "2023-01-09T05:32:58.933Z"
   },
   {
    "duration": 101,
    "start_time": "2023-01-09T05:33:00.543Z"
   },
   {
    "duration": 23,
    "start_time": "2023-01-09T05:33:00.646Z"
   },
   {
    "duration": 88,
    "start_time": "2023-01-09T05:33:00.671Z"
   },
   {
    "duration": 4,
    "start_time": "2023-01-09T05:33:00.761Z"
   },
   {
    "duration": 20,
    "start_time": "2023-01-09T05:33:00.767Z"
   },
   {
    "duration": 513,
    "start_time": "2023-01-09T05:33:00.789Z"
   },
   {
    "duration": 13,
    "start_time": "2023-01-09T05:33:01.304Z"
   },
   {
    "duration": 10,
    "start_time": "2023-01-09T05:33:01.319Z"
   },
   {
    "duration": 482,
    "start_time": "2023-01-09T05:33:01.331Z"
   },
   {
    "duration": 4,
    "start_time": "2023-01-09T05:33:01.816Z"
   },
   {
    "duration": 650,
    "start_time": "2023-01-09T05:33:01.822Z"
   },
   {
    "duration": 740,
    "start_time": "2023-01-09T05:33:02.474Z"
   },
   {
    "duration": 3,
    "start_time": "2023-01-09T05:33:12.327Z"
   },
   {
    "duration": 24,
    "start_time": "2023-01-09T05:33:25.972Z"
   },
   {
    "duration": 12,
    "start_time": "2023-01-09T05:33:39.225Z"
   },
   {
    "duration": 123,
    "start_time": "2023-01-09T05:36:20.798Z"
   },
   {
    "duration": 13,
    "start_time": "2023-01-09T05:36:32.198Z"
   },
   {
    "duration": 15,
    "start_time": "2023-01-09T05:36:44.134Z"
   },
   {
    "duration": 905,
    "start_time": "2023-01-09T05:43:25.224Z"
   },
   {
    "duration": 7,
    "start_time": "2023-01-09T05:43:35.562Z"
   },
   {
    "duration": 11,
    "start_time": "2023-01-09T05:46:51.522Z"
   },
   {
    "duration": 23,
    "start_time": "2023-01-09T05:46:55.774Z"
   },
   {
    "duration": 15,
    "start_time": "2023-01-09T05:47:37.627Z"
   },
   {
    "duration": 16,
    "start_time": "2023-01-09T05:47:47.530Z"
   },
   {
    "duration": 2035,
    "start_time": "2023-01-09T05:48:57.261Z"
   },
   {
    "duration": 2032,
    "start_time": "2023-01-09T05:48:59.299Z"
   },
   {
    "duration": 3,
    "start_time": "2023-01-09T05:49:01.333Z"
   },
   {
    "duration": 1499,
    "start_time": "2023-01-09T05:49:01.338Z"
   },
   {
    "duration": 53,
    "start_time": "2023-01-09T05:49:02.839Z"
   },
   {
    "duration": 11,
    "start_time": "2023-01-09T05:49:02.894Z"
   },
   {
    "duration": 52,
    "start_time": "2023-01-09T05:49:02.907Z"
   },
   {
    "duration": 4,
    "start_time": "2023-01-09T05:49:02.961Z"
   },
   {
    "duration": 11,
    "start_time": "2023-01-09T05:49:02.966Z"
   },
   {
    "duration": 435,
    "start_time": "2023-01-09T05:49:02.981Z"
   },
   {
    "duration": 12,
    "start_time": "2023-01-09T05:49:03.417Z"
   },
   {
    "duration": 7,
    "start_time": "2023-01-09T05:49:03.430Z"
   },
   {
    "duration": 474,
    "start_time": "2023-01-09T05:49:03.438Z"
   },
   {
    "duration": 5,
    "start_time": "2023-01-09T05:49:03.914Z"
   },
   {
    "duration": 635,
    "start_time": "2023-01-09T05:49:03.920Z"
   },
   {
    "duration": 765,
    "start_time": "2023-01-09T05:49:04.557Z"
   },
   {
    "duration": 4,
    "start_time": "2023-01-09T05:49:05.324Z"
   },
   {
    "duration": 159,
    "start_time": "2023-01-09T05:49:05.329Z"
   },
   {
    "duration": 15,
    "start_time": "2023-01-09T05:49:05.490Z"
   },
   {
    "duration": 16,
    "start_time": "2023-01-09T05:49:05.507Z"
   },
   {
    "duration": 9,
    "start_time": "2023-01-09T05:49:38.964Z"
   },
   {
    "duration": 51,
    "start_time": "2023-01-09T05:49:58.210Z"
   },
   {
    "duration": 10,
    "start_time": "2023-01-09T05:50:39.438Z"
   },
   {
    "duration": 11,
    "start_time": "2023-01-09T05:50:43.514Z"
   },
   {
    "duration": 18,
    "start_time": "2023-01-09T05:50:45.702Z"
   },
   {
    "duration": 2,
    "start_time": "2023-01-09T05:51:42.442Z"
   },
   {
    "duration": 3,
    "start_time": "2023-01-09T06:03:07.042Z"
   },
   {
    "duration": 4,
    "start_time": "2023-01-09T06:03:16.542Z"
   },
   {
    "duration": 116720,
    "start_time": "2023-01-09T06:03:38.958Z"
   },
   {
    "duration": 124,
    "start_time": "2023-01-09T06:06:47.662Z"
   },
   {
    "duration": 3,
    "start_time": "2023-01-09T06:06:57.098Z"
   },
   {
    "duration": 6,
    "start_time": "2023-01-09T06:07:02.198Z"
   },
   {
    "duration": 4,
    "start_time": "2023-01-09T06:08:11.623Z"
   },
   {
    "duration": 5,
    "start_time": "2023-01-09T06:08:15.633Z"
   },
   {
    "duration": 3,
    "start_time": "2023-01-09T06:10:25.573Z"
   },
   {
    "duration": 115834,
    "start_time": "2023-01-09T06:10:28.466Z"
   },
   {
    "duration": 14,
    "start_time": "2023-01-09T06:12:24.302Z"
   },
   {
    "duration": 13,
    "start_time": "2023-01-09T06:14:41.314Z"
   },
   {
    "duration": 6,
    "start_time": "2023-01-09T06:14:49.255Z"
   },
   {
    "duration": 5,
    "start_time": "2023-01-09T06:15:19.319Z"
   },
   {
    "duration": 119722,
    "start_time": "2023-01-09T06:18:30.367Z"
   },
   {
    "duration": 114609,
    "start_time": "2023-01-09T06:20:30.091Z"
   },
   {
    "duration": 6,
    "start_time": "2023-01-09T06:22:29.442Z"
   },
   {
    "duration": 5,
    "start_time": "2023-01-09T06:22:31.475Z"
   },
   {
    "duration": 4,
    "start_time": "2023-01-09T06:23:57.441Z"
   },
   {
    "duration": 395149,
    "start_time": "2023-01-09T06:24:03.645Z"
   },
   {
    "duration": 342390,
    "start_time": "2023-01-09T06:30:38.796Z"
   },
   {
    "duration": 70,
    "start_time": "2023-01-09T06:39:05.593Z"
   },
   {
    "duration": 65,
    "start_time": "2023-01-09T06:39:26.113Z"
   },
   {
    "duration": 47,
    "start_time": "2023-01-09T06:45:41.672Z"
   },
   {
    "duration": 7,
    "start_time": "2023-01-09T06:45:45.611Z"
   },
   {
    "duration": 1941,
    "start_time": "2023-01-09T06:46:01.592Z"
   },
   {
    "duration": 1972,
    "start_time": "2023-01-09T06:46:03.535Z"
   },
   {
    "duration": 3,
    "start_time": "2023-01-09T06:46:05.510Z"
   },
   {
    "duration": 1485,
    "start_time": "2023-01-09T06:46:05.515Z"
   },
   {
    "duration": 124,
    "start_time": "2023-01-09T06:46:07.003Z"
   },
   {
    "duration": 15,
    "start_time": "2023-01-09T06:46:07.129Z"
   },
   {
    "duration": 75,
    "start_time": "2023-01-09T06:46:07.145Z"
   },
   {
    "duration": 4,
    "start_time": "2023-01-09T06:46:07.223Z"
   },
   {
    "duration": 8,
    "start_time": "2023-01-09T06:46:07.229Z"
   },
   {
    "duration": 471,
    "start_time": "2023-01-09T06:46:07.239Z"
   },
   {
    "duration": 14,
    "start_time": "2023-01-09T06:46:07.712Z"
   },
   {
    "duration": 16,
    "start_time": "2023-01-09T06:46:07.727Z"
   },
   {
    "duration": 512,
    "start_time": "2023-01-09T06:46:07.745Z"
   },
   {
    "duration": 5,
    "start_time": "2023-01-09T06:46:08.260Z"
   },
   {
    "duration": 746,
    "start_time": "2023-01-09T06:46:08.268Z"
   },
   {
    "duration": 724,
    "start_time": "2023-01-09T06:46:09.016Z"
   },
   {
    "duration": 3,
    "start_time": "2023-01-09T06:46:09.742Z"
   },
   {
    "duration": 125,
    "start_time": "2023-01-09T06:46:12.187Z"
   },
   {
    "duration": 15,
    "start_time": "2023-01-09T06:46:14.367Z"
   },
   {
    "duration": 2238,
    "start_time": "2023-01-09T06:53:09.303Z"
   },
   {
    "duration": 2202,
    "start_time": "2023-01-09T06:53:11.543Z"
   },
   {
    "duration": 4,
    "start_time": "2023-01-09T06:53:13.747Z"
   },
   {
    "duration": 1547,
    "start_time": "2023-01-09T06:53:13.752Z"
   },
   {
    "duration": 50,
    "start_time": "2023-01-09T06:53:15.302Z"
   },
   {
    "duration": 12,
    "start_time": "2023-01-09T06:53:15.354Z"
   },
   {
    "duration": 73,
    "start_time": "2023-01-09T06:53:15.368Z"
   },
   {
    "duration": 4,
    "start_time": "2023-01-09T06:53:15.442Z"
   },
   {
    "duration": 9,
    "start_time": "2023-01-09T06:53:15.448Z"
   },
   {
    "duration": 486,
    "start_time": "2023-01-09T06:53:15.459Z"
   },
   {
    "duration": 14,
    "start_time": "2023-01-09T06:53:15.946Z"
   },
   {
    "duration": 29,
    "start_time": "2023-01-09T06:53:15.962Z"
   },
   {
    "duration": 13,
    "start_time": "2023-01-09T06:53:15.993Z"
   },
   {
    "duration": 516,
    "start_time": "2023-01-09T06:53:16.009Z"
   },
   {
    "duration": 4,
    "start_time": "2023-01-09T06:53:16.527Z"
   },
   {
    "duration": 702,
    "start_time": "2023-01-09T06:53:16.533Z"
   },
   {
    "duration": 934,
    "start_time": "2023-01-09T06:53:17.237Z"
   },
   {
    "duration": 8,
    "start_time": "2023-01-09T06:53:18.177Z"
   },
   {
    "duration": 171,
    "start_time": "2023-01-09T06:53:18.187Z"
   },
   {
    "duration": 50,
    "start_time": "2023-01-09T07:04:34.546Z"
   },
   {
    "duration": 15,
    "start_time": "2023-01-09T07:04:35.467Z"
   },
   {
    "duration": 5,
    "start_time": "2023-01-09T07:05:43.775Z"
   },
   {
    "duration": 14,
    "start_time": "2023-01-09T07:05:50.122Z"
   },
   {
    "duration": 9,
    "start_time": "2023-01-09T07:05:59.880Z"
   },
   {
    "duration": 2,
    "start_time": "2023-01-09T07:06:02.618Z"
   },
   {
    "duration": 4,
    "start_time": "2023-01-09T07:06:05.510Z"
   },
   {
    "duration": 4,
    "start_time": "2023-01-09T07:06:10.745Z"
   },
   {
    "duration": 206,
    "start_time": "2023-01-09T07:06:14.853Z"
   },
   {
    "duration": 109664,
    "start_time": "2023-01-09T07:06:40.440Z"
   },
   {
    "duration": 1948,
    "start_time": "2023-01-09T07:23:13.524Z"
   },
   {
    "duration": 1974,
    "start_time": "2023-01-09T07:23:15.475Z"
   },
   {
    "duration": 3,
    "start_time": "2023-01-09T07:23:17.452Z"
   },
   {
    "duration": 1526,
    "start_time": "2023-01-09T07:23:17.457Z"
   },
   {
    "duration": 65,
    "start_time": "2023-01-09T07:23:18.986Z"
   },
   {
    "duration": 14,
    "start_time": "2023-01-09T07:23:19.052Z"
   },
   {
    "duration": 55,
    "start_time": "2023-01-09T07:23:19.068Z"
   },
   {
    "duration": 5,
    "start_time": "2023-01-09T07:23:19.125Z"
   },
   {
    "duration": 13,
    "start_time": "2023-01-09T07:23:19.132Z"
   },
   {
    "duration": 449,
    "start_time": "2023-01-09T07:23:19.147Z"
   },
   {
    "duration": 13,
    "start_time": "2023-01-09T07:23:19.597Z"
   },
   {
    "duration": 8,
    "start_time": "2023-01-09T07:23:19.612Z"
   },
   {
    "duration": 463,
    "start_time": "2023-01-09T07:23:19.621Z"
   },
   {
    "duration": 5,
    "start_time": "2023-01-09T07:23:20.087Z"
   },
   {
    "duration": 647,
    "start_time": "2023-01-09T07:23:20.093Z"
   },
   {
    "duration": 802,
    "start_time": "2023-01-09T07:23:20.742Z"
   },
   {
    "duration": 153,
    "start_time": "2023-01-09T07:23:21.546Z"
   },
   {
    "duration": 14,
    "start_time": "2023-01-09T07:23:32.483Z"
   },
   {
    "duration": 10,
    "start_time": "2023-01-09T07:23:42.933Z"
   },
   {
    "duration": 10,
    "start_time": "2023-01-09T07:24:19.808Z"
   },
   {
    "duration": 1985,
    "start_time": "2023-01-09T07:25:05.835Z"
   },
   {
    "duration": 2077,
    "start_time": "2023-01-09T07:25:07.824Z"
   },
   {
    "duration": 4,
    "start_time": "2023-01-09T07:25:09.903Z"
   },
   {
    "duration": 1478,
    "start_time": "2023-01-09T07:25:09.908Z"
   },
   {
    "duration": 69,
    "start_time": "2023-01-09T07:25:11.389Z"
   },
   {
    "duration": 15,
    "start_time": "2023-01-09T07:25:11.460Z"
   },
   {
    "duration": 107,
    "start_time": "2023-01-09T07:25:11.477Z"
   },
   {
    "duration": 5,
    "start_time": "2023-01-09T07:25:11.586Z"
   },
   {
    "duration": 25,
    "start_time": "2023-01-09T07:25:11.592Z"
   },
   {
    "duration": 504,
    "start_time": "2023-01-09T07:25:11.618Z"
   },
   {
    "duration": 13,
    "start_time": "2023-01-09T07:25:12.123Z"
   },
   {
    "duration": 7,
    "start_time": "2023-01-09T07:25:12.137Z"
   },
   {
    "duration": 499,
    "start_time": "2023-01-09T07:25:12.146Z"
   },
   {
    "duration": 5,
    "start_time": "2023-01-09T07:25:12.648Z"
   },
   {
    "duration": 649,
    "start_time": "2023-01-09T07:25:12.655Z"
   },
   {
    "duration": 782,
    "start_time": "2023-01-09T07:25:13.306Z"
   },
   {
    "duration": 126,
    "start_time": "2023-01-09T07:25:14.090Z"
   },
   {
    "duration": 19,
    "start_time": "2023-01-09T07:25:18.156Z"
   },
   {
    "duration": 13,
    "start_time": "2023-01-09T07:25:22.036Z"
   },
   {
    "duration": 11,
    "start_time": "2023-01-09T07:25:37.043Z"
   },
   {
    "duration": 1992,
    "start_time": "2023-01-09T07:28:19.254Z"
   },
   {
    "duration": 2021,
    "start_time": "2023-01-09T07:28:21.249Z"
   },
   {
    "duration": 3,
    "start_time": "2023-01-09T07:28:23.272Z"
   },
   {
    "duration": 1500,
    "start_time": "2023-01-09T07:28:23.277Z"
   },
   {
    "duration": 54,
    "start_time": "2023-01-09T07:28:24.779Z"
   },
   {
    "duration": 11,
    "start_time": "2023-01-09T07:28:24.835Z"
   },
   {
    "duration": 60,
    "start_time": "2023-01-09T07:28:24.848Z"
   },
   {
    "duration": 5,
    "start_time": "2023-01-09T07:28:24.909Z"
   },
   {
    "duration": 8,
    "start_time": "2023-01-09T07:28:24.916Z"
   },
   {
    "duration": 477,
    "start_time": "2023-01-09T07:28:24.927Z"
   },
   {
    "duration": 13,
    "start_time": "2023-01-09T07:28:25.406Z"
   },
   {
    "duration": 7,
    "start_time": "2023-01-09T07:28:25.421Z"
   },
   {
    "duration": 491,
    "start_time": "2023-01-09T07:28:25.430Z"
   },
   {
    "duration": 6,
    "start_time": "2023-01-09T07:28:25.923Z"
   },
   {
    "duration": 653,
    "start_time": "2023-01-09T07:28:25.931Z"
   },
   {
    "duration": 781,
    "start_time": "2023-01-09T07:28:26.586Z"
   },
   {
    "duration": 130,
    "start_time": "2023-01-09T07:28:32.078Z"
   },
   {
    "duration": 12,
    "start_time": "2023-01-09T07:28:46.998Z"
   },
   {
    "duration": 14,
    "start_time": "2023-01-09T07:28:49.070Z"
   },
   {
    "duration": 151,
    "start_time": "2023-01-09T07:28:56.974Z"
   },
   {
    "duration": 14,
    "start_time": "2023-01-09T07:28:59.225Z"
   },
   {
    "duration": 15,
    "start_time": "2023-01-09T07:29:03.763Z"
   },
   {
    "duration": 10,
    "start_time": "2023-01-09T07:29:07.143Z"
   },
   {
    "duration": 1986,
    "start_time": "2023-01-09T07:31:34.132Z"
   },
   {
    "duration": 1926,
    "start_time": "2023-01-09T07:31:36.121Z"
   },
   {
    "duration": 4,
    "start_time": "2023-01-09T07:31:38.049Z"
   },
   {
    "duration": 1548,
    "start_time": "2023-01-09T07:31:38.055Z"
   },
   {
    "duration": 50,
    "start_time": "2023-01-09T07:31:39.604Z"
   },
   {
    "duration": 12,
    "start_time": "2023-01-09T07:31:39.656Z"
   },
   {
    "duration": 54,
    "start_time": "2023-01-09T07:31:39.669Z"
   },
   {
    "duration": 4,
    "start_time": "2023-01-09T07:31:39.725Z"
   },
   {
    "duration": 10,
    "start_time": "2023-01-09T07:31:39.730Z"
   },
   {
    "duration": 464,
    "start_time": "2023-01-09T07:31:39.743Z"
   },
   {
    "duration": 14,
    "start_time": "2023-01-09T07:31:40.210Z"
   },
   {
    "duration": 8,
    "start_time": "2023-01-09T07:31:40.226Z"
   },
   {
    "duration": 484,
    "start_time": "2023-01-09T07:31:40.236Z"
   },
   {
    "duration": 6,
    "start_time": "2023-01-09T07:31:40.722Z"
   },
   {
    "duration": 662,
    "start_time": "2023-01-09T07:31:40.729Z"
   },
   {
    "duration": 764,
    "start_time": "2023-01-09T07:31:41.393Z"
   },
   {
    "duration": 4,
    "start_time": "2023-01-09T07:31:42.159Z"
   },
   {
    "duration": 153,
    "start_time": "2023-01-09T07:31:42.164Z"
   },
   {
    "duration": 13,
    "start_time": "2023-01-09T07:31:42.319Z"
   },
   {
    "duration": 15,
    "start_time": "2023-01-09T07:31:42.333Z"
   },
   {
    "duration": 10,
    "start_time": "2023-01-09T07:31:42.349Z"
   },
   {
    "duration": 2027,
    "start_time": "2023-01-09T07:33:48.383Z"
   },
   {
    "duration": 2020,
    "start_time": "2023-01-09T07:33:50.412Z"
   },
   {
    "duration": 4,
    "start_time": "2023-01-09T07:33:52.434Z"
   },
   {
    "duration": 1493,
    "start_time": "2023-01-09T07:33:52.441Z"
   },
   {
    "duration": 66,
    "start_time": "2023-01-09T07:33:53.935Z"
   },
   {
    "duration": 12,
    "start_time": "2023-01-09T07:33:54.003Z"
   },
   {
    "duration": 73,
    "start_time": "2023-01-09T07:33:54.017Z"
   },
   {
    "duration": 5,
    "start_time": "2023-01-09T07:33:54.092Z"
   },
   {
    "duration": 44,
    "start_time": "2023-01-09T07:33:54.099Z"
   },
   {
    "duration": 471,
    "start_time": "2023-01-09T07:33:54.146Z"
   },
   {
    "duration": 14,
    "start_time": "2023-01-09T07:33:54.619Z"
   },
   {
    "duration": 12,
    "start_time": "2023-01-09T07:33:54.635Z"
   },
   {
    "duration": 503,
    "start_time": "2023-01-09T07:33:54.649Z"
   },
   {
    "duration": 6,
    "start_time": "2023-01-09T07:33:55.155Z"
   },
   {
    "duration": 655,
    "start_time": "2023-01-09T07:33:55.163Z"
   },
   {
    "duration": 744,
    "start_time": "2023-01-09T07:33:55.820Z"
   },
   {
    "duration": 11,
    "start_time": "2023-01-09T07:33:56.567Z"
   },
   {
    "duration": 142,
    "start_time": "2023-01-09T07:33:56.580Z"
   },
   {
    "duration": 15,
    "start_time": "2023-01-09T07:33:56.724Z"
   },
   {
    "duration": 1978,
    "start_time": "2023-01-09T07:34:36.416Z"
   },
   {
    "duration": 1980,
    "start_time": "2023-01-09T07:34:38.397Z"
   },
   {
    "duration": 3,
    "start_time": "2023-01-09T07:34:40.379Z"
   },
   {
    "duration": 1461,
    "start_time": "2023-01-09T07:34:40.384Z"
   },
   {
    "duration": 52,
    "start_time": "2023-01-09T07:34:41.848Z"
   },
   {
    "duration": 12,
    "start_time": "2023-01-09T07:34:41.901Z"
   },
   {
    "duration": 59,
    "start_time": "2023-01-09T07:34:41.915Z"
   },
   {
    "duration": 4,
    "start_time": "2023-01-09T07:34:41.976Z"
   },
   {
    "duration": 13,
    "start_time": "2023-01-09T07:34:41.982Z"
   },
   {
    "duration": 502,
    "start_time": "2023-01-09T07:34:41.997Z"
   },
   {
    "duration": 13,
    "start_time": "2023-01-09T07:34:42.501Z"
   },
   {
    "duration": 25,
    "start_time": "2023-01-09T07:34:42.515Z"
   },
   {
    "duration": 459,
    "start_time": "2023-01-09T07:34:42.541Z"
   },
   {
    "duration": 5,
    "start_time": "2023-01-09T07:34:43.003Z"
   },
   {
    "duration": 681,
    "start_time": "2023-01-09T07:34:43.009Z"
   },
   {
    "duration": 743,
    "start_time": "2023-01-09T07:34:43.697Z"
   },
   {
    "duration": 4,
    "start_time": "2023-01-09T07:34:44.442Z"
   },
   {
    "duration": 29,
    "start_time": "2023-01-09T07:34:48.451Z"
   },
   {
    "duration": 13,
    "start_time": "2023-01-09T07:34:51.050Z"
   },
   {
    "duration": 10,
    "start_time": "2023-01-09T07:35:00.740Z"
   },
   {
    "duration": 1985,
    "start_time": "2023-01-09T07:36:46.461Z"
   },
   {
    "duration": 2037,
    "start_time": "2023-01-09T07:36:48.449Z"
   },
   {
    "duration": 3,
    "start_time": "2023-01-09T07:36:50.489Z"
   },
   {
    "duration": 1517,
    "start_time": "2023-01-09T07:36:50.495Z"
   },
   {
    "duration": 53,
    "start_time": "2023-01-09T07:36:52.014Z"
   },
   {
    "duration": 12,
    "start_time": "2023-01-09T07:36:52.068Z"
   },
   {
    "duration": 65,
    "start_time": "2023-01-09T07:36:52.082Z"
   },
   {
    "duration": 4,
    "start_time": "2023-01-09T07:36:52.149Z"
   },
   {
    "duration": 21,
    "start_time": "2023-01-09T07:36:52.155Z"
   },
   {
    "duration": 417,
    "start_time": "2023-01-09T07:36:52.178Z"
   },
   {
    "duration": 13,
    "start_time": "2023-01-09T07:36:52.597Z"
   },
   {
    "duration": 7,
    "start_time": "2023-01-09T07:36:52.611Z"
   },
   {
    "duration": 468,
    "start_time": "2023-01-09T07:36:52.620Z"
   },
   {
    "duration": 4,
    "start_time": "2023-01-09T07:36:53.090Z"
   },
   {
    "duration": 588,
    "start_time": "2023-01-09T07:36:53.096Z"
   },
   {
    "duration": 765,
    "start_time": "2023-01-09T07:36:53.686Z"
   },
   {
    "duration": 4,
    "start_time": "2023-01-09T07:36:54.453Z"
   },
   {
    "duration": 159,
    "start_time": "2023-01-09T07:36:54.459Z"
   },
   {
    "duration": 7,
    "start_time": "2023-01-09T07:36:54.620Z"
   },
   {
    "duration": 15,
    "start_time": "2023-01-09T07:36:54.629Z"
   },
   {
    "duration": 15,
    "start_time": "2023-01-09T07:36:54.646Z"
   },
   {
    "duration": 3,
    "start_time": "2023-01-09T07:36:54.677Z"
   },
   {
    "duration": 10,
    "start_time": "2023-01-09T07:36:54.682Z"
   },
   {
    "duration": 5,
    "start_time": "2023-01-09T07:36:54.694Z"
   },
   {
    "duration": 7,
    "start_time": "2023-01-09T07:36:54.700Z"
   },
   {
    "duration": 1059081,
    "start_time": "2023-01-09T07:36:54.708Z"
   },
   {
    "duration": 2146,
    "start_time": "2023-01-09T08:02:55.165Z"
   },
   {
    "duration": 2173,
    "start_time": "2023-01-09T08:02:57.315Z"
   },
   {
    "duration": 3,
    "start_time": "2023-01-09T08:02:59.490Z"
   },
   {
    "duration": 1537,
    "start_time": "2023-01-09T08:02:59.496Z"
   },
   {
    "duration": 107,
    "start_time": "2023-01-09T08:03:01.035Z"
   },
   {
    "duration": 14,
    "start_time": "2023-01-09T08:03:01.144Z"
   },
   {
    "duration": 83,
    "start_time": "2023-01-09T08:03:01.160Z"
   },
   {
    "duration": 5,
    "start_time": "2023-01-09T08:03:01.245Z"
   },
   {
    "duration": 32,
    "start_time": "2023-01-09T08:03:01.252Z"
   },
   {
    "duration": 530,
    "start_time": "2023-01-09T08:03:01.287Z"
   },
   {
    "duration": 14,
    "start_time": "2023-01-09T08:03:01.819Z"
   },
   {
    "duration": 8,
    "start_time": "2023-01-09T08:03:01.835Z"
   },
   {
    "duration": 515,
    "start_time": "2023-01-09T08:03:01.845Z"
   },
   {
    "duration": 5,
    "start_time": "2023-01-09T08:03:02.362Z"
   },
   {
    "duration": 636,
    "start_time": "2023-01-09T08:03:02.368Z"
   },
   {
    "duration": 749,
    "start_time": "2023-01-09T08:03:03.005Z"
   },
   {
    "duration": 4,
    "start_time": "2023-01-09T08:03:03.756Z"
   },
   {
    "duration": 146,
    "start_time": "2023-01-09T08:03:03.761Z"
   },
   {
    "duration": 5,
    "start_time": "2023-01-09T08:03:03.910Z"
   },
   {
    "duration": 19,
    "start_time": "2023-01-09T08:03:03.917Z"
   },
   {
    "duration": 57,
    "start_time": "2023-01-09T08:03:03.938Z"
   },
   {
    "duration": 22,
    "start_time": "2023-01-09T08:03:03.997Z"
   },
   {
    "duration": 7,
    "start_time": "2023-01-09T08:03:04.021Z"
   },
   {
    "duration": 7,
    "start_time": "2023-01-09T08:03:04.030Z"
   },
   {
    "duration": 110022,
    "start_time": "2023-01-09T08:03:06.168Z"
   },
   {
    "duration": 3,
    "start_time": "2023-01-09T08:08:24.481Z"
   },
   {
    "duration": 88083,
    "start_time": "2023-01-09T08:08:25.020Z"
   },
   {
    "duration": 4,
    "start_time": "2023-01-09T08:10:50.941Z"
   },
   {
    "duration": 84224,
    "start_time": "2023-01-09T08:10:52.258Z"
   },
   {
    "duration": 3,
    "start_time": "2023-01-09T08:13:18.180Z"
   },
   {
    "duration": 85463,
    "start_time": "2023-01-09T08:13:20.724Z"
   },
   {
    "duration": 4,
    "start_time": "2023-01-09T08:14:46.189Z"
   },
   {
    "duration": 27259,
    "start_time": "2023-01-09T08:14:46.195Z"
   },
   {
    "duration": 4,
    "start_time": "2023-01-09T08:15:13.456Z"
   },
   {
    "duration": 14396,
    "start_time": "2023-01-09T08:15:13.462Z"
   },
   {
    "duration": 46,
    "start_time": "2023-01-09T08:17:44.943Z"
   },
   {
    "duration": 130,
    "start_time": "2023-01-09T08:19:33.625Z"
   },
   {
    "duration": 10,
    "start_time": "2023-01-09T08:20:52.844Z"
   },
   {
    "duration": 50,
    "start_time": "2023-01-09T08:21:45.232Z"
   },
   {
    "duration": 2083,
    "start_time": "2023-01-09T08:37:18.129Z"
   },
   {
    "duration": 2015,
    "start_time": "2023-01-09T08:37:20.215Z"
   },
   {
    "duration": 3,
    "start_time": "2023-01-09T08:37:22.232Z"
   },
   {
    "duration": 1561,
    "start_time": "2023-01-09T08:37:22.237Z"
   },
   {
    "duration": 103,
    "start_time": "2023-01-09T08:37:23.800Z"
   },
   {
    "duration": 16,
    "start_time": "2023-01-09T08:37:23.905Z"
   },
   {
    "duration": 57,
    "start_time": "2023-01-09T08:37:23.923Z"
   },
   {
    "duration": 5,
    "start_time": "2023-01-09T08:37:23.982Z"
   },
   {
    "duration": 10,
    "start_time": "2023-01-09T08:37:23.989Z"
   },
   {
    "duration": 512,
    "start_time": "2023-01-09T08:37:24.001Z"
   },
   {
    "duration": 13,
    "start_time": "2023-01-09T08:37:24.515Z"
   },
   {
    "duration": 8,
    "start_time": "2023-01-09T08:37:24.530Z"
   },
   {
    "duration": 480,
    "start_time": "2023-01-09T08:37:24.540Z"
   },
   {
    "duration": 5,
    "start_time": "2023-01-09T08:37:25.022Z"
   },
   {
    "duration": 14,
    "start_time": "2023-01-09T08:37:25.029Z"
   },
   {
    "duration": 654,
    "start_time": "2023-01-09T08:37:25.045Z"
   },
   {
    "duration": 780,
    "start_time": "2023-01-09T08:37:25.701Z"
   },
   {
    "duration": 4,
    "start_time": "2023-01-09T08:37:26.483Z"
   },
   {
    "duration": 30,
    "start_time": "2023-01-09T08:37:26.489Z"
   },
   {
    "duration": 5,
    "start_time": "2023-01-09T08:37:26.521Z"
   },
   {
    "duration": 13,
    "start_time": "2023-01-09T08:37:26.527Z"
   },
   {
    "duration": 4,
    "start_time": "2023-01-09T08:37:26.542Z"
   },
   {
    "duration": 32,
    "start_time": "2023-01-09T08:37:26.547Z"
   },
   {
    "duration": 6,
    "start_time": "2023-01-09T08:37:26.580Z"
   },
   {
    "duration": 8,
    "start_time": "2023-01-09T08:37:26.588Z"
   },
   {
    "duration": 375351,
    "start_time": "2023-01-09T08:37:26.597Z"
   },
   {
    "duration": 4,
    "start_time": "2023-01-09T08:43:41.949Z"
   },
   {
    "duration": 2001,
    "start_time": "2023-01-09T08:44:09.907Z"
   },
   {
    "duration": 1979,
    "start_time": "2023-01-09T08:44:11.912Z"
   },
   {
    "duration": 4,
    "start_time": "2023-01-09T08:44:13.896Z"
   },
   {
    "duration": 1479,
    "start_time": "2023-01-09T08:44:13.901Z"
   },
   {
    "duration": 50,
    "start_time": "2023-01-09T08:44:15.382Z"
   },
   {
    "duration": 12,
    "start_time": "2023-01-09T08:44:15.434Z"
   },
   {
    "duration": 55,
    "start_time": "2023-01-09T08:44:15.448Z"
   },
   {
    "duration": 4,
    "start_time": "2023-01-09T08:44:15.505Z"
   },
   {
    "duration": 7,
    "start_time": "2023-01-09T08:44:15.512Z"
   },
   {
    "duration": 517,
    "start_time": "2023-01-09T08:44:15.521Z"
   },
   {
    "duration": 15,
    "start_time": "2023-01-09T08:44:16.040Z"
   },
   {
    "duration": 24,
    "start_time": "2023-01-09T08:44:16.057Z"
   },
   {
    "duration": 490,
    "start_time": "2023-01-09T08:44:16.083Z"
   },
   {
    "duration": 5,
    "start_time": "2023-01-09T08:44:16.577Z"
   },
   {
    "duration": 17,
    "start_time": "2023-01-09T08:44:16.584Z"
   },
   {
    "duration": 640,
    "start_time": "2023-01-09T08:44:16.603Z"
   },
   {
    "duration": 804,
    "start_time": "2023-01-09T08:44:17.245Z"
   },
   {
    "duration": 4,
    "start_time": "2023-01-09T08:44:18.051Z"
   },
   {
    "duration": 51,
    "start_time": "2023-01-09T08:44:18.057Z"
   },
   {
    "duration": 9,
    "start_time": "2023-01-09T08:44:18.110Z"
   },
   {
    "duration": 24,
    "start_time": "2023-01-09T08:44:18.121Z"
   },
   {
    "duration": 30,
    "start_time": "2023-01-09T08:44:18.147Z"
   },
   {
    "duration": 26,
    "start_time": "2023-01-09T08:44:18.179Z"
   },
   {
    "duration": 11,
    "start_time": "2023-01-09T08:44:18.207Z"
   },
   {
    "duration": 4,
    "start_time": "2023-01-09T08:45:06.259Z"
   },
   {
    "duration": 464120,
    "start_time": "2023-01-09T08:45:07.162Z"
   },
   {
    "duration": 2123,
    "start_time": "2023-01-09T08:53:05.374Z"
   },
   {
    "duration": 2192,
    "start_time": "2023-01-09T08:53:07.500Z"
   },
   {
    "duration": 3,
    "start_time": "2023-01-09T08:53:09.695Z"
   },
   {
    "duration": 1576,
    "start_time": "2023-01-09T08:53:09.700Z"
   },
   {
    "duration": 64,
    "start_time": "2023-01-09T08:53:11.278Z"
   },
   {
    "duration": 16,
    "start_time": "2023-01-09T08:53:11.344Z"
   },
   {
    "duration": 65,
    "start_time": "2023-01-09T08:53:11.363Z"
   },
   {
    "duration": 5,
    "start_time": "2023-01-09T08:53:11.430Z"
   },
   {
    "duration": 9,
    "start_time": "2023-01-09T08:53:11.437Z"
   },
   {
    "duration": 476,
    "start_time": "2023-01-09T08:53:11.448Z"
   },
   {
    "duration": 14,
    "start_time": "2023-01-09T08:53:11.926Z"
   },
   {
    "duration": 8,
    "start_time": "2023-01-09T08:53:11.942Z"
   },
   {
    "duration": 480,
    "start_time": "2023-01-09T08:53:11.952Z"
   },
   {
    "duration": 5,
    "start_time": "2023-01-09T08:53:12.437Z"
   },
   {
    "duration": 7,
    "start_time": "2023-01-09T08:53:12.443Z"
   },
   {
    "duration": 655,
    "start_time": "2023-01-09T08:53:12.452Z"
   },
   {
    "duration": 757,
    "start_time": "2023-01-09T08:53:13.108Z"
   },
   {
    "duration": 14,
    "start_time": "2023-01-09T08:53:13.867Z"
   },
   {
    "duration": 26,
    "start_time": "2023-01-09T08:53:17.516Z"
   },
   {
    "duration": 13,
    "start_time": "2023-01-09T08:53:58.282Z"
   },
   {
    "duration": 16,
    "start_time": "2023-01-09T08:54:03.321Z"
   },
   {
    "duration": 6,
    "start_time": "2023-01-09T08:55:00.260Z"
   },
   {
    "duration": 11,
    "start_time": "2023-01-09T08:55:07.019Z"
   },
   {
    "duration": 3,
    "start_time": "2023-01-09T08:55:14.975Z"
   },
   {
    "duration": 3,
    "start_time": "2023-01-09T08:55:17.081Z"
   },
   {
    "duration": 3,
    "start_time": "2023-01-09T08:55:17.516Z"
   },
   {
    "duration": 4,
    "start_time": "2023-01-09T08:55:22.731Z"
   },
   {
    "duration": 509994,
    "start_time": "2023-01-09T08:55:24.409Z"
   },
   {
    "duration": 49,
    "start_time": "2023-01-09T11:54:36.330Z"
   },
   {
    "duration": 2161,
    "start_time": "2023-01-10T05:47:08.297Z"
   },
   {
    "duration": 1992,
    "start_time": "2023-01-10T05:47:10.461Z"
   },
   {
    "duration": 2,
    "start_time": "2023-01-10T05:47:12.455Z"
   },
   {
    "duration": 1527,
    "start_time": "2023-01-10T05:47:12.459Z"
   },
   {
    "duration": 114,
    "start_time": "2023-01-10T05:47:13.987Z"
   },
   {
    "duration": 11,
    "start_time": "2023-01-10T05:47:14.103Z"
   },
   {
    "duration": 62,
    "start_time": "2023-01-10T05:47:14.115Z"
   },
   {
    "duration": 4,
    "start_time": "2023-01-10T05:47:14.178Z"
   },
   {
    "duration": 10,
    "start_time": "2023-01-10T05:47:14.183Z"
   },
   {
    "duration": 447,
    "start_time": "2023-01-10T05:47:14.195Z"
   },
   {
    "duration": 12,
    "start_time": "2023-01-10T05:47:14.644Z"
   },
   {
    "duration": 7,
    "start_time": "2023-01-10T05:47:14.657Z"
   },
   {
    "duration": 423,
    "start_time": "2023-01-10T05:47:14.665Z"
   },
   {
    "duration": 5,
    "start_time": "2023-01-10T05:47:15.089Z"
   },
   {
    "duration": 606,
    "start_time": "2023-01-10T05:47:15.095Z"
   },
   {
    "duration": 658,
    "start_time": "2023-01-10T05:47:15.703Z"
   },
   {
    "duration": 4,
    "start_time": "2023-01-10T05:47:16.362Z"
   },
   {
    "duration": 490707,
    "start_time": "2023-01-10T05:47:16.368Z"
   },
   {
    "duration": 1968,
    "start_time": "2023-01-10T05:56:37.255Z"
   },
   {
    "duration": 2015,
    "start_time": "2023-01-10T05:56:39.225Z"
   },
   {
    "duration": 3,
    "start_time": "2023-01-10T05:56:41.242Z"
   },
   {
    "duration": 1366,
    "start_time": "2023-01-10T05:56:41.247Z"
   },
   {
    "duration": 52,
    "start_time": "2023-01-10T05:56:42.614Z"
   },
   {
    "duration": 10,
    "start_time": "2023-01-10T05:56:42.668Z"
   },
   {
    "duration": 55,
    "start_time": "2023-01-10T05:56:42.680Z"
   },
   {
    "duration": 3,
    "start_time": "2023-01-10T05:56:42.737Z"
   },
   {
    "duration": 12,
    "start_time": "2023-01-10T05:56:42.742Z"
   },
   {
    "duration": 476,
    "start_time": "2023-01-10T05:56:42.756Z"
   },
   {
    "duration": 11,
    "start_time": "2023-01-10T05:56:43.234Z"
   },
   {
    "duration": 6,
    "start_time": "2023-01-10T05:56:43.247Z"
   },
   {
    "duration": 406,
    "start_time": "2023-01-10T05:56:43.254Z"
   },
   {
    "duration": 5,
    "start_time": "2023-01-10T05:56:43.661Z"
   },
   {
    "duration": 582,
    "start_time": "2023-01-10T05:56:43.667Z"
   },
   {
    "duration": 681,
    "start_time": "2023-01-10T05:56:44.251Z"
   },
   {
    "duration": 4,
    "start_time": "2023-01-10T05:56:44.934Z"
   },
   {
    "duration": 3146,
    "start_time": "2023-01-10T05:56:44.940Z"
   },
   {
    "duration": 2147,
    "start_time": "2023-01-10T05:57:23.420Z"
   },
   {
    "duration": 2036,
    "start_time": "2023-01-10T05:57:25.570Z"
   },
   {
    "duration": 2,
    "start_time": "2023-01-10T05:57:27.608Z"
   },
   {
    "duration": 1426,
    "start_time": "2023-01-10T05:57:27.612Z"
   },
   {
    "duration": 45,
    "start_time": "2023-01-10T05:57:29.040Z"
   },
   {
    "duration": 14,
    "start_time": "2023-01-10T05:57:29.086Z"
   },
   {
    "duration": 72,
    "start_time": "2023-01-10T05:57:29.102Z"
   },
   {
    "duration": 4,
    "start_time": "2023-01-10T05:57:29.176Z"
   },
   {
    "duration": 10,
    "start_time": "2023-01-10T05:57:29.182Z"
   },
   {
    "duration": 572,
    "start_time": "2023-01-10T05:57:29.195Z"
   },
   {
    "duration": 12,
    "start_time": "2023-01-10T05:57:29.769Z"
   },
   {
    "duration": 8,
    "start_time": "2023-01-10T05:57:29.783Z"
   },
   {
    "duration": 420,
    "start_time": "2023-01-10T05:57:29.792Z"
   },
   {
    "duration": 4,
    "start_time": "2023-01-10T05:57:30.213Z"
   },
   {
    "duration": 620,
    "start_time": "2023-01-10T05:57:30.219Z"
   },
   {
    "duration": 744,
    "start_time": "2023-01-10T05:57:30.841Z"
   },
   {
    "duration": 4,
    "start_time": "2023-01-10T05:57:31.586Z"
   },
   {
    "duration": 97131,
    "start_time": "2023-01-10T05:57:31.591Z"
   },
   {
    "duration": 3,
    "start_time": "2023-01-10T06:01:41.217Z"
   },
   {
    "duration": 10,
    "start_time": "2023-01-10T06:02:02.426Z"
   },
   {
    "duration": 255688,
    "start_time": "2023-01-10T06:03:27.273Z"
   },
   {
    "duration": 2161,
    "start_time": "2023-01-10T06:08:04.735Z"
   },
   {
    "duration": 2065,
    "start_time": "2023-01-10T06:08:06.898Z"
   },
   {
    "duration": 3,
    "start_time": "2023-01-10T06:08:08.964Z"
   },
   {
    "duration": 2334,
    "start_time": "2023-01-10T06:08:08.969Z"
   },
   {
    "duration": 88,
    "start_time": "2023-01-10T06:08:11.305Z"
   },
   {
    "duration": 11,
    "start_time": "2023-01-10T06:08:11.395Z"
   },
   {
    "duration": 105,
    "start_time": "2023-01-10T06:08:11.408Z"
   },
   {
    "duration": 5,
    "start_time": "2023-01-10T06:08:11.514Z"
   },
   {
    "duration": 35,
    "start_time": "2023-01-10T06:08:11.520Z"
   },
   {
    "duration": 498,
    "start_time": "2023-01-10T06:08:11.557Z"
   },
   {
    "duration": 13,
    "start_time": "2023-01-10T06:08:12.057Z"
   },
   {
    "duration": 7,
    "start_time": "2023-01-10T06:08:12.072Z"
   },
   {
    "duration": 431,
    "start_time": "2023-01-10T06:08:12.081Z"
   },
   {
    "duration": 4,
    "start_time": "2023-01-10T06:08:12.514Z"
   },
   {
    "duration": 623,
    "start_time": "2023-01-10T06:08:12.519Z"
   },
   {
    "duration": 725,
    "start_time": "2023-01-10T06:08:13.144Z"
   },
   {
    "duration": 3,
    "start_time": "2023-01-10T06:08:13.871Z"
   },
   {
    "duration": 1528960,
    "start_time": "2023-01-10T06:08:13.876Z"
   },
   {
    "duration": 3,
    "start_time": "2023-01-10T07:10:21.326Z"
   },
   {
    "duration": 1970,
    "start_time": "2023-01-10T07:17:02.913Z"
   },
   {
    "duration": 2005,
    "start_time": "2023-01-10T07:17:04.885Z"
   },
   {
    "duration": 2,
    "start_time": "2023-01-10T07:17:06.893Z"
   },
   {
    "duration": 1416,
    "start_time": "2023-01-10T07:17:06.897Z"
   },
   {
    "duration": 101,
    "start_time": "2023-01-10T07:17:08.315Z"
   },
   {
    "duration": 11,
    "start_time": "2023-01-10T07:17:08.418Z"
   },
   {
    "duration": 57,
    "start_time": "2023-01-10T07:17:08.430Z"
   },
   {
    "duration": 4,
    "start_time": "2023-01-10T07:17:08.489Z"
   },
   {
    "duration": 13,
    "start_time": "2023-01-10T07:17:08.495Z"
   },
   {
    "duration": 444,
    "start_time": "2023-01-10T07:17:08.509Z"
   },
   {
    "duration": 12,
    "start_time": "2023-01-10T07:17:08.954Z"
   },
   {
    "duration": 7,
    "start_time": "2023-01-10T07:17:08.968Z"
   },
   {
    "duration": 424,
    "start_time": "2023-01-10T07:17:08.976Z"
   },
   {
    "duration": 5,
    "start_time": "2023-01-10T07:17:09.402Z"
   },
   {
    "duration": 592,
    "start_time": "2023-01-10T07:17:09.408Z"
   },
   {
    "duration": 715,
    "start_time": "2023-01-10T07:17:10.002Z"
   },
   {
    "duration": 5,
    "start_time": "2023-01-10T07:17:10.718Z"
   },
   {
    "duration": 79300,
    "start_time": "2023-01-10T07:17:10.724Z"
   },
   {
    "duration": 3,
    "start_time": "2023-01-10T07:18:51.824Z"
   },
   {
    "duration": 88133,
    "start_time": "2023-01-10T07:19:19.188Z"
   },
   {
    "duration": 3,
    "start_time": "2023-01-10T07:20:59.105Z"
   },
   {
    "duration": 67004,
    "start_time": "2023-01-10T07:21:33.427Z"
   },
   {
    "duration": 3,
    "start_time": "2023-01-10T07:25:15.953Z"
   },
   {
    "duration": 98880,
    "start_time": "2023-01-10T07:26:00.152Z"
   },
   {
    "duration": 4,
    "start_time": "2023-01-10T07:27:43.413Z"
   },
   {
    "duration": 2077,
    "start_time": "2023-01-10T07:33:44.276Z"
   },
   {
    "duration": 1950,
    "start_time": "2023-01-10T07:33:46.355Z"
   },
   {
    "duration": 3,
    "start_time": "2023-01-10T07:33:48.307Z"
   },
   {
    "duration": 1423,
    "start_time": "2023-01-10T07:33:48.312Z"
   },
   {
    "duration": 56,
    "start_time": "2023-01-10T07:33:49.737Z"
   },
   {
    "duration": 11,
    "start_time": "2023-01-10T07:33:49.795Z"
   },
   {
    "duration": 57,
    "start_time": "2023-01-10T07:33:49.808Z"
   },
   {
    "duration": 3,
    "start_time": "2023-01-10T07:33:49.867Z"
   },
   {
    "duration": 12,
    "start_time": "2023-01-10T07:33:49.871Z"
   },
   {
    "duration": 472,
    "start_time": "2023-01-10T07:33:49.885Z"
   },
   {
    "duration": 13,
    "start_time": "2023-01-10T07:33:50.358Z"
   },
   {
    "duration": 15,
    "start_time": "2023-01-10T07:33:50.373Z"
   },
   {
    "duration": 427,
    "start_time": "2023-01-10T07:33:50.389Z"
   },
   {
    "duration": 4,
    "start_time": "2023-01-10T07:33:50.818Z"
   },
   {
    "duration": 594,
    "start_time": "2023-01-10T07:33:50.823Z"
   },
   {
    "duration": 716,
    "start_time": "2023-01-10T07:33:51.420Z"
   },
   {
    "duration": 4,
    "start_time": "2023-01-10T07:33:52.138Z"
   },
   {
    "duration": 511688,
    "start_time": "2023-01-10T07:33:52.143Z"
   },
   {
    "duration": 4,
    "start_time": "2023-01-10T07:42:23.833Z"
   },
   {
    "duration": 186,
    "start_time": "2023-01-10T07:42:23.838Z"
   },
   {
    "duration": 120,
    "start_time": "2023-01-10T07:42:24.026Z"
   },
   {
    "duration": 0,
    "start_time": "2023-01-10T07:42:24.148Z"
   },
   {
    "duration": 0,
    "start_time": "2023-01-10T07:42:24.150Z"
   },
   {
    "duration": 0,
    "start_time": "2023-01-10T07:42:24.152Z"
   },
   {
    "duration": 0,
    "start_time": "2023-01-10T07:42:24.153Z"
   },
   {
    "duration": 0,
    "start_time": "2023-01-10T07:42:24.155Z"
   },
   {
    "duration": 0,
    "start_time": "2023-01-10T07:42:24.157Z"
   },
   {
    "duration": 0,
    "start_time": "2023-01-10T07:42:24.158Z"
   },
   {
    "duration": 0,
    "start_time": "2023-01-10T07:42:24.159Z"
   },
   {
    "duration": 0,
    "start_time": "2023-01-10T07:42:24.161Z"
   },
   {
    "duration": 0,
    "start_time": "2023-01-10T07:42:24.162Z"
   },
   {
    "duration": 0,
    "start_time": "2023-01-10T07:42:24.164Z"
   },
   {
    "duration": 6,
    "start_time": "2023-01-10T07:43:41.248Z"
   },
   {
    "duration": 13,
    "start_time": "2023-01-10T07:43:46.452Z"
   },
   {
    "duration": 7,
    "start_time": "2023-01-10T07:43:46.467Z"
   },
   {
    "duration": 14,
    "start_time": "2023-01-10T07:43:46.476Z"
   },
   {
    "duration": 10,
    "start_time": "2023-01-10T07:43:46.492Z"
   },
   {
    "duration": 12,
    "start_time": "2023-01-10T07:43:46.504Z"
   },
   {
    "duration": 72,
    "start_time": "2023-01-10T07:43:46.518Z"
   },
   {
    "duration": 4,
    "start_time": "2023-01-10T07:43:46.592Z"
   },
   {
    "duration": 4,
    "start_time": "2023-01-10T07:44:14.523Z"
   },
   {
    "duration": 0,
    "start_time": "2023-01-10T07:44:33.327Z"
   },
   {
    "duration": 0,
    "start_time": "2023-01-10T07:44:33.329Z"
   },
   {
    "duration": 0,
    "start_time": "2023-01-10T07:44:33.330Z"
   },
   {
    "duration": 0,
    "start_time": "2023-01-10T07:44:33.331Z"
   },
   {
    "duration": 0,
    "start_time": "2023-01-10T07:44:33.332Z"
   },
   {
    "duration": 0,
    "start_time": "2023-01-10T07:44:33.334Z"
   },
   {
    "duration": 0,
    "start_time": "2023-01-10T07:44:33.335Z"
   },
   {
    "duration": 714827,
    "start_time": "2023-01-10T07:48:20.003Z"
   },
   {
    "duration": 4,
    "start_time": "2023-01-10T08:00:14.832Z"
   },
   {
    "duration": 31801,
    "start_time": "2023-01-10T08:00:14.837Z"
   },
   {
    "duration": 3,
    "start_time": "2023-01-10T08:00:46.640Z"
   },
   {
    "duration": 18598,
    "start_time": "2023-01-10T08:00:46.645Z"
   },
   {
    "duration": 15,
    "start_time": "2023-01-10T08:01:05.245Z"
   },
   {
    "duration": 25,
    "start_time": "2023-01-10T08:04:57.061Z"
   },
   {
    "duration": 10,
    "start_time": "2023-01-10T08:04:58.236Z"
   },
   {
    "duration": 46,
    "start_time": "2023-01-10T08:04:58.937Z"
   },
   {
    "duration": 3,
    "start_time": "2023-01-10T08:05:40.216Z"
   },
   {
    "duration": 342807,
    "start_time": "2023-01-10T08:05:42.017Z"
   },
   {
    "duration": 14,
    "start_time": "2023-01-10T08:11:40.445Z"
   },
   {
    "duration": 3,
    "start_time": "2023-01-10T08:12:18.517Z"
   },
   {
    "duration": 29822,
    "start_time": "2023-01-10T08:12:18.809Z"
   },
   {
    "duration": 16,
    "start_time": "2023-01-10T08:14:36.469Z"
   },
   {
    "duration": 3,
    "start_time": "2023-01-10T08:15:52.406Z"
   },
   {
    "duration": 24690,
    "start_time": "2023-01-10T08:15:52.850Z"
   },
   {
    "duration": 14,
    "start_time": "2023-01-10T08:30:46.826Z"
   },
   {
    "duration": 2010,
    "start_time": "2023-01-10T08:32:26.604Z"
   },
   {
    "duration": 2020,
    "start_time": "2023-01-10T08:32:28.616Z"
   },
   {
    "duration": 3,
    "start_time": "2023-01-10T08:32:30.638Z"
   },
   {
    "duration": 1438,
    "start_time": "2023-01-10T08:32:30.642Z"
   },
   {
    "duration": 93,
    "start_time": "2023-01-10T08:32:32.083Z"
   },
   {
    "duration": 11,
    "start_time": "2023-01-10T08:32:32.178Z"
   },
   {
    "duration": 55,
    "start_time": "2023-01-10T08:32:32.191Z"
   },
   {
    "duration": 4,
    "start_time": "2023-01-10T08:32:32.248Z"
   },
   {
    "duration": 13,
    "start_time": "2023-01-10T08:32:32.253Z"
   },
   {
    "duration": 485,
    "start_time": "2023-01-10T08:32:32.268Z"
   },
   {
    "duration": 11,
    "start_time": "2023-01-10T08:32:32.755Z"
   },
   {
    "duration": 7,
    "start_time": "2023-01-10T08:32:32.768Z"
   },
   {
    "duration": 402,
    "start_time": "2023-01-10T08:32:32.777Z"
   },
   {
    "duration": 5,
    "start_time": "2023-01-10T08:32:33.181Z"
   },
   {
    "duration": 643,
    "start_time": "2023-01-10T08:32:33.187Z"
   },
   {
    "duration": 745,
    "start_time": "2023-01-10T08:32:33.832Z"
   },
   {
    "duration": 5,
    "start_time": "2023-01-10T08:32:34.579Z"
   },
   {
    "duration": 141,
    "start_time": "2023-01-10T08:32:42.904Z"
   },
   {
    "duration": 18,
    "start_time": "2023-01-10T08:32:49.140Z"
   },
   {
    "duration": 3,
    "start_time": "2023-01-10T08:32:51.466Z"
   },
   {
    "duration": 3,
    "start_time": "2023-01-10T08:32:55.716Z"
   },
   {
    "duration": 3,
    "start_time": "2023-01-10T08:32:56.060Z"
   },
   {
    "duration": 4,
    "start_time": "2023-01-10T08:32:57.357Z"
   },
   {
    "duration": 402715,
    "start_time": "2023-01-10T08:33:03.211Z"
   },
   {
    "duration": 2392,
    "start_time": "2023-01-12T13:48:21.356Z"
   },
   {
    "duration": 2264,
    "start_time": "2023-01-12T13:48:23.751Z"
   },
   {
    "duration": 4,
    "start_time": "2023-01-12T13:48:26.018Z"
   },
   {
    "duration": 1754,
    "start_time": "2023-01-12T13:48:26.023Z"
   },
   {
    "duration": 148,
    "start_time": "2023-01-12T13:48:27.779Z"
   },
   {
    "duration": 16,
    "start_time": "2023-01-12T13:48:27.929Z"
   },
   {
    "duration": 122,
    "start_time": "2023-01-12T13:48:27.947Z"
   },
   {
    "duration": 5,
    "start_time": "2023-01-12T13:48:28.071Z"
   },
   {
    "duration": 72,
    "start_time": "2023-01-12T13:48:28.078Z"
   },
   {
    "duration": 504,
    "start_time": "2023-01-12T13:48:28.152Z"
   },
   {
    "duration": 14,
    "start_time": "2023-01-12T13:48:28.658Z"
   },
   {
    "duration": 28,
    "start_time": "2023-01-12T13:48:28.673Z"
   },
   {
    "duration": 473,
    "start_time": "2023-01-12T13:48:28.703Z"
   },
   {
    "duration": 6,
    "start_time": "2023-01-12T13:48:29.179Z"
   },
   {
    "duration": 751,
    "start_time": "2023-01-12T13:48:29.187Z"
   },
   {
    "duration": 840,
    "start_time": "2023-01-12T13:48:29.940Z"
   },
   {
    "duration": 6,
    "start_time": "2023-01-12T13:48:30.782Z"
   },
   {
    "duration": 330296,
    "start_time": "2023-01-12T13:48:30.790Z"
   },
   {
    "duration": 1124178,
    "start_time": "2023-01-12T13:54:13.253Z"
   },
   {
    "duration": 2217,
    "start_time": "2023-01-12T14:13:23.636Z"
   },
   {
    "duration": 2514,
    "start_time": "2023-01-12T14:13:25.855Z"
   },
   {
    "duration": 3,
    "start_time": "2023-01-12T14:13:28.371Z"
   },
   {
    "duration": 1541,
    "start_time": "2023-01-12T14:13:28.376Z"
   },
   {
    "duration": 59,
    "start_time": "2023-01-12T14:13:29.918Z"
   },
   {
    "duration": 12,
    "start_time": "2023-01-12T14:13:29.978Z"
   },
   {
    "duration": 99,
    "start_time": "2023-01-12T14:13:29.992Z"
   },
   {
    "duration": 4,
    "start_time": "2023-01-12T14:13:30.093Z"
   },
   {
    "duration": 22,
    "start_time": "2023-01-12T14:13:30.098Z"
   },
   {
    "duration": 508,
    "start_time": "2023-01-12T14:13:30.122Z"
   },
   {
    "duration": 15,
    "start_time": "2023-01-12T14:13:30.632Z"
   },
   {
    "duration": 24,
    "start_time": "2023-01-12T14:13:30.651Z"
   },
   {
    "duration": 479,
    "start_time": "2023-01-12T14:13:30.677Z"
   },
   {
    "duration": 5,
    "start_time": "2023-01-12T14:13:31.158Z"
   },
   {
    "duration": 707,
    "start_time": "2023-01-12T14:13:31.164Z"
   },
   {
    "duration": 760,
    "start_time": "2023-01-12T14:13:31.873Z"
   },
   {
    "duration": 4,
    "start_time": "2023-01-12T14:13:32.635Z"
   },
   {
    "duration": 353635,
    "start_time": "2023-01-12T14:13:32.641Z"
   }
  ],
  "kernelspec": {
   "display_name": "Python 3 (ipykernel)",
   "language": "python",
   "name": "python3"
  },
  "language_info": {
   "codemirror_mode": {
    "name": "ipython",
    "version": 3
   },
   "file_extension": ".py",
   "mimetype": "text/x-python",
   "name": "python",
   "nbconvert_exporter": "python",
   "pygments_lexer": "ipython3",
   "version": "3.9.12"
  },
  "toc": {
   "base_numbering": 1,
   "nav_menu": {},
   "number_sections": true,
   "sideBar": true,
   "skip_h1_title": true,
   "title_cell": "Содержание",
   "title_sidebar": "Contents",
   "toc_cell": true,
   "toc_position": {
    "height": "calc(100% - 180px)",
    "left": "10px",
    "top": "150px",
    "width": "165px"
   },
   "toc_section_display": true,
   "toc_window_display": true
  }
 },
 "nbformat": 4,
 "nbformat_minor": 2
}
