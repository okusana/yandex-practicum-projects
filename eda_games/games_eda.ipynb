{
 "cells": [
  {
   "cell_type": "markdown",
   "metadata": {},
   "source": [
    "# Исследование успешности компьютерных игр"
   ]
  },
  {
   "cell_type": "markdown",
   "metadata": {},
   "source": [
    "**Цель исследования** \n",
    "\n",
    "Определить наиболее перспективные платформы и жанры для продажи игр.\n",
    "\n",
    "Проверить гипотезы:\n",
    "1. Средние пользовательские рейтинги платформ Xbox One и PC одинаковые. \n",
    "2. Средние пользовательские рейтинги жанров Action и Sports разные. \n",
    "\n",
    "**Ход исследования**\n",
    "\n",
    " 1. Обзор данных для определения их качества и основных проблем.\n",
    " 2. Предобработка данных: обработка пропусков и дубликатов, создание вспомогательных столбцов.\n",
    " 3. Исследовательский анализ: определение актуального периода и факторов, влияющих на продажи.\n",
    " 4. Формирование портрета пользователя для разных регионов.\n",
    " 5. Проверка гипотез."
   ]
  },
  {
   "cell_type": "markdown",
   "metadata": {},
   "source": [
    "## Обзор данных"
   ]
  },
  {
   "cell_type": "code",
   "execution_count": 1,
   "metadata": {},
   "outputs": [],
   "source": [
    "# импорт необходимых библиотек\n",
    "import warnings \n",
    "import pandas as pd \n",
    "import matplotlib.pyplot as plt\n",
    "import numpy as np\n",
    "import seaborn as sns\n",
    "\n",
    "from scipy import stats as st"
   ]
  },
  {
   "cell_type": "code",
   "execution_count": 2,
   "metadata": {},
   "outputs": [],
   "source": [
    "# убираем предупреждения\n",
    "warnings.filterwarnings('ignore') "
   ]
  },
  {
   "cell_type": "markdown",
   "metadata": {},
   "source": [
    "Посмотрим на имеющиеся данные и общую информацию о них:"
   ]
  },
  {
   "cell_type": "code",
   "execution_count": 3,
   "metadata": {},
   "outputs": [
    {
     "data": {
      "text/html": [
       "<div>\n",
       "<style scoped>\n",
       "    .dataframe tbody tr th:only-of-type {\n",
       "        vertical-align: middle;\n",
       "    }\n",
       "\n",
       "    .dataframe tbody tr th {\n",
       "        vertical-align: top;\n",
       "    }\n",
       "\n",
       "    .dataframe thead th {\n",
       "        text-align: right;\n",
       "    }\n",
       "</style>\n",
       "<table border=\"1\" class=\"dataframe\">\n",
       "  <thead>\n",
       "    <tr style=\"text-align: right;\">\n",
       "      <th></th>\n",
       "      <th>Name</th>\n",
       "      <th>Platform</th>\n",
       "      <th>Year_of_Release</th>\n",
       "      <th>Genre</th>\n",
       "      <th>NA_sales</th>\n",
       "      <th>EU_sales</th>\n",
       "      <th>JP_sales</th>\n",
       "      <th>Other_sales</th>\n",
       "      <th>Critic_Score</th>\n",
       "      <th>User_Score</th>\n",
       "      <th>Rating</th>\n",
       "    </tr>\n",
       "  </thead>\n",
       "  <tbody>\n",
       "    <tr>\n",
       "      <th>0</th>\n",
       "      <td>Wii Sports</td>\n",
       "      <td>Wii</td>\n",
       "      <td>2006.0</td>\n",
       "      <td>Sports</td>\n",
       "      <td>41.36</td>\n",
       "      <td>28.96</td>\n",
       "      <td>3.77</td>\n",
       "      <td>8.45</td>\n",
       "      <td>76.0</td>\n",
       "      <td>8</td>\n",
       "      <td>E</td>\n",
       "    </tr>\n",
       "    <tr>\n",
       "      <th>1</th>\n",
       "      <td>Super Mario Bros.</td>\n",
       "      <td>NES</td>\n",
       "      <td>1985.0</td>\n",
       "      <td>Platform</td>\n",
       "      <td>29.08</td>\n",
       "      <td>3.58</td>\n",
       "      <td>6.81</td>\n",
       "      <td>0.77</td>\n",
       "      <td>NaN</td>\n",
       "      <td>NaN</td>\n",
       "      <td>NaN</td>\n",
       "    </tr>\n",
       "    <tr>\n",
       "      <th>2</th>\n",
       "      <td>Mario Kart Wii</td>\n",
       "      <td>Wii</td>\n",
       "      <td>2008.0</td>\n",
       "      <td>Racing</td>\n",
       "      <td>15.68</td>\n",
       "      <td>12.76</td>\n",
       "      <td>3.79</td>\n",
       "      <td>3.29</td>\n",
       "      <td>82.0</td>\n",
       "      <td>8.3</td>\n",
       "      <td>E</td>\n",
       "    </tr>\n",
       "    <tr>\n",
       "      <th>3</th>\n",
       "      <td>Wii Sports Resort</td>\n",
       "      <td>Wii</td>\n",
       "      <td>2009.0</td>\n",
       "      <td>Sports</td>\n",
       "      <td>15.61</td>\n",
       "      <td>10.93</td>\n",
       "      <td>3.28</td>\n",
       "      <td>2.95</td>\n",
       "      <td>80.0</td>\n",
       "      <td>8</td>\n",
       "      <td>E</td>\n",
       "    </tr>\n",
       "    <tr>\n",
       "      <th>4</th>\n",
       "      <td>Pokemon Red/Pokemon Blue</td>\n",
       "      <td>GB</td>\n",
       "      <td>1996.0</td>\n",
       "      <td>Role-Playing</td>\n",
       "      <td>11.27</td>\n",
       "      <td>8.89</td>\n",
       "      <td>10.22</td>\n",
       "      <td>1.00</td>\n",
       "      <td>NaN</td>\n",
       "      <td>NaN</td>\n",
       "      <td>NaN</td>\n",
       "    </tr>\n",
       "    <tr>\n",
       "      <th>5</th>\n",
       "      <td>Tetris</td>\n",
       "      <td>GB</td>\n",
       "      <td>1989.0</td>\n",
       "      <td>Puzzle</td>\n",
       "      <td>23.20</td>\n",
       "      <td>2.26</td>\n",
       "      <td>4.22</td>\n",
       "      <td>0.58</td>\n",
       "      <td>NaN</td>\n",
       "      <td>NaN</td>\n",
       "      <td>NaN</td>\n",
       "    </tr>\n",
       "    <tr>\n",
       "      <th>6</th>\n",
       "      <td>New Super Mario Bros.</td>\n",
       "      <td>DS</td>\n",
       "      <td>2006.0</td>\n",
       "      <td>Platform</td>\n",
       "      <td>11.28</td>\n",
       "      <td>9.14</td>\n",
       "      <td>6.50</td>\n",
       "      <td>2.88</td>\n",
       "      <td>89.0</td>\n",
       "      <td>8.5</td>\n",
       "      <td>E</td>\n",
       "    </tr>\n",
       "    <tr>\n",
       "      <th>7</th>\n",
       "      <td>Wii Play</td>\n",
       "      <td>Wii</td>\n",
       "      <td>2006.0</td>\n",
       "      <td>Misc</td>\n",
       "      <td>13.96</td>\n",
       "      <td>9.18</td>\n",
       "      <td>2.93</td>\n",
       "      <td>2.84</td>\n",
       "      <td>58.0</td>\n",
       "      <td>6.6</td>\n",
       "      <td>E</td>\n",
       "    </tr>\n",
       "    <tr>\n",
       "      <th>8</th>\n",
       "      <td>New Super Mario Bros. Wii</td>\n",
       "      <td>Wii</td>\n",
       "      <td>2009.0</td>\n",
       "      <td>Platform</td>\n",
       "      <td>14.44</td>\n",
       "      <td>6.94</td>\n",
       "      <td>4.70</td>\n",
       "      <td>2.24</td>\n",
       "      <td>87.0</td>\n",
       "      <td>8.4</td>\n",
       "      <td>E</td>\n",
       "    </tr>\n",
       "    <tr>\n",
       "      <th>9</th>\n",
       "      <td>Duck Hunt</td>\n",
       "      <td>NES</td>\n",
       "      <td>1984.0</td>\n",
       "      <td>Shooter</td>\n",
       "      <td>26.93</td>\n",
       "      <td>0.63</td>\n",
       "      <td>0.28</td>\n",
       "      <td>0.47</td>\n",
       "      <td>NaN</td>\n",
       "      <td>NaN</td>\n",
       "      <td>NaN</td>\n",
       "    </tr>\n",
       "  </tbody>\n",
       "</table>\n",
       "</div>"
      ],
      "text/plain": [
       "                        Name Platform  Year_of_Release         Genre  \\\n",
       "0                 Wii Sports      Wii           2006.0        Sports   \n",
       "1          Super Mario Bros.      NES           1985.0      Platform   \n",
       "2             Mario Kart Wii      Wii           2008.0        Racing   \n",
       "3          Wii Sports Resort      Wii           2009.0        Sports   \n",
       "4   Pokemon Red/Pokemon Blue       GB           1996.0  Role-Playing   \n",
       "5                     Tetris       GB           1989.0        Puzzle   \n",
       "6      New Super Mario Bros.       DS           2006.0      Platform   \n",
       "7                   Wii Play      Wii           2006.0          Misc   \n",
       "8  New Super Mario Bros. Wii      Wii           2009.0      Platform   \n",
       "9                  Duck Hunt      NES           1984.0       Shooter   \n",
       "\n",
       "   NA_sales  EU_sales  JP_sales  Other_sales  Critic_Score User_Score Rating  \n",
       "0     41.36     28.96      3.77         8.45          76.0          8      E  \n",
       "1     29.08      3.58      6.81         0.77           NaN        NaN    NaN  \n",
       "2     15.68     12.76      3.79         3.29          82.0        8.3      E  \n",
       "3     15.61     10.93      3.28         2.95          80.0          8      E  \n",
       "4     11.27      8.89     10.22         1.00           NaN        NaN    NaN  \n",
       "5     23.20      2.26      4.22         0.58           NaN        NaN    NaN  \n",
       "6     11.28      9.14      6.50         2.88          89.0        8.5      E  \n",
       "7     13.96      9.18      2.93         2.84          58.0        6.6      E  \n",
       "8     14.44      6.94      4.70         2.24          87.0        8.4      E  \n",
       "9     26.93      0.63      0.28         0.47           NaN        NaN    NaN  "
      ]
     },
     "execution_count": 3,
     "metadata": {},
     "output_type": "execute_result"
    }
   ],
   "source": [
    "try:\n",
    "    data = pd.read_csv('games.csv')\n",
    "    \n",
    "except:\n",
    "    data = pd.read_csv('/datasets/games.csv')\n",
    "    \n",
    "data.head(10)"
   ]
  },
  {
   "cell_type": "code",
   "execution_count": 4,
   "metadata": {},
   "outputs": [
    {
     "name": "stdout",
     "output_type": "stream",
     "text": [
      "<class 'pandas.core.frame.DataFrame'>\n",
      "RangeIndex: 16715 entries, 0 to 16714\n",
      "Data columns (total 11 columns):\n",
      " #   Column           Non-Null Count  Dtype  \n",
      "---  ------           --------------  -----  \n",
      " 0   Name             16713 non-null  object \n",
      " 1   Platform         16715 non-null  object \n",
      " 2   Year_of_Release  16446 non-null  float64\n",
      " 3   Genre            16713 non-null  object \n",
      " 4   NA_sales         16715 non-null  float64\n",
      " 5   EU_sales         16715 non-null  float64\n",
      " 6   JP_sales         16715 non-null  float64\n",
      " 7   Other_sales      16715 non-null  float64\n",
      " 8   Critic_Score     8137 non-null   float64\n",
      " 9   User_Score       10014 non-null  object \n",
      " 10  Rating           9949 non-null   object \n",
      "dtypes: float64(6), object(5)\n",
      "memory usage: 1.4+ MB\n"
     ]
    }
   ],
   "source": [
    "data.info() "
   ]
  },
  {
   "cell_type": "markdown",
   "metadata": {},
   "source": [
    "**Столбцы, хранящие информацию с оценками критиков и пользоваелей, а также с рейтингом содержат большое число пропусков**. Небольшое количество пропусков есть и в столбцах с названием, жанром и годом релиза. Помимо этого **столбец с годом релиза имеет вещественный тип, вместо целочисленного**, а столбец с **оценками пользователей** вообще по каким-то причинам имеет тип данных **'object'**. Также для удобств работы **стоит привести названия столбцов к нижнему регистру**."
   ]
  },
  {
   "cell_type": "markdown",
   "metadata": {},
   "source": [
    "## Подготовка данных"
   ]
  },
  {
   "cell_type": "markdown",
   "metadata": {},
   "source": [
    "Для начала переименуем столбцы:"
   ]
  },
  {
   "cell_type": "code",
   "execution_count": 5,
   "metadata": {},
   "outputs": [
    {
     "data": {
      "text/plain": [
       "Index(['name', 'platform', 'year_of_release', 'genre', 'na_sales', 'eu_sales',\n",
       "       'jp_sales', 'other_sales', 'critic_score', 'user_score', 'rating'],\n",
       "      dtype='object')"
      ]
     },
     "execution_count": 5,
     "metadata": {},
     "output_type": "execute_result"
    }
   ],
   "source": [
    "data.columns = data.columns.str.lower()\n",
    "data.columns"
   ]
  },
  {
   "cell_type": "markdown",
   "metadata": {},
   "source": [
    "Посмотрим на долю пропусков в разных столбцах:"
   ]
  },
  {
   "cell_type": "code",
   "execution_count": 6,
   "metadata": {},
   "outputs": [
    {
     "data": {
      "text/html": [
       "<style type=\"text/css\">\n",
       "#T_e9f32_row0_col0, #T_e9f32_row1_col0, #T_e9f32_row3_col0, #T_e9f32_row4_col0, #T_e9f32_row5_col0, #T_e9f32_row6_col0, #T_e9f32_row7_col0 {\n",
       "  background-color: #3b4cc0;\n",
       "  color: #f1f1f1;\n",
       "}\n",
       "#T_e9f32_row2_col0 {\n",
       "  background-color: #445acc;\n",
       "  color: #f1f1f1;\n",
       "}\n",
       "#T_e9f32_row8_col0 {\n",
       "  background-color: #b40426;\n",
       "  color: #f1f1f1;\n",
       "}\n",
       "#T_e9f32_row9_col0 {\n",
       "  background-color: #f18d6f;\n",
       "  color: #f1f1f1;\n",
       "}\n",
       "#T_e9f32_row10_col0 {\n",
       "  background-color: #f08a6c;\n",
       "  color: #f1f1f1;\n",
       "}\n",
       "</style>\n",
       "<table id=\"T_e9f32\">\n",
       "  <thead>\n",
       "    <tr>\n",
       "      <th class=\"blank level0\" >&nbsp;</th>\n",
       "      <th id=\"T_e9f32_level0_col0\" class=\"col_heading level0 col0\" >0</th>\n",
       "    </tr>\n",
       "  </thead>\n",
       "  <tbody>\n",
       "    <tr>\n",
       "      <th id=\"T_e9f32_level0_row0\" class=\"row_heading level0 row0\" >name</th>\n",
       "      <td id=\"T_e9f32_row0_col0\" class=\"data row0 col0\" >0.012000</td>\n",
       "    </tr>\n",
       "    <tr>\n",
       "      <th id=\"T_e9f32_level0_row1\" class=\"row_heading level0 row1\" >platform</th>\n",
       "      <td id=\"T_e9f32_row1_col0\" class=\"data row1 col0\" >0.000000</td>\n",
       "    </tr>\n",
       "    <tr>\n",
       "      <th id=\"T_e9f32_level0_row2\" class=\"row_heading level0 row2\" >year_of_release</th>\n",
       "      <td id=\"T_e9f32_row2_col0\" class=\"data row2 col0\" >1.609300</td>\n",
       "    </tr>\n",
       "    <tr>\n",
       "      <th id=\"T_e9f32_level0_row3\" class=\"row_heading level0 row3\" >genre</th>\n",
       "      <td id=\"T_e9f32_row3_col0\" class=\"data row3 col0\" >0.012000</td>\n",
       "    </tr>\n",
       "    <tr>\n",
       "      <th id=\"T_e9f32_level0_row4\" class=\"row_heading level0 row4\" >na_sales</th>\n",
       "      <td id=\"T_e9f32_row4_col0\" class=\"data row4 col0\" >0.000000</td>\n",
       "    </tr>\n",
       "    <tr>\n",
       "      <th id=\"T_e9f32_level0_row5\" class=\"row_heading level0 row5\" >eu_sales</th>\n",
       "      <td id=\"T_e9f32_row5_col0\" class=\"data row5 col0\" >0.000000</td>\n",
       "    </tr>\n",
       "    <tr>\n",
       "      <th id=\"T_e9f32_level0_row6\" class=\"row_heading level0 row6\" >jp_sales</th>\n",
       "      <td id=\"T_e9f32_row6_col0\" class=\"data row6 col0\" >0.000000</td>\n",
       "    </tr>\n",
       "    <tr>\n",
       "      <th id=\"T_e9f32_level0_row7\" class=\"row_heading level0 row7\" >other_sales</th>\n",
       "      <td id=\"T_e9f32_row7_col0\" class=\"data row7 col0\" >0.000000</td>\n",
       "    </tr>\n",
       "    <tr>\n",
       "      <th id=\"T_e9f32_level0_row8\" class=\"row_heading level0 row8\" >critic_score</th>\n",
       "      <td id=\"T_e9f32_row8_col0\" class=\"data row8 col0\" >51.319200</td>\n",
       "    </tr>\n",
       "    <tr>\n",
       "      <th id=\"T_e9f32_level0_row9\" class=\"row_heading level0 row9\" >user_score</th>\n",
       "      <td id=\"T_e9f32_row9_col0\" class=\"data row9 col0\" >40.089700</td>\n",
       "    </tr>\n",
       "    <tr>\n",
       "      <th id=\"T_e9f32_level0_row10\" class=\"row_heading level0 row10\" >rating</th>\n",
       "      <td id=\"T_e9f32_row10_col0\" class=\"data row10 col0\" >40.478600</td>\n",
       "    </tr>\n",
       "  </tbody>\n",
       "</table>\n"
      ],
      "text/plain": [
       "<pandas.io.formats.style.Styler at 0x22bcbca78b0>"
      ]
     },
     "execution_count": 6,
     "metadata": {},
     "output_type": "execute_result"
    }
   ],
   "source": [
    "pd.DataFrame(round(data.isna().mean()*100, 4)).style.background_gradient('coolwarm')"
   ]
  },
  {
   "cell_type": "markdown",
   "metadata": {},
   "source": [
    "**Пропусков в столбцах с названием, жанром и годом релиза очень мало** (менее 5% от общего объёма данных), **удалим их, и поменяем тип данных для столбца с годом релиза** на целочисленный:"
   ]
  },
  {
   "cell_type": "code",
   "execution_count": 7,
   "metadata": {},
   "outputs": [],
   "source": [
    "# удаляем строки с пропусками в столбцах 'name','genre', 'year_of_release' и обновляем индексы в датафрейме\n",
    "data = data.dropna(subset=['name', 'genre', 'year_of_release']).reset_index(drop=True)"
   ]
  },
  {
   "cell_type": "code",
   "execution_count": 8,
   "metadata": {},
   "outputs": [],
   "source": [
    "# меняем тип данных для столбца с годом релиза\n",
    "data['year_of_release'] = data['year_of_release'].astype(int) "
   ]
  },
  {
   "cell_type": "markdown",
   "metadata": {},
   "source": [
    "Посмотрим на **уникальные значения в столбце с оценками пользователей**:"
   ]
  },
  {
   "cell_type": "code",
   "execution_count": 9,
   "metadata": {},
   "outputs": [
    {
     "data": {
      "text/plain": [
       "array(['0', '0.2', '0.3', '0.5', '0.6', '0.7', '0.9', '1', '1.1', '1.2',\n",
       "       '1.3', '1.4', '1.5', '1.6', '1.7', '1.8', '1.9', '2', '2.1', '2.2',\n",
       "       '2.3', '2.4', '2.5', '2.6', '2.7', '2.8', '2.9', '3', '3.1', '3.2',\n",
       "       '3.3', '3.4', '3.5', '3.6', '3.7', '3.8', '3.9', '4', '4.1', '4.2',\n",
       "       '4.3', '4.4', '4.5', '4.6', '4.7', '4.8', '4.9', '5', '5.1', '5.2',\n",
       "       '5.3', '5.4', '5.5', '5.6', '5.7', '5.8', '5.9', '6', '6.1', '6.2',\n",
       "       '6.3', '6.4', '6.5', '6.6', '6.7', '6.8', '6.9', '7', '7.1', '7.2',\n",
       "       '7.3', '7.4', '7.5', '7.6', '7.7', '7.8', '7.9', '8', '8.1', '8.2',\n",
       "       '8.3', '8.4', '8.5', '8.6', '8.7', '8.8', '8.9', '9', '9.1', '9.2',\n",
       "       '9.3', '9.4', '9.5', '9.6', '9.7', 'tbd', nan], dtype=object)"
      ]
     },
     "execution_count": 9,
     "metadata": {},
     "output_type": "execute_result"
    }
   ],
   "source": [
    "data['user_score'].sort_values().unique() "
   ]
  },
  {
   "cell_type": "markdown",
   "metadata": {},
   "source": [
    "**Среди оценок имеется аббревиатура 'tbd'**, которая обычно расшифровывается как **'to be determined' (будет определена)**. В сущности, **можем рассматривать** эти значения **как пропуски**. "
   ]
  },
  {
   "cell_type": "code",
   "execution_count": 10,
   "metadata": {},
   "outputs": [],
   "source": [
    "# заменяем значения 'tbd' на пропуски\n",
    "data.loc[data['user_score'] == 'tbd', 'user_score'] = np.nan "
   ]
  },
  {
   "cell_type": "markdown",
   "metadata": {},
   "source": [
    "Теперь **можем сменить тип данных** данного столбца **на float**, чтобы иметь возможность обработать пропуски в данном столбце:"
   ]
  },
  {
   "cell_type": "code",
   "execution_count": 11,
   "metadata": {},
   "outputs": [],
   "source": [
    "data['user_score'] = data['user_score'].astype(float)"
   ]
  },
  {
   "cell_type": "markdown",
   "metadata": {},
   "source": [
    "**Пропуски в столбцах с оценками и рейтингом частично могут быть связаны с годом выпуска**. Едва ли система оценивания, тем более критиками была развита на заре компьютерных игр, а ESRB вообще была основана лишь в 1994 году. Посмотрим, действительно ли это так.  "
   ]
  },
  {
   "cell_type": "code",
   "execution_count": 12,
   "metadata": {},
   "outputs": [
    {
     "data": {
      "text/html": [
       "<div>\n",
       "<style scoped>\n",
       "    .dataframe tbody tr th:only-of-type {\n",
       "        vertical-align: middle;\n",
       "    }\n",
       "\n",
       "    .dataframe tbody tr th {\n",
       "        vertical-align: top;\n",
       "    }\n",
       "\n",
       "    .dataframe thead th {\n",
       "        text-align: right;\n",
       "    }\n",
       "</style>\n",
       "<table border=\"1\" class=\"dataframe\">\n",
       "  <thead>\n",
       "    <tr style=\"text-align: right;\">\n",
       "      <th></th>\n",
       "      <th>count</th>\n",
       "      <th>count_critic</th>\n",
       "      <th>count_user</th>\n",
       "      <th>count_rating</th>\n",
       "      <th>share_critic</th>\n",
       "      <th>share_user</th>\n",
       "      <th>share_rating</th>\n",
       "    </tr>\n",
       "    <tr>\n",
       "      <th>year_of_release</th>\n",
       "      <th></th>\n",
       "      <th></th>\n",
       "      <th></th>\n",
       "      <th></th>\n",
       "      <th></th>\n",
       "      <th></th>\n",
       "      <th></th>\n",
       "    </tr>\n",
       "  </thead>\n",
       "  <tbody>\n",
       "    <tr>\n",
       "      <th>1980</th>\n",
       "      <td>9</td>\n",
       "      <td>0</td>\n",
       "      <td>0</td>\n",
       "      <td>0</td>\n",
       "      <td>0.000000</td>\n",
       "      <td>0.000000</td>\n",
       "      <td>0.000000</td>\n",
       "    </tr>\n",
       "    <tr>\n",
       "      <th>1981</th>\n",
       "      <td>46</td>\n",
       "      <td>0</td>\n",
       "      <td>0</td>\n",
       "      <td>0</td>\n",
       "      <td>0.000000</td>\n",
       "      <td>0.000000</td>\n",
       "      <td>0.000000</td>\n",
       "    </tr>\n",
       "    <tr>\n",
       "      <th>1982</th>\n",
       "      <td>36</td>\n",
       "      <td>0</td>\n",
       "      <td>0</td>\n",
       "      <td>0</td>\n",
       "      <td>0.000000</td>\n",
       "      <td>0.000000</td>\n",
       "      <td>0.000000</td>\n",
       "    </tr>\n",
       "    <tr>\n",
       "      <th>1983</th>\n",
       "      <td>17</td>\n",
       "      <td>0</td>\n",
       "      <td>0</td>\n",
       "      <td>0</td>\n",
       "      <td>0.000000</td>\n",
       "      <td>0.000000</td>\n",
       "      <td>0.000000</td>\n",
       "    </tr>\n",
       "    <tr>\n",
       "      <th>1984</th>\n",
       "      <td>14</td>\n",
       "      <td>0</td>\n",
       "      <td>0</td>\n",
       "      <td>0</td>\n",
       "      <td>0.000000</td>\n",
       "      <td>0.000000</td>\n",
       "      <td>0.000000</td>\n",
       "    </tr>\n",
       "    <tr>\n",
       "      <th>1985</th>\n",
       "      <td>14</td>\n",
       "      <td>1</td>\n",
       "      <td>1</td>\n",
       "      <td>1</td>\n",
       "      <td>0.071429</td>\n",
       "      <td>0.071429</td>\n",
       "      <td>0.071429</td>\n",
       "    </tr>\n",
       "    <tr>\n",
       "      <th>1986</th>\n",
       "      <td>21</td>\n",
       "      <td>0</td>\n",
       "      <td>0</td>\n",
       "      <td>0</td>\n",
       "      <td>0.000000</td>\n",
       "      <td>0.000000</td>\n",
       "      <td>0.000000</td>\n",
       "    </tr>\n",
       "    <tr>\n",
       "      <th>1987</th>\n",
       "      <td>16</td>\n",
       "      <td>0</td>\n",
       "      <td>0</td>\n",
       "      <td>0</td>\n",
       "      <td>0.000000</td>\n",
       "      <td>0.000000</td>\n",
       "      <td>0.000000</td>\n",
       "    </tr>\n",
       "    <tr>\n",
       "      <th>1988</th>\n",
       "      <td>15</td>\n",
       "      <td>1</td>\n",
       "      <td>1</td>\n",
       "      <td>1</td>\n",
       "      <td>0.066667</td>\n",
       "      <td>0.066667</td>\n",
       "      <td>0.066667</td>\n",
       "    </tr>\n",
       "    <tr>\n",
       "      <th>1989</th>\n",
       "      <td>17</td>\n",
       "      <td>0</td>\n",
       "      <td>0</td>\n",
       "      <td>0</td>\n",
       "      <td>0.000000</td>\n",
       "      <td>0.000000</td>\n",
       "      <td>0.000000</td>\n",
       "    </tr>\n",
       "    <tr>\n",
       "      <th>1990</th>\n",
       "      <td>16</td>\n",
       "      <td>0</td>\n",
       "      <td>0</td>\n",
       "      <td>0</td>\n",
       "      <td>0.000000</td>\n",
       "      <td>0.000000</td>\n",
       "      <td>0.000000</td>\n",
       "    </tr>\n",
       "    <tr>\n",
       "      <th>1991</th>\n",
       "      <td>41</td>\n",
       "      <td>0</td>\n",
       "      <td>0</td>\n",
       "      <td>0</td>\n",
       "      <td>0.000000</td>\n",
       "      <td>0.000000</td>\n",
       "      <td>0.000000</td>\n",
       "    </tr>\n",
       "    <tr>\n",
       "      <th>1992</th>\n",
       "      <td>43</td>\n",
       "      <td>1</td>\n",
       "      <td>1</td>\n",
       "      <td>2</td>\n",
       "      <td>0.023256</td>\n",
       "      <td>0.023256</td>\n",
       "      <td>0.046512</td>\n",
       "    </tr>\n",
       "    <tr>\n",
       "      <th>1993</th>\n",
       "      <td>60</td>\n",
       "      <td>0</td>\n",
       "      <td>0</td>\n",
       "      <td>0</td>\n",
       "      <td>0.000000</td>\n",
       "      <td>0.000000</td>\n",
       "      <td>0.000000</td>\n",
       "    </tr>\n",
       "    <tr>\n",
       "      <th>1994</th>\n",
       "      <td>121</td>\n",
       "      <td>1</td>\n",
       "      <td>1</td>\n",
       "      <td>1</td>\n",
       "      <td>0.008264</td>\n",
       "      <td>0.008264</td>\n",
       "      <td>0.008264</td>\n",
       "    </tr>\n",
       "    <tr>\n",
       "      <th>1995</th>\n",
       "      <td>219</td>\n",
       "      <td>0</td>\n",
       "      <td>0</td>\n",
       "      <td>0</td>\n",
       "      <td>0.000000</td>\n",
       "      <td>0.000000</td>\n",
       "      <td>0.000000</td>\n",
       "    </tr>\n",
       "    <tr>\n",
       "      <th>1996</th>\n",
       "      <td>263</td>\n",
       "      <td>8</td>\n",
       "      <td>8</td>\n",
       "      <td>7</td>\n",
       "      <td>0.030418</td>\n",
       "      <td>0.030418</td>\n",
       "      <td>0.026616</td>\n",
       "    </tr>\n",
       "    <tr>\n",
       "      <th>1997</th>\n",
       "      <td>289</td>\n",
       "      <td>17</td>\n",
       "      <td>18</td>\n",
       "      <td>19</td>\n",
       "      <td>0.058824</td>\n",
       "      <td>0.062284</td>\n",
       "      <td>0.065744</td>\n",
       "    </tr>\n",
       "    <tr>\n",
       "      <th>1998</th>\n",
       "      <td>379</td>\n",
       "      <td>28</td>\n",
       "      <td>31</td>\n",
       "      <td>32</td>\n",
       "      <td>0.073879</td>\n",
       "      <td>0.081794</td>\n",
       "      <td>0.084433</td>\n",
       "    </tr>\n",
       "    <tr>\n",
       "      <th>1999</th>\n",
       "      <td>338</td>\n",
       "      <td>39</td>\n",
       "      <td>31</td>\n",
       "      <td>42</td>\n",
       "      <td>0.115385</td>\n",
       "      <td>0.091716</td>\n",
       "      <td>0.124260</td>\n",
       "    </tr>\n",
       "    <tr>\n",
       "      <th>2000</th>\n",
       "      <td>350</td>\n",
       "      <td>143</td>\n",
       "      <td>107</td>\n",
       "      <td>148</td>\n",
       "      <td>0.408571</td>\n",
       "      <td>0.305714</td>\n",
       "      <td>0.422857</td>\n",
       "    </tr>\n",
       "    <tr>\n",
       "      <th>2001</th>\n",
       "      <td>482</td>\n",
       "      <td>326</td>\n",
       "      <td>257</td>\n",
       "      <td>339</td>\n",
       "      <td>0.676349</td>\n",
       "      <td>0.533195</td>\n",
       "      <td>0.703320</td>\n",
       "    </tr>\n",
       "    <tr>\n",
       "      <th>2002</th>\n",
       "      <td>829</td>\n",
       "      <td>627</td>\n",
       "      <td>464</td>\n",
       "      <td>655</td>\n",
       "      <td>0.756333</td>\n",
       "      <td>0.559710</td>\n",
       "      <td>0.790109</td>\n",
       "    </tr>\n",
       "    <tr>\n",
       "      <th>2003</th>\n",
       "      <td>775</td>\n",
       "      <td>585</td>\n",
       "      <td>516</td>\n",
       "      <td>613</td>\n",
       "      <td>0.754839</td>\n",
       "      <td>0.665806</td>\n",
       "      <td>0.790968</td>\n",
       "    </tr>\n",
       "    <tr>\n",
       "      <th>2004</th>\n",
       "      <td>762</td>\n",
       "      <td>561</td>\n",
       "      <td>489</td>\n",
       "      <td>598</td>\n",
       "      <td>0.736220</td>\n",
       "      <td>0.641732</td>\n",
       "      <td>0.784777</td>\n",
       "    </tr>\n",
       "    <tr>\n",
       "      <th>2005</th>\n",
       "      <td>939</td>\n",
       "      <td>655</td>\n",
       "      <td>583</td>\n",
       "      <td>706</td>\n",
       "      <td>0.697551</td>\n",
       "      <td>0.620873</td>\n",
       "      <td>0.751864</td>\n",
       "    </tr>\n",
       "    <tr>\n",
       "      <th>2006</th>\n",
       "      <td>1006</td>\n",
       "      <td>620</td>\n",
       "      <td>552</td>\n",
       "      <td>678</td>\n",
       "      <td>0.616302</td>\n",
       "      <td>0.548708</td>\n",
       "      <td>0.673956</td>\n",
       "    </tr>\n",
       "    <tr>\n",
       "      <th>2007</th>\n",
       "      <td>1197</td>\n",
       "      <td>692</td>\n",
       "      <td>629</td>\n",
       "      <td>821</td>\n",
       "      <td>0.578112</td>\n",
       "      <td>0.525480</td>\n",
       "      <td>0.685881</td>\n",
       "    </tr>\n",
       "    <tr>\n",
       "      <th>2008</th>\n",
       "      <td>1427</td>\n",
       "      <td>715</td>\n",
       "      <td>661</td>\n",
       "      <td>981</td>\n",
       "      <td>0.501051</td>\n",
       "      <td>0.463210</td>\n",
       "      <td>0.687456</td>\n",
       "    </tr>\n",
       "    <tr>\n",
       "      <th>2009</th>\n",
       "      <td>1426</td>\n",
       "      <td>651</td>\n",
       "      <td>614</td>\n",
       "      <td>1011</td>\n",
       "      <td>0.456522</td>\n",
       "      <td>0.430575</td>\n",
       "      <td>0.708976</td>\n",
       "    </tr>\n",
       "    <tr>\n",
       "      <th>2010</th>\n",
       "      <td>1255</td>\n",
       "      <td>500</td>\n",
       "      <td>467</td>\n",
       "      <td>799</td>\n",
       "      <td>0.398406</td>\n",
       "      <td>0.372112</td>\n",
       "      <td>0.636653</td>\n",
       "    </tr>\n",
       "    <tr>\n",
       "      <th>2011</th>\n",
       "      <td>1136</td>\n",
       "      <td>500</td>\n",
       "      <td>501</td>\n",
       "      <td>703</td>\n",
       "      <td>0.440141</td>\n",
       "      <td>0.441021</td>\n",
       "      <td>0.618838</td>\n",
       "    </tr>\n",
       "    <tr>\n",
       "      <th>2012</th>\n",
       "      <td>653</td>\n",
       "      <td>321</td>\n",
       "      <td>339</td>\n",
       "      <td>355</td>\n",
       "      <td>0.491577</td>\n",
       "      <td>0.519142</td>\n",
       "      <td>0.543645</td>\n",
       "    </tr>\n",
       "    <tr>\n",
       "      <th>2013</th>\n",
       "      <td>544</td>\n",
       "      <td>273</td>\n",
       "      <td>304</td>\n",
       "      <td>316</td>\n",
       "      <td>0.501838</td>\n",
       "      <td>0.558824</td>\n",
       "      <td>0.580882</td>\n",
       "    </tr>\n",
       "    <tr>\n",
       "      <th>2014</th>\n",
       "      <td>581</td>\n",
       "      <td>261</td>\n",
       "      <td>329</td>\n",
       "      <td>345</td>\n",
       "      <td>0.449225</td>\n",
       "      <td>0.566265</td>\n",
       "      <td>0.593804</td>\n",
       "    </tr>\n",
       "    <tr>\n",
       "      <th>2015</th>\n",
       "      <td>606</td>\n",
       "      <td>225</td>\n",
       "      <td>297</td>\n",
       "      <td>315</td>\n",
       "      <td>0.371287</td>\n",
       "      <td>0.490099</td>\n",
       "      <td>0.519802</td>\n",
       "    </tr>\n",
       "    <tr>\n",
       "      <th>2016</th>\n",
       "      <td>502</td>\n",
       "      <td>232</td>\n",
       "      <td>262</td>\n",
       "      <td>280</td>\n",
       "      <td>0.462151</td>\n",
       "      <td>0.521912</td>\n",
       "      <td>0.557769</td>\n",
       "    </tr>\n",
       "  </tbody>\n",
       "</table>\n",
       "</div>"
      ],
      "text/plain": [
       "                 count  count_critic  count_user  count_rating  share_critic  \\\n",
       "year_of_release                                                                \n",
       "1980                 9             0           0             0      0.000000   \n",
       "1981                46             0           0             0      0.000000   \n",
       "1982                36             0           0             0      0.000000   \n",
       "1983                17             0           0             0      0.000000   \n",
       "1984                14             0           0             0      0.000000   \n",
       "1985                14             1           1             1      0.071429   \n",
       "1986                21             0           0             0      0.000000   \n",
       "1987                16             0           0             0      0.000000   \n",
       "1988                15             1           1             1      0.066667   \n",
       "1989                17             0           0             0      0.000000   \n",
       "1990                16             0           0             0      0.000000   \n",
       "1991                41             0           0             0      0.000000   \n",
       "1992                43             1           1             2      0.023256   \n",
       "1993                60             0           0             0      0.000000   \n",
       "1994               121             1           1             1      0.008264   \n",
       "1995               219             0           0             0      0.000000   \n",
       "1996               263             8           8             7      0.030418   \n",
       "1997               289            17          18            19      0.058824   \n",
       "1998               379            28          31            32      0.073879   \n",
       "1999               338            39          31            42      0.115385   \n",
       "2000               350           143         107           148      0.408571   \n",
       "2001               482           326         257           339      0.676349   \n",
       "2002               829           627         464           655      0.756333   \n",
       "2003               775           585         516           613      0.754839   \n",
       "2004               762           561         489           598      0.736220   \n",
       "2005               939           655         583           706      0.697551   \n",
       "2006              1006           620         552           678      0.616302   \n",
       "2007              1197           692         629           821      0.578112   \n",
       "2008              1427           715         661           981      0.501051   \n",
       "2009              1426           651         614          1011      0.456522   \n",
       "2010              1255           500         467           799      0.398406   \n",
       "2011              1136           500         501           703      0.440141   \n",
       "2012               653           321         339           355      0.491577   \n",
       "2013               544           273         304           316      0.501838   \n",
       "2014               581           261         329           345      0.449225   \n",
       "2015               606           225         297           315      0.371287   \n",
       "2016               502           232         262           280      0.462151   \n",
       "\n",
       "                 share_user  share_rating  \n",
       "year_of_release                            \n",
       "1980               0.000000      0.000000  \n",
       "1981               0.000000      0.000000  \n",
       "1982               0.000000      0.000000  \n",
       "1983               0.000000      0.000000  \n",
       "1984               0.000000      0.000000  \n",
       "1985               0.071429      0.071429  \n",
       "1986               0.000000      0.000000  \n",
       "1987               0.000000      0.000000  \n",
       "1988               0.066667      0.066667  \n",
       "1989               0.000000      0.000000  \n",
       "1990               0.000000      0.000000  \n",
       "1991               0.000000      0.000000  \n",
       "1992               0.023256      0.046512  \n",
       "1993               0.000000      0.000000  \n",
       "1994               0.008264      0.008264  \n",
       "1995               0.000000      0.000000  \n",
       "1996               0.030418      0.026616  \n",
       "1997               0.062284      0.065744  \n",
       "1998               0.081794      0.084433  \n",
       "1999               0.091716      0.124260  \n",
       "2000               0.305714      0.422857  \n",
       "2001               0.533195      0.703320  \n",
       "2002               0.559710      0.790109  \n",
       "2003               0.665806      0.790968  \n",
       "2004               0.641732      0.784777  \n",
       "2005               0.620873      0.751864  \n",
       "2006               0.548708      0.673956  \n",
       "2007               0.525480      0.685881  \n",
       "2008               0.463210      0.687456  \n",
       "2009               0.430575      0.708976  \n",
       "2010               0.372112      0.636653  \n",
       "2011               0.441021      0.618838  \n",
       "2012               0.519142      0.543645  \n",
       "2013               0.558824      0.580882  \n",
       "2014               0.566265      0.593804  \n",
       "2015               0.490099      0.519802  \n",
       "2016               0.521912      0.557769  "
      ]
     },
     "execution_count": 12,
     "metadata": {},
     "output_type": "execute_result"
    }
   ],
   "source": [
    "# создаём сводные таблицы, содержащие общее число игр, число оценок критиков и пользователей и рейтинг игр по годам\n",
    "stat_score = data.pivot_table(index='year_of_release', values='name', aggfunc='count')\n",
    "count_critic = data.pivot_table(index='year_of_release', values='critic_score', aggfunc='count')\n",
    "count_user = data.pivot_table(index='year_of_release', values='user_score', aggfunc='count')\n",
    "count_rating = data.pivot_table(index='year_of_release', values='rating', aggfunc='count')\n",
    "\n",
    "# объединяем в общую сводную таблицу\n",
    "stat_score = stat_score.join([count_critic, count_user, count_rating]) \n",
    "\n",
    "# переименовываем столбцы\n",
    "stat_score.columns = ['count', 'count_critic', 'count_user', 'count_rating'] \n",
    "\n",
    "# добавляем столбцы, содержащие долю оценённых игр и получивших рейтинг\n",
    "stat_score['share_critic'] = stat_score['count_critic'] / stat_score['count']\n",
    "stat_score['share_user'] = stat_score['count_user'] / stat_score['count']\n",
    "stat_score['share_rating'] = stat_score['count_rating'] / stat_score['count']\n",
    "\n",
    "stat_score"
   ]
  },
  {
   "cell_type": "markdown",
   "metadata": {},
   "source": [
    "Несмотря на то, что доля пропусков в ранние года действительно крайне высока, **к интересующему нас моменту их всё ещё достаточно много - около 50%**, но их **заполнение** даже медианным значением, **может привести к искажению результатов** исследования. Поэтому **пропуски в столбцах с оценками критиков и пользователей трогать не будем, а пропуски в столбце с рейтингами заменим на значение \"unrating\"**."
   ]
  },
  {
   "cell_type": "code",
   "execution_count": 13,
   "metadata": {},
   "outputs": [],
   "source": [
    "data['rating'] = data['rating'].fillna('unrating')"
   ]
  },
  {
   "cell_type": "markdown",
   "metadata": {},
   "source": [
    "**Проверим наличие явных дубликатов:**"
   ]
  },
  {
   "cell_type": "code",
   "execution_count": 14,
   "metadata": {},
   "outputs": [
    {
     "data": {
      "text/plain": [
       "0"
      ]
     },
     "execution_count": 14,
     "metadata": {},
     "output_type": "execute_result"
    }
   ],
   "source": [
    "data.duplicated().sum() "
   ]
  },
  {
   "cell_type": "markdown",
   "metadata": {},
   "source": [
    "**Явных дубликатов нет.** \n",
    "\n",
    "Для дальнейшей работы нам потребуются **данные о суммарных продажах** во всех регионах, **создадим столбец *'total_sales'***, который будет хранить эту информацию:"
   ]
  },
  {
   "cell_type": "code",
   "execution_count": 15,
   "metadata": {},
   "outputs": [],
   "source": [
    "data['total_sales'] = data[['na_sales', 'jp_sales', 'eu_sales', 'other_sales']].sum(axis=1) "
   ]
  },
  {
   "cell_type": "markdown",
   "metadata": {},
   "source": [
    "## Исследовательский анализ данных"
   ]
  },
  {
   "cell_type": "markdown",
   "metadata": {},
   "source": [
    "Посмотрим на **динамику выпуска игр по годам**:"
   ]
  },
  {
   "cell_type": "code",
   "execution_count": 16,
   "metadata": {},
   "outputs": [
    {
     "data": {
      "image/png": "[encoded data removed]",
      "text/plain": [
       "<Figure size 1500x500 with 1 Axes>"
      ]
     },
     "metadata": {},
     "output_type": "display_data"
    }
   ],
   "source": [
    "# построение гистограммы\n",
    "plt.figure(figsize=(15, 5))\n",
    "\n",
    "sns.histplot(data['year_of_release']) \n",
    "plt.title('Количество выпущенных игр по годам')\n",
    "plt.ylabel('Количество')\n",
    "plt.xlabel('Год')\n",
    "plt.grid(True);"
   ]
  },
  {
   "cell_type": "markdown",
   "metadata": {},
   "source": [
    "Число игр, выпущенных до 1995 года исчезающе мало. **Основная масса данных приходится на период 2000-2016 гг**. При этом **число выпускаемых игр, начиная с 2011 года, упало почти в 2 раза** в сравнении с пиковыми значениями."
   ]
  },
  {
   "cell_type": "markdown",
   "metadata": {},
   "source": [
    "### Изменение продаж по платформам"
   ]
  },
  {
   "cell_type": "markdown",
   "metadata": {},
   "source": [
    "Посмотрим на платформы с наибольшим числом продаж:"
   ]
  },
  {
   "cell_type": "code",
   "execution_count": 17,
   "metadata": {},
   "outputs": [
    {
     "data": {
      "text/html": [
       "<div>\n",
       "<style scoped>\n",
       "    .dataframe tbody tr th:only-of-type {\n",
       "        vertical-align: middle;\n",
       "    }\n",
       "\n",
       "    .dataframe tbody tr th {\n",
       "        vertical-align: top;\n",
       "    }\n",
       "\n",
       "    .dataframe thead th {\n",
       "        text-align: right;\n",
       "    }\n",
       "</style>\n",
       "<table border=\"1\" class=\"dataframe\">\n",
       "  <thead>\n",
       "    <tr style=\"text-align: right;\">\n",
       "      <th></th>\n",
       "      <th>total_sales</th>\n",
       "    </tr>\n",
       "    <tr>\n",
       "      <th>platform</th>\n",
       "      <th></th>\n",
       "    </tr>\n",
       "  </thead>\n",
       "  <tbody>\n",
       "    <tr>\n",
       "      <th>PS2</th>\n",
       "      <td>1233.56</td>\n",
       "    </tr>\n",
       "    <tr>\n",
       "      <th>X360</th>\n",
       "      <td>961.24</td>\n",
       "    </tr>\n",
       "    <tr>\n",
       "      <th>PS3</th>\n",
       "      <td>931.34</td>\n",
       "    </tr>\n",
       "    <tr>\n",
       "      <th>Wii</th>\n",
       "      <td>891.18</td>\n",
       "    </tr>\n",
       "    <tr>\n",
       "      <th>DS</th>\n",
       "      <td>802.78</td>\n",
       "    </tr>\n",
       "    <tr>\n",
       "      <th>PS</th>\n",
       "      <td>727.58</td>\n",
       "    </tr>\n",
       "    <tr>\n",
       "      <th>PS4</th>\n",
       "      <td>314.14</td>\n",
       "    </tr>\n",
       "    <tr>\n",
       "      <th>GBA</th>\n",
       "      <td>312.88</td>\n",
       "    </tr>\n",
       "    <tr>\n",
       "      <th>PSP</th>\n",
       "      <td>289.53</td>\n",
       "    </tr>\n",
       "    <tr>\n",
       "      <th>3DS</th>\n",
       "      <td>257.81</td>\n",
       "    </tr>\n",
       "  </tbody>\n",
       "</table>\n",
       "</div>"
      ],
      "text/plain": [
       "          total_sales\n",
       "platform             \n",
       "PS2           1233.56\n",
       "X360           961.24\n",
       "PS3            931.34\n",
       "Wii            891.18\n",
       "DS             802.78\n",
       "PS             727.58\n",
       "PS4            314.14\n",
       "GBA            312.88\n",
       "PSP            289.53\n",
       "3DS            257.81"
      ]
     },
     "execution_count": 17,
     "metadata": {},
     "output_type": "execute_result"
    }
   ],
   "source": [
    "# создание сводной таблицы суммарных продаж по платформам, сортировка по убыванию и вывод 10 первых строк\n",
    "(data.pivot_table(index='platform', values='total_sales', aggfunc='sum')\n",
    "     .sort_values(by='total_sales', ascending=False)\n",
    "     .head(10))"
   ]
  },
  {
   "cell_type": "markdown",
   "metadata": {},
   "source": [
    "**Лидерами продаж** среди платформ являются **PS2, X360, PS3, Wii, DS и PS**. Посмотрим на изменение числа продаж для этих платформ по годам."
   ]
  },
  {
   "cell_type": "markdown",
   "metadata": {},
   "source": [
    "### Определение времени жизни платформы"
   ]
  },
  {
   "cell_type": "code",
   "execution_count": 18,
   "metadata": {},
   "outputs": [],
   "source": [
    "# создание сводных таблиц с данными о суммарных продажах по годам для выбранных платформ\n",
    "ps2_sales = data.query('platform == \"PS2\"').pivot_table(index='year_of_release', values='total_sales', aggfunc='sum')\n",
    "x360_sales = data.query('platform == \"X360\"').pivot_table(index='year_of_release', values='total_sales', aggfunc='sum')\n",
    "ps3_sales = data.query('platform == \"PS3\"').pivot_table(index='year_of_release', values='total_sales', aggfunc='sum')\n",
    "wii_sales = data.query('platform == \"Wii\"').pivot_table(index='year_of_release', values='total_sales', aggfunc='sum')\n",
    "ds_sales = data.query('platform == \"DS\"').pivot_table(index='year_of_release', values='total_sales', aggfunc='sum')\n",
    "ps_sales = data.query('platform == \"PS\"').pivot_table(index='year_of_release', values='total_sales', aggfunc='sum')"
   ]
  },
  {
   "cell_type": "code",
   "execution_count": 19,
   "metadata": {},
   "outputs": [
    {
     "data": {
      "image/png": "[encoded data removed]",
      "text/plain": [
       "<Figure size 1500x500 with 1 Axes>"
      ]
     },
     "metadata": {},
     "output_type": "display_data"
    }
   ],
   "source": [
    "# построение графиков изменения суммарных продаж по годам для выбранных платформ\n",
    "plt.figure(figsize=(15, 5))\n",
    "\n",
    "plt.plot(ps2_sales, label='Суммарные продажи PS2')\n",
    "plt.plot(x360_sales, label='Суммарные продажи X360')\n",
    "plt.plot(ps3_sales, label='Суммарные продажи PS3')\n",
    "plt.plot(wii_sales, label='Суммарные продажи Wii')\n",
    "plt.plot(ds_sales, label='Суммарные продажи DS')\n",
    "plt.plot(ps_sales, label='Суммарные продажи PS')\n",
    "\n",
    "plt.title(label='Динамика продаж игр на самых популярных платформах')\n",
    "plt.xlabel('Год')\n",
    "plt.ylabel('Продажи')\n",
    "plt.legend()\n",
    "plt.grid(True)\n",
    "plt.show();"
   ]
  },
  {
   "cell_type": "markdown",
   "metadata": {},
   "source": [
    "По графикам видно, что **характерное время жизни платформ - 10 лет**. Немного выбивается DS, но и для неё основной объм продаж укладывается в 10 лет. В связи с этим для дальнейшего исследования **в качестве актуального периода выберем 5 лет** (половина жизни платформы), т.е. **период с 2012 по 2016 годы**.  "
   ]
  },
  {
   "cell_type": "markdown",
   "metadata": {},
   "source": [
    "### Работа с данными за актуальный период"
   ]
  },
  {
   "cell_type": "markdown",
   "metadata": {},
   "source": [
    "#### Определение лидеров продаж среди платформ"
   ]
  },
  {
   "cell_type": "code",
   "execution_count": 20,
   "metadata": {},
   "outputs": [
    {
     "data": {
      "text/plain": [
       "(2886, 12)"
      ]
     },
     "execution_count": 20,
     "metadata": {},
     "output_type": "execute_result"
    }
   ],
   "source": [
    "# сохраняем данные за актуальный период в переменную actual_data\n",
    "actual_data = data.query('2012 <= year_of_release <= 2016')\n",
    "# выводим размер получившегося среза\n",
    "actual_data.shape  "
   ]
  },
  {
   "cell_type": "markdown",
   "metadata": {},
   "source": [
    "В срез попало 2886 строк. **Посмотрим на лидеров продаж за этот период**:"
   ]
  },
  {
   "cell_type": "code",
   "execution_count": 21,
   "metadata": {},
   "outputs": [],
   "source": [
    "# создание сводной таблицы суммарных продаж по платформам за 2012-2016 гг. \n",
    "sales_for_platform = actual_data.pivot_table(index='platform', values='total_sales', aggfunc='sum')\n",
    "# создаём столбец с жанром\n",
    "sales_for_platform['platform'] = sales_for_platform.index "
   ]
  },
  {
   "cell_type": "code",
   "execution_count": 22,
   "metadata": {},
   "outputs": [
    {
     "data": {
      "image/png": "[encoded data removed]",
      "text/plain": [
       "<Figure size 1500x500 with 1 Axes>"
      ]
     },
     "metadata": {},
     "output_type": "display_data"
    }
   ],
   "source": [
    "# построение столбчатой диаграммы для суммарных продаж по платформам за 2012-2016 гг. \n",
    "plt.figure(figsize=(15, 5))\n",
    "\n",
    "sns.barplot(x=sales_for_platform['platform'], y=sales_for_platform['total_sales']) \n",
    "plt.title('Глобальные продажи игр на разных платформах за 2012-2016 гг.')\n",
    "plt.ylabel('Глобальные продажи')\n",
    "plt.xlabel('Платформы')\n",
    "plt.grid(True);       "
   ]
  },
  {
   "cell_type": "markdown",
   "metadata": {},
   "source": [
    "**Лидерами продаж за актуальный период явлются платформы PS4, PS3, X360, 3DS, XOne**, остальные существенно отстают от них. При этом уже видели, что **продажи на платформах PS3 и X360 к 2016 году упали практически до нуля.** То же можно сказать и о Wii и DS. **Визуализируем динамику продаж для оставшихся семи платформ**."
   ]
  },
  {
   "cell_type": "code",
   "execution_count": 23,
   "metadata": {},
   "outputs": [],
   "source": [
    "# создание сводных таблиц с данными о суммарных продажах за период 2012-2016 гг. для выбранных платформ\n",
    "ps4_sales = actual_data.query('platform == \"PS4\"').pivot_table(index='year_of_release', values='total_sales', aggfunc='sum')\n",
    "sales_3ds = actual_data.query('platform == \"3DS\"').pivot_table(index='year_of_release', values='total_sales', aggfunc='sum')\n",
    "wiiu_sales = actual_data.query('platform == \"WiiU\"').pivot_table(index='year_of_release', values='total_sales', aggfunc='sum')\n",
    "xone_sales = actual_data.query('platform == \"XOne\"').pivot_table(index='year_of_release', values='total_sales', aggfunc='sum')\n",
    "pc_sales = actual_data.query('platform == \"PC\"').pivot_table(index='year_of_release', values='total_sales', aggfunc='sum')\n",
    "psv_sales = actual_data.query('platform == \"PSV\"').pivot_table(index='year_of_release', values='total_sales', aggfunc='sum')\n",
    "psp_sales = actual_data.query('platform == \"PSP\"').pivot_table(index='year_of_release', values='total_sales', aggfunc='sum')"
   ]
  },
  {
   "cell_type": "code",
   "execution_count": 24,
   "metadata": {},
   "outputs": [
    {
     "data": {
      "image/png": "[encoded data removed]",
      "text/plain": [
       "<Figure size 1500x500 with 1 Axes>"
      ]
     },
     "metadata": {},
     "output_type": "display_data"
    }
   ],
   "source": [
    "# построение графиков изменения суммарных продаж за период 2012-2016 гг. для выбранных платформ\n",
    "plt.figure(figsize=(15, 5))\n",
    "\n",
    "plt.plot(ps4_sales, label='Суммарные продажи PS4')\n",
    "plt.plot(sales_3ds, label='Суммарные продажи 3DS')\n",
    "plt.plot(xone_sales, label='Суммарные продажи XOne')\n",
    "plt.plot(wiiu_sales, label='Суммарные продажи WiiU')\n",
    "plt.plot(pc_sales, label='Суммарные продажи PC')\n",
    "plt.plot(psv_sales, label='Суммарные продажи PSV')\n",
    "plt.plot(psp_sales, label='Суммарные продажи PSP')\n",
    "\n",
    "plt.title(label='Динамика продаж для выбранных платфом за 2012-2016 гг.')\n",
    "plt.xlabel('Год')\n",
    "plt.ylabel('Продажи')\n",
    "plt.legend()\n",
    "plt.grid(True)\n",
    "plt.show();"
   ]
  },
  {
   "cell_type": "markdown",
   "metadata": {},
   "source": [
    "**Для всех** рассматриваемых платформ **наблюдается спад числа продаж**. При этом **PS4 и XOne** находятся **в середине своего цикла жизни и являются лидерами продаж на 2016 год**. Стоит обратить внимание и на **3DS** - несмотря на **более низкие общие показатели, спад числа продаж не такой резкий**, как для PS4 и XOne, что **может привести со временем к выравниванию этих показетелей для всех трёх платформ**. Посмотрим на **разброс глобальных продаж для этих платформ**:"
   ]
  },
  {
   "cell_type": "code",
   "execution_count": 25,
   "metadata": {},
   "outputs": [],
   "source": [
    "# срез данных за актуальный период 2012-2016 гг. для платформ PS4, XOne и 3DS \n",
    "actual_platform = actual_data.query('(platform == \"PS4\") or (platform == \"XOne\") or (platform == \"3DS\")')"
   ]
  },
  {
   "cell_type": "code",
   "execution_count": 26,
   "metadata": {},
   "outputs": [
    {
     "data": {
      "image/png": "[encoded data removed]",
      "text/plain": [
       "<Figure size 1500x500 with 1 Axes>"
      ]
     },
     "metadata": {},
     "output_type": "display_data"
    }
   ],
   "source": [
    "# построение диаграмм размаха глобальных продаж для платформ PS4, XOne и 3DS за 2012-2016 гг.\n",
    "plt.figure(figsize=(15, 5))\n",
    "\n",
    "(sns.boxplot(data=actual_platform, y='total_sales', x='platform')\n",
    "    .set(title='Глобальные продажи по платформам', xlabel='Платформы', ylabel='Глобальные продажи'))\n",
    "\n",
    "plt.ylim(0, 2.5);"
   ]
  },
  {
   "cell_type": "markdown",
   "metadata": {},
   "source": [
    "**3DS сильно уступает PS4 и XOne**, как по медианному значению глобальных продаж, так и в целом по их разбросу. **PS4 и XOne достаточно похожи**. При этом **медианное значение продаж у XOne немного выше**, в то время как **у PS4 несколько выше межквартильный размах**. Таким образом, **самой перспективной платформой для релиза новых игр является PS4, немного ей уступает XOne**."
   ]
  },
  {
   "cell_type": "markdown",
   "metadata": {},
   "source": [
    "#### Влияние оценок критиков и пользователей на продажи"
   ]
  },
  {
   "cell_type": "markdown",
   "metadata": {},
   "source": [
    "Посмотрим, **как влияют отзывы критиков и пользователей на продажи внутри перспективных платформ**:"
   ]
  },
  {
   "cell_type": "code",
   "execution_count": 27,
   "metadata": {},
   "outputs": [],
   "source": [
    "# срезы данных по платформам\n",
    "actual_data_ps4 = actual_data.query('platform == \"PS4\"') \n",
    "actual_data_xone = actual_data.query('platform == \"XOne\"')\n",
    "actual_data_3ds = actual_data.query('platform == \"3DS\"')"
   ]
  },
  {
   "cell_type": "code",
   "execution_count": 28,
   "metadata": {},
   "outputs": [
    {
     "data": {
      "image/png": "[encoded data removed]",
      "text/plain": [
       "<Figure size 1500x1000 with 6 Axes>"
      ]
     },
     "metadata": {},
     "output_type": "display_data"
    }
   ],
   "source": [
    "# построение диаграмм рассеяния\n",
    "fig = plt.figure(figsize=(15, 10))\n",
    "\n",
    "fig.add_subplot(321)\n",
    "sns.scatterplot(data=actual_data_ps4, x='critic_score', y='total_sales', alpha=0.5) \n",
    "plt.title('Зависимость глобальных продаж от оценок критиков для PS4')\n",
    "plt.xlabel('Оценки критиков')\n",
    "plt.ylabel('Глобальные продажи')\n",
    "plt.grid(True)\n",
    "\n",
    "fig.add_subplot(322)\n",
    "sns.scatterplot(data=actual_data_ps4, x='user_score', y='total_sales', alpha=0.5) \n",
    "plt.title('Зависимость глобальных продаж от оценок пользователей для PS4')\n",
    "plt.xlabel('Оценки пользователей')\n",
    "plt.ylabel('Глобальные продажи')\n",
    "plt.grid(True)\n",
    "\n",
    "fig.add_subplot(323)\n",
    "sns.scatterplot(data=actual_data_xone, x='critic_score', y='total_sales', alpha=0.5) \n",
    "plt.title('Зависимость глобальных продаж от оценок критиков для XOne')\n",
    "plt.xlabel('Оценки критиков')\n",
    "plt.ylabel('Глобальные продажи')\n",
    "plt.grid(True)\n",
    "\n",
    "fig.add_subplot(324)\n",
    "sns.scatterplot(data=actual_data_xone, x='user_score', y='total_sales', alpha=0.5) \n",
    "plt.title('Зависимость глобальных продаж от оценок пользователей для XOne')\n",
    "plt.xlabel('Оценки пользователей')\n",
    "plt.ylabel('Глобальные продажи')\n",
    "plt.grid(True)\n",
    "\n",
    "fig.add_subplot(325)\n",
    "sns.scatterplot(data=actual_data_3ds, x='critic_score', y='total_sales', alpha=0.5)\n",
    "plt.title('Зависимость глобальных продаж от оценок критиков для 3DS')\n",
    "plt.xlabel('Оценки критиков')\n",
    "plt.ylabel('Глобальные продажи')\n",
    "plt.grid(True)\n",
    "\n",
    "fig.add_subplot(326)\n",
    "sns.scatterplot(data=actual_data_3ds, x='user_score', y='total_sales', alpha=0.5) \n",
    "plt.title('Зависимость глобальных продаж от оценок пользователей для 3DS')\n",
    "plt.xlabel('Оценки пользователей')\n",
    "plt.ylabel('Глобальные продажи')\n",
    "plt.grid(True)\n",
    "\n",
    "plt.tight_layout()\n",
    "plt.show();"
   ]
  },
  {
   "cell_type": "markdown",
   "metadata": {},
   "source": [
    "Также рассчитаем **коэффициенты корреляции Пирсона**: "
   ]
  },
  {
   "cell_type": "code",
   "execution_count": 29,
   "metadata": {},
   "outputs": [
    {
     "name": "stdout",
     "output_type": "stream",
     "text": [
      "Коэффициент корреляции глобальных продаж с оценками критиков \n",
      "\n",
      "PS4: 0.41\n",
      "XOne: 0.42\n",
      "3DS: 0.32\n"
     ]
    }
   ],
   "source": [
    "print('Коэффициент корреляции глобальных продаж с оценками критиков', '\\n')\n",
    "print('PS4:', round(actual_data_ps4['total_sales'].corr(actual_data_ps4['critic_score']), 2))\n",
    "print('XOne:', round(actual_data_xone['total_sales'].corr(actual_data_xone['critic_score']), 2))\n",
    "print('3DS:', round(actual_data_3ds['total_sales'].corr(actual_data_3ds['critic_score']), 2))"
   ]
  },
  {
   "cell_type": "code",
   "execution_count": 30,
   "metadata": {},
   "outputs": [
    {
     "name": "stdout",
     "output_type": "stream",
     "text": [
      "Коэффициент корреляции глобальных продаж с оценками пользователей \n",
      "\n",
      "PS4: -0.03\n",
      "XOne: -0.07\n",
      "3DS: 0.2\n"
     ]
    }
   ],
   "source": [
    "print('Коэффициент корреляции глобальных продаж с оценками пользователей', '\\n')\n",
    "print('PS4:', round(actual_data_ps4['total_sales'].corr(actual_data_ps4['user_score']), 2))\n",
    "print('XOne:', round(actual_data_xone['total_sales'].corr(actual_data_xone['user_score']), 2))\n",
    "print('3DS:', round(actual_data_3ds['total_sales'].corr(actual_data_3ds['user_score']), 2))"
   ]
  },
  {
   "cell_type": "markdown",
   "metadata": {},
   "source": [
    "**Линейной зависимости между глобальными продажами и оценками пользователей нет**, об этом говорит и коэффициент Пирсона почти равный нулю, и вид диаграммы рассеяния. **Между оценками критиков и глобальными продажами также нет сильной корреляции, но она намного более выраженная** (коэффициент Пирсона 0.3-0.4). Некоторые отличия для 3DS связаны, скорее всего, с заметно меньшим объёмам данных по этой платформе."
   ]
  },
  {
   "cell_type": "markdown",
   "metadata": {},
   "source": [
    "#### Влияние жанра игры на продажи"
   ]
  },
  {
   "cell_type": "markdown",
   "metadata": {},
   "source": [
    "Посмотрим, как влияет жанр игр на их продажи:"
   ]
  },
  {
   "cell_type": "code",
   "execution_count": 31,
   "metadata": {},
   "outputs": [],
   "source": [
    "# создание сводной таблицы суммарных продаж по жанрам за 2012-2016 гг. \n",
    "sales_for_genre = actual_data.pivot_table(index='genre', values='total_sales', aggfunc='sum')\n",
    "\n",
    "# создаём столбец с жанром  \n",
    "sales_for_genre['genre'] = sales_for_genre.index "
   ]
  },
  {
   "cell_type": "code",
   "execution_count": 32,
   "metadata": {},
   "outputs": [
    {
     "data": {
      "image/png": "[encoded data removed]",
      "text/plain": [
       "<Figure size 1500x500 with 1 Axes>"
      ]
     },
     "metadata": {},
     "output_type": "display_data"
    }
   ],
   "source": [
    "# построение столбчатой диаграммы для суммарных продаж по жанрам за 2012-2016 гг.\n",
    "plt.figure(figsize=(15, 5))\n",
    "\n",
    "sns.barplot(x=sales_for_genre['genre'], y=sales_for_genre['total_sales']) \n",
    "plt.title('Глобальные продажи игр разных жанров за 2012-2016 гг.')\n",
    "plt.ylabel('Глобальные продажи')\n",
    "plt.xlabel('Жанр')\n",
    "plt.grid(True);             "
   ]
  },
  {
   "cell_type": "markdown",
   "metadata": {},
   "source": [
    "**Самыми прибыльными являются игры в жанрах Action. Также выделяются продажи игр в жанрах Shooter, Role-Playing и Sports**. Особенно низкие показатели продаж среди жанров Puzzele и Strategy. Высокие показатели отдельных жанров могут быть связаны с совокупным числом выпускаемых игр данного жанра:"
   ]
  },
  {
   "cell_type": "code",
   "execution_count": 33,
   "metadata": {
    "scrolled": true
   },
   "outputs": [],
   "source": [
    "# создание сводной таблицы с числом выпускаемых игр разных жанров за 2012-2016 гг. \n",
    "genre = actual_data.pivot_table(index='genre', values='name', aggfunc=('count'))\n",
    "\n",
    "# создаём столбец с жанром\n",
    "genre['genre'] = genre.index "
   ]
  },
  {
   "cell_type": "code",
   "execution_count": 34,
   "metadata": {},
   "outputs": [
    {
     "data": {
      "image/png": "[encoded data removed]",
      "text/plain": [
       "<Figure size 1500x500 with 1 Axes>"
      ]
     },
     "metadata": {},
     "output_type": "display_data"
    }
   ],
   "source": [
    "# построение столбчатой диаграммы для числа выпускаемых игр разных жанров за 2012-2016 гг.\n",
    "plt.figure(figsize=(15, 5))\n",
    "\n",
    "sns.barplot(x=genre['genre'], y=genre['name']) \n",
    "plt.title('Количество игр разных жанров за 2012-2016 гг.')\n",
    "plt.ylabel('Количество игр')\n",
    "plt.xlabel('Жанр')\n",
    "plt.grid(True);             "
   ]
  },
  {
   "cell_type": "markdown",
   "metadata": {},
   "source": [
    "Действительно, **если сравнивать глобальные продажи игр определённого жанра с число выпускаемых игр, наблюдается сходство**. Наиболее сильно из него выпадает жанр Adventure - несмотря на немалое число игр этого жанра, показатели продаж у него довольно маленькие."
   ]
  },
  {
   "cell_type": "markdown",
   "metadata": {},
   "source": [
    "**Посмотрим также на медианные продажи**, чтобы понять сколько обычно приносит игра каждого жанра:"
   ]
  },
  {
   "cell_type": "code",
   "execution_count": 35,
   "metadata": {},
   "outputs": [],
   "source": [
    "# создание сводной таблицы с числом выпускаемых игр разных жанров за 2012-2016 гг. \n",
    "genre_median_sales = actual_data.pivot_table(index='genre', values='total_sales', aggfunc='median')\n",
    "# создаём столбец с жанром\n",
    "genre_median_sales['genre'] = genre_median_sales.index "
   ]
  },
  {
   "cell_type": "code",
   "execution_count": 36,
   "metadata": {},
   "outputs": [
    {
     "data": {
      "image/png": "[encoded data removed]",
      "text/plain": [
       "<Figure size 1500x500 with 1 Axes>"
      ]
     },
     "metadata": {},
     "output_type": "display_data"
    }
   ],
   "source": [
    "# построение столбчатой диаграммы для числа выпускаемых игр разных жанров за 2012-2016 гг.\n",
    "plt.figure(figsize=(15, 5))\n",
    "\n",
    "sns.barplot(x=genre_median_sales['genre'], y=genre_median_sales['total_sales']) \n",
    "plt.title('Медианные продажи игр разных жанров за 2012-2016 гг.')\n",
    "plt.ylabel('Медианные продажи')\n",
    "plt.xlabel('Жанр')\n",
    "plt.grid(True);             "
   ]
  },
  {
   "cell_type": "markdown",
   "metadata": {},
   "source": [
    "Здесь картина разительно отличается. **Наиболее высокие стабильные продажи имеют шутеры, также выделяются платформеры и спортивные игры, в то время как жанр Action ничем не выделяется**."
   ]
  },
  {
   "cell_type": "markdown",
   "metadata": {},
   "source": [
    "## Составление портретов пользователей по регионам"
   ]
  },
  {
   "cell_type": "markdown",
   "metadata": {},
   "source": [
    "### Предпочтительные платформы"
   ]
  },
  {
   "cell_type": "markdown",
   "metadata": {},
   "source": [
    "Для начала определим, каким платформам отдают предпочтение пользователи разных регионов."
   ]
  },
  {
   "cell_type": "code",
   "execution_count": 37,
   "metadata": {},
   "outputs": [
    {
     "data": {
      "text/html": [
       "<div>\n",
       "<style scoped>\n",
       "    .dataframe tbody tr th:only-of-type {\n",
       "        vertical-align: middle;\n",
       "    }\n",
       "\n",
       "    .dataframe tbody tr th {\n",
       "        vertical-align: top;\n",
       "    }\n",
       "\n",
       "    .dataframe thead th {\n",
       "        text-align: right;\n",
       "    }\n",
       "</style>\n",
       "<table border=\"1\" class=\"dataframe\">\n",
       "  <thead>\n",
       "    <tr style=\"text-align: right;\">\n",
       "      <th>platform</th>\n",
       "      <th>3DS</th>\n",
       "      <th>DS</th>\n",
       "      <th>PC</th>\n",
       "      <th>PS3</th>\n",
       "      <th>PS4</th>\n",
       "      <th>PSP</th>\n",
       "      <th>PSV</th>\n",
       "      <th>Wii</th>\n",
       "      <th>WiiU</th>\n",
       "      <th>X360</th>\n",
       "      <th>XOne</th>\n",
       "    </tr>\n",
       "  </thead>\n",
       "  <tbody>\n",
       "    <tr>\n",
       "      <th>eu_sales</th>\n",
       "      <td>42.64</td>\n",
       "      <td>3.53</td>\n",
       "      <td>37.76</td>\n",
       "      <td>106.86</td>\n",
       "      <td>141.09</td>\n",
       "      <td>0.42</td>\n",
       "      <td>11.36</td>\n",
       "      <td>11.92</td>\n",
       "      <td>25.13</td>\n",
       "      <td>74.52</td>\n",
       "      <td>51.59</td>\n",
       "    </tr>\n",
       "    <tr>\n",
       "      <th>jp_sales</th>\n",
       "      <td>87.79</td>\n",
       "      <td>3.72</td>\n",
       "      <td>0.00</td>\n",
       "      <td>35.29</td>\n",
       "      <td>15.96</td>\n",
       "      <td>10.47</td>\n",
       "      <td>21.04</td>\n",
       "      <td>3.39</td>\n",
       "      <td>13.01</td>\n",
       "      <td>1.57</td>\n",
       "      <td>0.34</td>\n",
       "    </tr>\n",
       "    <tr>\n",
       "      <th>na_sales</th>\n",
       "      <td>55.31</td>\n",
       "      <td>4.59</td>\n",
       "      <td>19.12</td>\n",
       "      <td>103.38</td>\n",
       "      <td>108.74</td>\n",
       "      <td>0.13</td>\n",
       "      <td>10.98</td>\n",
       "      <td>17.45</td>\n",
       "      <td>38.10</td>\n",
       "      <td>140.05</td>\n",
       "      <td>93.12</td>\n",
       "    </tr>\n",
       "  </tbody>\n",
       "</table>\n",
       "</div>"
      ],
      "text/plain": [
       "platform    3DS    DS     PC     PS3     PS4    PSP    PSV    Wii   WiiU  \\\n",
       "eu_sales  42.64  3.53  37.76  106.86  141.09   0.42  11.36  11.92  25.13   \n",
       "jp_sales  87.79  3.72   0.00   35.29   15.96  10.47  21.04   3.39  13.01   \n",
       "na_sales  55.31  4.59  19.12  103.38  108.74   0.13  10.98  17.45  38.10   \n",
       "\n",
       "platform    X360   XOne  \n",
       "eu_sales   74.52  51.59  \n",
       "jp_sales    1.57   0.34  \n",
       "na_sales  140.05  93.12  "
      ]
     },
     "execution_count": 37,
     "metadata": {},
     "output_type": "execute_result"
    }
   ],
   "source": [
    "# создание сводной таблицы с продажами за 2012-2016 гг. на разных платформах в разных регионах\n",
    "region_actual_platform = actual_data.pivot_table(columns='platform', \n",
    "                                                 values=['na_sales', 'eu_sales', 'jp_sales'], aggfunc='sum')\n",
    "region_actual_platform"
   ]
  },
  {
   "cell_type": "code",
   "execution_count": 38,
   "metadata": {},
   "outputs": [
    {
     "data": {
      "image/png": "[encoded data removed]",
      "text/plain": [
       "<Figure size 1500x700 with 1 Axes>"
      ]
     },
     "metadata": {},
     "output_type": "display_data"
    }
   ],
   "source": [
    "# построение столбчатой диаграммы для продаж в разных регионах по платформам за 2012-2016 гг. \n",
    "region_actual_platform.plot(kind='bar', figsize=(15, 7), grid=True, \n",
    "                     title='Продажи игр на разных платформах за 2012-2016 гг. в разных регионах', \n",
    "                     ylabel='Продажи', xlabel='Регион');"
   ]
  },
  {
   "cell_type": "markdown",
   "metadata": {},
   "source": [
    "**Топ-5 платформ в европейском и северо-американском регионах совпадает - 3DS, PS3, PS4, X360, XOne**, хотя внутри топа распределения несколько отличаются. Так **пользователи из Северной Америки отдают большее предпочтение приставкам от Microsoft (X360, XOne), в то время как европейцы - от Sony (PS3, PS4)**.\n",
    "\n",
    "В то же время предпочтения пользователей из Японии значительно отличаются. **Абсолютным лидером продаж в этом регионе является 3DS от Nintendo**. Помимо этого можно также выделить PS3 и PSV, показатели PS4, WiiU и PSP практически одинаковы, а для остальных платформ стремятся к нулю. Помимо этого, **число продаж в Японии в целом меньше, чем в Северной Америке и Европе**. "
   ]
  },
  {
   "cell_type": "markdown",
   "metadata": {},
   "source": [
    "### Популярные жанры"
   ]
  },
  {
   "cell_type": "markdown",
   "metadata": {},
   "source": [
    "Посмотрим как отличаются жанровые предпочтения в разных регионах:"
   ]
  },
  {
   "cell_type": "code",
   "execution_count": 39,
   "metadata": {},
   "outputs": [],
   "source": [
    "# создание сводной таблицы с продажами за 2012-2016 гг. игр разных жанров в разных регионах\n",
    "region_actual_genre = actual_data.pivot_table(columns='genre', \n",
    "                                              values=['na_sales', 'eu_sales', 'jp_sales'], aggfunc='sum')"
   ]
  },
  {
   "cell_type": "code",
   "execution_count": 40,
   "metadata": {},
   "outputs": [
    {
     "data": {
      "image/png": "[encoded data removed]",
      "text/plain": [
       "<Figure size 1500x700 with 1 Axes>"
      ]
     },
     "metadata": {},
     "output_type": "display_data"
    }
   ],
   "source": [
    "# построение столбчатой диаграммы для продаж в разных регионах игр разных жанров за 2012-2016 гг. \n",
    "region_actual_genre.plot(kind='bar', figsize=(15, 7), grid=True,\n",
    "                     title='Продажи игр разных жанров за 2012-2016 гг. в разных регионах', \n",
    "                     ylabel='Продажи', xlabel='Регион');"
   ]
  },
  {
   "cell_type": "markdown",
   "metadata": {},
   "source": [
    "**Жанровые предпочтения пользователей из Европы и Северной Америки практически идентичны. Наиболее популярны** здесь игры в жанрах **Action, Shooter, Sports и Role-Playing**. Также можно отметить жанр Misc и, для европейцев, Racing.\n",
    "\n",
    "**Японские пользователи наибольшее предпочтение отдают жанрам Role-Playing и Action**. Очень **высокие показатели для жанра RPG связан** не столько с классическими RPG, а скорее **с поджанром JRPG, который изначально создавался для японской аудитории**. Нельзя сказать, что японцы отдают явное предпочтение какому-либо из оставшихся жанров. "
   ]
  },
  {
   "cell_type": "markdown",
   "metadata": {},
   "source": [
    "### Влияние рейтинга ESRB на продажи"
   ]
  },
  {
   "cell_type": "code",
   "execution_count": 41,
   "metadata": {},
   "outputs": [],
   "source": [
    "# создание сводной таблицы с продажами за 2012-2016 гг. игр с разным рейтингом в разных регионах\n",
    "region_actual_rating = actual_data.pivot_table(columns='rating', \n",
    "                                               values=['na_sales', 'eu_sales', 'jp_sales'], aggfunc='sum')"
   ]
  },
  {
   "cell_type": "code",
   "execution_count": 42,
   "metadata": {},
   "outputs": [
    {
     "data": {
      "image/png": "[encoded data removed]",
      "text/plain": [
       "<Figure size 1500x500 with 1 Axes>"
      ]
     },
     "metadata": {},
     "output_type": "display_data"
    }
   ],
   "source": [
    "# построение столбчатой диаграммы для продаж в разных регионах игр с разным рейтингом за 2012-2016 гг. \n",
    "region_actual_rating.plot(kind='bar', figsize=(15, 5), grid=True,\n",
    "                     title='Продажи игр с разным рейтингом за 2012-2016 гг. в разных регионах', \n",
    "                     ylabel='Продажи', xlabel='Регион');"
   ]
  },
  {
   "cell_type": "markdown",
   "metadata": {},
   "source": [
    "Как и ранее, **предпочтения европейских и северо-американских пользователей очень похожи**. Наибольшие продажи для них наблюдаются среди игр **категории M (для взрослых) и E (для всех)**. **В Японии продажи игр рейтинга М тоже высоки, но уступают играм рейтингов Е и Т (для подростков)**. Помимо этого стоит отметить, что в Японии очень высока доля игр без рейтинга, что, скорее всего, сильно искажает данные."
   ]
  },
  {
   "cell_type": "markdown",
   "metadata": {},
   "source": [
    "## Проверка гипотез"
   ]
  },
  {
   "cell_type": "markdown",
   "metadata": {},
   "source": [
    "### Гипотеза: **cредние пользовательские рейтинги платформ Xbox One и PC одинаковые**\n"
   ]
  },
  {
   "cell_type": "markdown",
   "metadata": {},
   "source": [
    "Прежде, чем проверять гипотезу, подготовим актуальные выборки для XOne и PC:"
   ]
  },
  {
   "cell_type": "code",
   "execution_count": 43,
   "metadata": {},
   "outputs": [
    {
     "data": {
      "text/plain": [
       "(182, 12)"
      ]
     },
     "execution_count": 43,
     "metadata": {},
     "output_type": "execute_result"
    }
   ],
   "source": [
    "# срез данных с актуальной информацией по XOne и удаление строк с пропусками в столбце с пользовательскими оценками\n",
    "xone_st = actual_data.query('platform == \"XOne\"').dropna(subset=['user_score'])\n",
    "\n",
    "# смотрим размер выборки\n",
    "xone_st.shape "
   ]
  },
  {
   "cell_type": "code",
   "execution_count": 44,
   "metadata": {},
   "outputs": [
    {
     "data": {
      "text/plain": [
       "(206, 12)"
      ]
     },
     "execution_count": 44,
     "metadata": {},
     "output_type": "execute_result"
    }
   ],
   "source": [
    "# срез данных с актуальной информацией по PC и удаление строк с пропусками в столбце с пользовательскими оценками\n",
    "pc_st = actual_data.query('platform == \"PC\"').dropna(subset=['user_score'])\n",
    "pc_st.shape # смотрим размер выборки"
   ]
  },
  {
   "cell_type": "markdown",
   "metadata": {},
   "source": [
    "**Нулевая гипотеза (H_0) формулируется через равенство**, и в данном случае **совпадает с исходной гипотезой**, а так как нас не интересует больше или меньше средние пользовательские оценки для одной из платформ, то **альтернативная гипотеза (H_a) будет двухсторонней**: \n",
    "\n",
    "```\n",
    "H_0: Средние пользовательские рейтинги \"XOne\" = средние пользовательские рейтинги \"PC\"`\n",
    "H_a: Средние пользовательские рейтинги \"XOne\" ≠ средние пользовательские рейтинги \"PC\"`\n",
    "\n",
    "```\n",
    "**Уровень значимости** зададим в **5%** (alpha = 0.05). "
   ]
  },
  {
   "cell_type": "code",
   "execution_count": 45,
   "metadata": {},
   "outputs": [
    {
     "name": "stdout",
     "output_type": "stream",
     "text": [
      "p-value = 0.5489537965134912\n"
     ]
    }
   ],
   "source": [
    "# проверка гипотезы\n",
    "results = st.ttest_ind(xone_st['user_score'], pc_st['user_score'], equal_var=False)\n",
    "\n",
    "# вывод значения p-value на экран \n",
    "print('p-value =', results.pvalue) "
   ]
  },
  {
   "cell_type": "markdown",
   "metadata": {},
   "source": [
    "Полученное p-value больше выбранного значения статистической значимости, значит, **не можем отвергнуть нулевую гипотезу о равенстве средних пользовательских оценок XOne и PC**.   "
   ]
  },
  {
   "cell_type": "markdown",
   "metadata": {},
   "source": [
    "### Гипотеза: cредние пользовательские рейтинги жанров Action и Sports разные"
   ]
  },
  {
   "cell_type": "markdown",
   "metadata": {},
   "source": [
    "Подготовим актуальные выборки для жанров \"Action\" и \"Sports\":"
   ]
  },
  {
   "cell_type": "code",
   "execution_count": 46,
   "metadata": {},
   "outputs": [
    {
     "data": {
      "text/plain": [
       "(523, 12)"
      ]
     },
     "execution_count": 46,
     "metadata": {},
     "output_type": "execute_result"
    }
   ],
   "source": [
    "# срез данных с актуальной информацией по жанру \"Action\" и удаление строк с пропусками в столбце с пользовательскими оценками\n",
    "action_st = actual_data.query('genre == \"Action\"').dropna(subset=['user_score'])\n",
    "\n",
    "# смотрим размер выборки\n",
    "action_st.shape "
   ]
  },
  {
   "cell_type": "code",
   "execution_count": 47,
   "metadata": {},
   "outputs": [
    {
     "data": {
      "text/plain": [
       "(195, 12)"
      ]
     },
     "execution_count": 47,
     "metadata": {},
     "output_type": "execute_result"
    }
   ],
   "source": [
    "# срез данных с актуальной информацией по жанру \"Sports\" и удаление строк с пропусками в столбце с пользовательскими оценками\n",
    "sports_st = actual_data.query('genre == \"Sports\"').dropna(subset=['user_score'])\n",
    "\n",
    "# смотрим размер выборки\n",
    "sports_st.shape "
   ]
  },
  {
   "cell_type": "markdown",
   "metadata": {},
   "source": [
    "В данном случае **нулевая гипотеза (H_0) не совпадает с исходной гипотезой**, а так как нас всё ещё не интересует больше или меньше средние пользовательские оценки для одного из жанров, то **альтернативная гипотеза (H_a) будет двухсторонней и будет совпадать с исходной**: \n",
    " \n",
    "\n",
    "```\n",
    "H_0: Средние пользовательские рейтинги жанра \"Action\" = средние пользовательские рейтинги жанра \"Sports\"`\n",
    "H_a: Средние пользовательские рейтинги жанра \"Action\" ≠ средние пользовательские рейтинги жанра \"Sports\"`\n",
    "\n",
    "```\n",
    "**Уровень значимости** зададим в **5%** (alpha = 0.05)"
   ]
  },
  {
   "cell_type": "code",
   "execution_count": 48,
   "metadata": {},
   "outputs": [
    {
     "name": "stdout",
     "output_type": "stream",
     "text": [
      "p-value = 4.24307776572644e-20\n"
     ]
    }
   ],
   "source": [
    "# проверка гипотезы\n",
    "results = st.ttest_ind(action_st['user_score'], sports_st['user_score'], equal_var=False)\n",
    "\n",
    "# вывод значения p-value на экран \n",
    "print('p-value =', results.pvalue) "
   ]
  },
  {
   "cell_type": "markdown",
   "metadata": {},
   "source": [
    "Полученное p-value меньше выбранного значения статистической значимости, значит, нулевую **гипотезу о равенстве средних пользовательских оценок жанров Action и Sports необходимо отвергнуть**, т.е. **принимаем альтернативную гипотезу**."
   ]
  },
  {
   "cell_type": "markdown",
   "metadata": {},
   "source": [
    "## Общий вывод"
   ]
  },
  {
   "cell_type": "markdown",
   "metadata": {},
   "source": [
    "В ходе изучения данных было **обнаружено большое число пропусков**. В столбцах с оценками пользователей и критиков, а также рейтингом ESRB, которые было решено оставить, чтобы не исказить данные. Небольшое количество пропусков в столбцах с названием/жанром/годом релиза было удалено.\n",
    "\n",
    "Анализ самых популярных платформ за всё время показал, что **среднее время жизни платформ - 10 лет**, поэтому **для дальнейшего иследования и составления прогноза на 2017 год были отобраны данные только за 2012-2016 годы**. \n",
    "\n",
    "Актуальные данные показали, что на 2016 год **все рассматриваемые платформы переживают спад продаж**. Среди них **наиболее перспективными являются PS4 и XOne** - обе находятся в середине своего жизненного цикла и имеют высокие продажи, при этом показатели PS4 несколько выше.\n",
    "\n",
    "**Изучение факторов, влияющих на продажи игр на разных платформах**, показало:\n",
    "1. Пользовательские оценки никак не коррелируют с продажами. \n",
    "2. Влияние оценок критиков заметно выше, но всё же нельзя говорить о сильной корреляции этих двух переменных. \n",
    "3. **Наиболее популярными** и, как следствие, прибыльными **оказался жанр Shooter**, также **довольно популярны игры в жанрах, Platform и Sports**.    \n",
    "\n",
    "В ходе исследования **составлены портреты пользователей разных регионов**:\n",
    "1. Пользователи Северной Америки и Европы очень похожи. И те, и другие, в целом, отдают предпочтение 3DS, PS3, PS4, X360, XOne. При этом **пользователи из Северной Америки в первую очередь выбирают приставки от Microsoft (X360, XOne), а европейцы - от Sony (PS3, PS4)**. И те, и другие **предпочитают игры в жанрах Action, Shooter, Sports и Role-Playing**. А среди рейтингов ESRB выделяются **категории M (для взрослых) и E (для всех)**.\n",
    "2. Пользователи из Япониии имеют свои отличительные особенности. Среди платформ **абсолютным лидером в Японии является 3DS от Nintendo**. А **игры жанра Role-Playing соперничают и даже немного превосходят игры жанра Action**, что, вероятно, связано с играми поджанра JRPG изначально создававшимися под японскую аудиторию. **Говорить же о влиянии рейтинга ESRB в данном регионе довольно затруднительно**, поскольку **большая часть игр здесь его не имеет**.\n",
    "3. Также можно отметить на то, что **продажи в Японии в целом ниже, чем в европейском и северо-американском регионах**, что по большей части связано с разницей в численности населения этих регионов. \n",
    "\n",
    "**Обе выдвинутые в начале гипотезы подтвердились**:\n",
    "\n",
    "1. Средние пользовательские рейтинги платформ Xbox One и PC одинаковые. \n",
    "2. Средние пользовательские рейтинги жанров Action и Sports разные.\n"
   ]
  }
 ],
 "metadata": {
  "ExecuteTimeLog": [
   {
    "duration": 7,
    "start_time": "2022-08-23T05:03:06.694Z"
   },
   {
    "duration": 534,
    "start_time": "2022-08-23T05:03:51.337Z"
   },
   {
    "duration": 25,
    "start_time": "2022-08-23T05:04:26.626Z"
   },
   {
    "duration": 13,
    "start_time": "2022-08-23T05:05:04.542Z"
   },
   {
    "duration": 4,
    "start_time": "2022-08-23T05:09:57.325Z"
   },
   {
    "duration": 442,
    "start_time": "2022-08-23T05:11:35.652Z"
   },
   {
    "duration": 14,
    "start_time": "2022-08-23T05:12:34.905Z"
   },
   {
    "duration": 9,
    "start_time": "2022-08-23T05:16:24.809Z"
   },
   {
    "duration": 5,
    "start_time": "2022-08-23T05:19:48.247Z"
   },
   {
    "duration": 5,
    "start_time": "2022-08-23T05:26:29.034Z"
   },
   {
    "duration": 5,
    "start_time": "2022-08-23T05:26:42.721Z"
   },
   {
    "duration": 10,
    "start_time": "2022-08-23T05:35:51.728Z"
   },
   {
    "duration": 3,
    "start_time": "2022-08-23T05:37:23.978Z"
   },
   {
    "duration": 8,
    "start_time": "2022-08-23T05:44:40.638Z"
   },
   {
    "duration": 38,
    "start_time": "2022-08-23T05:45:22.469Z"
   },
   {
    "duration": 38,
    "start_time": "2022-08-23T05:46:37.435Z"
   },
   {
    "duration": 11,
    "start_time": "2022-08-23T05:54:09.724Z"
   },
   {
    "duration": 66,
    "start_time": "2022-08-23T05:59:36.938Z"
   },
   {
    "duration": 107,
    "start_time": "2022-08-23T05:59:55.530Z"
   },
   {
    "duration": 7,
    "start_time": "2022-08-23T06:00:26.136Z"
   },
   {
    "duration": 7,
    "start_time": "2022-08-23T06:02:01.757Z"
   },
   {
    "duration": 8,
    "start_time": "2022-08-23T06:05:42.013Z"
   },
   {
    "duration": 422,
    "start_time": "2022-08-23T06:05:42.023Z"
   },
   {
    "duration": 22,
    "start_time": "2022-08-23T06:05:42.446Z"
   },
   {
    "duration": 13,
    "start_time": "2022-08-23T06:05:42.471Z"
   },
   {
    "duration": 4,
    "start_time": "2022-08-23T06:05:42.485Z"
   },
   {
    "duration": 17,
    "start_time": "2022-08-23T06:05:42.490Z"
   },
   {
    "duration": 280,
    "start_time": "2022-08-23T06:05:42.509Z"
   },
   {
    "duration": 10,
    "start_time": "2022-08-23T06:05:42.791Z"
   },
   {
    "duration": 4,
    "start_time": "2022-08-23T06:05:42.806Z"
   },
   {
    "duration": 8,
    "start_time": "2022-08-23T06:05:42.811Z"
   },
   {
    "duration": 9,
    "start_time": "2022-08-23T06:05:42.820Z"
   },
   {
    "duration": 41,
    "start_time": "2022-08-23T06:05:42.830Z"
   },
   {
    "duration": 5,
    "start_time": "2022-08-23T06:05:42.872Z"
   },
   {
    "duration": 133,
    "start_time": "2022-08-23T06:05:42.878Z"
   },
   {
    "duration": 4,
    "start_time": "2022-08-23T06:05:43.013Z"
   },
   {
    "duration": 12,
    "start_time": "2022-08-23T06:05:43.019Z"
   },
   {
    "duration": 7,
    "start_time": "2022-08-23T06:07:43.471Z"
   },
   {
    "duration": 434,
    "start_time": "2022-08-23T06:07:43.480Z"
   },
   {
    "duration": 20,
    "start_time": "2022-08-23T06:07:43.916Z"
   },
   {
    "duration": 14,
    "start_time": "2022-08-23T06:07:43.937Z"
   },
   {
    "duration": 9,
    "start_time": "2022-08-23T06:07:43.953Z"
   },
   {
    "duration": 9,
    "start_time": "2022-08-23T06:07:43.965Z"
   },
   {
    "duration": 309,
    "start_time": "2022-08-23T06:07:43.975Z"
   },
   {
    "duration": 10,
    "start_time": "2022-08-23T06:07:44.285Z"
   },
   {
    "duration": 10,
    "start_time": "2022-08-23T06:07:44.296Z"
   },
   {
    "duration": 5,
    "start_time": "2022-08-23T06:07:44.307Z"
   },
   {
    "duration": 6,
    "start_time": "2022-08-23T06:07:44.313Z"
   },
   {
    "duration": 40,
    "start_time": "2022-08-23T06:07:44.320Z"
   },
   {
    "duration": 5,
    "start_time": "2022-08-23T06:07:44.362Z"
   },
   {
    "duration": 85,
    "start_time": "2022-08-23T06:07:44.368Z"
   },
   {
    "duration": 0,
    "start_time": "2022-08-23T06:07:44.455Z"
   },
   {
    "duration": 0,
    "start_time": "2022-08-23T06:07:44.457Z"
   },
   {
    "duration": 10,
    "start_time": "2022-08-23T06:08:32.877Z"
   },
   {
    "duration": 27,
    "start_time": "2022-08-23T06:09:29.336Z"
   },
   {
    "duration": 5,
    "start_time": "2022-08-23T06:09:33.010Z"
   },
   {
    "duration": 7,
    "start_time": "2022-08-23T06:10:18.675Z"
   },
   {
    "duration": 444,
    "start_time": "2022-08-23T06:10:18.684Z"
   },
   {
    "duration": 21,
    "start_time": "2022-08-23T06:10:19.130Z"
   },
   {
    "duration": 12,
    "start_time": "2022-08-23T06:10:19.153Z"
   },
   {
    "duration": 4,
    "start_time": "2022-08-23T06:10:19.167Z"
   },
   {
    "duration": 10,
    "start_time": "2022-08-23T06:10:19.172Z"
   },
   {
    "duration": 283,
    "start_time": "2022-08-23T06:10:19.183Z"
   },
   {
    "duration": 10,
    "start_time": "2022-08-23T06:10:19.468Z"
   },
   {
    "duration": 5,
    "start_time": "2022-08-23T06:10:19.479Z"
   },
   {
    "duration": 21,
    "start_time": "2022-08-23T06:10:19.485Z"
   },
   {
    "duration": 5,
    "start_time": "2022-08-23T06:10:19.508Z"
   },
   {
    "duration": 39,
    "start_time": "2022-08-23T06:10:19.514Z"
   },
   {
    "duration": 5,
    "start_time": "2022-08-23T06:10:19.555Z"
   },
   {
    "duration": 86,
    "start_time": "2022-08-23T06:10:19.562Z"
   },
   {
    "duration": 0,
    "start_time": "2022-08-23T06:10:19.649Z"
   },
   {
    "duration": 0,
    "start_time": "2022-08-23T06:10:19.651Z"
   },
   {
    "duration": 32,
    "start_time": "2022-08-23T06:10:50.052Z"
   },
   {
    "duration": 5,
    "start_time": "2022-08-23T06:11:03.822Z"
   },
   {
    "duration": 7,
    "start_time": "2022-08-23T06:13:38.054Z"
   },
   {
    "duration": 374,
    "start_time": "2022-08-23T06:13:38.063Z"
   },
   {
    "duration": 21,
    "start_time": "2022-08-23T06:13:38.438Z"
   },
   {
    "duration": 13,
    "start_time": "2022-08-23T06:13:38.460Z"
   },
   {
    "duration": 5,
    "start_time": "2022-08-23T06:13:38.474Z"
   },
   {
    "duration": 13,
    "start_time": "2022-08-23T06:13:38.480Z"
   },
   {
    "duration": 267,
    "start_time": "2022-08-23T06:13:38.506Z"
   },
   {
    "duration": 9,
    "start_time": "2022-08-23T06:13:38.775Z"
   },
   {
    "duration": 12,
    "start_time": "2022-08-23T06:13:38.786Z"
   },
   {
    "duration": 15,
    "start_time": "2022-08-23T06:13:38.799Z"
   },
   {
    "duration": 8,
    "start_time": "2022-08-23T06:13:38.816Z"
   },
   {
    "duration": 41,
    "start_time": "2022-08-23T06:13:38.825Z"
   },
   {
    "duration": 4,
    "start_time": "2022-08-23T06:13:38.868Z"
   },
   {
    "duration": 82,
    "start_time": "2022-08-23T06:13:38.873Z"
   },
   {
    "duration": 0,
    "start_time": "2022-08-23T06:13:38.956Z"
   },
   {
    "duration": 0,
    "start_time": "2022-08-23T06:13:38.957Z"
   },
   {
    "duration": 15,
    "start_time": "2022-08-23T06:14:09.163Z"
   },
   {
    "duration": 7,
    "start_time": "2022-08-23T06:21:09.469Z"
   },
   {
    "duration": 4,
    "start_time": "2022-08-23T06:21:44.118Z"
   },
   {
    "duration": 6,
    "start_time": "2022-08-23T06:21:57.671Z"
   },
   {
    "duration": 9,
    "start_time": "2022-08-23T06:22:11.527Z"
   },
   {
    "duration": 7,
    "start_time": "2022-08-23T06:23:24.087Z"
   },
   {
    "duration": 439,
    "start_time": "2022-08-23T06:23:24.095Z"
   },
   {
    "duration": 21,
    "start_time": "2022-08-23T06:23:24.536Z"
   },
   {
    "duration": 15,
    "start_time": "2022-08-23T06:23:24.559Z"
   },
   {
    "duration": 5,
    "start_time": "2022-08-23T06:23:24.575Z"
   },
   {
    "duration": 9,
    "start_time": "2022-08-23T06:23:24.581Z"
   },
   {
    "duration": 322,
    "start_time": "2022-08-23T06:23:24.607Z"
   },
   {
    "duration": 12,
    "start_time": "2022-08-23T06:23:24.930Z"
   },
   {
    "duration": 4,
    "start_time": "2022-08-23T06:23:24.944Z"
   },
   {
    "duration": 12,
    "start_time": "2022-08-23T06:23:24.950Z"
   },
   {
    "duration": 6,
    "start_time": "2022-08-23T06:23:24.964Z"
   },
   {
    "duration": 59,
    "start_time": "2022-08-23T06:23:24.972Z"
   },
   {
    "duration": 4,
    "start_time": "2022-08-23T06:23:25.033Z"
   },
   {
    "duration": 8,
    "start_time": "2022-08-23T06:23:25.039Z"
   },
   {
    "duration": 13,
    "start_time": "2022-08-23T06:23:25.048Z"
   },
   {
    "duration": 12,
    "start_time": "2022-08-23T06:23:25.063Z"
   },
   {
    "duration": 56,
    "start_time": "2022-08-23T06:24:14.892Z"
   },
   {
    "duration": 5,
    "start_time": "2022-08-23T06:24:18.772Z"
   },
   {
    "duration": 9,
    "start_time": "2022-08-23T06:24:44.613Z"
   },
   {
    "duration": 71,
    "start_time": "2022-08-23T06:25:35.663Z"
   },
   {
    "duration": 6,
    "start_time": "2022-08-23T06:31:58.398Z"
   },
   {
    "duration": 10,
    "start_time": "2022-08-23T06:36:02.601Z"
   },
   {
    "duration": 15,
    "start_time": "2022-08-23T06:37:48.030Z"
   },
   {
    "duration": 19,
    "start_time": "2022-08-23T06:38:35.513Z"
   },
   {
    "duration": 26,
    "start_time": "2022-08-23T07:10:06.696Z"
   },
   {
    "duration": 18,
    "start_time": "2022-08-23T07:10:47.431Z"
   },
   {
    "duration": 19,
    "start_time": "2022-08-23T07:33:57.170Z"
   },
   {
    "duration": 11,
    "start_time": "2022-08-23T07:34:52.703Z"
   },
   {
    "duration": 14,
    "start_time": "2022-08-23T07:35:39.253Z"
   },
   {
    "duration": 4,
    "start_time": "2022-08-23T07:38:00.883Z"
   },
   {
    "duration": 7,
    "start_time": "2022-08-25T04:51:44.165Z"
   },
   {
    "duration": 514,
    "start_time": "2022-08-25T04:51:46.976Z"
   },
   {
    "duration": 21,
    "start_time": "2022-08-25T04:51:53.025Z"
   },
   {
    "duration": 16,
    "start_time": "2022-08-25T04:53:46.575Z"
   },
   {
    "duration": 6,
    "start_time": "2022-08-25T05:01:33.037Z"
   },
   {
    "duration": 414,
    "start_time": "2022-08-25T05:02:37.387Z"
   },
   {
    "duration": 12,
    "start_time": "2022-08-25T05:05:24.585Z"
   },
   {
    "duration": 5,
    "start_time": "2022-08-25T05:14:13.842Z"
   },
   {
    "duration": 5,
    "start_time": "2022-08-25T05:36:28.011Z"
   },
   {
    "duration": 67,
    "start_time": "2022-08-25T05:36:42.374Z"
   },
   {
    "duration": 8,
    "start_time": "2022-08-25T05:36:51.656Z"
   },
   {
    "duration": 7,
    "start_time": "2022-08-25T05:37:07.266Z"
   },
   {
    "duration": 5,
    "start_time": "2022-08-25T05:37:44.938Z"
   },
   {
    "duration": 18,
    "start_time": "2022-08-25T05:43:56.234Z"
   },
   {
    "duration": 13,
    "start_time": "2022-08-25T05:44:47.732Z"
   },
   {
    "duration": 24,
    "start_time": "2022-08-25T05:46:36.199Z"
   },
   {
    "duration": 17,
    "start_time": "2022-08-25T05:49:41.677Z"
   },
   {
    "duration": 181,
    "start_time": "2022-08-25T05:51:18.405Z"
   },
   {
    "duration": 175,
    "start_time": "2022-08-25T05:51:34.834Z"
   },
   {
    "duration": 168,
    "start_time": "2022-08-25T05:51:48.257Z"
   },
   {
    "duration": 262,
    "start_time": "2022-08-25T05:52:03.899Z"
   },
   {
    "duration": 175,
    "start_time": "2022-08-25T05:54:09.239Z"
   },
   {
    "duration": 162,
    "start_time": "2022-08-25T05:54:47.082Z"
   },
   {
    "duration": 3,
    "start_time": "2022-08-25T05:56:13.256Z"
   },
   {
    "duration": 204,
    "start_time": "2022-08-25T05:56:26.639Z"
   },
   {
    "duration": 184,
    "start_time": "2022-08-25T05:57:05.535Z"
   },
   {
    "duration": 171,
    "start_time": "2022-08-25T05:58:49.617Z"
   },
   {
    "duration": 180,
    "start_time": "2022-08-25T05:59:34.616Z"
   },
   {
    "duration": 193,
    "start_time": "2022-08-25T06:00:14.994Z"
   },
   {
    "duration": 199,
    "start_time": "2022-08-25T06:01:09.842Z"
   },
   {
    "duration": 184,
    "start_time": "2022-08-25T06:02:59.538Z"
   },
   {
    "duration": 14,
    "start_time": "2022-08-25T06:04:13.651Z"
   },
   {
    "duration": 10,
    "start_time": "2022-08-25T06:05:22.907Z"
   },
   {
    "duration": 10,
    "start_time": "2022-08-25T06:06:09.339Z"
   },
   {
    "duration": 10,
    "start_time": "2022-08-25T06:07:54.598Z"
   },
   {
    "duration": 29,
    "start_time": "2022-08-25T06:12:21.922Z"
   },
   {
    "duration": 11,
    "start_time": "2022-08-25T06:15:20.449Z"
   },
   {
    "duration": 3,
    "start_time": "2022-08-25T06:16:13.956Z"
   },
   {
    "duration": 5,
    "start_time": "2022-08-25T06:16:24.344Z"
   },
   {
    "duration": 26,
    "start_time": "2022-08-25T06:16:35.886Z"
   },
   {
    "duration": 10,
    "start_time": "2022-08-25T06:16:54.010Z"
   },
   {
    "duration": 10,
    "start_time": "2022-08-25T06:17:24.175Z"
   },
   {
    "duration": 27,
    "start_time": "2022-08-25T06:18:03.214Z"
   },
   {
    "duration": 188,
    "start_time": "2022-08-25T06:20:32.513Z"
   },
   {
    "duration": 8,
    "start_time": "2022-08-25T06:21:07.140Z"
   },
   {
    "duration": 21,
    "start_time": "2022-08-25T06:21:12.059Z"
   },
   {
    "duration": 29,
    "start_time": "2022-08-25T06:21:28.620Z"
   },
   {
    "duration": 27,
    "start_time": "2022-08-25T06:22:42.698Z"
   },
   {
    "duration": 25,
    "start_time": "2022-08-25T06:23:01.147Z"
   },
   {
    "duration": 24,
    "start_time": "2022-08-25T06:25:27.374Z"
   },
   {
    "duration": 29,
    "start_time": "2022-08-25T06:27:19.037Z"
   },
   {
    "duration": 29,
    "start_time": "2022-08-25T06:40:38.308Z"
   },
   {
    "duration": 9,
    "start_time": "2022-08-25T06:47:44.180Z"
   },
   {
    "duration": 7,
    "start_time": "2022-08-25T06:49:23.976Z"
   },
   {
    "duration": 4,
    "start_time": "2022-08-25T06:49:41.837Z"
   },
   {
    "duration": 8,
    "start_time": "2022-08-25T06:49:53.929Z"
   },
   {
    "duration": 7,
    "start_time": "2022-08-25T06:54:22.705Z"
   },
   {
    "duration": 730,
    "start_time": "2022-08-25T06:55:04.274Z"
   },
   {
    "duration": 21,
    "start_time": "2022-08-25T06:55:05.006Z"
   },
   {
    "duration": 16,
    "start_time": "2022-08-25T06:55:05.028Z"
   },
   {
    "duration": 10,
    "start_time": "2022-08-25T06:55:05.046Z"
   },
   {
    "duration": 69,
    "start_time": "2022-08-25T06:55:05.058Z"
   },
   {
    "duration": 10,
    "start_time": "2022-08-25T06:55:05.129Z"
   },
   {
    "duration": 19,
    "start_time": "2022-08-25T06:55:05.141Z"
   },
   {
    "duration": 9,
    "start_time": "2022-08-25T06:55:05.162Z"
   },
   {
    "duration": 12,
    "start_time": "2022-08-25T06:55:05.173Z"
   },
   {
    "duration": 11,
    "start_time": "2022-08-25T06:55:21.708Z"
   },
   {
    "duration": 22,
    "start_time": "2022-08-25T06:56:50.552Z"
   },
   {
    "duration": 28,
    "start_time": "2022-08-25T06:57:34.802Z"
   },
   {
    "duration": 5,
    "start_time": "2022-08-25T07:03:50.764Z"
   },
   {
    "duration": 5,
    "start_time": "2022-08-25T07:04:30.252Z"
   },
   {
    "duration": 5,
    "start_time": "2022-08-25T07:05:50.883Z"
   },
   {
    "duration": 93,
    "start_time": "2022-08-25T07:10:25.582Z"
   },
   {
    "duration": 2267,
    "start_time": "2022-08-25T07:10:39.995Z"
   },
   {
    "duration": 507,
    "start_time": "2022-08-25T07:12:14.447Z"
   },
   {
    "duration": 25,
    "start_time": "2022-08-25T07:12:47.973Z"
   },
   {
    "duration": 37,
    "start_time": "2022-08-25T07:13:29.053Z"
   },
   {
    "duration": 13,
    "start_time": "2022-08-25T07:25:02.924Z"
   },
   {
    "duration": 14,
    "start_time": "2022-08-25T07:25:24.732Z"
   },
   {
    "duration": 12,
    "start_time": "2022-08-25T07:26:34.615Z"
   },
   {
    "duration": 14,
    "start_time": "2022-08-25T07:33:18.817Z"
   },
   {
    "duration": 13,
    "start_time": "2022-08-25T07:36:36.161Z"
   },
   {
    "duration": 13,
    "start_time": "2022-08-25T07:36:52.371Z"
   },
   {
    "duration": 61,
    "start_time": "2022-08-25T07:40:05.676Z"
   },
   {
    "duration": 3,
    "start_time": "2022-08-25T07:40:55.710Z"
   },
   {
    "duration": 107,
    "start_time": "2022-08-25T07:41:09.180Z"
   },
   {
    "duration": 205,
    "start_time": "2022-08-25T07:41:56.059Z"
   },
   {
    "duration": 14,
    "start_time": "2022-08-25T07:51:37.377Z"
   },
   {
    "duration": 83,
    "start_time": "2022-08-25T07:54:14.793Z"
   },
   {
    "duration": 4,
    "start_time": "2022-08-25T07:56:59.415Z"
   },
   {
    "duration": 5,
    "start_time": "2022-08-25T08:00:38.592Z"
   },
   {
    "duration": 21,
    "start_time": "2022-08-25T08:05:10.350Z"
   },
   {
    "duration": 25,
    "start_time": "2022-08-25T08:11:37.600Z"
   },
   {
    "duration": 9,
    "start_time": "2022-08-25T08:12:02.814Z"
   },
   {
    "duration": 18,
    "start_time": "2022-08-25T08:14:25.458Z"
   },
   {
    "duration": 19,
    "start_time": "2022-08-25T08:18:15.077Z"
   },
   {
    "duration": 48,
    "start_time": "2022-08-25T10:56:16.677Z"
   },
   {
    "duration": 856,
    "start_time": "2022-08-25T10:56:35.391Z"
   },
   {
    "duration": 18,
    "start_time": "2022-08-25T10:56:36.249Z"
   },
   {
    "duration": 28,
    "start_time": "2022-08-25T10:56:36.268Z"
   },
   {
    "duration": 12,
    "start_time": "2022-08-25T10:56:36.298Z"
   },
   {
    "duration": 52,
    "start_time": "2022-08-25T10:56:36.311Z"
   },
   {
    "duration": 8,
    "start_time": "2022-08-25T10:56:36.365Z"
   },
   {
    "duration": 13,
    "start_time": "2022-08-25T10:56:36.374Z"
   },
   {
    "duration": 7,
    "start_time": "2022-08-25T10:56:36.388Z"
   },
   {
    "duration": 19,
    "start_time": "2022-08-25T10:56:36.396Z"
   },
   {
    "duration": 4,
    "start_time": "2022-08-25T10:56:36.417Z"
   },
   {
    "duration": 5,
    "start_time": "2022-08-25T10:56:36.423Z"
   },
   {
    "duration": 35,
    "start_time": "2022-08-25T10:56:36.429Z"
   },
   {
    "duration": 12,
    "start_time": "2022-08-25T10:56:36.466Z"
   },
   {
    "duration": 38,
    "start_time": "2022-08-25T10:56:36.480Z"
   },
   {
    "duration": 13,
    "start_time": "2022-08-25T10:56:36.519Z"
   },
   {
    "duration": 12,
    "start_time": "2022-08-25T10:56:36.534Z"
   },
   {
    "duration": 195,
    "start_time": "2022-08-25T10:56:36.547Z"
   },
   {
    "duration": 76,
    "start_time": "2022-08-25T10:56:36.743Z"
   },
   {
    "duration": 3,
    "start_time": "2022-08-25T10:56:36.821Z"
   },
   {
    "duration": 10,
    "start_time": "2022-08-25T10:56:36.826Z"
   },
   {
    "duration": 17,
    "start_time": "2022-08-25T10:56:36.838Z"
   },
   {
    "duration": 19,
    "start_time": "2022-08-25T10:56:36.857Z"
   },
   {
    "duration": 7,
    "start_time": "2022-08-25T10:56:36.878Z"
   },
   {
    "duration": 14,
    "start_time": "2022-08-25T10:56:53.306Z"
   },
   {
    "duration": 5,
    "start_time": "2022-08-25T11:02:56.784Z"
   },
   {
    "duration": 14,
    "start_time": "2022-08-25T11:23:51.383Z"
   },
   {
    "duration": 98,
    "start_time": "2022-08-25T11:25:32.538Z"
   },
   {
    "duration": 15,
    "start_time": "2022-08-25T11:31:59.540Z"
   },
   {
    "duration": 15,
    "start_time": "2022-08-25T11:32:24.776Z"
   },
   {
    "duration": 14,
    "start_time": "2022-08-25T11:35:12.217Z"
   },
   {
    "duration": 13,
    "start_time": "2022-08-25T11:36:59.979Z"
   },
   {
    "duration": 16,
    "start_time": "2022-08-25T12:01:04.590Z"
   },
   {
    "duration": 53,
    "start_time": "2022-08-25T12:03:02.591Z"
   },
   {
    "duration": 219,
    "start_time": "2022-08-25T12:08:44.564Z"
   },
   {
    "duration": 13,
    "start_time": "2022-08-25T12:14:30.280Z"
   },
   {
    "duration": 48,
    "start_time": "2022-08-25T12:15:28.689Z"
   },
   {
    "duration": 134,
    "start_time": "2022-08-25T12:15:38.663Z"
   },
   {
    "duration": 188,
    "start_time": "2022-08-25T12:15:53.722Z"
   },
   {
    "duration": 22,
    "start_time": "2022-08-25T13:07:55.796Z"
   },
   {
    "duration": 13,
    "start_time": "2022-08-25T13:08:04.026Z"
   },
   {
    "duration": 7,
    "start_time": "2022-08-25T13:09:07.592Z"
   },
   {
    "duration": 102,
    "start_time": "2022-08-25T13:13:06.314Z"
   },
   {
    "duration": 20,
    "start_time": "2022-08-25T13:14:00.848Z"
   },
   {
    "duration": 81,
    "start_time": "2022-08-25T13:15:19.358Z"
   },
   {
    "duration": 11,
    "start_time": "2022-08-25T13:16:28.234Z"
   },
   {
    "duration": 13,
    "start_time": "2022-08-25T13:17:10.918Z"
   },
   {
    "duration": 58,
    "start_time": "2022-08-25T13:17:32.118Z"
   },
   {
    "duration": 24,
    "start_time": "2022-08-25T13:30:29.716Z"
   },
   {
    "duration": 168,
    "start_time": "2022-08-25T13:33:46.077Z"
   },
   {
    "duration": 39,
    "start_time": "2022-08-25T13:36:02.768Z"
   },
   {
    "duration": 43,
    "start_time": "2022-08-25T13:37:48.989Z"
   },
   {
    "duration": 142,
    "start_time": "2022-08-25T13:39:18.576Z"
   },
   {
    "duration": 208,
    "start_time": "2022-08-25T13:39:48.154Z"
   },
   {
    "duration": 7,
    "start_time": "2022-08-25T13:40:57.175Z"
   },
   {
    "duration": 13,
    "start_time": "2022-08-25T13:41:10.419Z"
   },
   {
    "duration": 46,
    "start_time": "2022-08-25T13:41:24.317Z"
   },
   {
    "duration": 202,
    "start_time": "2022-08-25T13:41:39.692Z"
   },
   {
    "duration": 6,
    "start_time": "2022-08-25T13:42:40.118Z"
   },
   {
    "duration": 13,
    "start_time": "2022-08-25T13:42:43.247Z"
   },
   {
    "duration": 14,
    "start_time": "2022-08-25T13:43:13.191Z"
   },
   {
    "duration": 46,
    "start_time": "2022-08-25T13:43:20.425Z"
   },
   {
    "duration": 209,
    "start_time": "2022-08-25T13:43:38.125Z"
   },
   {
    "duration": 215,
    "start_time": "2022-08-25T14:10:55.861Z"
   },
   {
    "duration": 53,
    "start_time": "2022-08-25T14:14:53.033Z"
   },
   {
    "duration": 69,
    "start_time": "2022-08-25T14:16:00.591Z"
   },
   {
    "duration": 244,
    "start_time": "2022-08-25T14:16:14.017Z"
   },
   {
    "duration": 259,
    "start_time": "2022-08-25T14:17:05.845Z"
   },
   {
    "duration": 242,
    "start_time": "2022-08-25T14:17:36.329Z"
   },
   {
    "duration": 5,
    "start_time": "2022-08-25T14:18:36.190Z"
   },
   {
    "duration": 984,
    "start_time": "2022-08-27T04:35:50.351Z"
   },
   {
    "duration": 22,
    "start_time": "2022-08-27T04:35:51.337Z"
   },
   {
    "duration": 16,
    "start_time": "2022-08-27T04:35:51.360Z"
   },
   {
    "duration": 10,
    "start_time": "2022-08-27T04:35:51.379Z"
   },
   {
    "duration": 70,
    "start_time": "2022-08-27T04:35:51.391Z"
   },
   {
    "duration": 11,
    "start_time": "2022-08-27T04:35:51.463Z"
   },
   {
    "duration": 7,
    "start_time": "2022-08-27T04:35:51.476Z"
   },
   {
    "duration": 24,
    "start_time": "2022-08-27T04:35:51.485Z"
   },
   {
    "duration": 30,
    "start_time": "2022-08-27T04:35:51.512Z"
   },
   {
    "duration": 7,
    "start_time": "2022-08-27T04:35:51.546Z"
   },
   {
    "duration": 15,
    "start_time": "2022-08-27T04:35:51.555Z"
   },
   {
    "duration": 49,
    "start_time": "2022-08-27T04:35:51.572Z"
   },
   {
    "duration": 19,
    "start_time": "2022-08-27T04:35:51.624Z"
   },
   {
    "duration": 16,
    "start_time": "2022-08-27T04:35:51.646Z"
   },
   {
    "duration": 17,
    "start_time": "2022-08-27T04:35:51.664Z"
   },
   {
    "duration": 49,
    "start_time": "2022-08-27T04:35:51.682Z"
   },
   {
    "duration": 304,
    "start_time": "2022-08-27T04:35:51.733Z"
   },
   {
    "duration": 118,
    "start_time": "2022-08-27T04:35:52.039Z"
   },
   {
    "duration": 4,
    "start_time": "2022-08-27T04:35:52.159Z"
   },
   {
    "duration": 25,
    "start_time": "2022-08-27T04:35:52.165Z"
   },
   {
    "duration": 62,
    "start_time": "2022-08-27T04:35:52.192Z"
   },
   {
    "duration": 37,
    "start_time": "2022-08-27T04:35:52.256Z"
   },
   {
    "duration": 42,
    "start_time": "2022-08-27T04:35:52.299Z"
   },
   {
    "duration": 20,
    "start_time": "2022-08-27T04:35:52.344Z"
   },
   {
    "duration": 7,
    "start_time": "2022-08-27T04:35:52.367Z"
   },
   {
    "duration": 252,
    "start_time": "2022-08-27T04:35:52.375Z"
   },
   {
    "duration": 42,
    "start_time": "2022-08-27T04:35:52.630Z"
   },
   {
    "duration": 0,
    "start_time": "2022-08-27T04:35:52.674Z"
   },
   {
    "duration": 0,
    "start_time": "2022-08-27T04:35:52.676Z"
   },
   {
    "duration": 0,
    "start_time": "2022-08-27T04:35:52.677Z"
   },
   {
    "duration": 0,
    "start_time": "2022-08-27T04:35:52.678Z"
   },
   {
    "duration": 0,
    "start_time": "2022-08-27T04:35:52.679Z"
   },
   {
    "duration": 1,
    "start_time": "2022-08-27T04:35:52.680Z"
   },
   {
    "duration": 48,
    "start_time": "2022-08-27T04:37:20.116Z"
   },
   {
    "duration": 50,
    "start_time": "2022-08-27T04:37:40.242Z"
   },
   {
    "duration": 52,
    "start_time": "2022-08-27T04:39:02.935Z"
   },
   {
    "duration": 43,
    "start_time": "2022-08-27T04:39:09.341Z"
   },
   {
    "duration": 54,
    "start_time": "2022-08-27T04:39:28.933Z"
   },
   {
    "duration": 16,
    "start_time": "2022-08-27T04:39:40.582Z"
   },
   {
    "duration": 45,
    "start_time": "2022-08-27T04:39:56.057Z"
   },
   {
    "duration": 15,
    "start_time": "2022-08-27T04:40:05.295Z"
   },
   {
    "duration": 17,
    "start_time": "2022-08-27T04:40:37.742Z"
   },
   {
    "duration": 52,
    "start_time": "2022-08-27T04:40:52.102Z"
   },
   {
    "duration": 245,
    "start_time": "2022-08-27T04:40:56.261Z"
   },
   {
    "duration": 10,
    "start_time": "2022-08-27T04:41:19.257Z"
   },
   {
    "duration": 18,
    "start_time": "2022-08-27T04:41:25.665Z"
   },
   {
    "duration": 17,
    "start_time": "2022-08-27T04:41:34.170Z"
   },
   {
    "duration": 71,
    "start_time": "2022-08-27T04:41:39.528Z"
   },
   {
    "duration": 305,
    "start_time": "2022-08-27T04:41:54.795Z"
   },
   {
    "duration": 380,
    "start_time": "2022-08-27T04:42:08.382Z"
   },
   {
    "duration": 196,
    "start_time": "2022-08-27T04:55:15.788Z"
   },
   {
    "duration": 144,
    "start_time": "2022-08-27T04:56:48.292Z"
   },
   {
    "duration": 264,
    "start_time": "2022-08-27T04:57:19.749Z"
   },
   {
    "duration": 100,
    "start_time": "2022-08-27T05:03:23.388Z"
   },
   {
    "duration": 21,
    "start_time": "2022-08-27T05:03:39.264Z"
   },
   {
    "duration": 24,
    "start_time": "2022-08-27T05:04:06.322Z"
   },
   {
    "duration": 9,
    "start_time": "2022-08-27T05:05:28.221Z"
   },
   {
    "duration": 34,
    "start_time": "2022-08-27T05:05:43.186Z"
   },
   {
    "duration": 8,
    "start_time": "2022-08-27T05:05:59.398Z"
   },
   {
    "duration": 10,
    "start_time": "2022-08-27T05:10:18.044Z"
   },
   {
    "duration": 588,
    "start_time": "2022-08-27T05:11:27.411Z"
   },
   {
    "duration": 188,
    "start_time": "2022-08-27T05:11:41.591Z"
   },
   {
    "duration": 196,
    "start_time": "2022-08-27T05:14:33.909Z"
   },
   {
    "duration": 49,
    "start_time": "2022-08-27T05:20:46.441Z"
   },
   {
    "duration": 267,
    "start_time": "2022-08-27T05:21:13.575Z"
   },
   {
    "duration": 168,
    "start_time": "2022-08-27T05:25:14.860Z"
   },
   {
    "duration": 209,
    "start_time": "2022-08-27T05:25:29.590Z"
   },
   {
    "duration": 176,
    "start_time": "2022-08-27T05:25:49.571Z"
   },
   {
    "duration": 157,
    "start_time": "2022-08-27T05:26:16.822Z"
   },
   {
    "duration": 156,
    "start_time": "2022-08-27T05:27:21.021Z"
   },
   {
    "duration": 7,
    "start_time": "2022-08-27T05:33:16.780Z"
   },
   {
    "duration": 232,
    "start_time": "2022-08-27T05:33:30.230Z"
   },
   {
    "duration": 40,
    "start_time": "2022-08-27T05:56:11.742Z"
   },
   {
    "duration": 151,
    "start_time": "2022-08-27T05:56:31.003Z"
   },
   {
    "duration": 161,
    "start_time": "2022-08-27T05:57:24.341Z"
   },
   {
    "duration": 173,
    "start_time": "2022-08-27T05:58:13.674Z"
   },
   {
    "duration": 171,
    "start_time": "2022-08-27T06:00:29.599Z"
   },
   {
    "duration": 165,
    "start_time": "2022-08-27T06:01:01.124Z"
   },
   {
    "duration": 165,
    "start_time": "2022-08-27T06:01:59.009Z"
   },
   {
    "duration": 1222,
    "start_time": "2022-08-27T06:06:23.251Z"
   },
   {
    "duration": 20,
    "start_time": "2022-08-27T06:06:24.476Z"
   },
   {
    "duration": 28,
    "start_time": "2022-08-27T06:06:24.498Z"
   },
   {
    "duration": 8,
    "start_time": "2022-08-27T06:06:24.529Z"
   },
   {
    "duration": 57,
    "start_time": "2022-08-27T06:06:24.539Z"
   },
   {
    "duration": 11,
    "start_time": "2022-08-27T06:06:24.598Z"
   },
   {
    "duration": 4,
    "start_time": "2022-08-27T06:06:24.610Z"
   },
   {
    "duration": 8,
    "start_time": "2022-08-27T06:06:24.616Z"
   },
   {
    "duration": 11,
    "start_time": "2022-08-27T06:06:24.626Z"
   },
   {
    "duration": 5,
    "start_time": "2022-08-27T06:06:24.640Z"
   },
   {
    "duration": 13,
    "start_time": "2022-08-27T06:06:24.646Z"
   },
   {
    "duration": 68,
    "start_time": "2022-08-27T06:06:24.661Z"
   },
   {
    "duration": 14,
    "start_time": "2022-08-27T06:06:24.730Z"
   },
   {
    "duration": 15,
    "start_time": "2022-08-27T06:06:24.746Z"
   },
   {
    "duration": 15,
    "start_time": "2022-08-27T06:06:24.763Z"
   },
   {
    "duration": 15,
    "start_time": "2022-08-27T06:06:24.810Z"
   },
   {
    "duration": 3,
    "start_time": "2022-08-27T06:06:24.828Z"
   },
   {
    "duration": 9,
    "start_time": "2022-08-27T06:06:24.832Z"
   },
   {
    "duration": 7,
    "start_time": "2022-08-27T06:06:24.842Z"
   },
   {
    "duration": 10,
    "start_time": "2022-08-27T06:06:24.850Z"
   },
   {
    "duration": 32,
    "start_time": "2022-08-27T06:06:24.861Z"
   },
   {
    "duration": 21,
    "start_time": "2022-08-27T06:06:24.910Z"
   },
   {
    "duration": 8,
    "start_time": "2022-08-27T06:06:24.933Z"
   },
   {
    "duration": 16,
    "start_time": "2022-08-27T06:06:24.943Z"
   },
   {
    "duration": 6,
    "start_time": "2022-08-27T06:06:24.961Z"
   },
   {
    "duration": 225,
    "start_time": "2022-08-27T06:06:24.968Z"
   },
   {
    "duration": 23,
    "start_time": "2022-08-27T06:06:25.194Z"
   },
   {
    "duration": 46,
    "start_time": "2022-08-27T06:06:25.220Z"
   },
   {
    "duration": 254,
    "start_time": "2022-08-27T06:06:25.268Z"
   },
   {
    "duration": 9,
    "start_time": "2022-08-27T06:06:25.524Z"
   },
   {
    "duration": 18,
    "start_time": "2022-08-27T06:06:25.535Z"
   },
   {
    "duration": 58,
    "start_time": "2022-08-27T06:06:25.555Z"
   },
   {
    "duration": 260,
    "start_time": "2022-08-27T06:06:25.615Z"
   },
   {
    "duration": 7,
    "start_time": "2022-08-27T06:06:25.877Z"
   },
   {
    "duration": 186,
    "start_time": "2022-08-27T06:06:25.886Z"
   },
   {
    "duration": 175,
    "start_time": "2022-08-27T06:06:26.073Z"
   },
   {
    "duration": 166,
    "start_time": "2022-08-27T06:06:26.249Z"
   },
   {
    "duration": 160,
    "start_time": "2022-08-27T06:12:58.697Z"
   },
   {
    "duration": 249,
    "start_time": "2022-08-27T06:14:06.379Z"
   },
   {
    "duration": 175,
    "start_time": "2022-08-27T06:15:06.455Z"
   },
   {
    "duration": 154,
    "start_time": "2022-08-27T06:15:23.130Z"
   },
   {
    "duration": 171,
    "start_time": "2022-08-27T06:17:11.816Z"
   },
   {
    "duration": 156,
    "start_time": "2022-08-27T06:17:28.149Z"
   },
   {
    "duration": 1426,
    "start_time": "2022-08-27T10:00:47.097Z"
   },
   {
    "duration": 21,
    "start_time": "2022-08-27T10:00:48.525Z"
   },
   {
    "duration": 15,
    "start_time": "2022-08-27T10:00:48.548Z"
   },
   {
    "duration": 5,
    "start_time": "2022-08-27T10:00:48.565Z"
   },
   {
    "duration": 80,
    "start_time": "2022-08-27T10:00:48.573Z"
   },
   {
    "duration": 9,
    "start_time": "2022-08-27T10:00:48.655Z"
   },
   {
    "duration": 4,
    "start_time": "2022-08-27T10:00:48.665Z"
   },
   {
    "duration": 7,
    "start_time": "2022-08-27T10:00:48.671Z"
   },
   {
    "duration": 29,
    "start_time": "2022-08-27T10:00:48.679Z"
   },
   {
    "duration": 5,
    "start_time": "2022-08-27T10:00:48.710Z"
   },
   {
    "duration": 7,
    "start_time": "2022-08-27T10:00:48.716Z"
   },
   {
    "duration": 40,
    "start_time": "2022-08-27T10:00:48.724Z"
   },
   {
    "duration": 5,
    "start_time": "2022-08-27T10:00:48.766Z"
   },
   {
    "duration": 43,
    "start_time": "2022-08-27T10:00:48.774Z"
   },
   {
    "duration": 4,
    "start_time": "2022-08-27T10:00:48.819Z"
   },
   {
    "duration": 210,
    "start_time": "2022-08-27T10:00:48.825Z"
   },
   {
    "duration": 16,
    "start_time": "2022-08-27T10:00:49.036Z"
   },
   {
    "duration": 60,
    "start_time": "2022-08-27T10:00:49.054Z"
   },
   {
    "duration": 217,
    "start_time": "2022-08-27T10:00:49.116Z"
   },
   {
    "duration": 8,
    "start_time": "2022-08-27T10:00:49.334Z"
   },
   {
    "duration": 17,
    "start_time": "2022-08-27T10:00:49.344Z"
   },
   {
    "duration": 66,
    "start_time": "2022-08-27T10:00:49.363Z"
   },
   {
    "duration": 244,
    "start_time": "2022-08-27T10:00:49.430Z"
   },
   {
    "duration": 7,
    "start_time": "2022-08-27T10:00:49.675Z"
   },
   {
    "duration": 205,
    "start_time": "2022-08-27T10:00:49.683Z"
   },
   {
    "duration": 486,
    "start_time": "2022-08-27T10:00:49.889Z"
   },
   {
    "duration": 0,
    "start_time": "2022-08-27T10:00:50.377Z"
   },
   {
    "duration": 146,
    "start_time": "2022-08-27T10:03:39.712Z"
   },
   {
    "duration": 13,
    "start_time": "2022-08-27T10:09:02.310Z"
   },
   {
    "duration": 4,
    "start_time": "2022-08-27T10:10:22.258Z"
   },
   {
    "duration": 500,
    "start_time": "2022-08-27T10:10:30.025Z"
   },
   {
    "duration": 1238,
    "start_time": "2022-08-27T10:11:13.790Z"
   },
   {
    "duration": 28,
    "start_time": "2022-08-27T10:11:15.030Z"
   },
   {
    "duration": 17,
    "start_time": "2022-08-27T10:11:15.060Z"
   },
   {
    "duration": 6,
    "start_time": "2022-08-27T10:11:15.079Z"
   },
   {
    "duration": 64,
    "start_time": "2022-08-27T10:11:15.105Z"
   },
   {
    "duration": 10,
    "start_time": "2022-08-27T10:11:15.171Z"
   },
   {
    "duration": 8,
    "start_time": "2022-08-27T10:11:15.183Z"
   },
   {
    "duration": 9,
    "start_time": "2022-08-27T10:11:15.205Z"
   },
   {
    "duration": 11,
    "start_time": "2022-08-27T10:11:15.216Z"
   },
   {
    "duration": 8,
    "start_time": "2022-08-27T10:11:15.229Z"
   },
   {
    "duration": 9,
    "start_time": "2022-08-27T10:11:15.239Z"
   },
   {
    "duration": 58,
    "start_time": "2022-08-27T10:11:15.249Z"
   },
   {
    "duration": 2,
    "start_time": "2022-08-27T10:11:15.309Z"
   },
   {
    "duration": 24,
    "start_time": "2022-08-27T10:11:15.314Z"
   },
   {
    "duration": 5,
    "start_time": "2022-08-27T10:11:15.340Z"
   },
   {
    "duration": 222,
    "start_time": "2022-08-27T10:11:15.346Z"
   },
   {
    "duration": 15,
    "start_time": "2022-08-27T10:11:15.570Z"
   },
   {
    "duration": 61,
    "start_time": "2022-08-27T10:11:15.587Z"
   },
   {
    "duration": 255,
    "start_time": "2022-08-27T10:11:15.649Z"
   },
   {
    "duration": 9,
    "start_time": "2022-08-27T10:11:15.906Z"
   },
   {
    "duration": 19,
    "start_time": "2022-08-27T10:11:15.916Z"
   },
   {
    "duration": 82,
    "start_time": "2022-08-27T10:11:15.937Z"
   },
   {
    "duration": 364,
    "start_time": "2022-08-27T10:11:16.021Z"
   },
   {
    "duration": 8,
    "start_time": "2022-08-27T10:11:16.386Z"
   },
   {
    "duration": 171,
    "start_time": "2022-08-27T10:11:16.406Z"
   },
   {
    "duration": 176,
    "start_time": "2022-08-27T10:11:16.580Z"
   },
   {
    "duration": 183,
    "start_time": "2022-08-27T10:11:16.758Z"
   },
   {
    "duration": 147,
    "start_time": "2022-08-27T10:29:47.144Z"
   },
   {
    "duration": 220,
    "start_time": "2022-08-27T10:30:01.009Z"
   },
   {
    "duration": 149,
    "start_time": "2022-08-27T10:31:12.515Z"
   },
   {
    "duration": 158,
    "start_time": "2022-08-27T10:31:28.054Z"
   },
   {
    "duration": 131,
    "start_time": "2022-08-27T10:33:01.096Z"
   },
   {
    "duration": 133,
    "start_time": "2022-08-27T10:35:00.195Z"
   },
   {
    "duration": 15,
    "start_time": "2022-08-27T10:51:31.236Z"
   },
   {
    "duration": 195,
    "start_time": "2022-08-27T10:58:37.452Z"
   },
   {
    "duration": 160,
    "start_time": "2022-08-27T10:59:27.466Z"
   },
   {
    "duration": 1257,
    "start_time": "2022-08-27T11:00:55.815Z"
   },
   {
    "duration": 1173,
    "start_time": "2022-08-27T11:01:10.786Z"
   },
   {
    "duration": 197,
    "start_time": "2022-08-27T11:03:00.554Z"
   },
   {
    "duration": 177,
    "start_time": "2022-08-27T11:07:36.766Z"
   },
   {
    "duration": 149,
    "start_time": "2022-08-27T11:08:54.503Z"
   },
   {
    "duration": 198,
    "start_time": "2022-08-27T11:09:11.621Z"
   },
   {
    "duration": 289,
    "start_time": "2022-08-27T11:11:45.299Z"
   },
   {
    "duration": 171,
    "start_time": "2022-08-27T11:12:17.297Z"
   },
   {
    "duration": 173,
    "start_time": "2022-08-27T11:13:00.744Z"
   },
   {
    "duration": 181,
    "start_time": "2022-08-27T11:15:48.863Z"
   },
   {
    "duration": 15,
    "start_time": "2022-08-27T11:17:51.433Z"
   },
   {
    "duration": 28,
    "start_time": "2022-08-27T11:18:04.848Z"
   },
   {
    "duration": 24,
    "start_time": "2022-08-27T11:18:18.205Z"
   },
   {
    "duration": 207,
    "start_time": "2022-08-27T11:20:31.361Z"
   },
   {
    "duration": 327,
    "start_time": "2022-08-27T11:21:05.840Z"
   },
   {
    "duration": 209,
    "start_time": "2022-08-27T11:21:19.689Z"
   },
   {
    "duration": 236,
    "start_time": "2022-08-27T11:21:46.734Z"
   },
   {
    "duration": 181,
    "start_time": "2022-08-27T11:32:58.915Z"
   },
   {
    "duration": 284,
    "start_time": "2022-08-27T11:36:21.875Z"
   },
   {
    "duration": 270,
    "start_time": "2022-08-27T11:37:57.128Z"
   },
   {
    "duration": 31,
    "start_time": "2022-08-27T12:02:09.180Z"
   },
   {
    "duration": 14,
    "start_time": "2022-08-27T12:02:37.878Z"
   },
   {
    "duration": 224,
    "start_time": "2022-08-27T12:03:53.102Z"
   },
   {
    "duration": 157,
    "start_time": "2022-08-27T12:06:26.162Z"
   },
   {
    "duration": 128,
    "start_time": "2022-08-27T12:08:34.496Z"
   },
   {
    "duration": 17,
    "start_time": "2022-08-27T12:25:15.827Z"
   },
   {
    "duration": 447,
    "start_time": "2022-08-27T12:28:39.982Z"
   },
   {
    "duration": 453,
    "start_time": "2022-08-27T12:28:58.705Z"
   },
   {
    "duration": 276,
    "start_time": "2022-08-27T12:35:16.358Z"
   },
   {
    "duration": 562,
    "start_time": "2022-08-27T12:39:35.900Z"
   },
   {
    "duration": 592,
    "start_time": "2022-08-27T12:40:50.581Z"
   },
   {
    "duration": 25,
    "start_time": "2022-08-27T13:03:06.130Z"
   },
   {
    "duration": 400,
    "start_time": "2022-08-27T13:03:08.763Z"
   },
   {
    "duration": 709,
    "start_time": "2022-08-27T13:03:34.772Z"
   },
   {
    "duration": 10,
    "start_time": "2022-08-27T13:28:48.891Z"
   },
   {
    "duration": 440,
    "start_time": "2022-08-27T13:29:53.796Z"
   },
   {
    "duration": 14,
    "start_time": "2022-08-27T13:54:52.165Z"
   },
   {
    "duration": 13,
    "start_time": "2022-08-27T13:55:10.381Z"
   },
   {
    "duration": 359,
    "start_time": "2022-08-27T13:56:36.779Z"
   },
   {
    "duration": 1807,
    "start_time": "2022-08-30T01:24:36.757Z"
   },
   {
    "duration": 21,
    "start_time": "2022-08-30T01:24:38.566Z"
   },
   {
    "duration": 18,
    "start_time": "2022-08-30T01:24:38.589Z"
   },
   {
    "duration": 5,
    "start_time": "2022-08-30T01:24:38.609Z"
   },
   {
    "duration": 76,
    "start_time": "2022-08-30T01:24:38.617Z"
   },
   {
    "duration": 13,
    "start_time": "2022-08-30T01:24:38.694Z"
   },
   {
    "duration": 4,
    "start_time": "2022-08-30T01:24:38.709Z"
   },
   {
    "duration": 15,
    "start_time": "2022-08-30T01:24:38.715Z"
   },
   {
    "duration": 6,
    "start_time": "2022-08-30T01:24:38.732Z"
   },
   {
    "duration": 15,
    "start_time": "2022-08-30T01:24:38.740Z"
   },
   {
    "duration": 69,
    "start_time": "2022-08-30T01:24:38.757Z"
   },
   {
    "duration": 15,
    "start_time": "2022-08-30T01:24:38.828Z"
   },
   {
    "duration": 6,
    "start_time": "2022-08-30T01:24:38.844Z"
   },
   {
    "duration": 240,
    "start_time": "2022-08-30T01:24:38.853Z"
   },
   {
    "duration": 16,
    "start_time": "2022-08-30T01:24:39.095Z"
   },
   {
    "duration": 55,
    "start_time": "2022-08-30T01:24:39.112Z"
   },
   {
    "duration": 276,
    "start_time": "2022-08-30T01:24:39.169Z"
   },
   {
    "duration": 9,
    "start_time": "2022-08-30T01:24:39.447Z"
   },
   {
    "duration": 213,
    "start_time": "2022-08-30T01:24:39.458Z"
   },
   {
    "duration": 58,
    "start_time": "2022-08-30T01:24:39.674Z"
   },
   {
    "duration": 262,
    "start_time": "2022-08-30T01:24:39.734Z"
   },
   {
    "duration": 6,
    "start_time": "2022-08-30T01:24:39.998Z"
   },
   {
    "duration": 208,
    "start_time": "2022-08-30T01:24:40.006Z"
   },
   {
    "duration": 210,
    "start_time": "2022-08-30T01:24:40.216Z"
   },
   {
    "duration": 203,
    "start_time": "2022-08-30T01:24:40.427Z"
   },
   {
    "duration": 281,
    "start_time": "2022-08-30T01:24:40.632Z"
   },
   {
    "duration": 175,
    "start_time": "2022-08-30T01:24:40.915Z"
   },
   {
    "duration": 175,
    "start_time": "2022-08-30T01:24:41.092Z"
   },
   {
    "duration": 166,
    "start_time": "2022-08-30T01:24:41.269Z"
   },
   {
    "duration": 219,
    "start_time": "2022-08-30T01:24:41.437Z"
   },
   {
    "duration": 12,
    "start_time": "2022-08-30T01:24:41.658Z"
   },
   {
    "duration": 515,
    "start_time": "2022-08-30T01:24:41.672Z"
   },
   {
    "duration": 12,
    "start_time": "2022-08-30T01:24:42.188Z"
   },
   {
    "duration": 464,
    "start_time": "2022-08-30T01:24:42.202Z"
   },
   {
    "duration": 13,
    "start_time": "2022-08-30T01:24:42.668Z"
   },
   {
    "duration": 415,
    "start_time": "2022-08-30T01:24:42.683Z"
   },
   {
    "duration": 14,
    "start_time": "2022-08-30T01:35:02.605Z"
   },
   {
    "duration": 9,
    "start_time": "2022-08-30T01:35:52.760Z"
   },
   {
    "duration": 16,
    "start_time": "2022-08-30T01:36:30.142Z"
   },
   {
    "duration": 8,
    "start_time": "2022-08-30T01:37:29.015Z"
   },
   {
    "duration": 16,
    "start_time": "2022-08-30T01:37:35.607Z"
   },
   {
    "duration": 16,
    "start_time": "2022-08-30T01:38:42.839Z"
   },
   {
    "duration": 25,
    "start_time": "2022-08-30T01:41:04.332Z"
   },
   {
    "duration": 120,
    "start_time": "2022-08-30T01:41:34.320Z"
   },
   {
    "duration": 23,
    "start_time": "2022-08-30T01:43:12.706Z"
   },
   {
    "duration": 22,
    "start_time": "2022-08-30T01:45:10.785Z"
   },
   {
    "duration": 11,
    "start_time": "2022-08-30T02:00:48.038Z"
   },
   {
    "duration": 16,
    "start_time": "2022-08-30T02:00:54.168Z"
   },
   {
    "duration": 18,
    "start_time": "2022-08-30T02:05:02.856Z"
   },
   {
    "duration": 10,
    "start_time": "2022-08-30T02:06:07.467Z"
   },
   {
    "duration": 185,
    "start_time": "2022-08-30T02:06:29.098Z"
   },
   {
    "duration": 194,
    "start_time": "2022-08-30T02:06:54.281Z"
   },
   {
    "duration": 182,
    "start_time": "2022-08-30T02:07:06.602Z"
   },
   {
    "duration": 12,
    "start_time": "2022-08-30T02:07:36.436Z"
   },
   {
    "duration": 291,
    "start_time": "2022-08-30T02:07:53.230Z"
   },
   {
    "duration": 289,
    "start_time": "2022-08-30T02:08:02.435Z"
   },
   {
    "duration": 297,
    "start_time": "2022-08-30T02:08:12.866Z"
   },
   {
    "duration": 303,
    "start_time": "2022-08-30T02:08:52.778Z"
   },
   {
    "duration": 12,
    "start_time": "2022-08-30T02:09:27.107Z"
   },
   {
    "duration": 284,
    "start_time": "2022-08-30T02:09:58.379Z"
   },
   {
    "duration": 387,
    "start_time": "2022-08-30T02:10:18.838Z"
   },
   {
    "duration": 92,
    "start_time": "2022-08-30T02:10:59.856Z"
   },
   {
    "duration": 228,
    "start_time": "2022-08-30T02:11:08.272Z"
   },
   {
    "duration": 296,
    "start_time": "2022-08-30T02:11:16.607Z"
   },
   {
    "duration": 4,
    "start_time": "2022-08-30T02:15:59.287Z"
   },
   {
    "duration": 9,
    "start_time": "2022-08-30T02:16:27.072Z"
   },
   {
    "duration": 1271,
    "start_time": "2022-08-30T02:16:45.196Z"
   },
   {
    "duration": 22,
    "start_time": "2022-08-30T02:16:46.468Z"
   },
   {
    "duration": 16,
    "start_time": "2022-08-30T02:16:46.492Z"
   },
   {
    "duration": 5,
    "start_time": "2022-08-30T02:16:46.510Z"
   },
   {
    "duration": 76,
    "start_time": "2022-08-30T02:16:46.517Z"
   },
   {
    "duration": 12,
    "start_time": "2022-08-30T02:16:46.595Z"
   },
   {
    "duration": 4,
    "start_time": "2022-08-30T02:16:46.609Z"
   },
   {
    "duration": 34,
    "start_time": "2022-08-30T02:16:46.614Z"
   },
   {
    "duration": 5,
    "start_time": "2022-08-30T02:16:46.650Z"
   },
   {
    "duration": 8,
    "start_time": "2022-08-30T02:16:46.658Z"
   },
   {
    "duration": 53,
    "start_time": "2022-08-30T02:16:46.667Z"
   },
   {
    "duration": 4,
    "start_time": "2022-08-30T02:16:46.722Z"
   },
   {
    "duration": 23,
    "start_time": "2022-08-30T02:16:46.728Z"
   },
   {
    "duration": 6,
    "start_time": "2022-08-30T02:16:46.752Z"
   },
   {
    "duration": 249,
    "start_time": "2022-08-30T02:16:46.759Z"
   },
   {
    "duration": 16,
    "start_time": "2022-08-30T02:16:47.010Z"
   },
   {
    "duration": 66,
    "start_time": "2022-08-30T02:16:47.028Z"
   },
   {
    "duration": 252,
    "start_time": "2022-08-30T02:16:47.095Z"
   },
   {
    "duration": 8,
    "start_time": "2022-08-30T02:16:47.349Z"
   },
   {
    "duration": 199,
    "start_time": "2022-08-30T02:16:47.359Z"
   },
   {
    "duration": 59,
    "start_time": "2022-08-30T02:16:47.560Z"
   },
   {
    "duration": 257,
    "start_time": "2022-08-30T02:16:47.621Z"
   },
   {
    "duration": 12,
    "start_time": "2022-08-30T02:16:47.880Z"
   },
   {
    "duration": 176,
    "start_time": "2022-08-30T02:16:47.894Z"
   },
   {
    "duration": 185,
    "start_time": "2022-08-30T02:16:48.072Z"
   },
   {
    "duration": 182,
    "start_time": "2022-08-30T02:16:48.259Z"
   },
   {
    "duration": 269,
    "start_time": "2022-08-30T02:16:48.443Z"
   },
   {
    "duration": 179,
    "start_time": "2022-08-30T02:16:48.715Z"
   },
   {
    "duration": 170,
    "start_time": "2022-08-30T02:16:48.895Z"
   },
   {
    "duration": 175,
    "start_time": "2022-08-30T02:16:49.067Z"
   },
   {
    "duration": 236,
    "start_time": "2022-08-30T02:16:49.244Z"
   },
   {
    "duration": 16,
    "start_time": "2022-08-30T02:16:49.482Z"
   },
   {
    "duration": 289,
    "start_time": "2022-08-30T02:16:49.500Z"
   },
   {
    "duration": 12,
    "start_time": "2022-08-30T02:16:49.791Z"
   },
   {
    "duration": 316,
    "start_time": "2022-08-30T02:16:49.804Z"
   },
   {
    "duration": 10,
    "start_time": "2022-08-30T02:16:50.123Z"
   },
   {
    "duration": 222,
    "start_time": "2022-08-30T02:16:50.135Z"
   },
   {
    "duration": 241,
    "start_time": "2022-08-30T02:19:53.823Z"
   },
   {
    "duration": 3,
    "start_time": "2022-08-30T02:31:38.474Z"
   },
   {
    "duration": 104,
    "start_time": "2022-08-30T02:36:18.677Z"
   },
   {
    "duration": 14,
    "start_time": "2022-08-30T02:36:48.785Z"
   },
   {
    "duration": 7,
    "start_time": "2022-08-30T02:37:15.833Z"
   },
   {
    "duration": 10,
    "start_time": "2022-08-30T02:38:20.062Z"
   },
   {
    "duration": 9,
    "start_time": "2022-08-30T02:39:29.423Z"
   },
   {
    "duration": 7,
    "start_time": "2022-08-30T02:52:08.365Z"
   },
   {
    "duration": 7,
    "start_time": "2022-08-30T02:52:28.977Z"
   },
   {
    "duration": 8,
    "start_time": "2022-08-30T02:52:45.574Z"
   },
   {
    "duration": 4,
    "start_time": "2022-08-30T02:55:11.475Z"
   },
   {
    "duration": 4,
    "start_time": "2022-08-30T02:55:46.119Z"
   },
   {
    "duration": 10,
    "start_time": "2022-08-30T02:59:18.593Z"
   },
   {
    "duration": 9,
    "start_time": "2022-08-30T02:59:48.351Z"
   },
   {
    "duration": 5,
    "start_time": "2022-08-30T03:04:20.445Z"
   },
   {
    "duration": 5,
    "start_time": "2022-08-30T03:09:30.588Z"
   },
   {
    "duration": 5,
    "start_time": "2022-08-30T03:10:32.966Z"
   },
   {
    "duration": 5,
    "start_time": "2022-08-30T03:10:51.550Z"
   },
   {
    "duration": 5,
    "start_time": "2022-08-30T03:24:23.715Z"
   },
   {
    "duration": 16,
    "start_time": "2022-08-30T04:01:01.814Z"
   },
   {
    "duration": 72,
    "start_time": "2022-08-30T04:03:08.869Z"
   },
   {
    "duration": 164,
    "start_time": "2022-08-30T04:03:24.862Z"
   },
   {
    "duration": 307,
    "start_time": "2022-08-30T04:05:41.543Z"
   },
   {
    "duration": 218,
    "start_time": "2022-08-30T04:05:59.167Z"
   },
   {
    "duration": 249,
    "start_time": "2022-08-30T04:06:30.099Z"
   },
   {
    "duration": 1222,
    "start_time": "2022-08-30T04:42:50.042Z"
   },
   {
    "duration": 21,
    "start_time": "2022-08-30T04:42:51.266Z"
   },
   {
    "duration": 17,
    "start_time": "2022-08-30T04:42:51.288Z"
   },
   {
    "duration": 7,
    "start_time": "2022-08-30T04:42:51.307Z"
   },
   {
    "duration": 57,
    "start_time": "2022-08-30T04:42:51.318Z"
   },
   {
    "duration": 26,
    "start_time": "2022-08-30T04:42:51.376Z"
   },
   {
    "duration": 4,
    "start_time": "2022-08-30T04:42:51.404Z"
   },
   {
    "duration": 13,
    "start_time": "2022-08-30T04:42:51.410Z"
   },
   {
    "duration": 5,
    "start_time": "2022-08-30T04:42:51.424Z"
   },
   {
    "duration": 7,
    "start_time": "2022-08-30T04:42:51.431Z"
   },
   {
    "duration": 69,
    "start_time": "2022-08-30T04:42:51.440Z"
   },
   {
    "duration": 5,
    "start_time": "2022-08-30T04:42:51.510Z"
   },
   {
    "duration": 22,
    "start_time": "2022-08-30T04:42:51.517Z"
   },
   {
    "duration": 4,
    "start_time": "2022-08-30T04:42:51.542Z"
   },
   {
    "duration": 224,
    "start_time": "2022-08-30T04:42:51.548Z"
   },
   {
    "duration": 24,
    "start_time": "2022-08-30T04:42:51.774Z"
   },
   {
    "duration": 58,
    "start_time": "2022-08-30T04:42:51.800Z"
   },
   {
    "duration": 319,
    "start_time": "2022-08-30T04:42:51.860Z"
   },
   {
    "duration": 9,
    "start_time": "2022-08-30T04:42:52.181Z"
   },
   {
    "duration": 206,
    "start_time": "2022-08-30T04:42:52.192Z"
   },
   {
    "duration": 56,
    "start_time": "2022-08-30T04:42:52.400Z"
   },
   {
    "duration": 268,
    "start_time": "2022-08-30T04:42:52.457Z"
   },
   {
    "duration": 7,
    "start_time": "2022-08-30T04:42:52.727Z"
   },
   {
    "duration": 171,
    "start_time": "2022-08-30T04:42:52.735Z"
   },
   {
    "duration": 185,
    "start_time": "2022-08-30T04:42:52.908Z"
   },
   {
    "duration": 189,
    "start_time": "2022-08-30T04:42:53.095Z"
   },
   {
    "duration": 263,
    "start_time": "2022-08-30T04:42:53.286Z"
   },
   {
    "duration": 175,
    "start_time": "2022-08-30T04:42:53.551Z"
   },
   {
    "duration": 176,
    "start_time": "2022-08-30T04:42:53.728Z"
   },
   {
    "duration": 174,
    "start_time": "2022-08-30T04:42:53.906Z"
   },
   {
    "duration": 215,
    "start_time": "2022-08-30T04:42:54.081Z"
   },
   {
    "duration": 214,
    "start_time": "2022-08-30T04:42:54.298Z"
   },
   {
    "duration": 12,
    "start_time": "2022-08-30T04:42:54.513Z"
   },
   {
    "duration": 294,
    "start_time": "2022-08-30T04:42:54.527Z"
   },
   {
    "duration": 11,
    "start_time": "2022-08-30T04:42:54.823Z"
   },
   {
    "duration": 321,
    "start_time": "2022-08-30T04:42:54.835Z"
   },
   {
    "duration": 11,
    "start_time": "2022-08-30T04:42:55.158Z"
   },
   {
    "duration": 216,
    "start_time": "2022-08-30T04:42:55.171Z"
   },
   {
    "duration": 113,
    "start_time": "2022-08-30T04:42:55.389Z"
   },
   {
    "duration": 0,
    "start_time": "2022-08-30T04:42:55.504Z"
   },
   {
    "duration": 0,
    "start_time": "2022-08-30T04:42:55.505Z"
   },
   {
    "duration": 0,
    "start_time": "2022-08-30T04:42:55.507Z"
   },
   {
    "duration": 0,
    "start_time": "2022-08-30T04:42:55.509Z"
   },
   {
    "duration": 0,
    "start_time": "2022-08-30T04:42:55.510Z"
   },
   {
    "duration": 10,
    "start_time": "2022-08-30T04:44:02.964Z"
   },
   {
    "duration": 8,
    "start_time": "2022-08-30T04:44:14.010Z"
   },
   {
    "duration": 5,
    "start_time": "2022-08-30T04:44:18.770Z"
   },
   {
    "duration": 9,
    "start_time": "2022-08-30T04:44:23.194Z"
   },
   {
    "duration": 10,
    "start_time": "2022-08-30T04:44:25.147Z"
   },
   {
    "duration": 5,
    "start_time": "2022-08-30T04:44:27.362Z"
   },
   {
    "duration": 1441,
    "start_time": "2022-08-30T11:36:29.948Z"
   },
   {
    "duration": 20,
    "start_time": "2022-08-30T11:36:31.391Z"
   },
   {
    "duration": 16,
    "start_time": "2022-08-30T11:36:31.413Z"
   },
   {
    "duration": 5,
    "start_time": "2022-08-30T11:36:31.431Z"
   },
   {
    "duration": 74,
    "start_time": "2022-08-30T11:36:31.437Z"
   },
   {
    "duration": 11,
    "start_time": "2022-08-30T11:36:31.512Z"
   },
   {
    "duration": 4,
    "start_time": "2022-08-30T11:36:31.524Z"
   },
   {
    "duration": 17,
    "start_time": "2022-08-30T11:36:31.529Z"
   },
   {
    "duration": 9,
    "start_time": "2022-08-30T11:36:31.548Z"
   },
   {
    "duration": 10,
    "start_time": "2022-08-30T11:36:31.560Z"
   },
   {
    "duration": 59,
    "start_time": "2022-08-30T11:36:31.571Z"
   },
   {
    "duration": 4,
    "start_time": "2022-08-30T11:36:31.632Z"
   },
   {
    "duration": 26,
    "start_time": "2022-08-30T11:36:31.637Z"
   },
   {
    "duration": 16,
    "start_time": "2022-08-30T11:36:31.664Z"
   },
   {
    "duration": 227,
    "start_time": "2022-08-30T11:36:31.682Z"
   },
   {
    "duration": 20,
    "start_time": "2022-08-30T11:36:31.911Z"
   },
   {
    "duration": 69,
    "start_time": "2022-08-30T11:36:31.933Z"
   },
   {
    "duration": 282,
    "start_time": "2022-08-30T11:36:32.005Z"
   },
   {
    "duration": 8,
    "start_time": "2022-08-30T11:36:32.289Z"
   },
   {
    "duration": 205,
    "start_time": "2022-08-30T11:36:32.298Z"
   },
   {
    "duration": 52,
    "start_time": "2022-08-30T11:36:32.505Z"
   },
   {
    "duration": 256,
    "start_time": "2022-08-30T11:36:32.559Z"
   },
   {
    "duration": 7,
    "start_time": "2022-08-30T11:36:32.816Z"
   },
   {
    "duration": 168,
    "start_time": "2022-08-30T11:36:32.825Z"
   },
   {
    "duration": 187,
    "start_time": "2022-08-30T11:36:32.995Z"
   },
   {
    "duration": 185,
    "start_time": "2022-08-30T11:36:33.183Z"
   },
   {
    "duration": 263,
    "start_time": "2022-08-30T11:36:33.370Z"
   },
   {
    "duration": 177,
    "start_time": "2022-08-30T11:36:33.636Z"
   },
   {
    "duration": 172,
    "start_time": "2022-08-30T11:36:33.815Z"
   },
   {
    "duration": 184,
    "start_time": "2022-08-30T11:36:33.992Z"
   },
   {
    "duration": 218,
    "start_time": "2022-08-30T11:36:34.177Z"
   },
   {
    "duration": 215,
    "start_time": "2022-08-30T11:36:34.397Z"
   },
   {
    "duration": 11,
    "start_time": "2022-08-30T11:36:34.614Z"
   },
   {
    "duration": 293,
    "start_time": "2022-08-30T11:36:34.627Z"
   },
   {
    "duration": 11,
    "start_time": "2022-08-30T11:36:34.922Z"
   },
   {
    "duration": 324,
    "start_time": "2022-08-30T11:36:34.935Z"
   },
   {
    "duration": 12,
    "start_time": "2022-08-30T11:36:35.261Z"
   },
   {
    "duration": 212,
    "start_time": "2022-08-30T11:36:35.275Z"
   },
   {
    "duration": 10,
    "start_time": "2022-08-30T11:36:35.488Z"
   },
   {
    "duration": 20,
    "start_time": "2022-08-30T11:36:35.500Z"
   },
   {
    "duration": 15,
    "start_time": "2022-08-30T11:36:35.522Z"
   },
   {
    "duration": 30,
    "start_time": "2022-08-30T11:36:35.539Z"
   },
   {
    "duration": 14,
    "start_time": "2022-08-30T11:36:35.571Z"
   },
   {
    "duration": 21,
    "start_time": "2022-08-30T11:36:35.587Z"
   },
   {
    "duration": 1526,
    "start_time": "2022-08-30T14:36:19.966Z"
   },
   {
    "duration": 22,
    "start_time": "2022-08-30T14:36:21.494Z"
   },
   {
    "duration": 15,
    "start_time": "2022-08-30T14:36:21.518Z"
   },
   {
    "duration": 7,
    "start_time": "2022-08-30T14:36:21.535Z"
   },
   {
    "duration": 87,
    "start_time": "2022-08-30T14:36:21.544Z"
   },
   {
    "duration": 10,
    "start_time": "2022-08-30T14:36:21.632Z"
   },
   {
    "duration": 6,
    "start_time": "2022-08-30T14:36:21.643Z"
   },
   {
    "duration": 22,
    "start_time": "2022-08-30T14:36:21.651Z"
   },
   {
    "duration": 28,
    "start_time": "2022-08-30T14:36:21.675Z"
   },
   {
    "duration": 8,
    "start_time": "2022-08-30T14:36:21.707Z"
   },
   {
    "duration": 42,
    "start_time": "2022-08-30T14:36:21.717Z"
   },
   {
    "duration": 5,
    "start_time": "2022-08-30T14:36:21.761Z"
   },
   {
    "duration": 42,
    "start_time": "2022-08-30T14:36:21.767Z"
   },
   {
    "duration": 4,
    "start_time": "2022-08-30T14:36:21.811Z"
   },
   {
    "duration": 228,
    "start_time": "2022-08-30T14:36:21.817Z"
   },
   {
    "duration": 16,
    "start_time": "2022-08-30T14:36:22.047Z"
   },
   {
    "duration": 71,
    "start_time": "2022-08-30T14:36:22.065Z"
   },
   {
    "duration": 251,
    "start_time": "2022-08-30T14:36:22.138Z"
   },
   {
    "duration": 12,
    "start_time": "2022-08-30T14:36:22.392Z"
   },
   {
    "duration": 233,
    "start_time": "2022-08-30T14:36:22.406Z"
   },
   {
    "duration": 72,
    "start_time": "2022-08-30T14:36:22.641Z"
   },
   {
    "duration": 275,
    "start_time": "2022-08-30T14:36:22.715Z"
   },
   {
    "duration": 13,
    "start_time": "2022-08-30T14:36:22.992Z"
   },
   {
    "duration": 166,
    "start_time": "2022-08-30T14:36:23.007Z"
   },
   {
    "duration": 198,
    "start_time": "2022-08-30T14:36:23.175Z"
   },
   {
    "duration": 194,
    "start_time": "2022-08-30T14:36:23.375Z"
   },
   {
    "duration": 267,
    "start_time": "2022-08-30T14:36:23.571Z"
   },
   {
    "duration": 196,
    "start_time": "2022-08-30T14:36:23.841Z"
   },
   {
    "duration": 182,
    "start_time": "2022-08-30T14:36:24.039Z"
   },
   {
    "duration": 174,
    "start_time": "2022-08-30T14:36:24.223Z"
   },
   {
    "duration": 215,
    "start_time": "2022-08-30T14:36:24.402Z"
   },
   {
    "duration": 225,
    "start_time": "2022-08-30T14:36:24.618Z"
   },
   {
    "duration": 10,
    "start_time": "2022-08-30T14:36:24.844Z"
   },
   {
    "duration": 295,
    "start_time": "2022-08-30T14:36:24.856Z"
   },
   {
    "duration": 10,
    "start_time": "2022-08-30T14:36:25.153Z"
   },
   {
    "duration": 319,
    "start_time": "2022-08-30T14:36:25.165Z"
   },
   {
    "duration": 20,
    "start_time": "2022-08-30T14:36:25.486Z"
   },
   {
    "duration": 220,
    "start_time": "2022-08-30T14:36:25.507Z"
   },
   {
    "duration": 9,
    "start_time": "2022-08-30T14:36:25.729Z"
   },
   {
    "duration": 22,
    "start_time": "2022-08-30T14:36:25.740Z"
   },
   {
    "duration": 38,
    "start_time": "2022-08-30T14:36:25.764Z"
   },
   {
    "duration": 37,
    "start_time": "2022-08-30T14:36:25.803Z"
   },
   {
    "duration": 27,
    "start_time": "2022-08-30T14:36:25.842Z"
   },
   {
    "duration": 25,
    "start_time": "2022-08-30T14:36:25.871Z"
   },
   {
    "duration": 1195,
    "start_time": "2022-09-01T10:00:05.870Z"
   },
   {
    "duration": 3,
    "start_time": "2022-09-01T10:00:10.439Z"
   },
   {
    "duration": 185,
    "start_time": "2022-09-01T10:00:15.511Z"
   },
   {
    "duration": 19,
    "start_time": "2022-09-01T10:01:40.569Z"
   },
   {
    "duration": 15,
    "start_time": "2022-09-01T10:01:45.392Z"
   },
   {
    "duration": 4,
    "start_time": "2022-09-01T10:02:49.327Z"
   },
   {
    "duration": 84,
    "start_time": "2022-09-01T10:04:05.312Z"
   },
   {
    "duration": 12,
    "start_time": "2022-09-01T10:04:48.176Z"
   },
   {
    "duration": 5,
    "start_time": "2022-09-01T10:07:29.121Z"
   },
   {
    "duration": 45,
    "start_time": "2022-09-01T10:09:59.795Z"
   },
   {
    "duration": 10,
    "start_time": "2022-09-01T10:10:04.978Z"
   },
   {
    "duration": 3,
    "start_time": "2022-09-01T10:10:06.869Z"
   },
   {
    "duration": 10,
    "start_time": "2022-09-01T10:10:09.441Z"
   },
   {
    "duration": 4,
    "start_time": "2022-09-01T10:10:12.191Z"
   },
   {
    "duration": 5,
    "start_time": "2022-09-01T10:10:15.031Z"
   },
   {
    "duration": 39,
    "start_time": "2022-09-01T10:11:30.435Z"
   },
   {
    "duration": 4,
    "start_time": "2022-09-01T10:11:37.619Z"
   },
   {
    "duration": 14,
    "start_time": "2022-09-01T10:11:41.307Z"
   },
   {
    "duration": 6,
    "start_time": "2022-09-01T10:18:04.924Z"
   },
   {
    "duration": 199,
    "start_time": "2022-09-01T10:37:31.915Z"
   },
   {
    "duration": 116,
    "start_time": "2022-09-01T10:38:04.812Z"
   },
   {
    "duration": 140,
    "start_time": "2022-09-01T10:38:14.119Z"
   },
   {
    "duration": 87,
    "start_time": "2022-09-01T10:39:29.627Z"
   },
   {
    "duration": 139,
    "start_time": "2022-09-01T10:39:42.908Z"
   },
   {
    "duration": 167,
    "start_time": "2022-09-01T11:24:16.278Z"
   },
   {
    "duration": 15,
    "start_time": "2022-09-01T11:24:20.332Z"
   },
   {
    "duration": 52,
    "start_time": "2022-09-01T11:24:25.995Z"
   },
   {
    "duration": 214,
    "start_time": "2022-09-01T11:24:29.519Z"
   },
   {
    "duration": 12,
    "start_time": "2022-09-01T11:26:06.138Z"
   },
   {
    "duration": 149,
    "start_time": "2022-09-01T11:26:38.250Z"
   },
   {
    "duration": 276,
    "start_time": "2022-09-01T11:27:48.035Z"
   },
   {
    "duration": 7,
    "start_time": "2022-09-01T11:28:37.756Z"
   },
   {
    "duration": 165,
    "start_time": "2022-09-01T11:28:39.877Z"
   },
   {
    "duration": 43,
    "start_time": "2022-09-01T11:28:44.791Z"
   },
   {
    "duration": 203,
    "start_time": "2022-09-01T11:29:12.869Z"
   },
   {
    "duration": 6,
    "start_time": "2022-09-01T11:29:22.354Z"
   },
   {
    "duration": 143,
    "start_time": "2022-09-01T11:29:24.539Z"
   },
   {
    "duration": 158,
    "start_time": "2022-09-01T11:29:41.156Z"
   },
   {
    "duration": 143,
    "start_time": "2022-09-01T11:29:44.828Z"
   },
   {
    "duration": 140,
    "start_time": "2022-09-01T11:29:49.577Z"
   },
   {
    "duration": 136,
    "start_time": "2022-09-01T11:29:52.596Z"
   },
   {
    "duration": 130,
    "start_time": "2022-09-01T11:29:55.181Z"
   },
   {
    "duration": 133,
    "start_time": "2022-09-01T11:29:59.141Z"
   },
   {
    "duration": 180,
    "start_time": "2022-09-01T11:30:07.764Z"
   },
   {
    "duration": 256,
    "start_time": "2022-09-01T11:30:11.203Z"
   },
   {
    "duration": 5984,
    "start_time": "2022-09-01T11:35:26.711Z"
   },
   {
    "duration": 174,
    "start_time": "2022-09-01T11:35:49.638Z"
   },
   {
    "duration": 1001,
    "start_time": "2022-09-01T11:50:51.317Z"
   },
   {
    "duration": 3,
    "start_time": "2022-09-01T11:50:52.320Z"
   },
   {
    "duration": 67,
    "start_time": "2022-09-01T11:50:52.324Z"
   },
   {
    "duration": 18,
    "start_time": "2022-09-01T11:50:52.393Z"
   },
   {
    "duration": 14,
    "start_time": "2022-09-01T11:50:52.412Z"
   },
   {
    "duration": 4,
    "start_time": "2022-09-01T11:50:52.428Z"
   },
   {
    "duration": 57,
    "start_time": "2022-09-01T11:50:52.433Z"
   },
   {
    "duration": 8,
    "start_time": "2022-09-01T11:50:52.491Z"
   },
   {
    "duration": 3,
    "start_time": "2022-09-01T11:50:52.501Z"
   },
   {
    "duration": 36,
    "start_time": "2022-09-01T11:50:52.506Z"
   },
   {
    "duration": 22,
    "start_time": "2022-09-01T11:50:52.544Z"
   },
   {
    "duration": 14,
    "start_time": "2022-09-01T11:50:52.568Z"
   },
   {
    "duration": 55,
    "start_time": "2022-09-01T11:50:52.584Z"
   },
   {
    "duration": 4,
    "start_time": "2022-09-01T11:50:52.641Z"
   },
   {
    "duration": 33,
    "start_time": "2022-09-01T11:50:52.646Z"
   },
   {
    "duration": 10,
    "start_time": "2022-09-01T11:50:52.681Z"
   },
   {
    "duration": 166,
    "start_time": "2022-09-01T11:50:52.693Z"
   },
   {
    "duration": 15,
    "start_time": "2022-09-01T11:50:52.861Z"
   },
   {
    "duration": 42,
    "start_time": "2022-09-01T11:50:52.878Z"
   },
   {
    "duration": 240,
    "start_time": "2022-09-01T11:50:52.921Z"
   },
   {
    "duration": 9,
    "start_time": "2022-09-01T11:50:53.163Z"
   },
   {
    "duration": 201,
    "start_time": "2022-09-01T11:50:53.174Z"
   },
   {
    "duration": 52,
    "start_time": "2022-09-01T11:50:53.377Z"
   },
   {
    "duration": 264,
    "start_time": "2022-09-01T11:50:53.430Z"
   },
   {
    "duration": 7,
    "start_time": "2022-09-01T11:50:53.696Z"
   },
   {
    "duration": 154,
    "start_time": "2022-09-01T11:50:53.705Z"
   },
   {
    "duration": 172,
    "start_time": "2022-09-01T11:50:53.860Z"
   },
   {
    "duration": 170,
    "start_time": "2022-09-01T11:50:54.035Z"
   },
   {
    "duration": 241,
    "start_time": "2022-09-01T11:50:54.207Z"
   },
   {
    "duration": 165,
    "start_time": "2022-09-01T11:50:54.450Z"
   },
   {
    "duration": 159,
    "start_time": "2022-09-01T11:50:54.616Z"
   },
   {
    "duration": 146,
    "start_time": "2022-09-01T11:50:54.777Z"
   },
   {
    "duration": 191,
    "start_time": "2022-09-01T11:50:54.924Z"
   },
   {
    "duration": 181,
    "start_time": "2022-09-01T11:50:55.117Z"
   },
   {
    "duration": 182,
    "start_time": "2022-09-01T11:50:55.299Z"
   },
   {
    "duration": 10,
    "start_time": "2022-09-01T11:50:55.483Z"
   },
   {
    "duration": 250,
    "start_time": "2022-09-01T11:50:55.494Z"
   },
   {
    "duration": 14,
    "start_time": "2022-09-01T11:50:55.745Z"
   },
   {
    "duration": 265,
    "start_time": "2022-09-01T11:50:55.760Z"
   },
   {
    "duration": 9,
    "start_time": "2022-09-01T11:50:56.026Z"
   },
   {
    "duration": 173,
    "start_time": "2022-09-01T11:50:56.037Z"
   },
   {
    "duration": 8,
    "start_time": "2022-09-01T11:50:56.212Z"
   },
   {
    "duration": 24,
    "start_time": "2022-09-01T11:50:56.222Z"
   },
   {
    "duration": 8,
    "start_time": "2022-09-01T11:50:56.248Z"
   },
   {
    "duration": 10,
    "start_time": "2022-09-01T11:50:56.258Z"
   },
   {
    "duration": 6,
    "start_time": "2022-09-01T11:50:56.270Z"
   },
   {
    "duration": 9,
    "start_time": "2022-09-01T11:50:56.278Z"
   },
   {
    "duration": 76,
    "start_time": "2022-09-01T11:51:59.766Z"
   },
   {
    "duration": 163,
    "start_time": "2022-09-01T11:52:14.286Z"
   },
   {
    "duration": 269,
    "start_time": "2022-09-01T11:52:19.350Z"
   },
   {
    "duration": 248,
    "start_time": "2022-09-01T11:52:44.654Z"
   },
   {
    "duration": 241,
    "start_time": "2022-09-01T11:53:00.186Z"
   },
   {
    "duration": 1168,
    "start_time": "2022-09-01T11:53:18.022Z"
   },
   {
    "duration": 3,
    "start_time": "2022-09-01T11:53:19.191Z"
   },
   {
    "duration": 78,
    "start_time": "2022-09-01T11:53:19.196Z"
   },
   {
    "duration": 27,
    "start_time": "2022-09-01T11:53:19.276Z"
   },
   {
    "duration": 16,
    "start_time": "2022-09-01T11:53:19.305Z"
   },
   {
    "duration": 5,
    "start_time": "2022-09-01T11:53:19.323Z"
   },
   {
    "duration": 81,
    "start_time": "2022-09-01T11:53:19.330Z"
   },
   {
    "duration": 11,
    "start_time": "2022-09-01T11:53:19.413Z"
   },
   {
    "duration": 7,
    "start_time": "2022-09-01T11:53:19.426Z"
   },
   {
    "duration": 34,
    "start_time": "2022-09-01T11:53:19.436Z"
   },
   {
    "duration": 5,
    "start_time": "2022-09-01T11:53:19.472Z"
   },
   {
    "duration": 10,
    "start_time": "2022-09-01T11:53:19.479Z"
   },
   {
    "duration": 56,
    "start_time": "2022-09-01T11:53:19.491Z"
   },
   {
    "duration": 6,
    "start_time": "2022-09-01T11:53:19.554Z"
   },
   {
    "duration": 20,
    "start_time": "2022-09-01T11:53:19.561Z"
   },
   {
    "duration": 7,
    "start_time": "2022-09-01T11:53:19.583Z"
   },
   {
    "duration": 208,
    "start_time": "2022-09-01T11:53:19.591Z"
   },
   {
    "duration": 14,
    "start_time": "2022-09-01T11:53:19.801Z"
   },
   {
    "duration": 63,
    "start_time": "2022-09-01T11:53:19.817Z"
   },
   {
    "duration": 240,
    "start_time": "2022-09-01T11:53:19.881Z"
   },
   {
    "duration": 7,
    "start_time": "2022-09-01T11:53:20.123Z"
   },
   {
    "duration": 184,
    "start_time": "2022-09-01T11:53:20.131Z"
   },
   {
    "duration": 53,
    "start_time": "2022-09-01T11:53:20.317Z"
   },
   {
    "duration": 225,
    "start_time": "2022-09-01T11:53:20.372Z"
   },
   {
    "duration": 5,
    "start_time": "2022-09-01T11:53:20.598Z"
   },
   {
    "duration": 162,
    "start_time": "2022-09-01T11:53:20.605Z"
   },
   {
    "duration": 207,
    "start_time": "2022-09-01T11:53:20.769Z"
   },
   {
    "duration": 203,
    "start_time": "2022-09-01T11:53:20.980Z"
   },
   {
    "duration": 257,
    "start_time": "2022-09-01T11:53:21.184Z"
   },
   {
    "duration": 156,
    "start_time": "2022-09-01T11:53:21.443Z"
   },
   {
    "duration": 159,
    "start_time": "2022-09-01T11:53:21.600Z"
   },
   {
    "duration": 151,
    "start_time": "2022-09-01T11:53:21.761Z"
   },
   {
    "duration": 192,
    "start_time": "2022-09-01T11:53:21.913Z"
   },
   {
    "duration": 196,
    "start_time": "2022-09-01T11:53:22.107Z"
   },
   {
    "duration": 194,
    "start_time": "2022-09-01T11:53:22.305Z"
   },
   {
    "duration": 11,
    "start_time": "2022-09-01T11:53:22.500Z"
   },
   {
    "duration": 268,
    "start_time": "2022-09-01T11:53:22.513Z"
   },
   {
    "duration": 10,
    "start_time": "2022-09-01T11:53:22.783Z"
   },
   {
    "duration": 295,
    "start_time": "2022-09-01T11:53:22.795Z"
   },
   {
    "duration": 10,
    "start_time": "2022-09-01T11:53:23.092Z"
   },
   {
    "duration": 183,
    "start_time": "2022-09-01T11:53:23.103Z"
   },
   {
    "duration": 8,
    "start_time": "2022-09-01T11:53:23.288Z"
   },
   {
    "duration": 10,
    "start_time": "2022-09-01T11:53:23.297Z"
   },
   {
    "duration": 9,
    "start_time": "2022-09-01T11:53:23.308Z"
   },
   {
    "duration": 11,
    "start_time": "2022-09-01T11:53:23.318Z"
   },
   {
    "duration": 27,
    "start_time": "2022-09-01T11:53:23.330Z"
   },
   {
    "duration": 5,
    "start_time": "2022-09-01T11:53:23.359Z"
   }
  ],
  "kernelspec": {
   "display_name": "Python 3 (ipykernel)",
   "language": "python",
   "name": "python3"
  },
  "language_info": {
   "codemirror_mode": {
    "name": "ipython",
    "version": 3
   },
   "file_extension": ".py",
   "mimetype": "text/x-python",
   "name": "python",
   "nbconvert_exporter": "python",
   "pygments_lexer": "ipython3",
   "version": "3.9.12"
  },
  "toc": {
   "base_numbering": 1,
   "nav_menu": {},
   "number_sections": true,
   "sideBar": true,
   "skip_h1_title": true,
   "title_cell": "Table of Contents",
   "title_sidebar": "Contents",
   "toc_cell": false,
   "toc_position": {
    "height": "calc(100% - 180px)",
    "left": "10px",
    "top": "150px",
    "width": "264.025px"
   },
   "toc_section_display": true,
   "toc_window_display": true
  }
 },
 "nbformat": 4,
 "nbformat_minor": 2
}
