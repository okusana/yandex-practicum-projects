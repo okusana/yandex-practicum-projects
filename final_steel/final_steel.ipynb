{
 "cells": [
  {
   "cell_type": "markdown",
   "metadata": {
    "toc": true
   },
   "source": [
    "<h1>Содержание<span class=\"tocSkip\"></span></h1>\n",
    "<div class=\"toc\"><ul class=\"toc-item\"><li><span><a href=\"#Обзор-данных\" data-toc-modified-id=\"Обзор-данных-1\"><span class=\"toc-item-num\">1&nbsp;&nbsp;</span>Обзор данных</a></span><ul class=\"toc-item\"><li><span><a href=\"#Данные-о-температуре\" data-toc-modified-id=\"Данные-о-температуре-1.1\"><span class=\"toc-item-num\">1.1&nbsp;&nbsp;</span>Данные о температуре</a></span></li><li><span><a href=\"#Данные-об-электродах\" data-toc-modified-id=\"Данные-об-электродах-1.2\"><span class=\"toc-item-num\">1.2&nbsp;&nbsp;</span>Данные об электродах</a></span></li><li><span><a href=\"#Данные-о-сыпучих-и-проволочных-материалах\" data-toc-modified-id=\"Данные-о-сыпучих-и-проволочных-материалах-1.3\"><span class=\"toc-item-num\">1.3&nbsp;&nbsp;</span>Данные о сыпучих и проволочных материалах</a></span></li><li><span><a href=\"#Данные-о-продувке-газом\" data-toc-modified-id=\"Данные-о-продувке-газом-1.4\"><span class=\"toc-item-num\">1.4&nbsp;&nbsp;</span>Данные о продувке газом</a></span></li><li><span><a href=\"#Выводы\" data-toc-modified-id=\"Выводы-1.5\"><span class=\"toc-item-num\">1.5&nbsp;&nbsp;</span>Выводы</a></span></li><li><span><a href=\"#Вопросы-по-процессу\" data-toc-modified-id=\"Вопросы-по-процессу-1.6\"><span class=\"toc-item-num\">1.6&nbsp;&nbsp;</span>Вопросы по процессу</a></span></li></ul></li><li><span><a href=\"#Предобработка-данных\" data-toc-modified-id=\"Предобработка-данных-2\"><span class=\"toc-item-num\">2&nbsp;&nbsp;</span>Предобработка данных</a></span><ul class=\"toc-item\"><li><span><a href=\"#Подготовка-таблиц\" data-toc-modified-id=\"Подготовка-таблиц-2.1\"><span class=\"toc-item-num\">2.1&nbsp;&nbsp;</span>Подготовка таблиц</a></span><ul class=\"toc-item\"><li><span><a href=\"#Датасет-с-температурой\" data-toc-modified-id=\"Датасет-с-температурой-2.1.1\"><span class=\"toc-item-num\">2.1.1&nbsp;&nbsp;</span>Датасет с температурой</a></span></li><li><span><a href=\"#Датасет-с-электродами\" data-toc-modified-id=\"Датасет-с-электродами-2.1.2\"><span class=\"toc-item-num\">2.1.2&nbsp;&nbsp;</span>Датасет с электродами</a></span></li><li><span><a href=\"#Датасеты-с-добавками\" data-toc-modified-id=\"Датасеты-с-добавками-2.1.3\"><span class=\"toc-item-num\">2.1.3&nbsp;&nbsp;</span>Датасеты с добавками</a></span></li><li><span><a href=\"#Датасет-с-продувкой-газом\" data-toc-modified-id=\"Датасет-с-продувкой-газом-2.1.4\"><span class=\"toc-item-num\">2.1.4&nbsp;&nbsp;</span>Датасет с продувкой газом</a></span></li></ul></li><li><span><a href=\"#Объединение-данных\" data-toc-modified-id=\"Объединение-данных-2.2\"><span class=\"toc-item-num\">2.2&nbsp;&nbsp;</span>Объединение данных</a></span></li></ul></li><li><span><a href=\"#Обучение-моделей\" data-toc-modified-id=\"Обучение-моделей-3\"><span class=\"toc-item-num\">3&nbsp;&nbsp;</span>Обучение моделей</a></span><ul class=\"toc-item\"><li><span><a href=\"#LinearRegression\" data-toc-modified-id=\"LinearRegression-3.1\"><span class=\"toc-item-num\">3.1&nbsp;&nbsp;</span>LinearRegression</a></span></li><li><span><a href=\"#RandomForestRegressor\" data-toc-modified-id=\"RandomForestRegressor-3.2\"><span class=\"toc-item-num\">3.2&nbsp;&nbsp;</span>RandomForestRegressor</a></span></li><li><span><a href=\"#LGBMRegressor\" data-toc-modified-id=\"LGBMRegressor-3.3\"><span class=\"toc-item-num\">3.3&nbsp;&nbsp;</span>LGBMRegressor</a></span></li><li><span><a href=\"#CatBoostRegressor\" data-toc-modified-id=\"CatBoostRegressor-3.4\"><span class=\"toc-item-num\">3.4&nbsp;&nbsp;</span>CatBoostRegressor</a></span></li><li><span><a href=\"#Сравнение-моделей\" data-toc-modified-id=\"Сравнение-моделей-3.5\"><span class=\"toc-item-num\">3.5&nbsp;&nbsp;</span>Сравнение моделей</a></span></li><li><span><a href=\"#Тестирование-лучшей-модели\" data-toc-modified-id=\"Тестирование-лучшей-модели-3.6\"><span class=\"toc-item-num\">3.6&nbsp;&nbsp;</span>Тестирование лучшей модели</a></span></li><li><span><a href=\"#Исследование-важности-признаков\" data-toc-modified-id=\"Исследование-важности-признаков-3.7\"><span class=\"toc-item-num\">3.7&nbsp;&nbsp;</span>Исследование важности признаков</a></span></li></ul></li><li><span><a href=\"#Отчёт-по-проекту\" data-toc-modified-id=\"Отчёт-по-проекту-4\"><span class=\"toc-item-num\">4&nbsp;&nbsp;</span>Отчёт по проекту</a></span></li></ul></div>"
   ]
  },
  {
   "cell_type": "markdown",
   "metadata": {},
   "source": [
    "# Выплавка стали"
   ]
  },
  {
   "cell_type": "markdown",
   "metadata": {},
   "source": [
    "Чтобы оптимизировать производственные расходы, металлургический комбинат решил уменьшить потребление электроэнергии на этапе обработки стали. Для этого необходимо построить модель, которая будет предсказывать температуру расплава стали."
   ]
  },
  {
   "cell_type": "markdown",
   "metadata": {},
   "source": [
    "**План проекта:**"
   ]
  },
  {
   "cell_type": "markdown",
   "metadata": {},
   "source": [
    "**1. Проведение обзора данных (EDA)**\n",
    "\n",
    "\n",
    "   - **Подготовка данных:**\n",
    "     - импорт необходимых библиотек;\n",
    "     - чтение файлов и сохранение полученных данных в переменные;\n",
    "     - получение общей информации о таблицах (head, info, describe);\n",
    "     - корректировка наименований столбцов (при необходимости);\n",
    "     - выводы.\n",
    " \n",
    " \n",
    "   - **Анализ данных:**\n",
    "     - графическое представление данных из таблиц;\n",
    "     - проверка данных на аномалии;\n",
    "     - выводы.\n",
    "\n",
    "\n",
    "   - **Предобработка данных:**\n",
    "     - корректировка типов данных (при необходимости);\n",
    "     - заполнение пропусков / удаление дубликатов (при наличии);\n",
    "     - выделение признаков и таргета;\n",
    "     - соединение таблиц;\n",
    "     - выводы.\n",
    "\n",
    "\n",
    "   - **Исследование итоговой таблицы с данными:**\n",
    "     - аналитический анализ;\n",
    "     - графический анализ;\n",
    "     - корреляционный анализ;\n",
    "     - выводы.\n",
    "\n",
    "\n",
    "**2. Построение модели машинного обучения**\n",
    "\n",
    "\n",
    "   - **Обучение модели:**\n",
    "     - разделение данных на обучающую и тестовую выборки;\n",
    "     - масштабирование данных;\n",
    "     - обучение модели линейной регрессии;\n",
    "     - обучение моделей градиентного бустинга с перебором гиперпараметров;\n",
    "     - выбор лучшей модели.\n",
    "     \n",
    "\n",
    "   - **Проверка моделей:**\n",
    "     - тестирование лучшей модели на тестовой выборке;\n",
    "     - если MAE на тестовых данных > 6.8 - доработка модели;\n",
    "     - сравнение с константной моделью;\n",
    "     - анализ важности факторов.\n",
    "\n",
    "\n",
    "**3. Общий вывод**"
   ]
  },
  {
   "cell_type": "markdown",
   "metadata": {},
   "source": [
    "# Подготовка данных"
   ]
  },
  {
   "cell_type": "code",
   "execution_count": 1,
   "metadata": {},
   "outputs": [],
   "source": [
    "!pip install -q lightgbm "
   ]
  },
  {
   "cell_type": "code",
   "execution_count": 2,
   "metadata": {},
   "outputs": [],
   "source": [
    "!pip install -q catboost "
   ]
  },
  {
   "cell_type": "code",
   "execution_count": 3,
   "metadata": {},
   "outputs": [],
   "source": [
    "# импорт необходимых библиотек\n",
    "import warnings \n",
    "import pandas as pd\n",
    "import seaborn as sns\n",
    "import matplotlib.pyplot as plt \n",
    "from sklearn.model_selection import train_test_split, GridSearchCV\n",
    "from sklearn.pipeline import make_pipeline\n",
    "from sklearn.preprocessing import StandardScaler\n",
    "from sklearn.linear_model import LinearRegression\n",
    "from sklearn.ensemble import RandomForestRegressor\n",
    "from sklearn.metrics import mean_absolute_error\n",
    "from lightgbm import LGBMRegressor\n",
    "from catboost import CatBoostRegressor\n",
    "from sklearn.dummy import DummyRegressor"
   ]
  },
  {
   "cell_type": "code",
   "execution_count": 4,
   "metadata": {},
   "outputs": [],
   "source": [
    "# убираем вывод предупреждений\n",
    "warnings.filterwarnings('ignore') "
   ]
  },
  {
   "cell_type": "markdown",
   "metadata": {},
   "source": [
    "## Обзор данных"
   ]
  },
  {
   "cell_type": "markdown",
   "metadata": {},
   "source": [
    "**Запишем** имеющиеся в нашем распоряжении **данные в датафреймы**:"
   ]
  },
  {
   "cell_type": "code",
   "execution_count": 5,
   "metadata": {},
   "outputs": [],
   "source": [
    "try:\n",
    "    electrodes = pd.read_csv('data_arc.csv')\n",
    "    bulk = pd.read_csv('data_bulk.csv')\n",
    "    bulk_time = pd.read_csv('data_bulk_time.csv')\n",
    "    gas = pd.read_csv('data_gas.csv')\n",
    "    temperature = pd.read_csv('data_temp.csv')\n",
    "    wire = pd.read_csv('data_wire.csv')\n",
    "    wire_time = pd.read_csv('data_wire_time.csv')\n",
    "except:\n",
    "    electrodes = pd.read_csv('/datasets/final_steel/data_arc.csv')\n",
    "    bulk = pd.read_csv('/datasets/final_steel/data_bulk.csv')\n",
    "    bulk_time = pd.read_csv('/datasets/final_steel/data_bulk_time.csv')\n",
    "    gas = pd.read_csv('/datasets/final_steel/data_gas.csv')\n",
    "    temperature = pd.read_csv('/datasets/final_steel/data_temp.csv')\n",
    "    wire = pd.read_csv('/datasets/final_steel/data_wire.csv')\n",
    "    wire_time = pd.read_csv('/datasets/final_steel/data_wire_time.csv')"
   ]
  },
  {
   "cell_type": "markdown",
   "metadata": {},
   "source": [
    "### Данные о температуре"
   ]
  },
  {
   "cell_type": "markdown",
   "metadata": {},
   "source": [
    "Для начала посмотрим на **измеренные температуры**, поскольку **энергопотребление должно напрямую коррелировать с ними**: "
   ]
  },
  {
   "cell_type": "code",
   "execution_count": 6,
   "metadata": {
    "scrolled": true
   },
   "outputs": [
    {
     "data": {
      "text/html": [
       "<div>\n",
       "<style scoped>\n",
       "    .dataframe tbody tr th:only-of-type {\n",
       "        vertical-align: middle;\n",
       "    }\n",
       "\n",
       "    .dataframe tbody tr th {\n",
       "        vertical-align: top;\n",
       "    }\n",
       "\n",
       "    .dataframe thead th {\n",
       "        text-align: right;\n",
       "    }\n",
       "</style>\n",
       "<table border=\"1\" class=\"dataframe\">\n",
       "  <thead>\n",
       "    <tr style=\"text-align: right;\">\n",
       "      <th></th>\n",
       "      <th>key</th>\n",
       "      <th>Время замера</th>\n",
       "      <th>Температура</th>\n",
       "    </tr>\n",
       "  </thead>\n",
       "  <tbody>\n",
       "    <tr>\n",
       "      <th>0</th>\n",
       "      <td>1</td>\n",
       "      <td>2019-05-03 11:16:18</td>\n",
       "      <td>1571.0</td>\n",
       "    </tr>\n",
       "    <tr>\n",
       "      <th>1</th>\n",
       "      <td>1</td>\n",
       "      <td>2019-05-03 11:25:53</td>\n",
       "      <td>1604.0</td>\n",
       "    </tr>\n",
       "    <tr>\n",
       "      <th>2</th>\n",
       "      <td>1</td>\n",
       "      <td>2019-05-03 11:29:11</td>\n",
       "      <td>1618.0</td>\n",
       "    </tr>\n",
       "    <tr>\n",
       "      <th>3</th>\n",
       "      <td>1</td>\n",
       "      <td>2019-05-03 11:30:01</td>\n",
       "      <td>1601.0</td>\n",
       "    </tr>\n",
       "    <tr>\n",
       "      <th>4</th>\n",
       "      <td>1</td>\n",
       "      <td>2019-05-03 11:30:39</td>\n",
       "      <td>1613.0</td>\n",
       "    </tr>\n",
       "    <tr>\n",
       "      <th>5</th>\n",
       "      <td>2</td>\n",
       "      <td>2019-05-03 11:37:27</td>\n",
       "      <td>1581.0</td>\n",
       "    </tr>\n",
       "    <tr>\n",
       "      <th>6</th>\n",
       "      <td>2</td>\n",
       "      <td>2019-05-03 11:38:00</td>\n",
       "      <td>1577.0</td>\n",
       "    </tr>\n",
       "    <tr>\n",
       "      <th>7</th>\n",
       "      <td>2</td>\n",
       "      <td>2019-05-03 11:49:38</td>\n",
       "      <td>1589.0</td>\n",
       "    </tr>\n",
       "    <tr>\n",
       "      <th>8</th>\n",
       "      <td>2</td>\n",
       "      <td>2019-05-03 11:55:50</td>\n",
       "      <td>1604.0</td>\n",
       "    </tr>\n",
       "    <tr>\n",
       "      <th>9</th>\n",
       "      <td>2</td>\n",
       "      <td>2019-05-03 11:58:24</td>\n",
       "      <td>1608.0</td>\n",
       "    </tr>\n",
       "  </tbody>\n",
       "</table>\n",
       "</div>"
      ],
      "text/plain": [
       "   key         Время замера  Температура\n",
       "0    1  2019-05-03 11:16:18       1571.0\n",
       "1    1  2019-05-03 11:25:53       1604.0\n",
       "2    1  2019-05-03 11:29:11       1618.0\n",
       "3    1  2019-05-03 11:30:01       1601.0\n",
       "4    1  2019-05-03 11:30:39       1613.0\n",
       "5    2  2019-05-03 11:37:27       1581.0\n",
       "6    2  2019-05-03 11:38:00       1577.0\n",
       "7    2  2019-05-03 11:49:38       1589.0\n",
       "8    2  2019-05-03 11:55:50       1604.0\n",
       "9    2  2019-05-03 11:58:24       1608.0"
      ]
     },
     "execution_count": 6,
     "metadata": {},
     "output_type": "execute_result"
    }
   ],
   "source": [
    "temperature.head(10)"
   ]
  },
  {
   "cell_type": "markdown",
   "metadata": {},
   "source": [
    "Посмотрим, **как распределяется количество замеров температуры на партию**:"
   ]
  },
  {
   "cell_type": "code",
   "execution_count": 7,
   "metadata": {},
   "outputs": [
    {
     "data": {
      "text/plain": [
       "<Figure size 432x288 with 0 Axes>"
      ]
     },
     "metadata": {},
     "output_type": "display_data"
    },
    {
     "data": {
      "image/png": "[encoded data removed]",
      "text/plain": [
       "<Figure size 720x360 with 1 Axes>"
      ]
     },
     "metadata": {
      "needs_background": "light"
     },
     "output_type": "display_data"
    }
   ],
   "source": [
    "plt.figure()\n",
    "\n",
    "pd.pivot_table(temperature, values='Температура', index='key', aggfunc='count').hist(bins=16, figsize=(10, 5))\n",
    "\n",
    "plt.title(label='Число итераций на парию сырья')\n",
    "plt.xlabel('Число итераций')\n",
    "plt.ylabel('Частота');"
   ]
  },
  {
   "cell_type": "markdown",
   "metadata": {},
   "source": [
    "Как видно, очень **часто хватает и одного замера**, т.е. достигается и необходимый состав и температура. **Однако в основном необходимо от 3 до 6 итераций**."
   ]
  },
  {
   "cell_type": "code",
   "execution_count": 8,
   "metadata": {},
   "outputs": [
    {
     "name": "stdout",
     "output_type": "stream",
     "text": [
      "<class 'pandas.core.frame.DataFrame'>\n",
      "RangeIndex: 15907 entries, 0 to 15906\n",
      "Data columns (total 3 columns):\n",
      " #   Column        Non-Null Count  Dtype  \n",
      "---  ------        --------------  -----  \n",
      " 0   key           15907 non-null  int64  \n",
      " 1   Время замера  15907 non-null  object \n",
      " 2   Температура   13006 non-null  float64\n",
      "dtypes: float64(1), int64(1), object(1)\n",
      "memory usage: 372.9+ KB\n"
     ]
    }
   ],
   "source": [
    "temperature.info()"
   ]
  },
  {
   "cell_type": "markdown",
   "metadata": {},
   "source": [
    "**Строки с пропусками в столбце 'Температура' не представляют интереса**, а поскольку целевым является ковш, то любой пропущенный замер для партии потенциально опасен.  "
   ]
  },
  {
   "cell_type": "markdown",
   "metadata": {},
   "source": [
    "Посмотрим на **статистику** и **плотность распределения**:"
   ]
  },
  {
   "cell_type": "code",
   "execution_count": 9,
   "metadata": {},
   "outputs": [
    {
     "data": {
      "text/html": [
       "<div>\n",
       "<style scoped>\n",
       "    .dataframe tbody tr th:only-of-type {\n",
       "        vertical-align: middle;\n",
       "    }\n",
       "\n",
       "    .dataframe tbody tr th {\n",
       "        vertical-align: top;\n",
       "    }\n",
       "\n",
       "    .dataframe thead th {\n",
       "        text-align: right;\n",
       "    }\n",
       "</style>\n",
       "<table border=\"1\" class=\"dataframe\">\n",
       "  <thead>\n",
       "    <tr style=\"text-align: right;\">\n",
       "      <th></th>\n",
       "      <th>key</th>\n",
       "      <th>Температура</th>\n",
       "    </tr>\n",
       "  </thead>\n",
       "  <tbody>\n",
       "    <tr>\n",
       "      <th>count</th>\n",
       "      <td>15907.000000</td>\n",
       "      <td>13006.000000</td>\n",
       "    </tr>\n",
       "    <tr>\n",
       "      <th>mean</th>\n",
       "      <td>1607.880870</td>\n",
       "      <td>1591.840920</td>\n",
       "    </tr>\n",
       "    <tr>\n",
       "      <th>std</th>\n",
       "      <td>942.212073</td>\n",
       "      <td>21.375851</td>\n",
       "    </tr>\n",
       "    <tr>\n",
       "      <th>min</th>\n",
       "      <td>1.000000</td>\n",
       "      <td>1191.000000</td>\n",
       "    </tr>\n",
       "    <tr>\n",
       "      <th>25%</th>\n",
       "      <td>790.000000</td>\n",
       "      <td>1581.000000</td>\n",
       "    </tr>\n",
       "    <tr>\n",
       "      <th>50%</th>\n",
       "      <td>1618.000000</td>\n",
       "      <td>1591.000000</td>\n",
       "    </tr>\n",
       "    <tr>\n",
       "      <th>75%</th>\n",
       "      <td>2427.000000</td>\n",
       "      <td>1601.000000</td>\n",
       "    </tr>\n",
       "    <tr>\n",
       "      <th>max</th>\n",
       "      <td>3241.000000</td>\n",
       "      <td>1705.000000</td>\n",
       "    </tr>\n",
       "  </tbody>\n",
       "</table>\n",
       "</div>"
      ],
      "text/plain": [
       "                key   Температура\n",
       "count  15907.000000  13006.000000\n",
       "mean    1607.880870   1591.840920\n",
       "std      942.212073     21.375851\n",
       "min        1.000000   1191.000000\n",
       "25%      790.000000   1581.000000\n",
       "50%     1618.000000   1591.000000\n",
       "75%     2427.000000   1601.000000\n",
       "max     3241.000000   1705.000000"
      ]
     },
     "execution_count": 9,
     "metadata": {},
     "output_type": "execute_result"
    }
   ],
   "source": [
    "temperature.describe()"
   ]
  },
  {
   "cell_type": "markdown",
   "metadata": {},
   "source": [
    "**Среднее и медиана практически совпадают** - разница меньше, чем в градус. Следовательно влияние выбросов минимально."
   ]
  },
  {
   "cell_type": "code",
   "execution_count": 10,
   "metadata": {
    "scrolled": false
   },
   "outputs": [
    {
     "data": {
      "image/png": "[encoded data removed]",
      "text/plain": [
       "<Figure size 1080x360 with 1 Axes>"
      ]
     },
     "metadata": {
      "needs_background": "light"
     },
     "output_type": "display_data"
    }
   ],
   "source": [
    "# построение гистограмм плотности\n",
    "plt.figure(figsize=(15, 5))\n",
    "\n",
    "sns.kdeplot(x=temperature['Температура'])\n",
    "\n",
    "plt.title(label='Плотность распределения температуры шихты')\n",
    "plt.xlabel('Температура нагрева')\n",
    "plt.ylabel('Плотность')\n",
    "plt.grid(True)\n",
    "\n",
    "plt.show();"
   ]
  },
  {
   "cell_type": "markdown",
   "metadata": {},
   "source": [
    "Плотность распределения температуры хорошо сопоставляется с **нормальным распределением**. **Подавляющая часть температур варьируется от ~1500°С до ~1650°С**. В то же время **согласно справочным данным** температура плавления стали находится **в диапазоне 1350°С-1600°С**, поэтому **температуры ниже 1400°С имеет смысл исключить.** "
   ]
  },
  {
   "cell_type": "markdown",
   "metadata": {},
   "source": [
    "### Данные об электродах"
   ]
  },
  {
   "cell_type": "markdown",
   "metadata": {},
   "source": [
    "Посмотрим на датасет с **информацией об электродах**:"
   ]
  },
  {
   "cell_type": "code",
   "execution_count": 11,
   "metadata": {
    "scrolled": true
   },
   "outputs": [
    {
     "data": {
      "text/html": [
       "<div>\n",
       "<style scoped>\n",
       "    .dataframe tbody tr th:only-of-type {\n",
       "        vertical-align: middle;\n",
       "    }\n",
       "\n",
       "    .dataframe tbody tr th {\n",
       "        vertical-align: top;\n",
       "    }\n",
       "\n",
       "    .dataframe thead th {\n",
       "        text-align: right;\n",
       "    }\n",
       "</style>\n",
       "<table border=\"1\" class=\"dataframe\">\n",
       "  <thead>\n",
       "    <tr style=\"text-align: right;\">\n",
       "      <th></th>\n",
       "      <th>key</th>\n",
       "      <th>Начало нагрева дугой</th>\n",
       "      <th>Конец нагрева дугой</th>\n",
       "      <th>Активная мощность</th>\n",
       "      <th>Реактивная мощность</th>\n",
       "    </tr>\n",
       "  </thead>\n",
       "  <tbody>\n",
       "    <tr>\n",
       "      <th>0</th>\n",
       "      <td>1</td>\n",
       "      <td>2019-05-03 11:02:14</td>\n",
       "      <td>2019-05-03 11:06:02</td>\n",
       "      <td>0.976059</td>\n",
       "      <td>0.687084</td>\n",
       "    </tr>\n",
       "    <tr>\n",
       "      <th>1</th>\n",
       "      <td>1</td>\n",
       "      <td>2019-05-03 11:07:28</td>\n",
       "      <td>2019-05-03 11:10:33</td>\n",
       "      <td>0.805607</td>\n",
       "      <td>0.520285</td>\n",
       "    </tr>\n",
       "    <tr>\n",
       "      <th>2</th>\n",
       "      <td>1</td>\n",
       "      <td>2019-05-03 11:11:44</td>\n",
       "      <td>2019-05-03 11:14:36</td>\n",
       "      <td>0.744363</td>\n",
       "      <td>0.498805</td>\n",
       "    </tr>\n",
       "    <tr>\n",
       "      <th>3</th>\n",
       "      <td>1</td>\n",
       "      <td>2019-05-03 11:18:14</td>\n",
       "      <td>2019-05-03 11:24:19</td>\n",
       "      <td>1.659363</td>\n",
       "      <td>1.062669</td>\n",
       "    </tr>\n",
       "    <tr>\n",
       "      <th>4</th>\n",
       "      <td>1</td>\n",
       "      <td>2019-05-03 11:26:09</td>\n",
       "      <td>2019-05-03 11:28:37</td>\n",
       "      <td>0.692755</td>\n",
       "      <td>0.414397</td>\n",
       "    </tr>\n",
       "    <tr>\n",
       "      <th>5</th>\n",
       "      <td>2</td>\n",
       "      <td>2019-05-03 11:34:14</td>\n",
       "      <td>2019-05-03 11:36:31</td>\n",
       "      <td>0.438063</td>\n",
       "      <td>0.283043</td>\n",
       "    </tr>\n",
       "    <tr>\n",
       "      <th>6</th>\n",
       "      <td>2</td>\n",
       "      <td>2019-05-03 11:38:50</td>\n",
       "      <td>2019-05-03 11:44:28</td>\n",
       "      <td>1.296415</td>\n",
       "      <td>0.892914</td>\n",
       "    </tr>\n",
       "    <tr>\n",
       "      <th>7</th>\n",
       "      <td>2</td>\n",
       "      <td>2019-05-03 11:46:19</td>\n",
       "      <td>2019-05-03 11:48:25</td>\n",
       "      <td>0.490377</td>\n",
       "      <td>0.305281</td>\n",
       "    </tr>\n",
       "    <tr>\n",
       "      <th>8</th>\n",
       "      <td>2</td>\n",
       "      <td>2019-05-03 11:49:48</td>\n",
       "      <td>2019-05-03 11:53:18</td>\n",
       "      <td>0.827743</td>\n",
       "      <td>0.516874</td>\n",
       "    </tr>\n",
       "    <tr>\n",
       "      <th>9</th>\n",
       "      <td>3</td>\n",
       "      <td>2019-05-03 12:06:54</td>\n",
       "      <td>2019-05-03 12:11:34</td>\n",
       "      <td>1.062053</td>\n",
       "      <td>0.671494</td>\n",
       "    </tr>\n",
       "  </tbody>\n",
       "</table>\n",
       "</div>"
      ],
      "text/plain": [
       "   key Начало нагрева дугой  Конец нагрева дугой  Активная мощность  \\\n",
       "0    1  2019-05-03 11:02:14  2019-05-03 11:06:02           0.976059   \n",
       "1    1  2019-05-03 11:07:28  2019-05-03 11:10:33           0.805607   \n",
       "2    1  2019-05-03 11:11:44  2019-05-03 11:14:36           0.744363   \n",
       "3    1  2019-05-03 11:18:14  2019-05-03 11:24:19           1.659363   \n",
       "4    1  2019-05-03 11:26:09  2019-05-03 11:28:37           0.692755   \n",
       "5    2  2019-05-03 11:34:14  2019-05-03 11:36:31           0.438063   \n",
       "6    2  2019-05-03 11:38:50  2019-05-03 11:44:28           1.296415   \n",
       "7    2  2019-05-03 11:46:19  2019-05-03 11:48:25           0.490377   \n",
       "8    2  2019-05-03 11:49:48  2019-05-03 11:53:18           0.827743   \n",
       "9    3  2019-05-03 12:06:54  2019-05-03 12:11:34           1.062053   \n",
       "\n",
       "   Реактивная мощность  \n",
       "0             0.687084  \n",
       "1             0.520285  \n",
       "2             0.498805  \n",
       "3             1.062669  \n",
       "4             0.414397  \n",
       "5             0.283043  \n",
       "6             0.892914  \n",
       "7             0.305281  \n",
       "8             0.516874  \n",
       "9             0.671494  "
      ]
     },
     "execution_count": 11,
     "metadata": {},
     "output_type": "execute_result"
    }
   ],
   "source": [
    "electrodes.head(10)"
   ]
  },
  {
   "cell_type": "code",
   "execution_count": 12,
   "metadata": {
    "scrolled": true
   },
   "outputs": [
    {
     "name": "stdout",
     "output_type": "stream",
     "text": [
      "<class 'pandas.core.frame.DataFrame'>\n",
      "RangeIndex: 14876 entries, 0 to 14875\n",
      "Data columns (total 5 columns):\n",
      " #   Column                Non-Null Count  Dtype  \n",
      "---  ------                --------------  -----  \n",
      " 0   key                   14876 non-null  int64  \n",
      " 1   Начало нагрева дугой  14876 non-null  object \n",
      " 2   Конец нагрева дугой   14876 non-null  object \n",
      " 3   Активная мощность     14876 non-null  float64\n",
      " 4   Реактивная мощность   14876 non-null  float64\n",
      "dtypes: float64(2), int64(1), object(2)\n",
      "memory usage: 581.2+ KB\n"
     ]
    }
   ],
   "source": [
    "electrodes.info()"
   ]
  },
  {
   "cell_type": "markdown",
   "metadata": {},
   "source": [
    "Как и в случае с замерами температуры, для электродов имеем **несколько замеров для одного ковша**. С другой стороны, **пропусков здесь нет**. Посмотрим на **статистику**:"
   ]
  },
  {
   "cell_type": "code",
   "execution_count": 13,
   "metadata": {},
   "outputs": [
    {
     "data": {
      "text/html": [
       "<div>\n",
       "<style scoped>\n",
       "    .dataframe tbody tr th:only-of-type {\n",
       "        vertical-align: middle;\n",
       "    }\n",
       "\n",
       "    .dataframe tbody tr th {\n",
       "        vertical-align: top;\n",
       "    }\n",
       "\n",
       "    .dataframe thead th {\n",
       "        text-align: right;\n",
       "    }\n",
       "</style>\n",
       "<table border=\"1\" class=\"dataframe\">\n",
       "  <thead>\n",
       "    <tr style=\"text-align: right;\">\n",
       "      <th></th>\n",
       "      <th>key</th>\n",
       "      <th>Активная мощность</th>\n",
       "      <th>Реактивная мощность</th>\n",
       "    </tr>\n",
       "  </thead>\n",
       "  <tbody>\n",
       "    <tr>\n",
       "      <th>count</th>\n",
       "      <td>14876.000000</td>\n",
       "      <td>14876.000000</td>\n",
       "      <td>14876.000000</td>\n",
       "    </tr>\n",
       "    <tr>\n",
       "      <th>mean</th>\n",
       "      <td>1615.220422</td>\n",
       "      <td>0.670441</td>\n",
       "      <td>0.452592</td>\n",
       "    </tr>\n",
       "    <tr>\n",
       "      <th>std</th>\n",
       "      <td>934.571502</td>\n",
       "      <td>0.408159</td>\n",
       "      <td>5.878702</td>\n",
       "    </tr>\n",
       "    <tr>\n",
       "      <th>min</th>\n",
       "      <td>1.000000</td>\n",
       "      <td>0.030002</td>\n",
       "      <td>-715.504924</td>\n",
       "    </tr>\n",
       "    <tr>\n",
       "      <th>25%</th>\n",
       "      <td>806.000000</td>\n",
       "      <td>0.395297</td>\n",
       "      <td>0.290991</td>\n",
       "    </tr>\n",
       "    <tr>\n",
       "      <th>50%</th>\n",
       "      <td>1617.000000</td>\n",
       "      <td>0.555517</td>\n",
       "      <td>0.415962</td>\n",
       "    </tr>\n",
       "    <tr>\n",
       "      <th>75%</th>\n",
       "      <td>2429.000000</td>\n",
       "      <td>0.857034</td>\n",
       "      <td>0.637371</td>\n",
       "    </tr>\n",
       "    <tr>\n",
       "      <th>max</th>\n",
       "      <td>3241.000000</td>\n",
       "      <td>3.731596</td>\n",
       "      <td>2.676388</td>\n",
       "    </tr>\n",
       "  </tbody>\n",
       "</table>\n",
       "</div>"
      ],
      "text/plain": [
       "                key  Активная мощность  Реактивная мощность\n",
       "count  14876.000000       14876.000000         14876.000000\n",
       "mean    1615.220422           0.670441             0.452592\n",
       "std      934.571502           0.408159             5.878702\n",
       "min        1.000000           0.030002          -715.504924\n",
       "25%      806.000000           0.395297             0.290991\n",
       "50%     1617.000000           0.555517             0.415962\n",
       "75%     2429.000000           0.857034             0.637371\n",
       "max     3241.000000           3.731596             2.676388"
      ]
     },
     "execution_count": 13,
     "metadata": {},
     "output_type": "execute_result"
    }
   ],
   "source": [
    "electrodes.describe()"
   ]
  },
  {
   "cell_type": "markdown",
   "metadata": {},
   "source": [
    "И на **плотность распределения** активной и реактивной мощностей:"
   ]
  },
  {
   "cell_type": "code",
   "execution_count": 14,
   "metadata": {},
   "outputs": [
    {
     "data": {
      "image/png": "[encoded data removed]",
      "text/plain": [
       "<Figure size 1080x360 with 1 Axes>"
      ]
     },
     "metadata": {
      "needs_background": "light"
     },
     "output_type": "display_data"
    }
   ],
   "source": [
    "# построение гистограмм плотности\n",
    "plt.figure(figsize=(15, 5))\n",
    "\n",
    "sns.kdeplot(x=electrodes['Активная мощность'])\n",
    "\n",
    "plt.title(label='Плотность распределения активной мощности')\n",
    "plt.xlabel('Мощность')\n",
    "plt.ylabel('Плотность')\n",
    "plt.grid(True)\n",
    "\n",
    "plt.show();"
   ]
  },
  {
   "cell_type": "markdown",
   "metadata": {},
   "source": [
    "Плотность распределения **напоминает распределение Пуассона**. **Подозрительно выглядят отрицательные значения активной мощности**. Их достаточно мало и, вероятно, их лучше убрать."
   ]
  },
  {
   "cell_type": "code",
   "execution_count": 15,
   "metadata": {},
   "outputs": [
    {
     "data": {
      "image/png": "[encoded data removed]",
      "text/plain": [
       "<Figure size 1080x360 with 1 Axes>"
      ]
     },
     "metadata": {
      "needs_background": "light"
     },
     "output_type": "display_data"
    }
   ],
   "source": [
    "# построение гистограмм плотности\n",
    "plt.figure(figsize=(15, 5))\n",
    "\n",
    "sns.kdeplot(x=electrodes['Реактивная мощность'])\n",
    "\n",
    "plt.title(label='Плотность распределения реактивной мощности')\n",
    "plt.xlabel('Температура нагрева')\n",
    "plt.ylabel('Плотность')\n",
    "plt.grid(True)\n",
    "\n",
    "plt.show();"
   ]
  },
  {
   "cell_type": "markdown",
   "metadata": {},
   "source": [
    "Из графика хорошо видно, что **минимальное значение -715 явно выброс**. Чтобы понять, где провести границу построим график в меньшей области:"
   ]
  },
  {
   "cell_type": "code",
   "execution_count": 16,
   "metadata": {},
   "outputs": [
    {
     "data": {
      "image/png": "[encoded data removed]",
      "text/plain": [
       "<Figure size 1080x360 with 1 Axes>"
      ]
     },
     "metadata": {
      "needs_background": "light"
     },
     "output_type": "display_data"
    }
   ],
   "source": [
    "# построение гистограмм плотности\n",
    "plt.figure(figsize=(15, 5))\n",
    "\n",
    "sns.kdeplot(x=electrodes['Реактивная мощность'])\n",
    "\n",
    "plt.title(label='Плотность распределения реактивной мощности')\n",
    "plt.xlabel('Температура нагрева')\n",
    "plt.ylabel('Плотность')\n",
    "plt.grid(True)\n",
    "plt.xlim(-10, 10)\n",
    "\n",
    "plt.show();"
   ]
  },
  {
   "cell_type": "markdown",
   "metadata": {},
   "source": [
    "Исходя из того, что реактивная мощность может быть отрицательной и особенностей распределения, можем взять **в рассмотрение значения выше -2.5**.  "
   ]
  },
  {
   "cell_type": "markdown",
   "metadata": {},
   "source": [
    "Из данных о начале и окончании нагрева **можно получить время нагрева**. Время нагрева в совокупности с мощностью также должно напрямую отражать энергопотребление. Однако **исходя из физических соображений реактивная и активная мощность должны коррелировать друг с другом**, посмотрим на **коэффициент корреляции Пирсона для них**:"
   ]
  },
  {
   "cell_type": "code",
   "execution_count": 17,
   "metadata": {},
   "outputs": [
    {
     "data": {
      "text/plain": [
       "0.9631819131519804"
      ]
     },
     "execution_count": 17,
     "metadata": {},
     "output_type": "execute_result"
    }
   ],
   "source": [
    "# удаление выбросов\n",
    "electrodes = electrodes.query('`Реактивная мощность` > -2.5 & `Активная мощность` > 0')\n",
    "\n",
    "# подсчёт коэффициента корреляции\n",
    "electrodes['Активная мощность'].corr(electrodes['Реактивная мощность'])"
   ]
  },
  {
   "cell_type": "markdown",
   "metadata": {},
   "source": [
    "Как и предполагалось, **корреляция очень сильная**. Поэтому имеет смысл **использовать только общую мощность, усреднённую по ковшу**. Однако здесь стоит также проявить осторожность, поскольку подбор мощности электродов по логике вещей определяется температурой необходимой для плавления смеси."
   ]
  },
  {
   "cell_type": "markdown",
   "metadata": {},
   "source": [
    "### Данные о сыпучих и проволочных материалах"
   ]
  },
  {
   "cell_type": "markdown",
   "metadata": {},
   "source": [
    "Нам предоставлена информация о **двух типах легирующих добавок - сыпучих и проволочных**. Для каждого типа есть информация об объёмах и времени добавки. **На температуру плавления смеси должны влиять как качественный состав, так и количественный состав легирующих добавок**. Посмотрим для начала на **сыпучие добавки**:"
   ]
  },
  {
   "cell_type": "code",
   "execution_count": 18,
   "metadata": {
    "scrolled": true
   },
   "outputs": [
    {
     "data": {
      "text/html": [
       "<div>\n",
       "<style scoped>\n",
       "    .dataframe tbody tr th:only-of-type {\n",
       "        vertical-align: middle;\n",
       "    }\n",
       "\n",
       "    .dataframe tbody tr th {\n",
       "        vertical-align: top;\n",
       "    }\n",
       "\n",
       "    .dataframe thead th {\n",
       "        text-align: right;\n",
       "    }\n",
       "</style>\n",
       "<table border=\"1\" class=\"dataframe\">\n",
       "  <thead>\n",
       "    <tr style=\"text-align: right;\">\n",
       "      <th></th>\n",
       "      <th>key</th>\n",
       "      <th>Bulk 1</th>\n",
       "      <th>Bulk 2</th>\n",
       "      <th>Bulk 3</th>\n",
       "      <th>Bulk 4</th>\n",
       "      <th>Bulk 5</th>\n",
       "      <th>Bulk 6</th>\n",
       "      <th>Bulk 7</th>\n",
       "      <th>Bulk 8</th>\n",
       "      <th>Bulk 9</th>\n",
       "      <th>Bulk 10</th>\n",
       "      <th>Bulk 11</th>\n",
       "      <th>Bulk 12</th>\n",
       "      <th>Bulk 13</th>\n",
       "      <th>Bulk 14</th>\n",
       "      <th>Bulk 15</th>\n",
       "    </tr>\n",
       "  </thead>\n",
       "  <tbody>\n",
       "    <tr>\n",
       "      <th>0</th>\n",
       "      <td>1</td>\n",
       "      <td>NaN</td>\n",
       "      <td>NaN</td>\n",
       "      <td>NaN</td>\n",
       "      <td>43.0</td>\n",
       "      <td>NaN</td>\n",
       "      <td>NaN</td>\n",
       "      <td>NaN</td>\n",
       "      <td>NaN</td>\n",
       "      <td>NaN</td>\n",
       "      <td>NaN</td>\n",
       "      <td>NaN</td>\n",
       "      <td>206.0</td>\n",
       "      <td>NaN</td>\n",
       "      <td>150.0</td>\n",
       "      <td>154.0</td>\n",
       "    </tr>\n",
       "    <tr>\n",
       "      <th>1</th>\n",
       "      <td>2</td>\n",
       "      <td>NaN</td>\n",
       "      <td>NaN</td>\n",
       "      <td>NaN</td>\n",
       "      <td>73.0</td>\n",
       "      <td>NaN</td>\n",
       "      <td>NaN</td>\n",
       "      <td>NaN</td>\n",
       "      <td>NaN</td>\n",
       "      <td>NaN</td>\n",
       "      <td>NaN</td>\n",
       "      <td>NaN</td>\n",
       "      <td>206.0</td>\n",
       "      <td>NaN</td>\n",
       "      <td>149.0</td>\n",
       "      <td>154.0</td>\n",
       "    </tr>\n",
       "    <tr>\n",
       "      <th>2</th>\n",
       "      <td>3</td>\n",
       "      <td>NaN</td>\n",
       "      <td>NaN</td>\n",
       "      <td>NaN</td>\n",
       "      <td>34.0</td>\n",
       "      <td>NaN</td>\n",
       "      <td>NaN</td>\n",
       "      <td>NaN</td>\n",
       "      <td>NaN</td>\n",
       "      <td>NaN</td>\n",
       "      <td>NaN</td>\n",
       "      <td>NaN</td>\n",
       "      <td>205.0</td>\n",
       "      <td>NaN</td>\n",
       "      <td>152.0</td>\n",
       "      <td>153.0</td>\n",
       "    </tr>\n",
       "    <tr>\n",
       "      <th>3</th>\n",
       "      <td>4</td>\n",
       "      <td>NaN</td>\n",
       "      <td>NaN</td>\n",
       "      <td>NaN</td>\n",
       "      <td>81.0</td>\n",
       "      <td>NaN</td>\n",
       "      <td>NaN</td>\n",
       "      <td>NaN</td>\n",
       "      <td>NaN</td>\n",
       "      <td>NaN</td>\n",
       "      <td>NaN</td>\n",
       "      <td>NaN</td>\n",
       "      <td>207.0</td>\n",
       "      <td>NaN</td>\n",
       "      <td>153.0</td>\n",
       "      <td>154.0</td>\n",
       "    </tr>\n",
       "    <tr>\n",
       "      <th>4</th>\n",
       "      <td>5</td>\n",
       "      <td>NaN</td>\n",
       "      <td>NaN</td>\n",
       "      <td>NaN</td>\n",
       "      <td>78.0</td>\n",
       "      <td>NaN</td>\n",
       "      <td>NaN</td>\n",
       "      <td>NaN</td>\n",
       "      <td>NaN</td>\n",
       "      <td>NaN</td>\n",
       "      <td>NaN</td>\n",
       "      <td>NaN</td>\n",
       "      <td>203.0</td>\n",
       "      <td>NaN</td>\n",
       "      <td>151.0</td>\n",
       "      <td>152.0</td>\n",
       "    </tr>\n",
       "  </tbody>\n",
       "</table>\n",
       "</div>"
      ],
      "text/plain": [
       "   key  Bulk 1  Bulk 2  Bulk 3  Bulk 4  Bulk 5  Bulk 6  Bulk 7  Bulk 8  \\\n",
       "0    1     NaN     NaN     NaN    43.0     NaN     NaN     NaN     NaN   \n",
       "1    2     NaN     NaN     NaN    73.0     NaN     NaN     NaN     NaN   \n",
       "2    3     NaN     NaN     NaN    34.0     NaN     NaN     NaN     NaN   \n",
       "3    4     NaN     NaN     NaN    81.0     NaN     NaN     NaN     NaN   \n",
       "4    5     NaN     NaN     NaN    78.0     NaN     NaN     NaN     NaN   \n",
       "\n",
       "   Bulk 9  Bulk 10  Bulk 11  Bulk 12  Bulk 13  Bulk 14  Bulk 15  \n",
       "0     NaN      NaN      NaN    206.0      NaN    150.0    154.0  \n",
       "1     NaN      NaN      NaN    206.0      NaN    149.0    154.0  \n",
       "2     NaN      NaN      NaN    205.0      NaN    152.0    153.0  \n",
       "3     NaN      NaN      NaN    207.0      NaN    153.0    154.0  \n",
       "4     NaN      NaN      NaN    203.0      NaN    151.0    152.0  "
      ]
     },
     "execution_count": 18,
     "metadata": {},
     "output_type": "execute_result"
    }
   ],
   "source": [
    "bulk.head()"
   ]
  },
  {
   "cell_type": "code",
   "execution_count": 19,
   "metadata": {},
   "outputs": [
    {
     "name": "stdout",
     "output_type": "stream",
     "text": [
      "<class 'pandas.core.frame.DataFrame'>\n",
      "RangeIndex: 3129 entries, 0 to 3128\n",
      "Data columns (total 16 columns):\n",
      " #   Column   Non-Null Count  Dtype  \n",
      "---  ------   --------------  -----  \n",
      " 0   key      3129 non-null   int64  \n",
      " 1   Bulk 1   252 non-null    float64\n",
      " 2   Bulk 2   22 non-null     float64\n",
      " 3   Bulk 3   1298 non-null   float64\n",
      " 4   Bulk 4   1014 non-null   float64\n",
      " 5   Bulk 5   77 non-null     float64\n",
      " 6   Bulk 6   576 non-null    float64\n",
      " 7   Bulk 7   25 non-null     float64\n",
      " 8   Bulk 8   1 non-null      float64\n",
      " 9   Bulk 9   19 non-null     float64\n",
      " 10  Bulk 10  176 non-null    float64\n",
      " 11  Bulk 11  177 non-null    float64\n",
      " 12  Bulk 12  2450 non-null   float64\n",
      " 13  Bulk 13  18 non-null     float64\n",
      " 14  Bulk 14  2806 non-null   float64\n",
      " 15  Bulk 15  2248 non-null   float64\n",
      "dtypes: float64(15), int64(1)\n",
      "memory usage: 391.2 KB\n"
     ]
    }
   ],
   "source": [
    "bulk.info()"
   ]
  },
  {
   "cell_type": "markdown",
   "metadata": {},
   "source": [
    "Итак, имеем **15 видов сыпучих добавок**. **Пропущенных значений в строках много**, но и их **можно смело заменить на 0** - они лишь говорят о том, что **на данной итерации добавка не использовалась**. Некоторые добавки использовали не более пары десятков раз. В то же время можно выделить несколько добавок используемых довольно часто - более чем в тысяче итераций. \n",
    "\n",
    "**Оценивать используемые объёмы на выбросы смысла не имеет** - мы не знаем ни что это за добавки, ни сколько их реально надо, ни единица измерения. Посмотрим на **гистограммы** для них:"
   ]
  },
  {
   "cell_type": "code",
   "execution_count": 20,
   "metadata": {},
   "outputs": [
    {
     "data": {
      "image/png": "[encoded data removed]",
      "text/plain": [
       "<Figure size 1080x1440 with 16 Axes>"
      ]
     },
     "metadata": {
      "needs_background": "light"
     },
     "output_type": "display_data"
    }
   ],
   "source": [
    "bulk.hist(figsize=(15, 20), bins=30)\n",
    "plt.show();"
   ]
  },
  {
   "cell_type": "markdown",
   "metadata": {},
   "source": [
    "Посмотрим, что представлено **в данных о времени**:"
   ]
  },
  {
   "cell_type": "code",
   "execution_count": 21,
   "metadata": {},
   "outputs": [
    {
     "data": {
      "text/html": [
       "<div>\n",
       "<style scoped>\n",
       "    .dataframe tbody tr th:only-of-type {\n",
       "        vertical-align: middle;\n",
       "    }\n",
       "\n",
       "    .dataframe tbody tr th {\n",
       "        vertical-align: top;\n",
       "    }\n",
       "\n",
       "    .dataframe thead th {\n",
       "        text-align: right;\n",
       "    }\n",
       "</style>\n",
       "<table border=\"1\" class=\"dataframe\">\n",
       "  <thead>\n",
       "    <tr style=\"text-align: right;\">\n",
       "      <th></th>\n",
       "      <th>key</th>\n",
       "      <th>Bulk 1</th>\n",
       "      <th>Bulk 2</th>\n",
       "      <th>Bulk 3</th>\n",
       "      <th>Bulk 4</th>\n",
       "      <th>Bulk 5</th>\n",
       "      <th>Bulk 6</th>\n",
       "      <th>Bulk 7</th>\n",
       "      <th>Bulk 8</th>\n",
       "      <th>Bulk 9</th>\n",
       "      <th>Bulk 10</th>\n",
       "      <th>Bulk 11</th>\n",
       "      <th>Bulk 12</th>\n",
       "      <th>Bulk 13</th>\n",
       "      <th>Bulk 14</th>\n",
       "      <th>Bulk 15</th>\n",
       "    </tr>\n",
       "  </thead>\n",
       "  <tbody>\n",
       "    <tr>\n",
       "      <th>0</th>\n",
       "      <td>1</td>\n",
       "      <td>NaN</td>\n",
       "      <td>NaN</td>\n",
       "      <td>NaN</td>\n",
       "      <td>2019-05-03 11:21:30</td>\n",
       "      <td>NaN</td>\n",
       "      <td>NaN</td>\n",
       "      <td>NaN</td>\n",
       "      <td>NaN</td>\n",
       "      <td>NaN</td>\n",
       "      <td>NaN</td>\n",
       "      <td>NaN</td>\n",
       "      <td>2019-05-03 11:03:52</td>\n",
       "      <td>NaN</td>\n",
       "      <td>2019-05-03 11:03:52</td>\n",
       "      <td>2019-05-03 11:03:52</td>\n",
       "    </tr>\n",
       "    <tr>\n",
       "      <th>1</th>\n",
       "      <td>2</td>\n",
       "      <td>NaN</td>\n",
       "      <td>NaN</td>\n",
       "      <td>NaN</td>\n",
       "      <td>2019-05-03 11:46:38</td>\n",
       "      <td>NaN</td>\n",
       "      <td>NaN</td>\n",
       "      <td>NaN</td>\n",
       "      <td>NaN</td>\n",
       "      <td>NaN</td>\n",
       "      <td>NaN</td>\n",
       "      <td>NaN</td>\n",
       "      <td>2019-05-03 11:40:20</td>\n",
       "      <td>NaN</td>\n",
       "      <td>2019-05-03 11:40:20</td>\n",
       "      <td>2019-05-03 11:40:20</td>\n",
       "    </tr>\n",
       "    <tr>\n",
       "      <th>2</th>\n",
       "      <td>3</td>\n",
       "      <td>NaN</td>\n",
       "      <td>NaN</td>\n",
       "      <td>NaN</td>\n",
       "      <td>2019-05-03 12:31:06</td>\n",
       "      <td>NaN</td>\n",
       "      <td>NaN</td>\n",
       "      <td>NaN</td>\n",
       "      <td>NaN</td>\n",
       "      <td>NaN</td>\n",
       "      <td>NaN</td>\n",
       "      <td>NaN</td>\n",
       "      <td>2019-05-03 12:09:40</td>\n",
       "      <td>NaN</td>\n",
       "      <td>2019-05-03 12:09:40</td>\n",
       "      <td>2019-05-03 12:09:40</td>\n",
       "    </tr>\n",
       "    <tr>\n",
       "      <th>3</th>\n",
       "      <td>4</td>\n",
       "      <td>NaN</td>\n",
       "      <td>NaN</td>\n",
       "      <td>NaN</td>\n",
       "      <td>2019-05-03 12:48:43</td>\n",
       "      <td>NaN</td>\n",
       "      <td>NaN</td>\n",
       "      <td>NaN</td>\n",
       "      <td>NaN</td>\n",
       "      <td>NaN</td>\n",
       "      <td>NaN</td>\n",
       "      <td>NaN</td>\n",
       "      <td>2019-05-03 12:41:24</td>\n",
       "      <td>NaN</td>\n",
       "      <td>2019-05-03 12:41:24</td>\n",
       "      <td>2019-05-03 12:41:24</td>\n",
       "    </tr>\n",
       "    <tr>\n",
       "      <th>4</th>\n",
       "      <td>5</td>\n",
       "      <td>NaN</td>\n",
       "      <td>NaN</td>\n",
       "      <td>NaN</td>\n",
       "      <td>2019-05-03 13:18:50</td>\n",
       "      <td>NaN</td>\n",
       "      <td>NaN</td>\n",
       "      <td>NaN</td>\n",
       "      <td>NaN</td>\n",
       "      <td>NaN</td>\n",
       "      <td>NaN</td>\n",
       "      <td>NaN</td>\n",
       "      <td>2019-05-03 13:12:56</td>\n",
       "      <td>NaN</td>\n",
       "      <td>2019-05-03 13:12:56</td>\n",
       "      <td>2019-05-03 13:12:56</td>\n",
       "    </tr>\n",
       "  </tbody>\n",
       "</table>\n",
       "</div>"
      ],
      "text/plain": [
       "   key Bulk 1 Bulk 2 Bulk 3               Bulk 4 Bulk 5 Bulk 6 Bulk 7 Bulk 8  \\\n",
       "0    1    NaN    NaN    NaN  2019-05-03 11:21:30    NaN    NaN    NaN    NaN   \n",
       "1    2    NaN    NaN    NaN  2019-05-03 11:46:38    NaN    NaN    NaN    NaN   \n",
       "2    3    NaN    NaN    NaN  2019-05-03 12:31:06    NaN    NaN    NaN    NaN   \n",
       "3    4    NaN    NaN    NaN  2019-05-03 12:48:43    NaN    NaN    NaN    NaN   \n",
       "4    5    NaN    NaN    NaN  2019-05-03 13:18:50    NaN    NaN    NaN    NaN   \n",
       "\n",
       "  Bulk 9 Bulk 10 Bulk 11              Bulk 12 Bulk 13              Bulk 14  \\\n",
       "0    NaN     NaN     NaN  2019-05-03 11:03:52     NaN  2019-05-03 11:03:52   \n",
       "1    NaN     NaN     NaN  2019-05-03 11:40:20     NaN  2019-05-03 11:40:20   \n",
       "2    NaN     NaN     NaN  2019-05-03 12:09:40     NaN  2019-05-03 12:09:40   \n",
       "3    NaN     NaN     NaN  2019-05-03 12:41:24     NaN  2019-05-03 12:41:24   \n",
       "4    NaN     NaN     NaN  2019-05-03 13:12:56     NaN  2019-05-03 13:12:56   \n",
       "\n",
       "               Bulk 15  \n",
       "0  2019-05-03 11:03:52  \n",
       "1  2019-05-03 11:40:20  \n",
       "2  2019-05-03 12:09:40  \n",
       "3  2019-05-03 12:41:24  \n",
       "4  2019-05-03 13:12:56  "
      ]
     },
     "execution_count": 21,
     "metadata": {},
     "output_type": "execute_result"
    }
   ],
   "source": [
    "bulk_time.head()"
   ]
  },
  {
   "cell_type": "code",
   "execution_count": 22,
   "metadata": {},
   "outputs": [
    {
     "name": "stdout",
     "output_type": "stream",
     "text": [
      "<class 'pandas.core.frame.DataFrame'>\n",
      "RangeIndex: 3129 entries, 0 to 3128\n",
      "Data columns (total 16 columns):\n",
      " #   Column   Non-Null Count  Dtype \n",
      "---  ------   --------------  ----- \n",
      " 0   key      3129 non-null   int64 \n",
      " 1   Bulk 1   252 non-null    object\n",
      " 2   Bulk 2   22 non-null     object\n",
      " 3   Bulk 3   1298 non-null   object\n",
      " 4   Bulk 4   1014 non-null   object\n",
      " 5   Bulk 5   77 non-null     object\n",
      " 6   Bulk 6   576 non-null    object\n",
      " 7   Bulk 7   25 non-null     object\n",
      " 8   Bulk 8   1 non-null      object\n",
      " 9   Bulk 9   19 non-null     object\n",
      " 10  Bulk 10  176 non-null    object\n",
      " 11  Bulk 11  177 non-null    object\n",
      " 12  Bulk 12  2450 non-null   object\n",
      " 13  Bulk 13  18 non-null     object\n",
      " 14  Bulk 14  2806 non-null   object\n",
      " 15  Bulk 15  2248 non-null   object\n",
      "dtypes: int64(1), object(15)\n",
      "memory usage: 391.2+ KB\n"
     ]
    }
   ],
   "source": [
    "bulk_time.info()"
   ]
  },
  {
   "cell_type": "markdown",
   "metadata": {},
   "source": [
    "Единственное для чего можем использовать время - **сопоставить данные о добавках и итерациях на которых они использовались**. Посмотрим на **информацию для проволочных материалов**:"
   ]
  },
  {
   "cell_type": "code",
   "execution_count": 23,
   "metadata": {},
   "outputs": [
    {
     "data": {
      "text/html": [
       "<div>\n",
       "<style scoped>\n",
       "    .dataframe tbody tr th:only-of-type {\n",
       "        vertical-align: middle;\n",
       "    }\n",
       "\n",
       "    .dataframe tbody tr th {\n",
       "        vertical-align: top;\n",
       "    }\n",
       "\n",
       "    .dataframe thead th {\n",
       "        text-align: right;\n",
       "    }\n",
       "</style>\n",
       "<table border=\"1\" class=\"dataframe\">\n",
       "  <thead>\n",
       "    <tr style=\"text-align: right;\">\n",
       "      <th></th>\n",
       "      <th>key</th>\n",
       "      <th>Wire 1</th>\n",
       "      <th>Wire 2</th>\n",
       "      <th>Wire 3</th>\n",
       "      <th>Wire 4</th>\n",
       "      <th>Wire 5</th>\n",
       "      <th>Wire 6</th>\n",
       "      <th>Wire 7</th>\n",
       "      <th>Wire 8</th>\n",
       "      <th>Wire 9</th>\n",
       "    </tr>\n",
       "  </thead>\n",
       "  <tbody>\n",
       "    <tr>\n",
       "      <th>0</th>\n",
       "      <td>1</td>\n",
       "      <td>60.059998</td>\n",
       "      <td>NaN</td>\n",
       "      <td>NaN</td>\n",
       "      <td>NaN</td>\n",
       "      <td>NaN</td>\n",
       "      <td>NaN</td>\n",
       "      <td>NaN</td>\n",
       "      <td>NaN</td>\n",
       "      <td>NaN</td>\n",
       "    </tr>\n",
       "    <tr>\n",
       "      <th>1</th>\n",
       "      <td>2</td>\n",
       "      <td>96.052315</td>\n",
       "      <td>NaN</td>\n",
       "      <td>NaN</td>\n",
       "      <td>NaN</td>\n",
       "      <td>NaN</td>\n",
       "      <td>NaN</td>\n",
       "      <td>NaN</td>\n",
       "      <td>NaN</td>\n",
       "      <td>NaN</td>\n",
       "    </tr>\n",
       "    <tr>\n",
       "      <th>2</th>\n",
       "      <td>3</td>\n",
       "      <td>91.160157</td>\n",
       "      <td>NaN</td>\n",
       "      <td>NaN</td>\n",
       "      <td>NaN</td>\n",
       "      <td>NaN</td>\n",
       "      <td>NaN</td>\n",
       "      <td>NaN</td>\n",
       "      <td>NaN</td>\n",
       "      <td>NaN</td>\n",
       "    </tr>\n",
       "    <tr>\n",
       "      <th>3</th>\n",
       "      <td>4</td>\n",
       "      <td>89.063515</td>\n",
       "      <td>NaN</td>\n",
       "      <td>NaN</td>\n",
       "      <td>NaN</td>\n",
       "      <td>NaN</td>\n",
       "      <td>NaN</td>\n",
       "      <td>NaN</td>\n",
       "      <td>NaN</td>\n",
       "      <td>NaN</td>\n",
       "    </tr>\n",
       "    <tr>\n",
       "      <th>4</th>\n",
       "      <td>5</td>\n",
       "      <td>89.238236</td>\n",
       "      <td>9.11456</td>\n",
       "      <td>NaN</td>\n",
       "      <td>NaN</td>\n",
       "      <td>NaN</td>\n",
       "      <td>NaN</td>\n",
       "      <td>NaN</td>\n",
       "      <td>NaN</td>\n",
       "      <td>NaN</td>\n",
       "    </tr>\n",
       "  </tbody>\n",
       "</table>\n",
       "</div>"
      ],
      "text/plain": [
       "   key     Wire 1   Wire 2  Wire 3  Wire 4  Wire 5  Wire 6  Wire 7  Wire 8  \\\n",
       "0    1  60.059998      NaN     NaN     NaN     NaN     NaN     NaN     NaN   \n",
       "1    2  96.052315      NaN     NaN     NaN     NaN     NaN     NaN     NaN   \n",
       "2    3  91.160157      NaN     NaN     NaN     NaN     NaN     NaN     NaN   \n",
       "3    4  89.063515      NaN     NaN     NaN     NaN     NaN     NaN     NaN   \n",
       "4    5  89.238236  9.11456     NaN     NaN     NaN     NaN     NaN     NaN   \n",
       "\n",
       "   Wire 9  \n",
       "0     NaN  \n",
       "1     NaN  \n",
       "2     NaN  \n",
       "3     NaN  \n",
       "4     NaN  "
      ]
     },
     "execution_count": 23,
     "metadata": {},
     "output_type": "execute_result"
    }
   ],
   "source": [
    "wire.head()"
   ]
  },
  {
   "cell_type": "code",
   "execution_count": 24,
   "metadata": {
    "scrolled": false
   },
   "outputs": [
    {
     "name": "stdout",
     "output_type": "stream",
     "text": [
      "<class 'pandas.core.frame.DataFrame'>\n",
      "RangeIndex: 3081 entries, 0 to 3080\n",
      "Data columns (total 10 columns):\n",
      " #   Column  Non-Null Count  Dtype  \n",
      "---  ------  --------------  -----  \n",
      " 0   key     3081 non-null   int64  \n",
      " 1   Wire 1  3055 non-null   float64\n",
      " 2   Wire 2  1079 non-null   float64\n",
      " 3   Wire 3  63 non-null     float64\n",
      " 4   Wire 4  14 non-null     float64\n",
      " 5   Wire 5  1 non-null      float64\n",
      " 6   Wire 6  73 non-null     float64\n",
      " 7   Wire 7  11 non-null     float64\n",
      " 8   Wire 8  19 non-null     float64\n",
      " 9   Wire 9  29 non-null     float64\n",
      "dtypes: float64(9), int64(1)\n",
      "memory usage: 240.8 KB\n"
     ]
    }
   ],
   "source": [
    "wire.info()"
   ]
  },
  {
   "cell_type": "code",
   "execution_count": 25,
   "metadata": {},
   "outputs": [
    {
     "data": {
      "text/html": [
       "<div>\n",
       "<style scoped>\n",
       "    .dataframe tbody tr th:only-of-type {\n",
       "        vertical-align: middle;\n",
       "    }\n",
       "\n",
       "    .dataframe tbody tr th {\n",
       "        vertical-align: top;\n",
       "    }\n",
       "\n",
       "    .dataframe thead th {\n",
       "        text-align: right;\n",
       "    }\n",
       "</style>\n",
       "<table border=\"1\" class=\"dataframe\">\n",
       "  <thead>\n",
       "    <tr style=\"text-align: right;\">\n",
       "      <th></th>\n",
       "      <th>key</th>\n",
       "      <th>Wire 1</th>\n",
       "      <th>Wire 2</th>\n",
       "      <th>Wire 3</th>\n",
       "      <th>Wire 4</th>\n",
       "      <th>Wire 5</th>\n",
       "      <th>Wire 6</th>\n",
       "      <th>Wire 7</th>\n",
       "      <th>Wire 8</th>\n",
       "      <th>Wire 9</th>\n",
       "    </tr>\n",
       "  </thead>\n",
       "  <tbody>\n",
       "    <tr>\n",
       "      <th>0</th>\n",
       "      <td>1</td>\n",
       "      <td>2019-05-03 11:11:41</td>\n",
       "      <td>NaN</td>\n",
       "      <td>NaN</td>\n",
       "      <td>NaN</td>\n",
       "      <td>NaN</td>\n",
       "      <td>NaN</td>\n",
       "      <td>NaN</td>\n",
       "      <td>NaN</td>\n",
       "      <td>NaN</td>\n",
       "    </tr>\n",
       "    <tr>\n",
       "      <th>1</th>\n",
       "      <td>2</td>\n",
       "      <td>2019-05-03 11:46:10</td>\n",
       "      <td>NaN</td>\n",
       "      <td>NaN</td>\n",
       "      <td>NaN</td>\n",
       "      <td>NaN</td>\n",
       "      <td>NaN</td>\n",
       "      <td>NaN</td>\n",
       "      <td>NaN</td>\n",
       "      <td>NaN</td>\n",
       "    </tr>\n",
       "    <tr>\n",
       "      <th>2</th>\n",
       "      <td>3</td>\n",
       "      <td>2019-05-03 12:13:47</td>\n",
       "      <td>NaN</td>\n",
       "      <td>NaN</td>\n",
       "      <td>NaN</td>\n",
       "      <td>NaN</td>\n",
       "      <td>NaN</td>\n",
       "      <td>NaN</td>\n",
       "      <td>NaN</td>\n",
       "      <td>NaN</td>\n",
       "    </tr>\n",
       "    <tr>\n",
       "      <th>3</th>\n",
       "      <td>4</td>\n",
       "      <td>2019-05-03 12:48:05</td>\n",
       "      <td>NaN</td>\n",
       "      <td>NaN</td>\n",
       "      <td>NaN</td>\n",
       "      <td>NaN</td>\n",
       "      <td>NaN</td>\n",
       "      <td>NaN</td>\n",
       "      <td>NaN</td>\n",
       "      <td>NaN</td>\n",
       "    </tr>\n",
       "    <tr>\n",
       "      <th>4</th>\n",
       "      <td>5</td>\n",
       "      <td>2019-05-03 13:18:15</td>\n",
       "      <td>2019-05-03 13:32:06</td>\n",
       "      <td>NaN</td>\n",
       "      <td>NaN</td>\n",
       "      <td>NaN</td>\n",
       "      <td>NaN</td>\n",
       "      <td>NaN</td>\n",
       "      <td>NaN</td>\n",
       "      <td>NaN</td>\n",
       "    </tr>\n",
       "  </tbody>\n",
       "</table>\n",
       "</div>"
      ],
      "text/plain": [
       "   key               Wire 1               Wire 2 Wire 3 Wire 4 Wire 5 Wire 6  \\\n",
       "0    1  2019-05-03 11:11:41                  NaN    NaN    NaN    NaN    NaN   \n",
       "1    2  2019-05-03 11:46:10                  NaN    NaN    NaN    NaN    NaN   \n",
       "2    3  2019-05-03 12:13:47                  NaN    NaN    NaN    NaN    NaN   \n",
       "3    4  2019-05-03 12:48:05                  NaN    NaN    NaN    NaN    NaN   \n",
       "4    5  2019-05-03 13:18:15  2019-05-03 13:32:06    NaN    NaN    NaN    NaN   \n",
       "\n",
       "  Wire 7 Wire 8 Wire 9  \n",
       "0    NaN    NaN    NaN  \n",
       "1    NaN    NaN    NaN  \n",
       "2    NaN    NaN    NaN  \n",
       "3    NaN    NaN    NaN  \n",
       "4    NaN    NaN    NaN  "
      ]
     },
     "execution_count": 25,
     "metadata": {},
     "output_type": "execute_result"
    }
   ],
   "source": [
    "wire_time.head()"
   ]
  },
  {
   "cell_type": "code",
   "execution_count": 26,
   "metadata": {},
   "outputs": [
    {
     "name": "stdout",
     "output_type": "stream",
     "text": [
      "<class 'pandas.core.frame.DataFrame'>\n",
      "RangeIndex: 3081 entries, 0 to 3080\n",
      "Data columns (total 10 columns):\n",
      " #   Column  Non-Null Count  Dtype \n",
      "---  ------  --------------  ----- \n",
      " 0   key     3081 non-null   int64 \n",
      " 1   Wire 1  3055 non-null   object\n",
      " 2   Wire 2  1079 non-null   object\n",
      " 3   Wire 3  63 non-null     object\n",
      " 4   Wire 4  14 non-null     object\n",
      " 5   Wire 5  1 non-null      object\n",
      " 6   Wire 6  73 non-null     object\n",
      " 7   Wire 7  11 non-null     object\n",
      " 8   Wire 8  19 non-null     object\n",
      " 9   Wire 9  29 non-null     object\n",
      "dtypes: int64(1), object(9)\n",
      "memory usage: 240.8+ KB\n"
     ]
    }
   ],
   "source": [
    "wire_time.info()"
   ]
  },
  {
   "cell_type": "code",
   "execution_count": 27,
   "metadata": {},
   "outputs": [
    {
     "data": {
      "image/png": "[encoded data removed]",
      "text/plain": [
       "<Figure size 1080x1440 with 12 Axes>"
      ]
     },
     "metadata": {
      "needs_background": "light"
     },
     "output_type": "display_data"
    }
   ],
   "source": [
    "wire.hist(figsize=(15, 20), bins=30)\n",
    "plt.show();"
   ]
  },
  {
   "cell_type": "markdown",
   "metadata": {},
   "source": [
    "Как видно, **идейная организация данных для проволочных и сыпучих материалов одна**. **Среди проволочных имеем всего две популярные добавки**, а остальные используются крайне редко.\n",
    "\n",
    "Помимо этого можно отметить, что в обоих случаях **распределения для наиболее используемых** добавок стремятся либо к **нормальному** (Bulk 4, Wire 1), либо к **Пуассону** (Bulk 3, Bulk 6, Wire 2)."
   ]
  },
  {
   "cell_type": "markdown",
   "metadata": {},
   "source": [
    "### Данные о продувке газом"
   ]
  },
  {
   "cell_type": "markdown",
   "metadata": {},
   "source": [
    "Посмотрим на **данные о продувке газом**:"
   ]
  },
  {
   "cell_type": "code",
   "execution_count": 28,
   "metadata": {},
   "outputs": [
    {
     "data": {
      "text/html": [
       "<div>\n",
       "<style scoped>\n",
       "    .dataframe tbody tr th:only-of-type {\n",
       "        vertical-align: middle;\n",
       "    }\n",
       "\n",
       "    .dataframe tbody tr th {\n",
       "        vertical-align: top;\n",
       "    }\n",
       "\n",
       "    .dataframe thead th {\n",
       "        text-align: right;\n",
       "    }\n",
       "</style>\n",
       "<table border=\"1\" class=\"dataframe\">\n",
       "  <thead>\n",
       "    <tr style=\"text-align: right;\">\n",
       "      <th></th>\n",
       "      <th>key</th>\n",
       "      <th>Газ 1</th>\n",
       "    </tr>\n",
       "  </thead>\n",
       "  <tbody>\n",
       "    <tr>\n",
       "      <th>0</th>\n",
       "      <td>1</td>\n",
       "      <td>29.749986</td>\n",
       "    </tr>\n",
       "    <tr>\n",
       "      <th>1</th>\n",
       "      <td>2</td>\n",
       "      <td>12.555561</td>\n",
       "    </tr>\n",
       "    <tr>\n",
       "      <th>2</th>\n",
       "      <td>3</td>\n",
       "      <td>28.554793</td>\n",
       "    </tr>\n",
       "    <tr>\n",
       "      <th>3</th>\n",
       "      <td>4</td>\n",
       "      <td>18.841219</td>\n",
       "    </tr>\n",
       "    <tr>\n",
       "      <th>4</th>\n",
       "      <td>5</td>\n",
       "      <td>5.413692</td>\n",
       "    </tr>\n",
       "  </tbody>\n",
       "</table>\n",
       "</div>"
      ],
      "text/plain": [
       "   key      Газ 1\n",
       "0    1  29.749986\n",
       "1    2  12.555561\n",
       "2    3  28.554793\n",
       "3    4  18.841219\n",
       "4    5   5.413692"
      ]
     },
     "execution_count": 28,
     "metadata": {},
     "output_type": "execute_result"
    }
   ],
   "source": [
    "gas.head()"
   ]
  },
  {
   "cell_type": "code",
   "execution_count": 29,
   "metadata": {},
   "outputs": [
    {
     "name": "stdout",
     "output_type": "stream",
     "text": [
      "<class 'pandas.core.frame.DataFrame'>\n",
      "RangeIndex: 3239 entries, 0 to 3238\n",
      "Data columns (total 2 columns):\n",
      " #   Column  Non-Null Count  Dtype  \n",
      "---  ------  --------------  -----  \n",
      " 0   key     3239 non-null   int64  \n",
      " 1   Газ 1   3239 non-null   float64\n",
      "dtypes: float64(1), int64(1)\n",
      "memory usage: 50.7 KB\n"
     ]
    }
   ],
   "source": [
    "gas.info()"
   ]
  },
  {
   "cell_type": "markdown",
   "metadata": {},
   "source": [
    "Для продувки **используется всего один вид газа**. Также можно отметить, что в датасете по одной записи на партию, следовательно представленные **объёмы, по всей видимости, суммарные для ковша**. Посмотрим на **статистику и распределение**:"
   ]
  },
  {
   "cell_type": "code",
   "execution_count": 30,
   "metadata": {},
   "outputs": [
    {
     "data": {
      "text/html": [
       "<div>\n",
       "<style scoped>\n",
       "    .dataframe tbody tr th:only-of-type {\n",
       "        vertical-align: middle;\n",
       "    }\n",
       "\n",
       "    .dataframe tbody tr th {\n",
       "        vertical-align: top;\n",
       "    }\n",
       "\n",
       "    .dataframe thead th {\n",
       "        text-align: right;\n",
       "    }\n",
       "</style>\n",
       "<table border=\"1\" class=\"dataframe\">\n",
       "  <thead>\n",
       "    <tr style=\"text-align: right;\">\n",
       "      <th></th>\n",
       "      <th>key</th>\n",
       "      <th>Газ 1</th>\n",
       "    </tr>\n",
       "  </thead>\n",
       "  <tbody>\n",
       "    <tr>\n",
       "      <th>count</th>\n",
       "      <td>3239.000000</td>\n",
       "      <td>3239.000000</td>\n",
       "    </tr>\n",
       "    <tr>\n",
       "      <th>mean</th>\n",
       "      <td>1621.861377</td>\n",
       "      <td>11.002062</td>\n",
       "    </tr>\n",
       "    <tr>\n",
       "      <th>std</th>\n",
       "      <td>935.386334</td>\n",
       "      <td>6.220327</td>\n",
       "    </tr>\n",
       "    <tr>\n",
       "      <th>min</th>\n",
       "      <td>1.000000</td>\n",
       "      <td>0.008399</td>\n",
       "    </tr>\n",
       "    <tr>\n",
       "      <th>25%</th>\n",
       "      <td>812.500000</td>\n",
       "      <td>7.043089</td>\n",
       "    </tr>\n",
       "    <tr>\n",
       "      <th>50%</th>\n",
       "      <td>1622.000000</td>\n",
       "      <td>9.836267</td>\n",
       "    </tr>\n",
       "    <tr>\n",
       "      <th>75%</th>\n",
       "      <td>2431.500000</td>\n",
       "      <td>13.769915</td>\n",
       "    </tr>\n",
       "    <tr>\n",
       "      <th>max</th>\n",
       "      <td>3241.000000</td>\n",
       "      <td>77.995040</td>\n",
       "    </tr>\n",
       "  </tbody>\n",
       "</table>\n",
       "</div>"
      ],
      "text/plain": [
       "               key        Газ 1\n",
       "count  3239.000000  3239.000000\n",
       "mean   1621.861377    11.002062\n",
       "std     935.386334     6.220327\n",
       "min       1.000000     0.008399\n",
       "25%     812.500000     7.043089\n",
       "50%    1622.000000     9.836267\n",
       "75%    2431.500000    13.769915\n",
       "max    3241.000000    77.995040"
      ]
     },
     "execution_count": 30,
     "metadata": {},
     "output_type": "execute_result"
    }
   ],
   "source": [
    "gas.describe()"
   ]
  },
  {
   "cell_type": "code",
   "execution_count": 31,
   "metadata": {},
   "outputs": [
    {
     "data": {
      "image/png": "[encoded data removed]",
      "text/plain": [
       "<Figure size 1080x360 with 1 Axes>"
      ]
     },
     "metadata": {
      "needs_background": "light"
     },
     "output_type": "display_data"
    }
   ],
   "source": [
    "# построение гистограмм плотности\n",
    "plt.figure(figsize=(15, 5))\n",
    "\n",
    "sns.kdeplot(x=gas['Газ 1'])\n",
    "\n",
    "plt.title(label='Плотность распределения объёма газа для продувки')\n",
    "plt.xlabel('Объём газа')\n",
    "plt.ylabel('Плотность')\n",
    "plt.grid(True)\n",
    "\n",
    "plt.show();"
   ]
  },
  {
   "cell_type": "markdown",
   "metadata": {},
   "source": [
    "**Распределение близко к нормальному**. Впрочем есть и некоторое количество выбивающихся больших значений. Однако сложно оценить, являются ли эти значения просто редкими или это действительно выбросы, поэтому оставим их."
   ]
  },
  {
   "cell_type": "markdown",
   "metadata": {},
   "source": [
    "### Выводы"
   ]
  },
  {
   "cell_type": "markdown",
   "metadata": {},
   "source": [
    "На роль таргета в имеющихся данных лучше всего подходит температура. В качестве признаков можно использовать данные о легирующих добавках - из химических соображений они должны напрямую влиять на температуру плавления смеси. Данные о мощности (но только полной) и время нагрева можно использовать, но есть риск сильной корреляции с таргетом. Информация же о продувке газом едва ли представляет интерес.\n",
    "\n",
    "Помимо этого в данных о температуре были обнаружены пропуски, которые необходимо удалить, также как и значения менее 1400°С. Небольшое количество выбросов было обнаружено среди значений мощности. В свою очередь пропуски в датафреймах, связанных с легирующими добавками, всего лишь указывают на их отсутствие в конкретных итерация и соответственно могут быть в конечном итоге заполнены 0."
   ]
  },
  {
   "cell_type": "markdown",
   "metadata": {},
   "source": [
    "### Вопросы по процессу"
   ]
  },
  {
   "cell_type": "markdown",
   "metadata": {},
   "source": [
    "1. В каких единицы измерения представлены величины? Особенно мощность..\n",
    "2. Если честно, выглядит так, что мы не можем предложить улучшения - добавки должны значительно определять температуру, но их состав и набор определяется тем, какая именно сталь необходима. Получается мы можем оценить, сколько электроэнергии будет затрачено на определённые составы/стали, но не очень ясно, как это поможет непосредственно уменьшить энергопотребление?\n",
    "3. Возможно, имеет смысл предсказывать не только температуру итерации, но и их количество для получения того или иного конечного состава? Хотя эта задача звучит уже гораздо более трудоёмкой, и непонятно, как к ней подступиться.\n",
    "4. Исходя из предыдущего возникает вопрос о возможности оптимизации состава смеси для уменьшения количества итераций для получения определенного состава..."
   ]
  },
  {
   "cell_type": "markdown",
   "metadata": {},
   "source": [
    "## Предобработка данных"
   ]
  },
  {
   "cell_type": "markdown",
   "metadata": {},
   "source": [
    "### Подготовка таблиц"
   ]
  },
  {
   "cell_type": "markdown",
   "metadata": {},
   "source": [
    "#### Датасет с температурой"
   ]
  },
  {
   "cell_type": "markdown",
   "metadata": {},
   "source": [
    "Для начала обработаем датасет с температурой. **Целевым признаком будет финальная температура ковша**. Первое, что **необходимо сделать - исключить партии, для которых были пропуски, а также только один замер температуры**. "
   ]
  },
  {
   "cell_type": "code",
   "execution_count": 32,
   "metadata": {
    "scrolled": true
   },
   "outputs": [
    {
     "data": {
      "text/plain": [
       "array([ 867, 1214, 1619, 1818, 2052, 2500, 2501, 2502, 2503, 2504, 2505,\n",
       "       2506, 2507, 2508, 2509, 2510, 2511, 2512, 2513, 2514, 2515, 2516,\n",
       "       2517, 2518, 2519, 2520, 2521, 2522, 2523, 2524, 2525, 2526, 2527,\n",
       "       2528, 2529, 2530, 2531, 2532, 2533, 2534, 2535, 2536, 2537, 2538,\n",
       "       2539, 2540, 2541, 2542, 2543, 2544, 2545, 2546, 2547, 2548, 2549,\n",
       "       2550, 2551, 2552, 2553, 2554, 2555, 2556, 2557, 2558, 2559, 2560,\n",
       "       2561, 2562, 2563, 2564, 2565, 2566, 2567, 2568, 2569, 2570, 2571,\n",
       "       2572, 2573, 2574, 2575, 2576, 2577, 2578, 2579, 2580, 2581, 2582,\n",
       "       2583, 2584, 2585, 2586, 2587, 2588, 2589, 2590, 2591, 2592, 2593,\n",
       "       2594, 2595, 2596, 2597, 2598, 2599, 2600, 2601, 2602, 2603, 2604,\n",
       "       2605, 2606, 2607, 2608, 2609, 2610, 2611, 2612, 2613, 2614, 2615,\n",
       "       2616, 2617, 2618, 2619, 2620, 2621, 2622, 2623, 2624, 2625, 2626,\n",
       "       2627, 2628, 2629, 2630, 2631, 2632, 2633, 2634, 2635, 2636, 2637,\n",
       "       2638, 2639, 2640, 2641, 2642, 2643, 2644, 2645, 2646, 2647, 2648,\n",
       "       2649, 2650, 2651, 2652, 2653, 2654, 2655, 2656, 2657, 2658, 2659,\n",
       "       2660, 2661, 2662, 2663, 2664, 2665, 2666, 2667, 2668, 2669, 2670,\n",
       "       2671, 2672, 2673, 2674, 2675, 2676, 2677, 2678, 2679, 2680, 2681,\n",
       "       2682, 2684, 2685, 2686, 2687, 2688, 2689, 2690, 2691, 2692, 2693,\n",
       "       2694, 2695, 2696, 2697, 2698, 2699, 2700, 2701, 2702, 2703, 2704,\n",
       "       2705, 2706, 2707, 2708, 2709, 2710, 2711, 2712, 2713, 2714, 2715,\n",
       "       2716, 2717, 2718, 2719, 2720, 2721, 2722, 2723, 2724, 2725, 2726,\n",
       "       2727, 2728, 2729, 2730, 2731, 2732, 2733, 2734, 2735, 2736, 2737,\n",
       "       2738, 2739, 2740, 2741, 2742, 2743, 2744, 2745, 2746, 2747, 2748,\n",
       "       2749, 2750, 2751, 2752, 2753, 2754, 2755, 2756, 2757, 2758, 2759,\n",
       "       2760, 2761, 2762, 2763, 2764, 2765, 2766, 2767, 2768, 2769, 2770,\n",
       "       2771, 2772, 2773, 2774, 2775, 2776, 2777, 2778, 2779, 2780, 2781,\n",
       "       2782, 2783, 2784, 2785, 2786, 2787, 2788, 2789, 2790, 2791, 2792,\n",
       "       2793, 2794, 2795, 2796, 2797, 2798, 2799, 2800, 2801, 2802, 2803,\n",
       "       2804, 2805, 2806, 2807, 2808, 2809, 2810, 2811, 2812, 2813, 2814,\n",
       "       2815, 2816, 2817, 2818, 2819, 2820, 2821, 2822, 2823, 2824, 2825,\n",
       "       2826, 2827, 2828, 2829, 2830, 2831, 2832, 2833, 2834, 2835, 2836,\n",
       "       2837, 2838, 2839, 2840, 2841, 2842, 2843, 2844, 2845, 2846, 2847,\n",
       "       2848, 2849, 2850, 2851, 2852, 2853, 2854, 2855, 2856, 2857, 2858,\n",
       "       2859, 2860, 2861, 2862, 2863, 2864, 2865, 2866, 2867, 2868, 2869,\n",
       "       2870, 2871, 2872, 2873, 2874, 2875, 2876, 2877, 2878, 2879, 2880,\n",
       "       2881, 2882, 2883, 2884, 2885, 2886, 2887, 2888, 2889, 2890, 2891,\n",
       "       2892, 2893, 2894, 2895, 2896, 2897, 2898, 2899, 2900, 2901, 2902,\n",
       "       2903, 2904, 2905, 2906, 2907, 2908, 2909, 2910, 2911, 2912, 2913,\n",
       "       2914, 2915, 2916, 2917, 2918, 2919, 2920, 2921, 2922, 2923, 2924,\n",
       "       2925, 2926, 2927, 2928, 2929, 2930, 2931, 2932, 2933, 2934, 2935,\n",
       "       2936, 2937, 2938, 2939, 2940, 2941, 2942, 2943, 2944, 2945, 2946,\n",
       "       2947, 2948, 2949, 2950, 2951, 2952, 2953, 2954, 2955, 2956, 2957,\n",
       "       2958, 2959, 2960, 2961, 2962, 2963, 2964, 2965, 2966, 2967, 2968,\n",
       "       2969, 2970, 2971, 2972, 2973, 2974, 2975, 2976, 2977, 2978, 2979,\n",
       "       2980, 2981, 2982, 2983, 2984, 2985, 2986, 2987, 2988, 2989, 2990,\n",
       "       2991, 2992, 2993, 2994, 2995, 2996, 2997, 2998, 2999, 3000, 3001,\n",
       "       3002, 3003, 3004, 3005, 3006, 3007, 3008, 3009, 3010, 3011, 3012,\n",
       "       3013, 3014, 3015, 3016, 3017, 3018, 3019, 3020, 3021, 3022, 3023,\n",
       "       3024, 3025, 3026, 3027, 3028, 3029, 3030, 3031, 3032, 3033, 3034,\n",
       "       3035, 3036, 3037, 3038, 3039, 3040, 3041, 3042, 3043, 3044, 3045,\n",
       "       3046, 3047, 3048, 3049, 3050, 3051, 3052, 3053, 3054, 3055, 3056,\n",
       "       3057, 3058, 3059, 3060, 3061, 3062, 3063, 3064, 3065, 3066, 3067,\n",
       "       3068, 3069, 3070, 3071, 3072, 3073, 3074, 3075, 3076, 3077, 3078,\n",
       "       3079, 3080, 3081, 3082, 3083, 3084, 3085, 3086, 3087, 3088, 3089,\n",
       "       3090, 3091, 3092, 3093, 3094, 3095, 3096, 3097, 3098, 3099, 3100,\n",
       "       3101, 3102, 3103, 3104, 3105, 3106, 3107, 3108, 3109, 3110, 3111,\n",
       "       3112, 3113, 3114, 3115, 3116, 3117, 3118, 3119, 3120, 3121, 3122,\n",
       "       3123, 3124, 3125, 3126, 3127, 3128, 3129, 3130, 3131, 3132, 3133,\n",
       "       3134, 3135, 3136, 3137, 3138, 3139, 3140, 3141, 3142, 3143, 3144,\n",
       "       3145, 3146, 3147, 3148, 3149, 3150, 3151, 3152, 3153, 3154, 3155,\n",
       "       3156, 3157, 3158, 3159, 3160, 3161, 3162, 3163, 3164, 3165, 3166,\n",
       "       3167, 3168, 3169, 3170, 3171, 3172, 3173, 3174, 3175, 3176, 3177,\n",
       "       3178, 3179, 3180, 3181, 3182, 3183, 3184, 3185, 3186, 3187, 3188,\n",
       "       3189, 3190, 3191, 3192, 3193, 3194, 3195, 3196, 3197, 3198, 3199,\n",
       "       3201, 3202, 3203, 3204, 3205, 3206, 3208, 3209, 3210, 3211, 3212,\n",
       "       3213, 3214, 3215, 3216, 3217, 3218, 3219, 3220, 3221, 3222, 3223,\n",
       "       3224, 3225, 3226, 3227, 3228, 3229, 3230, 3231, 3232, 3233, 3234,\n",
       "       3235, 3236, 3237, 3238, 3239, 3240, 3241])"
      ]
     },
     "execution_count": 32,
     "metadata": {},
     "output_type": "execute_result"
    }
   ],
   "source": [
    "# заполнение пропусков нулями и смена типа данных на целочисленный\n",
    "temperature['Температура'] = temperature['Температура'].fillna(0).astype(int)\n",
    "\n",
    "# создание списка партий, в которых были пропущенные значения и значения ниже 1400\n",
    "temp_na_key = temperature.query('Температура < 1400')['key'].unique()\n",
    "temp_na_key"
   ]
  },
  {
   "cell_type": "markdown",
   "metadata": {},
   "source": [
    "**То, что пропуски в замерах температуры идут во всех партиях, начиная с 2500, выглядит крайне настораживающе**. Стоит выяснить причину этого. Так или иначе **исключим эти партии из дальнейшего рассмотрения**:"
   ]
  },
  {
   "cell_type": "code",
   "execution_count": 33,
   "metadata": {},
   "outputs": [],
   "source": [
    "temperature = temperature.query('key not in @temp_na_key')\n",
    "\n",
    "# замена индексов на номер партии\n",
    "temperature.index = temperature['key']\n",
    "temperature = temperature.drop(['key'], axis=1)"
   ]
  },
  {
   "cell_type": "markdown",
   "metadata": {},
   "source": [
    "Создадим дополнительные **столбцы с начальной и финальной температурой ковша**:"
   ]
  },
  {
   "cell_type": "code",
   "execution_count": 34,
   "metadata": {},
   "outputs": [
    {
     "data": {
      "text/html": [
       "<div>\n",
       "<style scoped>\n",
       "    .dataframe tbody tr th:only-of-type {\n",
       "        vertical-align: middle;\n",
       "    }\n",
       "\n",
       "    .dataframe tbody tr th {\n",
       "        vertical-align: top;\n",
       "    }\n",
       "\n",
       "    .dataframe thead th {\n",
       "        text-align: right;\n",
       "    }\n",
       "</style>\n",
       "<table border=\"1\" class=\"dataframe\">\n",
       "  <thead>\n",
       "    <tr style=\"text-align: right;\">\n",
       "      <th></th>\n",
       "      <th>Время замера</th>\n",
       "      <th>Температура</th>\n",
       "      <th>Начальная температура</th>\n",
       "      <th>Финальная температура</th>\n",
       "    </tr>\n",
       "    <tr>\n",
       "      <th>key</th>\n",
       "      <th></th>\n",
       "      <th></th>\n",
       "      <th></th>\n",
       "      <th></th>\n",
       "    </tr>\n",
       "  </thead>\n",
       "  <tbody>\n",
       "    <tr>\n",
       "      <th>1</th>\n",
       "      <td>2019-05-03 11:16:18</td>\n",
       "      <td>1571</td>\n",
       "      <td>1571</td>\n",
       "      <td>1613</td>\n",
       "    </tr>\n",
       "    <tr>\n",
       "      <th>1</th>\n",
       "      <td>2019-05-03 11:25:53</td>\n",
       "      <td>1604</td>\n",
       "      <td>1571</td>\n",
       "      <td>1613</td>\n",
       "    </tr>\n",
       "    <tr>\n",
       "      <th>1</th>\n",
       "      <td>2019-05-03 11:29:11</td>\n",
       "      <td>1618</td>\n",
       "      <td>1571</td>\n",
       "      <td>1613</td>\n",
       "    </tr>\n",
       "    <tr>\n",
       "      <th>1</th>\n",
       "      <td>2019-05-03 11:30:01</td>\n",
       "      <td>1601</td>\n",
       "      <td>1571</td>\n",
       "      <td>1613</td>\n",
       "    </tr>\n",
       "    <tr>\n",
       "      <th>1</th>\n",
       "      <td>2019-05-03 11:30:39</td>\n",
       "      <td>1613</td>\n",
       "      <td>1571</td>\n",
       "      <td>1613</td>\n",
       "    </tr>\n",
       "    <tr>\n",
       "      <th>...</th>\n",
       "      <td>...</td>\n",
       "      <td>...</td>\n",
       "      <td>...</td>\n",
       "      <td>...</td>\n",
       "    </tr>\n",
       "    <tr>\n",
       "      <th>2498</th>\n",
       "      <td>2019-08-06 02:19:26</td>\n",
       "      <td>1593</td>\n",
       "      <td>1591</td>\n",
       "      <td>1594</td>\n",
       "    </tr>\n",
       "    <tr>\n",
       "      <th>2498</th>\n",
       "      <td>2019-08-06 02:25:31</td>\n",
       "      <td>1594</td>\n",
       "      <td>1591</td>\n",
       "      <td>1594</td>\n",
       "    </tr>\n",
       "    <tr>\n",
       "      <th>2499</th>\n",
       "      <td>2019-08-06 02:40:25</td>\n",
       "      <td>1569</td>\n",
       "      <td>1569</td>\n",
       "      <td>1603</td>\n",
       "    </tr>\n",
       "    <tr>\n",
       "      <th>2499</th>\n",
       "      <td>2019-08-06 02:54:24</td>\n",
       "      <td>1604</td>\n",
       "      <td>1569</td>\n",
       "      <td>1603</td>\n",
       "    </tr>\n",
       "    <tr>\n",
       "      <th>2499</th>\n",
       "      <td>2019-08-06 03:00:28</td>\n",
       "      <td>1603</td>\n",
       "      <td>1569</td>\n",
       "      <td>1603</td>\n",
       "    </tr>\n",
       "  </tbody>\n",
       "</table>\n",
       "<p>12223 rows × 4 columns</p>\n",
       "</div>"
      ],
      "text/plain": [
       "             Время замера  Температура  Начальная температура  \\\n",
       "key                                                             \n",
       "1     2019-05-03 11:16:18         1571                   1571   \n",
       "1     2019-05-03 11:25:53         1604                   1571   \n",
       "1     2019-05-03 11:29:11         1618                   1571   \n",
       "1     2019-05-03 11:30:01         1601                   1571   \n",
       "1     2019-05-03 11:30:39         1613                   1571   \n",
       "...                   ...          ...                    ...   \n",
       "2498  2019-08-06 02:19:26         1593                   1591   \n",
       "2498  2019-08-06 02:25:31         1594                   1591   \n",
       "2499  2019-08-06 02:40:25         1569                   1569   \n",
       "2499  2019-08-06 02:54:24         1604                   1569   \n",
       "2499  2019-08-06 03:00:28         1603                   1569   \n",
       "\n",
       "      Финальная температура  \n",
       "key                          \n",
       "1                      1613  \n",
       "1                      1613  \n",
       "1                      1613  \n",
       "1                      1613  \n",
       "1                      1613  \n",
       "...                     ...  \n",
       "2498                   1594  \n",
       "2498                   1594  \n",
       "2499                   1603  \n",
       "2499                   1603  \n",
       "2499                   1603  \n",
       "\n",
       "[12223 rows x 4 columns]"
      ]
     },
     "execution_count": 34,
     "metadata": {},
     "output_type": "execute_result"
    }
   ],
   "source": [
    "# определение начальной температуры по времени замера и создание столбца \n",
    "initial_temp_date = temperature.groupby('key')['Время замера'].min()\n",
    "temperature['Начальная температура'] = temperature.query('`Время замера` in @initial_temp_date')['Температура']\n",
    "\n",
    "# определение финальной температуры по времени замера и создание столбца \n",
    "final_temp_date = temperature.groupby('key')['Время замера'].max()\n",
    "temperature['Финальная температура'] = temperature.query('`Время замера` in @final_temp_date')['Температура']\n",
    "\n",
    "temperature"
   ]
  },
  {
   "cell_type": "markdown",
   "metadata": {},
   "source": [
    "Создадим сводную **таблицу с начальной и финальной температурами ковша**:"
   ]
  },
  {
   "cell_type": "code",
   "execution_count": 35,
   "metadata": {
    "scrolled": false
   },
   "outputs": [
    {
     "data": {
      "text/html": [
       "<div>\n",
       "<style scoped>\n",
       "    .dataframe tbody tr th:only-of-type {\n",
       "        vertical-align: middle;\n",
       "    }\n",
       "\n",
       "    .dataframe tbody tr th {\n",
       "        vertical-align: top;\n",
       "    }\n",
       "\n",
       "    .dataframe thead tr th {\n",
       "        text-align: left;\n",
       "    }\n",
       "\n",
       "    .dataframe thead tr:last-of-type th {\n",
       "        text-align: right;\n",
       "    }\n",
       "</style>\n",
       "<table border=\"1\" class=\"dataframe\">\n",
       "  <thead>\n",
       "    <tr>\n",
       "      <th></th>\n",
       "      <th colspan=\"2\" halign=\"left\">mean</th>\n",
       "    </tr>\n",
       "    <tr>\n",
       "      <th></th>\n",
       "      <th>Начальная температура</th>\n",
       "      <th>Финальная температура</th>\n",
       "    </tr>\n",
       "    <tr>\n",
       "      <th>key</th>\n",
       "      <th></th>\n",
       "      <th></th>\n",
       "    </tr>\n",
       "  </thead>\n",
       "  <tbody>\n",
       "    <tr>\n",
       "      <th>1</th>\n",
       "      <td>1571</td>\n",
       "      <td>1613</td>\n",
       "    </tr>\n",
       "    <tr>\n",
       "      <th>2</th>\n",
       "      <td>1581</td>\n",
       "      <td>1602</td>\n",
       "    </tr>\n",
       "    <tr>\n",
       "      <th>3</th>\n",
       "      <td>1596</td>\n",
       "      <td>1599</td>\n",
       "    </tr>\n",
       "    <tr>\n",
       "      <th>4</th>\n",
       "      <td>1601</td>\n",
       "      <td>1625</td>\n",
       "    </tr>\n",
       "    <tr>\n",
       "      <th>5</th>\n",
       "      <td>1576</td>\n",
       "      <td>1602</td>\n",
       "    </tr>\n",
       "    <tr>\n",
       "      <th>...</th>\n",
       "      <td>...</td>\n",
       "      <td>...</td>\n",
       "    </tr>\n",
       "    <tr>\n",
       "      <th>2495</th>\n",
       "      <td>1570</td>\n",
       "      <td>1591</td>\n",
       "    </tr>\n",
       "    <tr>\n",
       "      <th>2496</th>\n",
       "      <td>1554</td>\n",
       "      <td>1591</td>\n",
       "    </tr>\n",
       "    <tr>\n",
       "      <th>2497</th>\n",
       "      <td>1571</td>\n",
       "      <td>1589</td>\n",
       "    </tr>\n",
       "    <tr>\n",
       "      <th>2498</th>\n",
       "      <td>1591</td>\n",
       "      <td>1594</td>\n",
       "    </tr>\n",
       "    <tr>\n",
       "      <th>2499</th>\n",
       "      <td>1569</td>\n",
       "      <td>1603</td>\n",
       "    </tr>\n",
       "  </tbody>\n",
       "</table>\n",
       "<p>2472 rows × 2 columns</p>\n",
       "</div>"
      ],
      "text/plain": [
       "                      mean                      \n",
       "     Начальная температура Финальная температура\n",
       "key                                             \n",
       "1                     1571                  1613\n",
       "2                     1581                  1602\n",
       "3                     1596                  1599\n",
       "4                     1601                  1625\n",
       "5                     1576                  1602\n",
       "...                    ...                   ...\n",
       "2495                  1570                  1591\n",
       "2496                  1554                  1591\n",
       "2497                  1571                  1589\n",
       "2498                  1591                  1594\n",
       "2499                  1569                  1603\n",
       "\n",
       "[2472 rows x 2 columns]"
      ]
     },
     "execution_count": 35,
     "metadata": {},
     "output_type": "execute_result"
    }
   ],
   "source": [
    "pivot_table_temp = pd.pivot_table(temperature, values=('Начальная температура', 'Финальная температура'), \n",
    "                                  index='key', aggfunc=['mean'])\n",
    "pivot_table_temp"
   ]
  },
  {
   "cell_type": "code",
   "execution_count": 36,
   "metadata": {},
   "outputs": [],
   "source": [
    "# переименование столбцов\n",
    "pivot_table_temp.columns = ['initial_temp', 'final_temp']"
   ]
  },
  {
   "cell_type": "markdown",
   "metadata": {},
   "source": [
    "Добавим **столбец с количеством замеров** для партии и **исключим партии с единственным замером**:"
   ]
  },
  {
   "cell_type": "code",
   "execution_count": 37,
   "metadata": {},
   "outputs": [
    {
     "data": {
      "text/html": [
       "<div>\n",
       "<style scoped>\n",
       "    .dataframe tbody tr th:only-of-type {\n",
       "        vertical-align: middle;\n",
       "    }\n",
       "\n",
       "    .dataframe tbody tr th {\n",
       "        vertical-align: top;\n",
       "    }\n",
       "\n",
       "    .dataframe thead th {\n",
       "        text-align: right;\n",
       "    }\n",
       "</style>\n",
       "<table border=\"1\" class=\"dataframe\">\n",
       "  <thead>\n",
       "    <tr style=\"text-align: right;\">\n",
       "      <th></th>\n",
       "      <th>initial_temp</th>\n",
       "      <th>final_temp</th>\n",
       "      <th>count_iter</th>\n",
       "    </tr>\n",
       "    <tr>\n",
       "      <th>key</th>\n",
       "      <th></th>\n",
       "      <th></th>\n",
       "      <th></th>\n",
       "    </tr>\n",
       "  </thead>\n",
       "  <tbody>\n",
       "    <tr>\n",
       "      <th>1</th>\n",
       "      <td>1571</td>\n",
       "      <td>1613</td>\n",
       "      <td>5</td>\n",
       "    </tr>\n",
       "    <tr>\n",
       "      <th>2</th>\n",
       "      <td>1581</td>\n",
       "      <td>1602</td>\n",
       "      <td>6</td>\n",
       "    </tr>\n",
       "    <tr>\n",
       "      <th>3</th>\n",
       "      <td>1596</td>\n",
       "      <td>1599</td>\n",
       "      <td>5</td>\n",
       "    </tr>\n",
       "    <tr>\n",
       "      <th>4</th>\n",
       "      <td>1601</td>\n",
       "      <td>1625</td>\n",
       "      <td>3</td>\n",
       "    </tr>\n",
       "    <tr>\n",
       "      <th>5</th>\n",
       "      <td>1576</td>\n",
       "      <td>1602</td>\n",
       "      <td>2</td>\n",
       "    </tr>\n",
       "    <tr>\n",
       "      <th>...</th>\n",
       "      <td>...</td>\n",
       "      <td>...</td>\n",
       "      <td>...</td>\n",
       "    </tr>\n",
       "    <tr>\n",
       "      <th>2495</th>\n",
       "      <td>1570</td>\n",
       "      <td>1591</td>\n",
       "      <td>3</td>\n",
       "    </tr>\n",
       "    <tr>\n",
       "      <th>2496</th>\n",
       "      <td>1554</td>\n",
       "      <td>1591</td>\n",
       "      <td>4</td>\n",
       "    </tr>\n",
       "    <tr>\n",
       "      <th>2497</th>\n",
       "      <td>1571</td>\n",
       "      <td>1589</td>\n",
       "      <td>2</td>\n",
       "    </tr>\n",
       "    <tr>\n",
       "      <th>2498</th>\n",
       "      <td>1591</td>\n",
       "      <td>1594</td>\n",
       "      <td>5</td>\n",
       "    </tr>\n",
       "    <tr>\n",
       "      <th>2499</th>\n",
       "      <td>1569</td>\n",
       "      <td>1603</td>\n",
       "      <td>3</td>\n",
       "    </tr>\n",
       "  </tbody>\n",
       "</table>\n",
       "<p>2470 rows × 3 columns</p>\n",
       "</div>"
      ],
      "text/plain": [
       "      initial_temp  final_temp  count_iter\n",
       "key                                       \n",
       "1             1571        1613           5\n",
       "2             1581        1602           6\n",
       "3             1596        1599           5\n",
       "4             1601        1625           3\n",
       "5             1576        1602           2\n",
       "...            ...         ...         ...\n",
       "2495          1570        1591           3\n",
       "2496          1554        1591           4\n",
       "2497          1571        1589           2\n",
       "2498          1591        1594           5\n",
       "2499          1569        1603           3\n",
       "\n",
       "[2470 rows x 3 columns]"
      ]
     },
     "execution_count": 37,
     "metadata": {},
     "output_type": "execute_result"
    }
   ],
   "source": [
    "pivot_table_temp['count_iter'] = temperature.groupby(by='key')['Температура'].count()\n",
    "pivot_table_temp = pivot_table_temp.query('count_iter > 1')\n",
    "pivot_table_temp"
   ]
  },
  {
   "cell_type": "markdown",
   "metadata": {},
   "source": [
    "#### Датасет с электродами"
   ]
  },
  {
   "cell_type": "markdown",
   "metadata": {},
   "source": [
    "Рассчитаем для начала **полную мощность** (как корень из суммы квадратов активной и реактивной мощностей):"
   ]
  },
  {
   "cell_type": "code",
   "execution_count": 38,
   "metadata": {},
   "outputs": [],
   "source": [
    "electrodes['Полная мощность'] = (electrodes['Активная мощность'] ** 2 + electrodes['Реактивная мощность'] ** 2) ** 0.5"
   ]
  },
  {
   "cell_type": "markdown",
   "metadata": {},
   "source": [
    "Создадим **столбец с временем нагрева**:"
   ]
  },
  {
   "cell_type": "code",
   "execution_count": 39,
   "metadata": {},
   "outputs": [
    {
     "data": {
      "text/html": [
       "<div>\n",
       "<style scoped>\n",
       "    .dataframe tbody tr th:only-of-type {\n",
       "        vertical-align: middle;\n",
       "    }\n",
       "\n",
       "    .dataframe tbody tr th {\n",
       "        vertical-align: top;\n",
       "    }\n",
       "\n",
       "    .dataframe thead th {\n",
       "        text-align: right;\n",
       "    }\n",
       "</style>\n",
       "<table border=\"1\" class=\"dataframe\">\n",
       "  <thead>\n",
       "    <tr style=\"text-align: right;\">\n",
       "      <th></th>\n",
       "      <th>key</th>\n",
       "      <th>Начало нагрева дугой</th>\n",
       "      <th>Конец нагрева дугой</th>\n",
       "      <th>Активная мощность</th>\n",
       "      <th>Реактивная мощность</th>\n",
       "      <th>Полная мощность</th>\n",
       "      <th>Время нагрева</th>\n",
       "    </tr>\n",
       "  </thead>\n",
       "  <tbody>\n",
       "    <tr>\n",
       "      <th>0</th>\n",
       "      <td>1</td>\n",
       "      <td>2019-05-03 11:02:14</td>\n",
       "      <td>2019-05-03 11:06:02</td>\n",
       "      <td>0.976059</td>\n",
       "      <td>0.687084</td>\n",
       "      <td>1.193639</td>\n",
       "      <td>0 days 00:03:48</td>\n",
       "    </tr>\n",
       "    <tr>\n",
       "      <th>1</th>\n",
       "      <td>1</td>\n",
       "      <td>2019-05-03 11:07:28</td>\n",
       "      <td>2019-05-03 11:10:33</td>\n",
       "      <td>0.805607</td>\n",
       "      <td>0.520285</td>\n",
       "      <td>0.959010</td>\n",
       "      <td>0 days 00:03:05</td>\n",
       "    </tr>\n",
       "    <tr>\n",
       "      <th>2</th>\n",
       "      <td>1</td>\n",
       "      <td>2019-05-03 11:11:44</td>\n",
       "      <td>2019-05-03 11:14:36</td>\n",
       "      <td>0.744363</td>\n",
       "      <td>0.498805</td>\n",
       "      <td>0.896038</td>\n",
       "      <td>0 days 00:02:52</td>\n",
       "    </tr>\n",
       "    <tr>\n",
       "      <th>3</th>\n",
       "      <td>1</td>\n",
       "      <td>2019-05-03 11:18:14</td>\n",
       "      <td>2019-05-03 11:24:19</td>\n",
       "      <td>1.659363</td>\n",
       "      <td>1.062669</td>\n",
       "      <td>1.970470</td>\n",
       "      <td>0 days 00:06:05</td>\n",
       "    </tr>\n",
       "    <tr>\n",
       "      <th>4</th>\n",
       "      <td>1</td>\n",
       "      <td>2019-05-03 11:26:09</td>\n",
       "      <td>2019-05-03 11:28:37</td>\n",
       "      <td>0.692755</td>\n",
       "      <td>0.414397</td>\n",
       "      <td>0.807239</td>\n",
       "      <td>0 days 00:02:28</td>\n",
       "    </tr>\n",
       "    <tr>\n",
       "      <th>...</th>\n",
       "      <td>...</td>\n",
       "      <td>...</td>\n",
       "      <td>...</td>\n",
       "      <td>...</td>\n",
       "      <td>...</td>\n",
       "      <td>...</td>\n",
       "      <td>...</td>\n",
       "    </tr>\n",
       "    <tr>\n",
       "      <th>14871</th>\n",
       "      <td>3241</td>\n",
       "      <td>2019-09-01 03:58:58</td>\n",
       "      <td>2019-09-01 04:01:35</td>\n",
       "      <td>0.533670</td>\n",
       "      <td>0.354439</td>\n",
       "      <td>0.640648</td>\n",
       "      <td>0 days 00:02:37</td>\n",
       "    </tr>\n",
       "    <tr>\n",
       "      <th>14872</th>\n",
       "      <td>3241</td>\n",
       "      <td>2019-09-01 04:05:04</td>\n",
       "      <td>2019-09-01 04:08:04</td>\n",
       "      <td>0.676604</td>\n",
       "      <td>0.523631</td>\n",
       "      <td>0.855559</td>\n",
       "      <td>0 days 00:03:00</td>\n",
       "    </tr>\n",
       "    <tr>\n",
       "      <th>14873</th>\n",
       "      <td>3241</td>\n",
       "      <td>2019-09-01 04:16:41</td>\n",
       "      <td>2019-09-01 04:19:45</td>\n",
       "      <td>0.733899</td>\n",
       "      <td>0.475654</td>\n",
       "      <td>0.874560</td>\n",
       "      <td>0 days 00:03:04</td>\n",
       "    </tr>\n",
       "    <tr>\n",
       "      <th>14874</th>\n",
       "      <td>3241</td>\n",
       "      <td>2019-09-01 04:31:51</td>\n",
       "      <td>2019-09-01 04:32:48</td>\n",
       "      <td>0.220694</td>\n",
       "      <td>0.145768</td>\n",
       "      <td>0.264489</td>\n",
       "      <td>0 days 00:00:57</td>\n",
       "    </tr>\n",
       "    <tr>\n",
       "      <th>14875</th>\n",
       "      <td>3241</td>\n",
       "      <td>2019-09-01 04:34:47</td>\n",
       "      <td>2019-09-01 04:36:08</td>\n",
       "      <td>0.306580</td>\n",
       "      <td>0.196708</td>\n",
       "      <td>0.364260</td>\n",
       "      <td>0 days 00:01:21</td>\n",
       "    </tr>\n",
       "  </tbody>\n",
       "</table>\n",
       "<p>14875 rows × 7 columns</p>\n",
       "</div>"
      ],
      "text/plain": [
       "        key Начало нагрева дугой Конец нагрева дугой  Активная мощность  \\\n",
       "0         1  2019-05-03 11:02:14 2019-05-03 11:06:02           0.976059   \n",
       "1         1  2019-05-03 11:07:28 2019-05-03 11:10:33           0.805607   \n",
       "2         1  2019-05-03 11:11:44 2019-05-03 11:14:36           0.744363   \n",
       "3         1  2019-05-03 11:18:14 2019-05-03 11:24:19           1.659363   \n",
       "4         1  2019-05-03 11:26:09 2019-05-03 11:28:37           0.692755   \n",
       "...     ...                  ...                 ...                ...   \n",
       "14871  3241  2019-09-01 03:58:58 2019-09-01 04:01:35           0.533670   \n",
       "14872  3241  2019-09-01 04:05:04 2019-09-01 04:08:04           0.676604   \n",
       "14873  3241  2019-09-01 04:16:41 2019-09-01 04:19:45           0.733899   \n",
       "14874  3241  2019-09-01 04:31:51 2019-09-01 04:32:48           0.220694   \n",
       "14875  3241  2019-09-01 04:34:47 2019-09-01 04:36:08           0.306580   \n",
       "\n",
       "       Реактивная мощность  Полная мощность   Время нагрева  \n",
       "0                 0.687084         1.193639 0 days 00:03:48  \n",
       "1                 0.520285         0.959010 0 days 00:03:05  \n",
       "2                 0.498805         0.896038 0 days 00:02:52  \n",
       "3                 1.062669         1.970470 0 days 00:06:05  \n",
       "4                 0.414397         0.807239 0 days 00:02:28  \n",
       "...                    ...              ...             ...  \n",
       "14871             0.354439         0.640648 0 days 00:02:37  \n",
       "14872             0.523631         0.855559 0 days 00:03:00  \n",
       "14873             0.475654         0.874560 0 days 00:03:04  \n",
       "14874             0.145768         0.264489 0 days 00:00:57  \n",
       "14875             0.196708         0.364260 0 days 00:01:21  \n",
       "\n",
       "[14875 rows x 7 columns]"
      ]
     },
     "execution_count": 39,
     "metadata": {},
     "output_type": "execute_result"
    }
   ],
   "source": [
    "# приведение столбцов с датой к формату даты\n",
    "electrodes['Начало нагрева дугой'] = pd.to_datetime(electrodes['Начало нагрева дугой'], format='%Y-%m-%d %H:%M:%S')\n",
    "electrodes['Конец нагрева дугой'] = pd.to_datetime(electrodes['Конец нагрева дугой'], format='%Y-%m-%d %H:%M:%S')\n",
    "# создание столбца\n",
    "electrodes['Время нагрева'] = electrodes['Конец нагрева дугой'] - electrodes['Начало нагрева дугой']\n",
    "electrodes"
   ]
  },
  {
   "cell_type": "code",
   "execution_count": 40,
   "metadata": {},
   "outputs": [],
   "source": [
    "# исползуем столбец с временем нагрева в качестве индекса, чтобы посчитать время в минутах\n",
    "electrodes.index = electrodes['Время нагрева']\n",
    "electrodes['Время нагрева'] = electrodes.index.seconds / 60\n",
    "\n",
    "# замена индексов на номер партии\n",
    "electrodes.index = electrodes['key']\n",
    "electrodes = electrodes.drop(['key'], axis=1)"
   ]
  },
  {
   "cell_type": "markdown",
   "metadata": {},
   "source": [
    "Создадим сводную **таблицу со средней полной мощностью для ковша**:"
   ]
  },
  {
   "cell_type": "code",
   "execution_count": 41,
   "metadata": {
    "scrolled": true
   },
   "outputs": [
    {
     "data": {
      "text/html": [
       "<div>\n",
       "<style scoped>\n",
       "    .dataframe tbody tr th:only-of-type {\n",
       "        vertical-align: middle;\n",
       "    }\n",
       "\n",
       "    .dataframe tbody tr th {\n",
       "        vertical-align: top;\n",
       "    }\n",
       "\n",
       "    .dataframe thead tr th {\n",
       "        text-align: left;\n",
       "    }\n",
       "\n",
       "    .dataframe thead tr:last-of-type th {\n",
       "        text-align: right;\n",
       "    }\n",
       "</style>\n",
       "<table border=\"1\" class=\"dataframe\">\n",
       "  <thead>\n",
       "    <tr>\n",
       "      <th></th>\n",
       "      <th colspan=\"2\" halign=\"left\">sum</th>\n",
       "    </tr>\n",
       "    <tr>\n",
       "      <th></th>\n",
       "      <th>Время нагрева</th>\n",
       "      <th>Полная мощность</th>\n",
       "    </tr>\n",
       "    <tr>\n",
       "      <th>key</th>\n",
       "      <th></th>\n",
       "      <th></th>\n",
       "    </tr>\n",
       "  </thead>\n",
       "  <tbody>\n",
       "    <tr>\n",
       "      <th>1</th>\n",
       "      <td>18.300000</td>\n",
       "      <td>5.826395</td>\n",
       "    </tr>\n",
       "    <tr>\n",
       "      <th>2</th>\n",
       "      <td>13.516667</td>\n",
       "      <td>3.649216</td>\n",
       "    </tr>\n",
       "    <tr>\n",
       "      <th>3</th>\n",
       "      <td>10.916667</td>\n",
       "      <td>2.989534</td>\n",
       "    </tr>\n",
       "    <tr>\n",
       "      <th>4</th>\n",
       "      <td>12.350000</td>\n",
       "      <td>3.814962</td>\n",
       "    </tr>\n",
       "    <tr>\n",
       "      <th>5</th>\n",
       "      <td>14.483333</td>\n",
       "      <td>4.035758</td>\n",
       "    </tr>\n",
       "    <tr>\n",
       "      <th>...</th>\n",
       "      <td>...</td>\n",
       "      <td>...</td>\n",
       "    </tr>\n",
       "    <tr>\n",
       "      <th>3237</th>\n",
       "      <td>15.150000</td>\n",
       "      <td>4.844982</td>\n",
       "    </tr>\n",
       "    <tr>\n",
       "      <th>3238</th>\n",
       "      <td>9.100000</td>\n",
       "      <td>2.696542</td>\n",
       "    </tr>\n",
       "    <tr>\n",
       "      <th>3239</th>\n",
       "      <td>20.266667</td>\n",
       "      <td>5.611883</td>\n",
       "    </tr>\n",
       "    <tr>\n",
       "      <th>3240</th>\n",
       "      <td>13.983333</td>\n",
       "      <td>3.891856</td>\n",
       "    </tr>\n",
       "    <tr>\n",
       "      <th>3241</th>\n",
       "      <td>10.983333</td>\n",
       "      <td>2.999516</td>\n",
       "    </tr>\n",
       "  </tbody>\n",
       "</table>\n",
       "<p>3214 rows × 2 columns</p>\n",
       "</div>"
      ],
      "text/plain": [
       "               sum                \n",
       "     Время нагрева Полная мощность\n",
       "key                               \n",
       "1        18.300000        5.826395\n",
       "2        13.516667        3.649216\n",
       "3        10.916667        2.989534\n",
       "4        12.350000        3.814962\n",
       "5        14.483333        4.035758\n",
       "...            ...             ...\n",
       "3237     15.150000        4.844982\n",
       "3238      9.100000        2.696542\n",
       "3239     20.266667        5.611883\n",
       "3240     13.983333        3.891856\n",
       "3241     10.983333        2.999516\n",
       "\n",
       "[3214 rows x 2 columns]"
      ]
     },
     "execution_count": 41,
     "metadata": {},
     "output_type": "execute_result"
    }
   ],
   "source": [
    "pivot_table_electr = pd.pivot_table(electrodes, values=('Полная мощность', 'Время нагрева'), \n",
    "                                    index='key', aggfunc=['sum'])\n",
    "pivot_table_electr"
   ]
  },
  {
   "cell_type": "code",
   "execution_count": 42,
   "metadata": {},
   "outputs": [],
   "source": [
    "# переименование столбцов\n",
    "pivot_table_electr.columns = ['sum_time_heat', 'sum_full_power']"
   ]
  },
  {
   "cell_type": "markdown",
   "metadata": {},
   "source": [
    "#### Датасеты с добавками"
   ]
  },
  {
   "cell_type": "markdown",
   "metadata": {},
   "source": [
    "Использовать будем **только датасеты с объёмами добавок**. Обзор данных показал, что в данных **очень много пропусков**, которые показывают, что для данной партии не использовали конкретные добавки, **заполним их нулями**: "
   ]
  },
  {
   "cell_type": "code",
   "execution_count": 43,
   "metadata": {},
   "outputs": [],
   "source": [
    "# замена индексов на номер партии\n",
    "bulk.index = bulk['key']\n",
    "bulk = bulk.drop(['key'], axis=1)\n",
    "wire.index = wire['key']\n",
    "wire = wire.drop(['key'], axis=1)\n",
    "\n",
    "# заполнение пропусков\n",
    "bulk = bulk.fillna(0)\n",
    "wire = wire.fillna(0)"
   ]
  },
  {
   "cell_type": "markdown",
   "metadata": {},
   "source": [
    "Добавок довольно много, при этом есть очень редкие. Чтобы оценить, стоит ли какие-то из них выкинуть из дальнейшего рассмотрения, посмотрим на **матрицы корреляций**, а также на **количество их использований**: "
   ]
  },
  {
   "cell_type": "code",
   "execution_count": 44,
   "metadata": {},
   "outputs": [
    {
     "data": {
      "image/png": "[encoded data removed]",
      "text/plain": [
       "<Figure size 1080x1080 with 4 Axes>"
      ]
     },
     "metadata": {
      "needs_background": "light"
     },
     "output_type": "display_data"
    }
   ],
   "source": [
    "fig = plt.figure(figsize=(15, 15))\n",
    "\n",
    "fig.add_subplot(221)\n",
    "sns.heatmap(bulk.corr())\n",
    "plt.title('Матрица корреляций для сыпучих добавок')\n",
    "\n",
    "fig.add_subplot(222)\n",
    "sns.heatmap(wire.corr())\n",
    "plt.title('Матрица корреляций для проволочных добавок');"
   ]
  },
  {
   "cell_type": "code",
   "execution_count": 45,
   "metadata": {},
   "outputs": [
    {
     "name": "stdout",
     "output_type": "stream",
     "text": [
      "<class 'pandas.core.frame.DataFrame'>\n",
      "RangeIndex: 3129 entries, 0 to 3128\n",
      "Data columns (total 16 columns):\n",
      " #   Column   Non-Null Count  Dtype \n",
      "---  ------   --------------  ----- \n",
      " 0   key      3129 non-null   int64 \n",
      " 1   Bulk 1   252 non-null    object\n",
      " 2   Bulk 2   22 non-null     object\n",
      " 3   Bulk 3   1298 non-null   object\n",
      " 4   Bulk 4   1014 non-null   object\n",
      " 5   Bulk 5   77 non-null     object\n",
      " 6   Bulk 6   576 non-null    object\n",
      " 7   Bulk 7   25 non-null     object\n",
      " 8   Bulk 8   1 non-null      object\n",
      " 9   Bulk 9   19 non-null     object\n",
      " 10  Bulk 10  176 non-null    object\n",
      " 11  Bulk 11  177 non-null    object\n",
      " 12  Bulk 12  2450 non-null   object\n",
      " 13  Bulk 13  18 non-null     object\n",
      " 14  Bulk 14  2806 non-null   object\n",
      " 15  Bulk 15  2248 non-null   object\n",
      "dtypes: int64(1), object(15)\n",
      "memory usage: 391.2+ KB\n"
     ]
    }
   ],
   "source": [
    "bulk_time.info()"
   ]
  },
  {
   "cell_type": "code",
   "execution_count": 46,
   "metadata": {},
   "outputs": [
    {
     "name": "stdout",
     "output_type": "stream",
     "text": [
      "<class 'pandas.core.frame.DataFrame'>\n",
      "RangeIndex: 3081 entries, 0 to 3080\n",
      "Data columns (total 10 columns):\n",
      " #   Column  Non-Null Count  Dtype \n",
      "---  ------  --------------  ----- \n",
      " 0   key     3081 non-null   int64 \n",
      " 1   Wire 1  3055 non-null   object\n",
      " 2   Wire 2  1079 non-null   object\n",
      " 3   Wire 3  63 non-null     object\n",
      " 4   Wire 4  14 non-null     object\n",
      " 5   Wire 5  1 non-null      object\n",
      " 6   Wire 6  73 non-null     object\n",
      " 7   Wire 7  11 non-null     object\n",
      " 8   Wire 8  19 non-null     object\n",
      " 9   Wire 9  29 non-null     object\n",
      "dtypes: int64(1), object(9)\n",
      "memory usage: 240.8+ KB\n"
     ]
    }
   ],
   "source": [
    "wire_time.info()"
   ]
  },
  {
   "cell_type": "markdown",
   "metadata": {},
   "source": [
    "**Bulk 8 и Wire 5 необходимо исключить из рассмотрения**, поскольку имеем всего **один случай их использования**. Удаление Bulk 8 также снимает проблему его сильной корреляции с Bulk 2. Помиимо этого слишком большая корреляция между Bulk 2 и Bulk 7, поэтому **уберём Bulk 2** (большие корреляции с остальными, чем у Bulk 7). Стоит обратить внимание и на заметную кореляцию между Bulk 14, Bulk 15 и Bulk 12, а также в парах Bulk 5, Bulk 2 и Bulk 9, Bulk 8.    "
   ]
  },
  {
   "cell_type": "code",
   "execution_count": 47,
   "metadata": {},
   "outputs": [],
   "source": [
    "# удаление столбцов\n",
    "bulk = bulk.drop(['Bulk 8', 'Bulk 2'], axis=1)\n",
    "wire = wire.drop(['Wire 5'], axis=1)"
   ]
  },
  {
   "cell_type": "markdown",
   "metadata": {},
   "source": [
    "#### Датасет с продувкой газом"
   ]
  },
  {
   "cell_type": "markdown",
   "metadata": {},
   "source": [
    "Данный датасет хранит всего лишь **один признак**, в котором не было замечено ярко-выраженных выбросов. **Заменим индексы на номер партии** для удобства дальнейшего объединения данных в единую таблицу:"
   ]
  },
  {
   "cell_type": "code",
   "execution_count": 48,
   "metadata": {},
   "outputs": [],
   "source": [
    "gas.index = gas['key']\n",
    "gas = gas.drop(['key'], axis=1)"
   ]
  },
  {
   "cell_type": "markdown",
   "metadata": {},
   "source": [
    "### Объединение данных"
   ]
  },
  {
   "cell_type": "markdown",
   "metadata": {},
   "source": [
    "**Объединим предобработанные датасеты в один по партии**. В итоговой таблице оставим только информацию о тех партиях, о которых информация содержалась во всех исходных таблицах:"
   ]
  },
  {
   "cell_type": "code",
   "execution_count": 49,
   "metadata": {},
   "outputs": [],
   "source": [
    "final_df = pivot_table_temp.join((pivot_table_electr, bulk, wire, gas), how='inner')"
   ]
  },
  {
   "cell_type": "code",
   "execution_count": 50,
   "metadata": {},
   "outputs": [
    {
     "name": "stdout",
     "output_type": "stream",
     "text": [
      "<class 'pandas.core.frame.DataFrame'>\n",
      "Int64Index: 2325 entries, 1 to 2499\n",
      "Data columns (total 27 columns):\n",
      " #   Column          Non-Null Count  Dtype  \n",
      "---  ------          --------------  -----  \n",
      " 0   initial_temp    2325 non-null   int64  \n",
      " 1   final_temp      2325 non-null   int64  \n",
      " 2   count_iter      2325 non-null   int64  \n",
      " 3   sum_time_heat   2325 non-null   float64\n",
      " 4   sum_full_power  2325 non-null   float64\n",
      " 5   Bulk 1          2325 non-null   float64\n",
      " 6   Bulk 3          2325 non-null   float64\n",
      " 7   Bulk 4          2325 non-null   float64\n",
      " 8   Bulk 5          2325 non-null   float64\n",
      " 9   Bulk 6          2325 non-null   float64\n",
      " 10  Bulk 7          2325 non-null   float64\n",
      " 11  Bulk 9          2325 non-null   float64\n",
      " 12  Bulk 10         2325 non-null   float64\n",
      " 13  Bulk 11         2325 non-null   float64\n",
      " 14  Bulk 12         2325 non-null   float64\n",
      " 15  Bulk 13         2325 non-null   float64\n",
      " 16  Bulk 14         2325 non-null   float64\n",
      " 17  Bulk 15         2325 non-null   float64\n",
      " 18  Wire 1          2325 non-null   float64\n",
      " 19  Wire 2          2325 non-null   float64\n",
      " 20  Wire 3          2325 non-null   float64\n",
      " 21  Wire 4          2325 non-null   float64\n",
      " 22  Wire 6          2325 non-null   float64\n",
      " 23  Wire 7          2325 non-null   float64\n",
      " 24  Wire 8          2325 non-null   float64\n",
      " 25  Wire 9          2325 non-null   float64\n",
      " 26  Газ 1           2325 non-null   float64\n",
      "dtypes: float64(24), int64(3)\n",
      "memory usage: 508.6 KB\n"
     ]
    }
   ],
   "source": [
    "final_df.info()"
   ]
  },
  {
   "cell_type": "markdown",
   "metadata": {},
   "source": [
    "**Проверим признаки** в объединённом датасете **на мультиколлинеарность**:"
   ]
  },
  {
   "cell_type": "code",
   "execution_count": 51,
   "metadata": {},
   "outputs": [
    {
     "data": {
      "image/png": "[encoded data removed]",
      "text/plain": [
       "<Figure size 1080x1080 with 2 Axes>"
      ]
     },
     "metadata": {
      "needs_background": "light"
     },
     "output_type": "display_data"
    }
   ],
   "source": [
    "# построение матрицы корреляций\n",
    "fig = plt.figure(figsize=(15, 15))\n",
    "\n",
    "sns.heatmap(final_df.corr())\n",
    "plt.title('Матрица корреляций для объединённого датасета');"
   ]
  },
  {
   "cell_type": "markdown",
   "metadata": {},
   "source": [
    "Обнаружились заметные корреляции в парах Bulk 9/Wire 8, Bulk 7/Wire 4, Bulk 2/Wire 4, Bulk 9/Wire 8. **Исключим Wire 4, а также Bulk 9** (исходя из числа применений и корреляции, вероятно, они с Wire 8 всегда используются вместе)."
   ]
  },
  {
   "cell_type": "code",
   "execution_count": 52,
   "metadata": {},
   "outputs": [],
   "source": [
    "# удаление лишних столбцов\n",
    "final_df = final_df.drop(['Wire 4', 'Bulk 9'], axis=1)"
   ]
  },
  {
   "cell_type": "markdown",
   "metadata": {},
   "source": [
    "**Чтобы избавиться от сильной корреляции между временем нагрева и полной мощностью, заменим их на новый признак** - их произведение (работу):"
   ]
  },
  {
   "cell_type": "code",
   "execution_count": 53,
   "metadata": {},
   "outputs": [],
   "source": [
    "final_df['work'] = final_df['sum_time_heat'] * final_df['sum_full_power']\n",
    "final_df = final_df.drop(['sum_time_heat', 'sum_full_power'], axis=1)"
   ]
  },
  {
   "cell_type": "code",
   "execution_count": 54,
   "metadata": {},
   "outputs": [
    {
     "data": {
      "image/png": "[encoded data removed]",
      "text/plain": [
       "<Figure size 1080x1080 with 2 Axes>"
      ]
     },
     "metadata": {
      "needs_background": "light"
     },
     "output_type": "display_data"
    }
   ],
   "source": [
    "# построение матрицы корреляций\n",
    "fig = plt.figure(figsize=(15, 15))\n",
    "\n",
    "sns.heatmap(final_df.corr())\n",
    "plt.title('Матрица корреляций для объединённого датасета');"
   ]
  },
  {
   "cell_type": "markdown",
   "metadata": {},
   "source": [
    "## Обучение моделей"
   ]
  },
  {
   "cell_type": "markdown",
   "metadata": {},
   "source": [
    "Создадим **обучающие и тестовые выборки с признаками и таргетом**:"
   ]
  },
  {
   "cell_type": "code",
   "execution_count": 55,
   "metadata": {},
   "outputs": [
    {
     "name": "stdout",
     "output_type": "stream",
     "text": [
      "1743 / 582 / 1743 / 582\n"
     ]
    }
   ],
   "source": [
    "# деление на обучающую (75%) и тестовую (25%) выборки: \n",
    "f_train, f_test, t_train, t_test = train_test_split(final_df.drop(['final_temp'], axis=1), \n",
    "                                                    final_df['final_temp'], test_size=0.25,\n",
    "                                                    random_state=130323)\n",
    "\n",
    "#проверка корректности разбиения\n",
    "print(f_train.shape[0], '/', f_test.shape[0], '/', t_train.shape[0], '/', t_test.shape[0])"
   ]
  },
  {
   "cell_type": "markdown",
   "metadata": {},
   "source": [
    "Нас **интересуют качество (MAE)**. Создадим список и функцию, которые будут собирать эту информацию о выбранных моделях:"
   ]
  },
  {
   "cell_type": "code",
   "execution_count": 56,
   "metadata": {},
   "outputs": [],
   "source": [
    "mae_cv_list = []"
   ]
  },
  {
   "cell_type": "code",
   "execution_count": 57,
   "metadata": {},
   "outputs": [],
   "source": [
    "def model_info(model):\n",
    "    \n",
    "# Извлекает MAE для лучшей подобранной модели,  \n",
    "# сохраняет в список и выводит на экран. \n",
    "     \n",
    "    mae = abs(round(model.best_score_, 3))\n",
    "    mae_cv_list.append(mae)\n",
    "    \n",
    "    return display(f'MAE: {mae}', model.best_params_)"
   ]
  },
  {
   "cell_type": "markdown",
   "metadata": {},
   "source": [
    "Для решения задачи **используем регрессоры** - LinearRegression, RandomForestRegressor, LGBMRegressor и CatBoostRegressor. Метрикой качества будет **среднее абсолютное отклонение (MAE)**.\n",
    "Для подбора гиперпараметров моделей и оценки их качества **используем кросс-валидацию**, поэтому масштабирование проведём в рамках **конвеерной обработки**. "
   ]
  },
  {
   "cell_type": "markdown",
   "metadata": {},
   "source": [
    "### LinearRegression"
   ]
  },
  {
   "cell_type": "code",
   "execution_count": 58,
   "metadata": {},
   "outputs": [],
   "source": [
    "# создание pipeline для LinearRegression\n",
    "pipe_lin_reg = make_pipeline(StandardScaler(),\n",
    "                             LinearRegression())\n",
    "\n",
    "# сетка параметров для GridSearchCV\n",
    "param_grid_lin_reg = {'linearregression__fit_intercept' : [True, False]}     "
   ]
  },
  {
   "cell_type": "code",
   "execution_count": 59,
   "metadata": {},
   "outputs": [
    {
     "name": "stdout",
     "output_type": "stream",
     "text": [
      "CPU times: user 292 ms, sys: 570 ms, total: 862 ms\n",
      "Wall time: 823 ms\n"
     ]
    },
    {
     "data": {
      "text/plain": [
       "GridSearchCV(cv=5, error_score='raise',\n",
       "             estimator=Pipeline(steps=[('standardscaler', StandardScaler()),\n",
       "                                       ('linearregression',\n",
       "                                        LinearRegression())]),\n",
       "             n_jobs=-1,\n",
       "             param_grid={'linearregression__fit_intercept': [True, False]},\n",
       "             scoring='neg_mean_absolute_error')"
      ]
     },
     "execution_count": 59,
     "metadata": {},
     "output_type": "execute_result"
    }
   ],
   "source": [
    "%%time\n",
    "\n",
    "# подбор лучших гиперпараметров модели кросс-валидацией\n",
    "GSCV_pipe_lin_reg = GridSearchCV(pipe_lin_reg, param_grid_lin_reg, cv=5, n_jobs=-1,\n",
    "                                 scoring='neg_mean_absolute_error', error_score='raise')\n",
    "\n",
    "GSCV_pipe_lin_reg.fit(f_train, t_train)"
   ]
  },
  {
   "cell_type": "code",
   "execution_count": 60,
   "metadata": {},
   "outputs": [
    {
     "data": {
      "text/plain": [
       "'MAE: 6.465'"
      ]
     },
     "metadata": {},
     "output_type": "display_data"
    },
    {
     "data": {
      "text/plain": [
       "{'linearregression__fit_intercept': True}"
      ]
     },
     "metadata": {},
     "output_type": "display_data"
    }
   ],
   "source": [
    "# вывод информации о лучшей модели\n",
    "model_info(GSCV_pipe_lin_reg)"
   ]
  },
  {
   "cell_type": "markdown",
   "metadata": {},
   "source": [
    "### RandomForestRegressor"
   ]
  },
  {
   "cell_type": "code",
   "execution_count": 62,
   "metadata": {},
   "outputs": [],
   "source": [
    "# создание pipeline для RandomForestRegressor\n",
    "pipe_forest = make_pipeline(StandardScaler(),\n",
    "                            RandomForestRegressor(random_state=130323))\n",
    "\n",
    "# сетка параметров для GridSearchCV\n",
    "param_grid = {'randomforestregressor__max_depth' : [5, 10, 15, 20],\n",
    "              'randomforestregressor__n_estimators' : [100, 300, 400, 500, 600]}"
   ]
  },
  {
   "cell_type": "code",
   "execution_count": 63,
   "metadata": {},
   "outputs": [
    {
     "name": "stdout",
     "output_type": "stream",
     "text": [
      "CPU times: user 3min 58s, sys: 809 ms, total: 3min 58s\n",
      "Wall time: 4min 1s\n"
     ]
    },
    {
     "data": {
      "text/plain": [
       "GridSearchCV(cv=5,\n",
       "             estimator=Pipeline(steps=[('standardscaler', StandardScaler()),\n",
       "                                       ('randomforestregressor',\n",
       "                                        RandomForestRegressor(random_state=130323))]),\n",
       "             n_jobs=-1,\n",
       "             param_grid={'randomforestregressor__max_depth': [5, 10, 15, 20],\n",
       "                         'randomforestregressor__n_estimators': [100, 300, 400,\n",
       "                                                                 500, 600]},\n",
       "             scoring='neg_mean_absolute_error')"
      ]
     },
     "execution_count": 63,
     "metadata": {},
     "output_type": "execute_result"
    }
   ],
   "source": [
    "%%time\n",
    "\n",
    "# подбор лучших гиперпараметров модели кросс-валидацией\n",
    "GSCV_pipe_forest = GridSearchCV(pipe_forest, param_grid, cv=5, n_jobs=-1,\n",
    "                                scoring='neg_mean_absolute_error')\n",
    "\n",
    "GSCV_pipe_forest.fit(f_train, t_train)"
   ]
  },
  {
   "cell_type": "code",
   "execution_count": 64,
   "metadata": {},
   "outputs": [
    {
     "data": {
      "text/plain": [
       "'MAE: 6.124'"
      ]
     },
     "metadata": {},
     "output_type": "display_data"
    },
    {
     "data": {
      "text/plain": [
       "{'randomforestregressor__max_depth': 10,\n",
       " 'randomforestregressor__n_estimators': 500}"
      ]
     },
     "metadata": {},
     "output_type": "display_data"
    }
   ],
   "source": [
    "# вывод информации о лучшей модели\n",
    "model_info(GSCV_pipe_forest)"
   ]
  },
  {
   "cell_type": "markdown",
   "metadata": {},
   "source": [
    "### LGBMRegressor"
   ]
  },
  {
   "cell_type": "code",
   "execution_count": 64,
   "metadata": {},
   "outputs": [],
   "source": [
    "# создание pipeline для LGBMRegressor\n",
    "pipe_lgbm = make_pipeline(StandardScaler(),\n",
    "                          LGBMRegressor(random_state=130323))\n",
    "\n",
    "# сетка параметров для GridSearchCV\n",
    "param_grid_lgbm = {'lgbmregressor__n_estimators' : [100, 150, 200, 300, 500],\n",
    "                   'lgbmregressor__max_depth' : [5, 10, 15]}     "
   ]
  },
  {
   "cell_type": "code",
   "execution_count": 65,
   "metadata": {},
   "outputs": [
    {
     "name": "stdout",
     "output_type": "stream",
     "text": [
      "CPU times: total: 1.12 s\n",
      "Wall time: 7.72 s\n"
     ]
    },
    {
     "data": {
      "text/plain": [
       "GridSearchCV(cv=5, error_score='raise',\n",
       "             estimator=Pipeline(steps=[('standardscaler', StandardScaler()),\n",
       "                                       ('lgbmregressor',\n",
       "                                        LGBMRegressor(random_state=130323))]),\n",
       "             n_jobs=-1,\n",
       "             param_grid={'lgbmregressor__max_depth': [5, 10, 15],\n",
       "                         'lgbmregressor__n_estimators': [100, 150, 200, 300,\n",
       "                                                         500]},\n",
       "             scoring='neg_mean_absolute_error')"
      ]
     },
     "execution_count": 65,
     "metadata": {},
     "output_type": "execute_result"
    }
   ],
   "source": [
    "%%time\n",
    "\n",
    "# подбор лучших гиперпараметров модели кросс-валидацией\n",
    "GSCV_pipe_lgbm = GridSearchCV(pipe_lgbm, param_grid_lgbm, cv=5, n_jobs=-1,\n",
    "                              scoring='neg_mean_absolute_error', error_score='raise')\n",
    "\n",
    "GSCV_pipe_lgbm.fit(f_train, t_train)"
   ]
  },
  {
   "cell_type": "code",
   "execution_count": 66,
   "metadata": {},
   "outputs": [
    {
     "data": {
      "text/plain": [
       "'MAE: 6.047'"
      ]
     },
     "metadata": {},
     "output_type": "display_data"
    },
    {
     "data": {
      "text/plain": [
       "{'lgbmregressor__max_depth': 10, 'lgbmregressor__n_estimators': 100}"
      ]
     },
     "metadata": {},
     "output_type": "display_data"
    }
   ],
   "source": [
    "# вывод информации о лучшей модели\n",
    "model_info(GSCV_pipe_lgbm)"
   ]
  },
  {
   "cell_type": "markdown",
   "metadata": {},
   "source": [
    "### CatBoostRegressor"
   ]
  },
  {
   "cell_type": "code",
   "execution_count": 67,
   "metadata": {},
   "outputs": [],
   "source": [
    "# создание pipeline для CatBoostRegressor\n",
    "pipe_cat = make_pipeline(StandardScaler(),\n",
    "                         CatBoostRegressor(random_state=130323))\n",
    "\n",
    "# сетка параметров для GridSearchCV\n",
    "param_grid_cat = {'catboostregressor__max_depth' : [5, 10],\n",
    "                  'catboostregressor__n_estimators' : [100, 150, 200, 300, 500]}"
   ]
  },
  {
   "cell_type": "code",
   "execution_count": 68,
   "metadata": {},
   "outputs": [
    {
     "name": "stdout",
     "output_type": "stream",
     "text": [
      "Learning rate set to 0.078531\n",
      "0:\tlearn: 10.9999920\ttotal: 137ms\tremaining: 1m 8s\n",
      "1:\tlearn: 10.7696626\ttotal: 140ms\tremaining: 34.9s\n",
      "2:\tlearn: 10.5824003\ttotal: 143ms\tremaining: 23.7s\n",
      "3:\tlearn: 10.3896096\ttotal: 145ms\tremaining: 18s\n",
      "4:\tlearn: 10.2429761\ttotal: 147ms\tremaining: 14.6s\n",
      "5:\tlearn: 10.1003682\ttotal: 150ms\tremaining: 12.3s\n",
      "6:\tlearn: 9.9670360\ttotal: 152ms\tremaining: 10.7s\n",
      "7:\tlearn: 9.8428032\ttotal: 154ms\tremaining: 9.45s\n",
      "8:\tlearn: 9.7294519\ttotal: 156ms\tremaining: 8.5s\n",
      "9:\tlearn: 9.6065990\ttotal: 158ms\tremaining: 7.74s\n",
      "10:\tlearn: 9.4908597\ttotal: 160ms\tremaining: 7.11s\n",
      "11:\tlearn: 9.4006222\ttotal: 162ms\tremaining: 6.6s\n",
      "12:\tlearn: 9.3275573\ttotal: 164ms\tremaining: 6.16s\n",
      "13:\tlearn: 9.2333915\ttotal: 167ms\tremaining: 5.78s\n",
      "14:\tlearn: 9.1471101\ttotal: 169ms\tremaining: 5.45s\n",
      "15:\tlearn: 9.0886160\ttotal: 171ms\tremaining: 5.16s\n",
      "16:\tlearn: 9.0255202\ttotal: 172ms\tremaining: 4.9s\n",
      "17:\tlearn: 8.9764589\ttotal: 174ms\tremaining: 4.67s\n",
      "18:\tlearn: 8.8940238\ttotal: 177ms\tremaining: 4.47s\n",
      "19:\tlearn: 8.8294869\ttotal: 179ms\tremaining: 4.3s\n",
      "20:\tlearn: 8.7833677\ttotal: 182ms\tremaining: 4.15s\n",
      "21:\tlearn: 8.7266876\ttotal: 185ms\tremaining: 4.03s\n",
      "22:\tlearn: 8.6779014\ttotal: 188ms\tremaining: 3.9s\n",
      "23:\tlearn: 8.6244162\ttotal: 192ms\tremaining: 3.81s\n",
      "24:\tlearn: 8.5796298\ttotal: 195ms\tremaining: 3.7s\n",
      "25:\tlearn: 8.5181780\ttotal: 197ms\tremaining: 3.6s\n",
      "26:\tlearn: 8.4807293\ttotal: 200ms\tremaining: 3.5s\n",
      "27:\tlearn: 8.4635205\ttotal: 202ms\tremaining: 3.41s\n",
      "28:\tlearn: 8.4282226\ttotal: 206ms\tremaining: 3.35s\n",
      "29:\tlearn: 8.3807988\ttotal: 209ms\tremaining: 3.28s\n",
      "30:\tlearn: 8.3461507\ttotal: 212ms\tremaining: 3.21s\n",
      "31:\tlearn: 8.2988497\ttotal: 215ms\tremaining: 3.14s\n",
      "32:\tlearn: 8.2564898\ttotal: 219ms\tremaining: 3.1s\n",
      "33:\tlearn: 8.2172214\ttotal: 223ms\tremaining: 3.05s\n",
      "34:\tlearn: 8.1767077\ttotal: 229ms\tremaining: 3.05s\n",
      "35:\tlearn: 8.1569439\ttotal: 233ms\tremaining: 3.01s\n",
      "36:\tlearn: 8.1304382\ttotal: 237ms\tremaining: 2.96s\n",
      "37:\tlearn: 8.1024256\ttotal: 239ms\tremaining: 2.91s\n",
      "38:\tlearn: 8.0749798\ttotal: 242ms\tremaining: 2.87s\n",
      "39:\tlearn: 8.0536697\ttotal: 245ms\tremaining: 2.82s\n",
      "40:\tlearn: 8.0186135\ttotal: 248ms\tremaining: 2.77s\n",
      "41:\tlearn: 8.0017799\ttotal: 251ms\tremaining: 2.73s\n",
      "42:\tlearn: 7.9805105\ttotal: 253ms\tremaining: 2.69s\n",
      "43:\tlearn: 7.9638793\ttotal: 256ms\tremaining: 2.65s\n",
      "44:\tlearn: 7.9447389\ttotal: 259ms\tremaining: 2.61s\n",
      "45:\tlearn: 7.9273330\ttotal: 261ms\tremaining: 2.58s\n",
      "46:\tlearn: 7.8966864\ttotal: 264ms\tremaining: 2.54s\n",
      "47:\tlearn: 7.8743725\ttotal: 267ms\tremaining: 2.51s\n",
      "48:\tlearn: 7.8639027\ttotal: 269ms\tremaining: 2.48s\n",
      "49:\tlearn: 7.8471981\ttotal: 272ms\tremaining: 2.45s\n",
      "50:\tlearn: 7.8282927\ttotal: 276ms\tremaining: 2.43s\n",
      "51:\tlearn: 7.7925232\ttotal: 279ms\tremaining: 2.4s\n",
      "52:\tlearn: 7.7683982\ttotal: 283ms\tremaining: 2.38s\n",
      "53:\tlearn: 7.7527267\ttotal: 285ms\tremaining: 2.36s\n",
      "54:\tlearn: 7.7304425\ttotal: 288ms\tremaining: 2.33s\n",
      "55:\tlearn: 7.7145527\ttotal: 291ms\tremaining: 2.31s\n",
      "56:\tlearn: 7.7049027\ttotal: 293ms\tremaining: 2.28s\n",
      "57:\tlearn: 7.6822665\ttotal: 295ms\tremaining: 2.25s\n",
      "58:\tlearn: 7.6664518\ttotal: 298ms\tremaining: 2.23s\n",
      "59:\tlearn: 7.6568296\ttotal: 300ms\tremaining: 2.2s\n",
      "60:\tlearn: 7.6391469\ttotal: 303ms\tremaining: 2.18s\n",
      "61:\tlearn: 7.6187390\ttotal: 305ms\tremaining: 2.15s\n",
      "62:\tlearn: 7.5988757\ttotal: 308ms\tremaining: 2.13s\n",
      "63:\tlearn: 7.5874006\ttotal: 310ms\tremaining: 2.11s\n",
      "64:\tlearn: 7.5694563\ttotal: 313ms\tremaining: 2.09s\n",
      "65:\tlearn: 7.5513995\ttotal: 315ms\tremaining: 2.07s\n",
      "66:\tlearn: 7.5381572\ttotal: 318ms\tremaining: 2.05s\n",
      "67:\tlearn: 7.5325086\ttotal: 320ms\tremaining: 2.03s\n",
      "68:\tlearn: 7.5168129\ttotal: 323ms\tremaining: 2.01s\n",
      "69:\tlearn: 7.5035354\ttotal: 325ms\tremaining: 2s\n",
      "70:\tlearn: 7.4925101\ttotal: 327ms\tremaining: 1.98s\n",
      "71:\tlearn: 7.4767585\ttotal: 330ms\tremaining: 1.96s\n",
      "72:\tlearn: 7.4688612\ttotal: 332ms\tremaining: 1.94s\n",
      "73:\tlearn: 7.4521023\ttotal: 334ms\tremaining: 1.92s\n",
      "74:\tlearn: 7.4328778\ttotal: 337ms\tremaining: 1.91s\n",
      "75:\tlearn: 7.4188101\ttotal: 339ms\tremaining: 1.89s\n",
      "76:\tlearn: 7.4048203\ttotal: 341ms\tremaining: 1.87s\n",
      "77:\tlearn: 7.3892506\ttotal: 343ms\tremaining: 1.86s\n",
      "78:\tlearn: 7.3774640\ttotal: 346ms\tremaining: 1.84s\n",
      "79:\tlearn: 7.3712463\ttotal: 348ms\tremaining: 1.83s\n",
      "80:\tlearn: 7.3677671\ttotal: 351ms\tremaining: 1.81s\n",
      "81:\tlearn: 7.3493970\ttotal: 353ms\tremaining: 1.8s\n",
      "82:\tlearn: 7.3306026\ttotal: 355ms\tremaining: 1.78s\n",
      "83:\tlearn: 7.3199769\ttotal: 357ms\tremaining: 1.77s\n",
      "84:\tlearn: 7.3114839\ttotal: 360ms\tremaining: 1.76s\n",
      "85:\tlearn: 7.3020885\ttotal: 362ms\tremaining: 1.74s\n",
      "86:\tlearn: 7.2904877\ttotal: 365ms\tremaining: 1.73s\n",
      "87:\tlearn: 7.2838711\ttotal: 367ms\tremaining: 1.72s\n",
      "88:\tlearn: 7.2707059\ttotal: 369ms\tremaining: 1.71s\n",
      "89:\tlearn: 7.2588954\ttotal: 373ms\tremaining: 1.7s\n",
      "90:\tlearn: 7.2473222\ttotal: 375ms\tremaining: 1.69s\n",
      "91:\tlearn: 7.2365556\ttotal: 378ms\tremaining: 1.67s\n",
      "92:\tlearn: 7.2227187\ttotal: 380ms\tremaining: 1.66s\n",
      "93:\tlearn: 7.2129342\ttotal: 383ms\tremaining: 1.65s\n",
      "94:\tlearn: 7.2060101\ttotal: 385ms\tremaining: 1.64s\n",
      "95:\tlearn: 7.1952179\ttotal: 388ms\tremaining: 1.63s\n",
      "96:\tlearn: 7.1891431\ttotal: 390ms\tremaining: 1.62s\n",
      "97:\tlearn: 7.1789772\ttotal: 393ms\tremaining: 1.61s\n",
      "98:\tlearn: 7.1676466\ttotal: 396ms\tremaining: 1.6s\n",
      "99:\tlearn: 7.1584410\ttotal: 398ms\tremaining: 1.59s\n",
      "100:\tlearn: 7.1549814\ttotal: 401ms\tremaining: 1.58s\n",
      "101:\tlearn: 7.1486301\ttotal: 403ms\tremaining: 1.57s\n",
      "102:\tlearn: 7.1329882\ttotal: 406ms\tremaining: 1.56s\n",
      "103:\tlearn: 7.1196484\ttotal: 409ms\tremaining: 1.55s\n",
      "104:\tlearn: 7.1066504\ttotal: 411ms\tremaining: 1.54s\n",
      "105:\tlearn: 7.0938407\ttotal: 413ms\tremaining: 1.54s\n",
      "106:\tlearn: 7.0788552\ttotal: 416ms\tremaining: 1.53s\n",
      "107:\tlearn: 7.0638860\ttotal: 418ms\tremaining: 1.52s\n",
      "108:\tlearn: 7.0522847\ttotal: 420ms\tremaining: 1.5s\n",
      "109:\tlearn: 7.0473305\ttotal: 422ms\tremaining: 1.5s\n",
      "110:\tlearn: 7.0349253\ttotal: 424ms\tremaining: 1.49s\n",
      "111:\tlearn: 7.0237039\ttotal: 426ms\tremaining: 1.48s\n",
      "112:\tlearn: 7.0103973\ttotal: 431ms\tremaining: 1.48s\n",
      "113:\tlearn: 7.0030189\ttotal: 435ms\tremaining: 1.47s\n",
      "114:\tlearn: 6.9874793\ttotal: 437ms\tremaining: 1.46s\n",
      "115:\tlearn: 6.9804324\ttotal: 440ms\tremaining: 1.45s\n",
      "116:\tlearn: 6.9710035\ttotal: 442ms\tremaining: 1.45s\n",
      "117:\tlearn: 6.9570033\ttotal: 444ms\tremaining: 1.44s\n",
      "118:\tlearn: 6.9448181\ttotal: 446ms\tremaining: 1.43s\n",
      "119:\tlearn: 6.9339954\ttotal: 448ms\tremaining: 1.42s\n",
      "120:\tlearn: 6.9232090\ttotal: 450ms\tremaining: 1.41s\n",
      "121:\tlearn: 6.9039407\ttotal: 453ms\tremaining: 1.4s\n",
      "122:\tlearn: 6.8913873\ttotal: 455ms\tremaining: 1.39s\n",
      "123:\tlearn: 6.8741574\ttotal: 457ms\tremaining: 1.39s\n",
      "124:\tlearn: 6.8706495\ttotal: 459ms\tremaining: 1.38s\n",
      "125:\tlearn: 6.8618257\ttotal: 461ms\tremaining: 1.37s\n",
      "126:\tlearn: 6.8540836\ttotal: 463ms\tremaining: 1.36s\n",
      "127:\tlearn: 6.8422327\ttotal: 465ms\tremaining: 1.35s\n",
      "128:\tlearn: 6.8308105\ttotal: 467ms\tremaining: 1.34s\n",
      "129:\tlearn: 6.8233305\ttotal: 469ms\tremaining: 1.34s\n",
      "130:\tlearn: 6.8006584\ttotal: 472ms\tremaining: 1.33s\n",
      "131:\tlearn: 6.7922011\ttotal: 474ms\tremaining: 1.32s\n",
      "132:\tlearn: 6.7796334\ttotal: 477ms\tremaining: 1.31s\n",
      "133:\tlearn: 6.7641688\ttotal: 479ms\tremaining: 1.31s\n",
      "134:\tlearn: 6.7472513\ttotal: 481ms\tremaining: 1.3s\n",
      "135:\tlearn: 6.7406971\ttotal: 483ms\tremaining: 1.29s\n",
      "136:\tlearn: 6.7292269\ttotal: 486ms\tremaining: 1.29s\n",
      "137:\tlearn: 6.7127157\ttotal: 488ms\tremaining: 1.28s\n",
      "138:\tlearn: 6.6988732\ttotal: 490ms\tremaining: 1.27s\n",
      "139:\tlearn: 6.6879714\ttotal: 493ms\tremaining: 1.27s\n",
      "140:\tlearn: 6.6859914\ttotal: 495ms\tremaining: 1.26s\n",
      "141:\tlearn: 6.6779148\ttotal: 497ms\tremaining: 1.25s\n",
      "142:\tlearn: 6.6683376\ttotal: 499ms\tremaining: 1.25s\n",
      "143:\tlearn: 6.6556399\ttotal: 501ms\tremaining: 1.24s\n",
      "144:\tlearn: 6.6451114\ttotal: 503ms\tremaining: 1.23s\n",
      "145:\tlearn: 6.6352811\ttotal: 506ms\tremaining: 1.23s\n",
      "146:\tlearn: 6.6131594\ttotal: 508ms\tremaining: 1.22s\n",
      "147:\tlearn: 6.6040863\ttotal: 510ms\tremaining: 1.21s\n",
      "148:\tlearn: 6.5895059\ttotal: 512ms\tremaining: 1.21s\n",
      "149:\tlearn: 6.5816672\ttotal: 514ms\tremaining: 1.2s\n",
      "150:\tlearn: 6.5719734\ttotal: 516ms\tremaining: 1.19s\n",
      "151:\tlearn: 6.5652716\ttotal: 519ms\tremaining: 1.19s\n",
      "152:\tlearn: 6.5595876\ttotal: 521ms\tremaining: 1.18s\n",
      "153:\tlearn: 6.5473749\ttotal: 523ms\tremaining: 1.17s\n",
      "154:\tlearn: 6.5391976\ttotal: 525ms\tremaining: 1.17s\n",
      "155:\tlearn: 6.5291602\ttotal: 527ms\tremaining: 1.16s\n",
      "156:\tlearn: 6.5206894\ttotal: 530ms\tremaining: 1.16s\n",
      "157:\tlearn: 6.5161725\ttotal: 532ms\tremaining: 1.15s\n",
      "158:\tlearn: 6.5125863\ttotal: 535ms\tremaining: 1.15s\n",
      "159:\tlearn: 6.5073959\ttotal: 537ms\tremaining: 1.14s\n",
      "160:\tlearn: 6.4942216\ttotal: 539ms\tremaining: 1.14s\n",
      "161:\tlearn: 6.4836335\ttotal: 542ms\tremaining: 1.13s\n",
      "162:\tlearn: 6.4769350\ttotal: 544ms\tremaining: 1.12s\n",
      "163:\tlearn: 6.4590667\ttotal: 547ms\tremaining: 1.12s\n",
      "164:\tlearn: 6.4456272\ttotal: 549ms\tremaining: 1.11s\n",
      "165:\tlearn: 6.4423180\ttotal: 552ms\tremaining: 1.11s\n",
      "166:\tlearn: 6.4370298\ttotal: 554ms\tremaining: 1.1s\n",
      "167:\tlearn: 6.4277680\ttotal: 557ms\tremaining: 1.1s\n",
      "168:\tlearn: 6.4141910\ttotal: 560ms\tremaining: 1.1s\n",
      "169:\tlearn: 6.4090925\ttotal: 562ms\tremaining: 1.09s\n",
      "170:\tlearn: 6.3993520\ttotal: 565ms\tremaining: 1.09s\n",
      "171:\tlearn: 6.3962732\ttotal: 567ms\tremaining: 1.08s\n",
      "172:\tlearn: 6.3906924\ttotal: 569ms\tremaining: 1.08s\n",
      "173:\tlearn: 6.3824428\ttotal: 572ms\tremaining: 1.07s\n",
      "174:\tlearn: 6.3788657\ttotal: 574ms\tremaining: 1.07s\n",
      "175:\tlearn: 6.3731167\ttotal: 576ms\tremaining: 1.06s\n",
      "176:\tlearn: 6.3570719\ttotal: 579ms\tremaining: 1.06s\n",
      "177:\tlearn: 6.3432228\ttotal: 581ms\tremaining: 1.05s\n",
      "178:\tlearn: 6.3396784\ttotal: 583ms\tremaining: 1.05s\n",
      "179:\tlearn: 6.3319122\ttotal: 586ms\tremaining: 1.04s\n",
      "180:\tlearn: 6.3299679\ttotal: 589ms\tremaining: 1.04s\n",
      "181:\tlearn: 6.3173537\ttotal: 611ms\tremaining: 1.07s\n",
      "182:\tlearn: 6.3106671\ttotal: 617ms\tremaining: 1.07s\n",
      "183:\tlearn: 6.3048974\ttotal: 620ms\tremaining: 1.06s\n",
      "184:\tlearn: 6.3024120\ttotal: 623ms\tremaining: 1.06s\n",
      "185:\tlearn: 6.2956898\ttotal: 626ms\tremaining: 1.06s\n",
      "186:\tlearn: 6.2839365\ttotal: 628ms\tremaining: 1.05s\n",
      "187:\tlearn: 6.2739274\ttotal: 633ms\tremaining: 1.05s\n",
      "188:\tlearn: 6.2661168\ttotal: 636ms\tremaining: 1.05s\n",
      "189:\tlearn: 6.2595515\ttotal: 639ms\tremaining: 1.04s\n",
      "190:\tlearn: 6.2567035\ttotal: 641ms\tremaining: 1.04s\n",
      "191:\tlearn: 6.2433834\ttotal: 644ms\tremaining: 1.03s\n",
      "192:\tlearn: 6.2343009\ttotal: 646ms\tremaining: 1.03s\n",
      "193:\tlearn: 6.2293531\ttotal: 649ms\tremaining: 1.02s\n",
      "194:\tlearn: 6.2239086\ttotal: 652ms\tremaining: 1.02s\n",
      "195:\tlearn: 6.2175555\ttotal: 654ms\tremaining: 1.01s\n",
      "196:\tlearn: 6.2089161\ttotal: 656ms\tremaining: 1.01s\n",
      "197:\tlearn: 6.2069795\ttotal: 658ms\tremaining: 1s\n",
      "198:\tlearn: 6.2039607\ttotal: 660ms\tremaining: 999ms\n",
      "199:\tlearn: 6.2005281\ttotal: 663ms\tremaining: 994ms\n",
      "200:\tlearn: 6.1884795\ttotal: 665ms\tremaining: 989ms\n",
      "201:\tlearn: 6.1788356\ttotal: 667ms\tremaining: 984ms\n",
      "202:\tlearn: 6.1670857\ttotal: 669ms\tremaining: 979ms\n",
      "203:\tlearn: 6.1573663\ttotal: 672ms\tremaining: 974ms\n",
      "204:\tlearn: 6.1505086\ttotal: 674ms\tremaining: 970ms\n",
      "205:\tlearn: 6.1393237\ttotal: 676ms\tremaining: 965ms\n",
      "206:\tlearn: 6.1341576\ttotal: 678ms\tremaining: 960ms\n",
      "207:\tlearn: 6.1221994\ttotal: 681ms\tremaining: 955ms\n",
      "208:\tlearn: 6.1201027\ttotal: 683ms\tremaining: 951ms\n",
      "209:\tlearn: 6.1095768\ttotal: 685ms\tremaining: 946ms\n",
      "210:\tlearn: 6.1080364\ttotal: 688ms\tremaining: 942ms\n",
      "211:\tlearn: 6.0979993\ttotal: 690ms\tremaining: 937ms\n",
      "212:\tlearn: 6.0913608\ttotal: 692ms\tremaining: 932ms\n",
      "213:\tlearn: 6.0884143\ttotal: 694ms\tremaining: 928ms\n",
      "214:\tlearn: 6.0867557\ttotal: 697ms\tremaining: 924ms\n",
      "215:\tlearn: 6.0845007\ttotal: 699ms\tremaining: 920ms\n",
      "216:\tlearn: 6.0832491\ttotal: 702ms\tremaining: 915ms\n",
      "217:\tlearn: 6.0742531\ttotal: 705ms\tremaining: 912ms\n",
      "218:\tlearn: 6.0645339\ttotal: 707ms\tremaining: 907ms\n",
      "219:\tlearn: 6.0559705\ttotal: 709ms\tremaining: 903ms\n",
      "220:\tlearn: 6.0546533\ttotal: 712ms\tremaining: 899ms\n",
      "221:\tlearn: 6.0449631\ttotal: 714ms\tremaining: 894ms\n",
      "222:\tlearn: 6.0359485\ttotal: 716ms\tremaining: 890ms\n",
      "223:\tlearn: 6.0288473\ttotal: 719ms\tremaining: 886ms\n",
      "224:\tlearn: 6.0208687\ttotal: 721ms\tremaining: 881ms\n",
      "225:\tlearn: 6.0120481\ttotal: 724ms\tremaining: 877ms\n",
      "226:\tlearn: 6.0033793\ttotal: 726ms\tremaining: 873ms\n",
      "227:\tlearn: 5.9972134\ttotal: 729ms\tremaining: 869ms\n",
      "228:\tlearn: 5.9909384\ttotal: 731ms\tremaining: 865ms\n",
      "229:\tlearn: 5.9834640\ttotal: 733ms\tremaining: 861ms\n",
      "230:\tlearn: 5.9826765\ttotal: 736ms\tremaining: 857ms\n",
      "231:\tlearn: 5.9702903\ttotal: 739ms\tremaining: 853ms\n",
      "232:\tlearn: 5.9684839\ttotal: 741ms\tremaining: 849ms\n",
      "233:\tlearn: 5.9656326\ttotal: 743ms\tremaining: 845ms\n",
      "234:\tlearn: 5.9583355\ttotal: 746ms\tremaining: 841ms\n",
      "235:\tlearn: 5.9562466\ttotal: 748ms\tremaining: 837ms\n",
      "236:\tlearn: 5.9450064\ttotal: 750ms\tremaining: 833ms\n",
      "237:\tlearn: 5.9367739\ttotal: 753ms\tremaining: 829ms\n",
      "238:\tlearn: 5.9339327\ttotal: 755ms\tremaining: 825ms\n",
      "239:\tlearn: 5.9319931\ttotal: 758ms\tremaining: 821ms\n",
      "240:\tlearn: 5.9266376\ttotal: 761ms\tremaining: 817ms\n",
      "241:\tlearn: 5.9195383\ttotal: 763ms\tremaining: 813ms\n",
      "242:\tlearn: 5.9177096\ttotal: 765ms\tremaining: 809ms\n",
      "243:\tlearn: 5.9144240\ttotal: 767ms\tremaining: 805ms\n",
      "244:\tlearn: 5.9082767\ttotal: 770ms\tremaining: 801ms\n",
      "245:\tlearn: 5.9029756\ttotal: 772ms\tremaining: 797ms\n",
      "246:\tlearn: 5.9003034\ttotal: 774ms\tremaining: 793ms\n",
      "247:\tlearn: 5.8904048\ttotal: 776ms\tremaining: 789ms\n",
      "248:\tlearn: 5.8861841\ttotal: 779ms\tremaining: 785ms\n",
      "249:\tlearn: 5.8819246\ttotal: 781ms\tremaining: 781ms\n",
      "250:\tlearn: 5.8775404\ttotal: 783ms\tremaining: 777ms\n",
      "251:\tlearn: 5.8747078\ttotal: 785ms\tremaining: 772ms\n",
      "252:\tlearn: 5.8735129\ttotal: 787ms\tremaining: 769ms\n",
      "253:\tlearn: 5.8704355\ttotal: 789ms\tremaining: 765ms\n",
      "254:\tlearn: 5.8625185\ttotal: 792ms\tremaining: 761ms\n",
      "255:\tlearn: 5.8569235\ttotal: 794ms\tremaining: 757ms\n",
      "256:\tlearn: 5.8557591\ttotal: 796ms\tremaining: 753ms\n",
      "257:\tlearn: 5.8525366\ttotal: 798ms\tremaining: 748ms\n",
      "258:\tlearn: 5.8484246\ttotal: 800ms\tremaining: 744ms\n",
      "259:\tlearn: 5.8472232\ttotal: 802ms\tremaining: 740ms\n",
      "260:\tlearn: 5.8420227\ttotal: 804ms\tremaining: 736ms\n",
      "261:\tlearn: 5.8399506\ttotal: 806ms\tremaining: 733ms\n",
      "262:\tlearn: 5.8388434\ttotal: 809ms\tremaining: 729ms\n",
      "263:\tlearn: 5.8380887\ttotal: 810ms\tremaining: 724ms\n",
      "264:\tlearn: 5.8320706\ttotal: 813ms\tremaining: 721ms\n",
      "265:\tlearn: 5.8256135\ttotal: 815ms\tremaining: 717ms\n",
      "266:\tlearn: 5.8145330\ttotal: 817ms\tremaining: 713ms\n",
      "267:\tlearn: 5.8092567\ttotal: 819ms\tremaining: 709ms\n",
      "268:\tlearn: 5.8054005\ttotal: 821ms\tremaining: 705ms\n",
      "269:\tlearn: 5.8039266\ttotal: 823ms\tremaining: 701ms\n",
      "270:\tlearn: 5.8022736\ttotal: 825ms\tremaining: 697ms\n",
      "271:\tlearn: 5.7965074\ttotal: 827ms\tremaining: 694ms\n",
      "272:\tlearn: 5.7921650\ttotal: 830ms\tremaining: 690ms\n",
      "273:\tlearn: 5.7869713\ttotal: 832ms\tremaining: 686ms\n",
      "274:\tlearn: 5.7768068\ttotal: 834ms\tremaining: 682ms\n",
      "275:\tlearn: 5.7696187\ttotal: 836ms\tremaining: 678ms\n",
      "276:\tlearn: 5.7686151\ttotal: 838ms\tremaining: 675ms\n",
      "277:\tlearn: 5.7564396\ttotal: 840ms\tremaining: 671ms\n",
      "278:\tlearn: 5.7543952\ttotal: 842ms\tremaining: 667ms\n",
      "279:\tlearn: 5.7499984\ttotal: 845ms\tremaining: 664ms\n",
      "280:\tlearn: 5.7464965\ttotal: 847ms\tremaining: 660ms\n",
      "281:\tlearn: 5.7385824\ttotal: 849ms\tremaining: 656ms\n",
      "282:\tlearn: 5.7344698\ttotal: 851ms\tremaining: 652ms\n",
      "283:\tlearn: 5.7300980\ttotal: 853ms\tremaining: 649ms\n",
      "284:\tlearn: 5.7278075\ttotal: 855ms\tremaining: 645ms\n",
      "285:\tlearn: 5.7220890\ttotal: 857ms\tremaining: 641ms\n",
      "286:\tlearn: 5.7135639\ttotal: 859ms\tremaining: 637ms\n",
      "287:\tlearn: 5.7125667\ttotal: 861ms\tremaining: 634ms\n",
      "288:\tlearn: 5.7113107\ttotal: 864ms\tremaining: 631ms\n",
      "289:\tlearn: 5.7087924\ttotal: 867ms\tremaining: 627ms\n",
      "290:\tlearn: 5.7051415\ttotal: 869ms\tremaining: 624ms\n",
      "291:\tlearn: 5.7046815\ttotal: 871ms\tremaining: 621ms\n",
      "292:\tlearn: 5.6985071\ttotal: 873ms\tremaining: 617ms\n",
      "293:\tlearn: 5.6897971\ttotal: 876ms\tremaining: 614ms\n",
      "294:\tlearn: 5.6871057\ttotal: 878ms\tremaining: 610ms\n",
      "295:\tlearn: 5.6852567\ttotal: 880ms\tremaining: 607ms\n",
      "296:\tlearn: 5.6836710\ttotal: 883ms\tremaining: 603ms\n",
      "297:\tlearn: 5.6801405\ttotal: 886ms\tremaining: 601ms\n",
      "298:\tlearn: 5.6785143\ttotal: 888ms\tremaining: 597ms\n",
      "299:\tlearn: 5.6695875\ttotal: 890ms\tremaining: 593ms\n",
      "300:\tlearn: 5.6645045\ttotal: 892ms\tremaining: 590ms\n",
      "301:\tlearn: 5.6549252\ttotal: 894ms\tremaining: 586ms\n",
      "302:\tlearn: 5.6511692\ttotal: 897ms\tremaining: 583ms\n",
      "303:\tlearn: 5.6411326\ttotal: 899ms\tremaining: 580ms\n",
      "304:\tlearn: 5.6357444\ttotal: 901ms\tremaining: 576ms\n",
      "305:\tlearn: 5.6339966\ttotal: 903ms\tremaining: 573ms\n",
      "306:\tlearn: 5.6304796\ttotal: 905ms\tremaining: 569ms\n",
      "307:\tlearn: 5.6268146\ttotal: 907ms\tremaining: 565ms\n",
      "308:\tlearn: 5.6259249\ttotal: 909ms\tremaining: 562ms\n",
      "309:\tlearn: 5.6214113\ttotal: 911ms\tremaining: 558ms\n",
      "310:\tlearn: 5.6179017\ttotal: 913ms\tremaining: 555ms\n",
      "311:\tlearn: 5.6058990\ttotal: 916ms\tremaining: 552ms\n",
      "312:\tlearn: 5.5998771\ttotal: 918ms\tremaining: 548ms\n",
      "313:\tlearn: 5.5950178\ttotal: 920ms\tremaining: 545ms\n",
      "314:\tlearn: 5.5895089\ttotal: 922ms\tremaining: 542ms\n",
      "315:\tlearn: 5.5887318\ttotal: 924ms\tremaining: 538ms\n",
      "316:\tlearn: 5.5763597\ttotal: 927ms\tremaining: 535ms\n",
      "317:\tlearn: 5.5751123\ttotal: 929ms\tremaining: 532ms\n",
      "318:\tlearn: 5.5655957\ttotal: 931ms\tremaining: 528ms\n",
      "319:\tlearn: 5.5570354\ttotal: 933ms\tremaining: 525ms\n",
      "320:\tlearn: 5.5563355\ttotal: 935ms\tremaining: 522ms\n",
      "321:\tlearn: 5.5454552\ttotal: 938ms\tremaining: 518ms\n",
      "322:\tlearn: 5.5414610\ttotal: 940ms\tremaining: 515ms\n",
      "323:\tlearn: 5.5372318\ttotal: 942ms\tremaining: 512ms\n",
      "324:\tlearn: 5.5312266\ttotal: 945ms\tremaining: 509ms\n",
      "325:\tlearn: 5.5260197\ttotal: 947ms\tremaining: 505ms\n",
      "326:\tlearn: 5.5158183\ttotal: 949ms\tremaining: 502ms\n",
      "327:\tlearn: 5.5128365\ttotal: 952ms\tremaining: 499ms\n",
      "328:\tlearn: 5.5091771\ttotal: 954ms\tremaining: 496ms\n",
      "329:\tlearn: 5.5051748\ttotal: 958ms\tremaining: 493ms\n",
      "330:\tlearn: 5.4998166\ttotal: 961ms\tremaining: 491ms\n",
      "331:\tlearn: 5.4990006\ttotal: 964ms\tremaining: 488ms\n",
      "332:\tlearn: 5.4982677\ttotal: 967ms\tremaining: 485ms\n",
      "333:\tlearn: 5.4899512\ttotal: 969ms\tremaining: 482ms\n",
      "334:\tlearn: 5.4851146\ttotal: 972ms\tremaining: 479ms\n",
      "335:\tlearn: 5.4729648\ttotal: 974ms\tremaining: 475ms\n",
      "336:\tlearn: 5.4666863\ttotal: 977ms\tremaining: 472ms\n",
      "337:\tlearn: 5.4587816\ttotal: 979ms\tremaining: 469ms\n",
      "338:\tlearn: 5.4564620\ttotal: 982ms\tremaining: 466ms\n",
      "339:\tlearn: 5.4510399\ttotal: 985ms\tremaining: 463ms\n",
      "340:\tlearn: 5.4471731\ttotal: 987ms\tremaining: 460ms\n",
      "341:\tlearn: 5.4454897\ttotal: 990ms\tremaining: 457ms\n",
      "342:\tlearn: 5.4316040\ttotal: 992ms\tremaining: 454ms\n",
      "343:\tlearn: 5.4291680\ttotal: 995ms\tremaining: 451ms\n",
      "344:\tlearn: 5.4242538\ttotal: 997ms\tremaining: 448ms\n",
      "345:\tlearn: 5.4192694\ttotal: 1000ms\tremaining: 445ms\n",
      "346:\tlearn: 5.4120185\ttotal: 1s\tremaining: 442ms\n",
      "347:\tlearn: 5.4114974\ttotal: 1s\tremaining: 439ms\n",
      "348:\tlearn: 5.4077978\ttotal: 1.01s\tremaining: 436ms\n",
      "349:\tlearn: 5.4050071\ttotal: 1.01s\tremaining: 433ms\n",
      "350:\tlearn: 5.3982967\ttotal: 1.01s\tremaining: 430ms\n",
      "351:\tlearn: 5.3928094\ttotal: 1.02s\tremaining: 428ms\n",
      "352:\tlearn: 5.3921800\ttotal: 1.02s\tremaining: 425ms\n",
      "353:\tlearn: 5.3836329\ttotal: 1.02s\tremaining: 422ms\n",
      "354:\tlearn: 5.3769145\ttotal: 1.02s\tremaining: 418ms\n",
      "355:\tlearn: 5.3733921\ttotal: 1.03s\tremaining: 416ms\n",
      "356:\tlearn: 5.3669947\ttotal: 1.03s\tremaining: 412ms\n",
      "357:\tlearn: 5.3651133\ttotal: 1.03s\tremaining: 409ms\n",
      "358:\tlearn: 5.3579378\ttotal: 1.03s\tremaining: 406ms\n",
      "359:\tlearn: 5.3509369\ttotal: 1.04s\tremaining: 403ms\n",
      "360:\tlearn: 5.3477404\ttotal: 1.04s\tremaining: 400ms\n",
      "361:\tlearn: 5.3435547\ttotal: 1.04s\tremaining: 398ms\n",
      "362:\tlearn: 5.3403251\ttotal: 1.05s\tremaining: 395ms\n",
      "363:\tlearn: 5.3371508\ttotal: 1.05s\tremaining: 392ms\n",
      "364:\tlearn: 5.3306106\ttotal: 1.05s\tremaining: 389ms\n",
      "365:\tlearn: 5.3258891\ttotal: 1.05s\tremaining: 386ms\n",
      "366:\tlearn: 5.3255225\ttotal: 1.06s\tremaining: 384ms\n",
      "367:\tlearn: 5.3249937\ttotal: 1.06s\tremaining: 381ms\n",
      "368:\tlearn: 5.3242359\ttotal: 1.06s\tremaining: 377ms\n",
      "369:\tlearn: 5.3226166\ttotal: 1.06s\tremaining: 374ms\n",
      "370:\tlearn: 5.3165277\ttotal: 1.07s\tremaining: 371ms\n",
      "371:\tlearn: 5.3133422\ttotal: 1.07s\tremaining: 369ms\n",
      "372:\tlearn: 5.3121881\ttotal: 1.07s\tremaining: 366ms\n",
      "373:\tlearn: 5.3074387\ttotal: 1.08s\tremaining: 363ms\n",
      "374:\tlearn: 5.3025948\ttotal: 1.08s\tremaining: 360ms\n",
      "375:\tlearn: 5.2999559\ttotal: 1.08s\tremaining: 357ms\n",
      "376:\tlearn: 5.2952233\ttotal: 1.08s\tremaining: 354ms\n",
      "377:\tlearn: 5.2891826\ttotal: 1.09s\tremaining: 351ms\n",
      "378:\tlearn: 5.2835907\ttotal: 1.09s\tremaining: 348ms\n",
      "379:\tlearn: 5.2758449\ttotal: 1.09s\tremaining: 345ms\n",
      "380:\tlearn: 5.2667938\ttotal: 1.09s\tremaining: 342ms\n",
      "381:\tlearn: 5.2635714\ttotal: 1.1s\tremaining: 339ms\n",
      "382:\tlearn: 5.2607831\ttotal: 1.1s\tremaining: 336ms\n",
      "383:\tlearn: 5.2530908\ttotal: 1.1s\tremaining: 333ms\n",
      "384:\tlearn: 5.2527746\ttotal: 1.1s\tremaining: 330ms\n",
      "385:\tlearn: 5.2487114\ttotal: 1.11s\tremaining: 327ms\n",
      "386:\tlearn: 5.2470013\ttotal: 1.11s\tremaining: 324ms\n",
      "387:\tlearn: 5.2401305\ttotal: 1.11s\tremaining: 321ms\n",
      "388:\tlearn: 5.2398169\ttotal: 1.11s\tremaining: 318ms\n",
      "389:\tlearn: 5.2342484\ttotal: 1.12s\tremaining: 316ms\n",
      "390:\tlearn: 5.2329780\ttotal: 1.12s\tremaining: 313ms\n",
      "391:\tlearn: 5.2304690\ttotal: 1.12s\tremaining: 310ms\n",
      "392:\tlearn: 5.2218133\ttotal: 1.13s\tremaining: 307ms\n",
      "393:\tlearn: 5.2183805\ttotal: 1.13s\tremaining: 304ms\n",
      "394:\tlearn: 5.2115245\ttotal: 1.13s\tremaining: 301ms\n",
      "395:\tlearn: 5.2110929\ttotal: 1.13s\tremaining: 298ms\n",
      "396:\tlearn: 5.2049975\ttotal: 1.14s\tremaining: 295ms\n",
      "397:\tlearn: 5.1999770\ttotal: 1.14s\tremaining: 292ms\n",
      "398:\tlearn: 5.1984328\ttotal: 1.14s\tremaining: 289ms\n",
      "399:\tlearn: 5.1927506\ttotal: 1.14s\tremaining: 286ms\n",
      "400:\tlearn: 5.1903303\ttotal: 1.15s\tremaining: 283ms\n",
      "401:\tlearn: 5.1838598\ttotal: 1.15s\tremaining: 280ms\n",
      "402:\tlearn: 5.1798232\ttotal: 1.15s\tremaining: 278ms\n",
      "403:\tlearn: 5.1779226\ttotal: 1.16s\tremaining: 275ms\n",
      "404:\tlearn: 5.1754695\ttotal: 1.16s\tremaining: 272ms\n",
      "405:\tlearn: 5.1685554\ttotal: 1.16s\tremaining: 269ms\n",
      "406:\tlearn: 5.1667081\ttotal: 1.16s\tremaining: 266ms\n",
      "407:\tlearn: 5.1602652\ttotal: 1.17s\tremaining: 263ms\n",
      "408:\tlearn: 5.1552886\ttotal: 1.17s\tremaining: 260ms\n",
      "409:\tlearn: 5.1512911\ttotal: 1.17s\tremaining: 257ms\n",
      "410:\tlearn: 5.1466367\ttotal: 1.17s\tremaining: 254ms\n",
      "411:\tlearn: 5.1444387\ttotal: 1.18s\tremaining: 251ms\n",
      "412:\tlearn: 5.1419977\ttotal: 1.18s\tremaining: 248ms\n",
      "413:\tlearn: 5.1403596\ttotal: 1.18s\tremaining: 245ms\n",
      "414:\tlearn: 5.1380503\ttotal: 1.18s\tremaining: 242ms\n",
      "415:\tlearn: 5.1340494\ttotal: 1.18s\tremaining: 239ms\n",
      "416:\tlearn: 5.1334957\ttotal: 1.19s\tremaining: 236ms\n",
      "417:\tlearn: 5.1310506\ttotal: 1.19s\tremaining: 233ms\n",
      "418:\tlearn: 5.1266736\ttotal: 1.19s\tremaining: 230ms\n",
      "419:\tlearn: 5.1248543\ttotal: 1.19s\tremaining: 227ms\n",
      "420:\tlearn: 5.1217537\ttotal: 1.2s\tremaining: 224ms\n",
      "421:\tlearn: 5.1185159\ttotal: 1.2s\tremaining: 222ms\n",
      "422:\tlearn: 5.1142665\ttotal: 1.2s\tremaining: 219ms\n",
      "423:\tlearn: 5.1095627\ttotal: 1.2s\tremaining: 216ms\n",
      "424:\tlearn: 5.1028736\ttotal: 1.21s\tremaining: 213ms\n",
      "425:\tlearn: 5.0940683\ttotal: 1.21s\tremaining: 210ms\n",
      "426:\tlearn: 5.0889155\ttotal: 1.21s\tremaining: 207ms\n",
      "427:\tlearn: 5.0797320\ttotal: 1.22s\tremaining: 205ms\n",
      "428:\tlearn: 5.0781070\ttotal: 1.22s\tremaining: 202ms\n",
      "429:\tlearn: 5.0775018\ttotal: 1.22s\tremaining: 199ms\n",
      "430:\tlearn: 5.0760838\ttotal: 1.22s\tremaining: 196ms\n",
      "431:\tlearn: 5.0733828\ttotal: 1.23s\tremaining: 193ms\n",
      "432:\tlearn: 5.0638989\ttotal: 1.23s\tremaining: 190ms\n",
      "433:\tlearn: 5.0635173\ttotal: 1.23s\tremaining: 187ms\n",
      "434:\tlearn: 5.0630090\ttotal: 1.23s\tremaining: 184ms\n",
      "435:\tlearn: 5.0566425\ttotal: 1.24s\tremaining: 182ms\n",
      "436:\tlearn: 5.0545461\ttotal: 1.24s\tremaining: 179ms\n",
      "437:\tlearn: 5.0523128\ttotal: 1.24s\tremaining: 176ms\n",
      "438:\tlearn: 5.0516607\ttotal: 1.24s\tremaining: 173ms\n",
      "439:\tlearn: 5.0463536\ttotal: 1.25s\tremaining: 170ms\n",
      "440:\tlearn: 5.0461316\ttotal: 1.25s\tremaining: 167ms\n",
      "441:\tlearn: 5.0370702\ttotal: 1.25s\tremaining: 164ms\n",
      "442:\tlearn: 5.0357120\ttotal: 1.25s\tremaining: 161ms\n",
      "443:\tlearn: 5.0324028\ttotal: 1.26s\tremaining: 159ms\n",
      "444:\tlearn: 5.0256272\ttotal: 1.26s\tremaining: 156ms\n",
      "445:\tlearn: 5.0248585\ttotal: 1.26s\tremaining: 153ms\n",
      "446:\tlearn: 5.0172619\ttotal: 1.26s\tremaining: 150ms\n",
      "447:\tlearn: 5.0100775\ttotal: 1.27s\tremaining: 147ms\n",
      "448:\tlearn: 5.0090159\ttotal: 1.27s\tremaining: 144ms\n",
      "449:\tlearn: 5.0014598\ttotal: 1.27s\tremaining: 141ms\n",
      "450:\tlearn: 4.9972666\ttotal: 1.27s\tremaining: 139ms\n",
      "451:\tlearn: 4.9918860\ttotal: 1.28s\tremaining: 136ms\n",
      "452:\tlearn: 4.9879684\ttotal: 1.28s\tremaining: 133ms\n",
      "453:\tlearn: 4.9797072\ttotal: 1.28s\tremaining: 130ms\n",
      "454:\tlearn: 4.9753568\ttotal: 1.28s\tremaining: 127ms\n",
      "455:\tlearn: 4.9736716\ttotal: 1.29s\tremaining: 124ms\n",
      "456:\tlearn: 4.9702892\ttotal: 1.29s\tremaining: 121ms\n",
      "457:\tlearn: 4.9659771\ttotal: 1.29s\tremaining: 119ms\n",
      "458:\tlearn: 4.9656361\ttotal: 1.29s\tremaining: 116ms\n",
      "459:\tlearn: 4.9622786\ttotal: 1.3s\tremaining: 113ms\n",
      "460:\tlearn: 4.9595263\ttotal: 1.3s\tremaining: 110ms\n",
      "461:\tlearn: 4.9511747\ttotal: 1.3s\tremaining: 107ms\n",
      "462:\tlearn: 4.9503671\ttotal: 1.31s\tremaining: 104ms\n",
      "463:\tlearn: 4.9469825\ttotal: 1.31s\tremaining: 102ms\n",
      "464:\tlearn: 4.9406455\ttotal: 1.31s\tremaining: 98.8ms\n",
      "465:\tlearn: 4.9381731\ttotal: 1.31s\tremaining: 95.9ms\n",
      "466:\tlearn: 4.9318968\ttotal: 1.32s\tremaining: 93.1ms\n",
      "467:\tlearn: 4.9267189\ttotal: 1.32s\tremaining: 90.2ms\n",
      "468:\tlearn: 4.9239698\ttotal: 1.32s\tremaining: 87.4ms\n",
      "469:\tlearn: 4.9219659\ttotal: 1.32s\tremaining: 84.5ms\n",
      "470:\tlearn: 4.9162578\ttotal: 1.33s\tremaining: 81.7ms\n",
      "471:\tlearn: 4.9117911\ttotal: 1.33s\tremaining: 78.9ms\n",
      "472:\tlearn: 4.9114257\ttotal: 1.33s\tremaining: 76ms\n",
      "473:\tlearn: 4.9097192\ttotal: 1.33s\tremaining: 73.3ms\n",
      "474:\tlearn: 4.9054106\ttotal: 1.34s\tremaining: 70.4ms\n",
      "475:\tlearn: 4.9039463\ttotal: 1.34s\tremaining: 67.6ms\n",
      "476:\tlearn: 4.9000836\ttotal: 1.34s\tremaining: 64.7ms\n",
      "477:\tlearn: 4.8939127\ttotal: 1.34s\tremaining: 61.9ms\n",
      "478:\tlearn: 4.8848106\ttotal: 1.35s\tremaining: 59.1ms\n",
      "479:\tlearn: 4.8845772\ttotal: 1.35s\tremaining: 56.3ms\n",
      "480:\tlearn: 4.8835053\ttotal: 1.35s\tremaining: 53.4ms\n",
      "481:\tlearn: 4.8832434\ttotal: 1.35s\tremaining: 50.6ms\n",
      "482:\tlearn: 4.8794996\ttotal: 1.36s\tremaining: 47.8ms\n",
      "483:\tlearn: 4.8793103\ttotal: 1.36s\tremaining: 45ms\n",
      "484:\tlearn: 4.8770005\ttotal: 1.36s\tremaining: 42.1ms\n",
      "485:\tlearn: 4.8732300\ttotal: 1.36s\tremaining: 39.3ms\n",
      "486:\tlearn: 4.8656326\ttotal: 1.37s\tremaining: 36.5ms\n",
      "487:\tlearn: 4.8576234\ttotal: 1.37s\tremaining: 33.7ms\n",
      "488:\tlearn: 4.8558321\ttotal: 1.37s\tremaining: 30.9ms\n",
      "489:\tlearn: 4.8463396\ttotal: 1.38s\tremaining: 28.1ms\n",
      "490:\tlearn: 4.8378256\ttotal: 1.38s\tremaining: 25.3ms\n",
      "491:\tlearn: 4.8360651\ttotal: 1.38s\tremaining: 22.5ms\n",
      "492:\tlearn: 4.8285527\ttotal: 1.38s\tremaining: 19.7ms\n",
      "493:\tlearn: 4.8260696\ttotal: 1.39s\tremaining: 16.9ms\n",
      "494:\tlearn: 4.8202427\ttotal: 1.39s\tremaining: 14.1ms\n",
      "495:\tlearn: 4.8130159\ttotal: 1.39s\tremaining: 11.2ms\n",
      "496:\tlearn: 4.8128198\ttotal: 1.4s\tremaining: 8.43ms\n",
      "497:\tlearn: 4.8126226\ttotal: 1.4s\tremaining: 5.62ms\n",
      "498:\tlearn: 4.8108587\ttotal: 1.4s\tremaining: 2.81ms\n",
      "499:\tlearn: 4.8026207\ttotal: 1.41s\tremaining: 0us\n",
      "CPU times: total: 7.7 s\n",
      "Wall time: 3min 11s\n"
     ]
    },
    {
     "data": {
      "text/plain": [
       "GridSearchCV(cv=5, error_score='raise',\n",
       "             estimator=Pipeline(steps=[('standardscaler', StandardScaler()),\n",
       "                                       ('catboostregressor',\n",
       "                                        <catboost.core.CatBoostRegressor object at 0x000002DAEC47DA60>)]),\n",
       "             n_jobs=-1,\n",
       "             param_grid={'catboostregressor__max_depth': [5, 10],\n",
       "                         'catboostregressor__n_estimators': [100, 150, 200, 300,\n",
       "                                                             500]},\n",
       "             scoring='neg_mean_absolute_error')"
      ]
     },
     "execution_count": 68,
     "metadata": {},
     "output_type": "execute_result"
    }
   ],
   "source": [
    "%%time\n",
    "\n",
    "# подбор лучших гиперпараметров модели кросс-валидацией\n",
    "GSCV_pipe_cat = GridSearchCV(pipe_cat, param_grid_cat, cv=5, n_jobs=-1,\n",
    "                              scoring='neg_mean_absolute_error', error_score='raise')\n",
    "\n",
    "GSCV_pipe_cat.fit(f_train, t_train)"
   ]
  },
  {
   "cell_type": "code",
   "execution_count": 69,
   "metadata": {},
   "outputs": [
    {
     "data": {
      "text/plain": [
       "'MAE: 5.961'"
      ]
     },
     "metadata": {},
     "output_type": "display_data"
    },
    {
     "data": {
      "text/plain": [
       "{'catboostregressor__max_depth': 5, 'catboostregressor__n_estimators': 500}"
      ]
     },
     "metadata": {},
     "output_type": "display_data"
    }
   ],
   "source": [
    "# вывод информации о лучшей модели\n",
    "model_info(GSCV_pipe_cat)"
   ]
  },
  {
   "cell_type": "markdown",
   "metadata": {},
   "source": [
    "### Сравнение моделей"
   ]
  },
  {
   "cell_type": "markdown",
   "metadata": {},
   "source": [
    "**Для наглядности** сравнения различных моделей, **соберём всё в датафрейм**:"
   ]
  },
  {
   "cell_type": "code",
   "execution_count": 70,
   "metadata": {},
   "outputs": [
    {
     "data": {
      "text/html": [
       "<style type=\"text/css\">\n",
       "#T_4d599_row0_col1 {\n",
       "  background-color: #b40426;\n",
       "  color: #f1f1f1;\n",
       "}\n",
       "#T_4d599_row1_col1 {\n",
       "  background-color: #a6c4fe;\n",
       "  color: #000000;\n",
       "}\n",
       "#T_4d599_row2_col1 {\n",
       "  background-color: #7093f3;\n",
       "  color: #f1f1f1;\n",
       "}\n",
       "#T_4d599_row3_col1 {\n",
       "  background-color: #3b4cc0;\n",
       "  color: #f1f1f1;\n",
       "}\n",
       "</style>\n",
       "<table id=\"T_4d599\">\n",
       "  <thead>\n",
       "    <tr>\n",
       "      <th class=\"blank level0\" >&nbsp;</th>\n",
       "      <th id=\"T_4d599_level0_col0\" class=\"col_heading level0 col0\" >model</th>\n",
       "      <th id=\"T_4d599_level0_col1\" class=\"col_heading level0 col1\" >MAE</th>\n",
       "    </tr>\n",
       "  </thead>\n",
       "  <tbody>\n",
       "    <tr>\n",
       "      <th id=\"T_4d599_level0_row0\" class=\"row_heading level0 row0\" >0</th>\n",
       "      <td id=\"T_4d599_row0_col0\" class=\"data row0 col0\" >GSCV_pipe_lin_reg</td>\n",
       "      <td id=\"T_4d599_row0_col1\" class=\"data row0 col1\" >6.465000</td>\n",
       "    </tr>\n",
       "    <tr>\n",
       "      <th id=\"T_4d599_level0_row1\" class=\"row_heading level0 row1\" >1</th>\n",
       "      <td id=\"T_4d599_row1_col0\" class=\"data row1 col0\" >GSCV_pipe_forest</td>\n",
       "      <td id=\"T_4d599_row1_col1\" class=\"data row1 col1\" >6.124000</td>\n",
       "    </tr>\n",
       "    <tr>\n",
       "      <th id=\"T_4d599_level0_row2\" class=\"row_heading level0 row2\" >2</th>\n",
       "      <td id=\"T_4d599_row2_col0\" class=\"data row2 col0\" >GSCV_pipe_lgbm</td>\n",
       "      <td id=\"T_4d599_row2_col1\" class=\"data row2 col1\" >6.047000</td>\n",
       "    </tr>\n",
       "    <tr>\n",
       "      <th id=\"T_4d599_level0_row3\" class=\"row_heading level0 row3\" >3</th>\n",
       "      <td id=\"T_4d599_row3_col0\" class=\"data row3 col0\" >GSCV_pipe_cat</td>\n",
       "      <td id=\"T_4d599_row3_col1\" class=\"data row3 col1\" >5.961000</td>\n",
       "    </tr>\n",
       "  </tbody>\n",
       "</table>\n"
      ],
      "text/plain": [
       "<pandas.io.formats.style.Styler at 0x2daec23ad00>"
      ]
     },
     "execution_count": 70,
     "metadata": {},
     "output_type": "execute_result"
    }
   ],
   "source": [
    "# список с названиями моделей\n",
    "model_list = ['GSCV_pipe_lin_reg', 'GSCV_pipe_forest', 'GSCV_pipe_lgbm', 'GSCV_pipe_cat']\n",
    "\n",
    "# создание пустого словаря\n",
    "model_cv_metrics = {} \n",
    "\n",
    "# добавление собранных списков в словарь\n",
    "model_cv_metrics['model'] = model_list\n",
    "model_cv_metrics['MAE'] = mae_cv_list\n",
    "\n",
    "# преобразование словаря в датафрейм\n",
    "model_cv_metrics = pd.DataFrame(data=model_cv_metrics) \n",
    "model_cv_metrics.style.background_gradient('coolwarm', axis=0)"
   ]
  },
  {
   "cell_type": "markdown",
   "metadata": {},
   "source": [
    "**Лучшую метрику качества показал CatBoostRegressor (500 деревьев с глубиной дерева 5)**. Немного хуже LGBMRegressor и ещё чуть хуже RandomForestRegressor. Линейная регрессия, в свою очередь, им ощутимо уступает. "
   ]
  },
  {
   "cell_type": "markdown",
   "metadata": {},
   "source": [
    "### Тестирование лучшей модели"
   ]
  },
  {
   "cell_type": "markdown",
   "metadata": {},
   "source": [
    "**Проверим** лучшую модель - GSCV_pipe_cat - **на тестовой выборке**: "
   ]
  },
  {
   "cell_type": "code",
   "execution_count": 71,
   "metadata": {},
   "outputs": [
    {
     "data": {
      "text/plain": [
       "6.083607133992577"
      ]
     },
     "execution_count": 71,
     "metadata": {},
     "output_type": "execute_result"
    }
   ],
   "source": [
    "# предсказание на тестовой выборке\n",
    "prediction = GSCV_pipe_cat.predict(f_test)\n",
    "\n",
    "# MAE на тестовой выборке\n",
    "mae = mean_absolute_error(t_test, prediction)\n",
    "mae"
   ]
  },
  {
   "cell_type": "markdown",
   "metadata": {},
   "source": [
    "Метрика несколько ухудшилась, но незначительно. **Сравним качество полученной модели с простейшей**, которая будет предсказывать среднюю температуру:"
   ]
  },
  {
   "cell_type": "code",
   "execution_count": 72,
   "metadata": {},
   "outputs": [
    {
     "data": {
      "text/plain": [
       "8.319149942923397"
      ]
     },
     "execution_count": 72,
     "metadata": {},
     "output_type": "execute_result"
    }
   ],
   "source": [
    "# создание и обучение простейшей модели\n",
    "dummy = DummyRegressor(strategy='mean')  \n",
    "dummy.fit(f_train, t_train)\n",
    "# предсказание и MAE на тестовой выборке \n",
    "dummy_predict = dummy.predict(f_test) \n",
    "dummy_mae = mean_absolute_error(t_test, dummy_predict)\n",
    "dummy_mae"
   ]
  },
  {
   "cell_type": "markdown",
   "metadata": {},
   "source": [
    "Как видно, **GSCV_pipe_cat адекватна и предсказывает лучше, чем простейшая модель**. "
   ]
  },
  {
   "cell_type": "markdown",
   "metadata": {},
   "source": [
    "### Исследование важности признаков"
   ]
  },
  {
   "cell_type": "markdown",
   "metadata": {},
   "source": [
    "Выясним, **какие признаки оказались наиболее важными для предсказаний** выбранной модели:"
   ]
  },
  {
   "cell_type": "code",
   "execution_count": 73,
   "metadata": {},
   "outputs": [],
   "source": [
    "# извлечение информации о важности признаков в датафрейм\n",
    "feature_importances = pd.DataFrame(GSCV_pipe_cat.best_estimator_\n",
    "                                                .named_steps[\"catboostregressor\"]\n",
    "                                                .feature_importances_, index=f_train.columns)\n",
    "feature_importances.columns = ['feature_importance']"
   ]
  },
  {
   "cell_type": "code",
   "execution_count": 74,
   "metadata": {},
   "outputs": [
    {
     "data": {
      "image/png": "[encoded data removed]",
      "text/plain": [
       "<Figure size 1080x720 with 1 Axes>"
      ]
     },
     "metadata": {
      "needs_background": "light"
     },
     "output_type": "display_data"
    }
   ],
   "source": [
    "# построение столбчатой диагграммы\n",
    "plt.figure(figsize=(15, 10))\n",
    "sns.barplot(data=feature_importances, x=\"feature_importance\", y=feature_importances.index)\n",
    "plt.title('Важность признаков для модели GSCV_pipe_cat')\n",
    "plt.grid(True)\n",
    "plt.xlabel('Важность признаков');"
   ]
  },
  {
   "cell_type": "markdown",
   "metadata": {},
   "source": [
    "**Самыми важными оказались начальная температура и работа**. Также **существенное влияние оказывает продувка газом и число итераций**. Что касается **добавок, то в целом наибольшее значение играют наиболее представленные в данных**. Однако **есть и исключения** - Bulk 3 и Bulk 4 (~ 1000 использований), значительно уступают по важности Bulk 6 (~ 500 использований) и сопоставимы с Bulk 6 (всего 25 использований!). **Этот факт может быть связан с температурами плавления этих добавок** - вероятно, они значительно отличаются от средней начальной температуры шихты, что и приводит к такому сильному влиянию на итоговую температуру. "
   ]
  },
  {
   "cell_type": "markdown",
   "metadata": {},
   "source": [
    "## Отчёт по проекту"
   ]
  },
  {
   "cell_type": "markdown",
   "metadata": {},
   "source": [
    "Перед нами стояла задача помочь оптимизировать производственные расходы на металлургическом комбинате путём **уменьшения потребления электроэнергии на этапе обработки стали**. Для этого строили **модель, которая будет прогнозировать температуру расплава стали**.\n",
    "\n",
    "Согласно плану проведён **исследовательский анализ данных**, первой частью которого стал обзор данных. **Для таблиц** с информацией о нагреве (температура и время замера), электродах (время начала и конца нагрева, а также мощность), добавках (по две таблицы для сыпучих и проволочных – с объёмами и временем) и газе (объём) **выведена общая информация и статистика**. Также для всех параметров кроме дат **выведены частотные гистограммы либо гистограммы плотности. На их основе, статистике, а также общих физических соображениях базировалось определение аномалий**. В ходе обзора данных было **решено убрать из дальнейшего рассмотрения таблицы с временем внесения добавок**.\n",
    "\n",
    "На этапе предобработки **удалены записи о партиях, у которых был хотя бы один пропуск в столбце с температурой, а также имеющие  всего одну запись и температуры ниже 1400 оС**. Поскольку температура – целевой признак, заполнение пропусков не представлялось возможным. **Пропуски в таблицах с объёмами различных добавок заполнены нулями**. В таблице с информацией  об электродах пропусков не было, однако был **удалён сильный выброс для реактивной мощности**. Для данных о добавках также **построены матрицы корреляций, на основе которых были удалены некоторые из добавок, как и те, что использовались только раз**.\n",
    "\n",
    "В качестве **таргета** взяли **температуру финальной итерации для каждой партии**. В качестве **признаков** на этапе предобработки выделили **начальную температуру,  количество итераций, суммарное время нагрева дугой и суммарную полную мощность, объём продуваемого газа и все добавки**. Признаки были подготовлены в соответствующих таблицах и объединены в одну по номеру партии. **В итоговую таблицу вошли только те партии, информация о которых содержалась во всех таблицах**. \n",
    "\n",
    "**Признаки в итоговой таблице также были проверены на мультиколлинеарность**. Так на основе сильно коррелирующих времени нагрева и мощности был **создан другой признак – работа**, представляющий их произведение. Помимо этого **удалены некоторые добавки (сильные корреляции в парах сыпучие/проволочные)**. \n",
    "\n",
    "Подготовленные данные были далее **разделены на обучающую и тестовую выборки в отношении 3 : 1** (random_state=130323 здесь и далее). **Масштабирование** данных проводили **в рамках конвеерной обработки** (масштабирование -> модель), поскольку **подбор гиперпараметров модели, её обучение и оценку качества (MAE) проводили с помощью кросс-валидации** (GridSearchCV, cv=5). Для обучения выбрали модели **линейной регрессии, случайного леса**, а также две модели градиентного бустинга – **LGBMRegressor и CatBoostRegressor**. Для всех моделей кроме линейной регрессии варьировали количество деревьев и их глубину. **Лучшие результаты** (MAE = 5.96) показал **CatBoostRegressor с 500 деревьями с глубиной 5**. LGBMRegressor и случайный лес лишь немного отстали (6.05 и 6.12, соответственно), в то время как линейная регрессия показывает результат значительно хуже -  6.47. **Для дальнейшего тестирования выбрана лучшая модель, давшая на тестовой выборке MAE = 6.08**, что удовлетворяет исходному требованию. Также **проведено сравнение с константной моделью** (DummyRegressor), предсказывающей среднюю температуру (MAE = 8.32). \n",
    "\n",
    "**Для обученной модели CatBoostRegressor был проведён анализ важности факторов**. Самыми важными оказались начальная температура и работа. Также существенное влияние оказывает продувка газом и число итераций. Среди добавок наибольшее значение играют наиболее представленные в данных. Однако есть и исключения - Bulk 3 и Bulk 4 (~ 1000 использований), значительно уступают по важности Bulk 6 (~ 500 использований) и сопоставимы с Bulk 6 (всего 25 использований), что может быть связано с температурами плавления этих добавок - вероятно, они значительно отличаются от средней начальной температуры шихты, что и приводит к такому сильному влиянию на итоговую температуру. В то же время Wire 3, 8 и 9 вообще практически никак не влияют на предсказания модели. **Для доработки модели стоит удалить эти малозначащие признаки**. \n",
    "\n",
    "На этапе удаления пропусков в таблице с температурами было отмечено, что они идут во всех партиях, начиная с 2500 вплоть до 3241 (741 партия, что составляет треть от данных, использованных в итоге для построения модели!), что выглядит крайне странно. Возможно, произошла ошибка в выгрузке исходных данных. Поскольку исходный датасет невелик они могли бы сыграть не малую роль.\n",
    "\n",
    "**Краткий итог:**\n",
    "\n",
    " 1. Лучшая модель - **CatBoostRegressor(max_depth=5, n_estimators=500, random_state=130323)**\n",
    " 2. **MAE** на обучающей выборке 5.96, **на тестовой - 6.08**\n",
    " 3. **Наиболее значимые признаки**: начальная температура, работа, Wire 1 и 2, объём газа, число иттераций, Bulk 1-4, 6, 7, 12, 14, 15."
   ]
  }
 ],
 "metadata": {
  "ExecuteTimeLog": [
   {
    "duration": 455,
    "start_time": "2022-10-25T08:33:48.764Z"
   },
   {
    "duration": 3,
    "start_time": "2022-10-25T08:34:01.488Z"
   },
   {
    "duration": 2955,
    "start_time": "2022-10-25T08:36:15.456Z"
   },
   {
    "duration": 4,
    "start_time": "2022-10-25T08:37:49.482Z"
   },
   {
    "duration": 170,
    "start_time": "2022-10-25T08:38:14.986Z"
   },
   {
    "duration": 46,
    "start_time": "2022-10-25T08:57:06.000Z"
   },
   {
    "duration": 123,
    "start_time": "2022-10-25T09:02:33.774Z"
   },
   {
    "duration": 534,
    "start_time": "2022-10-25T09:08:04.763Z"
   },
   {
    "duration": 15,
    "start_time": "2022-10-25T09:09:46.276Z"
   },
   {
    "duration": 6,
    "start_time": "2022-10-25T09:18:12.102Z"
   },
   {
    "duration": 6,
    "start_time": "2022-10-25T09:18:20.871Z"
   },
   {
    "duration": 3,
    "start_time": "2022-10-25T09:18:30.505Z"
   },
   {
    "duration": 681,
    "start_time": "2022-10-25T09:26:13.523Z"
   },
   {
    "duration": 99,
    "start_time": "2022-10-25T09:27:35.589Z"
   },
   {
    "duration": 14,
    "start_time": "2022-10-25T09:27:54.983Z"
   },
   {
    "duration": 6,
    "start_time": "2022-10-25T09:28:41.099Z"
   },
   {
    "duration": 20,
    "start_time": "2022-10-25T09:28:44.014Z"
   },
   {
    "duration": 9,
    "start_time": "2022-10-25T09:28:59.657Z"
   },
   {
    "duration": 4,
    "start_time": "2022-10-25T09:29:12.876Z"
   },
   {
    "duration": 13,
    "start_time": "2022-10-25T09:29:23.248Z"
   },
   {
    "duration": 4,
    "start_time": "2022-10-25T09:30:00.038Z"
   },
   {
    "duration": 4,
    "start_time": "2022-10-25T09:30:54.118Z"
   },
   {
    "duration": 5,
    "start_time": "2022-10-25T09:31:00.056Z"
   },
   {
    "duration": 5,
    "start_time": "2022-10-25T09:31:05.142Z"
   },
   {
    "duration": 22,
    "start_time": "2022-10-25T09:35:47.082Z"
   },
   {
    "duration": 16,
    "start_time": "2022-10-25T09:36:07.864Z"
   },
   {
    "duration": 21,
    "start_time": "2022-10-25T09:37:16.737Z"
   },
   {
    "duration": 16,
    "start_time": "2022-10-25T09:37:28.566Z"
   },
   {
    "duration": 20,
    "start_time": "2022-10-25T09:38:30.721Z"
   },
   {
    "duration": 19,
    "start_time": "2022-10-25T09:38:42.962Z"
   },
   {
    "duration": 7,
    "start_time": "2022-10-25T10:06:33.836Z"
   },
   {
    "duration": 4,
    "start_time": "2022-10-25T10:07:52.980Z"
   },
   {
    "duration": 4,
    "start_time": "2022-10-25T10:07:59.175Z"
   },
   {
    "duration": 5,
    "start_time": "2022-10-25T10:16:28.438Z"
   },
   {
    "duration": 13,
    "start_time": "2022-10-25T10:16:29.386Z"
   },
   {
    "duration": 6,
    "start_time": "2022-10-25T10:16:47.144Z"
   },
   {
    "duration": 4,
    "start_time": "2022-10-25T10:17:11.152Z"
   },
   {
    "duration": 4,
    "start_time": "2022-10-25T10:17:12.566Z"
   },
   {
    "duration": 4,
    "start_time": "2022-10-25T10:28:17.683Z"
   },
   {
    "duration": 4,
    "start_time": "2022-10-25T10:28:37.683Z"
   },
   {
    "duration": 671,
    "start_time": "2022-10-25T11:04:35.188Z"
   },
   {
    "duration": 20,
    "start_time": "2022-10-25T11:04:38.242Z"
   },
   {
    "duration": 14,
    "start_time": "2022-10-25T11:04:41.876Z"
   },
   {
    "duration": 19,
    "start_time": "2022-10-25T11:04:55.210Z"
   },
   {
    "duration": 12,
    "start_time": "2022-10-25T11:04:57.468Z"
   },
   {
    "duration": 21,
    "start_time": "2022-10-25T11:05:11.842Z"
   },
   {
    "duration": 17,
    "start_time": "2022-10-25T11:05:19.587Z"
   },
   {
    "duration": 8,
    "start_time": "2022-10-25T12:03:32.561Z"
   },
   {
    "duration": 5,
    "start_time": "2022-10-25T12:03:58.904Z"
   },
   {
    "duration": 5,
    "start_time": "2022-10-25T12:04:43.898Z"
   },
   {
    "duration": 26,
    "start_time": "2022-10-25T12:04:47.879Z"
   },
   {
    "duration": 12,
    "start_time": "2022-10-25T12:04:55.271Z"
   },
   {
    "duration": 11,
    "start_time": "2022-10-25T12:08:37.538Z"
   },
   {
    "duration": 432,
    "start_time": "2022-10-25T12:08:45.467Z"
   },
   {
    "duration": 1097,
    "start_time": "2022-10-25T12:09:07.768Z"
   },
   {
    "duration": 5,
    "start_time": "2022-10-25T12:10:48.651Z"
   },
   {
    "duration": 11,
    "start_time": "2022-10-25T12:11:04.360Z"
   },
   {
    "duration": 4,
    "start_time": "2022-10-25T12:11:20.104Z"
   },
   {
    "duration": 10,
    "start_time": "2022-10-25T12:11:20.825Z"
   },
   {
    "duration": 18,
    "start_time": "2022-10-25T12:12:13.282Z"
   },
   {
    "duration": 9,
    "start_time": "2022-10-25T12:14:26.940Z"
   },
   {
    "duration": 16,
    "start_time": "2022-10-25T12:14:33.683Z"
   },
   {
    "duration": 6,
    "start_time": "2022-10-25T12:14:58.892Z"
   },
   {
    "duration": 10,
    "start_time": "2022-10-25T12:15:08.112Z"
   },
   {
    "duration": 6,
    "start_time": "2022-10-25T12:15:23.343Z"
   },
   {
    "duration": 3,
    "start_time": "2022-10-25T12:15:38.951Z"
   },
   {
    "duration": 7,
    "start_time": "2022-10-25T12:15:43.284Z"
   },
   {
    "duration": 7,
    "start_time": "2022-10-25T12:16:03.115Z"
   },
   {
    "duration": 44,
    "start_time": "2022-10-25T12:16:09.720Z"
   },
   {
    "duration": 14,
    "start_time": "2022-10-25T12:16:16.398Z"
   },
   {
    "duration": 4,
    "start_time": "2022-10-25T12:16:49.373Z"
   },
   {
    "duration": 7,
    "start_time": "2022-10-25T12:19:19.974Z"
   },
   {
    "duration": 4,
    "start_time": "2022-10-25T12:19:20.876Z"
   },
   {
    "duration": 39,
    "start_time": "2022-10-25T14:27:38.645Z"
   },
   {
    "duration": 3654,
    "start_time": "2022-10-25T14:34:30.096Z"
   },
   {
    "duration": 3,
    "start_time": "2022-10-25T14:34:49.176Z"
   },
   {
    "duration": 10,
    "start_time": "2022-10-25T14:35:08.661Z"
   },
   {
    "duration": 13,
    "start_time": "2022-10-25T14:35:19.522Z"
   },
   {
    "duration": 7,
    "start_time": "2022-10-25T14:36:15.834Z"
   },
   {
    "duration": 6,
    "start_time": "2022-10-25T14:37:49.345Z"
   },
   {
    "duration": 236,
    "start_time": "2022-10-25T15:09:58.065Z"
   },
   {
    "duration": 231,
    "start_time": "2022-10-25T15:10:17.676Z"
   },
   {
    "duration": 287,
    "start_time": "2022-10-25T15:10:30.734Z"
   },
   {
    "duration": 8,
    "start_time": "2022-10-25T15:12:41.300Z"
   },
   {
    "duration": 217,
    "start_time": "2022-10-25T15:13:12.327Z"
   },
   {
    "duration": 204,
    "start_time": "2022-10-25T15:13:38.352Z"
   },
   {
    "duration": 204,
    "start_time": "2022-10-25T15:15:19.041Z"
   },
   {
    "duration": 709,
    "start_time": "2022-10-25T15:16:57.466Z"
   },
   {
    "duration": 197,
    "start_time": "2022-10-25T15:19:04.811Z"
   },
   {
    "duration": 204,
    "start_time": "2022-10-25T15:19:49.482Z"
   },
   {
    "duration": 228,
    "start_time": "2022-10-25T15:19:58.145Z"
   },
   {
    "duration": 167,
    "start_time": "2022-10-25T15:25:21.867Z"
   },
   {
    "duration": 165,
    "start_time": "2022-10-25T15:43:41.395Z"
   },
   {
    "duration": 173,
    "start_time": "2022-10-25T15:43:54.073Z"
   },
   {
    "duration": 225,
    "start_time": "2022-10-25T15:44:07.061Z"
   },
   {
    "duration": 205,
    "start_time": "2022-10-25T15:44:25.938Z"
   },
   {
    "duration": 173,
    "start_time": "2022-10-25T15:44:33.226Z"
   },
   {
    "duration": 8,
    "start_time": "2022-10-25T15:47:14.188Z"
   },
   {
    "duration": 284,
    "start_time": "2022-10-25T15:47:29.627Z"
   },
   {
    "duration": 191,
    "start_time": "2022-10-25T15:47:46.060Z"
   },
   {
    "duration": 1088,
    "start_time": "2022-10-25T15:50:29.056Z"
   },
   {
    "duration": 2,
    "start_time": "2022-10-25T15:50:30.146Z"
   },
   {
    "duration": 716,
    "start_time": "2022-10-25T15:50:30.150Z"
   },
   {
    "duration": 32,
    "start_time": "2022-10-25T15:50:30.868Z"
   },
   {
    "duration": 18,
    "start_time": "2022-10-25T15:50:30.902Z"
   },
   {
    "duration": 22,
    "start_time": "2022-10-25T15:50:30.938Z"
   },
   {
    "duration": 33,
    "start_time": "2022-10-25T15:50:30.962Z"
   },
   {
    "duration": 28,
    "start_time": "2022-10-25T15:50:30.996Z"
   },
   {
    "duration": 27,
    "start_time": "2022-10-25T15:50:31.026Z"
   },
   {
    "duration": 7,
    "start_time": "2022-10-25T15:50:31.055Z"
   },
   {
    "duration": 17,
    "start_time": "2022-10-25T15:50:31.064Z"
   },
   {
    "duration": 10965,
    "start_time": "2022-10-25T15:52:34.075Z"
   },
   {
    "duration": 10,
    "start_time": "2022-10-25T15:53:02.036Z"
   },
   {
    "duration": 9,
    "start_time": "2022-10-25T15:53:17.978Z"
   },
   {
    "duration": 15,
    "start_time": "2022-10-25T15:53:37.493Z"
   },
   {
    "duration": 273,
    "start_time": "2022-10-25T15:54:09.692Z"
   },
   {
    "duration": 11,
    "start_time": "2022-10-25T15:54:26.844Z"
   },
   {
    "duration": 5,
    "start_time": "2022-10-25T16:07:11.294Z"
   },
   {
    "duration": 4,
    "start_time": "2022-10-25T16:07:16.808Z"
   },
   {
    "duration": 454,
    "start_time": "2022-10-25T16:08:13.613Z"
   },
   {
    "duration": 204,
    "start_time": "2022-10-25T16:08:22.302Z"
   },
   {
    "duration": 195,
    "start_time": "2022-10-25T16:08:39.989Z"
   },
   {
    "duration": 223,
    "start_time": "2022-10-25T16:10:00.791Z"
   },
   {
    "duration": 197,
    "start_time": "2022-10-25T16:10:48.046Z"
   },
   {
    "duration": 235,
    "start_time": "2022-10-25T16:11:45.082Z"
   },
   {
    "duration": 5,
    "start_time": "2022-10-25T16:12:55.412Z"
   },
   {
    "duration": 7,
    "start_time": "2022-10-25T16:14:17.888Z"
   },
   {
    "duration": 111,
    "start_time": "2022-10-25T16:14:47.539Z"
   },
   {
    "duration": 142,
    "start_time": "2022-10-25T16:15:41.219Z"
   },
   {
    "duration": 161,
    "start_time": "2022-10-25T16:18:41.156Z"
   },
   {
    "duration": 4,
    "start_time": "2022-10-25T16:20:06.437Z"
   },
   {
    "duration": 179,
    "start_time": "2022-10-25T16:20:50.348Z"
   },
   {
    "duration": 4,
    "start_time": "2022-10-25T16:21:56.734Z"
   },
   {
    "duration": 181,
    "start_time": "2022-10-25T16:22:33.259Z"
   },
   {
    "duration": 1081,
    "start_time": "2022-10-27T11:39:36.295Z"
   },
   {
    "duration": 3,
    "start_time": "2022-10-27T11:39:37.378Z"
   },
   {
    "duration": 3123,
    "start_time": "2022-10-27T11:39:37.382Z"
   },
   {
    "duration": 26,
    "start_time": "2022-10-27T11:39:40.507Z"
   },
   {
    "duration": 25,
    "start_time": "2022-10-27T11:39:40.535Z"
   },
   {
    "duration": 38,
    "start_time": "2022-10-27T11:39:40.562Z"
   },
   {
    "duration": 59,
    "start_time": "2022-10-27T11:39:40.602Z"
   },
   {
    "duration": 65,
    "start_time": "2022-10-27T11:39:40.663Z"
   },
   {
    "duration": 43,
    "start_time": "2022-10-27T11:39:40.730Z"
   },
   {
    "duration": 50,
    "start_time": "2022-10-27T11:39:40.775Z"
   },
   {
    "duration": 64,
    "start_time": "2022-10-27T11:39:40.827Z"
   },
   {
    "duration": 8626,
    "start_time": "2022-10-27T11:39:40.893Z"
   },
   {
    "duration": 14,
    "start_time": "2022-10-27T11:39:49.521Z"
   },
   {
    "duration": 291,
    "start_time": "2022-10-27T11:39:49.537Z"
   },
   {
    "duration": 12,
    "start_time": "2022-10-27T11:39:49.829Z"
   },
   {
    "duration": 11,
    "start_time": "2022-10-27T11:39:49.842Z"
   },
   {
    "duration": 20,
    "start_time": "2022-10-27T11:39:49.854Z"
   },
   {
    "duration": 631,
    "start_time": "2022-10-27T11:39:49.876Z"
   },
   {
    "duration": 204,
    "start_time": "2022-10-27T11:39:50.509Z"
   },
   {
    "duration": 213,
    "start_time": "2022-10-27T11:39:50.715Z"
   },
   {
    "duration": 201,
    "start_time": "2022-10-27T11:39:50.930Z"
   },
   {
    "duration": 5,
    "start_time": "2022-10-27T11:39:51.133Z"
   },
   {
    "duration": 223,
    "start_time": "2022-10-27T11:39:51.140Z"
   },
   {
    "duration": 4,
    "start_time": "2022-10-27T11:39:51.364Z"
   },
   {
    "duration": 262,
    "start_time": "2022-10-27T11:39:51.369Z"
   },
   {
    "duration": 5,
    "start_time": "2022-10-27T11:39:51.633Z"
   },
   {
    "duration": 200,
    "start_time": "2022-10-27T11:39:51.640Z"
   },
   {
    "duration": 905,
    "start_time": "2022-10-27T12:41:19.079Z"
   },
   {
    "duration": 0,
    "start_time": "2022-10-27T12:41:19.986Z"
   },
   {
    "duration": 324,
    "start_time": "2022-10-27T12:50:24.234Z"
   },
   {
    "duration": 223,
    "start_time": "2022-10-27T12:51:29.616Z"
   },
   {
    "duration": 229,
    "start_time": "2022-10-27T12:52:12.270Z"
   },
   {
    "duration": 227,
    "start_time": "2022-10-27T12:52:27.110Z"
   },
   {
    "duration": 222,
    "start_time": "2022-10-27T12:53:27.155Z"
   },
   {
    "duration": 6,
    "start_time": "2022-10-27T13:12:39.818Z"
   },
   {
    "duration": 185,
    "start_time": "2022-10-27T13:16:26.429Z"
   },
   {
    "duration": 186,
    "start_time": "2022-10-27T13:17:54.866Z"
   },
   {
    "duration": 182,
    "start_time": "2022-10-27T13:18:10.236Z"
   },
   {
    "duration": 3,
    "start_time": "2022-10-27T13:18:36.247Z"
   },
   {
    "duration": 57,
    "start_time": "2022-10-27T13:18:36.254Z"
   },
   {
    "duration": 765,
    "start_time": "2022-10-27T13:18:36.313Z"
   },
   {
    "duration": 18,
    "start_time": "2022-10-27T13:18:37.079Z"
   },
   {
    "duration": 53,
    "start_time": "2022-10-27T13:18:37.099Z"
   },
   {
    "duration": 38,
    "start_time": "2022-10-27T13:18:37.154Z"
   },
   {
    "duration": 81,
    "start_time": "2022-10-27T13:18:37.193Z"
   },
   {
    "duration": 80,
    "start_time": "2022-10-27T13:18:37.276Z"
   },
   {
    "duration": 50,
    "start_time": "2022-10-27T13:18:37.357Z"
   },
   {
    "duration": 24,
    "start_time": "2022-10-27T13:18:37.408Z"
   },
   {
    "duration": 31,
    "start_time": "2022-10-27T13:18:37.435Z"
   },
   {
    "duration": 8511,
    "start_time": "2022-10-27T13:18:37.468Z"
   },
   {
    "duration": 15,
    "start_time": "2022-10-27T13:18:45.981Z"
   },
   {
    "duration": 222,
    "start_time": "2022-10-27T13:18:45.997Z"
   },
   {
    "duration": 12,
    "start_time": "2022-10-27T13:18:46.221Z"
   },
   {
    "duration": 309,
    "start_time": "2022-10-27T13:18:46.234Z"
   },
   {
    "duration": 230,
    "start_time": "2022-10-27T13:18:46.544Z"
   },
   {
    "duration": 258,
    "start_time": "2022-10-27T13:18:46.776Z"
   },
   {
    "duration": 186,
    "start_time": "2022-10-27T13:18:47.036Z"
   },
   {
    "duration": 8,
    "start_time": "2022-10-27T13:18:47.224Z"
   },
   {
    "duration": 199,
    "start_time": "2022-10-27T13:18:59.522Z"
   },
   {
    "duration": 206,
    "start_time": "2022-10-27T13:19:52.716Z"
   },
   {
    "duration": 190,
    "start_time": "2022-10-27T13:20:48.905Z"
   },
   {
    "duration": 213,
    "start_time": "2022-10-27T13:21:45.355Z"
   },
   {
    "duration": 7,
    "start_time": "2022-10-27T15:14:39.294Z"
   },
   {
    "duration": 1248,
    "start_time": "2022-10-27T15:18:18.647Z"
   },
   {
    "duration": 2,
    "start_time": "2022-10-27T15:18:19.897Z"
   },
   {
    "duration": 814,
    "start_time": "2022-10-27T15:18:19.901Z"
   },
   {
    "duration": 41,
    "start_time": "2022-10-27T15:18:20.718Z"
   },
   {
    "duration": 31,
    "start_time": "2022-10-27T15:18:20.761Z"
   },
   {
    "duration": 45,
    "start_time": "2022-10-27T15:18:20.794Z"
   },
   {
    "duration": 25,
    "start_time": "2022-10-27T15:18:20.841Z"
   },
   {
    "duration": 22,
    "start_time": "2022-10-27T15:18:20.868Z"
   },
   {
    "duration": 65,
    "start_time": "2022-10-27T15:18:20.892Z"
   },
   {
    "duration": 6,
    "start_time": "2022-10-27T15:18:20.960Z"
   },
   {
    "duration": 47,
    "start_time": "2022-10-27T15:18:20.968Z"
   },
   {
    "duration": 10535,
    "start_time": "2022-10-27T15:18:21.018Z"
   },
   {
    "duration": 15,
    "start_time": "2022-10-27T15:18:31.555Z"
   },
   {
    "duration": 270,
    "start_time": "2022-10-27T15:18:31.573Z"
   },
   {
    "duration": 119,
    "start_time": "2022-10-27T15:18:31.845Z"
   },
   {
    "duration": 0,
    "start_time": "2022-10-27T15:18:31.965Z"
   },
   {
    "duration": 0,
    "start_time": "2022-10-27T15:18:31.966Z"
   },
   {
    "duration": 0,
    "start_time": "2022-10-27T15:18:31.967Z"
   },
   {
    "duration": 0,
    "start_time": "2022-10-27T15:18:31.968Z"
   },
   {
    "duration": 0,
    "start_time": "2022-10-27T15:18:31.969Z"
   },
   {
    "duration": 0,
    "start_time": "2022-10-27T15:18:31.970Z"
   },
   {
    "duration": 0,
    "start_time": "2022-10-27T15:18:31.971Z"
   },
   {
    "duration": 15,
    "start_time": "2022-10-27T15:18:45.461Z"
   },
   {
    "duration": 629,
    "start_time": "2022-10-27T15:18:50.759Z"
   },
   {
    "duration": 264,
    "start_time": "2022-10-27T15:18:54.088Z"
   },
   {
    "duration": 249,
    "start_time": "2022-10-27T15:18:57.730Z"
   },
   {
    "duration": 186,
    "start_time": "2022-10-27T15:19:00.453Z"
   },
   {
    "duration": 8,
    "start_time": "2022-10-27T15:19:03.255Z"
   },
   {
    "duration": 229,
    "start_time": "2022-10-27T15:19:04.394Z"
   },
   {
    "duration": 17,
    "start_time": "2022-10-27T15:19:08.288Z"
   },
   {
    "duration": 309,
    "start_time": "2022-10-27T15:19:20.932Z"
   },
   {
    "duration": 10,
    "start_time": "2022-10-27T15:20:16.789Z"
   },
   {
    "duration": 7,
    "start_time": "2022-10-27T15:20:53.599Z"
   },
   {
    "duration": 208,
    "start_time": "2022-10-27T15:20:54.937Z"
   },
   {
    "duration": 4,
    "start_time": "2022-10-27T15:24:30.389Z"
   },
   {
    "duration": 1095,
    "start_time": "2022-10-27T15:33:56.282Z"
   },
   {
    "duration": 3,
    "start_time": "2022-10-27T15:33:57.379Z"
   },
   {
    "duration": 870,
    "start_time": "2022-10-27T15:33:57.383Z"
   },
   {
    "duration": 25,
    "start_time": "2022-10-27T15:33:58.256Z"
   },
   {
    "duration": 45,
    "start_time": "2022-10-27T15:33:58.282Z"
   },
   {
    "duration": 25,
    "start_time": "2022-10-27T15:33:58.330Z"
   },
   {
    "duration": 21,
    "start_time": "2022-10-27T15:33:58.357Z"
   },
   {
    "duration": 23,
    "start_time": "2022-10-27T15:33:58.379Z"
   },
   {
    "duration": 48,
    "start_time": "2022-10-27T15:33:58.404Z"
   },
   {
    "duration": 5,
    "start_time": "2022-10-27T15:33:58.455Z"
   },
   {
    "duration": 10,
    "start_time": "2022-10-27T15:33:58.462Z"
   },
   {
    "duration": 13,
    "start_time": "2022-10-27T15:33:58.473Z"
   },
   {
    "duration": 27,
    "start_time": "2022-10-27T15:34:01.197Z"
   },
   {
    "duration": 4,
    "start_time": "2022-10-27T15:34:50.135Z"
   },
   {
    "duration": 20,
    "start_time": "2022-10-27T15:34:51.207Z"
   },
   {
    "duration": 533,
    "start_time": "2022-10-27T15:35:22.738Z"
   },
   {
    "duration": 226,
    "start_time": "2022-10-27T15:35:24.472Z"
   },
   {
    "duration": 239,
    "start_time": "2022-10-27T15:35:25.853Z"
   },
   {
    "duration": 193,
    "start_time": "2022-10-27T15:35:33.353Z"
   },
   {
    "duration": 7,
    "start_time": "2022-10-27T15:35:45.353Z"
   },
   {
    "duration": 205,
    "start_time": "2022-10-27T15:35:46.155Z"
   },
   {
    "duration": 16,
    "start_time": "2022-10-27T15:35:51.351Z"
   },
   {
    "duration": 6,
    "start_time": "2022-10-27T15:35:53.691Z"
   },
   {
    "duration": 330,
    "start_time": "2022-10-27T15:37:59.038Z"
   },
   {
    "duration": 125,
    "start_time": "2022-10-27T15:38:18.068Z"
   },
   {
    "duration": 5,
    "start_time": "2022-10-27T15:42:11.470Z"
   },
   {
    "duration": 3,
    "start_time": "2022-10-27T15:44:22.671Z"
   },
   {
    "duration": 6,
    "start_time": "2022-10-27T16:10:41.650Z"
   },
   {
    "duration": 6,
    "start_time": "2022-10-27T16:11:48.424Z"
   },
   {
    "duration": 4,
    "start_time": "2022-10-27T16:12:13.195Z"
   },
   {
    "duration": 3,
    "start_time": "2022-10-27T16:20:59.859Z"
   },
   {
    "duration": 26,
    "start_time": "2022-10-27T16:21:08.995Z"
   },
   {
    "duration": 5,
    "start_time": "2022-10-27T16:21:20.339Z"
   },
   {
    "duration": 1050,
    "start_time": "2022-10-27T16:23:10.404Z"
   },
   {
    "duration": 3,
    "start_time": "2022-10-27T16:23:11.456Z"
   },
   {
    "duration": 780,
    "start_time": "2022-10-27T16:23:11.461Z"
   },
   {
    "duration": 27,
    "start_time": "2022-10-27T16:23:12.243Z"
   },
   {
    "duration": 16,
    "start_time": "2022-10-27T16:23:12.272Z"
   },
   {
    "duration": 44,
    "start_time": "2022-10-27T16:23:12.289Z"
   },
   {
    "duration": 12,
    "start_time": "2022-10-27T16:23:12.335Z"
   },
   {
    "duration": 18,
    "start_time": "2022-10-27T16:23:12.348Z"
   },
   {
    "duration": 20,
    "start_time": "2022-10-27T16:23:12.367Z"
   },
   {
    "duration": 24,
    "start_time": "2022-10-27T16:23:12.388Z"
   },
   {
    "duration": 20,
    "start_time": "2022-10-27T16:23:12.413Z"
   },
   {
    "duration": 12,
    "start_time": "2022-10-27T16:23:12.435Z"
   },
   {
    "duration": 20,
    "start_time": "2022-10-27T16:23:12.448Z"
   },
   {
    "duration": 3,
    "start_time": "2022-10-27T16:23:12.471Z"
   },
   {
    "duration": 13,
    "start_time": "2022-10-27T16:23:12.475Z"
   },
   {
    "duration": 568,
    "start_time": "2022-10-27T16:23:12.490Z"
   },
   {
    "duration": 248,
    "start_time": "2022-10-27T16:23:13.060Z"
   },
   {
    "duration": 250,
    "start_time": "2022-10-27T16:23:13.325Z"
   },
   {
    "duration": 181,
    "start_time": "2022-10-27T16:23:13.577Z"
   },
   {
    "duration": 6,
    "start_time": "2022-10-27T16:23:13.760Z"
   },
   {
    "duration": 246,
    "start_time": "2022-10-27T16:23:13.768Z"
   },
   {
    "duration": 20,
    "start_time": "2022-10-27T16:23:14.024Z"
   },
   {
    "duration": 5,
    "start_time": "2022-10-27T16:23:14.045Z"
   },
   {
    "duration": 9,
    "start_time": "2022-10-27T16:23:14.052Z"
   },
   {
    "duration": 11,
    "start_time": "2022-10-27T16:23:14.063Z"
   },
   {
    "duration": 8,
    "start_time": "2022-10-27T16:23:14.076Z"
   },
   {
    "duration": 41,
    "start_time": "2022-10-27T16:23:14.086Z"
   },
   {
    "duration": 30,
    "start_time": "2022-10-27T16:23:14.128Z"
   },
   {
    "duration": 5,
    "start_time": "2022-10-27T16:23:18.379Z"
   },
   {
    "duration": 1095,
    "start_time": "2022-10-27T16:24:28.290Z"
   },
   {
    "duration": 3,
    "start_time": "2022-10-27T16:24:29.387Z"
   },
   {
    "duration": 757,
    "start_time": "2022-10-27T16:24:29.391Z"
   },
   {
    "duration": 25,
    "start_time": "2022-10-27T16:24:30.150Z"
   },
   {
    "duration": 29,
    "start_time": "2022-10-27T16:24:30.176Z"
   },
   {
    "duration": 35,
    "start_time": "2022-10-27T16:24:30.207Z"
   },
   {
    "duration": 34,
    "start_time": "2022-10-27T16:24:30.244Z"
   },
   {
    "duration": 43,
    "start_time": "2022-10-27T16:24:30.280Z"
   },
   {
    "duration": 32,
    "start_time": "2022-10-27T16:24:30.325Z"
   },
   {
    "duration": 11,
    "start_time": "2022-10-27T16:24:30.359Z"
   },
   {
    "duration": 33,
    "start_time": "2022-10-27T16:24:30.372Z"
   },
   {
    "duration": 35,
    "start_time": "2022-10-27T16:24:30.406Z"
   },
   {
    "duration": 43,
    "start_time": "2022-10-27T16:24:30.443Z"
   },
   {
    "duration": 19,
    "start_time": "2022-10-27T16:24:30.487Z"
   },
   {
    "duration": 52,
    "start_time": "2022-10-27T16:24:30.508Z"
   },
   {
    "duration": 498,
    "start_time": "2022-10-27T16:24:30.562Z"
   },
   {
    "duration": 234,
    "start_time": "2022-10-27T16:24:31.061Z"
   },
   {
    "duration": 241,
    "start_time": "2022-10-27T16:24:31.297Z"
   },
   {
    "duration": 202,
    "start_time": "2022-10-27T16:24:31.539Z"
   },
   {
    "duration": 6,
    "start_time": "2022-10-27T16:24:31.743Z"
   },
   {
    "duration": 217,
    "start_time": "2022-10-27T16:24:31.751Z"
   },
   {
    "duration": 18,
    "start_time": "2022-10-27T16:24:31.969Z"
   },
   {
    "duration": 4,
    "start_time": "2022-10-27T16:24:31.989Z"
   },
   {
    "duration": 26,
    "start_time": "2022-10-27T16:24:31.994Z"
   },
   {
    "duration": 11,
    "start_time": "2022-10-27T16:24:32.022Z"
   },
   {
    "duration": 9,
    "start_time": "2022-10-27T16:24:32.034Z"
   },
   {
    "duration": 24,
    "start_time": "2022-10-27T16:24:32.045Z"
   },
   {
    "duration": 139,
    "start_time": "2022-10-27T16:24:32.072Z"
   },
   {
    "duration": 36,
    "start_time": "2022-10-27T16:24:34.696Z"
   },
   {
    "duration": 4,
    "start_time": "2022-10-27T16:26:33.922Z"
   },
   {
    "duration": 5,
    "start_time": "2022-10-27T16:26:58.542Z"
   },
   {
    "duration": 1060,
    "start_time": "2022-10-27T16:27:17.923Z"
   },
   {
    "duration": 2,
    "start_time": "2022-10-27T16:27:18.985Z"
   },
   {
    "duration": 732,
    "start_time": "2022-10-27T16:27:18.988Z"
   },
   {
    "duration": 25,
    "start_time": "2022-10-27T16:27:19.722Z"
   },
   {
    "duration": 18,
    "start_time": "2022-10-27T16:27:19.751Z"
   },
   {
    "duration": 20,
    "start_time": "2022-10-27T16:27:19.770Z"
   },
   {
    "duration": 32,
    "start_time": "2022-10-27T16:27:19.791Z"
   },
   {
    "duration": 37,
    "start_time": "2022-10-27T16:27:19.827Z"
   },
   {
    "duration": 55,
    "start_time": "2022-10-27T16:27:19.865Z"
   },
   {
    "duration": 11,
    "start_time": "2022-10-27T16:27:19.925Z"
   },
   {
    "duration": 47,
    "start_time": "2022-10-27T16:27:19.937Z"
   },
   {
    "duration": 51,
    "start_time": "2022-10-27T16:27:19.986Z"
   },
   {
    "duration": 32,
    "start_time": "2022-10-27T16:27:20.038Z"
   },
   {
    "duration": 5,
    "start_time": "2022-10-27T16:27:20.072Z"
   },
   {
    "duration": 25,
    "start_time": "2022-10-27T16:27:20.079Z"
   },
   {
    "duration": 513,
    "start_time": "2022-10-27T16:27:20.106Z"
   },
   {
    "duration": 232,
    "start_time": "2022-10-27T16:27:20.621Z"
   },
   {
    "duration": 247,
    "start_time": "2022-10-27T16:27:20.855Z"
   },
   {
    "duration": 191,
    "start_time": "2022-10-27T16:27:21.103Z"
   },
   {
    "duration": 23,
    "start_time": "2022-10-27T16:27:21.296Z"
   },
   {
    "duration": 218,
    "start_time": "2022-10-27T16:27:21.322Z"
   },
   {
    "duration": 19,
    "start_time": "2022-10-27T16:27:21.542Z"
   },
   {
    "duration": 4,
    "start_time": "2022-10-27T16:27:21.562Z"
   },
   {
    "duration": 8,
    "start_time": "2022-10-27T16:27:21.567Z"
   },
   {
    "duration": 56,
    "start_time": "2022-10-27T16:27:21.576Z"
   },
   {
    "duration": 20,
    "start_time": "2022-10-27T16:27:21.634Z"
   },
   {
    "duration": 3,
    "start_time": "2022-10-27T16:27:51.196Z"
   },
   {
    "duration": 1103,
    "start_time": "2022-10-27T16:34:15.084Z"
   },
   {
    "duration": 3,
    "start_time": "2022-10-27T16:34:16.189Z"
   },
   {
    "duration": 780,
    "start_time": "2022-10-27T16:34:16.194Z"
   },
   {
    "duration": 39,
    "start_time": "2022-10-27T16:34:16.976Z"
   },
   {
    "duration": 17,
    "start_time": "2022-10-27T16:34:17.020Z"
   },
   {
    "duration": 25,
    "start_time": "2022-10-27T16:34:17.039Z"
   },
   {
    "duration": 23,
    "start_time": "2022-10-27T16:34:17.066Z"
   },
   {
    "duration": 33,
    "start_time": "2022-10-27T16:34:17.091Z"
   },
   {
    "duration": 22,
    "start_time": "2022-10-27T16:34:17.125Z"
   },
   {
    "duration": 5,
    "start_time": "2022-10-27T16:34:17.150Z"
   },
   {
    "duration": 30,
    "start_time": "2022-10-27T16:34:17.157Z"
   },
   {
    "duration": 42,
    "start_time": "2022-10-27T16:34:17.189Z"
   },
   {
    "duration": 43,
    "start_time": "2022-10-27T16:34:17.233Z"
   },
   {
    "duration": 25,
    "start_time": "2022-10-27T16:34:17.279Z"
   },
   {
    "duration": 55,
    "start_time": "2022-10-27T16:34:17.305Z"
   },
   {
    "duration": 532,
    "start_time": "2022-10-27T16:34:17.361Z"
   },
   {
    "duration": 240,
    "start_time": "2022-10-27T16:34:17.895Z"
   },
   {
    "duration": 265,
    "start_time": "2022-10-27T16:34:18.136Z"
   },
   {
    "duration": 185,
    "start_time": "2022-10-27T16:34:18.402Z"
   },
   {
    "duration": 6,
    "start_time": "2022-10-27T16:34:18.589Z"
   },
   {
    "duration": 223,
    "start_time": "2022-10-27T16:34:18.596Z"
   },
   {
    "duration": 23,
    "start_time": "2022-10-27T16:34:18.821Z"
   },
   {
    "duration": 4,
    "start_time": "2022-10-27T16:34:18.846Z"
   },
   {
    "duration": 11,
    "start_time": "2022-10-27T16:34:18.851Z"
   },
   {
    "duration": 14,
    "start_time": "2022-10-27T16:34:18.864Z"
   },
   {
    "duration": 5,
    "start_time": "2022-10-27T16:34:18.880Z"
   },
   {
    "duration": 152,
    "start_time": "2022-10-27T16:34:18.887Z"
   },
   {
    "duration": 0,
    "start_time": "2022-10-27T16:34:19.041Z"
   },
   {
    "duration": 0,
    "start_time": "2022-10-27T16:34:19.043Z"
   },
   {
    "duration": 32,
    "start_time": "2022-10-27T16:34:32.696Z"
   },
   {
    "duration": 5,
    "start_time": "2022-10-27T16:34:54.026Z"
   },
   {
    "duration": 5,
    "start_time": "2022-10-27T16:34:54.835Z"
   },
   {
    "duration": 5,
    "start_time": "2022-10-27T16:34:55.671Z"
   },
   {
    "duration": 2,
    "start_time": "2022-10-27T16:59:44.383Z"
   },
   {
    "duration": 6,
    "start_time": "2022-10-27T17:01:24.594Z"
   },
   {
    "duration": 4,
    "start_time": "2022-10-27T17:01:35.526Z"
   },
   {
    "duration": 11,
    "start_time": "2022-10-27T17:02:16.625Z"
   },
   {
    "duration": 3,
    "start_time": "2022-10-27T17:10:18.162Z"
   },
   {
    "duration": 3,
    "start_time": "2022-10-27T17:20:21.692Z"
   },
   {
    "duration": 4,
    "start_time": "2022-10-27T17:20:23.226Z"
   },
   {
    "duration": 113,
    "start_time": "2022-10-27T17:25:05.278Z"
   },
   {
    "duration": 6,
    "start_time": "2022-10-27T17:25:54.173Z"
   },
   {
    "duration": 3,
    "start_time": "2022-10-27T17:35:29.505Z"
   },
   {
    "duration": 3,
    "start_time": "2022-10-27T17:38:57.748Z"
   },
   {
    "duration": 71,
    "start_time": "2022-10-27T17:43:06.574Z"
   },
   {
    "duration": 3991,
    "start_time": "2022-10-27T17:45:04.591Z"
   },
   {
    "duration": 4,
    "start_time": "2022-10-27T17:46:23.947Z"
   },
   {
    "duration": 9500,
    "start_time": "2022-10-27T17:47:37.912Z"
   },
   {
    "duration": 7993,
    "start_time": "2022-10-27T17:48:21.205Z"
   },
   {
    "duration": 9418,
    "start_time": "2022-10-27T17:48:53.437Z"
   },
   {
    "duration": 4,
    "start_time": "2022-10-27T17:49:21.420Z"
   },
   {
    "duration": 36,
    "start_time": "2022-10-27T17:53:00.761Z"
   },
   {
    "duration": 23,
    "start_time": "2022-10-27T17:53:10.056Z"
   },
   {
    "duration": 19599,
    "start_time": "2022-10-27T17:53:19.621Z"
   },
   {
    "duration": 4072,
    "start_time": "2022-10-27T17:53:52.687Z"
   },
   {
    "duration": 4,
    "start_time": "2022-10-27T17:53:59.443Z"
   },
   {
    "duration": 759303,
    "start_time": "2022-10-27T17:54:26.367Z"
   },
   {
    "duration": 4,
    "start_time": "2022-10-27T18:09:21.566Z"
   },
   {
    "duration": 1828161,
    "start_time": "2022-10-27T18:19:46.541Z"
   },
   {
    "duration": 4,
    "start_time": "2022-10-27T19:01:34.235Z"
   },
   {
    "duration": 2,
    "start_time": "2022-10-27T19:12:18.298Z"
   },
   {
    "duration": 4,
    "start_time": "2022-10-27T19:12:21.726Z"
   },
   {
    "duration": 4,
    "start_time": "2022-10-27T19:13:17.775Z"
   },
   {
    "duration": 2,
    "start_time": "2022-10-27T19:15:08.375Z"
   },
   {
    "duration": 14,
    "start_time": "2022-10-27T19:15:16.562Z"
   },
   {
    "duration": 4,
    "start_time": "2022-10-27T19:15:48.437Z"
   },
   {
    "duration": 14,
    "start_time": "2022-10-27T19:16:00.524Z"
   },
   {
    "duration": 3,
    "start_time": "2022-10-27T19:16:58.526Z"
   },
   {
    "duration": 4,
    "start_time": "2022-10-27T19:17:04.897Z"
   },
   {
    "duration": 12,
    "start_time": "2022-10-27T19:17:12.763Z"
   },
   {
    "duration": 3,
    "start_time": "2022-10-27T19:17:36.993Z"
   },
   {
    "duration": 5,
    "start_time": "2022-10-27T19:17:58.636Z"
   },
   {
    "duration": 2,
    "start_time": "2022-10-27T19:19:06.527Z"
   },
   {
    "duration": 5,
    "start_time": "2022-10-27T19:19:45.722Z"
   },
   {
    "duration": 49,
    "start_time": "2022-10-27T19:21:57.786Z"
   },
   {
    "duration": 57,
    "start_time": "2022-10-27T19:24:00.121Z"
   },
   {
    "duration": 1066,
    "start_time": "2022-10-28T05:21:40.218Z"
   },
   {
    "duration": 2,
    "start_time": "2022-10-28T05:21:41.286Z"
   },
   {
    "duration": 2976,
    "start_time": "2022-10-28T05:21:41.289Z"
   },
   {
    "duration": 25,
    "start_time": "2022-10-28T05:21:44.267Z"
   },
   {
    "duration": 14,
    "start_time": "2022-10-28T05:21:44.293Z"
   },
   {
    "duration": 18,
    "start_time": "2022-10-28T05:21:44.308Z"
   },
   {
    "duration": 15,
    "start_time": "2022-10-28T05:21:44.327Z"
   },
   {
    "duration": 19,
    "start_time": "2022-10-28T05:21:44.344Z"
   },
   {
    "duration": 16,
    "start_time": "2022-10-28T05:21:44.364Z"
   },
   {
    "duration": 6,
    "start_time": "2022-10-28T05:21:44.382Z"
   },
   {
    "duration": 7,
    "start_time": "2022-10-28T05:21:44.389Z"
   },
   {
    "duration": 16,
    "start_time": "2022-10-28T05:21:44.398Z"
   },
   {
    "duration": 29,
    "start_time": "2022-10-28T05:21:44.415Z"
   },
   {
    "duration": 6,
    "start_time": "2022-10-28T05:21:44.446Z"
   },
   {
    "duration": 16,
    "start_time": "2022-10-28T05:21:44.453Z"
   },
   {
    "duration": 675,
    "start_time": "2022-10-28T05:21:44.470Z"
   },
   {
    "duration": 230,
    "start_time": "2022-10-28T05:21:45.146Z"
   },
   {
    "duration": 245,
    "start_time": "2022-10-28T05:21:45.378Z"
   },
   {
    "duration": 187,
    "start_time": "2022-10-28T05:21:45.624Z"
   },
   {
    "duration": 7,
    "start_time": "2022-10-28T05:21:45.812Z"
   },
   {
    "duration": 285,
    "start_time": "2022-10-28T05:21:45.821Z"
   },
   {
    "duration": 25,
    "start_time": "2022-10-28T05:21:46.108Z"
   },
   {
    "duration": 4,
    "start_time": "2022-10-28T05:21:46.135Z"
   },
   {
    "duration": 7,
    "start_time": "2022-10-28T05:21:46.141Z"
   },
   {
    "duration": 12,
    "start_time": "2022-10-28T05:21:46.149Z"
   },
   {
    "duration": 6,
    "start_time": "2022-10-28T05:21:46.163Z"
   },
   {
    "duration": 27,
    "start_time": "2022-10-28T05:21:46.171Z"
   },
   {
    "duration": 51,
    "start_time": "2022-10-28T05:21:46.202Z"
   },
   {
    "duration": 7,
    "start_time": "2022-10-28T05:21:46.256Z"
   },
   {
    "duration": 9,
    "start_time": "2022-10-28T05:21:46.265Z"
   },
   {
    "duration": 7,
    "start_time": "2022-10-28T05:21:46.276Z"
   },
   {
    "duration": 10,
    "start_time": "2022-10-28T05:21:46.286Z"
   },
   {
    "duration": 7,
    "start_time": "2022-10-28T05:21:46.298Z"
   },
   {
    "duration": 11,
    "start_time": "2022-10-28T05:21:46.307Z"
   },
   {
    "duration": 17,
    "start_time": "2022-10-28T05:21:46.320Z"
   },
   {
    "duration": 3445,
    "start_time": "2022-10-28T05:21:46.339Z"
   },
   {
    "duration": 7826,
    "start_time": "2022-10-28T05:21:49.785Z"
   },
   {
    "duration": 5,
    "start_time": "2022-10-28T05:21:57.613Z"
   },
   {
    "duration": 4,
    "start_time": "2022-10-28T05:21:57.620Z"
   },
   {
    "duration": 638820,
    "start_time": "2022-10-28T05:21:57.633Z"
   },
   {
    "duration": 1578449,
    "start_time": "2022-10-28T06:40:32.222Z"
   },
   {
    "duration": 6,
    "start_time": "2022-10-28T07:07:03.225Z"
   },
   {
    "duration": 4,
    "start_time": "2022-10-28T07:09:07.686Z"
   },
   {
    "duration": 2,
    "start_time": "2022-10-28T07:09:21.510Z"
   },
   {
    "duration": 630,
    "start_time": "2022-10-28T07:09:26.208Z"
   },
   {
    "duration": 1100,
    "start_time": "2022-10-28T07:09:30.141Z"
   },
   {
    "duration": 6,
    "start_time": "2022-10-28T07:09:35.713Z"
   },
   {
    "duration": 2,
    "start_time": "2022-10-28T07:12:44.659Z"
   },
   {
    "duration": 112,
    "start_time": "2022-10-28T07:13:22.208Z"
   },
   {
    "duration": 2,
    "start_time": "2022-10-28T07:14:29.458Z"
   },
   {
    "duration": 2,
    "start_time": "2022-10-28T07:16:11.350Z"
   },
   {
    "duration": 2,
    "start_time": "2022-10-28T07:16:17.422Z"
   },
   {
    "duration": 7,
    "start_time": "2022-10-28T07:16:25.578Z"
   },
   {
    "duration": 3,
    "start_time": "2022-10-28T07:16:29.932Z"
   },
   {
    "duration": 7,
    "start_time": "2022-10-28T07:16:33.376Z"
   },
   {
    "duration": 3,
    "start_time": "2022-10-28T07:16:43.753Z"
   },
   {
    "duration": 978,
    "start_time": "2022-10-28T07:16:59.257Z"
   },
   {
    "duration": 1168,
    "start_time": "2022-10-28T07:17:03.674Z"
   },
   {
    "duration": 9,
    "start_time": "2022-10-28T07:17:06.506Z"
   },
   {
    "duration": 4,
    "start_time": "2022-10-28T07:17:23.433Z"
   },
   {
    "duration": 4,
    "start_time": "2022-10-28T07:17:33.016Z"
   },
   {
    "duration": 3,
    "start_time": "2022-10-28T07:17:43.549Z"
   },
   {
    "duration": 4,
    "start_time": "2022-10-28T07:17:53.356Z"
   },
   {
    "duration": 2,
    "start_time": "2022-10-28T07:18:19.867Z"
   },
   {
    "duration": 4,
    "start_time": "2022-10-28T07:18:30.058Z"
   },
   {
    "duration": 48,
    "start_time": "2022-10-28T07:18:52.845Z"
   },
   {
    "duration": 26,
    "start_time": "2022-10-28T07:43:37.024Z"
   },
   {
    "duration": 57,
    "start_time": "2022-10-28T07:47:42.933Z"
   },
   {
    "duration": 56,
    "start_time": "2022-10-28T07:48:28.272Z"
   },
   {
    "duration": 3,
    "start_time": "2022-10-28T07:56:15.715Z"
   },
   {
    "duration": 13,
    "start_time": "2022-10-28T08:05:03.670Z"
   },
   {
    "duration": 1165,
    "start_time": "2022-10-28T09:03:55.706Z"
   },
   {
    "duration": 2,
    "start_time": "2022-10-28T09:03:56.873Z"
   },
   {
    "duration": 709,
    "start_time": "2022-10-28T09:03:56.876Z"
   },
   {
    "duration": 25,
    "start_time": "2022-10-28T09:03:57.587Z"
   },
   {
    "duration": 23,
    "start_time": "2022-10-28T09:03:57.614Z"
   },
   {
    "duration": 19,
    "start_time": "2022-10-28T09:03:57.639Z"
   },
   {
    "duration": 15,
    "start_time": "2022-10-28T09:03:57.660Z"
   },
   {
    "duration": 18,
    "start_time": "2022-10-28T09:03:57.676Z"
   },
   {
    "duration": 41,
    "start_time": "2022-10-28T09:03:57.696Z"
   },
   {
    "duration": 6,
    "start_time": "2022-10-28T09:03:57.740Z"
   },
   {
    "duration": 7,
    "start_time": "2022-10-28T09:03:57.748Z"
   },
   {
    "duration": 14,
    "start_time": "2022-10-28T09:03:57.756Z"
   },
   {
    "duration": 15,
    "start_time": "2022-10-28T09:03:57.771Z"
   },
   {
    "duration": 3,
    "start_time": "2022-10-28T09:03:57.787Z"
   },
   {
    "duration": 14,
    "start_time": "2022-10-28T09:03:57.792Z"
   },
   {
    "duration": 478,
    "start_time": "2022-10-28T09:03:57.833Z"
   },
   {
    "duration": 237,
    "start_time": "2022-10-28T09:03:58.313Z"
   },
   {
    "duration": 253,
    "start_time": "2022-10-28T09:03:58.552Z"
   },
   {
    "duration": 180,
    "start_time": "2022-10-28T09:03:58.807Z"
   },
   {
    "duration": 8,
    "start_time": "2022-10-28T09:03:58.989Z"
   },
   {
    "duration": 295,
    "start_time": "2022-10-28T09:03:58.998Z"
   },
   {
    "duration": 20,
    "start_time": "2022-10-28T09:03:59.295Z"
   },
   {
    "duration": 17,
    "start_time": "2022-10-28T09:03:59.317Z"
   },
   {
    "duration": 7,
    "start_time": "2022-10-28T09:03:59.335Z"
   },
   {
    "duration": 12,
    "start_time": "2022-10-28T09:03:59.343Z"
   },
   {
    "duration": 6,
    "start_time": "2022-10-28T09:03:59.356Z"
   },
   {
    "duration": 7,
    "start_time": "2022-10-28T09:03:59.364Z"
   },
   {
    "duration": 31,
    "start_time": "2022-10-28T09:03:59.375Z"
   },
   {
    "duration": 25,
    "start_time": "2022-10-28T09:03:59.408Z"
   },
   {
    "duration": 3,
    "start_time": "2022-10-28T09:03:59.435Z"
   },
   {
    "duration": 6,
    "start_time": "2022-10-28T09:03:59.440Z"
   },
   {
    "duration": 5,
    "start_time": "2022-10-28T09:03:59.448Z"
   },
   {
    "duration": 5,
    "start_time": "2022-10-28T09:03:59.454Z"
   },
   {
    "duration": 11,
    "start_time": "2022-10-28T09:03:59.460Z"
   },
   {
    "duration": 4,
    "start_time": "2022-10-28T09:03:59.473Z"
   },
   {
    "duration": 3521,
    "start_time": "2022-10-28T09:03:59.479Z"
   },
   {
    "duration": 8132,
    "start_time": "2022-10-28T09:04:03.002Z"
   },
   {
    "duration": 5,
    "start_time": "2022-10-28T09:04:11.137Z"
   },
   {
    "duration": 5,
    "start_time": "2022-10-28T09:04:11.144Z"
   },
   {
    "duration": 644938,
    "start_time": "2022-10-28T09:04:11.151Z"
   },
   {
    "duration": 1577282,
    "start_time": "2022-10-28T09:14:56.091Z"
   },
   {
    "duration": 5,
    "start_time": "2022-10-28T09:41:13.374Z"
   },
   {
    "duration": 6,
    "start_time": "2022-10-28T09:41:13.380Z"
   },
   {
    "duration": 956,
    "start_time": "2022-10-28T09:41:13.387Z"
   },
   {
    "duration": 1691,
    "start_time": "2022-10-28T09:41:14.346Z"
   },
   {
    "duration": 7,
    "start_time": "2022-10-28T09:41:16.039Z"
   },
   {
    "duration": 7,
    "start_time": "2022-10-28T09:41:16.048Z"
   },
   {
    "duration": 83,
    "start_time": "2022-10-28T09:41:16.057Z"
   },
   {
    "duration": 73,
    "start_time": "2022-10-28T09:41:16.141Z"
   },
   {
    "duration": 69,
    "start_time": "2022-10-28T09:41:16.236Z"
   },
   {
    "duration": 35,
    "start_time": "2022-10-28T09:41:16.307Z"
   },
   {
    "duration": 0,
    "start_time": "2022-10-28T10:33:57.547Z"
   },
   {
    "duration": 0,
    "start_time": "2022-10-28T10:33:57.550Z"
   },
   {
    "duration": 4,
    "start_time": "2022-10-28T10:34:23.904Z"
   },
   {
    "duration": 4,
    "start_time": "2022-10-28T10:34:35.287Z"
   },
   {
    "duration": 24,
    "start_time": "2022-10-28T10:34:39.878Z"
   },
   {
    "duration": 54,
    "start_time": "2022-10-29T05:02:06.414Z"
   },
   {
    "duration": 1148,
    "start_time": "2022-10-29T05:02:13.810Z"
   },
   {
    "duration": 3,
    "start_time": "2022-10-29T05:02:14.960Z"
   },
   {
    "duration": 4143,
    "start_time": "2022-10-29T05:02:14.965Z"
   },
   {
    "duration": 50,
    "start_time": "2022-10-29T05:02:19.110Z"
   },
   {
    "duration": 35,
    "start_time": "2022-10-29T05:02:19.163Z"
   },
   {
    "duration": 49,
    "start_time": "2022-10-29T05:02:19.199Z"
   },
   {
    "duration": 32,
    "start_time": "2022-10-29T05:02:19.253Z"
   },
   {
    "duration": 31,
    "start_time": "2022-10-29T05:02:19.288Z"
   },
   {
    "duration": 62,
    "start_time": "2022-10-29T05:02:19.321Z"
   },
   {
    "duration": 9,
    "start_time": "2022-10-29T05:02:19.390Z"
   },
   {
    "duration": 10,
    "start_time": "2022-10-29T05:02:19.401Z"
   },
   {
    "duration": 6,
    "start_time": "2022-10-29T05:02:26.891Z"
   },
   {
    "duration": 11,
    "start_time": "2022-10-29T05:04:16.933Z"
   },
   {
    "duration": 16,
    "start_time": "2022-10-29T05:04:17.455Z"
   },
   {
    "duration": 4,
    "start_time": "2022-10-29T05:04:20.802Z"
   },
   {
    "duration": 12,
    "start_time": "2022-10-29T05:04:23.755Z"
   },
   {
    "duration": 698,
    "start_time": "2022-10-29T05:17:59.070Z"
   },
   {
    "duration": 238,
    "start_time": "2022-10-29T05:18:00.305Z"
   },
   {
    "duration": 247,
    "start_time": "2022-10-29T05:18:02.691Z"
   },
   {
    "duration": 168,
    "start_time": "2022-10-29T05:29:30.802Z"
   },
   {
    "duration": 104,
    "start_time": "2022-10-29T05:33:21.271Z"
   },
   {
    "duration": 17,
    "start_time": "2022-10-29T05:35:57.335Z"
   },
   {
    "duration": 21,
    "start_time": "2022-10-29T05:39:22.338Z"
   },
   {
    "duration": 20,
    "start_time": "2022-10-29T05:40:10.698Z"
   },
   {
    "duration": 113,
    "start_time": "2022-10-29T05:40:27.678Z"
   },
   {
    "duration": 444,
    "start_time": "2022-10-29T05:40:40.934Z"
   },
   {
    "duration": 491,
    "start_time": "2022-10-29T05:41:25.764Z"
   },
   {
    "duration": 411,
    "start_time": "2022-10-29T05:41:43.942Z"
   },
   {
    "duration": 331,
    "start_time": "2022-10-29T05:43:39.389Z"
   },
   {
    "duration": 3,
    "start_time": "2022-10-29T05:47:52.149Z"
   },
   {
    "duration": 356,
    "start_time": "2022-10-29T05:48:03.356Z"
   },
   {
    "duration": 399,
    "start_time": "2022-10-29T05:48:32.196Z"
   },
   {
    "duration": 448,
    "start_time": "2022-10-29T05:49:45.701Z"
   },
   {
    "duration": 367,
    "start_time": "2022-10-29T05:50:12.751Z"
   },
   {
    "duration": 522,
    "start_time": "2022-10-29T05:51:19.118Z"
   },
   {
    "duration": 506,
    "start_time": "2022-10-29T05:51:39.738Z"
   },
   {
    "duration": 499,
    "start_time": "2022-10-29T05:52:25.950Z"
   },
   {
    "duration": 18,
    "start_time": "2022-10-29T05:53:48.157Z"
   },
   {
    "duration": 401,
    "start_time": "2022-10-29T05:53:57.653Z"
   },
   {
    "duration": 565,
    "start_time": "2022-10-29T05:55:55.692Z"
   },
   {
    "duration": 453,
    "start_time": "2022-10-29T05:56:17.793Z"
   },
   {
    "duration": 473,
    "start_time": "2022-10-29T05:57:03.088Z"
   },
   {
    "duration": 1364,
    "start_time": "2022-10-29T06:14:17.799Z"
   },
   {
    "duration": 3,
    "start_time": "2022-10-29T06:14:19.165Z"
   },
   {
    "duration": 719,
    "start_time": "2022-10-29T06:14:19.169Z"
   },
   {
    "duration": 23,
    "start_time": "2022-10-29T06:14:19.890Z"
   },
   {
    "duration": 22,
    "start_time": "2022-10-29T06:14:19.914Z"
   },
   {
    "duration": 23,
    "start_time": "2022-10-29T06:14:19.938Z"
   },
   {
    "duration": 17,
    "start_time": "2022-10-29T06:14:19.963Z"
   },
   {
    "duration": 18,
    "start_time": "2022-10-29T06:14:19.981Z"
   },
   {
    "duration": 35,
    "start_time": "2022-10-29T06:14:20.000Z"
   },
   {
    "duration": 5,
    "start_time": "2022-10-29T06:14:20.038Z"
   },
   {
    "duration": 6,
    "start_time": "2022-10-29T06:14:20.045Z"
   },
   {
    "duration": 11,
    "start_time": "2022-10-29T06:14:20.052Z"
   },
   {
    "duration": 18,
    "start_time": "2022-10-29T06:14:20.064Z"
   },
   {
    "duration": 13,
    "start_time": "2022-10-29T06:14:20.084Z"
   },
   {
    "duration": 3,
    "start_time": "2022-10-29T06:14:20.098Z"
   },
   {
    "duration": 34,
    "start_time": "2022-10-29T06:14:20.102Z"
   },
   {
    "duration": 254,
    "start_time": "2022-10-29T06:14:20.137Z"
   },
   {
    "duration": 245,
    "start_time": "2022-10-29T06:14:20.392Z"
   },
   {
    "duration": 234,
    "start_time": "2022-10-29T06:14:20.640Z"
   },
   {
    "duration": 469,
    "start_time": "2022-10-29T06:14:20.876Z"
   },
   {
    "duration": 7,
    "start_time": "2022-10-29T06:14:21.347Z"
   },
   {
    "duration": 264,
    "start_time": "2022-10-29T06:14:21.355Z"
   },
   {
    "duration": 19,
    "start_time": "2022-10-29T06:14:21.627Z"
   },
   {
    "duration": 3,
    "start_time": "2022-10-29T06:14:21.648Z"
   },
   {
    "duration": 4,
    "start_time": "2022-10-29T06:14:21.653Z"
   },
   {
    "duration": 10,
    "start_time": "2022-10-29T06:14:21.659Z"
   },
   {
    "duration": 5,
    "start_time": "2022-10-29T06:14:21.670Z"
   },
   {
    "duration": 9,
    "start_time": "2022-10-29T06:14:21.678Z"
   },
   {
    "duration": 4,
    "start_time": "2022-10-29T06:14:21.689Z"
   },
   {
    "duration": 4,
    "start_time": "2022-10-29T06:14:21.695Z"
   },
   {
    "duration": 2,
    "start_time": "2022-10-29T06:14:21.733Z"
   },
   {
    "duration": 7,
    "start_time": "2022-10-29T06:14:21.736Z"
   },
   {
    "duration": 5,
    "start_time": "2022-10-29T06:14:21.744Z"
   },
   {
    "duration": 6,
    "start_time": "2022-10-29T06:14:21.750Z"
   },
   {
    "duration": 3,
    "start_time": "2022-10-29T06:14:27.477Z"
   },
   {
    "duration": 3717,
    "start_time": "2022-10-29T06:14:37.536Z"
   },
   {
    "duration": 7984,
    "start_time": "2022-10-29T06:18:30.759Z"
   },
   {
    "duration": 6,
    "start_time": "2022-10-29T06:18:40.733Z"
   },
   {
    "duration": 3,
    "start_time": "2022-10-29T06:18:45.068Z"
   },
   {
    "duration": 638406,
    "start_time": "2022-10-29T06:18:48.507Z"
   },
   {
    "duration": 606899,
    "start_time": "2022-10-29T06:31:35.413Z"
   },
   {
    "duration": 1514315,
    "start_time": "2022-10-29T06:41:42.314Z"
   },
   {
    "duration": 6,
    "start_time": "2022-10-29T07:06:56.631Z"
   },
   {
    "duration": 4,
    "start_time": "2022-10-29T07:06:56.639Z"
   },
   {
    "duration": 891,
    "start_time": "2022-10-29T07:06:56.645Z"
   },
   {
    "duration": 1686,
    "start_time": "2022-10-29T07:06:57.538Z"
   },
   {
    "duration": 8,
    "start_time": "2022-10-29T07:06:59.226Z"
   },
   {
    "duration": 23,
    "start_time": "2022-10-29T07:06:59.236Z"
   },
   {
    "duration": 3,
    "start_time": "2022-10-29T07:06:59.323Z"
   },
   {
    "duration": 56,
    "start_time": "2022-10-29T07:06:59.328Z"
   },
   {
    "duration": 66,
    "start_time": "2022-10-29T07:06:59.386Z"
   },
   {
    "duration": 22,
    "start_time": "2022-10-29T07:06:59.454Z"
   },
   {
    "duration": 1293,
    "start_time": "2023-03-15T11:21:35.527Z"
   },
   {
    "duration": 3,
    "start_time": "2023-03-15T11:21:36.823Z"
   },
   {
    "duration": 278,
    "start_time": "2023-03-15T11:21:38.636Z"
   },
   {
    "duration": 20,
    "start_time": "2023-03-15T11:22:11.730Z"
   },
   {
    "duration": 234,
    "start_time": "2023-03-15T11:22:13.277Z"
   },
   {
    "duration": 17,
    "start_time": "2023-03-15T11:22:29.957Z"
   },
   {
    "duration": 9,
    "start_time": "2023-03-15T11:22:30.966Z"
   },
   {
    "duration": 25,
    "start_time": "2023-03-15T11:23:12.564Z"
   },
   {
    "duration": 537,
    "start_time": "2023-03-15T11:23:22.460Z"
   },
   {
    "duration": 8,
    "start_time": "2023-03-15T11:23:48.315Z"
   },
   {
    "duration": 16,
    "start_time": "2023-03-15T11:23:49.511Z"
   },
   {
    "duration": 11,
    "start_time": "2023-03-15T11:23:56.723Z"
   },
   {
    "duration": 18,
    "start_time": "2023-03-15T11:23:57.419Z"
   },
   {
    "duration": 39,
    "start_time": "2023-03-15T11:23:58.033Z"
   },
   {
    "duration": 543,
    "start_time": "2023-03-15T11:23:58.873Z"
   },
   {
    "duration": 498,
    "start_time": "2023-03-15T11:24:01.020Z"
   },
   {
    "duration": 446,
    "start_time": "2023-03-15T11:24:06.054Z"
   },
   {
    "duration": 19,
    "start_time": "2023-03-15T11:24:09.407Z"
   },
   {
    "duration": 9,
    "start_time": "2023-03-15T11:24:09.925Z"
   },
   {
    "duration": 19,
    "start_time": "2023-03-15T11:24:36.307Z"
   },
   {
    "duration": 12,
    "start_time": "2023-03-15T11:24:37.003Z"
   },
   {
    "duration": 11,
    "start_time": "2023-03-15T11:24:38.393Z"
   },
   {
    "duration": 51,
    "start_time": "2023-03-20T05:49:52.309Z"
   },
   {
    "duration": 44,
    "start_time": "2023-03-20T05:50:43.757Z"
   },
   {
    "duration": 41,
    "start_time": "2023-03-20T05:51:12.932Z"
   },
   {
    "duration": 39,
    "start_time": "2023-03-20T05:51:38.582Z"
   },
   {
    "duration": 2812,
    "start_time": "2023-03-22T13:03:43.052Z"
   },
   {
    "duration": 2156,
    "start_time": "2023-03-22T13:03:45.866Z"
   },
   {
    "duration": 2878,
    "start_time": "2023-03-22T13:03:48.025Z"
   },
   {
    "duration": 3,
    "start_time": "2023-03-22T13:03:50.906Z"
   },
   {
    "duration": 673,
    "start_time": "2023-03-22T13:03:50.910Z"
   },
   {
    "duration": 11,
    "start_time": "2023-03-22T13:03:51.585Z"
   },
   {
    "duration": 166,
    "start_time": "2023-03-22T13:03:51.597Z"
   },
   {
    "duration": 11,
    "start_time": "2023-03-22T13:03:51.765Z"
   },
   {
    "duration": 18,
    "start_time": "2023-03-22T13:04:28.109Z"
   },
   {
    "duration": 464,
    "start_time": "2023-03-22T13:04:28.734Z"
   },
   {
    "duration": 9,
    "start_time": "2023-03-22T13:04:30.848Z"
   },
   {
    "duration": 12,
    "start_time": "2023-03-22T13:04:31.053Z"
   },
   {
    "duration": 20,
    "start_time": "2023-03-22T13:04:31.488Z"
   },
   {
    "duration": 472,
    "start_time": "2023-03-22T13:04:31.833Z"
   },
   {
    "duration": 480,
    "start_time": "2023-03-22T13:04:32.307Z"
   },
   {
    "duration": 461,
    "start_time": "2023-03-22T13:04:32.789Z"
   },
   {
    "duration": 12,
    "start_time": "2023-03-22T13:04:33.252Z"
   },
   {
    "duration": 16,
    "start_time": "2023-03-22T13:04:34.172Z"
   },
   {
    "duration": 11,
    "start_time": "2023-03-22T13:04:34.367Z"
   },
   {
    "duration": 2149,
    "start_time": "2023-03-22T13:04:35.853Z"
   },
   {
    "duration": 25,
    "start_time": "2023-03-22T13:04:38.004Z"
   },
   {
    "duration": 24,
    "start_time": "2023-03-22T13:04:38.031Z"
   },
   {
    "duration": 26,
    "start_time": "2023-03-22T13:04:38.059Z"
   },
   {
    "duration": 20,
    "start_time": "2023-03-22T13:04:38.087Z"
   },
   {
    "duration": 38,
    "start_time": "2023-03-22T13:04:38.108Z"
   },
   {
    "duration": 24,
    "start_time": "2023-03-22T13:04:38.148Z"
   },
   {
    "duration": 1390,
    "start_time": "2023-03-22T13:04:38.328Z"
   },
   {
    "duration": 7,
    "start_time": "2023-03-22T13:05:11.630Z"
   },
   {
    "duration": 10,
    "start_time": "2023-03-22T13:05:12.043Z"
   },
   {
    "duration": 14,
    "start_time": "2023-03-22T13:05:12.403Z"
   },
   {
    "duration": 279,
    "start_time": "2023-03-22T13:05:12.750Z"
   },
   {
    "duration": 10,
    "start_time": "2023-03-22T13:05:24.947Z"
   },
   {
    "duration": 7,
    "start_time": "2023-03-22T13:06:12.350Z"
   },
   {
    "duration": 426,
    "start_time": "2023-03-22T13:06:13.463Z"
   },
   {
    "duration": 18,
    "start_time": "2023-03-22T13:06:27.045Z"
   },
   {
    "duration": 3,
    "start_time": "2023-03-22T13:06:27.715Z"
   },
   {
    "duration": 11,
    "start_time": "2023-03-22T13:07:11.575Z"
   },
   {
    "duration": 6,
    "start_time": "2023-03-22T13:07:16.598Z"
   },
   {
    "duration": 28,
    "start_time": "2023-03-22T13:07:18.262Z"
   },
   {
    "duration": 7,
    "start_time": "2023-03-22T13:07:50.430Z"
   },
   {
    "duration": 15,
    "start_time": "2023-03-22T13:07:51.587Z"
   },
   {
    "duration": 3,
    "start_time": "2023-03-22T13:07:52.303Z"
   },
   {
    "duration": 7,
    "start_time": "2023-03-22T13:08:20.167Z"
   },
   {
    "duration": 724,
    "start_time": "2023-03-22T13:08:22.061Z"
   },
   {
    "duration": 11,
    "start_time": "2023-03-22T13:08:22.787Z"
   },
   {
    "duration": 14,
    "start_time": "2023-03-22T13:08:23.196Z"
   },
   {
    "duration": 6,
    "start_time": "2023-03-22T13:08:24.146Z"
   },
   {
    "duration": 3,
    "start_time": "2023-03-22T13:08:24.922Z"
   },
   {
    "duration": 8,
    "start_time": "2023-03-22T13:08:25.839Z"
   },
   {
    "duration": 11,
    "start_time": "2023-03-22T13:08:26.282Z"
   },
   {
    "duration": 760,
    "start_time": "2023-03-22T13:08:27.088Z"
   },
   {
    "duration": 5,
    "start_time": "2023-03-22T13:08:27.974Z"
   },
   {
    "duration": 5,
    "start_time": "2023-03-22T13:08:28.608Z"
   },
   {
    "duration": 682,
    "start_time": "2023-03-22T13:08:28.797Z"
   },
   {
    "duration": 8,
    "start_time": "2023-03-22T13:08:29.481Z"
   },
   {
    "duration": 3,
    "start_time": "2023-03-22T13:08:31.666Z"
   },
   {
    "duration": 3,
    "start_time": "2023-03-22T13:08:31.925Z"
   },
   {
    "duration": 7,
    "start_time": "2023-03-22T13:13:24.518Z"
   },
   {
    "duration": 3,
    "start_time": "2023-03-22T13:13:32.282Z"
   },
   {
    "duration": 678,
    "start_time": "2023-03-22T13:13:36.946Z"
   },
   {
    "duration": 5,
    "start_time": "2023-03-22T13:13:38.051Z"
   },
   {
    "duration": 3,
    "start_time": "2023-03-22T13:15:13.638Z"
   },
   {
    "duration": 241034,
    "start_time": "2023-03-22T13:15:14.197Z"
   },
   {
    "duration": 5,
    "start_time": "2023-03-22T13:19:15.232Z"
   },
   {
    "duration": 2284,
    "start_time": "2023-03-23T07:56:42.617Z"
   },
   {
    "duration": 2293,
    "start_time": "2023-03-23T07:56:44.904Z"
   },
   {
    "duration": 2972,
    "start_time": "2023-03-23T07:56:47.199Z"
   },
   {
    "duration": 2,
    "start_time": "2023-03-23T07:56:50.174Z"
   },
   {
    "duration": 286,
    "start_time": "2023-03-23T07:56:50.178Z"
   },
   {
    "duration": 16,
    "start_time": "2023-03-23T07:56:50.466Z"
   },
   {
    "duration": 215,
    "start_time": "2023-03-23T07:56:50.485Z"
   },
   {
    "duration": 14,
    "start_time": "2023-03-23T07:56:50.702Z"
   },
   {
    "duration": 37,
    "start_time": "2023-03-23T07:56:50.719Z"
   },
   {
    "duration": 361,
    "start_time": "2023-03-23T07:56:50.757Z"
   },
   {
    "duration": 12,
    "start_time": "2023-03-23T07:56:51.935Z"
   },
   {
    "duration": 14,
    "start_time": "2023-03-23T07:56:52.150Z"
   },
   {
    "duration": 21,
    "start_time": "2023-03-23T07:56:52.635Z"
   },
   {
    "duration": 448,
    "start_time": "2023-03-23T07:56:53.184Z"
   },
   {
    "duration": 517,
    "start_time": "2023-03-23T07:56:53.733Z"
   },
   {
    "duration": 426,
    "start_time": "2023-03-23T07:56:54.586Z"
   },
   {
    "duration": 15,
    "start_time": "2023-03-23T07:56:55.970Z"
   },
   {
    "duration": 24,
    "start_time": "2023-03-23T07:56:57.565Z"
   },
   {
    "duration": 16,
    "start_time": "2023-03-23T07:56:57.770Z"
   },
   {
    "duration": 2569,
    "start_time": "2023-03-23T07:56:58.327Z"
   },
   {
    "duration": 17,
    "start_time": "2023-03-23T07:57:00.899Z"
   },
   {
    "duration": 86,
    "start_time": "2023-03-23T07:57:00.918Z"
   },
   {
    "duration": 81,
    "start_time": "2023-03-23T07:57:01.007Z"
   },
   {
    "duration": 52,
    "start_time": "2023-03-23T07:57:01.090Z"
   },
   {
    "duration": 71,
    "start_time": "2023-03-23T07:57:01.145Z"
   },
   {
    "duration": 119,
    "start_time": "2023-03-23T07:57:01.218Z"
   },
   {
    "duration": 1797,
    "start_time": "2023-03-23T07:57:01.338Z"
   },
   {
    "duration": 8,
    "start_time": "2023-03-23T07:57:03.141Z"
   },
   {
    "duration": 24,
    "start_time": "2023-03-23T07:57:03.151Z"
   },
   {
    "duration": 25,
    "start_time": "2023-03-23T07:57:03.177Z"
   },
   {
    "duration": 423,
    "start_time": "2023-03-23T07:57:03.893Z"
   },
   {
    "duration": 12,
    "start_time": "2023-03-23T07:57:07.789Z"
   },
   {
    "duration": 8,
    "start_time": "2023-03-23T07:57:09.578Z"
   },
   {
    "duration": 436,
    "start_time": "2023-03-23T07:57:10.917Z"
   },
   {
    "duration": 21,
    "start_time": "2023-03-23T07:57:12.459Z"
   },
   {
    "duration": 4,
    "start_time": "2023-03-23T07:57:12.911Z"
   },
   {
    "duration": 15,
    "start_time": "2023-03-23T07:57:13.847Z"
   },
   {
    "duration": 6,
    "start_time": "2023-03-23T07:57:14.434Z"
   },
   {
    "duration": 30,
    "start_time": "2023-03-23T07:57:14.991Z"
   },
   {
    "duration": 8,
    "start_time": "2023-03-23T07:57:15.649Z"
   },
   {
    "duration": 19,
    "start_time": "2023-03-23T07:57:16.292Z"
   },
   {
    "duration": 3,
    "start_time": "2023-03-23T07:57:16.483Z"
   },
   {
    "duration": 7,
    "start_time": "2023-03-23T07:57:17.642Z"
   },
   {
    "duration": 986,
    "start_time": "2023-03-23T07:57:18.284Z"
   },
   {
    "duration": 15,
    "start_time": "2023-03-23T07:57:19.272Z"
   },
   {
    "duration": 226,
    "start_time": "2023-03-23T07:57:19.289Z"
   },
   {
    "duration": 6,
    "start_time": "2023-03-23T07:57:19.612Z"
   },
   {
    "duration": 4,
    "start_time": "2023-03-23T07:57:20.358Z"
   },
   {
    "duration": 8,
    "start_time": "2023-03-23T07:57:21.526Z"
   },
   {
    "duration": 13,
    "start_time": "2023-03-23T07:57:21.763Z"
   },
   {
    "duration": 882,
    "start_time": "2023-03-23T07:57:23.446Z"
   },
   {
    "duration": 6,
    "start_time": "2023-03-23T07:57:24.478Z"
   },
   {
    "duration": 9,
    "start_time": "2023-03-23T07:57:25.168Z"
   },
   {
    "duration": 895,
    "start_time": "2023-03-23T07:57:25.732Z"
   },
   {
    "duration": 10,
    "start_time": "2023-03-23T07:57:28.662Z"
   },
   {
    "duration": 3,
    "start_time": "2023-03-23T07:57:33.390Z"
   },
   {
    "duration": 4,
    "start_time": "2023-03-23T07:57:33.913Z"
   },
   {
    "duration": 4,
    "start_time": "2023-03-23T07:57:39.191Z"
   },
   {
    "duration": 836,
    "start_time": "2023-03-23T07:57:49.016Z"
   },
   {
    "duration": 6,
    "start_time": "2023-03-23T07:57:49.946Z"
   }
  ],
  "kernelspec": {
   "display_name": "Python 3 (ipykernel)",
   "language": "python",
   "name": "python3"
  },
  "language_info": {
   "codemirror_mode": {
    "name": "ipython",
    "version": 3
   },
   "file_extension": ".py",
   "mimetype": "text/x-python",
   "name": "python",
   "nbconvert_exporter": "python",
   "pygments_lexer": "ipython3",
   "version": "3.9.12"
  },
  "toc": {
   "base_numbering": 1,
   "nav_menu": {},
   "number_sections": true,
   "sideBar": true,
   "skip_h1_title": true,
   "title_cell": "Содержание",
   "title_sidebar": "Contents",
   "toc_cell": true,
   "toc_position": {
    "height": "calc(100% - 180px)",
    "left": "10px",
    "top": "150px",
    "width": "228.062px"
   },
   "toc_section_display": true,
   "toc_window_display": true
  }
 },
 "nbformat": 4,
 "nbformat_minor": 2
}
